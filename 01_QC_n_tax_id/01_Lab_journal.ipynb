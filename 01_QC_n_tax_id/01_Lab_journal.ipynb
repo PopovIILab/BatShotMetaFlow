{
 "cells": [
  {
   "cell_type": "markdown",
   "metadata": {},
   "source": [
    "# **CHAPTER 1. Quality Control and Taxonomic identification**"
   ]
  },
  {
   "cell_type": "markdown",
   "metadata": {},
   "source": [
    "**Install conda env and activate it**"
   ]
  },
  {
   "cell_type": "markdown",
   "metadata": {},
   "source": [
    "```\n",
    "conda env create -f qc_n_tax_id.yaml\n",
    "```\n",
    "\n",
    "```\n",
    "conda activate qc_n_tax_id\n",
    "```"
   ]
  },
  {
   "cell_type": "markdown",
   "metadata": {},
   "source": [
    "> Disclaimer: This part of the work was performed on a university server. The taxonomic identification step using Kraken2 and the PlusPF database requires a minimum of 84 GB of RAM."
   ]
  },
  {
   "cell_type": "markdown",
   "metadata": {},
   "source": [
    "## **Part 1. Combine several `.fastq` files by sample**"
   ]
  },
  {
   "cell_type": "markdown",
   "metadata": {},
   "source": [
    "Import `os` and `shutil`"
   ]
  },
  {
   "cell_type": "code",
   "execution_count": null,
   "metadata": {},
   "outputs": [],
   "source": [
    "import os\n",
    "import shutil"
   ]
  },
  {
   "cell_type": "markdown",
   "metadata": {},
   "source": [
    "Combine files"
   ]
  },
  {
   "cell_type": "code",
   "execution_count": null,
   "metadata": {},
   "outputs": [],
   "source": [
    "# Directory with the source sequences\n",
    "raw_sequences_dir = 'samples/raw_sequences'\n",
    "# Directory for merged sequences\n",
    "unified_sequences_dir = 'samples/unified_sequences'\n",
    "\n",
    "# List of sample folders\n",
    "samples = ['D1', 'D2', 'D3', 'D4', 'D5', 'P1', 'P2', 'P3', 'P4', 'P5']\n",
    "\n",
    "# Create a directory for merged sequences, if it does not exist\n",
    "if not os.path.exists(unified_sequences_dir):\n",
    "    os.makedirs(unified_sequences_dir)\n",
    "\n",
    "for sample in samples:\n",
    "    # Path to the current sample folder\n",
    "    sample_dir = os.path.join(raw_sequences_dir, sample)\n",
    "    # Folder path for merged files of the current sample\n",
    "    sample_output_dir = os.path.join(unified_sequences_dir, sample)\n",
    "    \n",
    "    # Create a folder for merged files, if there is no such folder\n",
    "    if not os.path.exists(sample_output_dir):\n",
    "        os.makedirs(sample_output_dir)\n",
    "    \n",
    "    # File paths to be merged\n",
    "    r1_files_pattern = os.path.join(sample_dir, '*_R1_*.fastq.gz')\n",
    "    r2_files_pattern = os.path.join(sample_dir, '*_R2_*.fastq.gz')\n",
    "    \n",
    "    # Paths for saving merged files\n",
    "    combined_r1_path = os.path.join(sample_output_dir, f'{sample}_combined_R1.fastq.gz')\n",
    "    combined_r2_path = os.path.join(sample_output_dir, f'{sample}_combined_R2.fastq.gz')\n",
    "    \n",
    "    # Merging R1 files\n",
    "    cat_r1_command = f'cat {r1_files_pattern} > {combined_r1_path}'\n",
    "    os.system(cat_r1_command)\n",
    "    \n",
    "    # Merging R2 files\n",
    "    cat_r2_command = f'cat {r2_files_pattern} > {combined_r2_path}'\n",
    "    os.system(cat_r2_command)\n",
    "\n",
    "print(\"File merge completed.\")"
   ]
  },
  {
   "cell_type": "markdown",
   "metadata": {},
   "source": [
    "## **Part 2. Quality control**"
   ]
  },
  {
   "cell_type": "markdown",
   "metadata": {},
   "source": [
    "`QC_pipeline` is a Snakemake pipeline that first runs `FastQC` and then merges its reports with `MultiQC`"
   ]
  },
  {
   "cell_type": "code",
   "execution_count": null,
   "metadata": {},
   "outputs": [],
   "source": [
    "! snakemake -s QC_pipeline --cores all --use-conda"
   ]
  },
  {
   "cell_type": "markdown",
   "metadata": {},
   "source": [
    "As the result of this pipeline `FastQC` reports are stored in `fastqc_reports` folder<br>\n",
    "And `MultiQC` reports are stored in `multiqc_reports`"
   ]
  },
  {
   "cell_type": "markdown",
   "metadata": {},
   "source": [
    "## **Part 3. Taxonomic identification**"
   ]
  },
  {
   "cell_type": "markdown",
   "metadata": {},
   "source": [
    ">Disclaimer: Do not forget to install PlusPF (full) database"
   ]
  },
  {
   "cell_type": "markdown",
   "metadata": {},
   "source": [
    "**Option 1**: Direct download<br>\n",
    "1. Visit https://benlangmead.github.io/aws-indexes/k2<br>\n",
    "2. Download PlusPF (full) `.tar.gz` file<br>\n",
    "3. Unzip it"
   ]
  },
  {
   "cell_type": "markdown",
   "metadata": {},
   "source": [
    "**Option 2**: `kraken2` built-in method (Recommended)<br>\n",
    "\n",
    "```\n",
    "kraken2-build --pluspf --threads $THREADS --db $DBNAME\n",
    "```\n",
    "\n",
    "Replace $THREADS with number of your threads<br>\n",
    "Replace $DBNAME with your desirable path to database<br>"
   ]
  },
  {
   "cell_type": "markdown",
   "metadata": {},
   "source": [
    "We had PlusPF database located by `~/PlusPF` path"
   ]
  },
  {
   "cell_type": "markdown",
   "metadata": {},
   "source": [
    "`kraken2_pipeline` is a Snakemake pipeline that runs `kraken2` against `PlusPF` database"
   ]
  },
  {
   "cell_type": "code",
   "execution_count": null,
   "metadata": {},
   "outputs": [],
   "source": [
    "! snakemake -s kraken2_pipeline --cores all --use-conda"
   ]
  },
  {
   "cell_type": "markdown",
   "metadata": {},
   "source": [
    "As the result of this pipeline reports (`kraken_output.txt` and `kraken_report.txt`) are stored in `kraken2_reports` folder"
   ]
  },
  {
   "cell_type": "markdown",
   "metadata": {},
   "source": [
    "### **Part 3.1. Replace files for convenience**"
   ]
  },
  {
   "cell_type": "markdown",
   "metadata": {},
   "source": [
    "Code below copies `kreport` files from `kraken2_reports/{sample}/{sample}_kraken_report.txt` to `kreports/{sample}_kraken_report.txt`<br>\n",
    "We need `kraken2_reports/{sample}/{sample}_kraken_report.txt` files location as the primary output of `kraken2`<br>\n",
    "We need `kreports/{sample}_kraken_report.txt` files locations for convenience later while downloading data from server"
   ]
  },
  {
   "cell_type": "code",
   "execution_count": 1,
   "metadata": {},
   "outputs": [
    {
     "name": "stdout",
     "output_type": "stream",
     "text": [
      "Copied kraken2_reports/D1/D1_kraken_report.txt to kreports/D1_kraken_report.txt\n",
      "Copied kraken2_reports/D2/D2_kraken_report.txt to kreports/D2_kraken_report.txt\n",
      "Copied kraken2_reports/D3/D3_kraken_report.txt to kreports/D3_kraken_report.txt\n",
      "Copied kraken2_reports/D4/D4_kraken_report.txt to kreports/D4_kraken_report.txt\n",
      "Copied kraken2_reports/D5/D5_kraken_report.txt to kreports/D5_kraken_report.txt\n",
      "Copied kraken2_reports/P1/P1_kraken_report.txt to kreports/P1_kraken_report.txt\n",
      "Copied kraken2_reports/P2/P2_kraken_report.txt to kreports/P2_kraken_report.txt\n",
      "Copied kraken2_reports/P3/P3_kraken_report.txt to kreports/P3_kraken_report.txt\n",
      "Copied kraken2_reports/P4/P4_kraken_report.txt to kreports/P4_kraken_report.txt\n",
      "Copied kraken2_reports/P5/P5_kraken_report.txt to kreports/P5_kraken_report.txt\n",
      "All files copied.\n"
     ]
    }
   ],
   "source": [
    "# Define the samples\n",
    "samples = [\"D1\", \"D2\", \"D3\", \"D4\", \"D5\", \"P1\", \"P2\", \"P3\", \"P4\", \"P5\"]\n",
    "\n",
    "# Define the source and destination directories\n",
    "source_dir = \"kraken2_reports\"\n",
    "dest_dir = \"kreports\"\n",
    "\n",
    "# Create the destination directory if it doesn't exist\n",
    "if not os.path.exists(dest_dir):\n",
    "    os.makedirs(dest_dir)\n",
    "\n",
    "# Copy the report files\n",
    "for sample in samples:\n",
    "    source_file = os.path.join(source_dir, sample, f\"{sample}_kraken_report.txt\")\n",
    "    dest_file = os.path.join(dest_dir, f\"{sample}_kraken_report.txt\")\n",
    "    \n",
    "    if os.path.exists(source_file):\n",
    "        shutil.copy(source_file, dest_file)\n",
    "        print(f\"Copied {source_file} to {dest_file}\")\n",
    "    else:\n",
    "        print(f\"File {source_file} does not exist\")\n",
    "\n",
    "print(\"All files copied.\")"
   ]
  }
 ],
 "metadata": {
  "kernelspec": {
   "display_name": "qc_n_tax_id",
   "language": "python",
   "name": "python3"
  },
  "language_info": {
   "codemirror_mode": {
    "name": "ipython",
    "version": 3
   },
   "file_extension": ".py",
   "mimetype": "text/x-python",
   "name": "python",
   "nbconvert_exporter": "python",
   "pygments_lexer": "ipython3",
   "version": "3.12.0"
  }
 },
 "nbformat": 4,
 "nbformat_minor": 2
}
