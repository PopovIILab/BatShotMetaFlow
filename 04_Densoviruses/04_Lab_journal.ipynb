{
 "cells": [
  {
   "cell_type": "markdown",
   "metadata": {},
   "source": [
    "# **CHAPTER 4. Densoviruses**"
   ]
  },
  {
   "cell_type": "markdown",
   "metadata": {},
   "source": [
    "**Install conda env and activate it**"
   ]
  },
  {
   "cell_type": "markdown",
   "metadata": {},
   "source": [
    "```\n",
    "conda env create -f denso.yaml\n",
    "```\n",
    "\n",
    "```\n",
    "conda activate denso\n",
    "```"
   ]
  },
  {
   "cell_type": "markdown",
   "metadata": {},
   "source": [
    "## **Part 1. Prepare to extract densoviruses from MAGs**"
   ]
  },
  {
   "cell_type": "markdown",
   "metadata": {},
   "source": [
    "Create a directory where complete genomes of densoviruses from `RefSeq` database will be stored"
   ]
  },
  {
   "cell_type": "code",
   "execution_count": 1,
   "metadata": {},
   "outputs": [],
   "source": [
    "! mkdir genbank_seqs"
   ]
  },
  {
   "cell_type": "markdown",
   "metadata": {},
   "source": [
    "Download densoviruses complete genomes from `RefSeq` database to `genbank_seqs/refseq_densoviruses.fa` file"
   ]
  },
  {
   "cell_type": "code",
   "execution_count": 4,
   "metadata": {},
   "outputs": [],
   "source": [
    "! esearch -email iljapopov17@gmail.com -db nucleotide -query 'Densovirus AND \"complete genome\" AND srcdb_refseq[PROP]' | efetch -format fasta -mode text > genbank_seqs/densoviruses_genomes.fa"
   ]
  },
  {
   "cell_type": "markdown",
   "metadata": {},
   "source": [
    "Create a directory where `BLAST` custom database of densoviruses complete genomes will be stored"
   ]
  },
  {
   "cell_type": "code",
   "execution_count": 8,
   "metadata": {},
   "outputs": [],
   "source": [
    "! mkdir densovirus_blast_db"
   ]
  },
  {
   "cell_type": "markdown",
   "metadata": {},
   "source": [
    "Create `BLAST` database"
   ]
  },
  {
   "cell_type": "code",
   "execution_count": 9,
   "metadata": {},
   "outputs": [
    {
     "name": "stdout",
     "output_type": "stream",
     "text": [
      "\n",
      "\n",
      "Building a new DB, current time: 08/06/2024 18:02:19\n",
      "New DB name:   /home/user/BatMetagenome2x150/Clean_journals/Densoviruses/densovirus_custom_db/densovirus_db\n",
      "New DB title:  refseq_seqs/refseq_densoviruses.fa\n",
      "Sequence type: Nucleotide\n",
      "Keep MBits: T\n",
      "Maximum file size: 3000000000B\n",
      "Adding sequences from FASTA; added 56 sequences in 0.022052 seconds.\n",
      "\n",
      "\n"
     ]
    }
   ],
   "source": [
    "! makeblastdb -in refseq_seqs/refseq_densoviruses.fa -dbtype nucl -out densovirus_blast_db/densovirus_db"
   ]
  },
  {
   "cell_type": "markdown",
   "metadata": {},
   "source": [
    "## **Part 2. Extract densoviruses from MAGs**"
   ]
  },
  {
   "cell_type": "markdown",
   "metadata": {},
   "source": [
    ">Disclaimer: it is important to install `VirSorter2` with all the requirements and dependecies. <br>\n",
    "> Although `VirSorter2` will be installed with `denso.yaml` conda envinronment it is also important to install the database needed. Please follow the official [installation guide](https://github.com/jiarong/VirSorter2#download-database-and-dependencies)<br>\n",
    "> In the `denso.yaml` `VirSorter2` is already installed with `conda` so proceed to:\n",
    "> ```\n",
    "># just in case there is a failed attemp before; \n",
    ">#   remove the whole diretory specified by -d\n",
    ">rm -rf virsorter_db\n",
    "># run setup\n",
    ">virsorter setup -d virsorter_db -j 4\n",
    "> ```"
   ]
  },
  {
   "cell_type": "markdown",
   "metadata": {},
   "source": [
    "`VirExtr_pipeline` is a Snakemake pipeline that runs filtered MAGs from the previous chapter against custom `BLAST` database with reference genomes of densoviruses. Then it extracts longest alignment sequences to a `.fasta` files. Finally, it runs `VirSorter2` to assess viral genomes."
   ]
  },
  {
   "cell_type": "code",
   "execution_count": null,
   "metadata": {},
   "outputs": [],
   "source": [
    "! snakemake -s VirExtr_pipeline --cores all --use-conda"
   ]
  },
  {
   "cell_type": "markdown",
   "metadata": {},
   "source": [
    "As the result of this pipeline:\n",
    "- `BLAST` results are stored in `BLAST_vs_densovirus` folder<br>\n",
    "- Extracted densoviruses are stored in `viral_genomes` folder<br>\n",
    "- `VirSorter2` results are sorted in `VirSorted2_results` folder"
   ]
  },
  {
   "cell_type": "markdown",
   "metadata": {},
   "source": [
    "Extracted densoviruses genomes are named like this:<br>\n",
    "`>NODE_632_length_4705_cov_657475.178280`<br>\n",
    "It is no use! `Prokka` will not take it as an input as the seqs names are too long<br>\n",
    "\n",
    "That is why we will rename sequences:<br>\n",
    "- Densoviruses from `D` samples will be renamed to `Densovirinae_sp._isolate_RBHC_VM_#`<br>\n",
    "- Densoviruses from `P` samples will be renamed to `Densovirinae_sp._isolate_RBHC_NN_#`<br>\n",
    "\n",
    "`VM` stands for _Vespertilio murinus_<br>\n",
    "`NN` stands for _Nyctalus noctula_"
   ]
  },
  {
   "cell_type": "code",
   "execution_count": 7,
   "metadata": {},
   "outputs": [],
   "source": [
    "# Usage\n",
    "# {path_to_script} {path_to_input_folder}\n",
    "%run scripts/rename_seqs.py viral_genomes/"
   ]
  },
  {
   "cell_type": "markdown",
   "metadata": {},
   "source": [
    "Let's check how the script worked"
   ]
  },
  {
   "cell_type": "code",
   "execution_count": 1,
   "metadata": {},
   "outputs": [
    {
     "name": "stdout",
     "output_type": "stream",
     "text": [
      ">Densovirinae_sp._isolate_RBHC_VM_1\n"
     ]
    }
   ],
   "source": [
    "! head -1 viral_genomes/Densovirus_D1.fasta"
   ]
  },
  {
   "cell_type": "markdown",
   "metadata": {},
   "source": [
    "That's it!"
   ]
  },
  {
   "cell_type": "markdown",
   "metadata": {},
   "source": [
    "## **Part 3. Prepare for genome annotation of densoviruses**"
   ]
  },
  {
   "cell_type": "markdown",
   "metadata": {},
   "source": [
    "Download densoviruses proteins from `Protein` database to `genbank_seqs/densoviruses_proteins.fa` file"
   ]
  },
  {
   "cell_type": "code",
   "execution_count": 5,
   "metadata": {},
   "outputs": [],
   "source": [
    "! esearch -email iljapopov17@gmail.com -db protein -query 'Densovirus' | efetch -format fasta -mode text > genbank_seqs/densoviruses_proteins.fa"
   ]
  },
  {
   "cell_type": "markdown",
   "metadata": {},
   "source": [
    "## **Part 4. Genome annotation of densoviruses**"
   ]
  },
  {
   "cell_type": "markdown",
   "metadata": {},
   "source": [
    "### **Part 4.1. Genome annotation**"
   ]
  },
  {
   "cell_type": "markdown",
   "metadata": {},
   "source": [
    "`GA_pipeline` is a Snakemake pipeline that annotates isolated from MAGs densoviral genomes with `prokka` and densoviruses proteins from NCBI `Proteins` database downloaded in the cell above."
   ]
  },
  {
   "cell_type": "code",
   "execution_count": null,
   "metadata": {},
   "outputs": [],
   "source": [
    "! snakemake -s GA_pipeline --cores all"
   ]
  },
  {
   "cell_type": "markdown",
   "metadata": {},
   "source": [
    "As the result of this pipeline:\n",
    "- `prokka` results are stored in `prokka_results` folder"
   ]
  },
  {
   "cell_type": "markdown",
   "metadata": {},
   "source": [
    "### **Part 4.2. Fix `prokka` `.gbk` outputs**"
   ]
  },
  {
   "cell_type": "markdown",
   "metadata": {},
   "source": [
    "Let's look at the `.gbk` files, especially at the 1st row of the file"
   ]
  },
  {
   "cell_type": "code",
   "execution_count": 8,
   "metadata": {},
   "outputs": [
    {
     "name": "stdout",
     "output_type": "stream",
     "text": [
      "LOCUS       Densovirinae_sp._isolate_RBHC_VM_14705 bp   DNA linear\n"
     ]
    }
   ],
   "source": [
    "! head -1 prokka_results/annotated_densovirus_D1/Densovirus_D1_annot.gbk"
   ]
  },
  {
   "cell_type": "markdown",
   "metadata": {},
   "source": [
    "Well... `prokka` makes a headache problem...<br>\n",
    "There is no space between sample number and seq length! `pyGenomeViz` will not take this `.gbk` as an input!<br>\n",
    "Let's fix it!"
   ]
  },
  {
   "cell_type": "markdown",
   "metadata": {},
   "source": [
    "`scripts/add_space_gbk.py` will fix \"space problem\". Just run this script. It will make changes exactly in the same file."
   ]
  },
  {
   "cell_type": "code",
   "execution_count": 6,
   "metadata": {},
   "outputs": [
    {
     "name": "stdout",
     "output_type": "stream",
     "text": [
      "Processing file: prokka_results/annotated_densovirus_D1/Densovirus_D1_annot.gbk\n",
      "Processing file: prokka_results/annotated_densovirus_D2/Densovirus_D2_annot.gbk\n",
      "Processing file: prokka_results/annotated_densovirus_D3/Densovirus_D3_annot.gbk\n",
      "Processing file: prokka_results/annotated_densovirus_D4/Densovirus_D4_annot.gbk\n",
      "Processing file: prokka_results/annotated_densovirus_D5/Densovirus_D5_annot.gbk\n",
      "Processing file: prokka_results/annotated_densovirus_P1/Densovirus_P1_annot.gbk\n",
      "Processing file: prokka_results/annotated_densovirus_P2/Densovirus_P2_annot.gbk\n",
      "Processing file: prokka_results/annotated_densovirus_P3/Densovirus_P3_annot.gbk\n",
      "Processing file: prokka_results/annotated_densovirus_P4/Densovirus_P4_annot.gbk\n",
      "Processing file: prokka_results/annotated_densovirus_P5/Densovirus_P5_annot.gbk\n"
     ]
    }
   ],
   "source": [
    "# Usage\n",
    "# {path_to_script}\n",
    "%run scripts/add_space_gbk.py"
   ]
  },
  {
   "cell_type": "code",
   "execution_count": 9,
   "metadata": {},
   "outputs": [
    {
     "name": "stdout",
     "output_type": "stream",
     "text": [
      "LOCUS       Densovirinae_sp._isolate_RBHC_VM_1 4705 bp   DNA linear\n"
     ]
    }
   ],
   "source": [
    "! head -1 prokka_results/annotated_densovirus_D1/Densovirus_D1_annot.gbk"
   ]
  },
  {
   "cell_type": "markdown",
   "metadata": {},
   "source": [
    "Hooray!"
   ]
  },
  {
   "cell_type": "markdown",
   "metadata": {},
   "source": [
    "## **Part 5. Comparison of densoviruses**"
   ]
  },
  {
   "cell_type": "markdown",
   "metadata": {},
   "source": [
    "### **Part 5.1. Install `fastANI`**"
   ]
  },
  {
   "cell_type": "markdown",
   "metadata": {},
   "source": [
    "Download it from `GitHub`"
   ]
  },
  {
   "cell_type": "code",
   "execution_count": null,
   "metadata": {},
   "outputs": [],
   "source": [
    "! wget https://github.com/ParBLiSS/FastANI/releases/download/v1.34/fastANI-linux64-v1.34.zip"
   ]
  },
  {
   "cell_type": "markdown",
   "metadata": {},
   "source": [
    "Make directory to store `ANI` files and results"
   ]
  },
  {
   "cell_type": "code",
   "execution_count": null,
   "metadata": {},
   "outputs": [],
   "source": [
    "! mkdir ANI"
   ]
  },
  {
   "cell_type": "markdown",
   "metadata": {},
   "source": [
    "Unzip donwloaded from `GitHub` archive and delete it"
   ]
  },
  {
   "cell_type": "code",
   "execution_count": null,
   "metadata": {},
   "outputs": [],
   "source": [
    "! unzip fastANI-linux64-v1.34.zip -d ANI && rm -rf fastANI-linux64-v1.34.zip"
   ]
  },
  {
   "cell_type": "markdown",
   "metadata": {},
   "source": [
    "### **Part 5.2. Run `fastANI`**"
   ]
  },
  {
   "cell_type": "code",
   "execution_count": null,
   "metadata": {},
   "outputs": [],
   "source": [
    "! ANI/fastANI --ql ANI/querylist.txt --rl ANI/reflist.txt -o ANI/fastani.out --matrix"
   ]
  },
  {
   "cell_type": "markdown",
   "metadata": {},
   "source": [
    "### **Part 5.3. Visualize**"
   ]
  },
  {
   "cell_type": "markdown",
   "metadata": {},
   "source": [
    "Rename `viral_genomes/Densovirus_{sample}.fasta` to `Densovirinae_sp._isolate_RBHC_{sample}`"
   ]
  },
  {
   "cell_type": "code",
   "execution_count": 80,
   "metadata": {},
   "outputs": [],
   "source": [
    "# Load the contents of the file\n",
    "file_path = 'ANI/fastani.out'\n",
    "\n",
    "with open(file_path, 'r') as file:\n",
    "    file_content = file.read()\n",
    "\n",
    "# Define the mapping for renaming the files\n",
    "rename_map = {\n",
    "    \"viral_genomes/Densovirus_D1.fasta\": \"Densovirinae_sp._isolate_RBHC_VM_1\",\n",
    "    \"viral_genomes/Densovirus_D2.fasta\": \"Densovirinae_sp._isolate_RBHC_VM_2\",\n",
    "    \"viral_genomes/Densovirus_D3.fasta\": \"Densovirinae_sp._isolate_RBHC_VM_3\",\n",
    "    \"viral_genomes/Densovirus_D4.fasta\": \"Densovirinae_sp._isolate_RBHC_VM_4\",\n",
    "    \"viral_genomes/Densovirus_D5.fasta\": \"Densovirinae_sp._isolate_RBHC_VM_5\",\n",
    "    \"viral_genomes/Densovirus_P1.fasta\": \"Densovirinae_sp._isolate_RBHC_NN_1\",\n",
    "    \"viral_genomes/Densovirus_P2.fasta\": \"Densovirinae_sp._isolate_RBHC_NN_2\",\n",
    "    \"viral_genomes/Densovirus_P3.fasta\": \"Densovirinae_sp._isolate_RBHC_NN_3\",\n",
    "    \"viral_genomes/Densovirus_P4.fasta\": \"Densovirinae_sp._isolate_RBHC_NN_4\",\n",
    "    \"viral_genomes/Densovirus_P5.fasta\": \"Densovirinae_sp._isolate_RBHC_NN_5\",\n",
    "}\n",
    "\n",
    "# Replace the names in the file content\n",
    "for old_name, new_name in rename_map.items():\n",
    "    file_content = file_content.replace(old_name, new_name)\n",
    "\n",
    "# Save the updated content back to the file\n",
    "with open(file_path, 'w') as file:\n",
    "    file.write(file_content)"
   ]
  },
  {
   "cell_type": "markdown",
   "metadata": {},
   "source": [
    "Import needed `python` modules"
   ]
  },
  {
   "cell_type": "code",
   "execution_count": 1,
   "metadata": {},
   "outputs": [],
   "source": [
    "import pandas as pd\n",
    "import seaborn as sns\n",
    "import matplotlib.pyplot as plt"
   ]
  },
  {
   "cell_type": "markdown",
   "metadata": {},
   "source": [
    "Make directory to store output image"
   ]
  },
  {
   "cell_type": "code",
   "execution_count": 86,
   "metadata": {},
   "outputs": [],
   "source": [
    "! mkdir images"
   ]
  },
  {
   "cell_type": "markdown",
   "metadata": {},
   "source": [
    "Create heatmap!<br>\n",
    "As viruses are extremelly alike the minimal value is set to 99.2"
   ]
  },
  {
   "cell_type": "code",
   "execution_count": null,
   "metadata": {},
   "outputs": [
    {
     "data": {
      "image/png": "[encoded data removed]",
      "text/plain": [
       "<Figure size 1000x800 with 2 Axes>"
      ]
     },
     "metadata": {},
     "output_type": "display_data"
    }
   ],
   "source": [
    "\n",
    "# Load the FastANI output file\n",
    "file_path = \"ANI/fastani.out\"  # Change to your actual path\n",
    "with open(file_path, 'r') as file:\n",
    "    content = file.readlines()\n",
    "\n",
    "# Extracting the necessary data\n",
    "data = []\n",
    "for line in content:\n",
    "    parts = line.strip().split('\\t')\n",
    "    genome1 = parts[0].split('/')[-1]\n",
    "    genome2 = parts[1].split('/')[-1]\n",
    "    ani_value = float(parts[2])\n",
    "    data.append([genome1, genome2, ani_value])\n",
    "\n",
    "# Convert to DataFrame\n",
    "df = pd.DataFrame(data, columns=['Genome1', 'Genome2', 'ANI'])\n",
    "\n",
    "# Create a symmetric ANI matrix by averaging ANI(A, B) and ANI(B, A)\n",
    "df_reversed = df.rename(columns={'Genome1': 'Genome2', 'Genome2': 'Genome1'})  # Swap columns\n",
    "df_combined = pd.concat([df, df_reversed])  # Merge original and reversed\n",
    "df_avg = df_combined.groupby(['Genome1', 'Genome2']).ANI.mean().reset_index()  # Average values\n",
    "\n",
    "# Create a symmetric pivot table\n",
    "pivot_table = df_avg.pivot(index='Genome1', columns='Genome2', values='ANI')\n",
    "\n",
    "# Fill diagonal with 100 (since ANI(A, A) is always 100)\n",
    "for genome in pivot_table.index:\n",
    "    pivot_table.at[genome, genome] = 100\n",
    "\n",
    "# Sort for better visualization\n",
    "pivot_table = pivot_table.sort_index(axis=0).sort_index(axis=1)\n",
    "\n",
    "# Plotting the heatmap\n",
    "plt.figure(figsize=(10, 8))\n",
    "heatmap = sns.heatmap(pivot_table,\n",
    "                      annot=False,\n",
    "                      cmap='YlGnBu',  # Use a clearer colormap\n",
    "                      cbar_kws={'label': 'ANI Percentage'},\n",
    "                      vmin=99.2,\n",
    "                      vmax=100) #,\n",
    "                      #linewidths=1,\n",
    "                      #linecolor='white')\n",
    "\n",
    "#plt.xticks(rotation=45, ha='right')\n",
    "plt.xticks(rotation=90)\n",
    "plt.yticks(rotation=0)\n",
    "plt.xlabel(None)\n",
    "plt.ylabel(None)\n",
    "plt.savefig('images/fastANI_heatmap_x90.png', dpi=600, bbox_inches='tight')"
   ]
  },
  {
   "cell_type": "markdown",
   "metadata": {},
   "source": [
    "## **Part 6. Phylogenomics**"
   ]
  },
  {
   "cell_type": "markdown",
   "metadata": {},
   "source": [
    "### **Part 6.1. Preparation**"
   ]
  },
  {
   "cell_type": "markdown",
   "metadata": {},
   "source": [
    "Make directory for all the `phylogenomics` data"
   ]
  },
  {
   "cell_type": "code",
   "execution_count": 30,
   "metadata": {},
   "outputs": [],
   "source": [
    "! mkdir phylogenomics\n",
    "! mkdir phylogenomics/data/\n",
    "! mkdir phylogenomics/data/proteomes/"
   ]
  },
  {
   "cell_type": "markdown",
   "metadata": {},
   "source": [
    "Copy densoviruses amino acid sequences produces by `prokka` to `phylogenomics/data/proteomes/` directory"
   ]
  },
  {
   "cell_type": "code",
   "execution_count": 31,
   "metadata": {},
   "outputs": [],
   "source": [
    "! cp prokka_results/*/*_annot.faa phylogenomics/data/proteomes/"
   ]
  },
  {
   "cell_type": "markdown",
   "metadata": {},
   "source": [
    "Fetch the list of accession numbers of all the densoviruses from the `RefSeq` database<br>\n",
    "\n",
    "**NB!** Date of accession is Aug 2024"
   ]
  },
  {
   "cell_type": "code",
   "execution_count": 32,
   "metadata": {},
   "outputs": [],
   "source": [
    "! esearch -db nucleotide -query '(\"Ambidensovirus\"[Organism] OR \"densovirus\"[All Fields]) AND \"complete genome\"[All Fields] AND (viruses[filter] AND refseq[filter] AND (\"3000\"[SLEN] : \"6500\"[SLEN]))' | efetch -format acc > phylogenomics/data/accession_numbers.txt"
   ]
  },
  {
   "cell_type": "code",
   "execution_count": 33,
   "metadata": {},
   "outputs": [],
   "source": [
    "! echo \"MW628494.1\" >> phylogenomics/data/accession_numbers.txt"
   ]
  },
  {
   "cell_type": "markdown",
   "metadata": {},
   "source": [
    "Import `Entrez` from `Biopython` and `os`"
   ]
  },
  {
   "cell_type": "code",
   "execution_count": 34,
   "metadata": {},
   "outputs": [],
   "source": [
    "from Bio import Entrez\n",
    "import os"
   ]
  },
  {
   "cell_type": "markdown",
   "metadata": {},
   "source": [
    "Set the email (NCBI requires it for identification)"
   ]
  },
  {
   "cell_type": "code",
   "execution_count": 35,
   "metadata": {},
   "outputs": [],
   "source": [
    "Entrez.email = \"iljapopov17@gmail.com\""
   ]
  },
  {
   "cell_type": "markdown",
   "metadata": {},
   "source": [
    "Function that will download amino acid sequences from the entries from the list of accession numbers"
   ]
  },
  {
   "cell_type": "code",
   "execution_count": 36,
   "metadata": {},
   "outputs": [],
   "source": [
    "# Function to download proteomes from NCBI\n",
    "def download_proteome(accession, output_dir):\n",
    "    # EFetch to download the fasta_cds_aa file\n",
    "    handle = Entrez.efetch(db=\"nuccore\", id=accession, rettype=\"fasta_cds_aa\", retmode=\"text\")\n",
    "    data = handle.read()\n",
    "    handle.close()\n",
    "    \n",
    "    # Save the fasta data\n",
    "    output_file = os.path.join(output_dir, f\"{accession}_proteome.fasta\")\n",
    "    with open(output_file, \"w\") as f:\n",
    "        f.write(data)\n",
    "    print(f\"Downloaded: {accession}\")\n",
    "\n",
    "# Function to process the list of accession numbers\n",
    "def process_accession_list(file_path, output_dir):\n",
    "    # Ensure the output directory exists\n",
    "    os.makedirs(output_dir, exist_ok=True)\n",
    "    \n",
    "    # Read the accession numbers from the file\n",
    "    with open(file_path, \"r\") as file:\n",
    "        accessions = [line.strip() for line in file.readlines()]\n",
    "    \n",
    "    # Download each proteome\n",
    "    for accession in accessions:\n",
    "        download_proteome(accession, output_dir)"
   ]
  },
  {
   "cell_type": "markdown",
   "metadata": {},
   "source": [
    "Run the function to download amino acid sequences of densoviruses from `RefSeq` database"
   ]
  },
  {
   "cell_type": "code",
   "execution_count": null,
   "metadata": {},
   "outputs": [],
   "source": [
    "# Input: File with accession numbers and output directory\n",
    "accession_file = \"phylogenomics/data/accession_numbers.txt\"\n",
    "output_directory = \"phylogenomics/data/proteomes/\"\n",
    "\n",
    "# Run the process\n",
    "process_accession_list(accession_file, output_directory)"
   ]
  },
  {
   "cell_type": "markdown",
   "metadata": {},
   "source": [
    "### **Part 6.2. \"Sequence brushing\"**"
   ]
  },
  {
   "cell_type": "markdown",
   "metadata": {},
   "source": [
    "Let's look at the sequences' names"
   ]
  },
  {
   "cell_type": "code",
   "execution_count": 38,
   "metadata": {},
   "outputs": [
    {
     "name": "stdout",
     "output_type": "stream",
     "text": [
      ">KCBIPIHA_00001 structural protein [Blattella germanica densovirus-like virus]\n"
     ]
    }
   ],
   "source": [
    "! head -1 phylogenomics/data/proteomes/Densovirus_D1_annot.faa"
   ]
  },
  {
   "cell_type": "code",
   "execution_count": 39,
   "metadata": {},
   "outputs": [
    {
     "name": "stdout",
     "output_type": "stream",
     "text": [
      ">lcl|NC_000936.1_prot_NP_051016.1_1 [locus_tag=PfdVgp1] [db_xref=GeneID:1457168] [protein=structural protein] [protein_id=NP_051016.1] [location=202..930] [gbkey=CDS]\n"
     ]
    }
   ],
   "source": [
    "! head -1 phylogenomics/data/proteomes/NC_000936.1_proteome.fasta"
   ]
  },
  {
   "cell_type": "markdown",
   "metadata": {},
   "source": [
    "It looks informative, but awful. We will use `Proteinortho` later. And this tool will not take these sequences as the input because of their seqs' names. We must rename them. It will be not a simple process. That's why it will be in several steps."
   ]
  },
  {
   "cell_type": "markdown",
   "metadata": {},
   "source": [
    "Make directory to store renamed sequences<br>\n",
    "And make enough directories to allow step-by-step process"
   ]
  },
  {
   "cell_type": "code",
   "execution_count": 40,
   "metadata": {},
   "outputs": [],
   "source": [
    "! mkdir phylogenomics/data/proteomes_renamed/\n",
    "! mkdir phylogenomics/data/proteomes_renamed/round_1/\n",
    "! mkdir phylogenomics/data/proteomes_renamed/round_2/\n",
    "! mkdir phylogenomics/data/proteomes_renamed/round_3/"
   ]
  },
  {
   "cell_type": "markdown",
   "metadata": {},
   "source": [
    "#### **Part 6.2.1. Round 1**"
   ]
  },
  {
   "cell_type": "markdown",
   "metadata": {},
   "source": [
    "For the 1st round we will:\n",
    "\n",
    "- Make this `>KCBIPIHA_00001 structural protein [Blattella germanica densovirus-like virus]` look like this `>structural protein`<br>\n",
    "- Make this `>lcl|NC_000936.1_prot_NP_051016.1_1 [locus_tag=PfdVgp1] [db_xref=GeneID:1457168] [protein=structural protein] [protein_id=NP_051016.1] [location=202..930] [gbkey=CDS]` look like this `>structural protein`\n",
    "\n",
    "So we will delete everything except the gene names"
   ]
  },
  {
   "cell_type": "code",
   "execution_count": 41,
   "metadata": {},
   "outputs": [],
   "source": [
    "%%bash\n",
    "\n",
    "for file in phylogenomics/data/proteomes/*_annot.faa\n",
    "do sed -E 's/^>([^ ]+) ([^[]+)\\[.*\\]/>\\2/' $file > phylogenomics/data/proteomes_renamed/round_1/$(basename \"$file\" _annot.faa)_renamed.fa\n",
    "done"
   ]
  },
  {
   "cell_type": "code",
   "execution_count": 42,
   "metadata": {},
   "outputs": [],
   "source": [
    "%%bash\n",
    "\n",
    "for file in phylogenomics/data/proteomes/*.fasta\n",
    "do sed -E 's/^>.*\\[protein=([^]]+)\\].*/>\\1/' $file > phylogenomics/data/proteomes_renamed/round_1/$(basename \"$file\" _proteome.fasta)_renamed.fa\n",
    "done"
   ]
  },
  {
   "cell_type": "markdown",
   "metadata": {},
   "source": [
    "Let's check if `sed` did good"
   ]
  },
  {
   "cell_type": "code",
   "execution_count": 43,
   "metadata": {},
   "outputs": [
    {
     "name": "stdout",
     "output_type": "stream",
     "text": [
      ">structural protein \n"
     ]
    }
   ],
   "source": [
    "! head -1 phylogenomics/data/proteomes_renamed/round_1/Densovirus_D1_renamed.fa"
   ]
  },
  {
   "cell_type": "code",
   "execution_count": 44,
   "metadata": {},
   "outputs": [
    {
     "name": "stdout",
     "output_type": "stream",
     "text": [
      ">structural protein\n"
     ]
    }
   ],
   "source": [
    "! head -1 phylogenomics/data/proteomes_renamed/round_1/NC_000936.1_renamed.fa"
   ]
  },
  {
   "cell_type": "markdown",
   "metadata": {},
   "source": [
    "Perfect. Let's move on the 2nd round"
   ]
  },
  {
   "cell_type": "markdown",
   "metadata": {},
   "source": [
    "#### **Part 6.2.2. Round 2**"
   ]
  },
  {
   "cell_type": "markdown",
   "metadata": {},
   "source": [
    "First we need to install `BBMap`"
   ]
  },
  {
   "cell_type": "markdown",
   "metadata": {},
   "source": [
    "Download `.tar.gz` archive"
   ]
  },
  {
   "cell_type": "code",
   "execution_count": null,
   "metadata": {},
   "outputs": [],
   "source": [
    "! wget https://sourceforge.net/projects/bbmap/files/latest/download -O BBMap.tar.gz"
   ]
  },
  {
   "cell_type": "markdown",
   "metadata": {},
   "source": [
    "Unpack it"
   ]
  },
  {
   "cell_type": "code",
   "execution_count": null,
   "metadata": {},
   "outputs": [],
   "source": [
    "! tar -xvzf BBMap.tar.gz"
   ]
  },
  {
   "cell_type": "markdown",
   "metadata": {},
   "source": [
    "Delete the initial archive"
   ]
  },
  {
   "cell_type": "code",
   "execution_count": null,
   "metadata": {},
   "outputs": [],
   "source": [
    "! rm -rf BBMap.tar.gz"
   ]
  },
  {
   "cell_type": "markdown",
   "metadata": {},
   "source": [
    "For the 2nd round we will:\n",
    "\n",
    "- Make this `>structural protein` look like this: `>NC_000936.1_structural protein`<br>\n",
    "\n",
    "So, we will make each sequence unique by binding the information of which exactly virus this gene is"
   ]
  },
  {
   "cell_type": "code",
   "execution_count": null,
   "metadata": {},
   "outputs": [],
   "source": [
    "%%bash\n",
    "\n",
    "for file in phylogenomics/data/proteomes_renamed/round_1/*_renamed.fa\n",
    "do export species_name=$(basename $file _renamed.fa)\n",
    "bbmap/rename.sh in=$file prefix=\"$species_name\" addprefix=true out=phylogenomics/data/proteomes_renamed/round_2/$species_name.fa ignorejunk=true ;\n",
    "done"
   ]
  },
  {
   "cell_type": "markdown",
   "metadata": {},
   "source": [
    "Let's check if `BBMap` did good"
   ]
  },
  {
   "cell_type": "code",
   "execution_count": 47,
   "metadata": {},
   "outputs": [
    {
     "name": "stdout",
     "output_type": "stream",
     "text": [
      ">NC_000936.1_structural protein\n"
     ]
    }
   ],
   "source": [
    "! head -1 phylogenomics/data/proteomes_renamed/round_2/NC_000936.1.fa"
   ]
  },
  {
   "cell_type": "markdown",
   "metadata": {},
   "source": [
    "Perfect"
   ]
  },
  {
   "cell_type": "markdown",
   "metadata": {},
   "source": [
    "#### **Part 6.2.3. Round 3**"
   ]
  },
  {
   "cell_type": "markdown",
   "metadata": {},
   "source": [
    "For the 3rd round we will:\n",
    "\n",
    "- Make this `>Densovirus_P3_structural protein` look like this: `>Densovirus_P3_structural_protein_`<br>\n",
    "\n",
    "So, we will replace each space with underline"
   ]
  },
  {
   "cell_type": "code",
   "execution_count": 48,
   "metadata": {},
   "outputs": [],
   "source": [
    "%%bash\n",
    "\n",
    "for file in phylogenomics/data/proteomes_renamed/round_2/*.fa\n",
    "do sed -E '/^>/ s/ /_/g' $file > phylogenomics/data/proteomes_renamed/round_3/$(basename \"$file\")\n",
    "done"
   ]
  },
  {
   "cell_type": "markdown",
   "metadata": {},
   "source": [
    "Let's check if `sed` did good"
   ]
  },
  {
   "cell_type": "code",
   "execution_count": 49,
   "metadata": {},
   "outputs": [
    {
     "name": "stdout",
     "output_type": "stream",
     "text": [
      ">Densovirus_P3_structural_protein_\n"
     ]
    }
   ],
   "source": [
    "! head -1 phylogenomics/data/proteomes_renamed/round_3/Densovirus_P3.fa"
   ]
  },
  {
   "cell_type": "markdown",
   "metadata": {},
   "source": [
    "Perfect"
   ]
  },
  {
   "cell_type": "markdown",
   "metadata": {},
   "source": [
    "#### **Part 6.2.4. Round 4**"
   ]
  },
  {
   "cell_type": "markdown",
   "metadata": {},
   "source": [
    "Import `SeqIO` from `Biopython`"
   ]
  },
  {
   "cell_type": "code",
   "execution_count": 50,
   "metadata": {},
   "outputs": [],
   "source": [
    "from Bio import SeqIO"
   ]
  },
  {
   "cell_type": "markdown",
   "metadata": {},
   "source": [
    "For the 4th round we will:\n",
    "\n",
    "- Make this `>Densovirus_P3_structural protein` look like this: `>Densovirus_P3_structural_protein__1`<br>\n",
    "\n",
    "So, we will enumerate genes. Some viruses has several structural or nonstructural proteins without enumeration. It will be bad further, so we must enumerate them."
   ]
  },
  {
   "cell_type": "code",
   "execution_count": 51,
   "metadata": {},
   "outputs": [],
   "source": [
    "def rename_sequences(input_dir, output_dir):\n",
    "    # Create the output directory if it doesn't exist\n",
    "    os.makedirs(output_dir, exist_ok=True)\n",
    "    \n",
    "    # Loop through each FASTA file in the directory\n",
    "    for filename in os.listdir(input_dir):\n",
    "        if filename.endswith(\".fasta\") or filename.endswith(\".fa\"):\n",
    "            filepath = os.path.join(input_dir, filename)\n",
    "            output_filepath = os.path.join(output_dir, filename)\n",
    "\n",
    "            # Dictionary to keep track of sequence names and their counts\n",
    "            name_count = {}\n",
    "            \n",
    "            # List to store the updated sequences\n",
    "            updated_sequences = []\n",
    "            \n",
    "            # Read the FASTA file\n",
    "            for record in SeqIO.parse(filepath, \"fasta\"):\n",
    "                name = record.id\n",
    "                \n",
    "                # If the name is already seen, append a count suffix\n",
    "                if name in name_count:\n",
    "                    name_count[name] += 1\n",
    "                    new_name = f\"{name}_{name_count[name]}\"\n",
    "                else:\n",
    "                    name_count[name] = 1\n",
    "                    new_name = f\"{name}_1\"\n",
    "                \n",
    "                # Update the record ID\n",
    "                record.id = new_name\n",
    "                record.description = \"\"  # Optionally clear the description\n",
    "                \n",
    "                # Store the updated record\n",
    "                updated_sequences.append(record)\n",
    "\n",
    "            # Write the updated sequences to a new FASTA file\n",
    "            with open(output_filepath, \"w\") as output_handle:\n",
    "                SeqIO.write(updated_sequences, output_handle, \"fasta\")"
   ]
  },
  {
   "cell_type": "markdown",
   "metadata": {},
   "source": [
    "Run the function above"
   ]
  },
  {
   "cell_type": "code",
   "execution_count": 52,
   "metadata": {},
   "outputs": [],
   "source": [
    "input_dir = \"phylogenomics/data/proteomes_renamed/round_3\"\n",
    "output_dir = \"phylogenomics/data/proteomes_renamed/round_4\"\n",
    "rename_sequences(input_dir, output_dir)"
   ]
  },
  {
   "cell_type": "markdown",
   "metadata": {},
   "source": [
    "Let's check if function `rename_sequences()` did good"
   ]
  },
  {
   "cell_type": "code",
   "execution_count": 53,
   "metadata": {},
   "outputs": [
    {
     "name": "stdout",
     "output_type": "stream",
     "text": [
      ">Densovirus_P3_structural_protein__1\n"
     ]
    }
   ],
   "source": [
    "! head -1 phylogenomics/data/proteomes_renamed/round_4/Densovirus_P3.fa"
   ]
  },
  {
   "cell_type": "markdown",
   "metadata": {},
   "source": [
    "Perfect"
   ]
  },
  {
   "cell_type": "markdown",
   "metadata": {},
   "source": [
    "**Disclaimer**<br>\n",
    "Unfortunatelly, we have to delete the `NC_004284.1 Junonia coenia densovirus, complete genome` from the analysis, because `Proteinortho` complains that this exactly sequence has some inapropriate letters in it."
   ]
  },
  {
   "cell_type": "code",
   "execution_count": 54,
   "metadata": {},
   "outputs": [],
   "source": [
    "! rm -rf phylogenomics/data/proteomes_renamed/round_4/NC_004284.1.fa"
   ]
  },
  {
   "cell_type": "markdown",
   "metadata": {},
   "source": [
    "### **Part 6.3. Launching `Proteinortho` to find the orhologs**"
   ]
  },
  {
   "cell_type": "markdown",
   "metadata": {},
   "source": [
    "Launch `Proteinortho`"
   ]
  },
  {
   "cell_type": "code",
   "execution_count": null,
   "metadata": {},
   "outputs": [],
   "source": [
    "! proteinortho phylogenomics/data/proteomes_renamed/round_4/*.fa -cpus=24"
   ]
  },
  {
   "cell_type": "markdown",
   "metadata": {},
   "source": [
    "Unfortunatelly, `Proteinortho` does not let you to redirect output to any directory you want...<br>\n",
    "That's why we move the files ourselves!<br>\n",
    "For that first we create a directory - `phylogenomics/proteinortho_output/`"
   ]
  },
  {
   "cell_type": "code",
   "execution_count": 56,
   "metadata": {},
   "outputs": [],
   "source": [
    "! mkdir phylogenomics/proteinortho_output/"
   ]
  },
  {
   "cell_type": "markdown",
   "metadata": {},
   "source": [
    "Then we just move any `myproject*` file to `phylogenomics/proteinortho_output/` directory"
   ]
  },
  {
   "cell_type": "code",
   "execution_count": 57,
   "metadata": {},
   "outputs": [],
   "source": [
    "! mv myproject* phylogenomics/proteinortho_output/"
   ]
  },
  {
   "cell_type": "markdown",
   "metadata": {},
   "source": [
    "At this point it is important to take time for manual exploration of the `phylogenomics/proteinortho_output/myproject.proteinortho.tsv` file. To find any single copy orthologs or to find any other interesting genes."
   ]
  },
  {
   "cell_type": "markdown",
   "metadata": {},
   "source": [
    "### **Part 6.4. Extracting orthologs from `Proteinortho` output**"
   ]
  },
  {
   "cell_type": "markdown",
   "metadata": {},
   "source": [
    "Import `pandas`"
   ]
  },
  {
   "cell_type": "code",
   "execution_count": 58,
   "metadata": {},
   "outputs": [],
   "source": [
    "import pandas as pd"
   ]
  },
  {
   "cell_type": "markdown",
   "metadata": {},
   "source": [
    "Read the `phylogenomics/proteinortho_output/myproject.proteinortho.tsv` file into a DataFrame"
   ]
  },
  {
   "cell_type": "code",
   "execution_count": 59,
   "metadata": {},
   "outputs": [],
   "source": [
    "df_all = pd.read_csv('phylogenomics/proteinortho_output/myproject.proteinortho.tsv', sep='\\t')"
   ]
  },
  {
   "cell_type": "markdown",
   "metadata": {},
   "source": [
    "Drop all the rows except 0, 1 and 3"
   ]
  },
  {
   "cell_type": "code",
   "execution_count": 60,
   "metadata": {},
   "outputs": [
    {
     "data": {
      "text/html": [
       "<div>\n",
       "<style scoped>\n",
       "    .dataframe tbody tr th:only-of-type {\n",
       "        vertical-align: middle;\n",
       "    }\n",
       "\n",
       "    .dataframe tbody tr th {\n",
       "        vertical-align: top;\n",
       "    }\n",
       "\n",
       "    .dataframe thead th {\n",
       "        text-align: right;\n",
       "    }\n",
       "</style>\n",
       "<table border=\"1\" class=\"dataframe\">\n",
       "  <thead>\n",
       "    <tr style=\"text-align: right;\">\n",
       "      <th></th>\n",
       "      <th># Species</th>\n",
       "      <th>Genes</th>\n",
       "      <th>Alg.-Conn.</th>\n",
       "      <th>Densovirus_D1.fa</th>\n",
       "      <th>Densovirus_D2.fa</th>\n",
       "      <th>Densovirus_D3.fa</th>\n",
       "      <th>Densovirus_D4.fa</th>\n",
       "      <th>Densovirus_D5.fa</th>\n",
       "      <th>Densovirus_P1.fa</th>\n",
       "      <th>Densovirus_P2.fa</th>\n",
       "      <th>...</th>\n",
       "      <th>NC_077038.1.fa</th>\n",
       "      <th>NC_077050.1.fa</th>\n",
       "      <th>NC_077051.1.fa</th>\n",
       "      <th>NC_077065.1.fa</th>\n",
       "      <th>NC_077069.1.fa</th>\n",
       "      <th>NC_077079.1.fa</th>\n",
       "      <th>NC_077080.1.fa</th>\n",
       "      <th>NC_077081.1.fa</th>\n",
       "      <th>NC_077082.1.fa</th>\n",
       "      <th>NC_077083.1.fa</th>\n",
       "    </tr>\n",
       "  </thead>\n",
       "  <tbody>\n",
       "    <tr>\n",
       "      <th>0</th>\n",
       "      <td>45</td>\n",
       "      <td>45</td>\n",
       "      <td>0.0222</td>\n",
       "      <td>Densovirus_D1_non-structural_protein__1</td>\n",
       "      <td>Densovirus_D2_non-structural_protein__1</td>\n",
       "      <td>Densovirus_D3_non-structural_protein__1</td>\n",
       "      <td>Densovirus_D4_non-structural_protein__1</td>\n",
       "      <td>Densovirus_D5_non-structural_protein__1</td>\n",
       "      <td>Densovirus_P1_non-structural_protein__1</td>\n",
       "      <td>Densovirus_P2_non-structural_protein__1</td>\n",
       "      <td>...</td>\n",
       "      <td>NC_077038.1_nonstructural_protein_2</td>\n",
       "      <td>NC_077050.1_putative_nonstructural_protein_1</td>\n",
       "      <td>*</td>\n",
       "      <td>NC_077065.1_hypothetical_protein_3</td>\n",
       "      <td>NC_077069.1_nonstructural_protein_1_1</td>\n",
       "      <td>NC_077079.1_nonstructural_protein_1</td>\n",
       "      <td>NC_077080.1_nonstructural_protein_1</td>\n",
       "      <td>NC_077081.1_nonstructural_protein_1</td>\n",
       "      <td>NC_077082.1_nonstructural_protein_1</td>\n",
       "      <td>NC_077083.1_nonstructural_protein_1</td>\n",
       "    </tr>\n",
       "    <tr>\n",
       "      <th>1</th>\n",
       "      <td>28</td>\n",
       "      <td>43</td>\n",
       "      <td>0.1920</td>\n",
       "      <td>Densovirus_D1_ORF1__1</td>\n",
       "      <td>Densovirus_D2_ORF1__1</td>\n",
       "      <td>Densovirus_D3_ORF1__1</td>\n",
       "      <td>Densovirus_D4_ORF1__1</td>\n",
       "      <td>Densovirus_D5_ORF1__1</td>\n",
       "      <td>Densovirus_P1_ORF1__1</td>\n",
       "      <td>Densovirus_P2_ORF1__1</td>\n",
       "      <td>...</td>\n",
       "      <td>*</td>\n",
       "      <td>*</td>\n",
       "      <td>*</td>\n",
       "      <td>NC_077065.1_hypothetical_protein_2</td>\n",
       "      <td>*</td>\n",
       "      <td>NC_077079.1_VP1_1</td>\n",
       "      <td>NC_077080.1_VP1_1</td>\n",
       "      <td>*</td>\n",
       "      <td>NC_077082.1_VP1_1</td>\n",
       "      <td>*</td>\n",
       "    </tr>\n",
       "    <tr>\n",
       "      <th>2</th>\n",
       "      <td>12</td>\n",
       "      <td>12</td>\n",
       "      <td>1.0000</td>\n",
       "      <td>Densovirus_D1_structural_protein__1</td>\n",
       "      <td>Densovirus_D2_structural_protein__1</td>\n",
       "      <td>Densovirus_D3_structural_protein__1</td>\n",
       "      <td>Densovirus_D4_structural_protein__1</td>\n",
       "      <td>Densovirus_D5_structural_protein__1</td>\n",
       "      <td>Densovirus_P1_structural_protein__1</td>\n",
       "      <td>Densovirus_P2_structural_protein__1</td>\n",
       "      <td>...</td>\n",
       "      <td>*</td>\n",
       "      <td>*</td>\n",
       "      <td>*</td>\n",
       "      <td>*</td>\n",
       "      <td>*</td>\n",
       "      <td>*</td>\n",
       "      <td>*</td>\n",
       "      <td>*</td>\n",
       "      <td>*</td>\n",
       "      <td>*</td>\n",
       "    </tr>\n",
       "  </tbody>\n",
       "</table>\n",
       "<p>3 rows × 57 columns</p>\n",
       "</div>"
      ],
      "text/plain": [
       "   # Species  Genes  Alg.-Conn.                         Densovirus_D1.fa  \\\n",
       "0         45     45      0.0222  Densovirus_D1_non-structural_protein__1   \n",
       "1         28     43      0.1920                    Densovirus_D1_ORF1__1   \n",
       "2         12     12      1.0000      Densovirus_D1_structural_protein__1   \n",
       "\n",
       "                          Densovirus_D2.fa  \\\n",
       "0  Densovirus_D2_non-structural_protein__1   \n",
       "1                    Densovirus_D2_ORF1__1   \n",
       "2      Densovirus_D2_structural_protein__1   \n",
       "\n",
       "                          Densovirus_D3.fa  \\\n",
       "0  Densovirus_D3_non-structural_protein__1   \n",
       "1                    Densovirus_D3_ORF1__1   \n",
       "2      Densovirus_D3_structural_protein__1   \n",
       "\n",
       "                          Densovirus_D4.fa  \\\n",
       "0  Densovirus_D4_non-structural_protein__1   \n",
       "1                    Densovirus_D4_ORF1__1   \n",
       "2      Densovirus_D4_structural_protein__1   \n",
       "\n",
       "                          Densovirus_D5.fa  \\\n",
       "0  Densovirus_D5_non-structural_protein__1   \n",
       "1                    Densovirus_D5_ORF1__1   \n",
       "2      Densovirus_D5_structural_protein__1   \n",
       "\n",
       "                          Densovirus_P1.fa  \\\n",
       "0  Densovirus_P1_non-structural_protein__1   \n",
       "1                    Densovirus_P1_ORF1__1   \n",
       "2      Densovirus_P1_structural_protein__1   \n",
       "\n",
       "                          Densovirus_P2.fa  ...  \\\n",
       "0  Densovirus_P2_non-structural_protein__1  ...   \n",
       "1                    Densovirus_P2_ORF1__1  ...   \n",
       "2      Densovirus_P2_structural_protein__1  ...   \n",
       "\n",
       "                        NC_077038.1.fa  \\\n",
       "0  NC_077038.1_nonstructural_protein_2   \n",
       "1                                    *   \n",
       "2                                    *   \n",
       "\n",
       "                                 NC_077050.1.fa NC_077051.1.fa  \\\n",
       "0  NC_077050.1_putative_nonstructural_protein_1              *   \n",
       "1                                             *              *   \n",
       "2                                             *              *   \n",
       "\n",
       "                       NC_077065.1.fa                         NC_077069.1.fa  \\\n",
       "0  NC_077065.1_hypothetical_protein_3  NC_077069.1_nonstructural_protein_1_1   \n",
       "1  NC_077065.1_hypothetical_protein_2                                      *   \n",
       "2                                   *                                      *   \n",
       "\n",
       "                        NC_077079.1.fa                       NC_077080.1.fa  \\\n",
       "0  NC_077079.1_nonstructural_protein_1  NC_077080.1_nonstructural_protein_1   \n",
       "1                    NC_077079.1_VP1_1                    NC_077080.1_VP1_1   \n",
       "2                                    *                                    *   \n",
       "\n",
       "                        NC_077081.1.fa                       NC_077082.1.fa  \\\n",
       "0  NC_077081.1_nonstructural_protein_1  NC_077082.1_nonstructural_protein_1   \n",
       "1                                    *                    NC_077082.1_VP1_1   \n",
       "2                                    *                                    *   \n",
       "\n",
       "                        NC_077083.1.fa  \n",
       "0  NC_077083.1_nonstructural_protein_1  \n",
       "1                                    *  \n",
       "2                                    *  \n",
       "\n",
       "[3 rows x 57 columns]"
      ]
     },
     "execution_count": 60,
     "metadata": {},
     "output_type": "execute_result"
    }
   ],
   "source": [
    "for i in range(3, 23 + 1):\n",
    "    df_all = df_all.drop(index=[i])\n",
    "\n",
    "df_all"
   ]
  },
  {
   "cell_type": "markdown",
   "metadata": {},
   "source": [
    "These are the orthologs we will work with:\n",
    "\n",
    "- `Non-structural protein` is presented in 44 viruses (10 from this study and 34 from `RefSeq`)\n",
    "- `ORF1` or `structural protein` is presented in 27 viruses (10 from this study and 17 from `RefSeq`), but in 5 viruses it is not single-copy. We will delete them from our dataset. Which makes this gene to be presented only in 22 viruses (10 from this study and 12 from `RefSeq`)\n",
    "- Another `structural protein` is presented in 11 viruses (10 from this study and 1 from `RefSeq`). It is interesting because its `Alg.-Conn.` parameter = `1.0000`. We must investigate it."
   ]
  },
  {
   "cell_type": "markdown",
   "metadata": {},
   "source": [
    "Delete all non-SCOs"
   ]
  },
  {
   "cell_type": "code",
   "execution_count": 61,
   "metadata": {},
   "outputs": [],
   "source": [
    "df_all.loc[1] = df_all.loc[1].apply(lambda x: x.replace(',', '*') if isinstance(x, str) else x)"
   ]
  },
  {
   "cell_type": "markdown",
   "metadata": {},
   "source": [
    "#### **Part 6.4.1. Non-structural protein**"
   ]
  },
  {
   "cell_type": "code",
   "execution_count": 62,
   "metadata": {},
   "outputs": [],
   "source": [
    "df_nsp = df_all.drop(index=[1,2])"
   ]
  },
  {
   "cell_type": "code",
   "execution_count": 63,
   "metadata": {},
   "outputs": [
    {
     "data": {
      "text/html": [
       "<div>\n",
       "<style scoped>\n",
       "    .dataframe tbody tr th:only-of-type {\n",
       "        vertical-align: middle;\n",
       "    }\n",
       "\n",
       "    .dataframe tbody tr th {\n",
       "        vertical-align: top;\n",
       "    }\n",
       "\n",
       "    .dataframe thead th {\n",
       "        text-align: right;\n",
       "    }\n",
       "</style>\n",
       "<table border=\"1\" class=\"dataframe\">\n",
       "  <thead>\n",
       "    <tr style=\"text-align: right;\">\n",
       "      <th></th>\n",
       "      <th># Species</th>\n",
       "      <th>Genes</th>\n",
       "      <th>Alg.-Conn.</th>\n",
       "      <th>Densovirus_D1.fa</th>\n",
       "      <th>Densovirus_D2.fa</th>\n",
       "      <th>Densovirus_D3.fa</th>\n",
       "      <th>Densovirus_D4.fa</th>\n",
       "      <th>Densovirus_D5.fa</th>\n",
       "      <th>Densovirus_P1.fa</th>\n",
       "      <th>Densovirus_P2.fa</th>\n",
       "      <th>...</th>\n",
       "      <th>NC_077038.1.fa</th>\n",
       "      <th>NC_077050.1.fa</th>\n",
       "      <th>NC_077051.1.fa</th>\n",
       "      <th>NC_077065.1.fa</th>\n",
       "      <th>NC_077069.1.fa</th>\n",
       "      <th>NC_077079.1.fa</th>\n",
       "      <th>NC_077080.1.fa</th>\n",
       "      <th>NC_077081.1.fa</th>\n",
       "      <th>NC_077082.1.fa</th>\n",
       "      <th>NC_077083.1.fa</th>\n",
       "    </tr>\n",
       "  </thead>\n",
       "  <tbody>\n",
       "    <tr>\n",
       "      <th>0</th>\n",
       "      <td>45</td>\n",
       "      <td>45</td>\n",
       "      <td>0.0222</td>\n",
       "      <td>Densovirus_D1_non-structural_protein__1</td>\n",
       "      <td>Densovirus_D2_non-structural_protein__1</td>\n",
       "      <td>Densovirus_D3_non-structural_protein__1</td>\n",
       "      <td>Densovirus_D4_non-structural_protein__1</td>\n",
       "      <td>Densovirus_D5_non-structural_protein__1</td>\n",
       "      <td>Densovirus_P1_non-structural_protein__1</td>\n",
       "      <td>Densovirus_P2_non-structural_protein__1</td>\n",
       "      <td>...</td>\n",
       "      <td>NC_077038.1_nonstructural_protein_2</td>\n",
       "      <td>NC_077050.1_putative_nonstructural_protein_1</td>\n",
       "      <td>*</td>\n",
       "      <td>NC_077065.1_hypothetical_protein_3</td>\n",
       "      <td>NC_077069.1_nonstructural_protein_1_1</td>\n",
       "      <td>NC_077079.1_nonstructural_protein_1</td>\n",
       "      <td>NC_077080.1_nonstructural_protein_1</td>\n",
       "      <td>NC_077081.1_nonstructural_protein_1</td>\n",
       "      <td>NC_077082.1_nonstructural_protein_1</td>\n",
       "      <td>NC_077083.1_nonstructural_protein_1</td>\n",
       "    </tr>\n",
       "  </tbody>\n",
       "</table>\n",
       "<p>1 rows × 57 columns</p>\n",
       "</div>"
      ],
      "text/plain": [
       "   # Species  Genes  Alg.-Conn.                         Densovirus_D1.fa  \\\n",
       "0         45     45      0.0222  Densovirus_D1_non-structural_protein__1   \n",
       "\n",
       "                          Densovirus_D2.fa  \\\n",
       "0  Densovirus_D2_non-structural_protein__1   \n",
       "\n",
       "                          Densovirus_D3.fa  \\\n",
       "0  Densovirus_D3_non-structural_protein__1   \n",
       "\n",
       "                          Densovirus_D4.fa  \\\n",
       "0  Densovirus_D4_non-structural_protein__1   \n",
       "\n",
       "                          Densovirus_D5.fa  \\\n",
       "0  Densovirus_D5_non-structural_protein__1   \n",
       "\n",
       "                          Densovirus_P1.fa  \\\n",
       "0  Densovirus_P1_non-structural_protein__1   \n",
       "\n",
       "                          Densovirus_P2.fa  ...  \\\n",
       "0  Densovirus_P2_non-structural_protein__1  ...   \n",
       "\n",
       "                        NC_077038.1.fa  \\\n",
       "0  NC_077038.1_nonstructural_protein_2   \n",
       "\n",
       "                                 NC_077050.1.fa NC_077051.1.fa  \\\n",
       "0  NC_077050.1_putative_nonstructural_protein_1              *   \n",
       "\n",
       "                       NC_077065.1.fa                         NC_077069.1.fa  \\\n",
       "0  NC_077065.1_hypothetical_protein_3  NC_077069.1_nonstructural_protein_1_1   \n",
       "\n",
       "                        NC_077079.1.fa                       NC_077080.1.fa  \\\n",
       "0  NC_077079.1_nonstructural_protein_1  NC_077080.1_nonstructural_protein_1   \n",
       "\n",
       "                        NC_077081.1.fa                       NC_077082.1.fa  \\\n",
       "0  NC_077081.1_nonstructural_protein_1  NC_077082.1_nonstructural_protein_1   \n",
       "\n",
       "                        NC_077083.1.fa  \n",
       "0  NC_077083.1_nonstructural_protein_1  \n",
       "\n",
       "[1 rows x 57 columns]"
      ]
     },
     "execution_count": 63,
     "metadata": {},
     "output_type": "execute_result"
    }
   ],
   "source": [
    "df_nsp"
   ]
  },
  {
   "cell_type": "markdown",
   "metadata": {},
   "source": [
    "Delete every entry with `*`"
   ]
  },
  {
   "cell_type": "code",
   "execution_count": 64,
   "metadata": {},
   "outputs": [],
   "source": [
    "df_nsp_cols_to_drop = df_nsp.columns[df_nsp.apply(lambda col: col.astype(str).str.contains(r'\\*', regex=True).any())]"
   ]
  },
  {
   "cell_type": "markdown",
   "metadata": {},
   "source": [
    "Examine which entries will be dropped"
   ]
  },
  {
   "cell_type": "code",
   "execution_count": 65,
   "metadata": {},
   "outputs": [
    {
     "data": {
      "text/plain": [
       "Index(['NC_011317.1.fa', 'NC_011545.2.fa', 'NC_012636.1.fa', 'NC_014357.1.fa',\n",
       "       'NC_015115.1.fa', 'NC_020927.1.fa', 'NC_038376.1.fa', 'NC_077018.1.fa',\n",
       "       'NC_077051.1.fa'],\n",
       "      dtype='object')"
      ]
     },
     "execution_count": 65,
     "metadata": {},
     "output_type": "execute_result"
    }
   ],
   "source": [
    "df_nsp_cols_to_drop"
   ]
  },
  {
   "cell_type": "markdown",
   "metadata": {},
   "source": [
    "Save a separate `.tsv` file"
   ]
  },
  {
   "cell_type": "code",
   "execution_count": 66,
   "metadata": {},
   "outputs": [],
   "source": [
    "df_nsp_cleaned = df_nsp.drop(columns=df_nsp_cols_to_drop)\n",
    "df_nsp_cleaned.to_csv('phylogenomics/proteinortho_output/NSPs.tsv', sep='\\t', index=False)"
   ]
  },
  {
   "cell_type": "markdown",
   "metadata": {},
   "source": [
    "#### **Part 6.4.2. Structural protein 1**"
   ]
  },
  {
   "cell_type": "code",
   "execution_count": 67,
   "metadata": {},
   "outputs": [],
   "source": [
    "df_sp = df_all.drop(index=[0, 2])"
   ]
  },
  {
   "cell_type": "code",
   "execution_count": 68,
   "metadata": {},
   "outputs": [
    {
     "data": {
      "text/html": [
       "<div>\n",
       "<style scoped>\n",
       "    .dataframe tbody tr th:only-of-type {\n",
       "        vertical-align: middle;\n",
       "    }\n",
       "\n",
       "    .dataframe tbody tr th {\n",
       "        vertical-align: top;\n",
       "    }\n",
       "\n",
       "    .dataframe thead th {\n",
       "        text-align: right;\n",
       "    }\n",
       "</style>\n",
       "<table border=\"1\" class=\"dataframe\">\n",
       "  <thead>\n",
       "    <tr style=\"text-align: right;\">\n",
       "      <th></th>\n",
       "      <th># Species</th>\n",
       "      <th>Genes</th>\n",
       "      <th>Alg.-Conn.</th>\n",
       "      <th>Densovirus_D1.fa</th>\n",
       "      <th>Densovirus_D2.fa</th>\n",
       "      <th>Densovirus_D3.fa</th>\n",
       "      <th>Densovirus_D4.fa</th>\n",
       "      <th>Densovirus_D5.fa</th>\n",
       "      <th>Densovirus_P1.fa</th>\n",
       "      <th>Densovirus_P2.fa</th>\n",
       "      <th>...</th>\n",
       "      <th>NC_077038.1.fa</th>\n",
       "      <th>NC_077050.1.fa</th>\n",
       "      <th>NC_077051.1.fa</th>\n",
       "      <th>NC_077065.1.fa</th>\n",
       "      <th>NC_077069.1.fa</th>\n",
       "      <th>NC_077079.1.fa</th>\n",
       "      <th>NC_077080.1.fa</th>\n",
       "      <th>NC_077081.1.fa</th>\n",
       "      <th>NC_077082.1.fa</th>\n",
       "      <th>NC_077083.1.fa</th>\n",
       "    </tr>\n",
       "  </thead>\n",
       "  <tbody>\n",
       "    <tr>\n",
       "      <th>1</th>\n",
       "      <td>28</td>\n",
       "      <td>43</td>\n",
       "      <td>0.192</td>\n",
       "      <td>Densovirus_D1_ORF1__1</td>\n",
       "      <td>Densovirus_D2_ORF1__1</td>\n",
       "      <td>Densovirus_D3_ORF1__1</td>\n",
       "      <td>Densovirus_D4_ORF1__1</td>\n",
       "      <td>Densovirus_D5_ORF1__1</td>\n",
       "      <td>Densovirus_P1_ORF1__1</td>\n",
       "      <td>Densovirus_P2_ORF1__1</td>\n",
       "      <td>...</td>\n",
       "      <td>*</td>\n",
       "      <td>*</td>\n",
       "      <td>*</td>\n",
       "      <td>NC_077065.1_hypothetical_protein_2</td>\n",
       "      <td>*</td>\n",
       "      <td>NC_077079.1_VP1_1</td>\n",
       "      <td>NC_077080.1_VP1_1</td>\n",
       "      <td>*</td>\n",
       "      <td>NC_077082.1_VP1_1</td>\n",
       "      <td>*</td>\n",
       "    </tr>\n",
       "  </tbody>\n",
       "</table>\n",
       "<p>1 rows × 57 columns</p>\n",
       "</div>"
      ],
      "text/plain": [
       "   # Species  Genes  Alg.-Conn.       Densovirus_D1.fa       Densovirus_D2.fa  \\\n",
       "1         28     43       0.192  Densovirus_D1_ORF1__1  Densovirus_D2_ORF1__1   \n",
       "\n",
       "        Densovirus_D3.fa       Densovirus_D4.fa       Densovirus_D5.fa  \\\n",
       "1  Densovirus_D3_ORF1__1  Densovirus_D4_ORF1__1  Densovirus_D5_ORF1__1   \n",
       "\n",
       "        Densovirus_P1.fa       Densovirus_P2.fa  ... NC_077038.1.fa  \\\n",
       "1  Densovirus_P1_ORF1__1  Densovirus_P2_ORF1__1  ...              *   \n",
       "\n",
       "  NC_077050.1.fa NC_077051.1.fa                      NC_077065.1.fa  \\\n",
       "1              *              *  NC_077065.1_hypothetical_protein_2   \n",
       "\n",
       "  NC_077069.1.fa     NC_077079.1.fa     NC_077080.1.fa NC_077081.1.fa  \\\n",
       "1              *  NC_077079.1_VP1_1  NC_077080.1_VP1_1              *   \n",
       "\n",
       "      NC_077082.1.fa NC_077083.1.fa  \n",
       "1  NC_077082.1_VP1_1              *  \n",
       "\n",
       "[1 rows x 57 columns]"
      ]
     },
     "execution_count": 68,
     "metadata": {},
     "output_type": "execute_result"
    }
   ],
   "source": [
    "df_sp"
   ]
  },
  {
   "cell_type": "markdown",
   "metadata": {},
   "source": [
    "Delete every entry with `*`"
   ]
  },
  {
   "cell_type": "code",
   "execution_count": 69,
   "metadata": {},
   "outputs": [],
   "source": [
    "df_sp_cols_to_drop = df_sp.columns[df_sp.apply(lambda col: col.astype(str).str.contains(r'\\*', regex=True).any())]"
   ]
  },
  {
   "cell_type": "markdown",
   "metadata": {},
   "source": [
    "Examine which entries will be dropped"
   ]
  },
  {
   "cell_type": "code",
   "execution_count": 70,
   "metadata": {},
   "outputs": [
    {
     "data": {
      "text/plain": [
       "Index(['NC_001899.1.fa', 'NC_003346.1.fa', 'NC_004286.1.fa', 'NC_004287.1.fa',\n",
       "       'NC_004288.1.fa', 'NC_005041.2.fa', 'NC_005341.1.fa', 'NC_006555.1.fa',\n",
       "       'NC_011317.1.fa', 'NC_011545.2.fa', 'NC_012636.1.fa', 'NC_014357.1.fa',\n",
       "       'NC_015115.1.fa', 'NC_015718.1.fa', 'NC_018399.1.fa', 'NC_018450.1.fa',\n",
       "       'NC_019492.1.fa', 'NC_020927.1.fa', 'NC_022564.1.fa', 'NC_026943.1.fa',\n",
       "       'NC_030296.1.fa', 'NC_038376.1.fa', 'NC_040626.1.fa', 'NC_075118.1.fa',\n",
       "       'NC_077018.1.fa', 'NC_077036.1.fa', 'NC_077038.1.fa', 'NC_077050.1.fa',\n",
       "       'NC_077051.1.fa', 'NC_077069.1.fa', 'NC_077081.1.fa', 'NC_077083.1.fa'],\n",
       "      dtype='object')"
      ]
     },
     "execution_count": 70,
     "metadata": {},
     "output_type": "execute_result"
    }
   ],
   "source": [
    "df_sp_cols_to_drop"
   ]
  },
  {
   "cell_type": "markdown",
   "metadata": {},
   "source": [
    "Save a separate `.tsv` file"
   ]
  },
  {
   "cell_type": "code",
   "execution_count": 71,
   "metadata": {},
   "outputs": [],
   "source": [
    "df_sp_cleaned = df_sp.drop(columns=df_sp_cols_to_drop)\n",
    "df_sp_cleaned.to_csv('phylogenomics/proteinortho_output/SPs.tsv', sep='\\t', index=False)"
   ]
  },
  {
   "cell_type": "markdown",
   "metadata": {},
   "source": [
    "#### **Part 6.4.3. Non-structural protein + structural protein 1**"
   ]
  },
  {
   "cell_type": "markdown",
   "metadata": {},
   "source": [
    "We also need a `.tsv` file with NSP and SP"
   ]
  },
  {
   "cell_type": "markdown",
   "metadata": {},
   "source": [
    "Delete every entry with `*`"
   ]
  },
  {
   "cell_type": "code",
   "execution_count": 72,
   "metadata": {},
   "outputs": [],
   "source": [
    "df_nsp_sp = df_all.drop(index=[2])"
   ]
  },
  {
   "cell_type": "code",
   "execution_count": 73,
   "metadata": {},
   "outputs": [
    {
     "data": {
      "text/html": [
       "<div>\n",
       "<style scoped>\n",
       "    .dataframe tbody tr th:only-of-type {\n",
       "        vertical-align: middle;\n",
       "    }\n",
       "\n",
       "    .dataframe tbody tr th {\n",
       "        vertical-align: top;\n",
       "    }\n",
       "\n",
       "    .dataframe thead th {\n",
       "        text-align: right;\n",
       "    }\n",
       "</style>\n",
       "<table border=\"1\" class=\"dataframe\">\n",
       "  <thead>\n",
       "    <tr style=\"text-align: right;\">\n",
       "      <th></th>\n",
       "      <th># Species</th>\n",
       "      <th>Genes</th>\n",
       "      <th>Alg.-Conn.</th>\n",
       "      <th>Densovirus_D1.fa</th>\n",
       "      <th>Densovirus_D2.fa</th>\n",
       "      <th>Densovirus_D3.fa</th>\n",
       "      <th>Densovirus_D4.fa</th>\n",
       "      <th>Densovirus_D5.fa</th>\n",
       "      <th>Densovirus_P1.fa</th>\n",
       "      <th>Densovirus_P2.fa</th>\n",
       "      <th>...</th>\n",
       "      <th>NC_077038.1.fa</th>\n",
       "      <th>NC_077050.1.fa</th>\n",
       "      <th>NC_077051.1.fa</th>\n",
       "      <th>NC_077065.1.fa</th>\n",
       "      <th>NC_077069.1.fa</th>\n",
       "      <th>NC_077079.1.fa</th>\n",
       "      <th>NC_077080.1.fa</th>\n",
       "      <th>NC_077081.1.fa</th>\n",
       "      <th>NC_077082.1.fa</th>\n",
       "      <th>NC_077083.1.fa</th>\n",
       "    </tr>\n",
       "  </thead>\n",
       "  <tbody>\n",
       "    <tr>\n",
       "      <th>0</th>\n",
       "      <td>45</td>\n",
       "      <td>45</td>\n",
       "      <td>0.0222</td>\n",
       "      <td>Densovirus_D1_non-structural_protein__1</td>\n",
       "      <td>Densovirus_D2_non-structural_protein__1</td>\n",
       "      <td>Densovirus_D3_non-structural_protein__1</td>\n",
       "      <td>Densovirus_D4_non-structural_protein__1</td>\n",
       "      <td>Densovirus_D5_non-structural_protein__1</td>\n",
       "      <td>Densovirus_P1_non-structural_protein__1</td>\n",
       "      <td>Densovirus_P2_non-structural_protein__1</td>\n",
       "      <td>...</td>\n",
       "      <td>NC_077038.1_nonstructural_protein_2</td>\n",
       "      <td>NC_077050.1_putative_nonstructural_protein_1</td>\n",
       "      <td>*</td>\n",
       "      <td>NC_077065.1_hypothetical_protein_3</td>\n",
       "      <td>NC_077069.1_nonstructural_protein_1_1</td>\n",
       "      <td>NC_077079.1_nonstructural_protein_1</td>\n",
       "      <td>NC_077080.1_nonstructural_protein_1</td>\n",
       "      <td>NC_077081.1_nonstructural_protein_1</td>\n",
       "      <td>NC_077082.1_nonstructural_protein_1</td>\n",
       "      <td>NC_077083.1_nonstructural_protein_1</td>\n",
       "    </tr>\n",
       "    <tr>\n",
       "      <th>1</th>\n",
       "      <td>28</td>\n",
       "      <td>43</td>\n",
       "      <td>0.1920</td>\n",
       "      <td>Densovirus_D1_ORF1__1</td>\n",
       "      <td>Densovirus_D2_ORF1__1</td>\n",
       "      <td>Densovirus_D3_ORF1__1</td>\n",
       "      <td>Densovirus_D4_ORF1__1</td>\n",
       "      <td>Densovirus_D5_ORF1__1</td>\n",
       "      <td>Densovirus_P1_ORF1__1</td>\n",
       "      <td>Densovirus_P2_ORF1__1</td>\n",
       "      <td>...</td>\n",
       "      <td>*</td>\n",
       "      <td>*</td>\n",
       "      <td>*</td>\n",
       "      <td>NC_077065.1_hypothetical_protein_2</td>\n",
       "      <td>*</td>\n",
       "      <td>NC_077079.1_VP1_1</td>\n",
       "      <td>NC_077080.1_VP1_1</td>\n",
       "      <td>*</td>\n",
       "      <td>NC_077082.1_VP1_1</td>\n",
       "      <td>*</td>\n",
       "    </tr>\n",
       "  </tbody>\n",
       "</table>\n",
       "<p>2 rows × 57 columns</p>\n",
       "</div>"
      ],
      "text/plain": [
       "   # Species  Genes  Alg.-Conn.                         Densovirus_D1.fa  \\\n",
       "0         45     45      0.0222  Densovirus_D1_non-structural_protein__1   \n",
       "1         28     43      0.1920                    Densovirus_D1_ORF1__1   \n",
       "\n",
       "                          Densovirus_D2.fa  \\\n",
       "0  Densovirus_D2_non-structural_protein__1   \n",
       "1                    Densovirus_D2_ORF1__1   \n",
       "\n",
       "                          Densovirus_D3.fa  \\\n",
       "0  Densovirus_D3_non-structural_protein__1   \n",
       "1                    Densovirus_D3_ORF1__1   \n",
       "\n",
       "                          Densovirus_D4.fa  \\\n",
       "0  Densovirus_D4_non-structural_protein__1   \n",
       "1                    Densovirus_D4_ORF1__1   \n",
       "\n",
       "                          Densovirus_D5.fa  \\\n",
       "0  Densovirus_D5_non-structural_protein__1   \n",
       "1                    Densovirus_D5_ORF1__1   \n",
       "\n",
       "                          Densovirus_P1.fa  \\\n",
       "0  Densovirus_P1_non-structural_protein__1   \n",
       "1                    Densovirus_P1_ORF1__1   \n",
       "\n",
       "                          Densovirus_P2.fa  ...  \\\n",
       "0  Densovirus_P2_non-structural_protein__1  ...   \n",
       "1                    Densovirus_P2_ORF1__1  ...   \n",
       "\n",
       "                        NC_077038.1.fa  \\\n",
       "0  NC_077038.1_nonstructural_protein_2   \n",
       "1                                    *   \n",
       "\n",
       "                                 NC_077050.1.fa NC_077051.1.fa  \\\n",
       "0  NC_077050.1_putative_nonstructural_protein_1              *   \n",
       "1                                             *              *   \n",
       "\n",
       "                       NC_077065.1.fa                         NC_077069.1.fa  \\\n",
       "0  NC_077065.1_hypothetical_protein_3  NC_077069.1_nonstructural_protein_1_1   \n",
       "1  NC_077065.1_hypothetical_protein_2                                      *   \n",
       "\n",
       "                        NC_077079.1.fa                       NC_077080.1.fa  \\\n",
       "0  NC_077079.1_nonstructural_protein_1  NC_077080.1_nonstructural_protein_1   \n",
       "1                    NC_077079.1_VP1_1                    NC_077080.1_VP1_1   \n",
       "\n",
       "                        NC_077081.1.fa                       NC_077082.1.fa  \\\n",
       "0  NC_077081.1_nonstructural_protein_1  NC_077082.1_nonstructural_protein_1   \n",
       "1                                    *                    NC_077082.1_VP1_1   \n",
       "\n",
       "                        NC_077083.1.fa  \n",
       "0  NC_077083.1_nonstructural_protein_1  \n",
       "1                                    *  \n",
       "\n",
       "[2 rows x 57 columns]"
      ]
     },
     "execution_count": 73,
     "metadata": {},
     "output_type": "execute_result"
    }
   ],
   "source": [
    "df_nsp_sp"
   ]
  },
  {
   "cell_type": "code",
   "execution_count": 74,
   "metadata": {},
   "outputs": [],
   "source": [
    "df_nsp_sp_cols_to_drop = df_nsp_sp.columns[df_nsp_sp.apply(lambda col: col.astype(str).str.contains(r'\\*', regex=True).any())]"
   ]
  },
  {
   "cell_type": "markdown",
   "metadata": {},
   "source": [
    "Examine which entries will be dropped"
   ]
  },
  {
   "cell_type": "code",
   "execution_count": 75,
   "metadata": {},
   "outputs": [
    {
     "data": {
      "text/plain": [
       "Index(['NC_001899.1.fa', 'NC_003346.1.fa', 'NC_004286.1.fa', 'NC_004287.1.fa',\n",
       "       'NC_004288.1.fa', 'NC_005041.2.fa', 'NC_005341.1.fa', 'NC_006555.1.fa',\n",
       "       'NC_011317.1.fa', 'NC_011545.2.fa', 'NC_012636.1.fa', 'NC_014357.1.fa',\n",
       "       'NC_015115.1.fa', 'NC_015718.1.fa', 'NC_018399.1.fa', 'NC_018450.1.fa',\n",
       "       'NC_019492.1.fa', 'NC_020927.1.fa', 'NC_022564.1.fa', 'NC_026943.1.fa',\n",
       "       'NC_030296.1.fa', 'NC_038376.1.fa', 'NC_040626.1.fa', 'NC_075118.1.fa',\n",
       "       'NC_077018.1.fa', 'NC_077036.1.fa', 'NC_077038.1.fa', 'NC_077050.1.fa',\n",
       "       'NC_077051.1.fa', 'NC_077069.1.fa', 'NC_077081.1.fa', 'NC_077083.1.fa'],\n",
       "      dtype='object')"
      ]
     },
     "execution_count": 75,
     "metadata": {},
     "output_type": "execute_result"
    }
   ],
   "source": [
    "df_nsp_sp_cols_to_drop"
   ]
  },
  {
   "cell_type": "markdown",
   "metadata": {},
   "source": [
    "Save a separate `.tsv` file"
   ]
  },
  {
   "cell_type": "code",
   "execution_count": 76,
   "metadata": {},
   "outputs": [],
   "source": [
    "df_nsp_sp = df_nsp_sp.drop(columns=df_nsp_sp_cols_to_drop)\n",
    "df_nsp_sp.to_csv('phylogenomics/proteinortho_output/All.tsv', sep='\\t', index=False)"
   ]
  },
  {
   "cell_type": "markdown",
   "metadata": {},
   "source": [
    "#### **Part 6.4.4. Structural protein 2**"
   ]
  },
  {
   "cell_type": "code",
   "execution_count": 77,
   "metadata": {},
   "outputs": [],
   "source": [
    "df_interesting = df_all.drop(index=[0, 1])"
   ]
  },
  {
   "cell_type": "code",
   "execution_count": 78,
   "metadata": {},
   "outputs": [
    {
     "data": {
      "text/html": [
       "<div>\n",
       "<style scoped>\n",
       "    .dataframe tbody tr th:only-of-type {\n",
       "        vertical-align: middle;\n",
       "    }\n",
       "\n",
       "    .dataframe tbody tr th {\n",
       "        vertical-align: top;\n",
       "    }\n",
       "\n",
       "    .dataframe thead th {\n",
       "        text-align: right;\n",
       "    }\n",
       "</style>\n",
       "<table border=\"1\" class=\"dataframe\">\n",
       "  <thead>\n",
       "    <tr style=\"text-align: right;\">\n",
       "      <th></th>\n",
       "      <th># Species</th>\n",
       "      <th>Genes</th>\n",
       "      <th>Alg.-Conn.</th>\n",
       "      <th>Densovirus_D1.fa</th>\n",
       "      <th>Densovirus_D2.fa</th>\n",
       "      <th>Densovirus_D3.fa</th>\n",
       "      <th>Densovirus_D4.fa</th>\n",
       "      <th>Densovirus_D5.fa</th>\n",
       "      <th>Densovirus_P1.fa</th>\n",
       "      <th>Densovirus_P2.fa</th>\n",
       "      <th>...</th>\n",
       "      <th>NC_077038.1.fa</th>\n",
       "      <th>NC_077050.1.fa</th>\n",
       "      <th>NC_077051.1.fa</th>\n",
       "      <th>NC_077065.1.fa</th>\n",
       "      <th>NC_077069.1.fa</th>\n",
       "      <th>NC_077079.1.fa</th>\n",
       "      <th>NC_077080.1.fa</th>\n",
       "      <th>NC_077081.1.fa</th>\n",
       "      <th>NC_077082.1.fa</th>\n",
       "      <th>NC_077083.1.fa</th>\n",
       "    </tr>\n",
       "  </thead>\n",
       "  <tbody>\n",
       "    <tr>\n",
       "      <th>2</th>\n",
       "      <td>12</td>\n",
       "      <td>12</td>\n",
       "      <td>1.0</td>\n",
       "      <td>Densovirus_D1_structural_protein__1</td>\n",
       "      <td>Densovirus_D2_structural_protein__1</td>\n",
       "      <td>Densovirus_D3_structural_protein__1</td>\n",
       "      <td>Densovirus_D4_structural_protein__1</td>\n",
       "      <td>Densovirus_D5_structural_protein__1</td>\n",
       "      <td>Densovirus_P1_structural_protein__1</td>\n",
       "      <td>Densovirus_P2_structural_protein__1</td>\n",
       "      <td>...</td>\n",
       "      <td>*</td>\n",
       "      <td>*</td>\n",
       "      <td>*</td>\n",
       "      <td>*</td>\n",
       "      <td>*</td>\n",
       "      <td>*</td>\n",
       "      <td>*</td>\n",
       "      <td>*</td>\n",
       "      <td>*</td>\n",
       "      <td>*</td>\n",
       "    </tr>\n",
       "  </tbody>\n",
       "</table>\n",
       "<p>1 rows × 57 columns</p>\n",
       "</div>"
      ],
      "text/plain": [
       "   # Species  Genes  Alg.-Conn.                     Densovirus_D1.fa  \\\n",
       "2         12     12         1.0  Densovirus_D1_structural_protein__1   \n",
       "\n",
       "                      Densovirus_D2.fa                     Densovirus_D3.fa  \\\n",
       "2  Densovirus_D2_structural_protein__1  Densovirus_D3_structural_protein__1   \n",
       "\n",
       "                      Densovirus_D4.fa                     Densovirus_D5.fa  \\\n",
       "2  Densovirus_D4_structural_protein__1  Densovirus_D5_structural_protein__1   \n",
       "\n",
       "                      Densovirus_P1.fa                     Densovirus_P2.fa  \\\n",
       "2  Densovirus_P1_structural_protein__1  Densovirus_P2_structural_protein__1   \n",
       "\n",
       "   ... NC_077038.1.fa NC_077050.1.fa NC_077051.1.fa NC_077065.1.fa  \\\n",
       "2  ...              *              *              *              *   \n",
       "\n",
       "  NC_077069.1.fa NC_077079.1.fa NC_077080.1.fa NC_077081.1.fa NC_077082.1.fa  \\\n",
       "2              *              *              *              *              *   \n",
       "\n",
       "  NC_077083.1.fa  \n",
       "2              *  \n",
       "\n",
       "[1 rows x 57 columns]"
      ]
     },
     "execution_count": 78,
     "metadata": {},
     "output_type": "execute_result"
    }
   ],
   "source": [
    "df_interesting"
   ]
  },
  {
   "cell_type": "markdown",
   "metadata": {},
   "source": [
    "Delete every entry with `*`"
   ]
  },
  {
   "cell_type": "code",
   "execution_count": 79,
   "metadata": {},
   "outputs": [],
   "source": [
    "df_interesting_cols_to_drop = df_interesting.columns[df_interesting.apply(lambda col: col.astype(str).str.contains(r'\\*', regex=True).any())]"
   ]
  },
  {
   "cell_type": "markdown",
   "metadata": {},
   "source": [
    "Examine which entries will be dropped"
   ]
  },
  {
   "cell_type": "code",
   "execution_count": 80,
   "metadata": {},
   "outputs": [
    {
     "data": {
      "text/plain": [
       "Index(['NC_000936.1.fa', 'NC_001899.1.fa', 'NC_003346.1.fa', 'NC_004286.1.fa',\n",
       "       'NC_004287.1.fa', 'NC_004288.1.fa', 'NC_004289.1.fa', 'NC_004290.1.fa',\n",
       "       'NC_005040.1.fa', 'NC_005041.2.fa', 'NC_005341.1.fa', 'NC_006555.1.fa',\n",
       "       'NC_011317.1.fa', 'NC_011545.2.fa', 'NC_012636.1.fa', 'NC_012685.1.fa',\n",
       "       'NC_014357.1.fa', 'NC_015115.1.fa', 'NC_015718.1.fa', 'NC_018399.1.fa',\n",
       "       'NC_018450.1.fa', 'NC_019492.1.fa', 'NC_020927.1.fa', 'NC_022564.1.fa',\n",
       "       'NC_022748.1.fa', 'NC_026943.1.fa', 'NC_030296.1.fa', 'NC_038376.1.fa',\n",
       "       'NC_040626.1.fa', 'NC_075118.1.fa', 'NC_077018.1.fa', 'NC_077036.1.fa',\n",
       "       'NC_077038.1.fa', 'NC_077050.1.fa', 'NC_077051.1.fa', 'NC_077065.1.fa',\n",
       "       'NC_077069.1.fa', 'NC_077079.1.fa', 'NC_077080.1.fa', 'NC_077081.1.fa',\n",
       "       'NC_077082.1.fa', 'NC_077083.1.fa'],\n",
       "      dtype='object')"
      ]
     },
     "execution_count": 80,
     "metadata": {},
     "output_type": "execute_result"
    }
   ],
   "source": [
    "df_interesting_cols_to_drop"
   ]
  },
  {
   "cell_type": "markdown",
   "metadata": {},
   "source": [
    "Save a separate `.tsv` file"
   ]
  },
  {
   "cell_type": "code",
   "execution_count": 81,
   "metadata": {},
   "outputs": [],
   "source": [
    "df_interesting_cleaned = df_interesting.drop(columns=df_interesting_cols_to_drop)\n",
    "df_interesting_cleaned.to_csv('phylogenomics/proteinortho_output/interesting_gene.tsv', sep='\\t', index=False)"
   ]
  },
  {
   "cell_type": "markdown",
   "metadata": {},
   "source": [
    "### **Part 6.5. Extract orthologs sequences**"
   ]
  },
  {
   "cell_type": "markdown",
   "metadata": {},
   "source": [
    "For this `write_family_names.R` script will be used"
   ]
  },
  {
   "cell_type": "code",
   "execution_count": 82,
   "metadata": {},
   "outputs": [
    {
     "name": "stdout",
     "output_type": "stream",
     "text": [
      "#!/usr/bin/env Rscript\n",
      "args <- commandArgs(trailingOnly=TRUE)\n",
      "\n",
      "# Read the proteinortho table\n",
      "onetoone <- read.delim(args[1])\n",
      "\n",
      "  # Create directory to store SCOs\n",
      "  dir.create(args[2]) #e.g. data/SCOs\n",
      "\n",
      "  # Write name lists to later extract\n",
      "   for (i in 4:ncol(onetoone)) {\n",
      "   writeLines(onetoone[,i], paste0(args[2], names(onetoone[i]), \".names.txt\"))\n",
      "   }\n",
      "   dir.create(args[3])  \n",
      "   # And gene lists grouped by families\n",
      "   for (i in 1:nrow(onetoone)) {\n",
      "   oo <- as.matrix(onetoone)\n",
      "   writeLines(oo[i, 4:ncol(onetoone)], paste0(args[3], \"family\", as.character(i), \".names.txt\"))\n",
      "   }"
     ]
    }
   ],
   "source": [
    "! cat scripts/write_family_names.R"
   ]
  },
  {
   "cell_type": "markdown",
   "metadata": {},
   "source": [
    "This script will take `.tsv` files from the previous step as the input and will write gene names to a separate files"
   ]
  },
  {
   "cell_type": "markdown",
   "metadata": {},
   "source": [
    "#### **Part 6.5.1. Run `write_family_names.R`**"
   ]
  },
  {
   "cell_type": "markdown",
   "metadata": {},
   "source": [
    "##### **Part 6.5.1.1. Non-structural protein**"
   ]
  },
  {
   "cell_type": "code",
   "execution_count": null,
   "metadata": {},
   "outputs": [],
   "source": [
    "! Rscript scripts/write_family_names.R phylogenomics/proteinortho_output/NSPs.tsv phylogenomics/NSPs/ phylogenomics/NSPs_names/"
   ]
  },
  {
   "cell_type": "markdown",
   "metadata": {},
   "source": [
    "##### **Part 6.5.1.2. Structural protein 1**"
   ]
  },
  {
   "cell_type": "code",
   "execution_count": null,
   "metadata": {},
   "outputs": [],
   "source": [
    "! Rscript scripts/write_family_names.R phylogenomics/proteinortho_output/SPs.tsv phylogenomics/SPs/ phylogenomics/SPs_names/"
   ]
  },
  {
   "cell_type": "markdown",
   "metadata": {},
   "source": [
    "##### **Part 6.5.1.3. Non-structural protein + sctructural protein 1**"
   ]
  },
  {
   "cell_type": "code",
   "execution_count": null,
   "metadata": {},
   "outputs": [],
   "source": [
    "! Rscript scripts/write_family_names.R phylogenomics/proteinortho_output/All.tsv phylogenomics/All/ phylogenomics/All_names/"
   ]
  },
  {
   "cell_type": "markdown",
   "metadata": {},
   "source": [
    "##### **Part 6.5.1.4. Sctructural protein 2**"
   ]
  },
  {
   "cell_type": "code",
   "execution_count": null,
   "metadata": {},
   "outputs": [],
   "source": [
    "! Rscript scripts/write_family_names.R phylogenomics/proteinortho_output/interesting_gene.tsv phylogenomics/interesting_gene/ phylogenomics/interesting_gene_names/"
   ]
  },
  {
   "cell_type": "markdown",
   "metadata": {},
   "source": [
    "#### **Part 6.5.2. Extract sequences**"
   ]
  },
  {
   "cell_type": "markdown",
   "metadata": {},
   "source": [
    "For the 1st step we must create the `phylogenomics/data/all_pep.fa` file which will contain all the amino acid sequences from all the viruses"
   ]
  },
  {
   "cell_type": "code",
   "execution_count": 83,
   "metadata": {},
   "outputs": [],
   "source": [
    "! cat phylogenomics/data/proteomes_renamed/round_4/*.fa > phylogenomics/data/all_pep.fa"
   ]
  },
  {
   "cell_type": "markdown",
   "metadata": {},
   "source": [
    "##### **Part 6.5.2.1. Non-structural protein**"
   ]
  },
  {
   "cell_type": "markdown",
   "metadata": {},
   "source": [
    "First we create a directory to store the sequences"
   ]
  },
  {
   "cell_type": "code",
   "execution_count": 84,
   "metadata": {},
   "outputs": [],
   "source": [
    "! mkdir phylogenomics/data/NSPs_seqs/"
   ]
  },
  {
   "cell_type": "markdown",
   "metadata": {},
   "source": [
    "Then we use `BBMap` to extract the sequences"
   ]
  },
  {
   "cell_type": "code",
   "execution_count": null,
   "metadata": {},
   "outputs": [],
   "source": [
    "%%bash\n",
    "\n",
    "for list in phylogenomics/NSPs_names/family*txt\n",
    "do bbmap/filterbyname.sh in=phylogenomics/data/all_pep.fa out=phylogenomics/data/NSPs_seqs/$(basename \"$list\" .names.txt).seq.fa include=t names=$list overwrite=true ignorejunk=true\n",
    "done"
   ]
  },
  {
   "cell_type": "markdown",
   "metadata": {},
   "source": [
    "##### **Part 6.5.2.2. Structural protein 1**"
   ]
  },
  {
   "cell_type": "markdown",
   "metadata": {},
   "source": [
    "First we create a directory to store the sequences"
   ]
  },
  {
   "cell_type": "code",
   "execution_count": 86,
   "metadata": {},
   "outputs": [],
   "source": [
    "! mkdir phylogenomics/data/SPs_seqs/"
   ]
  },
  {
   "cell_type": "markdown",
   "metadata": {},
   "source": [
    "Then we use `BBMap` to extract the sequences"
   ]
  },
  {
   "cell_type": "code",
   "execution_count": null,
   "metadata": {},
   "outputs": [],
   "source": [
    "%%bash\n",
    "\n",
    "for list in phylogenomics/SPs_names/family*txt\n",
    "do bbmap/filterbyname.sh in=phylogenomics/data/all_pep.fa out=phylogenomics/data/SPs_seqs/$(basename \"$list\" .names.txt).seq.fa include=t names=$list overwrite=true ignorejunk=true\n",
    "done"
   ]
  },
  {
   "cell_type": "markdown",
   "metadata": {},
   "source": [
    "##### **Part 6.5.2.3. Non-structural protein + structural protein 1**"
   ]
  },
  {
   "cell_type": "markdown",
   "metadata": {},
   "source": [
    "First we create a directory to store the sequences"
   ]
  },
  {
   "cell_type": "code",
   "execution_count": 88,
   "metadata": {},
   "outputs": [],
   "source": [
    "! mkdir phylogenomics/data/All_seqs/"
   ]
  },
  {
   "cell_type": "markdown",
   "metadata": {},
   "source": [
    "Then we use `BBMap` to extract the sequences"
   ]
  },
  {
   "cell_type": "code",
   "execution_count": null,
   "metadata": {},
   "outputs": [],
   "source": [
    "%%bash\n",
    "\n",
    "for list in phylogenomics/All_names/family*txt\n",
    "do bbmap/filterbyname.sh in=phylogenomics/data/all_pep.fa out=phylogenomics/data/All_seqs/$(basename \"$list\" .names.txt).seq.fa include=t names=$list overwrite=true ignorejunk=true\n",
    "done"
   ]
  },
  {
   "cell_type": "markdown",
   "metadata": {},
   "source": [
    "##### **Part 6.5.2.4. Sctructural protein 2**"
   ]
  },
  {
   "cell_type": "markdown",
   "metadata": {},
   "source": [
    "First we create a directory to store the sequences"
   ]
  },
  {
   "cell_type": "code",
   "execution_count": 90,
   "metadata": {},
   "outputs": [],
   "source": [
    "! mkdir phylogenomics/data/ig_seqs/"
   ]
  },
  {
   "cell_type": "markdown",
   "metadata": {},
   "source": [
    "Then we use `BBMap` to extract the sequences"
   ]
  },
  {
   "cell_type": "code",
   "execution_count": null,
   "metadata": {},
   "outputs": [],
   "source": [
    "%%bash\n",
    "\n",
    "for list in phylogenomics/interesting_gene_names/family*txt\n",
    "do bbmap/filterbyname.sh in=phylogenomics/data/all_pep.fa out=phylogenomics/data/ig_seqs/$(basename \"$list\" .names.txt).seq.fa include=t names=$list overwrite=true ignorejunk=true\n",
    "done"
   ]
  },
  {
   "cell_type": "markdown",
   "metadata": {},
   "source": [
    "#### **Part 6.5.3. Renaming sequences. Again.**"
   ]
  },
  {
   "cell_type": "markdown",
   "metadata": {},
   "source": [
    "##### **Part 6.5.2.1. Non-structural protein**"
   ]
  },
  {
   "cell_type": "markdown",
   "metadata": {},
   "source": [
    "What's wrong with seq names now? Let's take a look"
   ]
  },
  {
   "cell_type": "code",
   "execution_count": 92,
   "metadata": {},
   "outputs": [
    {
     "name": "stdout",
     "output_type": "stream",
     "text": [
      ">Densovirus_D1_non-structural_protein__1\n"
     ]
    }
   ],
   "source": [
    "! head -1 phylogenomics/data/NSPs_seqs/family1.seq.fa"
   ]
  },
  {
   "cell_type": "markdown",
   "metadata": {},
   "source": [
    "Well... We must leave just the viruses names"
   ]
  },
  {
   "cell_type": "markdown",
   "metadata": {},
   "source": [
    "- Make this `>Densovirus_D1_non-structural_protein__1` look like this: `>Densovirus_D1`<br>"
   ]
  },
  {
   "cell_type": "markdown",
   "metadata": {},
   "source": [
    "First we create a directory to store the renamed seqs"
   ]
  },
  {
   "cell_type": "code",
   "execution_count": 93,
   "metadata": {},
   "outputs": [],
   "source": [
    "! mkdir phylogenomics/data/NSPs_seqs_renamed/"
   ]
  },
  {
   "cell_type": "code",
   "execution_count": 94,
   "metadata": {},
   "outputs": [],
   "source": [
    "%%bash\n",
    "\n",
    "for file in phylogenomics/data/NSPs_seqs/*.fa\n",
    "do\n",
    "  # Process each file line by line\n",
    "  while read -r line; do\n",
    "    if [[ $line == \\>MW628494.1* ]]; then\n",
    "      # For lines starting with \">MW628494.1\", delete the first \"_\" and everything after it\n",
    "      echo \"$line\" | sed 's/_.*//' >> phylogenomics/data/NSPs_seqs_renamed/$(basename \"$file\")\n",
    "    elif [[ $line == \\>* ]]; then\n",
    "      # For all other headers, delete the second \"_\" and everything after it\n",
    "      echo \"$line\" | sed 's/\\(_[^_]*\\)\\(_.*\\)/\\1/' >> phylogenomics/data/NSPs_seqs_renamed/$(basename \"$file\")\n",
    "    else\n",
    "      # For non-header lines (sequence data), copy them as-is\n",
    "      echo \"$line\" >> phylogenomics/data/NSPs_seqs_renamed/$(basename \"$file\")\n",
    "    fi\n",
    "  done < \"$file\"\n",
    "done\n"
   ]
  },
  {
   "cell_type": "markdown",
   "metadata": {},
   "source": [
    "Let's check if `sed` did good"
   ]
  },
  {
   "cell_type": "code",
   "execution_count": 95,
   "metadata": {},
   "outputs": [
    {
     "name": "stdout",
     "output_type": "stream",
     "text": [
      ">Densovirus_D1\n"
     ]
    }
   ],
   "source": [
    "! head -1 phylogenomics/data/NSPs_seqs_renamed/family1.seq.fa"
   ]
  },
  {
   "cell_type": "markdown",
   "metadata": {},
   "source": [
    "Perfect"
   ]
  },
  {
   "cell_type": "markdown",
   "metadata": {},
   "source": [
    "##### **Part 6.5.3.2. Structural protein 1**"
   ]
  },
  {
   "cell_type": "markdown",
   "metadata": {},
   "source": [
    "First we create a directory to store the renamed seqs"
   ]
  },
  {
   "cell_type": "code",
   "execution_count": 96,
   "metadata": {},
   "outputs": [],
   "source": [
    "! mkdir phylogenomics/data/SPs_seqs_renamed/"
   ]
  },
  {
   "cell_type": "code",
   "execution_count": 97,
   "metadata": {},
   "outputs": [],
   "source": [
    "%%bash\n",
    "\n",
    "for file in phylogenomics/data/SPs_seqs/*.fa\n",
    "do\n",
    "  # Process each file line by line\n",
    "  while read -r line; do\n",
    "    if [[ $line == \\>MW628494.1* ]]; then\n",
    "      # For lines starting with \">MW628494.1\", delete the first \"_\" and everything after it\n",
    "      echo \"$line\" | sed 's/_.*//' >> phylogenomics/data/SPs_seqs_renamed/$(basename \"$file\")\n",
    "    elif [[ $line == \\>* ]]; then\n",
    "      # For all other headers, delete the second \"_\" and everything after it\n",
    "      echo \"$line\" | sed 's/\\(_[^_]*\\)\\(_.*\\)/\\1/' >> phylogenomics/data/SPs_seqs_renamed/$(basename \"$file\")\n",
    "    else\n",
    "      # For non-header lines (sequence data), copy them as-is\n",
    "      echo \"$line\" >> phylogenomics/data/SPs_seqs_renamed/$(basename \"$file\")\n",
    "    fi\n",
    "  done < \"$file\"\n",
    "done\n"
   ]
  },
  {
   "cell_type": "markdown",
   "metadata": {},
   "source": [
    "Let's check if `sed` did good"
   ]
  },
  {
   "cell_type": "code",
   "execution_count": 98,
   "metadata": {},
   "outputs": [
    {
     "name": "stdout",
     "output_type": "stream",
     "text": [
      ">Densovirus_D1\n"
     ]
    }
   ],
   "source": [
    "! head -1 phylogenomics/data/SPs_seqs_renamed/family1.seq.fa"
   ]
  },
  {
   "cell_type": "markdown",
   "metadata": {},
   "source": [
    "Perfect"
   ]
  },
  {
   "cell_type": "markdown",
   "metadata": {},
   "source": [
    "##### **Part 6.5.3.3. Non-structural protein + structural protein 1**"
   ]
  },
  {
   "cell_type": "markdown",
   "metadata": {},
   "source": [
    "First we create a directory to store the renamed seqs"
   ]
  },
  {
   "cell_type": "code",
   "execution_count": 99,
   "metadata": {},
   "outputs": [],
   "source": [
    "! mkdir phylogenomics/data/All_seqs_renamed/"
   ]
  },
  {
   "cell_type": "code",
   "execution_count": 100,
   "metadata": {},
   "outputs": [],
   "source": [
    "%%bash\n",
    "\n",
    "for file in phylogenomics/data/All_seqs/*.fa\n",
    "do\n",
    "  # Process each file line by line\n",
    "  while read -r line; do\n",
    "    if [[ $line == \\>MW628494.1* ]]; then\n",
    "      # For lines starting with \">MW628494.1\", delete the first \"_\" and everything after it\n",
    "      echo \"$line\" | sed 's/_.*//' >> phylogenomics/data/All_seqs_renamed/$(basename \"$file\")\n",
    "    elif [[ $line == \\>* ]]; then\n",
    "      # For all other headers, delete the second \"_\" and everything after it\n",
    "      echo \"$line\" | sed 's/\\(_[^_]*\\)\\(_.*\\)/\\1/' >> phylogenomics/data/All_seqs_renamed/$(basename \"$file\")\n",
    "    else\n",
    "      # For non-header lines (sequence data), copy them as-is\n",
    "      echo \"$line\" >> phylogenomics/data/All_seqs_renamed/$(basename \"$file\")\n",
    "    fi\n",
    "  done < \"$file\"\n",
    "done\n"
   ]
  },
  {
   "cell_type": "markdown",
   "metadata": {},
   "source": [
    "Let's check if `sed` did good"
   ]
  },
  {
   "cell_type": "code",
   "execution_count": 101,
   "metadata": {},
   "outputs": [
    {
     "name": "stdout",
     "output_type": "stream",
     "text": [
      ">Densovirus_D1\n"
     ]
    }
   ],
   "source": [
    "! head -1 phylogenomics/data/All_seqs_renamed/family1.seq.fa"
   ]
  },
  {
   "cell_type": "markdown",
   "metadata": {},
   "source": [
    "Perfect"
   ]
  },
  {
   "cell_type": "markdown",
   "metadata": {},
   "source": [
    "##### **Part 6.5.3.4. Sctructural protein 2**"
   ]
  },
  {
   "cell_type": "markdown",
   "metadata": {},
   "source": [
    "First we create a directory to store the renamed seqs"
   ]
  },
  {
   "cell_type": "code",
   "execution_count": 102,
   "metadata": {},
   "outputs": [],
   "source": [
    "! mkdir phylogenomics/data/ig_seqs_renamed/"
   ]
  },
  {
   "cell_type": "code",
   "execution_count": 103,
   "metadata": {},
   "outputs": [],
   "source": [
    "%%bash\n",
    "\n",
    "for file in phylogenomics/data/ig_seqs/*.fa\n",
    "do\n",
    "  # Process each file line by line\n",
    "  while read -r line; do\n",
    "    if [[ $line == \\>MW628494.1* ]]; then\n",
    "      # For lines starting with \">MW628494.1\", delete the first \"_\" and everything after it\n",
    "      echo \"$line\" | sed 's/_.*//' >> phylogenomics/data/ig_seqs_renamed/$(basename \"$file\")\n",
    "    elif [[ $line == \\>* ]]; then\n",
    "      # For all other headers, delete the second \"_\" and everything after it\n",
    "      echo \"$line\" | sed 's/\\(_[^_]*\\)\\(_.*\\)/\\1/' >> phylogenomics/data/ig_seqs_renamed/$(basename \"$file\")\n",
    "    else\n",
    "      # For non-header lines (sequence data), copy them as-is\n",
    "      echo \"$line\" >> phylogenomics/data/ig_seqs_renamed/$(basename \"$file\")\n",
    "    fi\n",
    "  done < \"$file\"\n",
    "done\n"
   ]
  },
  {
   "cell_type": "markdown",
   "metadata": {},
   "source": [
    "Let's check if `sed` did good"
   ]
  },
  {
   "cell_type": "code",
   "execution_count": 104,
   "metadata": {},
   "outputs": [
    {
     "name": "stdout",
     "output_type": "stream",
     "text": [
      ">Densovirus_D1\n"
     ]
    }
   ],
   "source": [
    "! head -1 phylogenomics/data/ig_seqs_renamed/family1.seq.fa"
   ]
  },
  {
   "cell_type": "markdown",
   "metadata": {},
   "source": [
    "Perfect"
   ]
  },
  {
   "cell_type": "markdown",
   "metadata": {},
   "source": [
    "### **Part 6.6. Multiple Sequences Alignment**"
   ]
  },
  {
   "cell_type": "markdown",
   "metadata": {},
   "source": [
    "First create directories to store the alignments"
   ]
  },
  {
   "cell_type": "code",
   "execution_count": 105,
   "metadata": {},
   "outputs": [],
   "source": [
    "! mkdir phylogenomics/MSAs/\n",
    "! mkdir phylogenomics/MSAs/NSPs/\n",
    "! mkdir phylogenomics/MSAs/SPs/\n",
    "! mkdir phylogenomics/MSAs/All/\n",
    "! mkdir phylogenomics/MSAs/IG/"
   ]
  },
  {
   "cell_type": "markdown",
   "metadata": {},
   "source": [
    "Then launch `MAFFT` to align the sequences"
   ]
  },
  {
   "cell_type": "code",
   "execution_count": null,
   "metadata": {},
   "outputs": [],
   "source": [
    "! for file in phylogenomics/data/NSPs_seqs_renamed/*.fa; do mafft --auto \"$file\" > phylogenomics/MSAs/NSPs/$(basename \"$file\" .fa).aln; done"
   ]
  },
  {
   "cell_type": "code",
   "execution_count": null,
   "metadata": {},
   "outputs": [],
   "source": [
    "! for file in phylogenomics/data/SPs_seqs_renamed/*.fa; do mafft --auto \"$file\" > phylogenomics/MSAs/SPs/$(basename \"$file\" .fa).aln; done"
   ]
  },
  {
   "cell_type": "code",
   "execution_count": null,
   "metadata": {},
   "outputs": [],
   "source": [
    "! for file in phylogenomics/data/All_seqs_renamed/*.fa; do mafft --auto \"$file\" > phylogenomics/MSAs/All/$(basename \"$file\" .fa).aln; done"
   ]
  },
  {
   "cell_type": "code",
   "execution_count": null,
   "metadata": {},
   "outputs": [],
   "source": [
    "! for file in phylogenomics/data/ig_seqs_renamed/*.fa; do mafft --auto \"$file\" > phylogenomics/MSAs/IG/$(basename \"$file\" .fa).aln; done"
   ]
  },
  {
   "cell_type": "markdown",
   "metadata": {},
   "source": [
    "### **Part 6.7. Trimming the alignments**"
   ]
  },
  {
   "cell_type": "markdown",
   "metadata": {},
   "source": [
    "First create directories to store the trimmed alignments"
   ]
  },
  {
   "cell_type": "code",
   "execution_count": 110,
   "metadata": {},
   "outputs": [],
   "source": [
    "! mkdir phylogenomics/trimmed_MSAs/\n",
    "! mkdir phylogenomics/trimmed_MSAs/NSPs/\n",
    "! mkdir phylogenomics/trimmed_MSAs/SPs/\n",
    "! mkdir phylogenomics/trimmed_MSAs/All/\n",
    "! mkdir phylogenomics/trimmed_MSAs/IG/"
   ]
  },
  {
   "cell_type": "markdown",
   "metadata": {},
   "source": [
    "Then launch `trimAl` to trim the alignments"
   ]
  },
  {
   "cell_type": "code",
   "execution_count": 111,
   "metadata": {},
   "outputs": [],
   "source": [
    "! for file in phylogenomics/MSAs/NSPs/*aln; do trimal -in $file -out phylogenomics/trimmed_MSAs/NSPs/trimmed_$(basename \"$file\") -automated1; done"
   ]
  },
  {
   "cell_type": "code",
   "execution_count": 112,
   "metadata": {},
   "outputs": [],
   "source": [
    "! for file in phylogenomics/MSAs/SPs/*aln; do trimal -in $file -out phylogenomics/trimmed_MSAs/SPs/trimmed_$(basename \"$file\") -automated1; done"
   ]
  },
  {
   "cell_type": "code",
   "execution_count": 113,
   "metadata": {},
   "outputs": [],
   "source": [
    "! for file in phylogenomics/MSAs/All/*aln; do trimal -in $file -out phylogenomics/trimmed_MSAs/All/trimmed_$(basename \"$file\") -automated1; done"
   ]
  },
  {
   "cell_type": "code",
   "execution_count": 114,
   "metadata": {},
   "outputs": [],
   "source": [
    "! for file in phylogenomics/MSAs/IG/*aln; do trimal -in $file -out phylogenomics/trimmed_MSAs/IG/trimmed_$(basename \"$file\") -automated1; done"
   ]
  },
  {
   "cell_type": "markdown",
   "metadata": {},
   "source": [
    "### **Part 6.8. Launching `ModelFinder` to get the best substitution model**"
   ]
  },
  {
   "cell_type": "markdown",
   "metadata": {},
   "source": [
    "First create directories to store `ModelFinder` log files"
   ]
  },
  {
   "cell_type": "code",
   "execution_count": 115,
   "metadata": {},
   "outputs": [],
   "source": [
    "! mkdir phylogenomics/model-finder/\n",
    "! mkdir phylogenomics/model-finder/NSPs/\n",
    "! mkdir phylogenomics/model-finder/SPs/\n",
    "! mkdir phylogenomics/model-finder/All/"
   ]
  },
  {
   "cell_type": "markdown",
   "metadata": {},
   "source": [
    "Then launch `ModelFinder` to find the most appropriate substitution model"
   ]
  },
  {
   "cell_type": "code",
   "execution_count": null,
   "metadata": {},
   "outputs": [],
   "source": [
    "! iqtree2 -m MFP -s phylogenomics/trimmed_MSAs/NSPs/ --prefix phylogenomics/model-finder/NSPs/NSPs -T AUTO"
   ]
  },
  {
   "cell_type": "code",
   "execution_count": 117,
   "metadata": {},
   "outputs": [
    {
     "name": "stdout",
     "output_type": "stream",
     "text": [
      "Best-fit model according to BIC: Q.pfam+F+I+G4\n",
      "\n",
      "List of models sorted by BIC scores: \n",
      "\n",
      "Model                  LogL         AIC      w-AIC        AICc     w-AICc         BIC      w-BIC\n",
      "Q.pfam+F+I+G4    -19698.351   39584.702 - 5.61e-05   39643.841 -  0.00241   39959.192 +    0.543\n"
     ]
    }
   ],
   "source": [
    "! head -42 phylogenomics/model-finder/NSPs/NSPs.iqtree | tail -6"
   ]
  },
  {
   "cell_type": "code",
   "execution_count": null,
   "metadata": {},
   "outputs": [],
   "source": [
    "! iqtree2 -m MFP -s phylogenomics/trimmed_MSAs/SPs/ --prefix phylogenomics/model-finder/SPs/SPs -T AUTO"
   ]
  },
  {
   "cell_type": "code",
   "execution_count": 119,
   "metadata": {},
   "outputs": [
    {
     "name": "stdout",
     "output_type": "stream",
     "text": [
      "Best-fit model according to BIC: VT+I+G4\n",
      "\n",
      "List of models sorted by BIC scores: \n",
      "\n",
      "Model                  LogL         AIC      w-AIC        AICc     w-AICc         BIC      w-BIC\n",
      "VT+I+G4           -9482.732   19019.465 - 3.91e-13   19023.342 - 1.91e-11   19128.423 +    0.764\n"
     ]
    }
   ],
   "source": [
    "! head -42 phylogenomics/model-finder/SPs/SPs.iqtree | tail -6"
   ]
  },
  {
   "cell_type": "code",
   "execution_count": null,
   "metadata": {},
   "outputs": [],
   "source": [
    "! iqtree2 -m MFP -s phylogenomics/trimmed_MSAs/All/ --prefix phylogenomics/model-finder/All/All -T AUTO"
   ]
  },
  {
   "cell_type": "code",
   "execution_count": 121,
   "metadata": {},
   "outputs": [
    {
     "name": "stdout",
     "output_type": "stream",
     "text": [
      "Best-fit model according to BIC: Q.pfam+I+G4\n",
      "\n",
      "List of models sorted by BIC scores: \n",
      "\n",
      "Model                  LogL         AIC      w-AIC        AICc     w-AICc         BIC      w-BIC\n",
      "Q.pfam+I+G4      -18316.088   36690.176 - 1.19e-19   36692.349 - 8.15e-19   36827.133 +    0.784\n"
     ]
    }
   ],
   "source": [
    "! head -42 phylogenomics/model-finder/All/All.iqtree | tail -6"
   ]
  },
  {
   "cell_type": "markdown",
   "metadata": {},
   "source": [
    "### **Part 6.9. Reconstructing the phylogeny**"
   ]
  },
  {
   "cell_type": "markdown",
   "metadata": {},
   "source": [
    "First create directories to store `IQ-TREE 2` files"
   ]
  },
  {
   "cell_type": "code",
   "execution_count": 122,
   "metadata": {},
   "outputs": [],
   "source": [
    "! mkdir phylogenomics/iqtree/\n",
    "! mkdir phylogenomics/iqtree/NSPs/\n",
    "! mkdir phylogenomics/iqtree/SPs/\n",
    "! mkdir phylogenomics/iqtree/All/"
   ]
  },
  {
   "cell_type": "markdown",
   "metadata": {},
   "source": [
    "Then launch `IQ-TREE 2` to reconstruct the phylogeny"
   ]
  },
  {
   "cell_type": "code",
   "execution_count": null,
   "metadata": {},
   "outputs": [],
   "source": [
    "! iqtree2 -s phylogenomics/trimmed_MSAs/NSPs/ -m Q.pfam+F+I+G4 --prefix phylogenomics/iqtree/NSPs/NSPs -bb 1000 -T AUTO"
   ]
  },
  {
   "cell_type": "code",
   "execution_count": null,
   "metadata": {},
   "outputs": [],
   "source": [
    "! iqtree2 -s phylogenomics/trimmed_MSAs/SPs/ -m VT+I+G4 --prefix phylogenomics/iqtree/SPs/SPs -bb 1000 -T AUTO"
   ]
  },
  {
   "cell_type": "code",
   "execution_count": null,
   "metadata": {},
   "outputs": [],
   "source": [
    "! iqtree2 -s phylogenomics/trimmed_MSAs/All/ -m Q.pfam+I+G4 --prefix phylogenomics/iqtree/All/All -bb 1000 -T AUTO"
   ]
  },
  {
   "cell_type": "markdown",
   "metadata": {},
   "source": [
    "### **Part 6.9. Fetching metadata for further visualizing in `ggtree`**"
   ]
  },
  {
   "cell_type": "markdown",
   "metadata": {},
   "source": [
    "To make the perfect visualization of phylogenetic tree we must annotate the tree. For that we need metadata!"
   ]
  },
  {
   "cell_type": "markdown",
   "metadata": {},
   "source": [
    "Install `phyloki`"
   ]
  },
  {
   "cell_type": "code",
   "execution_count": null,
   "metadata": {},
   "outputs": [],
   "source": [
    "! wget https://raw.githubusercontent.com/iliapopov17/phyloki/main/phyloki.py"
   ]
  },
  {
   "cell_type": "markdown",
   "metadata": {},
   "source": [
    "Import `phyloki`"
   ]
  },
  {
   "cell_type": "code",
   "execution_count": 127,
   "metadata": {},
   "outputs": [],
   "source": [
    "from phyloki import *"
   ]
  },
  {
   "cell_type": "markdown",
   "metadata": {},
   "source": [
    "Create a directory to store metadata"
   ]
  },
  {
   "cell_type": "code",
   "execution_count": 128,
   "metadata": {},
   "outputs": [],
   "source": [
    "! mkdir phylogenomics/metadata/"
   ]
  },
  {
   "cell_type": "markdown",
   "metadata": {},
   "source": [
    "Fetch the 1st ver. of metadata"
   ]
  },
  {
   "cell_type": "code",
   "execution_count": 129,
   "metadata": {},
   "outputs": [
    {
     "name": "stdout",
     "output_type": "stream",
     "text": [
      "The request has been fulfilled.\n",
      "File saved to phylogenomics/metadata/raw_metadata.tsv\n"
     ]
    }
   ],
   "source": [
    "fetch_metadata('iljapopov17@gmail.com', 'phylogenomics/data/accession_numbers.txt', 'phylogenomics/metadata/raw_metadata.tsv')"
   ]
  },
  {
   "cell_type": "markdown",
   "metadata": {},
   "source": [
    "Using function below we will clean `Year` column to leave only year, without the full date"
   ]
  },
  {
   "cell_type": "code",
   "execution_count": 130,
   "metadata": {},
   "outputs": [],
   "source": [
    "def clean_year(input_file, output_file):\n",
    "    \"\"\"\n",
    "    Clean the 'Year' column in a metadata .tsv file to extract only the last 4 digits.\n",
    "\n",
    "    Args:\n",
    "        input_file (str): Path to the input .tsv file.\n",
    "        output_file (str): Path to save the cleaned .tsv file.\n",
    "    \"\"\"\n",
    "    # Load the .tsv file into a DataFrame\n",
    "    df = pd.read_csv(input_file, sep=\"\\t\")\n",
    "\n",
    "    # Extract the last 4 digits of the 'Year' column\n",
    "    df['Year'] = df['Year'].apply(lambda x: str(x)[-4:] if pd.notnull(x) else 'ND')\n",
    "\n",
    "    # Save the updated DataFrame to a new .tsv file\n",
    "    df.to_csv(output_file, sep=\"\\t\", index=False)\n",
    "\n",
    "    print(f\"The 'Year' column has been cleaned.\\nFile saved to {output_file}\")"
   ]
  },
  {
   "cell_type": "markdown",
   "metadata": {},
   "source": [
    "Run `clean_year()` function"
   ]
  },
  {
   "cell_type": "code",
   "execution_count": 131,
   "metadata": {},
   "outputs": [
    {
     "name": "stdout",
     "output_type": "stream",
     "text": [
      "The 'Year' column has been cleaned.\n",
      "File saved to phylogenomics/metadata/medium_metadata.tsv\n"
     ]
    }
   ],
   "source": [
    "clean_year('phylogenomics/metadata/raw_metadata.tsv', 'phylogenomics/metadata/medium_metadata.tsv')"
   ]
  },
  {
   "cell_type": "markdown",
   "metadata": {},
   "source": [
    "Some of the viruses has `ND` in `Host` column"
   ]
  },
  {
   "cell_type": "code",
   "execution_count": 132,
   "metadata": {},
   "outputs": [
    {
     "data": {
      "text/html": [
       "<div>\n",
       "<style scoped>\n",
       "    .dataframe tbody tr th:only-of-type {\n",
       "        vertical-align: middle;\n",
       "    }\n",
       "\n",
       "    .dataframe tbody tr th {\n",
       "        vertical-align: top;\n",
       "    }\n",
       "\n",
       "    .dataframe thead th {\n",
       "        text-align: right;\n",
       "    }\n",
       "</style>\n",
       "<table border=\"1\" class=\"dataframe\">\n",
       "  <thead>\n",
       "    <tr style=\"text-align: right;\">\n",
       "      <th></th>\n",
       "      <th>Name</th>\n",
       "      <th>Full.Name</th>\n",
       "      <th>Country</th>\n",
       "      <th>Year</th>\n",
       "      <th>Host</th>\n",
       "    </tr>\n",
       "  </thead>\n",
       "  <tbody>\n",
       "    <tr>\n",
       "      <th>13</th>\n",
       "      <td>NC_005040.1</td>\n",
       "      <td>NC_005040.1 Myzus persicae densovirus 1</td>\n",
       "      <td>ND</td>\n",
       "      <td>ND</td>\n",
       "      <td>ND</td>\n",
       "    </tr>\n",
       "    <tr>\n",
       "      <th>15</th>\n",
       "      <td>NC_038376.1</td>\n",
       "      <td>NC_038376.1 Bombyx mori densovirus Zhenjiang</td>\n",
       "      <td>China: Zhenjiang</td>\n",
       "      <td>ND</td>\n",
       "      <td>ND</td>\n",
       "    </tr>\n",
       "    <tr>\n",
       "      <th>16</th>\n",
       "      <td>NC_003346.1</td>\n",
       "      <td>NC_003346.1 Bombyx mori densovirus 1</td>\n",
       "      <td>ND</td>\n",
       "      <td>ND</td>\n",
       "      <td>ND</td>\n",
       "    </tr>\n",
       "    <tr>\n",
       "      <th>22</th>\n",
       "      <td>NC_020927.1</td>\n",
       "      <td>NC_020927.1 Bombyx mori densovirus 3</td>\n",
       "      <td>China</td>\n",
       "      <td>ND</td>\n",
       "      <td>ND</td>\n",
       "    </tr>\n",
       "    <tr>\n",
       "      <th>24</th>\n",
       "      <td>NC_018450.1</td>\n",
       "      <td>NC_018450.1 Papilio polyxenes densovirus</td>\n",
       "      <td>Canada</td>\n",
       "      <td>2011</td>\n",
       "      <td>ND</td>\n",
       "    </tr>\n",
       "    <tr>\n",
       "      <th>25</th>\n",
       "      <td>NC_018399.1</td>\n",
       "      <td>NC_018399.1 Sibine fusca densovirus</td>\n",
       "      <td>Colombia</td>\n",
       "      <td>1977</td>\n",
       "      <td>ND</td>\n",
       "    </tr>\n",
       "    <tr>\n",
       "      <th>27</th>\n",
       "      <td>NC_005041.2</td>\n",
       "      <td>NC_005041.2 Blattella germanica densovirus 1</td>\n",
       "      <td>ND</td>\n",
       "      <td>ND</td>\n",
       "      <td>ND</td>\n",
       "    </tr>\n",
       "    <tr>\n",
       "      <th>28</th>\n",
       "      <td>NC_015115.1</td>\n",
       "      <td>NC_015115.1 Mosquito densovirus BR/07</td>\n",
       "      <td>Brazil</td>\n",
       "      <td>ND</td>\n",
       "      <td>ND</td>\n",
       "    </tr>\n",
       "    <tr>\n",
       "      <th>33</th>\n",
       "      <td>NC_011317.1</td>\n",
       "      <td>NC_011317.1 Anopheles gambiae densovirus</td>\n",
       "      <td>ND</td>\n",
       "      <td>ND</td>\n",
       "      <td>ND</td>\n",
       "    </tr>\n",
       "    <tr>\n",
       "      <th>34</th>\n",
       "      <td>NC_006555.1</td>\n",
       "      <td>NC_006555.1 Dendrolimus punctatus densovirus</td>\n",
       "      <td>China</td>\n",
       "      <td>ND</td>\n",
       "      <td>ND</td>\n",
       "    </tr>\n",
       "    <tr>\n",
       "      <th>35</th>\n",
       "      <td>NC_005341.1</td>\n",
       "      <td>NC_005341.1 Mythimna loreyi densovirus</td>\n",
       "      <td>ND</td>\n",
       "      <td>ND</td>\n",
       "      <td>ND</td>\n",
       "    </tr>\n",
       "    <tr>\n",
       "      <th>36</th>\n",
       "      <td>NC_004290.1</td>\n",
       "      <td>NC_004290.1 Acheta domestica densovirus</td>\n",
       "      <td>ND</td>\n",
       "      <td>ND</td>\n",
       "      <td>ND</td>\n",
       "    </tr>\n",
       "    <tr>\n",
       "      <th>37</th>\n",
       "      <td>NC_004288.1</td>\n",
       "      <td>NC_004288.1 Casphalia extranea densovirus</td>\n",
       "      <td>ND</td>\n",
       "      <td>ND</td>\n",
       "      <td>ND</td>\n",
       "    </tr>\n",
       "    <tr>\n",
       "      <th>39</th>\n",
       "      <td>NC_004287.1</td>\n",
       "      <td>NC_004287.1 Bombyx mori densovirus 5</td>\n",
       "      <td>ND</td>\n",
       "      <td>ND</td>\n",
       "      <td>ND</td>\n",
       "    </tr>\n",
       "    <tr>\n",
       "      <th>40</th>\n",
       "      <td>NC_004286.1</td>\n",
       "      <td>NC_004286.1 Galleria mellonella densovirus</td>\n",
       "      <td>ND</td>\n",
       "      <td>ND</td>\n",
       "      <td>ND</td>\n",
       "    </tr>\n",
       "    <tr>\n",
       "      <th>41</th>\n",
       "      <td>NC_004284.1</td>\n",
       "      <td>NC_004284.1 Junonia coenia densovirus</td>\n",
       "      <td>ND</td>\n",
       "      <td>ND</td>\n",
       "      <td>ND</td>\n",
       "    </tr>\n",
       "    <tr>\n",
       "      <th>42</th>\n",
       "      <td>NC_000936.1</td>\n",
       "      <td>NC_000936.1 Periplaneta fuliginosa densovirus</td>\n",
       "      <td>ND</td>\n",
       "      <td>ND</td>\n",
       "      <td>ND</td>\n",
       "    </tr>\n",
       "  </tbody>\n",
       "</table>\n",
       "</div>"
      ],
      "text/plain": [
       "           Name                                      Full.Name  \\\n",
       "13  NC_005040.1        NC_005040.1 Myzus persicae densovirus 1   \n",
       "15  NC_038376.1   NC_038376.1 Bombyx mori densovirus Zhenjiang   \n",
       "16  NC_003346.1           NC_003346.1 Bombyx mori densovirus 1   \n",
       "22  NC_020927.1           NC_020927.1 Bombyx mori densovirus 3   \n",
       "24  NC_018450.1       NC_018450.1 Papilio polyxenes densovirus   \n",
       "25  NC_018399.1            NC_018399.1 Sibine fusca densovirus   \n",
       "27  NC_005041.2   NC_005041.2 Blattella germanica densovirus 1   \n",
       "28  NC_015115.1          NC_015115.1 Mosquito densovirus BR/07   \n",
       "33  NC_011317.1       NC_011317.1 Anopheles gambiae densovirus   \n",
       "34  NC_006555.1   NC_006555.1 Dendrolimus punctatus densovirus   \n",
       "35  NC_005341.1         NC_005341.1 Mythimna loreyi densovirus   \n",
       "36  NC_004290.1        NC_004290.1 Acheta domestica densovirus   \n",
       "37  NC_004288.1      NC_004288.1 Casphalia extranea densovirus   \n",
       "39  NC_004287.1           NC_004287.1 Bombyx mori densovirus 5   \n",
       "40  NC_004286.1     NC_004286.1 Galleria mellonella densovirus   \n",
       "41  NC_004284.1          NC_004284.1 Junonia coenia densovirus   \n",
       "42  NC_000936.1  NC_000936.1 Periplaneta fuliginosa densovirus   \n",
       "\n",
       "             Country  Year Host  \n",
       "13                ND    ND   ND  \n",
       "15  China: Zhenjiang    ND   ND  \n",
       "16                ND    ND   ND  \n",
       "22             China    ND   ND  \n",
       "24            Canada  2011   ND  \n",
       "25          Colombia  1977   ND  \n",
       "27                ND    ND   ND  \n",
       "28            Brazil    ND   ND  \n",
       "33                ND    ND   ND  \n",
       "34             China    ND   ND  \n",
       "35                ND    ND   ND  \n",
       "36                ND    ND   ND  \n",
       "37                ND    ND   ND  \n",
       "39                ND    ND   ND  \n",
       "40                ND    ND   ND  \n",
       "41                ND    ND   ND  \n",
       "42                ND    ND   ND  "
      ]
     },
     "execution_count": 132,
     "metadata": {},
     "output_type": "execute_result"
    }
   ],
   "source": [
    "df = pd.read_csv('phylogenomics/metadata/medium_metadata.tsv', sep='\\t')\n",
    "nd_in_host = df[df['Host'] == 'ND']\n",
    "\n",
    "nd_in_host"
   ]
  },
  {
   "cell_type": "markdown",
   "metadata": {},
   "source": [
    "Well.. 17 viruses from `RefSeq` has `ND` in `Host`... They are really poorly annotated. But we can predict their hosts based on their names. The host of `Periplaneta fuliginosa densovirus` must be `Periplaneta fuliginosa`. So let's do it"
   ]
  },
  {
   "cell_type": "markdown",
   "metadata": {},
   "source": [
    "Import `re`"
   ]
  },
  {
   "cell_type": "code",
   "execution_count": 133,
   "metadata": {},
   "outputs": [],
   "source": [
    "import re"
   ]
  },
  {
   "cell_type": "markdown",
   "metadata": {},
   "source": [
    "`extract_host()` function will assign host info based on virus name"
   ]
  },
  {
   "cell_type": "code",
   "execution_count": 134,
   "metadata": {},
   "outputs": [],
   "source": [
    "# Define a function to extract the desired host name from the Full.Name column\n",
    "def extract_host(full_name):\n",
    "    # Split the full name to remove the accession number and \"densovirus\" + everything after it\n",
    "    # This regex looks for the word 'densovirus' and removes it and any following characters.\n",
    "    return re.split(r'\\s+denso.*', full_name.split(' ', 1)[1])[0]"
   ]
  },
  {
   "cell_type": "markdown",
   "metadata": {},
   "source": [
    "Run `extract_host()`"
   ]
  },
  {
   "cell_type": "code",
   "execution_count": 135,
   "metadata": {},
   "outputs": [],
   "source": [
    "# Update the 'Host' column where it's 'ND' with the extracted host from 'Full.Name'\n",
    "df['Host'] = df.apply(lambda row: extract_host(row['Full.Name']) if row['Host'] == 'ND' else row['Host'], axis=1)\n",
    "\n",
    "# Save the file without the index column\n",
    "df.to_csv('phylogenomics/metadata/medium_well_metadata.tsv', sep='\\t', index=False)"
   ]
  },
  {
   "cell_type": "markdown",
   "metadata": {},
   "source": [
    "Write down the information about densoviruses from this study"
   ]
  },
  {
   "cell_type": "code",
   "execution_count": 136,
   "metadata": {},
   "outputs": [],
   "source": [
    "# Step 1: Read the existing TSV file into a DataFrame\n",
    "df_existing = pd.read_csv('phylogenomics/metadata/medium_well_metadata.tsv', sep='\\t')\n",
    "\n",
    "# Step 2: Create a DataFrame for the new rows\n",
    "new_rows = {\n",
    "    'Name': ['Densovirus_D1', 'Densovirus_D2', 'Densovirus_D3', 'Densovirus_D4', 'Densovirus_D5',\n",
    "             'Densovirus_P1', 'Densovirus_P2', 'Densovirus_P3', 'Densovirus_P4', 'Densovirus_P5'],\n",
    "    'Full.Name': ['Densovirinae sp. isolate RBHC_VM_1', 'Densovirinae sp. isolate RBHC_VM_2', 'Densovirinae sp. isolate RBHC_VM_3', \n",
    "                  'Densovirinae sp. isolate RBHC_VM_4', 'Densovirinae sp. isolate RBHC_VM_5', 'Densovirinae sp. isolate RBHC_NN_1', \n",
    "                  'Densovirinae sp. isolate RBHC_NN_2', 'Densovirinae sp. isolate RBHC_NN_3', 'Densovirinae sp. isolate RBHC_NN_4', \n",
    "                  'Densovirinae sp. isolate RBHC_NN_5'],\n",
    "    'Country': ['Russia'] * 10,\n",
    "    'Year': [2024] * 10,\n",
    "    'Host': ['Bat'] * 10\n",
    "}\n",
    "\n",
    "df_new = pd.DataFrame(new_rows)\n",
    "\n",
    "# Step 3: Concatenate the new DataFrame with the existing DataFrame\n",
    "df_combined = pd.concat([df_existing, df_new], ignore_index=True)\n",
    "\n",
    "# Step 4: Save the updated DataFrame to a new TSV file (optional)\n",
    "df_combined.to_csv('phylogenomics/metadata/well_done_metadata.tsv', sep='\\t', index=False)"
   ]
  },
  {
   "cell_type": "markdown",
   "metadata": {},
   "source": [
    "### **Part 6.10. Phylogenetic trees visualization**"
   ]
  },
  {
   "cell_type": "markdown",
   "metadata": {},
   "source": [
    "Please open `RStudio` and go through  `ggtree_journal.R` script<br>\n",
    "There are a lot of manual adjustments to the plots to make it executable"
   ]
  },
  {
   "cell_type": "markdown",
   "metadata": {},
   "source": [
    "### **Part 6.11. Prepare SP2 gene MSA for visualization**"
   ]
  },
  {
   "cell_type": "code",
   "execution_count": 137,
   "metadata": {},
   "outputs": [
    {
     "name": "stdout",
     "output_type": "stream",
     "text": [
      "Sequences renamed and saved to: phylogenomics/trimmed_MSAs/IG/trimmed_family1_renamed.seq.aln\n"
     ]
    }
   ],
   "source": [
    "rename_map = {\n",
    "    \"Densovirus_D1\": \"Densovirinae sp. isolate RBHC_VM_1\",\n",
    "    \"Densovirus_D2\": \"Densovirinae sp. isolate RBHC_VM_2\",\n",
    "    \"Densovirus_D3\": \"Densovirinae sp. isolate RBHC_VM_3\",\n",
    "    \"Densovirus_D4\": \"Densovirinae sp. isolate RBHC_VM_4\",\n",
    "    \"Densovirus_D5\": \"Densovirinae sp. isolate RBHC_VM_5\",\n",
    "    \"Densovirus_P1\": \"Densovirinae sp. isolate RBHC_NN_1\",\n",
    "    \"Densovirus_P2\": \"Densovirinae sp. isolate RBHC_NN_2\",\n",
    "    \"Densovirus_P3\": \"Densovirinae sp. isolate RBHC_NN_3\",\n",
    "    \"Densovirus_P4\": \"Densovirinae sp. isolate RBHC_NN_4\",\n",
    "    \"Densovirus_P5\": \"Densovirinae sp. isolate RBHC_NN_5\",\n",
    "    \"NC_031450.1\": \"NC_031450.1 Parus major densovirus\",\n",
    "    \"MW628494.1\": \"MW628494.1 Tenebrio molitor densovirus T2002773\"\n",
    "}\n",
    "\n",
    "input_file = \"phylogenomics/trimmed_MSAs/IG/trimmed_family1.seq.aln\"\n",
    "output_file = \"phylogenomics/trimmed_MSAs/IG/trimmed_family1_renamed.seq.aln\"\n",
    "\n",
    "with open(output_file, \"w\") as output_handle:\n",
    "    for record in SeqIO.parse(input_file, \"fasta\"):\n",
    "        if record.id in rename_map:\n",
    "            record.id = rename_map[record.id]\n",
    "            record.description = \"\"\n",
    "        SeqIO.write(record, output_handle, \"fasta\")\n",
    "\n",
    "print(\"Sequences renamed and saved to:\", output_file)"
   ]
  },
  {
   "cell_type": "markdown",
   "metadata": {},
   "source": [
    "### **Part 6.12. SP2 MSA visualization**"
   ]
  },
  {
   "cell_type": "markdown",
   "metadata": {},
   "source": [
    "Please open `RStudio` and go through  `ggmsa_journal.R` script<br>\n",
    "There are a lot of manual adjustments to the plots to make it executable"
   ]
  }
 ],
 "metadata": {
  "kernelspec": {
   "display_name": "Python 3",
   "language": "python",
   "name": "python3"
  },
  "language_info": {
   "codemirror_mode": {
    "name": "ipython",
    "version": 3
   },
   "file_extension": ".py",
   "mimetype": "text/x-python",
   "name": "python",
   "nbconvert_exporter": "python",
   "pygments_lexer": "ipython3",
   "version": "3.13.1"
  }
 },
 "nbformat": 4,
 "nbformat_minor": 2
}
