{
 "cells": [
  {
   "cell_type": "markdown",
   "metadata": {},
   "source": [
    "# **CHAPTER 4. Densoviruses**"
   ]
  },
  {
   "cell_type": "markdown",
   "metadata": {},
   "source": [
    "**Install conda env and activate it**"
   ]
  },
  {
   "cell_type": "markdown",
   "metadata": {},
   "source": [
    "```\n",
    "conda env create -f denso.yaml\n",
    "```\n",
    "\n",
    "```\n",
    "conda activate denso\n",
    "```"
   ]
  },
  {
   "cell_type": "markdown",
   "metadata": {},
   "source": [
    "## **Part 1. Prepare to extract densoviruses from MAGs**"
   ]
  },
  {
   "cell_type": "markdown",
   "metadata": {},
   "source": [
    "Create a directory where complete genomes of densoviruses from `RefSeq` database will be stored"
   ]
  },
  {
   "cell_type": "code",
   "execution_count": 1,
   "metadata": {},
   "outputs": [],
   "source": [
    "! mkdir genbank_seqs"
   ]
  },
  {
   "cell_type": "markdown",
   "metadata": {},
   "source": [
    "Download densoviruses complete genomes from `RefSeq` database to `genbank_seqs/refseq_densoviruses.fa` file"
   ]
  },
  {
   "cell_type": "code",
   "execution_count": 4,
   "metadata": {},
   "outputs": [],
   "source": [
    "! esearch -email iljapopov17@gmail.com -db nucleotide -query 'Densovirus AND \"complete genome\" AND srcdb_refseq[PROP]' | efetch -format fasta -mode text > genbank_seqs/densoviruses_genomes.fa"
   ]
  },
  {
   "cell_type": "markdown",
   "metadata": {},
   "source": [
    "Create a directory where `BLAST` custom database of densoviruses complete genomes will be stored"
   ]
  },
  {
   "cell_type": "code",
   "execution_count": 8,
   "metadata": {},
   "outputs": [],
   "source": [
    "! mkdir densovirus_blast_db"
   ]
  },
  {
   "cell_type": "markdown",
   "metadata": {},
   "source": [
    "Create `BLAST` database"
   ]
  },
  {
   "cell_type": "code",
   "execution_count": 9,
   "metadata": {},
   "outputs": [
    {
     "name": "stdout",
     "output_type": "stream",
     "text": [
      "\n",
      "\n",
      "Building a new DB, current time: 08/06/2024 18:02:19\n",
      "New DB name:   /home/user/BatMetagenome2x150/Clean_journals/Densoviruses/densovirus_custom_db/densovirus_db\n",
      "New DB title:  refseq_seqs/refseq_densoviruses.fa\n",
      "Sequence type: Nucleotide\n",
      "Keep MBits: T\n",
      "Maximum file size: 3000000000B\n",
      "Adding sequences from FASTA; added 56 sequences in 0.022052 seconds.\n",
      "\n",
      "\n"
     ]
    }
   ],
   "source": [
    "! makeblastdb -in refseq_seqs/refseq_densoviruses.fa -dbtype nucl -out densovirus_blast_db/densovirus_db"
   ]
  },
  {
   "cell_type": "markdown",
   "metadata": {},
   "source": [
    "## **Part 2. Extract densoviruses from MAGs**"
   ]
  },
  {
   "cell_type": "markdown",
   "metadata": {},
   "source": [
    ">Disclaimer: it is important to install `VirSorter2` with all the requirements and dependecies. <br>\n",
    "> Although `VirSorter2` will be installed with `denso.yaml` conda envinronment it is also important to install the database needed. Please follow the official [installation guide](https://github.com/jiarong/VirSorter2#download-database-and-dependencies)<br>\n",
    "> In the `denso.yaml` `VirSorter2` is already installed with `conda` so proceed to:\n",
    "> ```\n",
    "># just in case there is a failed attemp before; \n",
    ">#   remove the whole diretory specified by -d\n",
    ">rm -rf virsorter_db\n",
    "># run setup\n",
    ">virsorter setup -d virsorter_db -j 4\n",
    "> ```"
   ]
  },
  {
   "cell_type": "markdown",
   "metadata": {},
   "source": [
    "`VirExtr_pipeline` is a Snakemake pipeline that runs filtered MAGs from the previous chapter against custom `BLAST` database with reference genomes of densoviruses. Then it extracts longest alignment sequences to a `.fasta` files. Finally, it runs `VirSorter2` to assess viral genomes."
   ]
  },
  {
   "cell_type": "code",
   "execution_count": null,
   "metadata": {},
   "outputs": [],
   "source": [
    "! snakemake -s VirExtr_pipeline --cores all --use-conda"
   ]
  },
  {
   "cell_type": "markdown",
   "metadata": {},
   "source": [
    "As the result of this pipeline:\n",
    "- `BLAST` results are stored in `BLAST_vs_densovirus` folder<br>\n",
    "- Extracted densoviruses are stored in `viral_genomes` folder<br>\n",
    "- `VirSorter2` results are sorted in `VirSorted2_results` folder"
   ]
  },
  {
   "cell_type": "markdown",
   "metadata": {},
   "source": [
    "Extracted densoviruses genomes are named like this:<br>\n",
    "`>NODE_632_length_4705_cov_657475.178280`<br>\n",
    "It is no use! `Prokka` will not take it as an input as the seqs names are too long<br>\n",
    "\n",
    "That is why we will rename sequences:<br>\n",
    "- Densoviruses from `D` samples will be renamed to `Densovirinae_sp._isolate_RBHC_VM_#`<br>\n",
    "- Densoviruses from `P` samples will be renamed to `Densovirinae_sp._isolate_RBHC_NN_#`<br>\n",
    "\n",
    "`VM` stands for _Vespertilio murinus_<br>\n",
    "`NN` stands for _Nyctalus noctula_"
   ]
  },
  {
   "cell_type": "code",
   "execution_count": 7,
   "metadata": {},
   "outputs": [],
   "source": [
    "# Usage\n",
    "# {path_to_script} {path_to_input_folder}\n",
    "%run scripts/rename_seqs.py viral_genomes/"
   ]
  },
  {
   "cell_type": "markdown",
   "metadata": {},
   "source": [
    "Let's check how the script worked"
   ]
  },
  {
   "cell_type": "code",
   "execution_count": 1,
   "metadata": {},
   "outputs": [
    {
     "name": "stdout",
     "output_type": "stream",
     "text": [
      ">Densovirinae_sp._isolate_RBHC_VM_1\n"
     ]
    }
   ],
   "source": [
    "! head -1 viral_genomes/Densovirus_D1.fasta"
   ]
  },
  {
   "cell_type": "markdown",
   "metadata": {},
   "source": [
    "That's it!"
   ]
  },
  {
   "cell_type": "markdown",
   "metadata": {},
   "source": [
    "## **Part 3. Prepare for genome annotation of densoviruses**"
   ]
  },
  {
   "cell_type": "markdown",
   "metadata": {},
   "source": [
    "Download densoviruses proteins from `Protein` database to `genbank_seqs/densoviruses_proteins.fa` file"
   ]
  },
  {
   "cell_type": "code",
   "execution_count": 5,
   "metadata": {},
   "outputs": [],
   "source": [
    "! esearch -email iljapopov17@gmail.com -db protein -query 'Densovirus' | efetch -format fasta -mode text > genbank_seqs/densoviruses_proteins.fa"
   ]
  },
  {
   "cell_type": "markdown",
   "metadata": {},
   "source": [
    "## **Part 4. Genome annotation of densoviruses**"
   ]
  },
  {
   "cell_type": "markdown",
   "metadata": {},
   "source": [
    "### **Part 4.1. Genome annotation**"
   ]
  },
  {
   "cell_type": "markdown",
   "metadata": {},
   "source": [
    "`GA_pipeline` is a Snakemake pipeline that annotates isolated from MAGs densoviral genomes with `prokka` and densoviruses proteins from NCBI `Proteins` database downloaded in the cell above."
   ]
  },
  {
   "cell_type": "code",
   "execution_count": null,
   "metadata": {},
   "outputs": [],
   "source": [
    "! snakemake -s GA_pipeline --cores all"
   ]
  },
  {
   "cell_type": "markdown",
   "metadata": {},
   "source": [
    "As the result of this pipeline:\n",
    "- `prokka` results are stored in `prokka_results` folder"
   ]
  },
  {
   "cell_type": "markdown",
   "metadata": {},
   "source": [
    "### **Part 4.2. Fix `prokka` `.gbk` outputs**"
   ]
  },
  {
   "cell_type": "markdown",
   "metadata": {},
   "source": [
    "Let's look at the `.gbk` files, especially at the 1st row of the file"
   ]
  },
  {
   "cell_type": "code",
   "execution_count": 8,
   "metadata": {},
   "outputs": [
    {
     "name": "stdout",
     "output_type": "stream",
     "text": [
      "LOCUS       Densovirinae_sp._isolate_RBHC_VM_14705 bp   DNA linear\n"
     ]
    }
   ],
   "source": [
    "! head -1 prokka_results/annotated_densovirus_D1/Densovirus_D1_annot.gbk"
   ]
  },
  {
   "cell_type": "markdown",
   "metadata": {},
   "source": [
    "Well... `prokka` makes a headache problem...<br>\n",
    "There is no space between sample number and seq length! `Proksee` will not take this `.gbk` as an input!<br>\n",
    "Let's fix it!"
   ]
  },
  {
   "cell_type": "markdown",
   "metadata": {},
   "source": [
    "`scripts/add_space_gbk.py` will fix \"space problem\". Just run this script. It will make changes exactly in the same file."
   ]
  },
  {
   "cell_type": "code",
   "execution_count": 6,
   "metadata": {},
   "outputs": [
    {
     "name": "stdout",
     "output_type": "stream",
     "text": [
      "Processing file: prokka_results/annotated_densovirus_D1/Densovirus_D1_annot.gbk\n",
      "Processing file: prokka_results/annotated_densovirus_D2/Densovirus_D2_annot.gbk\n",
      "Processing file: prokka_results/annotated_densovirus_D3/Densovirus_D3_annot.gbk\n",
      "Processing file: prokka_results/annotated_densovirus_D4/Densovirus_D4_annot.gbk\n",
      "Processing file: prokka_results/annotated_densovirus_D5/Densovirus_D5_annot.gbk\n",
      "Processing file: prokka_results/annotated_densovirus_P1/Densovirus_P1_annot.gbk\n",
      "Processing file: prokka_results/annotated_densovirus_P2/Densovirus_P2_annot.gbk\n",
      "Processing file: prokka_results/annotated_densovirus_P3/Densovirus_P3_annot.gbk\n",
      "Processing file: prokka_results/annotated_densovirus_P4/Densovirus_P4_annot.gbk\n",
      "Processing file: prokka_results/annotated_densovirus_P5/Densovirus_P5_annot.gbk\n"
     ]
    }
   ],
   "source": [
    "# Usage\n",
    "# {path_to_script}\n",
    "%run scripts/add_space_gbk.py"
   ]
  },
  {
   "cell_type": "code",
   "execution_count": 9,
   "metadata": {},
   "outputs": [
    {
     "name": "stdout",
     "output_type": "stream",
     "text": [
      "LOCUS       Densovirinae_sp._isolate_RBHC_VM_1 4705 bp   DNA linear\n"
     ]
    }
   ],
   "source": [
    "! head -1 prokka_results/annotated_densovirus_D1/Densovirus_D1_annot.gbk"
   ]
  },
  {
   "cell_type": "markdown",
   "metadata": {},
   "source": [
    "Hooray!"
   ]
  },
  {
   "cell_type": "markdown",
   "metadata": {},
   "source": [
    "### **Part 4.3. Visualize**"
   ]
  },
  {
   "cell_type": "markdown",
   "metadata": {},
   "source": [
    "Please visit [`Proksee`](https://proksee.ca/) website and upload `.gbk` files from `prokka_results/annotated_densovirus_{sample}` folders."
   ]
  },
  {
   "cell_type": "markdown",
   "metadata": {},
   "source": [
    "## **Part 5. Comparison of densoviruses**"
   ]
  },
  {
   "cell_type": "markdown",
   "metadata": {},
   "source": [
    "### **Part 5.1. Install `fastANI`**"
   ]
  },
  {
   "cell_type": "markdown",
   "metadata": {},
   "source": [
    "Download it from `GitHub`"
   ]
  },
  {
   "cell_type": "code",
   "execution_count": null,
   "metadata": {},
   "outputs": [],
   "source": [
    "! wget https://github.com/ParBLiSS/FastANI/releases/download/v1.34/fastANI-linux64-v1.34.zip"
   ]
  },
  {
   "cell_type": "markdown",
   "metadata": {},
   "source": [
    "Make directory to store `ANI` files and results"
   ]
  },
  {
   "cell_type": "code",
   "execution_count": null,
   "metadata": {},
   "outputs": [],
   "source": [
    "! mkdir ANI"
   ]
  },
  {
   "cell_type": "markdown",
   "metadata": {},
   "source": [
    "Unzip donwloaded from `GitHub` archive and delete it"
   ]
  },
  {
   "cell_type": "code",
   "execution_count": null,
   "metadata": {},
   "outputs": [],
   "source": [
    "! unzip fastANI-linux64-v1.34.zip -d ANI && rm -rf fastANI-linux64-v1.34.zip"
   ]
  },
  {
   "cell_type": "markdown",
   "metadata": {},
   "source": [
    "### **Part 5.2. Run `fastANI`**"
   ]
  },
  {
   "cell_type": "code",
   "execution_count": null,
   "metadata": {},
   "outputs": [],
   "source": [
    "! ANI/fastANI --ql ANI/querylist.txt --rl ANI/reflist.txt -o ANI/fastani.out --matrix"
   ]
  },
  {
   "cell_type": "markdown",
   "metadata": {},
   "source": [
    "### **Part 5.3. Visualize**"
   ]
  },
  {
   "cell_type": "markdown",
   "metadata": {},
   "source": [
    "Rename `viral_genomes/Densovirus_{sample}.fasta` to `Densovirinae_sp._isolate_RBHC_{sample}`"
   ]
  },
  {
   "cell_type": "code",
   "execution_count": 80,
   "metadata": {},
   "outputs": [],
   "source": [
    "# Load the contents of the file\n",
    "file_path = 'ANI/fastani.out'\n",
    "\n",
    "with open(file_path, 'r') as file:\n",
    "    file_content = file.read()\n",
    "\n",
    "# Define the mapping for renaming the files\n",
    "rename_map = {\n",
    "    \"viral_genomes/Densovirus_D1.fasta\": \"Densovirinae_sp._isolate_RBHC_VM_1\",\n",
    "    \"viral_genomes/Densovirus_D2.fasta\": \"Densovirinae_sp._isolate_RBHC_VM_2\",\n",
    "    \"viral_genomes/Densovirus_D3.fasta\": \"Densovirinae_sp._isolate_RBHC_VM_3\",\n",
    "    \"viral_genomes/Densovirus_D4.fasta\": \"Densovirinae_sp._isolate_RBHC_VM_4\",\n",
    "    \"viral_genomes/Densovirus_D5.fasta\": \"Densovirinae_sp._isolate_RBHC_VM_5\",\n",
    "    \"viral_genomes/Densovirus_P1.fasta\": \"Densovirinae_sp._isolate_RBHC_NN_1\",\n",
    "    \"viral_genomes/Densovirus_P2.fasta\": \"Densovirinae_sp._isolate_RBHC_NN_2\",\n",
    "    \"viral_genomes/Densovirus_P3.fasta\": \"Densovirinae_sp._isolate_RBHC_NN_3\",\n",
    "    \"viral_genomes/Densovirus_P4.fasta\": \"Densovirinae_sp._isolate_RBHC_NN_4\",\n",
    "    \"viral_genomes/Densovirus_P5.fasta\": \"Densovirinae_sp._isolate_RBHC_NN_5\",\n",
    "}\n",
    "\n",
    "# Replace the names in the file content\n",
    "for old_name, new_name in rename_map.items():\n",
    "    file_content = file_content.replace(old_name, new_name)\n",
    "\n",
    "# Save the updated content back to the file\n",
    "with open(file_path, 'w') as file:\n",
    "    file.write(file_content)"
   ]
  },
  {
   "cell_type": "markdown",
   "metadata": {},
   "source": [
    "Import needed `python` modules"
   ]
  },
  {
   "cell_type": "code",
   "execution_count": 22,
   "metadata": {},
   "outputs": [],
   "source": [
    "import pandas as pd\n",
    "import seaborn as sns\n",
    "import matplotlib.pyplot as plt"
   ]
  },
  {
   "cell_type": "markdown",
   "metadata": {},
   "source": [
    "Make directory to store output image"
   ]
  },
  {
   "cell_type": "code",
   "execution_count": 86,
   "metadata": {},
   "outputs": [],
   "source": [
    "! mkdir images"
   ]
  },
  {
   "cell_type": "markdown",
   "metadata": {},
   "source": [
    "Create heatmap!<br>\n",
    "As viruses are extremelly alike the minimal value is set to 98.6"
   ]
  },
  {
   "cell_type": "code",
   "execution_count": 101,
   "metadata": {},
   "outputs": [
    {
     "data": {
      "image/png": "[encoded data removed]",
      "text/plain": [
       "<Figure size 1000x800 with 2 Axes>"
      ]
     },
     "metadata": {},
     "output_type": "display_data"
    }
   ],
   "source": [
    "with open('ANI/fastani.out', 'r') as file:\n",
    "    content = file.readlines()\n",
    "\n",
    "# Extracting the necessary data from the file\n",
    "data = []\n",
    "for line in content:\n",
    "    parts = line.strip().split('\\t')\n",
    "    genome1 = parts[0].split('/')[-1]\n",
    "    genome2 = parts[1].split('/')[-1]\n",
    "    ani_value = float(parts[2])\n",
    "    data.append([genome1, genome2, ani_value])\n",
    "\n",
    "# Creating a DataFrame\n",
    "df = pd.DataFrame(data, columns=['Genome1', 'Genome2', 'ANI'])\n",
    "\n",
    "# Creating a pivot table for the heatmap\n",
    "pivot_table = df.pivot(index='Genome1', columns='Genome2', values='ANI')\n",
    "\n",
    "# Plotting the heatmap\n",
    "plt.figure(figsize=(10, 8))\n",
    "heatmap = sns.heatmap(pivot_table, annot=False, cmap='YlGnBu', cbar_kws={'label': 'ANI Percentage'}, vmin=98.6, vmax=100)\n",
    "#plt.xticks(rotation=45, ha='right')\n",
    "plt.xticks(rotation=90)\n",
    "plt.yticks(rotation=0)\n",
    "plt.xlabel(None)\n",
    "plt.ylabel(None)\n",
    "plt.savefig('images/fastANI_heatmap_x90.png', dpi=600, bbox_inches='tight')"
   ]
  },
  {
   "cell_type": "markdown",
   "metadata": {},
   "source": [
    "## **Part 6. Phylogenomics**"
   ]
  },
  {
   "cell_type": "markdown",
   "metadata": {},
   "source": [
    "### **Part 6.1. Preparation**"
   ]
  },
  {
   "cell_type": "markdown",
   "metadata": {},
   "source": [
    "Make directory for all the `phylogenomics` data"
   ]
  },
  {
   "cell_type": "code",
   "execution_count": 2,
   "metadata": {},
   "outputs": [],
   "source": [
    "! mkdir phylogenomics\n",
    "! mkdir phylogenomics/data/\n",
    "! mkdir phylogenomics/data/proteomes/"
   ]
  },
  {
   "cell_type": "markdown",
   "metadata": {},
   "source": [
    "Copy densoviruses amino acid sequences produces by `prokka` to `phylogenomics/data/proteomes/` directory"
   ]
  },
  {
   "cell_type": "code",
   "execution_count": 3,
   "metadata": {},
   "outputs": [],
   "source": [
    "! cp prokka_results/*/*_annot.faa phylogenomics/data/proteomes/"
   ]
  },
  {
   "cell_type": "markdown",
   "metadata": {},
   "source": [
    "Fetch the list of accession numbers of all the densoviruses from the `RefSeq` database<br>\n",
    "\n",
    "**NB!** Date of accession is Aug 2024"
   ]
  },
  {
   "cell_type": "code",
   "execution_count": 4,
   "metadata": {},
   "outputs": [],
   "source": [
    "! esearch -db nucleotide -query '(\"Ambidensovirus\"[Organism] OR \"densovirus\"[All Fields]) AND \"complete genome\"[All Fields] AND (viruses[filter] AND refseq[filter] AND (\"3000\"[SLEN] : \"6500\"[SLEN]))' | efetch -format acc > phylogenomics/data/accession_numbers.txt"
   ]
  },
  {
   "cell_type": "markdown",
   "metadata": {},
   "source": [
    "Import `Entrez` from `Biopython` and `os`"
   ]
  },
  {
   "cell_type": "code",
   "execution_count": 31,
   "metadata": {},
   "outputs": [],
   "source": [
    "from Bio import Entrez\n",
    "import os"
   ]
  },
  {
   "cell_type": "markdown",
   "metadata": {},
   "source": [
    "Set the email (NCBI requires it for identification)"
   ]
  },
  {
   "cell_type": "code",
   "execution_count": 32,
   "metadata": {},
   "outputs": [],
   "source": [
    "Entrez.email = \"iljapopov17@gmail.com\""
   ]
  },
  {
   "cell_type": "markdown",
   "metadata": {},
   "source": [
    "Function that will download amino acid sequences from the entries from the list of accession numbers"
   ]
  },
  {
   "cell_type": "code",
   "execution_count": 33,
   "metadata": {},
   "outputs": [],
   "source": [
    "# Function to download proteomes from NCBI\n",
    "def download_proteome(accession, output_dir):\n",
    "    # EFetch to download the fasta_cds_aa file\n",
    "    handle = Entrez.efetch(db=\"nuccore\", id=accession, rettype=\"fasta_cds_aa\", retmode=\"text\")\n",
    "    data = handle.read()\n",
    "    handle.close()\n",
    "    \n",
    "    # Save the fasta data\n",
    "    output_file = os.path.join(output_dir, f\"{accession}_proteome.fasta\")\n",
    "    with open(output_file, \"w\") as f:\n",
    "        f.write(data)\n",
    "    print(f\"Downloaded: {accession}\")\n",
    "\n",
    "# Function to process the list of accession numbers\n",
    "def process_accession_list(file_path, output_dir):\n",
    "    # Ensure the output directory exists\n",
    "    os.makedirs(output_dir, exist_ok=True)\n",
    "    \n",
    "    # Read the accession numbers from the file\n",
    "    with open(file_path, \"r\") as file:\n",
    "        accessions = [line.strip() for line in file.readlines()]\n",
    "    \n",
    "    # Download each proteome\n",
    "    for accession in accessions:\n",
    "        download_proteome(accession, output_dir)"
   ]
  },
  {
   "cell_type": "markdown",
   "metadata": {},
   "source": [
    "Run the function to download amino acid sequences of densoviruses from `RefSeq` database"
   ]
  },
  {
   "cell_type": "code",
   "execution_count": 34,
   "metadata": {},
   "outputs": [
    {
     "name": "stdout",
     "output_type": "stream",
     "text": [
      "Downloaded: NC_077083.1\n",
      "Downloaded: NC_077082.1\n",
      "Downloaded: NC_077081.1\n",
      "Downloaded: NC_077080.1\n",
      "Downloaded: NC_077079.1\n",
      "Downloaded: NC_077069.1\n",
      "Downloaded: NC_077065.1\n",
      "Downloaded: NC_077051.1\n",
      "Downloaded: NC_077050.1\n",
      "Downloaded: NC_077038.1\n",
      "Downloaded: NC_077036.1\n",
      "Downloaded: NC_077018.1\n",
      "Downloaded: NC_075118.1\n",
      "Downloaded: NC_005040.1\n",
      "Downloaded: NC_040626.1\n",
      "Downloaded: NC_038376.1\n",
      "Downloaded: NC_003346.1\n",
      "Downloaded: NC_031450.1\n",
      "Downloaded: NC_030296.1\n",
      "Downloaded: NC_026943.1\n",
      "Downloaded: NC_022748.1\n",
      "Downloaded: NC_022564.1\n",
      "Downloaded: NC_020927.1\n",
      "Downloaded: NC_019492.1\n",
      "Downloaded: NC_018450.1\n",
      "Downloaded: NC_018399.1\n",
      "Downloaded: NC_015718.1\n",
      "Downloaded: NC_005041.2\n",
      "Downloaded: NC_015115.1\n",
      "Downloaded: NC_014357.1\n",
      "Downloaded: NC_011545.2\n",
      "Downloaded: NC_012685.1\n",
      "Downloaded: NC_012636.1\n",
      "Downloaded: NC_011317.1\n",
      "Downloaded: NC_006555.1\n",
      "Downloaded: NC_005341.1\n",
      "Downloaded: NC_004290.1\n",
      "Downloaded: NC_004288.1\n",
      "Downloaded: NC_004289.1\n",
      "Downloaded: NC_004287.1\n",
      "Downloaded: NC_004286.1\n",
      "Downloaded: NC_004284.1\n",
      "Downloaded: NC_000936.1\n",
      "Downloaded: NC_001899.1\n",
      "Downloaded: MW628494.1\n"
     ]
    }
   ],
   "source": [
    "# Input: File with accession numbers and output directory\n",
    "accession_file = \"phylogenomics/data/accession_numbers.txt\"\n",
    "output_directory = \"phylogenomics/data/proteomes/\"\n",
    "\n",
    "# Run the process\n",
    "process_accession_list(accession_file, output_directory)"
   ]
  },
  {
   "cell_type": "markdown",
   "metadata": {},
   "source": [
    "### **Part 6.2. \"Sequence brushing\"**"
   ]
  },
  {
   "cell_type": "markdown",
   "metadata": {},
   "source": [
    "Let's look at the sequences' names"
   ]
  },
  {
   "cell_type": "code",
   "execution_count": 35,
   "metadata": {},
   "outputs": [
    {
     "name": "stdout",
     "output_type": "stream",
     "text": [
      ">KCBIPIHA_00001 structural protein [Blattella germanica densovirus-like virus]\n"
     ]
    }
   ],
   "source": [
    "! head -1 phylogenomics/data/proteomes/Densovirus_D1_annot.faa"
   ]
  },
  {
   "cell_type": "code",
   "execution_count": 36,
   "metadata": {},
   "outputs": [
    {
     "name": "stdout",
     "output_type": "stream",
     "text": [
      ">lcl|NC_000936.1_prot_NP_051016.1_1 [locus_tag=PfdVgp1] [db_xref=GeneID:1457168] [protein=structural protein] [protein_id=NP_051016.1] [location=202..930] [gbkey=CDS]\n"
     ]
    }
   ],
   "source": [
    "! head -1 phylogenomics/data/proteomes/NC_000936.1_proteome.fasta"
   ]
  },
  {
   "cell_type": "markdown",
   "metadata": {},
   "source": [
    "It looks informative, but awful. We will use `Proteinortho` later. And this tool will not take these sequences as the input because of their seqs' names. We must rename them. It will be not a simple process. That's why it will be in several steps."
   ]
  },
  {
   "cell_type": "markdown",
   "metadata": {},
   "source": [
    "Make directory to store renamed sequences<br>\n",
    "And make enough directories to allow step-by-step process"
   ]
  },
  {
   "cell_type": "code",
   "execution_count": 37,
   "metadata": {},
   "outputs": [],
   "source": [
    "! mkdir phylogenomics/data/proteomes_renamed/\n",
    "! mkdir phylogenomics/data/proteomes_renamed/round_1/\n",
    "! mkdir phylogenomics/data/proteomes_renamed/round_2/\n",
    "! mkdir phylogenomics/data/proteomes_renamed/round_3/"
   ]
  },
  {
   "cell_type": "markdown",
   "metadata": {},
   "source": [
    "#### **Part 6.2.1. Round 1**"
   ]
  },
  {
   "cell_type": "markdown",
   "metadata": {},
   "source": [
    "For the 1st round we will:\n",
    "\n",
    "- Make this `>KCBIPIHA_00001 structural protein [Blattella germanica densovirus-like virus]` look like this `>structural protein`<br>\n",
    "- Make this `>lcl|NC_000936.1_prot_NP_051016.1_1 [locus_tag=PfdVgp1] [db_xref=GeneID:1457168] [protein=structural protein] [protein_id=NP_051016.1] [location=202..930] [gbkey=CDS]` look like this `>structural protein`\n",
    "\n",
    "So we will delete everything except the gene names"
   ]
  },
  {
   "cell_type": "code",
   "execution_count": 38,
   "metadata": {},
   "outputs": [],
   "source": [
    "%%bash\n",
    "\n",
    "for file in phylogenomics/data/proteomes/*_annot.faa\n",
    "do sed -E 's/^>([^ ]+) ([^[]+)\\[.*\\]/>\\2/' $file > phylogenomics/data/proteomes_renamed/round_1/$(basename \"$file\" _annot.faa)_renamed.fa\n",
    "done"
   ]
  },
  {
   "cell_type": "code",
   "execution_count": 39,
   "metadata": {},
   "outputs": [],
   "source": [
    "%%bash\n",
    "\n",
    "for file in phylogenomics/data/proteomes/*.fasta\n",
    "do sed -E 's/^>.*\\[protein=([^]]+)\\].*/>\\1/' $file > phylogenomics/data/proteomes_renamed/round_1/$(basename \"$file\" _proteome.fasta)_renamed.fa\n",
    "done"
   ]
  },
  {
   "cell_type": "markdown",
   "metadata": {},
   "source": [
    "Let's check if `sed` did good"
   ]
  },
  {
   "cell_type": "code",
   "execution_count": 40,
   "metadata": {},
   "outputs": [
    {
     "name": "stdout",
     "output_type": "stream",
     "text": [
      ">structural protein \n"
     ]
    }
   ],
   "source": [
    "! head -1 phylogenomics/data/proteomes_renamed/round_1/Densovirus_D1_renamed.fa"
   ]
  },
  {
   "cell_type": "code",
   "execution_count": 41,
   "metadata": {},
   "outputs": [
    {
     "name": "stdout",
     "output_type": "stream",
     "text": [
      ">structural protein\n"
     ]
    }
   ],
   "source": [
    "! head -1 phylogenomics/data/proteomes_renamed/round_1/NC_000936.1_renamed.fa"
   ]
  },
  {
   "cell_type": "markdown",
   "metadata": {},
   "source": [
    "Perfect. Let's move on the 2nd round"
   ]
  },
  {
   "cell_type": "markdown",
   "metadata": {},
   "source": [
    "#### **Part 6.2.2. Round 2**"
   ]
  },
  {
   "cell_type": "markdown",
   "metadata": {},
   "source": [
    "First we need to install `BBMap`"
   ]
  },
  {
   "cell_type": "markdown",
   "metadata": {},
   "source": [
    "Download `.tar.gz` archive"
   ]
  },
  {
   "cell_type": "code",
   "execution_count": null,
   "metadata": {},
   "outputs": [],
   "source": [
    "! wget https://sourceforge.net/projects/bbmap/files/latest/download -O BBMap.tar.gz"
   ]
  },
  {
   "cell_type": "markdown",
   "metadata": {},
   "source": [
    "Unpack it"
   ]
  },
  {
   "cell_type": "code",
   "execution_count": null,
   "metadata": {},
   "outputs": [],
   "source": [
    "! tar -xvzf BBMap.tar.gz"
   ]
  },
  {
   "cell_type": "markdown",
   "metadata": {},
   "source": [
    "Delete the initial archive"
   ]
  },
  {
   "cell_type": "code",
   "execution_count": null,
   "metadata": {},
   "outputs": [],
   "source": [
    "! rm -rf BBMap.tar.gz"
   ]
  },
  {
   "cell_type": "markdown",
   "metadata": {},
   "source": [
    "For the 2nd round we will:\n",
    "\n",
    "- Make this `>structural protein` look like this: `>NC_000936.1_structural protein`<br>\n",
    "\n",
    "So, we will make each sequence unique by binding the information of which exactly virus this gene is"
   ]
  },
  {
   "cell_type": "code",
   "execution_count": null,
   "metadata": {},
   "outputs": [],
   "source": [
    "%%bash\n",
    "\n",
    "for file in phylogenomics/data/proteomes_renamed/round_1/*_renamed.fa\n",
    "do export species_name=$(basename $file _renamed.fa)\n",
    "bbmap/rename.sh in=$file prefix=\"$species_name\" addprefix=true out=phylogenomics/data/proteomes_renamed/round_2/$species_name.fa ignorejunk=true ;\n",
    "done"
   ]
  },
  {
   "cell_type": "markdown",
   "metadata": {},
   "source": [
    "Let's check if `BBMap` did good"
   ]
  },
  {
   "cell_type": "code",
   "execution_count": 43,
   "metadata": {},
   "outputs": [
    {
     "name": "stdout",
     "output_type": "stream",
     "text": [
      ">NC_000936.1_structural protein\n"
     ]
    }
   ],
   "source": [
    "! head -1 phylogenomics/data/proteomes_renamed/round_2/NC_000936.1.fa"
   ]
  },
  {
   "cell_type": "markdown",
   "metadata": {},
   "source": [
    "Perfect"
   ]
  },
  {
   "cell_type": "markdown",
   "metadata": {},
   "source": [
    "#### **Part 6.2.3. Round 3**"
   ]
  },
  {
   "cell_type": "markdown",
   "metadata": {},
   "source": [
    "For the 3rd round we will:\n",
    "\n",
    "- Make this `>Densovirus_P3_structural protein` look like this: `>Densovirus_P3_structural_protein_`<br>\n",
    "\n",
    "So, we will replace each space with underline"
   ]
  },
  {
   "cell_type": "code",
   "execution_count": 44,
   "metadata": {},
   "outputs": [],
   "source": [
    "%%bash\n",
    "\n",
    "for file in phylogenomics/data/proteomes_renamed/round_2/*.fa\n",
    "do sed -E '/^>/ s/ /_/g' $file > phylogenomics/data/proteomes_renamed/round_3/$(basename \"$file\")\n",
    "done"
   ]
  },
  {
   "cell_type": "markdown",
   "metadata": {},
   "source": [
    "Let's check if `sed` did good"
   ]
  },
  {
   "cell_type": "code",
   "execution_count": 45,
   "metadata": {},
   "outputs": [
    {
     "name": "stdout",
     "output_type": "stream",
     "text": [
      ">Densovirus_P3_structural_protein_\n"
     ]
    }
   ],
   "source": [
    "! head -1 phylogenomics/data/proteomes_renamed/round_3/Densovirus_P3.fa"
   ]
  },
  {
   "cell_type": "markdown",
   "metadata": {},
   "source": [
    "Perfect"
   ]
  },
  {
   "cell_type": "markdown",
   "metadata": {},
   "source": [
    "#### **Part 6.2.4. Round 4**"
   ]
  },
  {
   "cell_type": "markdown",
   "metadata": {},
   "source": [
    "Import `SeqIO` from `Biopython`"
   ]
  },
  {
   "cell_type": "code",
   "execution_count": 46,
   "metadata": {},
   "outputs": [],
   "source": [
    "from Bio import SeqIO"
   ]
  },
  {
   "cell_type": "markdown",
   "metadata": {},
   "source": [
    "For the 4th round we will:\n",
    "\n",
    "- Make this `>Densovirus_P3_structural protein` look like this: `>Densovirus_P3_structural_protein__1`<br>\n",
    "\n",
    "So, we will enumerate genes. Some viruses has several structural or nonstructural proteins without enumeration. It will be bad further, so we must enumerate them."
   ]
  },
  {
   "cell_type": "code",
   "execution_count": 47,
   "metadata": {},
   "outputs": [],
   "source": [
    "def rename_sequences(input_dir, output_dir):\n",
    "    # Create the output directory if it doesn't exist\n",
    "    os.makedirs(output_dir, exist_ok=True)\n",
    "    \n",
    "    # Loop through each FASTA file in the directory\n",
    "    for filename in os.listdir(input_dir):\n",
    "        if filename.endswith(\".fasta\") or filename.endswith(\".fa\"):\n",
    "            filepath = os.path.join(input_dir, filename)\n",
    "            output_filepath = os.path.join(output_dir, filename)\n",
    "\n",
    "            # Dictionary to keep track of sequence names and their counts\n",
    "            name_count = {}\n",
    "            \n",
    "            # List to store the updated sequences\n",
    "            updated_sequences = []\n",
    "            \n",
    "            # Read the FASTA file\n",
    "            for record in SeqIO.parse(filepath, \"fasta\"):\n",
    "                name = record.id\n",
    "                \n",
    "                # If the name is already seen, append a count suffix\n",
    "                if name in name_count:\n",
    "                    name_count[name] += 1\n",
    "                    new_name = f\"{name}_{name_count[name]}\"\n",
    "                else:\n",
    "                    name_count[name] = 1\n",
    "                    new_name = f\"{name}_1\"\n",
    "                \n",
    "                # Update the record ID\n",
    "                record.id = new_name\n",
    "                record.description = \"\"  # Optionally clear the description\n",
    "                \n",
    "                # Store the updated record\n",
    "                updated_sequences.append(record)\n",
    "\n",
    "            # Write the updated sequences to a new FASTA file\n",
    "            with open(output_filepath, \"w\") as output_handle:\n",
    "                SeqIO.write(updated_sequences, output_handle, \"fasta\")"
   ]
  },
  {
   "cell_type": "markdown",
   "metadata": {},
   "source": [
    "Run the function above"
   ]
  },
  {
   "cell_type": "code",
   "execution_count": 48,
   "metadata": {},
   "outputs": [],
   "source": [
    "input_dir = \"phylogenomics/data/proteomes_renamed/round_3\"\n",
    "output_dir = \"phylogenomics/data/proteomes_renamed/round_4\"\n",
    "rename_sequences(input_dir, output_dir)"
   ]
  },
  {
   "cell_type": "markdown",
   "metadata": {},
   "source": [
    "Let's check if function `rename_sequences()` did good"
   ]
  },
  {
   "cell_type": "code",
   "execution_count": 49,
   "metadata": {},
   "outputs": [
    {
     "name": "stdout",
     "output_type": "stream",
     "text": [
      ">Densovirus_P3_structural_protein__1\n"
     ]
    }
   ],
   "source": [
    "! head -1 phylogenomics/data/proteomes_renamed/round_4/Densovirus_P3.fa"
   ]
  },
  {
   "cell_type": "markdown",
   "metadata": {},
   "source": [
    "Perfect"
   ]
  },
  {
   "cell_type": "markdown",
   "metadata": {},
   "source": [
    "**Disclaimer**<br>\n",
    "Unfortunatelly, we have to delete the `NC_004284.1 Junonia coenia densovirus, complete genome` from the analysis, because `Proteinortho` complains that this exactly sequence has some inapropriate letters in it."
   ]
  },
  {
   "cell_type": "code",
   "execution_count": 51,
   "metadata": {},
   "outputs": [],
   "source": [
    "! rm -rf phylogenomics/data/proteomes_renamed/round_4/NC_004284.1.fa"
   ]
  },
  {
   "cell_type": "markdown",
   "metadata": {},
   "source": [
    "### **Part 6.3. Launching `Proteinortho` to find the orhologs**"
   ]
  },
  {
   "cell_type": "markdown",
   "metadata": {},
   "source": [
    "Launch `Proteinortho`"
   ]
  },
  {
   "cell_type": "code",
   "execution_count": null,
   "metadata": {},
   "outputs": [],
   "source": [
    "! proteinortho phylogenomics/data/proteomes_renamed/round_4/*.fa -cpus=24"
   ]
  },
  {
   "cell_type": "markdown",
   "metadata": {},
   "source": [
    "Unfortunatelly, `Proteinortho` does not let you to redirect output to any directory you want...<br>\n",
    "That's why we move the files ourselves!<br>\n",
    "For that first we create a directory - `phylogenomics/proteinortho_output/`"
   ]
  },
  {
   "cell_type": "code",
   "execution_count": 53,
   "metadata": {},
   "outputs": [],
   "source": [
    "! mkdir phylogenomics/proteinortho_output/"
   ]
  },
  {
   "cell_type": "markdown",
   "metadata": {},
   "source": [
    "Then we just move any `myproject*` file to `phylogenomics/proteinortho_output/` directory"
   ]
  },
  {
   "cell_type": "code",
   "execution_count": 54,
   "metadata": {},
   "outputs": [],
   "source": [
    "! mv myproject* phylogenomics/proteinortho_output/"
   ]
  },
  {
   "cell_type": "markdown",
   "metadata": {},
   "source": [
    "At this point it is important to take time for manual exploration of the `phylogenomics/proteinortho_output/myproject.proteinortho.tsv` file. To find any single copy orthologs or to find any other interesting genes."
   ]
  },
  {
   "cell_type": "markdown",
   "metadata": {},
   "source": [
    "### **Part 6.4. Extracting orthologs from `Proteinortho` output**"
   ]
  },
  {
   "cell_type": "markdown",
   "metadata": {},
   "source": [
    "Import `pandas`"
   ]
  },
  {
   "cell_type": "code",
   "execution_count": 55,
   "metadata": {},
   "outputs": [],
   "source": [
    "import pandas as pd"
   ]
  },
  {
   "cell_type": "markdown",
   "metadata": {},
   "source": [
    "Read the `phylogenomics/proteinortho_output/myproject.proteinortho.tsv` file into a DataFrame"
   ]
  },
  {
   "cell_type": "code",
   "execution_count": 56,
   "metadata": {},
   "outputs": [],
   "source": [
    "df_all = pd.read_csv('phylogenomics/proteinortho_output/myproject.proteinortho.tsv', sep='\\t')"
   ]
  },
  {
   "cell_type": "markdown",
   "metadata": {},
   "source": [
    "Drop all the rows except 0, 1 and 3"
   ]
  },
  {
   "cell_type": "code",
   "execution_count": 57,
   "metadata": {},
   "outputs": [
    {
     "data": {
      "text/html": [
       "<div>\n",
       "<style scoped>\n",
       "    .dataframe tbody tr th:only-of-type {\n",
       "        vertical-align: middle;\n",
       "    }\n",
       "\n",
       "    .dataframe tbody tr th {\n",
       "        vertical-align: top;\n",
       "    }\n",
       "\n",
       "    .dataframe thead th {\n",
       "        text-align: right;\n",
       "    }\n",
       "</style>\n",
       "<table border=\"1\" class=\"dataframe\">\n",
       "  <thead>\n",
       "    <tr style=\"text-align: right;\">\n",
       "      <th></th>\n",
       "      <th># Species</th>\n",
       "      <th>Genes</th>\n",
       "      <th>Alg.-Conn.</th>\n",
       "      <th>Densovirus_D1.fa</th>\n",
       "      <th>Densovirus_D2.fa</th>\n",
       "      <th>Densovirus_D3.fa</th>\n",
       "      <th>Densovirus_D4.fa</th>\n",
       "      <th>Densovirus_D5.fa</th>\n",
       "      <th>Densovirus_P1.fa</th>\n",
       "      <th>Densovirus_P2.fa</th>\n",
       "      <th>...</th>\n",
       "      <th>NC_077038.1.fa</th>\n",
       "      <th>NC_077050.1.fa</th>\n",
       "      <th>NC_077051.1.fa</th>\n",
       "      <th>NC_077065.1.fa</th>\n",
       "      <th>NC_077069.1.fa</th>\n",
       "      <th>NC_077079.1.fa</th>\n",
       "      <th>NC_077080.1.fa</th>\n",
       "      <th>NC_077081.1.fa</th>\n",
       "      <th>NC_077082.1.fa</th>\n",
       "      <th>NC_077083.1.fa</th>\n",
       "    </tr>\n",
       "  </thead>\n",
       "  <tbody>\n",
       "    <tr>\n",
       "      <th>0</th>\n",
       "      <td>45</td>\n",
       "      <td>45</td>\n",
       "      <td>0.0222</td>\n",
       "      <td>Densovirus_D1_non-structural_protein__1</td>\n",
       "      <td>Densovirus_D2_non-structural_protein__1</td>\n",
       "      <td>Densovirus_D3_non-structural_protein__1</td>\n",
       "      <td>Densovirus_D4_non-structural_protein__1</td>\n",
       "      <td>Densovirus_D5_non-structural_protein__1</td>\n",
       "      <td>Densovirus_P1_non-structural_protein__1</td>\n",
       "      <td>Densovirus_P2_non-structural_protein__1</td>\n",
       "      <td>...</td>\n",
       "      <td>NC_077038.1_nonstructural_protein_2</td>\n",
       "      <td>NC_077050.1_putative_nonstructural_protein_1</td>\n",
       "      <td>*</td>\n",
       "      <td>NC_077065.1_hypothetical_protein_3</td>\n",
       "      <td>NC_077069.1_nonstructural_protein_1_1</td>\n",
       "      <td>NC_077079.1_nonstructural_protein_1</td>\n",
       "      <td>NC_077080.1_nonstructural_protein_1</td>\n",
       "      <td>NC_077081.1_nonstructural_protein_1</td>\n",
       "      <td>NC_077082.1_nonstructural_protein_1</td>\n",
       "      <td>NC_077083.1_nonstructural_protein_1</td>\n",
       "    </tr>\n",
       "    <tr>\n",
       "      <th>1</th>\n",
       "      <td>28</td>\n",
       "      <td>43</td>\n",
       "      <td>0.1920</td>\n",
       "      <td>Densovirus_D1_ORF1__1</td>\n",
       "      <td>Densovirus_D2_ORF1__1</td>\n",
       "      <td>Densovirus_D3_ORF1__1</td>\n",
       "      <td>Densovirus_D4_ORF1__1</td>\n",
       "      <td>Densovirus_D5_ORF1__1</td>\n",
       "      <td>Densovirus_P1_ORF1__1</td>\n",
       "      <td>Densovirus_P2_ORF1__1</td>\n",
       "      <td>...</td>\n",
       "      <td>*</td>\n",
       "      <td>*</td>\n",
       "      <td>*</td>\n",
       "      <td>NC_077065.1_hypothetical_protein_2</td>\n",
       "      <td>*</td>\n",
       "      <td>NC_077079.1_VP1_1</td>\n",
       "      <td>NC_077080.1_VP1_1</td>\n",
       "      <td>*</td>\n",
       "      <td>NC_077082.1_VP1_1</td>\n",
       "      <td>*</td>\n",
       "    </tr>\n",
       "    <tr>\n",
       "      <th>2</th>\n",
       "      <td>12</td>\n",
       "      <td>12</td>\n",
       "      <td>1.0000</td>\n",
       "      <td>Densovirus_D1_structural_protein__1</td>\n",
       "      <td>Densovirus_D2_structural_protein__1</td>\n",
       "      <td>Densovirus_D3_structural_protein__1</td>\n",
       "      <td>Densovirus_D4_structural_protein__1</td>\n",
       "      <td>Densovirus_D5_structural_protein__1</td>\n",
       "      <td>Densovirus_P1_structural_protein__1</td>\n",
       "      <td>Densovirus_P2_structural_protein__1</td>\n",
       "      <td>...</td>\n",
       "      <td>*</td>\n",
       "      <td>*</td>\n",
       "      <td>*</td>\n",
       "      <td>*</td>\n",
       "      <td>*</td>\n",
       "      <td>*</td>\n",
       "      <td>*</td>\n",
       "      <td>*</td>\n",
       "      <td>*</td>\n",
       "      <td>*</td>\n",
       "    </tr>\n",
       "  </tbody>\n",
       "</table>\n",
       "<p>3 rows × 57 columns</p>\n",
       "</div>"
      ],
      "text/plain": [
       "   # Species  Genes  Alg.-Conn.                         Densovirus_D1.fa  \\\n",
       "0         45     45      0.0222  Densovirus_D1_non-structural_protein__1   \n",
       "1         28     43      0.1920                    Densovirus_D1_ORF1__1   \n",
       "2         12     12      1.0000      Densovirus_D1_structural_protein__1   \n",
       "\n",
       "                          Densovirus_D2.fa  \\\n",
       "0  Densovirus_D2_non-structural_protein__1   \n",
       "1                    Densovirus_D2_ORF1__1   \n",
       "2      Densovirus_D2_structural_protein__1   \n",
       "\n",
       "                          Densovirus_D3.fa  \\\n",
       "0  Densovirus_D3_non-structural_protein__1   \n",
       "1                    Densovirus_D3_ORF1__1   \n",
       "2      Densovirus_D3_structural_protein__1   \n",
       "\n",
       "                          Densovirus_D4.fa  \\\n",
       "0  Densovirus_D4_non-structural_protein__1   \n",
       "1                    Densovirus_D4_ORF1__1   \n",
       "2      Densovirus_D4_structural_protein__1   \n",
       "\n",
       "                          Densovirus_D5.fa  \\\n",
       "0  Densovirus_D5_non-structural_protein__1   \n",
       "1                    Densovirus_D5_ORF1__1   \n",
       "2      Densovirus_D5_structural_protein__1   \n",
       "\n",
       "                          Densovirus_P1.fa  \\\n",
       "0  Densovirus_P1_non-structural_protein__1   \n",
       "1                    Densovirus_P1_ORF1__1   \n",
       "2      Densovirus_P1_structural_protein__1   \n",
       "\n",
       "                          Densovirus_P2.fa  ...  \\\n",
       "0  Densovirus_P2_non-structural_protein__1  ...   \n",
       "1                    Densovirus_P2_ORF1__1  ...   \n",
       "2      Densovirus_P2_structural_protein__1  ...   \n",
       "\n",
       "                        NC_077038.1.fa  \\\n",
       "0  NC_077038.1_nonstructural_protein_2   \n",
       "1                                    *   \n",
       "2                                    *   \n",
       "\n",
       "                                 NC_077050.1.fa NC_077051.1.fa  \\\n",
       "0  NC_077050.1_putative_nonstructural_protein_1              *   \n",
       "1                                             *              *   \n",
       "2                                             *              *   \n",
       "\n",
       "                       NC_077065.1.fa                         NC_077069.1.fa  \\\n",
       "0  NC_077065.1_hypothetical_protein_3  NC_077069.1_nonstructural_protein_1_1   \n",
       "1  NC_077065.1_hypothetical_protein_2                                      *   \n",
       "2                                   *                                      *   \n",
       "\n",
       "                        NC_077079.1.fa                       NC_077080.1.fa  \\\n",
       "0  NC_077079.1_nonstructural_protein_1  NC_077080.1_nonstructural_protein_1   \n",
       "1                    NC_077079.1_VP1_1                    NC_077080.1_VP1_1   \n",
       "2                                    *                                    *   \n",
       "\n",
       "                        NC_077081.1.fa                       NC_077082.1.fa  \\\n",
       "0  NC_077081.1_nonstructural_protein_1  NC_077082.1_nonstructural_protein_1   \n",
       "1                                    *                    NC_077082.1_VP1_1   \n",
       "2                                    *                                    *   \n",
       "\n",
       "                        NC_077083.1.fa  \n",
       "0  NC_077083.1_nonstructural_protein_1  \n",
       "1                                    *  \n",
       "2                                    *  \n",
       "\n",
       "[3 rows x 57 columns]"
      ]
     },
     "execution_count": 57,
     "metadata": {},
     "output_type": "execute_result"
    }
   ],
   "source": [
    "for i in range(3, 23 + 1):\n",
    "    df_all = df_all.drop(index=[i])\n",
    "\n",
    "df_all"
   ]
  },
  {
   "cell_type": "markdown",
   "metadata": {},
   "source": [
    "These are the orthologs we will work with:\n",
    "\n",
    "- `Non-structural protein` is presented in 44 viruses (10 from this study and 34 from `RefSeq`)\n",
    "- `ORF1` or `structural protein` is presented in 27 viruses (10 from this study and 17 from `RefSeq`), but in 5 viruses it is not single-copy. We will delete them from our dataset. Which makes this gene to be presented only in 22 viruses (10 from this study and 12 from `RefSeq`)\n",
    "- Another `structural protein` is presented in 11 viruses (10 from this study and 1 from `RefSeq`). It is interesting because its `Alg.-Conn.` parameter = `1.0000`. We must investigate it."
   ]
  },
  {
   "cell_type": "markdown",
   "metadata": {},
   "source": [
    "Delete all non-SCOs"
   ]
  },
  {
   "cell_type": "code",
   "execution_count": 58,
   "metadata": {},
   "outputs": [],
   "source": [
    "df_all.loc[1] = df_all.loc[1].apply(lambda x: x.replace(',', '*') if isinstance(x, str) else x)"
   ]
  },
  {
   "cell_type": "markdown",
   "metadata": {},
   "source": [
    "#### **Part 6.4.1. Non-structural protein**"
   ]
  },
  {
   "cell_type": "code",
   "execution_count": 59,
   "metadata": {},
   "outputs": [],
   "source": [
    "df_nsp = df_all.drop(index=[1,2])"
   ]
  },
  {
   "cell_type": "code",
   "execution_count": 60,
   "metadata": {},
   "outputs": [
    {
     "data": {
      "text/html": [
       "<div>\n",
       "<style scoped>\n",
       "    .dataframe tbody tr th:only-of-type {\n",
       "        vertical-align: middle;\n",
       "    }\n",
       "\n",
       "    .dataframe tbody tr th {\n",
       "        vertical-align: top;\n",
       "    }\n",
       "\n",
       "    .dataframe thead th {\n",
       "        text-align: right;\n",
       "    }\n",
       "</style>\n",
       "<table border=\"1\" class=\"dataframe\">\n",
       "  <thead>\n",
       "    <tr style=\"text-align: right;\">\n",
       "      <th></th>\n",
       "      <th># Species</th>\n",
       "      <th>Genes</th>\n",
       "      <th>Alg.-Conn.</th>\n",
       "      <th>Densovirus_D1.fa</th>\n",
       "      <th>Densovirus_D2.fa</th>\n",
       "      <th>Densovirus_D3.fa</th>\n",
       "      <th>Densovirus_D4.fa</th>\n",
       "      <th>Densovirus_D5.fa</th>\n",
       "      <th>Densovirus_P1.fa</th>\n",
       "      <th>Densovirus_P2.fa</th>\n",
       "      <th>...</th>\n",
       "      <th>NC_077038.1.fa</th>\n",
       "      <th>NC_077050.1.fa</th>\n",
       "      <th>NC_077051.1.fa</th>\n",
       "      <th>NC_077065.1.fa</th>\n",
       "      <th>NC_077069.1.fa</th>\n",
       "      <th>NC_077079.1.fa</th>\n",
       "      <th>NC_077080.1.fa</th>\n",
       "      <th>NC_077081.1.fa</th>\n",
       "      <th>NC_077082.1.fa</th>\n",
       "      <th>NC_077083.1.fa</th>\n",
       "    </tr>\n",
       "  </thead>\n",
       "  <tbody>\n",
       "    <tr>\n",
       "      <th>0</th>\n",
       "      <td>45</td>\n",
       "      <td>45</td>\n",
       "      <td>0.0222</td>\n",
       "      <td>Densovirus_D1_non-structural_protein__1</td>\n",
       "      <td>Densovirus_D2_non-structural_protein__1</td>\n",
       "      <td>Densovirus_D3_non-structural_protein__1</td>\n",
       "      <td>Densovirus_D4_non-structural_protein__1</td>\n",
       "      <td>Densovirus_D5_non-structural_protein__1</td>\n",
       "      <td>Densovirus_P1_non-structural_protein__1</td>\n",
       "      <td>Densovirus_P2_non-structural_protein__1</td>\n",
       "      <td>...</td>\n",
       "      <td>NC_077038.1_nonstructural_protein_2</td>\n",
       "      <td>NC_077050.1_putative_nonstructural_protein_1</td>\n",
       "      <td>*</td>\n",
       "      <td>NC_077065.1_hypothetical_protein_3</td>\n",
       "      <td>NC_077069.1_nonstructural_protein_1_1</td>\n",
       "      <td>NC_077079.1_nonstructural_protein_1</td>\n",
       "      <td>NC_077080.1_nonstructural_protein_1</td>\n",
       "      <td>NC_077081.1_nonstructural_protein_1</td>\n",
       "      <td>NC_077082.1_nonstructural_protein_1</td>\n",
       "      <td>NC_077083.1_nonstructural_protein_1</td>\n",
       "    </tr>\n",
       "  </tbody>\n",
       "</table>\n",
       "<p>1 rows × 57 columns</p>\n",
       "</div>"
      ],
      "text/plain": [
       "   # Species  Genes  Alg.-Conn.                         Densovirus_D1.fa  \\\n",
       "0         45     45      0.0222  Densovirus_D1_non-structural_protein__1   \n",
       "\n",
       "                          Densovirus_D2.fa  \\\n",
       "0  Densovirus_D2_non-structural_protein__1   \n",
       "\n",
       "                          Densovirus_D3.fa  \\\n",
       "0  Densovirus_D3_non-structural_protein__1   \n",
       "\n",
       "                          Densovirus_D4.fa  \\\n",
       "0  Densovirus_D4_non-structural_protein__1   \n",
       "\n",
       "                          Densovirus_D5.fa  \\\n",
       "0  Densovirus_D5_non-structural_protein__1   \n",
       "\n",
       "                          Densovirus_P1.fa  \\\n",
       "0  Densovirus_P1_non-structural_protein__1   \n",
       "\n",
       "                          Densovirus_P2.fa  ...  \\\n",
       "0  Densovirus_P2_non-structural_protein__1  ...   \n",
       "\n",
       "                        NC_077038.1.fa  \\\n",
       "0  NC_077038.1_nonstructural_protein_2   \n",
       "\n",
       "                                 NC_077050.1.fa NC_077051.1.fa  \\\n",
       "0  NC_077050.1_putative_nonstructural_protein_1              *   \n",
       "\n",
       "                       NC_077065.1.fa                         NC_077069.1.fa  \\\n",
       "0  NC_077065.1_hypothetical_protein_3  NC_077069.1_nonstructural_protein_1_1   \n",
       "\n",
       "                        NC_077079.1.fa                       NC_077080.1.fa  \\\n",
       "0  NC_077079.1_nonstructural_protein_1  NC_077080.1_nonstructural_protein_1   \n",
       "\n",
       "                        NC_077081.1.fa                       NC_077082.1.fa  \\\n",
       "0  NC_077081.1_nonstructural_protein_1  NC_077082.1_nonstructural_protein_1   \n",
       "\n",
       "                        NC_077083.1.fa  \n",
       "0  NC_077083.1_nonstructural_protein_1  \n",
       "\n",
       "[1 rows x 57 columns]"
      ]
     },
     "execution_count": 60,
     "metadata": {},
     "output_type": "execute_result"
    }
   ],
   "source": [
    "df_nsp"
   ]
  },
  {
   "cell_type": "markdown",
   "metadata": {},
   "source": [
    "Delete every entry with `*`"
   ]
  },
  {
   "cell_type": "code",
   "execution_count": 61,
   "metadata": {},
   "outputs": [],
   "source": [
    "df_nsp_cols_to_drop = df_nsp.columns[df_nsp.apply(lambda col: col.astype(str).str.contains(r'\\*', regex=True).any())]"
   ]
  },
  {
   "cell_type": "markdown",
   "metadata": {},
   "source": [
    "Examine which entries will be dropped"
   ]
  },
  {
   "cell_type": "code",
   "execution_count": 62,
   "metadata": {},
   "outputs": [
    {
     "data": {
      "text/plain": [
       "Index(['NC_011317.1.fa', 'NC_011545.2.fa', 'NC_012636.1.fa', 'NC_014357.1.fa',\n",
       "       'NC_015115.1.fa', 'NC_020927.1.fa', 'NC_038376.1.fa', 'NC_077018.1.fa',\n",
       "       'NC_077051.1.fa'],\n",
       "      dtype='object')"
      ]
     },
     "execution_count": 62,
     "metadata": {},
     "output_type": "execute_result"
    }
   ],
   "source": [
    "df_nsp_cols_to_drop"
   ]
  },
  {
   "cell_type": "markdown",
   "metadata": {},
   "source": [
    "Save a separate `.tsv` file"
   ]
  },
  {
   "cell_type": "code",
   "execution_count": 63,
   "metadata": {},
   "outputs": [],
   "source": [
    "df_nsp_cleaned = df_nsp.drop(columns=df_nsp_cols_to_drop)\n",
    "df_nsp_cleaned.to_csv('phylogenomics/proteinortho_output/NSPs.tsv', sep='\\t', index=False)"
   ]
  },
  {
   "cell_type": "markdown",
   "metadata": {},
   "source": [
    "#### **Part 6.4.2. Structural protein 1**"
   ]
  },
  {
   "cell_type": "code",
   "execution_count": 64,
   "metadata": {},
   "outputs": [],
   "source": [
    "df_sp = df_all.drop(index=[0, 2])"
   ]
  },
  {
   "cell_type": "code",
   "execution_count": 65,
   "metadata": {},
   "outputs": [
    {
     "data": {
      "text/html": [
       "<div>\n",
       "<style scoped>\n",
       "    .dataframe tbody tr th:only-of-type {\n",
       "        vertical-align: middle;\n",
       "    }\n",
       "\n",
       "    .dataframe tbody tr th {\n",
       "        vertical-align: top;\n",
       "    }\n",
       "\n",
       "    .dataframe thead th {\n",
       "        text-align: right;\n",
       "    }\n",
       "</style>\n",
       "<table border=\"1\" class=\"dataframe\">\n",
       "  <thead>\n",
       "    <tr style=\"text-align: right;\">\n",
       "      <th></th>\n",
       "      <th># Species</th>\n",
       "      <th>Genes</th>\n",
       "      <th>Alg.-Conn.</th>\n",
       "      <th>Densovirus_D1.fa</th>\n",
       "      <th>Densovirus_D2.fa</th>\n",
       "      <th>Densovirus_D3.fa</th>\n",
       "      <th>Densovirus_D4.fa</th>\n",
       "      <th>Densovirus_D5.fa</th>\n",
       "      <th>Densovirus_P1.fa</th>\n",
       "      <th>Densovirus_P2.fa</th>\n",
       "      <th>...</th>\n",
       "      <th>NC_077038.1.fa</th>\n",
       "      <th>NC_077050.1.fa</th>\n",
       "      <th>NC_077051.1.fa</th>\n",
       "      <th>NC_077065.1.fa</th>\n",
       "      <th>NC_077069.1.fa</th>\n",
       "      <th>NC_077079.1.fa</th>\n",
       "      <th>NC_077080.1.fa</th>\n",
       "      <th>NC_077081.1.fa</th>\n",
       "      <th>NC_077082.1.fa</th>\n",
       "      <th>NC_077083.1.fa</th>\n",
       "    </tr>\n",
       "  </thead>\n",
       "  <tbody>\n",
       "    <tr>\n",
       "      <th>1</th>\n",
       "      <td>28</td>\n",
       "      <td>43</td>\n",
       "      <td>0.192</td>\n",
       "      <td>Densovirus_D1_ORF1__1</td>\n",
       "      <td>Densovirus_D2_ORF1__1</td>\n",
       "      <td>Densovirus_D3_ORF1__1</td>\n",
       "      <td>Densovirus_D4_ORF1__1</td>\n",
       "      <td>Densovirus_D5_ORF1__1</td>\n",
       "      <td>Densovirus_P1_ORF1__1</td>\n",
       "      <td>Densovirus_P2_ORF1__1</td>\n",
       "      <td>...</td>\n",
       "      <td>*</td>\n",
       "      <td>*</td>\n",
       "      <td>*</td>\n",
       "      <td>NC_077065.1_hypothetical_protein_2</td>\n",
       "      <td>*</td>\n",
       "      <td>NC_077079.1_VP1_1</td>\n",
       "      <td>NC_077080.1_VP1_1</td>\n",
       "      <td>*</td>\n",
       "      <td>NC_077082.1_VP1_1</td>\n",
       "      <td>*</td>\n",
       "    </tr>\n",
       "  </tbody>\n",
       "</table>\n",
       "<p>1 rows × 57 columns</p>\n",
       "</div>"
      ],
      "text/plain": [
       "   # Species  Genes  Alg.-Conn.       Densovirus_D1.fa       Densovirus_D2.fa  \\\n",
       "1         28     43       0.192  Densovirus_D1_ORF1__1  Densovirus_D2_ORF1__1   \n",
       "\n",
       "        Densovirus_D3.fa       Densovirus_D4.fa       Densovirus_D5.fa  \\\n",
       "1  Densovirus_D3_ORF1__1  Densovirus_D4_ORF1__1  Densovirus_D5_ORF1__1   \n",
       "\n",
       "        Densovirus_P1.fa       Densovirus_P2.fa  ... NC_077038.1.fa  \\\n",
       "1  Densovirus_P1_ORF1__1  Densovirus_P2_ORF1__1  ...              *   \n",
       "\n",
       "  NC_077050.1.fa NC_077051.1.fa                      NC_077065.1.fa  \\\n",
       "1              *              *  NC_077065.1_hypothetical_protein_2   \n",
       "\n",
       "  NC_077069.1.fa     NC_077079.1.fa     NC_077080.1.fa NC_077081.1.fa  \\\n",
       "1              *  NC_077079.1_VP1_1  NC_077080.1_VP1_1              *   \n",
       "\n",
       "      NC_077082.1.fa NC_077083.1.fa  \n",
       "1  NC_077082.1_VP1_1              *  \n",
       "\n",
       "[1 rows x 57 columns]"
      ]
     },
     "execution_count": 65,
     "metadata": {},
     "output_type": "execute_result"
    }
   ],
   "source": [
    "df_sp"
   ]
  },
  {
   "cell_type": "markdown",
   "metadata": {},
   "source": [
    "Delete every entry with `*`"
   ]
  },
  {
   "cell_type": "code",
   "execution_count": 66,
   "metadata": {},
   "outputs": [],
   "source": [
    "df_sp_cols_to_drop = df_sp.columns[df_sp.apply(lambda col: col.astype(str).str.contains(r'\\*', regex=True).any())]"
   ]
  },
  {
   "cell_type": "markdown",
   "metadata": {},
   "source": [
    "Examine which entries will be dropped"
   ]
  },
  {
   "cell_type": "code",
   "execution_count": 67,
   "metadata": {},
   "outputs": [
    {
     "data": {
      "text/plain": [
       "Index(['NC_001899.1.fa', 'NC_003346.1.fa', 'NC_004286.1.fa', 'NC_004287.1.fa',\n",
       "       'NC_004288.1.fa', 'NC_005041.2.fa', 'NC_005341.1.fa', 'NC_006555.1.fa',\n",
       "       'NC_011317.1.fa', 'NC_011545.2.fa', 'NC_012636.1.fa', 'NC_014357.1.fa',\n",
       "       'NC_015115.1.fa', 'NC_015718.1.fa', 'NC_018399.1.fa', 'NC_018450.1.fa',\n",
       "       'NC_019492.1.fa', 'NC_020927.1.fa', 'NC_022564.1.fa', 'NC_026943.1.fa',\n",
       "       'NC_030296.1.fa', 'NC_038376.1.fa', 'NC_040626.1.fa', 'NC_075118.1.fa',\n",
       "       'NC_077018.1.fa', 'NC_077036.1.fa', 'NC_077038.1.fa', 'NC_077050.1.fa',\n",
       "       'NC_077051.1.fa', 'NC_077069.1.fa', 'NC_077081.1.fa', 'NC_077083.1.fa'],\n",
       "      dtype='object')"
      ]
     },
     "execution_count": 67,
     "metadata": {},
     "output_type": "execute_result"
    }
   ],
   "source": [
    "df_sp_cols_to_drop"
   ]
  },
  {
   "cell_type": "markdown",
   "metadata": {},
   "source": [
    "Save a separate `.tsv` file"
   ]
  },
  {
   "cell_type": "code",
   "execution_count": 68,
   "metadata": {},
   "outputs": [],
   "source": [
    "df_sp_cleaned = df_sp.drop(columns=df_sp_cols_to_drop)\n",
    "df_sp_cleaned.to_csv('phylogenomics/proteinortho_output/SPs.tsv', sep='\\t', index=False)"
   ]
  },
  {
   "cell_type": "markdown",
   "metadata": {},
   "source": [
    "#### **Part 6.4.3. Non-structural protein + structural protein 1**"
   ]
  },
  {
   "cell_type": "markdown",
   "metadata": {},
   "source": [
    "We also need a `.tsv` file with NSP and SP"
   ]
  },
  {
   "cell_type": "markdown",
   "metadata": {},
   "source": [
    "Delete every entry with `*`"
   ]
  },
  {
   "cell_type": "code",
   "execution_count": 69,
   "metadata": {},
   "outputs": [],
   "source": [
    "df_nsp_sp = df_all.drop(index=[2])"
   ]
  },
  {
   "cell_type": "code",
   "execution_count": 70,
   "metadata": {},
   "outputs": [
    {
     "data": {
      "text/html": [
       "<div>\n",
       "<style scoped>\n",
       "    .dataframe tbody tr th:only-of-type {\n",
       "        vertical-align: middle;\n",
       "    }\n",
       "\n",
       "    .dataframe tbody tr th {\n",
       "        vertical-align: top;\n",
       "    }\n",
       "\n",
       "    .dataframe thead th {\n",
       "        text-align: right;\n",
       "    }\n",
       "</style>\n",
       "<table border=\"1\" class=\"dataframe\">\n",
       "  <thead>\n",
       "    <tr style=\"text-align: right;\">\n",
       "      <th></th>\n",
       "      <th># Species</th>\n",
       "      <th>Genes</th>\n",
       "      <th>Alg.-Conn.</th>\n",
       "      <th>Densovirus_D1.fa</th>\n",
       "      <th>Densovirus_D2.fa</th>\n",
       "      <th>Densovirus_D3.fa</th>\n",
       "      <th>Densovirus_D4.fa</th>\n",
       "      <th>Densovirus_D5.fa</th>\n",
       "      <th>Densovirus_P1.fa</th>\n",
       "      <th>Densovirus_P2.fa</th>\n",
       "      <th>...</th>\n",
       "      <th>NC_077038.1.fa</th>\n",
       "      <th>NC_077050.1.fa</th>\n",
       "      <th>NC_077051.1.fa</th>\n",
       "      <th>NC_077065.1.fa</th>\n",
       "      <th>NC_077069.1.fa</th>\n",
       "      <th>NC_077079.1.fa</th>\n",
       "      <th>NC_077080.1.fa</th>\n",
       "      <th>NC_077081.1.fa</th>\n",
       "      <th>NC_077082.1.fa</th>\n",
       "      <th>NC_077083.1.fa</th>\n",
       "    </tr>\n",
       "  </thead>\n",
       "  <tbody>\n",
       "    <tr>\n",
       "      <th>0</th>\n",
       "      <td>45</td>\n",
       "      <td>45</td>\n",
       "      <td>0.0222</td>\n",
       "      <td>Densovirus_D1_non-structural_protein__1</td>\n",
       "      <td>Densovirus_D2_non-structural_protein__1</td>\n",
       "      <td>Densovirus_D3_non-structural_protein__1</td>\n",
       "      <td>Densovirus_D4_non-structural_protein__1</td>\n",
       "      <td>Densovirus_D5_non-structural_protein__1</td>\n",
       "      <td>Densovirus_P1_non-structural_protein__1</td>\n",
       "      <td>Densovirus_P2_non-structural_protein__1</td>\n",
       "      <td>...</td>\n",
       "      <td>NC_077038.1_nonstructural_protein_2</td>\n",
       "      <td>NC_077050.1_putative_nonstructural_protein_1</td>\n",
       "      <td>*</td>\n",
       "      <td>NC_077065.1_hypothetical_protein_3</td>\n",
       "      <td>NC_077069.1_nonstructural_protein_1_1</td>\n",
       "      <td>NC_077079.1_nonstructural_protein_1</td>\n",
       "      <td>NC_077080.1_nonstructural_protein_1</td>\n",
       "      <td>NC_077081.1_nonstructural_protein_1</td>\n",
       "      <td>NC_077082.1_nonstructural_protein_1</td>\n",
       "      <td>NC_077083.1_nonstructural_protein_1</td>\n",
       "    </tr>\n",
       "    <tr>\n",
       "      <th>1</th>\n",
       "      <td>28</td>\n",
       "      <td>43</td>\n",
       "      <td>0.1920</td>\n",
       "      <td>Densovirus_D1_ORF1__1</td>\n",
       "      <td>Densovirus_D2_ORF1__1</td>\n",
       "      <td>Densovirus_D3_ORF1__1</td>\n",
       "      <td>Densovirus_D4_ORF1__1</td>\n",
       "      <td>Densovirus_D5_ORF1__1</td>\n",
       "      <td>Densovirus_P1_ORF1__1</td>\n",
       "      <td>Densovirus_P2_ORF1__1</td>\n",
       "      <td>...</td>\n",
       "      <td>*</td>\n",
       "      <td>*</td>\n",
       "      <td>*</td>\n",
       "      <td>NC_077065.1_hypothetical_protein_2</td>\n",
       "      <td>*</td>\n",
       "      <td>NC_077079.1_VP1_1</td>\n",
       "      <td>NC_077080.1_VP1_1</td>\n",
       "      <td>*</td>\n",
       "      <td>NC_077082.1_VP1_1</td>\n",
       "      <td>*</td>\n",
       "    </tr>\n",
       "  </tbody>\n",
       "</table>\n",
       "<p>2 rows × 57 columns</p>\n",
       "</div>"
      ],
      "text/plain": [
       "   # Species  Genes  Alg.-Conn.                         Densovirus_D1.fa  \\\n",
       "0         45     45      0.0222  Densovirus_D1_non-structural_protein__1   \n",
       "1         28     43      0.1920                    Densovirus_D1_ORF1__1   \n",
       "\n",
       "                          Densovirus_D2.fa  \\\n",
       "0  Densovirus_D2_non-structural_protein__1   \n",
       "1                    Densovirus_D2_ORF1__1   \n",
       "\n",
       "                          Densovirus_D3.fa  \\\n",
       "0  Densovirus_D3_non-structural_protein__1   \n",
       "1                    Densovirus_D3_ORF1__1   \n",
       "\n",
       "                          Densovirus_D4.fa  \\\n",
       "0  Densovirus_D4_non-structural_protein__1   \n",
       "1                    Densovirus_D4_ORF1__1   \n",
       "\n",
       "                          Densovirus_D5.fa  \\\n",
       "0  Densovirus_D5_non-structural_protein__1   \n",
       "1                    Densovirus_D5_ORF1__1   \n",
       "\n",
       "                          Densovirus_P1.fa  \\\n",
       "0  Densovirus_P1_non-structural_protein__1   \n",
       "1                    Densovirus_P1_ORF1__1   \n",
       "\n",
       "                          Densovirus_P2.fa  ...  \\\n",
       "0  Densovirus_P2_non-structural_protein__1  ...   \n",
       "1                    Densovirus_P2_ORF1__1  ...   \n",
       "\n",
       "                        NC_077038.1.fa  \\\n",
       "0  NC_077038.1_nonstructural_protein_2   \n",
       "1                                    *   \n",
       "\n",
       "                                 NC_077050.1.fa NC_077051.1.fa  \\\n",
       "0  NC_077050.1_putative_nonstructural_protein_1              *   \n",
       "1                                             *              *   \n",
       "\n",
       "                       NC_077065.1.fa                         NC_077069.1.fa  \\\n",
       "0  NC_077065.1_hypothetical_protein_3  NC_077069.1_nonstructural_protein_1_1   \n",
       "1  NC_077065.1_hypothetical_protein_2                                      *   \n",
       "\n",
       "                        NC_077079.1.fa                       NC_077080.1.fa  \\\n",
       "0  NC_077079.1_nonstructural_protein_1  NC_077080.1_nonstructural_protein_1   \n",
       "1                    NC_077079.1_VP1_1                    NC_077080.1_VP1_1   \n",
       "\n",
       "                        NC_077081.1.fa                       NC_077082.1.fa  \\\n",
       "0  NC_077081.1_nonstructural_protein_1  NC_077082.1_nonstructural_protein_1   \n",
       "1                                    *                    NC_077082.1_VP1_1   \n",
       "\n",
       "                        NC_077083.1.fa  \n",
       "0  NC_077083.1_nonstructural_protein_1  \n",
       "1                                    *  \n",
       "\n",
       "[2 rows x 57 columns]"
      ]
     },
     "execution_count": 70,
     "metadata": {},
     "output_type": "execute_result"
    }
   ],
   "source": [
    "df_nsp_sp"
   ]
  },
  {
   "cell_type": "code",
   "execution_count": 71,
   "metadata": {},
   "outputs": [],
   "source": [
    "df_nsp_sp_cols_to_drop = df_nsp_sp.columns[df_nsp_sp.apply(lambda col: col.astype(str).str.contains(r'\\*', regex=True).any())]"
   ]
  },
  {
   "cell_type": "markdown",
   "metadata": {},
   "source": [
    "Examine which entries will be dropped"
   ]
  },
  {
   "cell_type": "code",
   "execution_count": 72,
   "metadata": {},
   "outputs": [
    {
     "data": {
      "text/plain": [
       "Index(['NC_001899.1.fa', 'NC_003346.1.fa', 'NC_004286.1.fa', 'NC_004287.1.fa',\n",
       "       'NC_004288.1.fa', 'NC_005041.2.fa', 'NC_005341.1.fa', 'NC_006555.1.fa',\n",
       "       'NC_011317.1.fa', 'NC_011545.2.fa', 'NC_012636.1.fa', 'NC_014357.1.fa',\n",
       "       'NC_015115.1.fa', 'NC_015718.1.fa', 'NC_018399.1.fa', 'NC_018450.1.fa',\n",
       "       'NC_019492.1.fa', 'NC_020927.1.fa', 'NC_022564.1.fa', 'NC_026943.1.fa',\n",
       "       'NC_030296.1.fa', 'NC_038376.1.fa', 'NC_040626.1.fa', 'NC_075118.1.fa',\n",
       "       'NC_077018.1.fa', 'NC_077036.1.fa', 'NC_077038.1.fa', 'NC_077050.1.fa',\n",
       "       'NC_077051.1.fa', 'NC_077069.1.fa', 'NC_077081.1.fa', 'NC_077083.1.fa'],\n",
       "      dtype='object')"
      ]
     },
     "execution_count": 72,
     "metadata": {},
     "output_type": "execute_result"
    }
   ],
   "source": [
    "df_nsp_sp_cols_to_drop"
   ]
  },
  {
   "cell_type": "markdown",
   "metadata": {},
   "source": [
    "Save a separate `.tsv` file"
   ]
  },
  {
   "cell_type": "code",
   "execution_count": 73,
   "metadata": {},
   "outputs": [],
   "source": [
    "df_nsp_sp = df_nsp_sp.drop(columns=df_nsp_sp_cols_to_drop)\n",
    "df_nsp_sp.to_csv('phylogenomics/proteinortho_output/All.tsv', sep='\\t', index=False)"
   ]
  },
  {
   "cell_type": "markdown",
   "metadata": {},
   "source": [
    "#### **Part 6.4.4. Structural protein 2**"
   ]
  },
  {
   "cell_type": "code",
   "execution_count": 74,
   "metadata": {},
   "outputs": [],
   "source": [
    "df_interesting = df_all.drop(index=[0, 1])"
   ]
  },
  {
   "cell_type": "code",
   "execution_count": 75,
   "metadata": {},
   "outputs": [
    {
     "data": {
      "text/html": [
       "<div>\n",
       "<style scoped>\n",
       "    .dataframe tbody tr th:only-of-type {\n",
       "        vertical-align: middle;\n",
       "    }\n",
       "\n",
       "    .dataframe tbody tr th {\n",
       "        vertical-align: top;\n",
       "    }\n",
       "\n",
       "    .dataframe thead th {\n",
       "        text-align: right;\n",
       "    }\n",
       "</style>\n",
       "<table border=\"1\" class=\"dataframe\">\n",
       "  <thead>\n",
       "    <tr style=\"text-align: right;\">\n",
       "      <th></th>\n",
       "      <th># Species</th>\n",
       "      <th>Genes</th>\n",
       "      <th>Alg.-Conn.</th>\n",
       "      <th>Densovirus_D1.fa</th>\n",
       "      <th>Densovirus_D2.fa</th>\n",
       "      <th>Densovirus_D3.fa</th>\n",
       "      <th>Densovirus_D4.fa</th>\n",
       "      <th>Densovirus_D5.fa</th>\n",
       "      <th>Densovirus_P1.fa</th>\n",
       "      <th>Densovirus_P2.fa</th>\n",
       "      <th>...</th>\n",
       "      <th>NC_077038.1.fa</th>\n",
       "      <th>NC_077050.1.fa</th>\n",
       "      <th>NC_077051.1.fa</th>\n",
       "      <th>NC_077065.1.fa</th>\n",
       "      <th>NC_077069.1.fa</th>\n",
       "      <th>NC_077079.1.fa</th>\n",
       "      <th>NC_077080.1.fa</th>\n",
       "      <th>NC_077081.1.fa</th>\n",
       "      <th>NC_077082.1.fa</th>\n",
       "      <th>NC_077083.1.fa</th>\n",
       "    </tr>\n",
       "  </thead>\n",
       "  <tbody>\n",
       "    <tr>\n",
       "      <th>2</th>\n",
       "      <td>12</td>\n",
       "      <td>12</td>\n",
       "      <td>1.0</td>\n",
       "      <td>Densovirus_D1_structural_protein__1</td>\n",
       "      <td>Densovirus_D2_structural_protein__1</td>\n",
       "      <td>Densovirus_D3_structural_protein__1</td>\n",
       "      <td>Densovirus_D4_structural_protein__1</td>\n",
       "      <td>Densovirus_D5_structural_protein__1</td>\n",
       "      <td>Densovirus_P1_structural_protein__1</td>\n",
       "      <td>Densovirus_P2_structural_protein__1</td>\n",
       "      <td>...</td>\n",
       "      <td>*</td>\n",
       "      <td>*</td>\n",
       "      <td>*</td>\n",
       "      <td>*</td>\n",
       "      <td>*</td>\n",
       "      <td>*</td>\n",
       "      <td>*</td>\n",
       "      <td>*</td>\n",
       "      <td>*</td>\n",
       "      <td>*</td>\n",
       "    </tr>\n",
       "  </tbody>\n",
       "</table>\n",
       "<p>1 rows × 57 columns</p>\n",
       "</div>"
      ],
      "text/plain": [
       "   # Species  Genes  Alg.-Conn.                     Densovirus_D1.fa  \\\n",
       "2         12     12         1.0  Densovirus_D1_structural_protein__1   \n",
       "\n",
       "                      Densovirus_D2.fa                     Densovirus_D3.fa  \\\n",
       "2  Densovirus_D2_structural_protein__1  Densovirus_D3_structural_protein__1   \n",
       "\n",
       "                      Densovirus_D4.fa                     Densovirus_D5.fa  \\\n",
       "2  Densovirus_D4_structural_protein__1  Densovirus_D5_structural_protein__1   \n",
       "\n",
       "                      Densovirus_P1.fa                     Densovirus_P2.fa  \\\n",
       "2  Densovirus_P1_structural_protein__1  Densovirus_P2_structural_protein__1   \n",
       "\n",
       "   ... NC_077038.1.fa NC_077050.1.fa NC_077051.1.fa NC_077065.1.fa  \\\n",
       "2  ...              *              *              *              *   \n",
       "\n",
       "  NC_077069.1.fa NC_077079.1.fa NC_077080.1.fa NC_077081.1.fa NC_077082.1.fa  \\\n",
       "2              *              *              *              *              *   \n",
       "\n",
       "  NC_077083.1.fa  \n",
       "2              *  \n",
       "\n",
       "[1 rows x 57 columns]"
      ]
     },
     "execution_count": 75,
     "metadata": {},
     "output_type": "execute_result"
    }
   ],
   "source": [
    "df_interesting"
   ]
  },
  {
   "cell_type": "markdown",
   "metadata": {},
   "source": [
    "Delete every entry with `*`"
   ]
  },
  {
   "cell_type": "code",
   "execution_count": 76,
   "metadata": {},
   "outputs": [],
   "source": [
    "df_interesting_cols_to_drop = df_interesting.columns[df_interesting.apply(lambda col: col.astype(str).str.contains(r'\\*', regex=True).any())]"
   ]
  },
  {
   "cell_type": "markdown",
   "metadata": {},
   "source": [
    "Examine which entries will be dropped"
   ]
  },
  {
   "cell_type": "code",
   "execution_count": 77,
   "metadata": {},
   "outputs": [
    {
     "data": {
      "text/plain": [
       "Index(['NC_000936.1.fa', 'NC_001899.1.fa', 'NC_003346.1.fa', 'NC_004286.1.fa',\n",
       "       'NC_004287.1.fa', 'NC_004288.1.fa', 'NC_004289.1.fa', 'NC_004290.1.fa',\n",
       "       'NC_005040.1.fa', 'NC_005041.2.fa', 'NC_005341.1.fa', 'NC_006555.1.fa',\n",
       "       'NC_011317.1.fa', 'NC_011545.2.fa', 'NC_012636.1.fa', 'NC_012685.1.fa',\n",
       "       'NC_014357.1.fa', 'NC_015115.1.fa', 'NC_015718.1.fa', 'NC_018399.1.fa',\n",
       "       'NC_018450.1.fa', 'NC_019492.1.fa', 'NC_020927.1.fa', 'NC_022564.1.fa',\n",
       "       'NC_022748.1.fa', 'NC_026943.1.fa', 'NC_030296.1.fa', 'NC_038376.1.fa',\n",
       "       'NC_040626.1.fa', 'NC_075118.1.fa', 'NC_077018.1.fa', 'NC_077036.1.fa',\n",
       "       'NC_077038.1.fa', 'NC_077050.1.fa', 'NC_077051.1.fa', 'NC_077065.1.fa',\n",
       "       'NC_077069.1.fa', 'NC_077079.1.fa', 'NC_077080.1.fa', 'NC_077081.1.fa',\n",
       "       'NC_077082.1.fa', 'NC_077083.1.fa'],\n",
       "      dtype='object')"
      ]
     },
     "execution_count": 77,
     "metadata": {},
     "output_type": "execute_result"
    }
   ],
   "source": [
    "df_interesting_cols_to_drop"
   ]
  },
  {
   "cell_type": "markdown",
   "metadata": {},
   "source": [
    "Save a separate `.tsv` file"
   ]
  },
  {
   "cell_type": "code",
   "execution_count": 78,
   "metadata": {},
   "outputs": [],
   "source": [
    "df_interesting_cleaned = df_interesting.drop(columns=df_interesting_cols_to_drop)\n",
    "df_interesting_cleaned.to_csv('phylogenomics/proteinortho_output/interesting_gene.tsv', sep='\\t', index=False)"
   ]
  },
  {
   "cell_type": "markdown",
   "metadata": {},
   "source": [
    "### **Part 6.5. Extract orthologs sequences**"
   ]
  },
  {
   "cell_type": "markdown",
   "metadata": {},
   "source": [
    "For this `write_family_names.R` script will be used"
   ]
  },
  {
   "cell_type": "code",
   "execution_count": 23,
   "metadata": {},
   "outputs": [
    {
     "name": "stdout",
     "output_type": "stream",
     "text": [
      "#!/usr/bin/env Rscript\n",
      "args <- commandArgs(trailingOnly=TRUE)\n",
      "\n",
      "# Read the proteinortho table\n",
      "onetoone <- read.delim(args[1])\n",
      "\n",
      "  # Create directory to store SCOs\n",
      "  dir.create(args[2]) #e.g. data/SCOs\n",
      "\n",
      "  # Write name lists to later extract\n",
      "   for (i in 4:ncol(onetoone)) {\n",
      "   writeLines(onetoone[,i], paste0(args[2], names(onetoone[i]), \".names.txt\"))\n",
      "   }\n",
      "   dir.create(args[3])  \n",
      "   # And gene lists grouped by families\n",
      "   for (i in 1:nrow(onetoone)) {\n",
      "   oo <- as.matrix(onetoone)\n",
      "   writeLines(oo[i, 4:ncol(onetoone)], paste0(args[3], \"family\", as.character(i), \".names.txt\"))\n",
      "   }"
     ]
    }
   ],
   "source": [
    "! cat scripts/write_family_names.R"
   ]
  },
  {
   "cell_type": "markdown",
   "metadata": {},
   "source": [
    "This script will take `.tsv` files from the previous step as the input and will write gene names to a separate files"
   ]
  },
  {
   "cell_type": "markdown",
   "metadata": {},
   "source": [
    "#### **Part 6.5.1. Run `write_family_names.R`**"
   ]
  },
  {
   "cell_type": "markdown",
   "metadata": {},
   "source": [
    "##### **Part 6.5.1.1. Non-structural protein**"
   ]
  },
  {
   "cell_type": "code",
   "execution_count": null,
   "metadata": {},
   "outputs": [],
   "source": [
    "! Rscript scripts/write_family_names.R phylogenomics/proteinortho_output/NSPs.tsv phylogenomics/NSPs/ phylogenomics/NSPs_names/"
   ]
  },
  {
   "cell_type": "markdown",
   "metadata": {},
   "source": [
    "##### **Part 6.5.1.2. Structural protein 1**"
   ]
  },
  {
   "cell_type": "code",
   "execution_count": null,
   "metadata": {},
   "outputs": [],
   "source": [
    "! Rscript scripts/write_family_names.R phylogenomics/proteinortho_output/SPs.tsv phylogenomics/SPs/ phylogenomics/SPs_names/"
   ]
  },
  {
   "cell_type": "markdown",
   "metadata": {},
   "source": [
    "##### **Part 6.5.1.3. Non-structural protein + sctructural protein 1**"
   ]
  },
  {
   "cell_type": "code",
   "execution_count": null,
   "metadata": {},
   "outputs": [],
   "source": [
    "! Rscript scripts/write_family_names.R phylogenomics/proteinortho_output/All.tsv phylogenomics/All/ phylogenomics/All_names/"
   ]
  },
  {
   "cell_type": "markdown",
   "metadata": {},
   "source": [
    "##### **Part 6.5.1.4. Sctructural protein 2**"
   ]
  },
  {
   "cell_type": "code",
   "execution_count": null,
   "metadata": {},
   "outputs": [],
   "source": [
    "! Rscript scripts/write_family_names.R phylogenomics/proteinortho_output/interesting_gene.tsv phylogenomics/interesting_gene/ phylogenomics/interesting_gene_names/"
   ]
  },
  {
   "cell_type": "markdown",
   "metadata": {},
   "source": [
    "#### **Part 6.5.2. Extract sequences**"
   ]
  },
  {
   "cell_type": "markdown",
   "metadata": {},
   "source": [
    "For the 1st step we must create the `phylogenomics/data/all_pep.fa` file which will contain all the amino acid sequences from all the viruses"
   ]
  },
  {
   "cell_type": "code",
   "execution_count": 9,
   "metadata": {},
   "outputs": [],
   "source": [
    "! cat phylogenomics/data/proteomes_renamed/round_4/*.fa > phylogenomics/data/all_pep.fa"
   ]
  },
  {
   "cell_type": "markdown",
   "metadata": {},
   "source": [
    "##### **Part 6.5.2.1. Non-structural protein**"
   ]
  },
  {
   "cell_type": "markdown",
   "metadata": {},
   "source": [
    "First we create a directory to store the sequences"
   ]
  },
  {
   "cell_type": "code",
   "execution_count": 10,
   "metadata": {},
   "outputs": [],
   "source": [
    "! mkdir phylogenomics/data/NSPs_seqs/"
   ]
  },
  {
   "cell_type": "markdown",
   "metadata": {},
   "source": [
    "Then we use `BBMap` to extract the sequences"
   ]
  },
  {
   "cell_type": "code",
   "execution_count": 11,
   "metadata": {},
   "outputs": [
    {
     "name": "stderr",
     "output_type": "stream",
     "text": [
      "java -ea -Xmx9087m -cp /mnt/c/Users/iljap/OneDrive/Work/RSF_projects/Igor/BatShotMetaFlow/04_Densoviruses_playground/bbmap/current/ driver.FilterReadsByName in=phylogenomics/data/all_pep.fa out=phylogenomics/data/NSPs_seqs/family1.seq.fa include=t names=phylogenomics/NSPs_names/family1.names.txt overwrite=true ignorejunk=true\n",
      "Executing driver.FilterReadsByName [in=phylogenomics/data/all_pep.fa, out=phylogenomics/data/NSPs_seqs/family1.seq.fa, include=t, names=phylogenomics/NSPs_names/family1.names.txt, overwrite=true, ignorejunk=true]\n",
      "\n",
      "Input is being processed as unpaired\n",
      "Time:                         \t0.570 seconds.\n",
      "Reads Processed:         216 \t0.38k reads/sec\n",
      "Bases Processed:       97483 \t0.17m bases/sec\n",
      "Reads Out:          45\n",
      "Bases Out:          26758\n"
     ]
    }
   ],
   "source": [
    "%%bash\n",
    "\n",
    "for list in phylogenomics/NSPs_names/family*txt\n",
    "do bbmap/filterbyname.sh in=phylogenomics/data/all_pep.fa out=phylogenomics/data/NSPs_seqs/$(basename \"$list\" .names.txt).seq.fa include=t names=$list overwrite=true ignorejunk=true\n",
    "done"
   ]
  },
  {
   "cell_type": "markdown",
   "metadata": {},
   "source": [
    "##### **Part 6.5.2.2. Structural protein 1**"
   ]
  },
  {
   "cell_type": "markdown",
   "metadata": {},
   "source": [
    "First we create a directory to store the sequences"
   ]
  },
  {
   "cell_type": "code",
   "execution_count": 12,
   "metadata": {},
   "outputs": [],
   "source": [
    "! mkdir phylogenomics/data/SPs_seqs/"
   ]
  },
  {
   "cell_type": "markdown",
   "metadata": {},
   "source": [
    "Then we use `BBMap` to extract the sequences"
   ]
  },
  {
   "cell_type": "code",
   "execution_count": 13,
   "metadata": {},
   "outputs": [
    {
     "name": "stderr",
     "output_type": "stream",
     "text": [
      "java -ea -Xmx9087m -cp /mnt/c/Users/iljap/OneDrive/Work/RSF_projects/Igor/BatShotMetaFlow/04_Densoviruses_playground/bbmap/current/ driver.FilterReadsByName in=phylogenomics/data/all_pep.fa out=phylogenomics/data/SPs_seqs/family1.seq.fa include=t names=phylogenomics/SPs_names/family1.names.txt overwrite=true ignorejunk=true\n",
      "Executing driver.FilterReadsByName [in=phylogenomics/data/all_pep.fa, out=phylogenomics/data/SPs_seqs/family1.seq.fa, include=t, names=phylogenomics/SPs_names/family1.names.txt, overwrite=true, ignorejunk=true]\n",
      "\n",
      "Input is being processed as unpaired\n",
      "Time:                         \t0.557 seconds.\n",
      "Reads Processed:         216 \t0.39k reads/sec\n",
      "Bases Processed:       97483 \t0.17m bases/sec\n",
      "Reads Out:          22\n",
      "Bases Out:          13187\n"
     ]
    }
   ],
   "source": [
    "%%bash\n",
    "\n",
    "for list in phylogenomics/SPs_names/family*txt\n",
    "do bbmap/filterbyname.sh in=phylogenomics/data/all_pep.fa out=phylogenomics/data/SPs_seqs/$(basename \"$list\" .names.txt).seq.fa include=t names=$list overwrite=true ignorejunk=true\n",
    "done"
   ]
  },
  {
   "cell_type": "markdown",
   "metadata": {},
   "source": [
    "##### **Part 6.5.2.3. Non-structural protein + structural protein 1**"
   ]
  },
  {
   "cell_type": "markdown",
   "metadata": {},
   "source": [
    "First we create a directory to store the sequences"
   ]
  },
  {
   "cell_type": "code",
   "execution_count": 83,
   "metadata": {},
   "outputs": [],
   "source": [
    "! mkdir phylogenomics/data/All_seqs/"
   ]
  },
  {
   "cell_type": "markdown",
   "metadata": {},
   "source": [
    "Then we use `BBMap` to extract the sequences"
   ]
  },
  {
   "cell_type": "code",
   "execution_count": 84,
   "metadata": {},
   "outputs": [
    {
     "name": "stderr",
     "output_type": "stream",
     "text": [
      "java -ea -Xmx6468m -cp /mnt/c/Users/iljap/OneDrive/Work/RSF_projects/Igor/BatShotMetaFlow/04_Densoviruses_playground/bbmap/current/ driver.FilterReadsByName in=phylogenomics/data/all_pep.fa out=phylogenomics/data/All_seqs/family1.seq.fa include=t names=phylogenomics/All_names/family1.names.txt overwrite=true ignorejunk=true\n",
      "Executing driver.FilterReadsByName [in=phylogenomics/data/all_pep.fa, out=phylogenomics/data/All_seqs/family1.seq.fa, include=t, names=phylogenomics/All_names/family1.names.txt, overwrite=true, ignorejunk=true]\n",
      "\n",
      "Input is being processed as unpaired\n",
      "Time:                         \t0.545 seconds.\n",
      "Reads Processed:         216 \t0.40k reads/sec\n",
      "Bases Processed:       97483 \t0.18m bases/sec\n",
      "Reads Out:          22\n",
      "Bases Out:          12090\n",
      "java -ea -Xmx6468m -cp /mnt/c/Users/iljap/OneDrive/Work/RSF_projects/Igor/BatShotMetaFlow/04_Densoviruses_playground/bbmap/current/ driver.FilterReadsByName in=phylogenomics/data/all_pep.fa out=phylogenomics/data/All_seqs/family2.seq.fa include=t names=phylogenomics/All_names/family2.names.txt overwrite=true ignorejunk=true\n",
      "Executing driver.FilterReadsByName [in=phylogenomics/data/all_pep.fa, out=phylogenomics/data/All_seqs/family2.seq.fa, include=t, names=phylogenomics/All_names/family2.names.txt, overwrite=true, ignorejunk=true]\n",
      "\n",
      "Input is being processed as unpaired\n",
      "Time:                         \t0.515 seconds.\n",
      "Reads Processed:         216 \t0.42k reads/sec\n",
      "Bases Processed:       97483 \t0.19m bases/sec\n",
      "Reads Out:          22\n",
      "Bases Out:          13187\n"
     ]
    }
   ],
   "source": [
    "%%bash\n",
    "\n",
    "for list in phylogenomics/All_names/family*txt\n",
    "do bbmap/filterbyname.sh in=phylogenomics/data/all_pep.fa out=phylogenomics/data/All_seqs/$(basename \"$list\" .names.txt).seq.fa include=t names=$list overwrite=true ignorejunk=true\n",
    "done"
   ]
  },
  {
   "cell_type": "markdown",
   "metadata": {},
   "source": [
    "##### **Part 6.5.2.4. Sctructural protein 2**"
   ]
  },
  {
   "cell_type": "markdown",
   "metadata": {},
   "source": [
    "First we create a directory to store the sequences"
   ]
  },
  {
   "cell_type": "code",
   "execution_count": 16,
   "metadata": {},
   "outputs": [],
   "source": [
    "! mkdir phylogenomics/data/ig_seqs/"
   ]
  },
  {
   "cell_type": "markdown",
   "metadata": {},
   "source": [
    "Then we use `BBMap` to extract the sequences"
   ]
  },
  {
   "cell_type": "code",
   "execution_count": 17,
   "metadata": {},
   "outputs": [
    {
     "name": "stderr",
     "output_type": "stream",
     "text": [
      "java -ea -Xmx9087m -cp /mnt/c/Users/iljap/OneDrive/Work/RSF_projects/Igor/BatShotMetaFlow/04_Densoviruses_playground/bbmap/current/ driver.FilterReadsByName in=phylogenomics/data/all_pep.fa out=phylogenomics/data/ig_seqs/family1.seq.fa include=t names=phylogenomics/interesting_gene_names/family1.names.txt overwrite=true ignorejunk=true\n",
      "Executing driver.FilterReadsByName [in=phylogenomics/data/all_pep.fa, out=phylogenomics/data/ig_seqs/family1.seq.fa, include=t, names=phylogenomics/interesting_gene_names/family1.names.txt, overwrite=true, ignorejunk=true]\n",
      "\n",
      "Input is being processed as unpaired\n",
      "Time:                         \t0.544 seconds.\n",
      "Reads Processed:         216 \t0.40k reads/sec\n",
      "Bases Processed:       97483 \t0.18m bases/sec\n",
      "Reads Out:          12\n",
      "Bases Out:          3546\n"
     ]
    }
   ],
   "source": [
    "%%bash\n",
    "\n",
    "for list in phylogenomics/interesting_gene_names/family*txt\n",
    "do bbmap/filterbyname.sh in=phylogenomics/data/all_pep.fa out=phylogenomics/data/ig_seqs/$(basename \"$list\" .names.txt).seq.fa include=t names=$list overwrite=true ignorejunk=true\n",
    "done"
   ]
  },
  {
   "cell_type": "markdown",
   "metadata": {},
   "source": [
    "#### **Part 6.5.3. Renaming sequences. Again.**"
   ]
  },
  {
   "cell_type": "markdown",
   "metadata": {},
   "source": [
    "##### **Part 6.5.2.1. Non-structural protein**"
   ]
  },
  {
   "cell_type": "markdown",
   "metadata": {},
   "source": [
    "What's wrong with seq names now? Let's take a look"
   ]
  },
  {
   "cell_type": "code",
   "execution_count": 18,
   "metadata": {},
   "outputs": [
    {
     "name": "stdout",
     "output_type": "stream",
     "text": [
      ">Densovirus_D1_non-structural_protein__1\n"
     ]
    }
   ],
   "source": [
    "! head -1 phylogenomics/data/NSPs_seqs/family1.seq.fa"
   ]
  },
  {
   "cell_type": "markdown",
   "metadata": {},
   "source": [
    "Well... We must leave just the viruses names"
   ]
  },
  {
   "cell_type": "markdown",
   "metadata": {},
   "source": [
    "- Make this `>Densovirus_D1_non-structural_protein__1` look like this: `>Densovirus_D1`<br>"
   ]
  },
  {
   "cell_type": "markdown",
   "metadata": {},
   "source": [
    "First we create a directory to store the renamed seqs"
   ]
  },
  {
   "cell_type": "code",
   "execution_count": 3,
   "metadata": {},
   "outputs": [],
   "source": [
    "! mkdir phylogenomics/data/NSPs_seqs_renamed/"
   ]
  },
  {
   "cell_type": "code",
   "execution_count": 4,
   "metadata": {},
   "outputs": [],
   "source": [
    "%%bash\n",
    "\n",
    "for file in phylogenomics/data/NSPs_seqs/*.fa\n",
    "do\n",
    "  # Process each file line by line\n",
    "  while read -r line; do\n",
    "    if [[ $line == \\>MW628494.1* ]]; then\n",
    "      # For lines starting with \">MW628494.1\", delete the first \"_\" and everything after it\n",
    "      echo \"$line\" | sed 's/_.*//' >> phylogenomics/data/NSPs_seqs_renamed/$(basename \"$file\")\n",
    "    elif [[ $line == \\>* ]]; then\n",
    "      # For all other headers, delete the second \"_\" and everything after it\n",
    "      echo \"$line\" | sed 's/\\(_[^_]*\\)\\(_.*\\)/\\1/' >> phylogenomics/data/NSPs_seqs_renamed/$(basename \"$file\")\n",
    "    else\n",
    "      # For non-header lines (sequence data), copy them as-is\n",
    "      echo \"$line\" >> phylogenomics/data/NSPs_seqs_renamed/$(basename \"$file\")\n",
    "    fi\n",
    "  done < \"$file\"\n",
    "done\n"
   ]
  },
  {
   "cell_type": "markdown",
   "metadata": {},
   "source": [
    "Let's check if `sed` did good"
   ]
  },
  {
   "cell_type": "code",
   "execution_count": 5,
   "metadata": {},
   "outputs": [
    {
     "name": "stdout",
     "output_type": "stream",
     "text": [
      ">Densovirus_D1\n"
     ]
    }
   ],
   "source": [
    "! head -1 phylogenomics/data/NSPs_seqs_renamed/family1.seq.fa"
   ]
  },
  {
   "cell_type": "markdown",
   "metadata": {},
   "source": [
    "Perfect"
   ]
  },
  {
   "cell_type": "markdown",
   "metadata": {},
   "source": [
    "##### **Part 6.5.3.2. Structural protein 1**"
   ]
  },
  {
   "cell_type": "markdown",
   "metadata": {},
   "source": [
    "First we create a directory to store the renamed seqs"
   ]
  },
  {
   "cell_type": "code",
   "execution_count": 6,
   "metadata": {},
   "outputs": [],
   "source": [
    "! mkdir phylogenomics/data/SPs_seqs_renamed/"
   ]
  },
  {
   "cell_type": "code",
   "execution_count": 7,
   "metadata": {},
   "outputs": [],
   "source": [
    "%%bash\n",
    "\n",
    "for file in phylogenomics/data/SPs_seqs/*.fa\n",
    "do\n",
    "  # Process each file line by line\n",
    "  while read -r line; do\n",
    "    if [[ $line == \\>MW628494.1* ]]; then\n",
    "      # For lines starting with \">MW628494.1\", delete the first \"_\" and everything after it\n",
    "      echo \"$line\" | sed 's/_.*//' >> phylogenomics/data/SPs_seqs_renamed/$(basename \"$file\")\n",
    "    elif [[ $line == \\>* ]]; then\n",
    "      # For all other headers, delete the second \"_\" and everything after it\n",
    "      echo \"$line\" | sed 's/\\(_[^_]*\\)\\(_.*\\)/\\1/' >> phylogenomics/data/SPs_seqs_renamed/$(basename \"$file\")\n",
    "    else\n",
    "      # For non-header lines (sequence data), copy them as-is\n",
    "      echo \"$line\" >> phylogenomics/data/SPs_seqs_renamed/$(basename \"$file\")\n",
    "    fi\n",
    "  done < \"$file\"\n",
    "done\n"
   ]
  },
  {
   "cell_type": "markdown",
   "metadata": {},
   "source": [
    "Let's check if `sed` did good"
   ]
  },
  {
   "cell_type": "code",
   "execution_count": 8,
   "metadata": {},
   "outputs": [
    {
     "name": "stdout",
     "output_type": "stream",
     "text": [
      ">Densovirus_D1\n"
     ]
    }
   ],
   "source": [
    "! head -1 phylogenomics/data/SPs_seqs_renamed/family1.seq.fa"
   ]
  },
  {
   "cell_type": "markdown",
   "metadata": {},
   "source": [
    "Perfect"
   ]
  },
  {
   "cell_type": "markdown",
   "metadata": {},
   "source": [
    "##### **Part 6.5.3.3. Non-structural protein + structural protein 1**"
   ]
  },
  {
   "cell_type": "markdown",
   "metadata": {},
   "source": [
    "First we create a directory to store the renamed seqs"
   ]
  },
  {
   "cell_type": "code",
   "execution_count": 85,
   "metadata": {},
   "outputs": [],
   "source": [
    "! mkdir phylogenomics/data/All_seqs_renamed/"
   ]
  },
  {
   "cell_type": "code",
   "execution_count": 86,
   "metadata": {},
   "outputs": [],
   "source": [
    "%%bash\n",
    "\n",
    "for file in phylogenomics/data/All_seqs/*.fa\n",
    "do\n",
    "  # Process each file line by line\n",
    "  while read -r line; do\n",
    "    if [[ $line == \\>MW628494.1* ]]; then\n",
    "      # For lines starting with \">MW628494.1\", delete the first \"_\" and everything after it\n",
    "      echo \"$line\" | sed 's/_.*//' >> phylogenomics/data/All_seqs_renamed/$(basename \"$file\")\n",
    "    elif [[ $line == \\>* ]]; then\n",
    "      # For all other headers, delete the second \"_\" and everything after it\n",
    "      echo \"$line\" | sed 's/\\(_[^_]*\\)\\(_.*\\)/\\1/' >> phylogenomics/data/All_seqs_renamed/$(basename \"$file\")\n",
    "    else\n",
    "      # For non-header lines (sequence data), copy them as-is\n",
    "      echo \"$line\" >> phylogenomics/data/All_seqs_renamed/$(basename \"$file\")\n",
    "    fi\n",
    "  done < \"$file\"\n",
    "done\n"
   ]
  },
  {
   "cell_type": "markdown",
   "metadata": {},
   "source": [
    "Let's check if `sed` did good"
   ]
  },
  {
   "cell_type": "code",
   "execution_count": 87,
   "metadata": {},
   "outputs": [
    {
     "name": "stdout",
     "output_type": "stream",
     "text": [
      ">Densovirus_D1\n"
     ]
    }
   ],
   "source": [
    "! head -1 phylogenomics/data/All_seqs_renamed/family1.seq.fa"
   ]
  },
  {
   "cell_type": "markdown",
   "metadata": {},
   "source": [
    "Perfect"
   ]
  },
  {
   "cell_type": "markdown",
   "metadata": {},
   "source": [
    "##### **Part 6.5.3.4. Sctructural protein 2**"
   ]
  },
  {
   "cell_type": "markdown",
   "metadata": {},
   "source": [
    "First we create a directory to store the renamed seqs"
   ]
  },
  {
   "cell_type": "code",
   "execution_count": 12,
   "metadata": {},
   "outputs": [],
   "source": [
    "! mkdir phylogenomics/data/ig_seqs_renamed/"
   ]
  },
  {
   "cell_type": "code",
   "execution_count": 13,
   "metadata": {},
   "outputs": [],
   "source": [
    "%%bash\n",
    "\n",
    "for file in phylogenomics/data/ig_seqs/*.fa\n",
    "do\n",
    "  # Process each file line by line\n",
    "  while read -r line; do\n",
    "    if [[ $line == \\>MW628494.1* ]]; then\n",
    "      # For lines starting with \">MW628494.1\", delete the first \"_\" and everything after it\n",
    "      echo \"$line\" | sed 's/_.*//' >> phylogenomics/data/ig_seqs_renamed/$(basename \"$file\")\n",
    "    elif [[ $line == \\>* ]]; then\n",
    "      # For all other headers, delete the second \"_\" and everything after it\n",
    "      echo \"$line\" | sed 's/\\(_[^_]*\\)\\(_.*\\)/\\1/' >> phylogenomics/data/ig_seqs_renamed/$(basename \"$file\")\n",
    "    else\n",
    "      # For non-header lines (sequence data), copy them as-is\n",
    "      echo \"$line\" >> phylogenomics/data/ig_seqs_renamed/$(basename \"$file\")\n",
    "    fi\n",
    "  done < \"$file\"\n",
    "done\n"
   ]
  },
  {
   "cell_type": "markdown",
   "metadata": {},
   "source": [
    "Let's check if `sed` did good"
   ]
  },
  {
   "cell_type": "code",
   "execution_count": 14,
   "metadata": {},
   "outputs": [
    {
     "name": "stdout",
     "output_type": "stream",
     "text": [
      ">Densovirus_D1\n"
     ]
    }
   ],
   "source": [
    "! head -1 phylogenomics/data/ig_seqs_renamed/family1.seq.fa"
   ]
  },
  {
   "cell_type": "markdown",
   "metadata": {},
   "source": [
    "Perfect"
   ]
  },
  {
   "cell_type": "markdown",
   "metadata": {},
   "source": [
    "### **Part 6.6. Multiple Sequences Alignment**"
   ]
  },
  {
   "cell_type": "markdown",
   "metadata": {},
   "source": [
    "First create directories to store the alignments"
   ]
  },
  {
   "cell_type": "code",
   "execution_count": 15,
   "metadata": {},
   "outputs": [],
   "source": [
    "! mkdir phylogenomics/MSAs/\n",
    "! mkdir phylogenomics/MSAs/NSPs/\n",
    "! mkdir phylogenomics/MSAs/SPs/\n",
    "! mkdir phylogenomics/MSAs/All/\n",
    "! mkdir phylogenomics/MSAs/IG/"
   ]
  },
  {
   "cell_type": "markdown",
   "metadata": {},
   "source": [
    "Then launch `MAFFT` to align the sequences"
   ]
  },
  {
   "cell_type": "code",
   "execution_count": 16,
   "metadata": {},
   "outputs": [
    {
     "name": "stdout",
     "output_type": "stream",
     "text": [
      "outputhat23=16\n",
      "treein = 0\n",
      "compacttree = 0\n",
      "stacksize: 8192 kb\n",
      "rescale = 1\n",
      "All-to-all alignment.\n",
      "tbfast-pair (aa) Version 7.505\n",
      "alg=L, model=BLOSUM62, 2.00, -0.10, +0.10, noshift, amax=0.0\n",
      "0 thread(s)\n",
      "\n",
      "outputhat23=16\n",
      "Loading 'hat3.seed' ... \n",
      "done.\n",
      "Writing hat3 for iterative refinement\n",
      "rescale = 1\n",
      "Gap Penalty = -1.53, +0.00, +0.00\n",
      "tbutree = 1, compacttree = 0\n",
      "Constructing a UPGMA tree ... \n",
      "   40 / 45\n",
      "done.\n",
      "\n",
      "Progressive alignment ... \n",
      "STEP    33 /44 \n",
      "Reallocating..done. *alloclen = 2595\n",
      "STEP    44 /44 \n",
      "done.\n",
      "tbfast (aa) Version 7.505\n",
      "alg=A, model=BLOSUM62, 1.53, -0.00, -0.00, noshift, amax=0.0\n",
      "1 thread(s)\n",
      "\n",
      "minimumweight = 0.000010\n",
      "autosubalignment = 0.000000\n",
      "nthread = 0\n",
      "randomseed = 0\n",
      "blosum 62 / kimura 200\n",
      "poffset = 0\n",
      "niter = 16\n",
      "sueff_global = 0.100000\n",
      "nadd = 16\n",
      "Loading 'hat3' ... done.\n",
      "rescale = 1\n",
      "\n",
      "   40 / 45\n",
      "Segment   1/  1    1-1187\n",
      "STEP 003-028-0  identical.    identical.    identical.    identical.    identical.    identical.    identical.    identical.    accepted. identical.    identical.    accepted. rejected. accepted. rejected. accepted. rejected. accepted. accepted. accepted. accepted. accepted. rejected. rejected. rejected. rejected. rejected. accepted. rejected. rejected. rejected. accepted. rejected. rejected. rejected. rejected. rejected. rejected. rejected. rejected. rejected. rejected. rejected. rejected. accepted. rejected. accepted. accepted. accepted. rejected. accepted. rejected. identical.    identical.    rejected. accepted. identical.    identical.    identical.    identical.    identical.    identical.    identical.    identical.    identical.    identical.    identical.    identical.    rejected. identical.    identical.    identical.    identical.    identical.   \n",
      "Converged.\n",
      "\n",
      "done\n",
      "dvtditr (aa) Version 7.505\n",
      "alg=A, model=BLOSUM62, 1.53, -0.00, -0.00, noshift, amax=0.0\n",
      "0 thread(s)\n",
      "\n",
      "\n",
      "Strategy:\n",
      " L-INS-i (Probably most accurate, very slow)\n",
      " Iterative refinement method (<16) with LOCAL pairwise alignment information\n",
      "\n",
      "If unsure which option to use, try 'mafft --auto input > output'.\n",
      "For more information, see 'mafft --help', 'mafft --man' and the mafft page.\n",
      "\n",
      "The default gap scoring scheme has been changed in version 7.110 (2013 Oct).\n",
      "It tends to insert more gaps into gap-rich regions than previous versions.\n",
      "To disable this change, add the --leavegappyregion option.\n",
      "\n"
     ]
    }
   ],
   "source": [
    "! for file in phylogenomics/data/NSPs_seqs_renamed/*.fa; do mafft --auto \"$file\" > phylogenomics/MSAs/NSPs/$(basename \"$file\" .fa).aln; done"
   ]
  },
  {
   "cell_type": "code",
   "execution_count": 17,
   "metadata": {},
   "outputs": [
    {
     "name": "stdout",
     "output_type": "stream",
     "text": [
      "outputhat23=16\n",
      "treein = 0\n",
      "compacttree = 0\n",
      "stacksize: 8192 kb\n",
      "rescale = 1\n",
      "All-to-all alignment.\n",
      "tbfast-pair (aa) Version 7.505\n",
      "alg=L, model=BLOSUM62, 2.00, -0.10, +0.10, noshift, amax=0.0\n",
      "0 thread(s)\n",
      "\n",
      "outputhat23=16\n",
      "Loading 'hat3.seed' ... \n",
      "done.\n",
      "Writing hat3 for iterative refinement\n",
      "rescale = 1\n",
      "Gap Penalty = -1.53, +0.00, +0.00\n",
      "tbutree = 1, compacttree = 0\n",
      "Constructing a UPGMA tree ... \n",
      "   20 / 22\n",
      "done.\n",
      "\n",
      "Progressive alignment ... \n",
      "STEP    19 /21 \n",
      "Reallocating..done. *alloclen = 2481\n",
      "STEP    21 /21 \n",
      "done.\n",
      "tbfast (aa) Version 7.505\n",
      "alg=A, model=BLOSUM62, 1.53, -0.00, -0.00, noshift, amax=0.0\n",
      "1 thread(s)\n",
      "\n",
      "minimumweight = 0.000010\n",
      "autosubalignment = 0.000000\n",
      "nthread = 0\n",
      "randomseed = 0\n",
      "blosum 62 / kimura 200\n",
      "poffset = 0\n",
      "niter = 16\n",
      "sueff_global = 0.100000\n",
      "nadd = 16\n",
      "Loading 'hat3' ... done.\n",
      "rescale = 1\n",
      "\n",
      "   20 / 22\n",
      "Segment   1/  1    1- 913\n",
      "STEP 003-011-1  identical.    identical.    rejected. accepted. accepted. accepted. rejected. accepted. accepted. accepted. accepted. rejected. accepted. identical.    identical.    identical.   \n",
      "Converged.\n",
      "\n",
      "done\n",
      "dvtditr (aa) Version 7.505\n",
      "alg=A, model=BLOSUM62, 1.53, -0.00, -0.00, noshift, amax=0.0\n",
      "0 thread(s)\n",
      "\n",
      "\n",
      "Strategy:\n",
      " L-INS-i (Probably most accurate, very slow)\n",
      " Iterative refinement method (<16) with LOCAL pairwise alignment information\n",
      "\n",
      "If unsure which option to use, try 'mafft --auto input > output'.\n",
      "For more information, see 'mafft --help', 'mafft --man' and the mafft page.\n",
      "\n",
      "The default gap scoring scheme has been changed in version 7.110 (2013 Oct).\n",
      "It tends to insert more gaps into gap-rich regions than previous versions.\n",
      "To disable this change, add the --leavegappyregion option.\n",
      "\n"
     ]
    }
   ],
   "source": [
    "! for file in phylogenomics/data/SPs_seqs_renamed/*.fa; do mafft --auto \"$file\" > phylogenomics/MSAs/SPs/$(basename \"$file\" .fa).aln; done"
   ]
  },
  {
   "cell_type": "code",
   "execution_count": 88,
   "metadata": {},
   "outputs": [
    {
     "name": "stdout",
     "output_type": "stream",
     "text": [
      "outputhat23=16\n",
      "treein = 0\n",
      "compacttree = 0\n",
      "stacksize: 8192 kb\n",
      "rescale = 1\n",
      "All-to-all alignment.\n",
      "tbfast-pair (aa) Version 7.505\n",
      "alg=L, model=BLOSUM62, 2.00, -0.10, +0.10, noshift, amax=0.0\n",
      "0 thread(s)\n",
      "\n",
      "outputhat23=16\n",
      "Loading 'hat3.seed' ... \n",
      "done.\n",
      "Writing hat3 for iterative refinement\n",
      "rescale = 1\n",
      "Gap Penalty = -1.53, +0.00, +0.00\n",
      "tbutree = 1, compacttree = 0\n",
      "Constructing a UPGMA tree ... \n",
      "   20 / 22\n",
      "done.\n",
      "\n",
      "Progressive alignment ... \n",
      "STEP    21 /21 \n",
      "done.\n",
      "tbfast (aa) Version 7.505\n",
      "alg=A, model=BLOSUM62, 1.53, -0.00, -0.00, noshift, amax=0.0\n",
      "1 thread(s)\n",
      "\n",
      "minimumweight = 0.000010\n",
      "autosubalignment = 0.000000\n",
      "nthread = 0\n",
      "randomseed = 0\n",
      "blosum 62 / kimura 200\n",
      "poffset = 0\n",
      "niter = 16\n",
      "sueff_global = 0.100000\n",
      "nadd = 16\n",
      "Loading 'hat3' ... done.\n",
      "rescale = 1\n",
      "\n",
      "   20 / 22\n",
      "Segment   1/  1    1- 785\n",
      "STEP 003-011-1  identical.    identical.    identical.    identical.    rejected. accepted. rejected. rejected. identical.    identical.    identical.    identical.    identical.   \n",
      "Converged.\n",
      "\n",
      "done\n",
      "dvtditr (aa) Version 7.505\n",
      "alg=A, model=BLOSUM62, 1.53, -0.00, -0.00, noshift, amax=0.0\n",
      "0 thread(s)\n",
      "\n",
      "\n",
      "Strategy:\n",
      " L-INS-i (Probably most accurate, very slow)\n",
      " Iterative refinement method (<16) with LOCAL pairwise alignment information\n",
      "\n",
      "If unsure which option to use, try 'mafft --auto input > output'.\n",
      "For more information, see 'mafft --help', 'mafft --man' and the mafft page.\n",
      "\n",
      "The default gap scoring scheme has been changed in version 7.110 (2013 Oct).\n",
      "It tends to insert more gaps into gap-rich regions than previous versions.\n",
      "To disable this change, add the --leavegappyregion option.\n",
      "\n",
      "outputhat23=16\n",
      "treein = 0\n",
      "compacttree = 0\n",
      "stacksize: 8192 kb\n",
      "rescale = 1\n",
      "All-to-all alignment.\n",
      "tbfast-pair (aa) Version 7.505\n",
      "alg=L, model=BLOSUM62, 2.00, -0.10, +0.10, noshift, amax=0.0\n",
      "0 thread(s)\n",
      "\n",
      "outputhat23=16\n",
      "Loading 'hat3.seed' ... \n",
      "done.\n",
      "Writing hat3 for iterative refinement\n",
      "rescale = 1\n",
      "Gap Penalty = -1.53, +0.00, +0.00\n",
      "tbutree = 1, compacttree = 0\n",
      "Constructing a UPGMA tree ... \n",
      "   20 / 22\n",
      "done.\n",
      "\n",
      "Progressive alignment ... \n",
      "STEP    19 /21 \n",
      "Reallocating..done. *alloclen = 2481\n",
      "STEP    21 /21 \n",
      "done.\n",
      "tbfast (aa) Version 7.505\n",
      "alg=A, model=BLOSUM62, 1.53, -0.00, -0.00, noshift, amax=0.0\n",
      "1 thread(s)\n",
      "\n",
      "minimumweight = 0.000010\n",
      "autosubalignment = 0.000000\n",
      "nthread = 0\n",
      "randomseed = 0\n",
      "blosum 62 / kimura 200\n",
      "poffset = 0\n",
      "niter = 16\n",
      "sueff_global = 0.100000\n",
      "nadd = 16\n",
      "Loading 'hat3' ... done.\n",
      "rescale = 1\n",
      "\n",
      "   20 / 22\n",
      "Segment   1/  1    1- 913\n",
      "STEP 003-011-1  identical.    identical.    identical.    accepted. accepted. rejected. accepted. rejected. identical.    rejected. accepted. identical.    accepted. identical.    identical.    identical.    identical.   \n",
      "Converged.\n",
      "\n",
      "done\n",
      "dvtditr (aa) Version 7.505\n",
      "alg=A, model=BLOSUM62, 1.53, -0.00, -0.00, noshift, amax=0.0\n",
      "0 thread(s)\n",
      "\n",
      "\n",
      "Strategy:\n",
      " L-INS-i (Probably most accurate, very slow)\n",
      " Iterative refinement method (<16) with LOCAL pairwise alignment information\n",
      "\n",
      "If unsure which option to use, try 'mafft --auto input > output'.\n",
      "For more information, see 'mafft --help', 'mafft --man' and the mafft page.\n",
      "\n",
      "The default gap scoring scheme has been changed in version 7.110 (2013 Oct).\n",
      "It tends to insert more gaps into gap-rich regions than previous versions.\n",
      "To disable this change, add the --leavegappyregion option.\n",
      "\n"
     ]
    }
   ],
   "source": [
    "! for file in phylogenomics/data/All_seqs_renamed/*.fa; do mafft --auto \"$file\" > phylogenomics/MSAs/All/$(basename \"$file\" .fa).aln; done"
   ]
  },
  {
   "cell_type": "code",
   "execution_count": 19,
   "metadata": {},
   "outputs": [
    {
     "name": "stdout",
     "output_type": "stream",
     "text": [
      "outputhat23=16\n",
      "treein = 0\n",
      "compacttree = 0\n",
      "stacksize: 8192 kb\n",
      "rescale = 1\n",
      "All-to-all alignment.\n",
      "tbfast-pair (aa) Version 7.505\n",
      "alg=L, model=BLOSUM62, 2.00, -0.10, +0.10, noshift, amax=0.0\n",
      "0 thread(s)\n",
      "\n",
      "outputhat23=16\n",
      "Loading 'hat3.seed' ... \n",
      "done.\n",
      "Writing hat3 for iterative refinement\n",
      "rescale = 1\n",
      "Gap Penalty = -1.53, +0.00, +0.00\n",
      "tbutree = 1, compacttree = 0\n",
      "Constructing a UPGMA tree ... \n",
      "   10 / 12\n",
      "done.\n",
      "\n",
      "Progressive alignment ... \n",
      "STEP    11 /11 \n",
      "done.\n",
      "tbfast (aa) Version 7.505\n",
      "alg=A, model=BLOSUM62, 1.53, -0.00, -0.00, noshift, amax=0.0\n",
      "1 thread(s)\n",
      "\n",
      "minimumweight = 0.000010\n",
      "autosubalignment = 0.000000\n",
      "nthread = 0\n",
      "randomseed = 0\n",
      "blosum 62 / kimura 200\n",
      "poffset = 0\n",
      "niter = 16\n",
      "sueff_global = 0.100000\n",
      "nadd = 16\n",
      "Loading 'hat3' ... done.\n",
      "rescale = 1\n",
      "\n",
      "   10 / 12\n",
      "Segment   1/  1    1- 304\n",
      "STEP 002-010-1  identical.    identical.   \n",
      "Converged.\n",
      "\n",
      "done\n",
      "dvtditr (aa) Version 7.505\n",
      "alg=A, model=BLOSUM62, 1.53, -0.00, -0.00, noshift, amax=0.0\n",
      "0 thread(s)\n",
      "\n",
      "\n",
      "Strategy:\n",
      " L-INS-i (Probably most accurate, very slow)\n",
      " Iterative refinement method (<16) with LOCAL pairwise alignment information\n",
      "\n",
      "If unsure which option to use, try 'mafft --auto input > output'.\n",
      "For more information, see 'mafft --help', 'mafft --man' and the mafft page.\n",
      "\n",
      "The default gap scoring scheme has been changed in version 7.110 (2013 Oct).\n",
      "It tends to insert more gaps into gap-rich regions than previous versions.\n",
      "To disable this change, add the --leavegappyregion option.\n",
      "\n"
     ]
    }
   ],
   "source": [
    "! for file in phylogenomics/data/ig_seqs_renamed/*.fa; do mafft --auto \"$file\" > phylogenomics/MSAs/IG/$(basename \"$file\" .fa).aln; done"
   ]
  },
  {
   "cell_type": "markdown",
   "metadata": {},
   "source": [
    "### **Part 6.7. Trimming the alignments**"
   ]
  },
  {
   "cell_type": "markdown",
   "metadata": {},
   "source": [
    "First create directories to store the trimmed alignments"
   ]
  },
  {
   "cell_type": "code",
   "execution_count": 20,
   "metadata": {},
   "outputs": [],
   "source": [
    "! mkdir phylogenomics/trimmed_MSAs/\n",
    "! mkdir phylogenomics/trimmed_MSAs/NSPs/\n",
    "! mkdir phylogenomics/trimmed_MSAs/SPs/\n",
    "! mkdir phylogenomics/trimmed_MSAs/All/\n",
    "! mkdir phylogenomics/trimmed_MSAs/IG/"
   ]
  },
  {
   "cell_type": "markdown",
   "metadata": {},
   "source": [
    "Then launch `trimAl` to trim the alignments"
   ]
  },
  {
   "cell_type": "code",
   "execution_count": 21,
   "metadata": {},
   "outputs": [],
   "source": [
    "! for file in phylogenomics/MSAs/NSPs/*aln; do trimal -in $file -out phylogenomics/trimmed_MSAs/NSPs/trimmed_$(basename \"$file\") -automated1; done"
   ]
  },
  {
   "cell_type": "code",
   "execution_count": 22,
   "metadata": {},
   "outputs": [],
   "source": [
    "! for file in phylogenomics/MSAs/SPs/*aln; do trimal -in $file -out phylogenomics/trimmed_MSAs/SPs/trimmed_$(basename \"$file\") -automated1; done"
   ]
  },
  {
   "cell_type": "code",
   "execution_count": 89,
   "metadata": {},
   "outputs": [],
   "source": [
    "! for file in phylogenomics/MSAs/All/*aln; do trimal -in $file -out phylogenomics/trimmed_MSAs/All/trimmed_$(basename \"$file\") -automated1; done"
   ]
  },
  {
   "cell_type": "code",
   "execution_count": 24,
   "metadata": {},
   "outputs": [],
   "source": [
    "! for file in phylogenomics/MSAs/IG/*aln; do trimal -in $file -out phylogenomics/trimmed_MSAs/IG/trimmed_$(basename \"$file\") -automated1; done"
   ]
  },
  {
   "cell_type": "markdown",
   "metadata": {},
   "source": [
    "### **Part 6.8. Launching `ModelFinder` to get the best substitution model**"
   ]
  },
  {
   "cell_type": "markdown",
   "metadata": {},
   "source": [
    "First create directories to store `ModelFinder` log files"
   ]
  },
  {
   "cell_type": "code",
   "execution_count": 25,
   "metadata": {},
   "outputs": [],
   "source": [
    "! mkdir phylogenomics/model-finder/\n",
    "! mkdir phylogenomics/model-finder/NSPs/\n",
    "! mkdir phylogenomics/model-finder/SPs/\n",
    "! mkdir phylogenomics/model-finder/All/"
   ]
  },
  {
   "cell_type": "markdown",
   "metadata": {},
   "source": [
    "Then launch `ModelFinder` to find the most appropriate substitution model"
   ]
  },
  {
   "cell_type": "code",
   "execution_count": 26,
   "metadata": {},
   "outputs": [
    {
     "name": "stdout",
     "output_type": "stream",
     "text": [
      "IQ-TREE multicore version 2.2.6 COVID-edition for Linux 64-bit built Dec  8 2023\n",
      "Developed by Bui Quang Minh, James Barbetti, Nguyen Lam Tung,\n",
      "Olga Chernomor, Heiko Schmidt, Dominik Schrempf, Michael Woodhams, Ly Trong Nhan.\n",
      "\n",
      "Host:    IliaPC (AVX2, FMA3, 15 GB RAM)\n",
      "Command: iqtree2 -m MFP -s phylogenomics/trimmed_MSAs/NSPs/ --prefix phylogenomics/model-finder/NSPs/NSPs -T AUTO\n",
      "Seed:    815414 (Using SPRNG - Scalable Parallel Random Number Generator)\n",
      "Time:    Mon Dec 23 12:12:45 2024\n",
      "Kernel:  AVX+FMA - auto-detect threads (24 CPU cores detected)\n",
      "\n",
      "Reading 1 alignment files in directory phylogenomics/trimmed_MSAs/NSPs/\n",
      "Reading alignment file phylogenomics/trimmed_MSAs/NSPs/trimmed_family1.seq.aln ... Fasta format detected\n",
      "Reading fasta file: done in 0.0014499 secs using 37.11% CPU\n",
      "Alignment most likely contains protein sequences\n",
      "Constructing alignment: done in 0.0007862 secs using 2587% CPU\n",
      "Alignment has 45 sequences with 425 columns, 420 distinct patterns\n",
      "391 parsimony-informative, 15 singleton sites, 19 constant sites\n",
      "               Gap/Ambiguity  Composition  p-value\n",
      "Analyzing sequences: done in 0.0049489 secs using 3926% CPU\n",
      "   1  Densovirus_D1    4.47%    passed     99.59%\n",
      "   2  Densovirus_D2    4.47%    passed     99.44%\n",
      "   3  Densovirus_D3    4.47%    passed     99.59%\n",
      "   4  Densovirus_D4    4.47%    passed     99.59%\n",
      "   5  Densovirus_D5    4.47%    passed     99.59%\n",
      "   6  Densovirus_P1    4.47%    passed     99.59%\n",
      "   7  Densovirus_P2    4.47%    passed     99.59%\n",
      "   8  Densovirus_P3    4.47%    passed     99.59%\n",
      "   9  Densovirus_P4    4.47%    passed     99.59%\n",
      "  10  Densovirus_P5    4.47%    passed     99.59%\n",
      "  11  MW628494.1       4.47%    passed     99.41%\n",
      "  12  NC_000936.1      1.65%    passed     97.45%\n",
      "  13  NC_001899.1      7.29%    passed     80.37%\n",
      "  14  NC_003346.1      3.29%    passed     49.24%\n",
      "  15  NC_004286.1      7.29%    passed     94.55%\n",
      "  16  NC_004287.1      3.29%    passed     49.24%\n",
      "  17  NC_004288.1      3.29%    passed     39.52%\n",
      "  18  NC_004289.1      1.88%    passed     21.74%\n",
      "  19  NC_004290.1      1.65%    passed     36.72%\n",
      "  20  NC_005040.1     10.12%    passed     60.70%\n",
      "  21  NC_005041.2      4.00%    passed     78.81%\n",
      "  22  NC_005341.1      7.29%    passed     88.80%\n",
      "  23  NC_006555.1      4.47%    passed     96.93%\n",
      "  24  NC_012685.1      7.29%    passed     81.20%\n",
      "  25  NC_015718.1      4.24%    passed     87.87%\n",
      "  26  NC_018399.1      3.29%    passed     45.33%\n",
      "  27  NC_018450.1      3.29%    passed     50.76%\n",
      "  28  NC_019492.1      7.29%    passed     87.23%\n",
      "  29  NC_022564.1     11.76%    failed      2.61%\n",
      "  30  NC_022748.1      5.41%    passed     99.22%\n",
      "  31  NC_026943.1      1.88%    passed     99.53%\n",
      "  32  NC_030296.1      3.29%    passed     26.51%\n",
      "  33  NC_031450.1      4.47%    passed     99.27%\n",
      "  34  NC_040626.1      5.18%    passed     52.50%\n",
      "  35  NC_075118.1      1.65%    passed     36.72%\n",
      "  36  NC_077036.1      1.88%    passed     93.49%\n",
      "  37  NC_077038.1      2.59%    failed      3.91%\n",
      "  38  NC_077050.1      2.35%    passed      5.11%\n",
      "  39  NC_077065.1      1.18%    passed     94.66%\n",
      "  40  NC_077069.1      5.65%    passed     57.14%\n",
      "  41  NC_077079.1      1.65%    passed     81.55%\n",
      "  42  NC_077080.1      1.65%    passed     96.41%\n",
      "  43  NC_077081.1     11.29%    passed     26.62%\n",
      "  44  NC_077082.1      4.00%    passed     98.43%\n",
      "  45  NC_077083.1      3.06%    passed     98.26%\n",
      "****  TOTAL            4.42%  2 sequences failed composition chi2 test (p-value<5%; df=19)\n",
      "NOTE: Densovirus_D3 is identical to Densovirus_D1 but kept for subsequent analysis\n",
      "NOTE: NC_075118.1 is identical to NC_004290.1 but kept for subsequent analysis\n",
      "Checking for duplicate sequences: done in 0.0054711 secs using 1925% CPU\n",
      "Identifying sites to remove: done in 0.0004622 secs using 99.52% CPU\n",
      "NOTE: 7 identical sequences (see below) will be ignored for subsequent analysis\n",
      "NOTE: Densovirus_D4 (identical to Densovirus_D1) is ignored but added at the end\n",
      "NOTE: Densovirus_D5 (identical to Densovirus_D1) is ignored but added at the end\n",
      "NOTE: Densovirus_P1 (identical to Densovirus_D1) is ignored but added at the end\n",
      "NOTE: Densovirus_P2 (identical to Densovirus_D1) is ignored but added at the end\n",
      "NOTE: Densovirus_P3 (identical to Densovirus_D1) is ignored but added at the end\n",
      "NOTE: Densovirus_P4 (identical to Densovirus_D1) is ignored but added at the end\n",
      "NOTE: Densovirus_P5 (identical to Densovirus_D1) is ignored but added at the end\n",
      "Alignment was printed to phylogenomics/model-finder/NSPs/NSPs.uniqueseq.phy\n",
      "\n",
      "For your convenience alignment with unique sequences printed to phylogenomics/model-finder/NSPs/NSPs.uniqueseq.phy\n",
      "\n",
      "\n",
      "Create initial parsimony tree by phylogenetic likelihood library (PLL)... 0.016 seconds\n",
      "Measuring multi-threading efficiency up to 24 CPU cores\n",
      "Increase to 10 rounds for branch lengths\n",
      "46 trees examined\n",
      "Threads: 1 / Time: 24.076 sec / Speedup: 1.000 / Efficiency: 100% / LogL: -30360\n",
      "Threads: 2 / Time: 13.433 sec / Speedup: 1.792 / Efficiency: 90% / LogL: -30360\n",
      "Threads: 3 / Time: 9.645 sec / Speedup: 2.496 / Efficiency: 83% / LogL: -30360\n",
      "Threads: 4 / Time: 8.844 sec / Speedup: 2.722 / Efficiency: 68% / LogL: -30360\n",
      "Threads: 5 / Time: 6.499 sec / Speedup: 3.705 / Efficiency: 74% / LogL: -30360\n",
      "Threads: 6 / Time: 6.199 sec / Speedup: 3.884 / Efficiency: 65% / LogL: -30360\n",
      "Threads: 7 / Time: 5.917 sec / Speedup: 4.069 / Efficiency: 58% / LogL: -30360\n",
      "Threads: 8 / Time: 5.462 sec / Speedup: 4.408 / Efficiency: 55% / LogL: -30360\n",
      "Threads: 9 / Time: 5.127 sec / Speedup: 4.695 / Efficiency: 52% / LogL: -30360\n",
      "Threads: 10 / Time: 5.075 sec / Speedup: 4.744 / Efficiency: 47% / LogL: -30360\n",
      "Determining AUTO threadcount: done in 90.2818 secs using 405.6% CPU\n",
      "BEST NUMBER OF THREADS: 9\n",
      "\n",
      "Perform fast likelihood tree search using LG+I+G model...\n",
      "Estimate model parameters (epsilon = 5.000)\n",
      "Perform nearest neighbor interchange...\n",
      "Optimizing NNI: done in 0.182283 secs using 890% CPU\n",
      "Estimate model parameters (epsilon = 1.000)\n",
      "1. Initial log-likelihood: -21356.233\n",
      "Optimal log-likelihood: -21356.229\n",
      "Proportion of invariable sites: 0.038\n",
      "Gamma shape alpha: 1.822\n",
      "Parameters optimization took 1 rounds (0.037 sec)\n",
      "Time for fast ML tree search: 0.422 seconds\n",
      "\n",
      "NOTE: ModelFinder requires 25 MB RAM!\n",
      "ModelFinder will test up to 1232 protein models (sample size: 425) ...\n",
      " No. Model         -LnL         df  AIC          AICc         BIC\n",
      "  1  LG            22020.509    73  44187.019    44217.799    44482.821\n",
      "  2  LG+I          21822.319    74  43792.638    43824.353    44092.493\n",
      "  3  LG+G4         21388.419    74  42924.839    42956.553    43224.693\n",
      "  4  LG+I+G4       21356.230    75  42862.460    42895.125    43166.367\n",
      "  5  LG+R2         21461.375    75  43072.751    43105.415    43376.657\n",
      "  6  LG+R3         21378.494    77  42910.989    42945.606    43223.000\n",
      "  7  LG+R4         21344.691    79  42847.381    42884.019    43167.496\n",
      "  8  LG+R5         21342.982    81  42847.964    42886.693    43176.183\n",
      " 14  LG+I+R2       21400.374    76  42952.747    42986.379    43260.706\n",
      " 15  LG+I+R3       21355.221    78  42866.441    42902.060    43182.504\n",
      " 16  LG+I+R4       21341.754    80  42843.509    42881.183    43167.676\n",
      " 17  LG+I+R5       21339.316    82  42842.631    42882.432    43174.902\n",
      " 26  LG+F+I+G4     21280.697    94  42749.394    42803.516    43130.291\n",
      " 29  LG+F+R4       21267.960    98  42731.921    42791.442    43129.025\n",
      " 30  LG+F+R5       21264.708    100 42729.417    42791.763    43134.626\n",
      " 38  LG+F+I+R4     21264.678    99  42727.355    42788.278    43128.512\n",
      " 39  LG+F+I+R5     21261.854    101 42725.708    42789.497    43134.969\n",
      " 48  WAG+I+G4      21515.314    75  43180.628    43213.293    43484.535\n",
      " 51  WAG+R4        21488.148    79  43134.297    43170.934    43454.412\n",
      "WARNING: Log-likelihood -21489.4 of WAG+R5 worse than WAG+R4 -21488.1\n",
      " 52  WAG+R5        21489.430    81  43140.860    43179.589    43469.079\n",
      " 60  WAG+I+R4      21486.167    80  43132.334    43170.008    43456.501\n",
      " 61  WAG+I+R5      21484.939    82  43133.877    43173.678    43466.149\n",
      " 70  WAG+F+I+G4    21397.802    94  42983.605    43037.726    43364.501\n",
      " 73  WAG+F+R4      21373.043    98  42942.085    43001.607    43339.190\n",
      " 74  WAG+F+R5      21373.076    100 42946.152    43008.497    43351.361\n",
      " 82  WAG+F+I+R4    21371.458    99  42940.916    43001.839    43342.073\n",
      " 83  WAG+F+I+R5    21369.695    101 42941.389    43005.179    43350.650\n",
      " 92  JTT+I+G4      21605.695    75  43361.390    43394.055    43665.297\n",
      " 95  JTT+R4        21581.692    79  43321.385    43358.023    43641.500\n",
      " 96  JTT+R5        21581.253    81  43324.507    43363.236    43652.726\n",
      "104  JTT+I+R4      21581.677    80  43323.353    43361.027    43647.520\n",
      "105  JTT+I+R5      21579.252    82  43322.504    43362.305    43654.775\n",
      "114  JTT+F+I+G4    21498.228    94  43184.457    43238.578    43565.353\n",
      "117  JTT+F+R4      21473.536    98  43143.072    43202.594    43540.177\n",
      "118  JTT+F+R5      21473.335    100 43146.670    43209.015    43551.879\n",
      "126  JTT+F+I+R4    21474.775    99  43147.551    43208.474    43548.708\n",
      "127  JTT+F+I+R5    21472.275    101 43146.550    43210.340    43555.811\n",
      "WARNING: Normalizing state frequencies so that sum of them equals to 1\n",
      "136  Q.pfam+I+G4   21362.306    75  42874.612    42907.276    43178.518\n",
      "WARNING: Normalizing state frequencies so that sum of them equals to 1\n",
      "139  Q.pfam+R4     21350.989    79  42859.978    42896.616    43180.093\n",
      "WARNING: Normalizing state frequencies so that sum of them equals to 1\n",
      "140  Q.pfam+R5     21346.948    81  42855.897    42894.625    43184.116\n",
      "WARNING: Normalizing state frequencies so that sum of them equals to 1\n",
      "148  Q.pfam+I+R4   21348.410    80  42856.820    42894.494    43180.987\n",
      "WARNING: Normalizing state frequencies so that sum of them equals to 1\n",
      "149  Q.pfam+I+R5   21344.742    82  42853.484    42893.285    43185.755\n",
      "WARNING: Normalizing state frequencies so that sum of them equals to 1\n",
      "158  Q.pfam+F+I+G4 21267.454    94  42722.908    42777.029    43103.805\n",
      "WARNING: Normalizing state frequencies so that sum of them equals to 1\n",
      "161  Q.pfam+F+R4   21253.551    98  42703.103    42762.624    43100.208\n",
      "WARNING: Normalizing state frequencies so that sum of them equals to 1\n",
      "162  Q.pfam+F+R5   21250.777    100 42701.554    42763.899    43106.762\n",
      "WARNING: Normalizing state frequencies so that sum of them equals to 1\n",
      "170  Q.pfam+F+I+R4 21252.642    99  42703.285    42764.208    43104.441\n",
      "WARNING: Normalizing state frequencies so that sum of them equals to 1\n",
      "171  Q.pfam+F+I+R5 21249.270    101 42700.540    42764.329    43109.801\n",
      "WARNING: Normalizing state frequencies so that sum of them equals to 1\n",
      "180  Q.bird+I+G4   21990.975    75  44131.950    44164.615    44435.857\n",
      "WARNING: Normalizing state frequencies so that sum of them equals to 1\n",
      "183  Q.bird+R4     21975.723    79  44109.446    44146.083    44429.561\n",
      "WARNING: Normalizing state frequencies so that sum of them equals to 1\n",
      "184  Q.bird+R5     21973.420    81  44108.839    44147.568    44437.058\n",
      "WARNING: Normalizing state frequencies so that sum of them equals to 1\n",
      "192  Q.bird+I+R4   21977.779    80  44115.559    44153.233    44439.726\n",
      "WARNING: Normalizing state frequencies so that sum of them equals to 1\n",
      "193  Q.bird+I+R5   21972.894    82  44109.787    44149.588    44442.058\n",
      "WARNING: Normalizing state frequencies so that sum of them equals to 1\n",
      "202  Q.bird+F+I+G4 21842.026    94  43872.053    43926.174    44252.949\n",
      "WARNING: Normalizing state frequencies so that sum of them equals to 1\n",
      "205  Q.bird+F+R4   21823.267    98  43842.534    43902.056    44239.639\n",
      "WARNING: Normalizing state frequencies so that sum of them equals to 1\n",
      "206  Q.bird+F+R5   21820.973    100 43841.946    43904.291    44247.154\n",
      "WARNING: Normalizing state frequencies so that sum of them equals to 1\n",
      "214  Q.bird+F+I+R4 21826.174    99  43850.347    43911.270    44251.504\n",
      "WARNING: Normalizing state frequencies so that sum of them equals to 1\n",
      "215  Q.bird+F+I+R5 21821.649    101 43845.298    43909.087    44254.559\n",
      "WARNING: Normalizing state frequencies so that sum of them equals to 1\n",
      "224  Q.mammal+I+G4 21851.130    75  43852.260    43884.925    44156.167\n",
      "WARNING: Normalizing state frequencies so that sum of them equals to 1\n",
      "227  Q.mammal+R4   21837.469    79  43832.937    43869.575    44153.052\n",
      "WARNING: Normalizing state frequencies so that sum of them equals to 1\n",
      "228  Q.mammal+R5   21835.475    81  43832.950    43871.679    44161.169\n",
      "WARNING: Normalizing state frequencies so that sum of them equals to 1\n",
      "236  Q.mammal+I+R4 21838.279    80  43836.558    43874.233    44160.725\n",
      "WARNING: Normalizing state frequencies so that sum of them equals to 1\n",
      "237  Q.mammal+I+R5 21834.562    82  43833.125    43872.926    44165.396\n",
      "WARNING: Normalizing state frequencies so that sum of them equals to 1\n",
      "246  Q.mammal+F+I+G4 21686.148    94  43560.296    43614.417    43941.192\n",
      "WARNING: Normalizing state frequencies so that sum of them equals to 1\n",
      "249  Q.mammal+F+R4 21669.161    98  43534.322    43593.843    43931.427\n",
      "WARNING: Normalizing state frequencies so that sum of them equals to 1\n",
      "250  Q.mammal+F+R5 21666.959    100 43533.919    43596.264    43939.128\n",
      "WARNING: Normalizing state frequencies so that sum of them equals to 1\n",
      "258  Q.mammal+F+I+R4 21671.548    99  43541.097    43602.020    43942.253\n",
      "WARNING: Normalizing state frequencies so that sum of them equals to 1\n",
      "259  Q.mammal+F+I+R5 21667.358    101 43536.715    43600.505    43945.976\n",
      "268  Q.insect+I+G4 21434.065    75  43018.129    43050.794    43322.036\n",
      "271  Q.insect+R4   21422.347    79  43002.693    43039.331    43322.808\n",
      "272  Q.insect+R5   21420.513    81  43003.026    43041.755    43331.246\n",
      "280  Q.insect+I+R4 21422.158    80  43004.316    43041.990    43328.483\n",
      "281  Q.insect+I+R5 21418.836    82  43001.673    43041.474    43333.944\n",
      "290  Q.insect+F+I+G4 21352.936    94  42893.871    42947.993    43274.768\n",
      "293  Q.insect+F+R4 21338.094    98  42872.188    42931.709    43269.293\n",
      "294  Q.insect+F+R5 21336.140    100 42872.280    42934.626    43277.489\n",
      "302  Q.insect+F+I+R4 21338.453    99  42874.906    42935.829    43276.063\n",
      "303  Q.insect+F+I+R5 21334.788    101 42871.575    42935.365    43280.836\n",
      "WARNING: Normalizing state frequencies so that sum of them equals to 1\n",
      "312  Q.plant+I+G4  21656.997    75  43463.993    43496.658    43767.900\n",
      "WARNING: Normalizing state frequencies so that sum of them equals to 1\n",
      "315  Q.plant+R4    21643.584    79  43445.167    43481.805    43765.282\n",
      "WARNING: Normalizing state frequencies so that sum of them equals to 1\n",
      "316  Q.plant+R5    21643.394    81  43448.788    43487.517    43777.008\n",
      "WARNING: Normalizing state frequencies so that sum of them equals to 1\n",
      "324  Q.plant+I+R4  21643.097    80  43446.193    43483.868    43770.360\n",
      "WARNING: Normalizing state frequencies so that sum of them equals to 1\n",
      "325  Q.plant+I+R5  21639.230    82  43442.461    43482.262    43774.732\n",
      "WARNING: Normalizing state frequencies so that sum of them equals to 1\n",
      "334  Q.plant+F+I+G4 21566.302    94  43320.603    43374.725    43701.500\n",
      "WARNING: Normalizing state frequencies so that sum of them equals to 1\n",
      "337  Q.plant+F+R4  21548.017    98  43292.035    43351.556    43689.139\n",
      "WARNING: Normalizing state frequencies so that sum of them equals to 1\n",
      "338  Q.plant+F+R5  21547.742    100 43295.484    43357.829    43700.693\n",
      "WARNING: Normalizing state frequencies so that sum of them equals to 1\n",
      "346  Q.plant+F+I+R4 21548.322    99  43294.643    43355.566    43695.800\n",
      "WARNING: Normalizing state frequencies so that sum of them equals to 1\n",
      "347  Q.plant+F+I+R5 21544.152    101 43290.303    43354.093    43699.564\n",
      "WARNING: Normalizing state frequencies so that sum of them equals to 1\n",
      "356  Q.yeast+I+G4  21440.818    75  43031.636    43064.301    43335.543\n",
      "WARNING: Normalizing state frequencies so that sum of them equals to 1\n",
      "359  Q.yeast+R4    21429.266    79  43016.532    43053.170    43336.647\n",
      "WARNING: Normalizing state frequencies so that sum of them equals to 1\n",
      "360  Q.yeast+R5    21425.439    81  43012.878    43051.607    43341.098\n",
      "WARNING: Normalizing state frequencies so that sum of them equals to 1\n",
      "368  Q.yeast+I+R4  21427.889    80  43015.779    43053.453    43339.946\n",
      "WARNING: Normalizing state frequencies so that sum of them equals to 1\n",
      "369  Q.yeast+I+R5  21423.119    82  43010.238    43050.040    43342.510\n",
      "WARNING: Normalizing state frequencies so that sum of them equals to 1\n",
      "378  Q.yeast+F+I+G4 21300.803    94  42789.606    42843.727    43170.502\n",
      "WARNING: Normalizing state frequencies so that sum of them equals to 1\n",
      "381  Q.yeast+F+R4  21286.745    98  42769.491    42829.012    43166.595\n",
      "WARNING: Normalizing state frequencies so that sum of them equals to 1\n",
      "382  Q.yeast+F+R5  21283.582    100 42767.164    42829.510    43172.373\n",
      "WARNING: Normalizing state frequencies so that sum of them equals to 1\n",
      "390  Q.yeast+F+I+R4 21286.101    99  42770.201    42831.124    43171.358\n",
      "WARNING: Normalizing state frequencies so that sum of them equals to 1\n",
      "391  Q.yeast+F+I+R5 21281.742    101 42765.484    42829.274    43174.745\n",
      "400  JTTDCMut+I+G4 21607.493    75  43364.987    43397.651    43668.893\n",
      "403  JTTDCMut+R4   21582.790    79  43323.581    43360.219    43643.696\n",
      "WARNING: Log-likelihood -21584.1 of JTTDCMut+R5 worse than JTTDCMut+R4 -21582.8\n",
      "404  JTTDCMut+R5   21584.125    81  43330.251    43368.980    43658.470\n",
      "412  JTTDCMut+I+R4 21583.682    80  43327.363    43365.038    43651.531\n",
      "413  JTTDCMut+I+R5 21581.161    82  43326.322    43366.123    43658.593\n",
      "422  JTTDCMut+F+I+G4 21500.103    94  43188.207    43242.328    43569.103\n",
      "425  JTTDCMut+F+R4 21475.345    98  43146.690    43206.211    43543.794\n",
      "426  JTTDCMut+F+R5 21475.523    100 43151.046    43213.392    43556.255\n",
      "434  JTTDCMut+F+I+R4 21476.779    99  43151.557    43212.480    43552.714\n",
      "435  JTTDCMut+F+I+R5 21474.212    101 43150.425    43214.214    43559.686\n",
      "444  DCMut+I+G4    21898.929    75  43947.859    43980.523    44251.765\n",
      "447  DCMut+R4      21877.006    79  43912.012    43948.650    44232.127\n",
      "448  DCMut+R5      21875.499    81  43912.998    43951.727    44241.218\n",
      "456  DCMut+I+R4    21875.295    80  43910.590    43948.264    44234.757\n",
      "457  DCMut+I+R5    21872.068    82  43908.137    43947.938    44240.408\n",
      "466  DCMut+F+I+G4  21643.533    94  43475.066    43529.188    43855.963\n",
      "469  DCMut+F+R4    21621.018    98  43438.037    43497.558    43835.141\n",
      "470  DCMut+F+R5    21620.051    100 43440.103    43502.448    43845.312\n",
      "478  DCMut+F+I+R4  21621.042    99  43440.084    43501.007    43841.241\n",
      "479  DCMut+F+I+R5  21617.789    101 43437.578    43501.368    43846.839\n",
      "488  VT+I+G4       21464.264    75  43078.528    43111.193    43382.435\n",
      "491  VT+R4         21437.651    79  43033.301    43069.939    43353.416\n",
      "WARNING: Log-likelihood -21439.6 of VT+R5 worse than VT+R4 -21437.7\n",
      "492  VT+R5         21439.562    81  43041.124    43079.853    43369.343\n",
      "500  VT+I+R4       21438.350    80  43036.699    43074.373    43360.866\n",
      "501  VT+I+R5       21436.430    82  43036.860    43076.661    43369.132\n",
      "510  VT+F+I+G4     21381.565    94  42951.129    43005.250    43332.025\n",
      "513  VT+F+R4       21355.186    98  42906.371    42965.893    43303.476\n",
      "WARNING: Log-likelihood -21356.9 of VT+F+R5 worse than VT+F+R4 -21355.2\n",
      "514  VT+F+R5       21356.874    100 42913.748    42976.094    43318.957\n",
      "522  VT+F+I+R4     21356.056    99  42910.113    42971.036    43311.269\n",
      "523  VT+F+I+R5     21354.123    101 42910.247    42974.036    43319.508\n",
      "532  PMB+I+G4      21518.202    75  43186.404    43219.068    43490.310\n",
      "535  PMB+R4        21497.079    79  43152.159    43188.797    43472.274\n",
      "536  PMB+R5        21497.251    81  43156.502    43195.231    43484.721\n",
      "544  PMB+I+R4      21496.718    80  43153.437    43191.111    43477.604\n",
      "545  PMB+I+R5      21495.064    82  43154.129    43193.930    43486.400\n",
      "554  PMB+F+I+G4    21482.874    94  43153.747    43207.868    43534.644\n",
      "557  PMB+F+R4      21460.755    98  43117.511    43177.032    43514.616\n",
      "WARNING: Log-likelihood -21463.2 of PMB+F+R5 worse than PMB+F+R4 -21460.8\n",
      "558  PMB+F+R5      21463.213    100 43126.427    43188.772    43531.636\n",
      "566  PMB+F+I+R4    21460.698    99  43119.396    43180.319    43520.553\n",
      "567  PMB+F+I+R5    21459.151    101 43120.301    43184.091    43529.562\n",
      "576  Blosum62+I+G4 21505.876    75  43161.751    43194.416    43465.658\n",
      "579  Blosum62+R4   21487.546    79  43133.091    43169.729    43453.206\n",
      "WARNING: Log-likelihood -21489.4 of Blosum62+R5 worse than Blosum62+R4 -21487.5\n",
      "580  Blosum62+R5   21489.405    81  43140.810    43179.539    43469.030\n",
      "588  Blosum62+I+R4 21486.862    80  43133.724    43171.399    43457.892\n",
      "589  Blosum62+I+R5 21484.651    82  43133.302    43173.103    43465.574\n",
      "598  Blosum62+F+I+G4 21455.692    94  43099.385    43153.506    43480.281\n",
      "601  Blosum62+F+R4 21434.665    98  43065.331    43124.852    43462.435\n",
      "WARNING: Log-likelihood -21437.3 of Blosum62+F+R5 worse than Blosum62+F+R4 -21434.7\n",
      "602  Blosum62+F+R5 21437.290    100 43074.581    43136.926    43479.790\n",
      "610  Blosum62+F+I+R4 21434.043    99  43066.086    43127.009    43467.242\n",
      "611  Blosum62+F+I+R5 21432.726    101 43067.453    43131.242    43476.714\n",
      "620  Dayhoff+I+G4  21899.055    75  43948.110    43980.775    44252.017\n",
      "623  Dayhoff+R4    21877.250    79  43912.499    43949.137    44232.614\n",
      "624  Dayhoff+R5    21875.718    81  43913.437    43952.166    44241.656\n",
      "632  Dayhoff+I+R4  21875.423    80  43910.846    43948.520    44235.013\n",
      "633  Dayhoff+I+R5  21872.169    82  43908.337    43948.138    44240.609\n",
      "642  Dayhoff+F+I+G4 21643.697    94  43475.394    43529.515    43856.290\n",
      "645  Dayhoff+F+R4  21621.199    98  43438.398    43497.919    43835.502\n",
      "646  Dayhoff+F+R5  21620.344    100 43440.688    43503.034    43845.897\n",
      "654  Dayhoff+F+I+R4 21621.173    99  43440.347    43501.270    43841.504\n",
      "655  Dayhoff+F+I+R5 21617.922    101 43437.843    43501.633    43847.104\n",
      "664  mtREV+I+G4    22614.432    75  45378.863    45411.528    45682.770\n",
      "667  mtREV+R4      22612.006    79  45382.012    45418.650    45702.127\n",
      "668  mtREV+R5      22603.007    81  45368.013    45406.742    45696.233\n",
      "676  mtREV+I+R4    22606.084    80  45372.169    45409.843    45696.336\n",
      "677  mtREV+I+R5    22602.154    82  45368.307    45408.108    45700.578\n",
      "686  mtREV+F+I+G4  21836.717    94  43861.433    43915.554    44242.330\n",
      "689  mtREV+F+R4    21821.098    98  43838.197    43897.718    44235.302\n",
      "690  mtREV+F+R5    21816.438    100 43832.876    43895.221    44238.085\n",
      "698  mtREV+F+I+R4  21822.571    99  43843.142    43904.065    44244.299\n",
      "699  mtREV+F+I+R5  21817.463    101 43836.927    43900.716    44246.188\n",
      "708  mtART+I+G4    22704.940    75  45559.880    45592.544    45863.786\n",
      "711  mtART+R4      22718.197    79  45594.394    45631.032    45914.509\n",
      "712  mtART+R5      22698.884    81  45559.767    45598.496    45887.987\n",
      "720  mtART+I+R4    22696.464    80  45552.928    45590.603    45877.095\n",
      "721  mtART+I+R5    22684.902    82  45533.804    45573.605    45866.075\n",
      "730  mtART+F+I+G4  21917.582    94  44023.163    44077.285    44404.060\n",
      "733  mtART+F+R4    21916.412    98  44028.824    44088.345    44425.928\n",
      "734  mtART+F+R5    21904.320    100 44008.640    44070.986    44413.849\n",
      "742  mtART+F+I+R4  21910.467    99  44018.935    44079.858    44420.092\n",
      "743  mtART+F+I+R5  21897.560    101 43997.121    44060.910    44406.382\n",
      "752  mtZOA+I+G4    22255.479    75  44660.957    44693.622    44964.864\n",
      "755  mtZOA+R4      22262.516    79  44683.032    44719.669    45003.147\n",
      "756  mtZOA+R5      22252.291    81  44666.583    44705.312    44994.802\n",
      "764  mtZOA+I+R4    22248.288    80  44656.576    44694.250    44980.743\n",
      "765  mtZOA+I+R5    22244.289    82  44652.578    44692.379    44984.849\n",
      "774  mtZOA+F+I+G4  21674.670    94  43537.341    43591.462    43918.237\n",
      "777  mtZOA+F+R4    21667.534    98  43531.067    43590.589    43928.172\n",
      "778  mtZOA+F+R5    21661.932    100 43523.864    43586.209    43929.073\n",
      "786  mtZOA+F+I+R4  21665.581    99  43529.162    43590.085    43930.319\n",
      "787  mtZOA+F+I+R5  21660.170    101 43522.341    43586.130    43931.602\n",
      "796  mtMet+I+G4    22451.357    75  45052.714    45085.379    45356.621\n",
      "799  mtMet+R4      22449.099    79  45056.199    45092.836    45376.314\n",
      "800  mtMet+R5      22440.772    81  45043.543    45082.272    45371.763\n",
      "808  mtMet+I+R4    22440.115    80  45040.230    45077.905    45364.397\n",
      "809  mtMet+I+R5    22437.538    82  45039.076    45078.878    45371.348\n",
      "818  mtMet+F+I+G4  21728.711    94  43645.423    43699.544    44026.319\n",
      "821  mtMet+F+R4    21717.034    98  43630.069    43689.590    44027.174\n",
      "822  mtMet+F+R5    21716.182    100 43632.364    43694.710    44037.573\n",
      "830  mtMet+F+I+R4  21717.851    99  43633.702    43694.626    44034.859\n",
      "831  mtMet+F+I+R5  21714.275    101 43630.550    43694.340    44039.811\n",
      "840  mtVer+I+G4    22758.241    75  45666.482    45699.147    45970.389\n",
      "843  mtVer+R4      22755.590    79  45669.180    45705.818    45989.295\n",
      "844  mtVer+R5      22750.100    81  45662.200    45700.929    45990.419\n",
      "852  mtVer+I+R4    22745.740    80  45651.480    45689.155    45975.647\n",
      "853  mtVer+I+R5    22743.593    82  45651.187    45690.988    45983.458\n",
      "862  mtVer+F+I+G4  22042.965    94  44273.930    44328.051    44654.826\n",
      "865  mtVer+F+R4    22028.260    98  44252.520    44312.042    44649.625\n",
      "866  mtVer+F+R5    22021.992    100 44243.985    44306.330    44649.194\n",
      "874  mtVer+F+I+R4  22029.574    99  44257.148    44318.071    44658.305\n",
      "875  mtVer+F+I+R5  22023.616    101 44249.233    44313.022    44658.494\n",
      "884  mtInv+I+G4    22515.873    75  45181.746    45214.410    45485.652\n",
      "887  mtInv+R4      22511.164    79  45180.329    45216.967    45500.444\n",
      "888  mtInv+R5      22506.662    81  45175.324    45214.052    45503.543\n",
      "896  mtInv+I+R4    22508.473    80  45176.947    45214.621    45501.114\n",
      "897  mtInv+I+R5    22502.596    82  45169.192    45208.994    45501.464\n",
      "906  mtInv+F+I+G4  21588.782    94  43365.565    43419.686    43746.461\n",
      "909  mtInv+F+R4    21577.264    98  43350.527    43410.049    43747.632\n",
      "910  mtInv+F+R5    21576.242    100 43352.485    43414.831    43757.694\n",
      "918  mtInv+F+I+R4  21576.293    99  43350.585    43411.508    43751.742\n",
      "919  mtInv+F+I+R5  21573.886    101 43349.773    43413.562    43759.034\n",
      "928  mtMAM+I+G4    22975.652    75  46101.304    46133.968    46405.210\n",
      "931  mtMAM+R4      22981.767    79  46121.534    46158.171    46441.649\n",
      "932  mtMAM+R5      22971.693    81  46105.387    46144.116    46433.606\n",
      "940  mtMAM+I+R4    22960.965    80  46081.931    46119.605    46406.098\n",
      "941  mtMAM+I+R5    22958.157    82  46080.313    46120.115    46412.585\n",
      "950  mtMAM+F+I+G4  22239.236    94  44666.473    44720.594    45047.369\n",
      "953  mtMAM+F+R4    22236.752    98  44669.503    44729.025    45066.608\n",
      "954  mtMAM+F+R5    22225.589    100 44651.178    44713.523    45056.386\n",
      "962  mtMAM+F+I+R4  22232.124    99  44662.249    44723.172    45063.406\n",
      "963  mtMAM+F+I+R5  22222.409    101 44646.818    44710.607    45056.079\n",
      "WARNING: Normalizing state frequencies so that sum of them equals to 1\n",
      "972  FLAVI+I+G4    22450.242    75  45050.484    45083.149    45354.390\n",
      "WARNING: Normalizing state frequencies so that sum of them equals to 1\n",
      "975  FLAVI+R4      22432.966    79  45023.932    45060.569    45344.047\n",
      "WARNING: Normalizing state frequencies so that sum of them equals to 1\n",
      "976  FLAVI+R5      22429.918    81  45021.837    45060.566    45350.056\n",
      "WARNING: Normalizing state frequencies so that sum of them equals to 1\n",
      "984  FLAVI+I+R4    22433.622    80  45027.244    45064.918    45351.411\n",
      "WARNING: Normalizing state frequencies so that sum of them equals to 1\n",
      "985  FLAVI+I+R5    22429.453    82  45022.906    45062.707    45355.177\n",
      "WARNING: Normalizing state frequencies so that sum of them equals to 1\n",
      "994  FLAVI+F+I+G4  22251.012    94  44690.023    44744.144    45070.920\n",
      "WARNING: Normalizing state frequencies so that sum of them equals to 1\n",
      "997  FLAVI+F+R4    22222.737    98  44641.475    44700.996    45038.579\n",
      "WARNING: Normalizing state frequencies so that sum of them equals to 1\n",
      "998  FLAVI+F+R5    22222.700    100 44645.401    44707.747    45050.610\n",
      "WARNING: Normalizing state frequencies so that sum of them equals to 1\n",
      "1006  FLAVI+F+I+R4  22222.635    99  44643.271    44704.194    45044.427\n",
      "WARNING: Normalizing state frequencies so that sum of them equals to 1\n",
      "1007  FLAVI+F+I+R5  22221.187    101 44644.374    44708.163    45053.635\n",
      "1016  HIVb+I+G4     21910.714    75  43971.429    44004.093    44275.335\n",
      "1019  HIVb+R4       21889.760    79  43937.520    43974.157    44257.635\n",
      "1020  HIVb+R5       21888.002    81  43938.005    43976.734    44266.224\n",
      "1028  HIVb+I+R4     21888.359    80  43936.718    43974.392    44260.885\n",
      "1029  HIVb+I+R5     21885.352    82  43934.704    43974.505    44266.975\n",
      "1038  HIVb+F+I+G4   21862.410    94  43912.819    43966.941    44293.716\n",
      "1041  HIVb+F+R4     21842.326    98  43880.653    43940.174    44277.757\n",
      "1042  HIVb+F+R5     21840.701    100 43881.401    43943.747    44286.610\n",
      "1050  HIVb+F+I+R4   21841.269    99  43880.537    43941.460    44281.694\n",
      "1051  HIVb+F+I+R5   21836.568    101 43875.136    43938.925    44284.397\n",
      "1060  HIVw+I+G4     22793.770    75  45737.539    45770.204    46041.446\n",
      "1063  HIVw+R4       22775.651    79  45709.303    45745.940    46029.418\n",
      "1064  HIVw+R5       22771.293    81  45704.585    45743.314    46032.804\n",
      "1072  HIVw+I+R4     22772.276    80  45704.553    45742.227    46028.720\n",
      "1073  HIVw+I+R5     22766.674    82  45697.349    45737.150    46029.620\n",
      "1082  HIVw+F+I+G4   22426.893    94  45041.785    45095.907    45422.682\n",
      "1085  HIVw+F+R4     22400.618    98  44997.236    45056.758    45394.341\n",
      "1086  HIVw+F+R5     22397.184    100 44994.368    45056.713    45399.577\n",
      "1094  HIVw+F+I+R4   22396.378    99  44990.755    45051.678    45391.912\n",
      "1095  HIVw+F+I+R5   22394.053    101 44990.106    45053.896    45399.367\n",
      "1104  FLU+I+G4      21910.668    75  43971.336    44004.001    44275.243\n",
      "1107  FLU+R4        21889.877    79  43937.754    43974.391    44257.869\n",
      "1108  FLU+R5        21884.766    81  43931.531    43970.260    44259.751\n",
      "1116  FLU+I+R4      21889.744    80  43939.488    43977.162    44263.655\n",
      "1117  FLU+I+R5      21883.568    82  43931.136    43970.937    44263.408\n",
      "1126  FLU+F+I+G4    21817.852    94  43823.704    43877.825    44204.600\n",
      "1129  FLU+F+R4      21795.915    98  43787.830    43847.351    44184.935\n",
      "1130  FLU+F+R5      21791.084    100 43782.168    43844.514    44187.377\n",
      "1138  FLU+F+I+R4    21794.786    99  43787.571    43848.494    44188.728\n",
      "1139  FLU+F+I+R5    21788.993    101 43779.985    43843.775    44189.246\n",
      "1148  rtREV+I+G4    21533.348    75  43216.696    43249.361    43520.603\n",
      "1151  rtREV+R4      21519.450    79  43196.901    43233.539    43517.016\n",
      "1152  rtREV+R5      21516.928    81  43195.856    43234.585    43524.075\n",
      "1160  rtREV+I+R4    21517.220    80  43194.439    43232.114    43518.606\n",
      "1161  rtREV+I+R5    21513.749    82  43191.497    43231.298    43523.769\n",
      "1170  rtREV+F+I+G4  21314.255    94  42816.509    42870.631    43197.406\n",
      "1173  rtREV+F+R4    21300.733    98  42797.466    42856.988    43194.571\n",
      "1174  rtREV+F+R5    21300.456    100 42800.912    42863.257    43206.120\n",
      "1182  rtREV+F+I+R4  21299.402    99  42796.804    42857.727    43197.961\n",
      "1183  rtREV+F+I+R5  21296.925    101 42795.850    42859.639    43205.111\n",
      "1192  cpREV+I+G4    21581.358    75  43312.716    43345.381    43616.623\n",
      "1195  cpREV+R4      21557.311    79  43272.622    43309.259    43592.737\n",
      "WARNING: Log-likelihood -21559.3 of cpREV+R5 worse than cpREV+R4 -21557.3\n",
      "1196  cpREV+R5      21559.257    81  43280.513    43319.242    43608.732\n",
      "1204  cpREV+I+R4    21553.942    80  43267.885    43305.559    43592.052\n",
      "1205  cpREV+I+R5    21552.498    82  43268.996    43308.797    43601.267\n",
      "1214  cpREV+F+I+G4  21587.714    94  43363.428    43417.549    43744.324\n",
      "1217  cpREV+F+R4    21563.367    98  43322.734    43382.255    43719.839\n",
      "WARNING: Log-likelihood -21564.9 of cpREV+F+R5 worse than cpREV+F+R4 -21563.4\n",
      "1218  cpREV+F+R5    21564.863    100 43329.727    43392.072    43734.936\n",
      "1226  cpREV+F+I+R4  21559.632    99  43317.264    43378.187    43718.421\n",
      "1227  cpREV+F+I+R5  21557.859    101 43317.719    43381.508    43726.980\n",
      "Akaike Information Criterion:           Q.pfam+F+I+R5\n",
      "Corrected Akaike Information Criterion: Q.pfam+F+R4\n",
      "Bayesian Information Criterion:         Q.pfam+F+R4\n",
      "Best-fit model: Q.pfam+F+R4 chosen according to BIC\n",
      "\n",
      "All model information printed to phylogenomics/model-finder/NSPs/NSPs.model.gz\n",
      "CPU time for ModelFinder: 5662.382 seconds (1h:34m:22s)\n",
      "Wall-clock time for ModelFinder: 679.548 seconds (0h:11m:19s)\n",
      "WARNING: Normalizing state frequencies so that sum of them equals to 1\n",
      "\n",
      "NOTE: 10 MB RAM (0 GB) is required!\n",
      "Estimate model parameters (epsilon = 0.100)\n",
      "1. Initial log-likelihood: -21253.551\n",
      "Optimal log-likelihood: -21253.424\n",
      "Site proportion and rates:  (0.087,0.064) (0.265,0.396) (0.363,0.972) (0.285,1.881)\n",
      "Parameters optimization took 1 rounds (0.116 sec)\n",
      "Wrote distance file to... \n",
      "Computing ML distances based on estimated model parameters...\n",
      "Calculating distance matrix: done in 0.0397681 secs using 882.7% CPU\n",
      "Computing ML distances took 0.041012 sec (of wall-clock time) 0.351684 sec (of CPU time)\n",
      "Setting up auxiliary I and S matrices: done in 0.0020843 secs using 376.7% CPU\n",
      "Constructing RapidNJ tree: done in 0.0934072 secs using 170.8% CPU\n",
      "Computing RapidNJ tree took 0.096460 sec (of wall-clock time) 0.167647 sec (of CPU time)\n",
      "Log-likelihood of RapidNJ tree: -21276.396\n",
      "--------------------------------------------------------------------\n",
      "|             INITIALIZING CANDIDATE TREE SET                      |\n",
      "--------------------------------------------------------------------\n",
      "Generating 98 parsimony trees... 1.075 second\n",
      "Computing log-likelihood of 98 initial trees ... 1.303 seconds\n",
      "Current best score: -21253.424\n",
      "\n",
      "Do NNI search on 20 best initial trees\n",
      "Optimizing NNI: done in 0.0972875 secs using 915.4% CPU\n",
      "Estimate model parameters (epsilon = 0.100)\n",
      "BETTER TREE FOUND at iteration 1: -21252.131\n",
      "Optimizing NNI: done in 0.164084 secs using 874% CPU\n",
      "Estimate model parameters (epsilon = 0.100)\n",
      "BETTER TREE FOUND at iteration 2: -21246.761\n",
      "Optimizing NNI: done in 0.162905 secs using 934.8% CPU\n",
      "Optimizing NNI: done in 0.165426 secs using 916.1% CPU\n",
      "Optimizing NNI: done in 0.195359 secs using 878.1% CPU\n",
      "Optimizing NNI: done in 0.170709 secs using 890.8% CPU\n",
      "Optimizing NNI: done in 0.180857 secs using 896.2% CPU\n",
      "Optimizing NNI: done in 0.185514 secs using 876.2% CPU\n",
      "UPDATE BEST LOG-LIKELIHOOD: -21246.757\n",
      "Optimizing NNI: done in 0.195142 secs using 919.9% CPU\n",
      "Optimizing NNI: done in 0.170085 secs using 899.6% CPU\n",
      "Iteration 10 / LogL: -21246.800 / Time: 0h:0m:4s\n",
      "Optimizing NNI: done in 0.156679 secs using 865.9% CPU\n",
      "Optimizing NNI: done in 0.17254 secs using 882.4% CPU\n",
      "Optimizing NNI: done in 0.187657 secs using 904.7% CPU\n",
      "UPDATE BEST LOG-LIKELIHOOD: -21246.757\n",
      "Optimizing NNI: done in 0.20043 secs using 898.3% CPU\n",
      "UPDATE BEST LOG-LIKELIHOOD: -21246.757\n",
      "Optimizing NNI: done in 0.178438 secs using 906.9% CPU\n",
      "Optimizing NNI: done in 0.175636 secs using 914.2% CPU\n",
      "Optimizing NNI: done in 0.179806 secs using 898% CPU\n",
      "Optimizing NNI: done in 0.219163 secs using 903.1% CPU\n",
      "UPDATE BEST LOG-LIKELIHOOD: -21246.750\n",
      "Optimizing NNI: done in 0.191012 secs using 937.6% CPU\n",
      "Optimizing NNI: done in 0.157032 secs using 915.1% CPU\n",
      "Iteration 20 / LogL: -21246.799 / Time: 0h:0m:6s\n",
      "Finish initializing candidate tree set (3)\n",
      "Current best tree score: -21246.750 / CPU time: 6.345\n",
      "Number of iterations: 20\n",
      "--------------------------------------------------------------------\n",
      "|               OPTIMIZING CANDIDATE TREE SET                      |\n",
      "--------------------------------------------------------------------\n",
      "Optimizing NNI: done in 0.295069 secs using 882.8% CPU\n",
      "Optimizing NNI: done in 0.378703 secs using 902.7% CPU\n",
      "Optimizing NNI: done in 0.261718 secs using 887.1% CPU\n",
      "Optimizing NNI: done in 0.310459 secs using 898.8% CPU\n",
      "Optimizing NNI: done in 0.268441 secs using 874.8% CPU\n",
      "Optimizing NNI: done in 0.255372 secs using 883.2% CPU\n",
      "Optimizing NNI: done in 0.210299 secs using 898.9% CPU\n",
      "Optimizing NNI: done in 0.249762 secs using 896.7% CPU\n",
      "Optimizing NNI: done in 0.314908 secs using 906.6% CPU\n",
      "Optimizing NNI: done in 0.19857 secs using 905.8% CPU\n",
      "Iteration 30 / LogL: -21247.054 / Time: 0h:0m:9s (0h:0m:23s left)\n",
      "Optimizing NNI: done in 0.183511 secs using 922.8% CPU\n",
      "Optimizing NNI: done in 0.353281 secs using 892.6% CPU\n",
      "Optimizing NNI: done in 0.31364 secs using 890.7% CPU\n",
      "Optimizing NNI: done in 0.319863 secs using 892% CPU\n",
      "Optimizing NNI: done in 0.294405 secs using 888% CPU\n",
      "Optimizing NNI: done in 0.259532 secs using 897.6% CPU\n",
      "Optimizing NNI: done in 0.283481 secs using 886.6% CPU\n",
      "Optimizing NNI: done in 0.158395 secs using 901.8% CPU\n",
      "Optimizing NNI: done in 0.370848 secs using 895.5% CPU\n",
      "Optimizing NNI: done in 0.340393 secs using 899.1% CPU\n",
      "Iteration 40 / LogL: -21247.929 / Time: 0h:0m:12s (0h:0m:19s left)\n",
      "Optimizing NNI: done in 0.328697 secs using 900.1% CPU\n",
      "Optimizing NNI: done in 0.309615 secs using 901% CPU\n",
      "Optimizing NNI: done in 0.262512 secs using 919% CPU\n",
      "Optimizing NNI: done in 0.315493 secs using 886.1% CPU\n",
      "Optimizing NNI: done in 0.241395 secs using 891.2% CPU\n",
      "Optimizing NNI: done in 0.276126 secs using 907.6% CPU\n",
      "Optimizing NNI: done in 0.273074 secs using 920.3% CPU\n",
      "Optimizing NNI: done in 0.332963 secs using 889.9% CPU\n",
      "Optimizing NNI: done in 0.217631 secs using 871.9% CPU\n",
      "Optimizing NNI: done in 0.234083 secs using 886% CPU\n",
      "Iteration 50 / LogL: -21246.971 / Time: 0h:0m:15s (0h:0m:16s left)\n",
      "Optimizing NNI: done in 0.231787 secs using 919.7% CPU\n",
      "Optimizing NNI: done in 0.221551 secs using 894.4% CPU\n",
      "Optimizing NNI: done in 0.335485 secs using 907.8% CPU\n",
      "Optimizing NNI: done in 0.281263 secs using 917.7% CPU\n",
      "Optimizing NNI: done in 0.413157 secs using 891.5% CPU\n",
      "Optimizing NNI: done in 0.34954 secs using 898.1% CPU\n",
      "Optimizing NNI: done in 0.270491 secs using 898.5% CPU\n",
      "Optimizing NNI: done in 0.289554 secs using 894.3% CPU\n",
      "Optimizing NNI: done in 0.302143 secs using 891% CPU\n",
      "Optimizing NNI: done in 0.375418 secs using 907.1% CPU\n",
      "Iteration 60 / LogL: -21247.065 / Time: 0h:0m:18s (0h:0m:13s left)\n",
      "Optimizing NNI: done in 0.32714 secs using 904.7% CPU\n",
      "Optimizing NNI: done in 0.30563 secs using 908.2% CPU\n",
      "Optimizing NNI: done in 0.276219 secs using 907.3% CPU\n",
      "Optimizing NNI: done in 0.261718 secs using 890.9% CPU\n",
      "Optimizing NNI: done in 0.252745 secs using 891.3% CPU\n",
      "Optimizing NNI: done in 0.350173 secs using 896.7% CPU\n",
      "Optimizing NNI: done in 0.271338 secs using 888.7% CPU\n",
      "Optimizing NNI: done in 0.287932 secs using 905.7% CPU\n",
      "Optimizing NNI: done in 0.232194 secs using 892.4% CPU\n",
      "Optimizing NNI: done in 0.285121 secs using 885.6% CPU\n",
      "Iteration 70 / LogL: -21248.934 / Time: 0h:0m:21s (0h:0m:9s left)\n",
      "Optimizing NNI: done in 0.386744 secs using 886% CPU\n",
      "Optimizing NNI: done in 0.405076 secs using 885% CPU\n",
      "Optimizing NNI: done in 0.328251 secs using 879.9% CPU\n",
      "Optimizing NNI: done in 0.253238 secs using 889.8% CPU\n",
      "Optimizing NNI: done in 0.342454 secs using 917.6% CPU\n",
      "Optimizing NNI: done in 0.232207 secs using 892.4% CPU\n",
      "Optimizing NNI: done in 0.200956 secs using 886.2% CPU\n",
      "Optimizing NNI: done in 0.326734 secs using 904.9% CPU\n",
      "Optimizing NNI: done in 0.344731 secs using 909.3% CPU\n",
      "Optimizing NNI: done in 0.229035 secs using 903.4% CPU\n",
      "Iteration 80 / LogL: -21246.779 / Time: 0h:0m:24s (0h:0m:6s left)\n",
      "Optimizing NNI: done in 0.439788 secs using 900.4% CPU\n",
      "Optimizing NNI: done in 0.353498 secs using 886.4% CPU\n",
      "Optimizing NNI: done in 0.261016 secs using 896.9% CPU\n",
      "Optimizing NNI: done in 0.251557 secs using 891.1% CPU\n",
      "Optimizing NNI: done in 0.314774 secs using 913.3% CPU\n",
      "Optimizing NNI: done in 0.270998 secs using 897.1% CPU\n",
      "Optimizing NNI: done in 0.34422 secs using 890.2% CPU\n",
      "Optimizing NNI: done in 0.24286 secs using 890.6% CPU\n",
      "Optimizing NNI: done in 0.302602 secs using 910.7% CPU\n",
      "Optimizing NNI: done in 0.407869 secs using 904.2% CPU\n",
      "Iteration 90 / LogL: -21328.926 / Time: 0h:0m:27s (0h:0m:3s left)\n",
      "Optimizing NNI: done in 0.319862 secs using 890.9% CPU\n",
      "Optimizing NNI: done in 0.324239 secs using 889.5% CPU\n",
      "Optimizing NNI: done in 0.243044 secs using 918.8% CPU\n",
      "Optimizing NNI: done in 0.225145 secs using 912.8% CPU\n",
      "Optimizing NNI: done in 0.387715 secs using 904.7% CPU\n",
      "Optimizing NNI: done in 0.366016 secs using 906% CPU\n",
      "Optimizing NNI: done in 0.28133 secs using 890.4% CPU\n",
      "Optimizing NNI: done in 0.422706 secs using 892.5% CPU\n",
      "Optimizing NNI: done in 0.345802 secs using 906.8% CPU\n",
      "Optimizing NNI: done in 0.348333 secs using 903.8% CPU\n",
      "Iteration 100 / LogL: -21247.002 / Time: 0h:0m:30s (0h:0m:0s left)\n",
      "Optimizing NNI: done in 0.340229 secs using 892.8% CPU\n",
      "Optimizing NNI: done in 0.303594 secs using 890.5% CPU\n",
      "Optimizing NNI: done in 0.240234 secs using 932.5% CPU\n",
      "TREE SEARCH COMPLETED AFTER 103 ITERATIONS / Time: 0h:0m:31s\n",
      "\n",
      "--------------------------------------------------------------------\n",
      "|                    FINALIZING TREE SEARCH                        |\n",
      "--------------------------------------------------------------------\n",
      "Performs final model parameters optimization\n",
      "Estimate model parameters (epsilon = 0.010)\n",
      "1. Initial log-likelihood: -21246.750\n",
      "2. Current log-likelihood: -21246.661\n",
      "3. Current log-likelihood: -21246.556\n",
      "4. Current log-likelihood: -21246.452\n",
      "5. Current log-likelihood: -21246.352\n",
      "6. Current log-likelihood: -21246.255\n",
      "7. Current log-likelihood: -21246.161\n",
      "8. Current log-likelihood: -21246.070\n",
      "9. Current log-likelihood: -21245.982\n",
      "10. Current log-likelihood: -21245.897\n",
      "11. Current log-likelihood: -21245.815\n",
      "12. Current log-likelihood: -21245.735\n",
      "13. Current log-likelihood: -21245.657\n",
      "14. Current log-likelihood: -21245.577\n",
      "15. Current log-likelihood: -21245.500\n",
      "16. Current log-likelihood: -21245.425\n",
      "17. Current log-likelihood: -21245.353\n",
      "18. Current log-likelihood: -21245.283\n",
      "19. Current log-likelihood: -21245.215\n",
      "20. Current log-likelihood: -21245.148\n",
      "21. Current log-likelihood: -21245.084\n",
      "22. Current log-likelihood: -21245.022\n",
      "23. Current log-likelihood: -21244.962\n",
      "24. Current log-likelihood: -21244.907\n",
      "25. Current log-likelihood: -21244.854\n",
      "26. Current log-likelihood: -21244.803\n",
      "27. Current log-likelihood: -21244.753\n",
      "28. Current log-likelihood: -21244.705\n",
      "29. Current log-likelihood: -21244.658\n",
      "30. Current log-likelihood: -21244.613\n",
      "31. Current log-likelihood: -21244.569\n",
      "32. Current log-likelihood: -21244.526\n",
      "33. Current log-likelihood: -21244.484\n",
      "34. Current log-likelihood: -21244.444\n",
      "35. Current log-likelihood: -21244.404\n",
      "36. Current log-likelihood: -21244.364\n",
      "37. Current log-likelihood: -21244.326\n",
      "38. Current log-likelihood: -21244.289\n",
      "39. Current log-likelihood: -21244.252\n",
      "40. Current log-likelihood: -21244.217\n",
      "41. Current log-likelihood: -21244.183\n",
      "42. Current log-likelihood: -21244.149\n",
      "43. Current log-likelihood: -21244.117\n",
      "44. Current log-likelihood: -21244.086\n",
      "45. Current log-likelihood: -21244.055\n",
      "46. Current log-likelihood: -21244.025\n",
      "47. Current log-likelihood: -21244.006\n",
      "48. Current log-likelihood: -21243.986\n",
      "49. Current log-likelihood: -21243.966\n",
      "50. Current log-likelihood: -21243.940\n",
      "51. Current log-likelihood: -21243.923\n",
      "52. Current log-likelihood: -21243.906\n",
      "53. Current log-likelihood: -21243.890\n",
      "54. Current log-likelihood: -21243.874\n",
      "55. Current log-likelihood: -21243.859\n",
      "56. Current log-likelihood: -21243.844\n",
      "57. Current log-likelihood: -21243.829\n",
      "58. Current log-likelihood: -21243.815\n",
      "59. Current log-likelihood: -21243.801\n",
      "60. Current log-likelihood: -21243.787\n",
      "61. Current log-likelihood: -21243.773\n",
      "62. Current log-likelihood: -21243.760\n",
      "63. Current log-likelihood: -21243.746\n",
      "64. Current log-likelihood: -21243.733\n",
      "65. Current log-likelihood: -21243.721\n",
      "66. Current log-likelihood: -21243.708\n",
      "67. Current log-likelihood: -21243.696\n",
      "68. Current log-likelihood: -21243.683\n",
      "69. Current log-likelihood: -21243.671\n",
      "70. Current log-likelihood: -21243.659\n",
      "71. Current log-likelihood: -21243.648\n",
      "72. Current log-likelihood: -21243.636\n",
      "73. Current log-likelihood: -21243.625\n",
      "74. Current log-likelihood: -21243.613\n",
      "75. Current log-likelihood: -21243.602\n",
      "76. Current log-likelihood: -21243.591\n",
      "77. Current log-likelihood: -21243.580\n",
      "78. Current log-likelihood: -21243.570\n",
      "Optimal log-likelihood: -21243.555\n",
      "Site proportion and rates:  (0.080,0.044) (0.286,0.398) (0.384,1.028) (0.250,1.951)\n",
      "Parameters optimization took 78 rounds (7.906 sec)\n",
      "BEST SCORE FOUND : -21243.555\n",
      "Total tree length: 23.086\n",
      "\n",
      "Total number of iterations: 103\n",
      "CPU time used for tree search: 273.083 sec (0h:4m:33s)\n",
      "Wall-clock time used for tree search: 31.373 sec (0h:0m:31s)\n",
      "Total CPU time used: 346.156 sec (0h:5m:46s)\n",
      "Total wall-clock time used: 39.668 sec (0h:0m:39s)\n",
      "\n",
      "Analysis results written to: \n",
      "  IQ-TREE report:                phylogenomics/model-finder/NSPs/NSPs.iqtree\n",
      "  Maximum-likelihood tree:       phylogenomics/model-finder/NSPs/NSPs.treefile\n",
      "  Likelihood distances:          phylogenomics/model-finder/NSPs/NSPs.mldist\n",
      "  Screen log file:               phylogenomics/model-finder/NSPs/NSPs.log\n",
      "\n",
      "Date and Time: Mon Dec 23 12:24:45 2024\n"
     ]
    }
   ],
   "source": [
    "! iqtree2 -m MFP -s phylogenomics/trimmed_MSAs/NSPs/ --prefix phylogenomics/model-finder/NSPs/NSPs -T AUTO"
   ]
  },
  {
   "cell_type": "code",
   "execution_count": 27,
   "metadata": {},
   "outputs": [
    {
     "name": "stdout",
     "output_type": "stream",
     "text": [
      "Best-fit model according to BIC: Q.pfam+F+R4\n",
      "\n",
      "List of models sorted by BIC scores: \n",
      "\n",
      "Model                  LogL         AIC      w-AIC        AICc     w-AICc         BIC      w-BIC\n",
      "Q.pfam+F+R4      -21253.551   42703.103 +     0.13   42762.624 +    0.415   43100.208 +    0.751\n"
     ]
    }
   ],
   "source": [
    "! head -42 phylogenomics/model-finder/NSPs/NSPs.iqtree | tail -6"
   ]
  },
  {
   "cell_type": "code",
   "execution_count": 28,
   "metadata": {},
   "outputs": [
    {
     "name": "stdout",
     "output_type": "stream",
     "text": [
      "IQ-TREE multicore version 2.2.6 COVID-edition for Linux 64-bit built Dec  8 2023\n",
      "Developed by Bui Quang Minh, James Barbetti, Nguyen Lam Tung,\n",
      "Olga Chernomor, Heiko Schmidt, Dominik Schrempf, Michael Woodhams, Ly Trong Nhan.\n",
      "\n",
      "Host:    IliaPC (AVX2, FMA3, 15 GB RAM)\n",
      "Command: iqtree2 -m MFP -s phylogenomics/trimmed_MSAs/SPs/ --prefix phylogenomics/model-finder/SPs/SPs -T AUTO\n",
      "Seed:    111008 (Using SPRNG - Scalable Parallel Random Number Generator)\n",
      "Time:    Mon Dec 23 12:25:56 2024\n",
      "Kernel:  AVX+FMA - auto-detect threads (24 CPU cores detected)\n",
      "\n",
      "Reading 1 alignment files in directory phylogenomics/trimmed_MSAs/SPs/\n",
      "Reading alignment file phylogenomics/trimmed_MSAs/SPs/trimmed_family1.seq.aln ... Fasta format detected\n",
      "Reading fasta file: done in 0.0012004 secs using 34.91% CPU\n",
      "Alignment most likely contains protein sequences\n",
      "Constructing alignment: done in 0.0009174 secs using 99.74% CPU\n",
      "Alignment has 22 sequences with 444 columns, 434 distinct patterns\n",
      "360 parsimony-informative, 56 singleton sites, 27 constant sites\n",
      "               Gap/Ambiguity  Composition  p-value\n",
      "Analyzing sequences: done in 0.0048758 secs using 2884% CPU\n",
      "   1  Densovirus_D1    0.68%    passed     96.36%\n",
      "   2  Densovirus_D2    0.68%    passed     96.36%\n",
      "   3  Densovirus_D3    0.68%    passed     96.36%\n",
      "   4  Densovirus_D4    0.68%    passed     96.36%\n",
      "   5  Densovirus_D5    0.68%    passed     96.36%\n",
      "   6  Densovirus_P1    0.68%    passed     96.36%\n",
      "   7  Densovirus_P2    0.68%    passed     96.36%\n",
      "   8  Densovirus_P3    0.68%    passed     96.36%\n",
      "   9  Densovirus_P4    0.68%    passed     96.36%\n",
      "  10  Densovirus_P5    0.68%    passed     96.36%\n",
      "  11  MW628494.1       0.68%    passed     97.96%\n",
      "  12  NC_000936.1     10.59%    failed      1.08%\n",
      "  13  NC_004289.1      2.48%    passed     61.38%\n",
      "  14  NC_004290.1      1.13%    failed      0.01%\n",
      "  15  NC_005040.1      6.76%    failed      4.71%\n",
      "  16  NC_012685.1      4.28%    failed      0.05%\n",
      "  17  NC_022748.1      5.63%    passed     19.70%\n",
      "  18  NC_031450.1      0.68%    passed     97.15%\n",
      "  19  NC_077065.1     11.26%    passed     24.23%\n",
      "  20  NC_077079.1      0.68%    passed     38.87%\n",
      "  21  NC_077080.1      1.13%    failed      1.02%\n",
      "  22  NC_077082.1      3.60%    passed     46.34%\n",
      "****  TOTAL            2.53%  5 sequences failed composition chi2 test (p-value<5%; df=19)\n",
      "NOTE: Densovirus_D2 is identical to Densovirus_D1 but kept for subsequent analysis\n",
      "Checking for duplicate sequences: done in 0.0043853 secs using 1993% CPU\n",
      "Identifying sites to remove: done in 0.00039 secs using 99.49% CPU\n",
      "NOTE: 8 identical sequences (see below) will be ignored for subsequent analysis\n",
      "NOTE: Densovirus_D3 (identical to Densovirus_D1) is ignored but added at the end\n",
      "NOTE: Densovirus_D4 (identical to Densovirus_D1) is ignored but added at the end\n",
      "NOTE: Densovirus_D5 (identical to Densovirus_D1) is ignored but added at the end\n",
      "NOTE: Densovirus_P1 (identical to Densovirus_D1) is ignored but added at the end\n",
      "NOTE: Densovirus_P2 (identical to Densovirus_D1) is ignored but added at the end\n",
      "NOTE: Densovirus_P3 (identical to Densovirus_D1) is ignored but added at the end\n",
      "NOTE: Densovirus_P4 (identical to Densovirus_D1) is ignored but added at the end\n",
      "NOTE: Densovirus_P5 (identical to Densovirus_D1) is ignored but added at the end\n",
      "Alignment was printed to phylogenomics/model-finder/SPs/SPs.uniqueseq.phy\n",
      "\n",
      "For your convenience alignment with unique sequences printed to phylogenomics/model-finder/SPs/SPs.uniqueseq.phy\n",
      "\n",
      "\n",
      "Create initial parsimony tree by phylogenetic likelihood library (PLL)... 0.002 seconds\n",
      "Measuring multi-threading efficiency up to 24 CPU cores\n",
      "Increase to 10 rounds for branch lengths\n",
      "137 trees examined\n",
      "Threads: 1 / Time: 24.135 sec / Speedup: 1.000 / Efficiency: 100% / LogL: -11155\n",
      "Threads: 2 / Time: 13.404 sec / Speedup: 1.801 / Efficiency: 90% / LogL: -11155\n",
      "Threads: 3 / Time: 9.951 sec / Speedup: 2.425 / Efficiency: 81% / LogL: -11155\n",
      "Threads: 4 / Time: 8.099 sec / Speedup: 2.980 / Efficiency: 75% / LogL: -11155\n",
      "Threads: 5 / Time: 7.026 sec / Speedup: 3.435 / Efficiency: 69% / LogL: -11155\n",
      "Threads: 6 / Time: 6.686 sec / Speedup: 3.610 / Efficiency: 60% / LogL: -11155\n",
      "Threads: 7 / Time: 5.989 sec / Speedup: 4.030 / Efficiency: 58% / LogL: -11155\n",
      "Threads: 8 / Time: 6.014 sec / Speedup: 4.013 / Efficiency: 50% / LogL: -11155\n",
      "Threads: 9 / Time: 5.272 sec / Speedup: 4.578 / Efficiency: 51% / LogL: -11155\n",
      "Threads: 10 / Time: 5.174 sec / Speedup: 4.665 / Efficiency: 47% / LogL: -11155\n",
      "Determining AUTO threadcount: done in 91.756 secs using 410.5% CPU\n",
      "BEST NUMBER OF THREADS: 9\n",
      "\n",
      "Perform fast likelihood tree search using LG+I+G model...\n",
      "Estimate model parameters (epsilon = 5.000)\n",
      "Perform nearest neighbor interchange...\n",
      "Optimizing NNI: done in 0.0538856 secs using 990.9% CPU\n",
      "Estimate model parameters (epsilon = 1.000)\n",
      "1. Initial log-likelihood: -10166.579\n",
      "Optimal log-likelihood: -10166.416\n",
      "Proportion of invariable sites: 0.043\n",
      "Gamma shape alpha: 1.907\n",
      "Parameters optimization took 1 rounds (0.014 sec)\n",
      "Time for fast ML tree search: 0.119 seconds\n",
      "\n",
      "NOTE: ModelFinder requires 9 MB RAM!\n",
      "ModelFinder will test up to 1232 protein models (sample size: 444) ...\n",
      " No. Model         -LnL         df  AIC          AICc         BIC\n",
      "  1  LG            10389.621    25  20829.241    20832.352    20931.637\n",
      "  2  LG+I          10295.105    26  20642.209    20645.576    20748.701\n",
      "  3  LG+G4         10177.368    26  20406.736    20410.103    20513.227\n",
      "  4  LG+I+G4       10166.415    27  20386.831    20390.466    20497.418\n",
      "  5  LG+R2         10180.863    27  20415.726    20419.361    20526.314\n",
      "  6  LG+R3         10171.584    29  20401.168    20405.371    20519.947\n",
      "  7  LG+R4         10169.130    31  20400.261    20405.076    20527.231\n",
      " 14  LG+I+R2       10166.836    28  20389.672    20393.585    20504.355\n",
      " 15  LG+I+R3       10164.341    30  20388.682    20393.185    20511.556\n",
      " 26  LG+F+I+G4     10106.625    46  20305.250    20316.141    20493.658\n",
      " 36  LG+F+I+R2     10108.246    47  20310.492    20321.886    20502.996\n",
      " 48  WAG+I+G4      10167.976    27  20389.953    20393.588    20500.540\n",
      " 58  WAG+I+R2      10163.703    28  20383.406    20387.320    20498.090\n",
      " 70  WAG+F+I+G4    10135.294    46  20362.588    20373.480    20550.996\n",
      " 80  WAG+F+I+R2    10131.181    47  20356.362    20367.756    20548.866\n",
      " 92  JTT+I+G4      10248.045    27  20550.090    20553.725    20660.677\n",
      "102  JTT+I+R2      10245.683    28  20547.367    20551.280    20662.050\n",
      "114  JTT+F+I+G4    10230.503    46  20553.005    20563.897    20741.413\n",
      "124  JTT+F+I+R2    10229.247    47  20552.495    20563.889    20744.999\n",
      "WARNING: Normalizing state frequencies so that sum of them equals to 1\n",
      "136  Q.pfam+I+G4   10159.171    27  20372.343    20375.977    20482.930\n",
      "WARNING: Normalizing state frequencies so that sum of them equals to 1\n",
      "146  Q.pfam+I+R2   10156.651    28  20369.301    20373.215    20483.985\n",
      "WARNING: Normalizing state frequencies so that sum of them equals to 1\n",
      "158  Q.pfam+F+I+G4 10104.784    46  20301.567    20312.459    20489.975\n",
      "WARNING: Normalizing state frequencies so that sum of them equals to 1\n",
      "168  Q.pfam+F+I+R2 10103.591    47  20301.182    20312.576    20493.686\n",
      "WARNING: Normalizing state frequencies so that sum of them equals to 1\n",
      "180  Q.bird+I+G4   10452.528    27  20959.056    20962.690    21069.643\n",
      "WARNING: Normalizing state frequencies so that sum of them equals to 1\n",
      "190  Q.bird+I+R2   10456.355    28  20968.710    20972.623    21083.393\n",
      "WARNING: Normalizing state frequencies so that sum of them equals to 1\n",
      "202  Q.bird+F+I+G4 10394.729    46  20881.457    20892.349    21069.865\n",
      "WARNING: Normalizing state frequencies so that sum of them equals to 1\n",
      "212  Q.bird+F+I+R2 10400.185    47  20894.369    20905.763    21086.873\n",
      "WARNING: Normalizing state frequencies so that sum of them equals to 1\n",
      "224  Q.mammal+I+G4 10382.800    27  20819.601    20823.235    20930.188\n",
      "WARNING: Normalizing state frequencies so that sum of them equals to 1\n",
      "234  Q.mammal+I+R2 10385.043    28  20826.085    20829.998    20940.768\n",
      "WARNING: Normalizing state frequencies so that sum of them equals to 1\n",
      "246  Q.mammal+F+I+G4 10322.514    46  20737.029    20747.920    20925.437\n",
      "WARNING: Normalizing state frequencies so that sum of them equals to 1\n",
      "256  Q.mammal+F+I+R2 10325.033    47  20744.066    20755.460    20936.570\n",
      "268  Q.insect+I+G4 10220.113    27  20494.225    20497.860    20604.813\n",
      "278  Q.insect+I+R2 10219.512    28  20495.024    20498.937    20609.707\n",
      "290  Q.insect+F+I+G4 10156.041    46  20404.082    20414.974    20592.490\n",
      "300  Q.insect+F+I+R2 10160.330    47  20414.659    20426.053    20607.163\n",
      "WARNING: Normalizing state frequencies so that sum of them equals to 1\n",
      "312  Q.plant+I+G4  10338.571    27  20731.143    20734.777    20841.730\n",
      "WARNING: Normalizing state frequencies so that sum of them equals to 1\n",
      "322  Q.plant+I+R2  10340.713    28  20737.426    20741.339    20852.109\n",
      "WARNING: Normalizing state frequencies so that sum of them equals to 1\n",
      "334  Q.plant+F+I+G4 10262.179    46  20616.358    20627.250    20804.766\n",
      "WARNING: Normalizing state frequencies so that sum of them equals to 1\n",
      "344  Q.plant+F+I+R2 10266.698    47  20627.395    20638.789    20819.899\n",
      "WARNING: Normalizing state frequencies so that sum of them equals to 1\n",
      "356  Q.yeast+I+G4  10209.293    27  20472.585    20476.220    20583.172\n",
      "WARNING: Normalizing state frequencies so that sum of them equals to 1\n",
      "366  Q.yeast+I+R2  10209.019    28  20474.039    20477.952    20588.722\n",
      "WARNING: Normalizing state frequencies so that sum of them equals to 1\n",
      "378  Q.yeast+F+I+G4 10128.581    46  20349.163    20360.054    20537.571\n",
      "WARNING: Normalizing state frequencies so that sum of them equals to 1\n",
      "388  Q.yeast+F+I+R2 10131.589    47  20357.178    20368.571    20549.681\n",
      "400  JTTDCMut+I+G4 10246.282    27  20546.565    20550.199    20657.152\n",
      "410  JTTDCMut+I+R2 10243.859    28  20543.718    20547.631    20658.401\n",
      "422  JTTDCMut+F+I+G4 10227.627    46  20547.253    20558.145    20735.661\n",
      "432  JTTDCMut+F+I+R2 10226.195    47  20546.389    20557.783    20738.893\n",
      "444  DCMut+I+G4    10294.814    27  20643.628    20647.263    20754.216\n",
      "454  DCMut+I+R2    10292.841    28  20641.683    20645.596    20756.366\n",
      "466  DCMut+F+I+G4  10231.662    46  20555.324    20566.216    20743.732\n",
      "476  DCMut+F+I+R2  10229.005    47  20552.010    20563.404    20744.514\n",
      "488  VT+I+G4       10155.150    27  20364.300    20367.934    20474.887\n",
      "498  VT+I+R2       10149.381    28  20354.762    20358.675    20469.445\n",
      "510  VT+F+I+G4     10129.456    46  20350.912    20361.804    20539.320\n",
      "520  VT+F+I+R2     10123.651    47  20341.302    20352.696    20533.806\n",
      "532  PMB+I+G4      10193.210    27  20440.419    20444.054    20551.007\n",
      "542  PMB+I+R2      10187.422    28  20430.844    20434.757    20545.527\n",
      "554  PMB+F+I+G4    10142.073    46  20376.145    20387.037    20564.553\n",
      "564  PMB+F+I+R2    10137.594    47  20369.188    20380.582    20561.692\n",
      "576  Blosum62+I+G4 10194.314    27  20442.628    20446.263    20553.216\n",
      "586  Blosum62+I+R2 10188.867    28  20433.735    20437.648    20548.418\n",
      "598  Blosum62+F+I+G4 10127.527    46  20347.054    20357.946    20535.462\n",
      "608  Blosum62+F+I+R2 10122.853    47  20339.707    20351.101    20532.210\n",
      "620  Dayhoff+I+G4  10294.899    27  20643.797    20647.432    20754.385\n",
      "630  Dayhoff+I+R2  10292.981    28  20641.961    20645.874    20756.644\n",
      "642  Dayhoff+F+I+G4 10231.669    46  20555.339    20566.230    20743.746\n",
      "652  Dayhoff+F+I+R2 10229.049    47  20552.097    20563.491    20744.601\n",
      "664  mtREV+I+G4    10675.173    27  21404.347    21407.981    21514.934\n",
      "674  mtREV+I+R2    10682.700    28  21421.400    21425.313    21536.083\n",
      "686  mtREV+F+I+G4  10308.244    46  20708.487    20719.379    20896.895\n",
      "696  mtREV+F+I+R2  10321.396    47  20736.793    20748.186    20929.296\n",
      "708  mtART+I+G4    10732.689    27  21519.377    21523.012    21629.965\n",
      "718  mtART+I+R2    10750.251    28  21556.501    21560.414    21671.184\n",
      "730  mtART+F+I+G4  10311.111    46  20714.222    20725.113    20902.629\n",
      "740  mtART+F+I+R2  10330.145    47  20754.290    20765.684    20946.794\n",
      "752  mtZOA+I+G4    10569.261    27  21192.523    21196.157    21303.110\n",
      "762  mtZOA+I+R2    10580.732    28  21217.463    21221.377    21332.146\n",
      "774  mtZOA+F+I+G4  10238.774    46  20569.549    20580.440    20757.957\n",
      "784  mtZOA+F+I+R2  10251.364    47  20596.729    20608.123    20789.233\n",
      "796  mtMet+I+G4    10700.150    27  21454.299    21457.934    21564.887\n",
      "806  mtMet+I+R2    10699.185    28  21454.370    21458.283    21569.053\n",
      "818  mtMet+F+I+G4  10293.917    46  20679.833    20690.725    20868.241\n",
      "828  mtMet+F+I+R2  10302.714    47  20699.427    20710.821    20891.931\n",
      "840  mtVer+I+G4    10736.809    27  21527.619    21531.254    21638.206\n",
      "850  mtVer+I+R2    10741.241    28  21538.481    21542.394    21653.164\n",
      "862  mtVer+F+I+G4  10398.226    46  20888.453    20899.345    21076.861\n",
      "872  mtVer+F+I+R2  10410.135    47  20914.269    20925.663    21106.773\n",
      "884  mtInv+I+G4    10781.132    27  21616.265    21619.899    21726.852\n",
      "894  mtInv+I+R2    10777.444    28  21610.889    21614.802    21725.572\n",
      "906  mtInv+F+I+G4  10230.633    46  20553.266    20564.158    20741.674\n",
      "916  mtInv+F+I+R2  10235.823    47  20565.646    20577.040    20758.149\n",
      "928  mtMAM+I+G4    10846.580    27  21747.160    21750.795    21857.747\n",
      "938  mtMAM+I+R2    10879.875    28  21815.749    21819.663    21930.432\n",
      "950  mtMAM+F+I+G4  10465.296    46  21022.591    21033.483    21210.999\n",
      "960  mtMAM+F+I+R2  10493.104    47  21080.208    21091.602    21272.712\n",
      "WARNING: Normalizing state frequencies so that sum of them equals to 1\n",
      "972  FLAVI+I+G4    10672.902    27  21399.803    21403.438    21510.391\n",
      "WARNING: Normalizing state frequencies so that sum of them equals to 1\n",
      "982  FLAVI+I+R2    10681.627    28  21419.255    21423.168    21533.938\n",
      "WARNING: Normalizing state frequencies so that sum of them equals to 1\n",
      "994  FLAVI+F+I+G4  10557.042    46  21206.085    21216.976    21394.493\n",
      "WARNING: Normalizing state frequencies so that sum of them equals to 1\n",
      "1004  FLAVI+F+I+R2  10570.129    47  21234.259    21245.653    21426.763\n",
      "1016  HIVb+I+G4     10468.518    27  20991.035    20994.670    21101.623\n",
      "1026  HIVb+I+R2     10470.629    28  20997.258    21001.171    21111.941\n",
      "1038  HIVb+F+I+G4   10383.196    46  20858.393    20869.285    21046.801\n",
      "1048  HIVb+F+I+R2   10391.639    47  20877.278    20888.672    21069.782\n",
      "1060  HIVw+I+G4     10796.163    27  21646.327    21649.961    21756.914\n",
      "1070  HIVw+I+R2     10805.735    28  21667.470    21671.383    21782.153\n",
      "1082  HIVw+F+I+G4   10632.265    46  21356.529    21367.421    21544.937\n",
      "1092  HIVw+F+I+R2   10644.409    47  21382.818    21394.212    21575.322\n",
      "1104  FLU+I+G4      10361.237    27  20776.474    20780.109    20887.062\n",
      "1114  FLU+I+R2      10360.250    28  20776.500    20780.413    20891.183\n",
      "1126  FLU+F+I+G4    10327.460    46  20746.920    20757.811    20935.328\n",
      "1136  FLU+F+I+R2    10327.865    47  20749.730    20761.124    20942.234\n",
      "1148  rtREV+I+G4    10197.432    27  20448.864    20452.499    20559.452\n",
      "1158  rtREV+I+R2    10197.467    28  20450.934    20454.847    20565.617\n",
      "1170  rtREV+F+I+G4  10107.350    46  20306.700    20317.592    20495.108\n",
      "1180  rtREV+F+I+R2  10108.179    47  20310.359    20321.753    20502.863\n",
      "1192  cpREV+I+G4    10262.629    27  20579.257    20582.892    20689.845\n",
      "1202  cpREV+I+R2    10261.972    28  20579.945    20583.858    20694.628\n",
      "1214  cpREV+F+I+G4  10198.128    46  20488.256    20499.148    20676.664\n",
      "1224  cpREV+F+I+R2  10198.437    47  20490.873    20502.267    20683.377\n",
      "Akaike Information Criterion:           Q.pfam+F+I+R2\n",
      "Corrected Akaike Information Criterion: Q.pfam+F+I+G4\n",
      "Bayesian Information Criterion:         VT+I+R2\n",
      "Best-fit model: VT+I+R2 chosen according to BIC\n",
      "\n",
      "All model information printed to phylogenomics/model-finder/SPs/SPs.model.gz\n",
      "CPU time for ModelFinder: 434.679 seconds (0h:7m:14s)\n",
      "Wall-clock time for ModelFinder: 98.249 seconds (0h:1m:38s)\n",
      "\n",
      "NOTE: 1 MB RAM (0 GB) is required!\n",
      "Estimate model parameters (epsilon = 0.100)\n",
      "1. Initial log-likelihood: -10149.381\n",
      "Optimal log-likelihood: -10149.377\n",
      "Proportion of invariable sites: 0.044\n",
      "Site proportion and rates:  (0.320,0.396) (0.636,1.374)\n",
      "Parameters optimization took 1 rounds (0.010 sec)\n",
      "Wrote distance file to... \n",
      "Computing ML distances based on estimated model parameters...\n",
      "Calculating distance matrix: done in 0.0023867 secs using 769.5% CPU\n",
      "Computing ML distances took 0.003329 sec (of wall-clock time) 0.018906 sec (of CPU time)\n",
      "Setting up auxiliary I and S matrices: done in 0.0017669 secs\n",
      "Constructing RapidNJ tree: done in 0.0256624 secs using 134.6% CPU\n",
      "Computing RapidNJ tree took 0.028244 sec (of wall-clock time) 0.035147 sec (of CPU time)\n",
      "Log-likelihood of RapidNJ tree: -10165.137\n",
      "--------------------------------------------------------------------\n",
      "|             INITIALIZING CANDIDATE TREE SET                      |\n",
      "--------------------------------------------------------------------\n",
      "Generating 98 parsimony trees... 0.223 second\n",
      "Computing log-likelihood of 98 initial trees ... 0.319 seconds\n",
      "Current best score: -10149.377\n",
      "\n",
      "Do NNI search on 20 best initial trees\n",
      "Optimizing NNI: done in 0.0103798 secs using 870.7% CPU\n",
      "Estimate model parameters (epsilon = 0.100)\n",
      "BETTER TREE FOUND at iteration 1: -10149.376\n",
      "Optimizing NNI: done in 0.046639 secs using 786.2% CPU\n",
      "Optimizing NNI: done in 0.0356684 secs using 968.9% CPU\n",
      "Optimizing NNI: done in 0.0448283 secs using 791.5% CPU\n",
      "Optimizing NNI: done in 0.0404099 secs using 891.9% CPU\n",
      "Optimizing NNI: done in 0.0447469 secs using 815.1% CPU\n",
      "Optimizing NNI: done in 0.0563281 secs using 952.1% CPU\n",
      "Optimizing NNI: done in 0.0309615 secs using 875.1% CPU\n",
      "Optimizing NNI: done in 0.0500204 secs using 879.7% CPU\n",
      "Optimizing NNI: done in 0.0440035 secs using 1009% CPU\n",
      "Iteration 10 / LogL: -10149.799 / Time: 0h:0m:1s\n",
      "Optimizing NNI: done in 0.0332461 secs using 821.9% CPU\n",
      "Optimizing NNI: done in 0.0606443 secs using 891.5% CPU\n",
      "Optimizing NNI: done in 0.0614303 secs using 881.4% CPU\n",
      "Optimizing NNI: done in 0.0388882 secs using 922.8% CPU\n",
      "Optimizing NNI: done in 0.032475 secs using 839% CPU\n",
      "Optimizing NNI: done in 0.0533577 secs using 849.6% CPU\n",
      "Optimizing NNI: done in 0.0344145 secs using 797.3% CPU\n",
      "Optimizing NNI: done in 0.0461199 secs using 967.3% CPU\n",
      "Optimizing NNI: done in 0.0786668 secs using 913.5% CPU\n",
      "Optimizing NNI: done in 0.0474054 secs using 943.7% CPU\n",
      "Iteration 20 / LogL: -10149.406 / Time: 0h:0m:1s\n",
      "Finish initializing candidate tree set (2)\n",
      "Current best tree score: -10149.376 / CPU time: 1.473\n",
      "Number of iterations: 20\n",
      "--------------------------------------------------------------------\n",
      "|               OPTIMIZING CANDIDATE TREE SET                      |\n",
      "--------------------------------------------------------------------\n",
      "Optimizing NNI: done in 0.051807 secs using 755.5% CPU\n",
      "Optimizing NNI: done in 0.038758 secs using 900.3% CPU\n",
      "Optimizing NNI: done in 0.0333159 secs using 820.4% CPU\n",
      "Optimizing NNI: done in 0.044118 secs using 825.3% CPU\n",
      "Optimizing NNI: done in 0.0592825 secs using 908.8% CPU\n",
      "Optimizing NNI: done in 0.0443793 secs using 821.1% CPU\n",
      "Optimizing NNI: done in 0.0501793 secs using 897.1% CPU\n",
      "Optimizing NNI: done in 0.0429341 secs using 1008% CPU\n",
      "Optimizing NNI: done in 0.0419504 secs using 862.8% CPU\n",
      "Optimizing NNI: done in 0.0349821 secs using 1015% CPU\n",
      "Iteration 30 / LogL: -10150.111 / Time: 0h:0m:2s (0h:0m:4s left)\n",
      "Optimizing NNI: done in 0.0283169 secs using 947.6% CPU\n",
      "Optimizing NNI: done in 0.0348126 secs using 760.7% CPU\n",
      "Optimizing NNI: done in 0.0329674 secs using 1071% CPU\n",
      "Optimizing NNI: done in 0.032712 secs using 833.7% CPU\n",
      "Optimizing NNI: done in 0.033662 secs using 1051% CPU\n",
      "Optimizing NNI: done in 0.0277224 secs using 677.1% CPU\n",
      "Optimizing NNI: done in 0.0254893 secs using 727.7% CPU\n",
      "Optimizing NNI: done in 0.0425599 secs using 851.8% CPU\n",
      "Optimizing NNI: done in 0.0489664 secs using 916.8% CPU\n",
      "Optimizing NNI: done in 0.0699705 secs using 900.3% CPU\n",
      "Iteration 40 / LogL: -10149.438 / Time: 0h:0m:2s (0h:0m:3s left)\n",
      "Optimizing NNI: done in 0.0369548 secs using 965.9% CPU\n",
      "Optimizing NNI: done in 0.0343641 secs using 798.4% CPU\n",
      "Optimizing NNI: done in 0.0515669 secs using 875.7% CPU\n",
      "Optimizing NNI: done in 0.0182457 secs using 976.9% CPU\n",
      "UPDATE BEST LOG-LIKELIHOOD: -10149.376\n",
      "Optimizing NNI: done in 0.045757 secs using 748.2% CPU\n",
      "Optimizing NNI: done in 0.0673638 secs using 783% CPU\n",
      "Optimizing NNI: done in 0.0277825 secs using 963.7% CPU\n",
      "Optimizing NNI: done in 0.0319703 secs using 850.8% CPU\n",
      "Optimizing NNI: done in 0.0343688 secs using 798.3% CPU\n",
      "Optimizing NNI: done in 0.0463122 secs using 963.7% CPU\n",
      "Iteration 50 / LogL: -10149.410 / Time: 0h:0m:2s (0h:0m:2s left)\n",
      "Optimizing NNI: done in 0.0374493 secs using 954.5% CPU\n",
      "Optimizing NNI: done in 0.0334163 secs using 818.2% CPU\n",
      "Optimizing NNI: done in 0.046656 secs using 935.9% CPU\n",
      "Optimizing NNI: done in 0.0476839 secs using 938.9% CPU\n",
      "Optimizing NNI: done in 0.0434172 secs using 837% CPU\n",
      "Optimizing NNI: done in 0.0261366 secs using 1018% CPU\n",
      "Optimizing NNI: done in 0.030198 secs using 894.7% CPU\n",
      "Optimizing NNI: done in 0.047933 secs using 934.5% CPU\n",
      "Optimizing NNI: done in 0.0492421 secs using 892% CPU\n",
      "Optimizing NNI: done in 0.0308305 secs using 878.5% CPU\n",
      "Iteration 60 / LogL: -10149.491 / Time: 0h:0m:3s (0h:0m:2s left)\n",
      "Optimizing NNI: done in 0.0337784 secs using 810.5% CPU\n",
      "Optimizing NNI: done in 0.0297576 secs using 906.5% CPU\n",
      "Optimizing NNI: done in 0.0548714 secs using 956.5% CPU\n",
      "Optimizing NNI: done in 0.0520424 secs using 868.6% CPU\n",
      "Optimizing NNI: done in 0.0192514 secs using 879.2% CPU\n",
      "Optimizing NNI: done in 0.0394638 secs using 910.8% CPU\n",
      "Optimizing NNI: done in 0.0390176 secs using 920.2% CPU\n",
      "Optimizing NNI: done in 0.0360898 secs using 986.7% CPU\n",
      "Optimizing NNI: done in 0.0501674 secs using 897.2% CPU\n",
      "Optimizing NNI: done in 0.044739 secs using 994.1% CPU\n",
      "Iteration 70 / LogL: -10149.502 / Time: 0h:0m:3s (0h:0m:1s left)\n",
      "Optimizing NNI: done in 0.0208196 secs using 868.5% CPU\n",
      "Optimizing NNI: done in 0.0426092 secs using 851.1% CPU\n",
      "Optimizing NNI: done in 0.0841948 secs using 955.1% CPU\n",
      "Optimizing NNI: done in 0.0550402 secs using 826.7% CPU\n",
      "Optimizing NNI: done in 0.0586046 secs using 782.5% CPU\n",
      "Optimizing NNI: done in 0.0510677 secs using 863.7% CPU\n",
      "Optimizing NNI: done in 0.0296559 secs using 909.3% CPU\n",
      "Optimizing NNI: done in 0.02726 secs using 943.8% CPU\n",
      "Optimizing NNI: done in 0.0329941 secs using 827.4% CPU\n",
      "Optimizing NNI: done in 0.0359841 secs using 989.3% CPU\n",
      "Iteration 80 / LogL: -10191.528 / Time: 0h:0m:4s (0h:0m:1s left)\n",
      "Optimizing NNI: done in 0.0535032 secs using 847.6% CPU\n",
      "Optimizing NNI: done in 0.0418841 secs using 1055% CPU\n",
      "Optimizing NNI: done in 0.0322266 secs using 844.7% CPU\n",
      "Optimizing NNI: done in 0.0442542 secs using 1004% CPU\n",
      "Optimizing NNI: done in 0.0419678 secs using 862.5% CPU\n",
      "Optimizing NNI: done in 0.0513985 secs using 878.3% CPU\n",
      "Optimizing NNI: done in 0.0834394 secs using 962.8% CPU\n",
      "Optimizing NNI: done in 0.0696412 secs using 904.1% CPU\n",
      "Optimizing NNI: done in 0.0320226 secs using 849.5% CPU\n",
      "Optimizing NNI: done in 0.0289989 secs using 927.7% CPU\n",
      "Iteration 90 / LogL: -10149.462 / Time: 0h:0m:4s (0h:0m:0s left)\n",
      "Optimizing NNI: done in 0.0653037 secs using 957.5% CPU\n",
      "Optimizing NNI: done in 0.0461079 secs using 967.5% CPU\n",
      "Optimizing NNI: done in 0.0303328 secs using 891.2% CPU\n",
      "Optimizing NNI: done in 0.0482228 secs using 908.8% CPU\n",
      "Optimizing NNI: done in 0.033129 secs using 794.3% CPU\n",
      "Optimizing NNI: done in 0.0195122 secs using 920% CPU\n",
      "Optimizing NNI: done in 0.0321553 secs using 1095% CPU\n",
      "Optimizing NNI: done in 0.0395613 secs using 908.9% CPU\n",
      "Optimizing NNI: done in 0.0500706 secs using 898.9% CPU\n",
      "Optimizing NNI: done in 0.070645 secs using 892.7% CPU\n",
      "Iteration 100 / LogL: -10149.396 / Time: 0h:0m:5s (0h:0m:0s left)\n",
      "Optimizing NNI: done in 0.0241525 secs using 1094% CPU\n",
      "Optimizing NNI: done in 0.0811295 secs using 888.9% CPU\n",
      "TREE SEARCH COMPLETED AFTER 102 ITERATIONS / Time: 0h:0m:5s\n",
      "\n",
      "--------------------------------------------------------------------\n",
      "|                    FINALIZING TREE SEARCH                        |\n",
      "--------------------------------------------------------------------\n",
      "Performs final model parameters optimization\n",
      "Estimate model parameters (epsilon = 0.010)\n",
      "1. Initial log-likelihood: -10149.376\n",
      "Optimal log-likelihood: -10149.376\n",
      "Proportion of invariable sites: 0.044\n",
      "Site proportion and rates:  (0.318,0.395) (0.637,1.372)\n",
      "Parameters optimization took 1 rounds (0.013 sec)\n",
      "BEST SCORE FOUND : -10149.376\n",
      "Total tree length: 8.375\n",
      "\n",
      "Total number of iterations: 102\n",
      "CPU time used for tree search: 43.366 sec (0h:0m:43s)\n",
      "Wall-clock time used for tree search: 5.054 sec (0h:0m:5s)\n",
      "Total CPU time used: 43.837 sec (0h:0m:43s)\n",
      "Total wall-clock time used: 5.183 sec (0h:0m:5s)\n",
      "\n",
      "Analysis results written to: \n",
      "  IQ-TREE report:                phylogenomics/model-finder/SPs/SPs.iqtree\n",
      "  Maximum-likelihood tree:       phylogenomics/model-finder/SPs/SPs.treefile\n",
      "  Likelihood distances:          phylogenomics/model-finder/SPs/SPs.mldist\n",
      "  Screen log file:               phylogenomics/model-finder/SPs/SPs.log\n",
      "\n",
      "Date and Time: Mon Dec 23 12:27:39 2024\n"
     ]
    }
   ],
   "source": [
    "! iqtree2 -m MFP -s phylogenomics/trimmed_MSAs/SPs/ --prefix phylogenomics/model-finder/SPs/SPs -T AUTO"
   ]
  },
  {
   "cell_type": "code",
   "execution_count": 29,
   "metadata": {},
   "outputs": [
    {
     "name": "stdout",
     "output_type": "stream",
     "text": [
      "Best-fit model according to BIC: VT+I+R2\n",
      "\n",
      "List of models sorted by BIC scores: \n",
      "\n",
      "Model                  LogL         AIC      w-AIC        AICc     w-AICc         BIC      w-BIC\n",
      "VT+I+R2          -10149.381   20354.762 - 1.14e-12   20358.675 - 4.19e-11   20469.445 +    0.937\n"
     ]
    }
   ],
   "source": [
    "! head -42 phylogenomics/model-finder/SPs/SPs.iqtree | tail -6"
   ]
  },
  {
   "cell_type": "code",
   "execution_count": 90,
   "metadata": {},
   "outputs": [
    {
     "name": "stdout",
     "output_type": "stream",
     "text": [
      "IQ-TREE multicore version 2.2.6 COVID-edition for Linux 64-bit built Dec  8 2023\n",
      "Developed by Bui Quang Minh, James Barbetti, Nguyen Lam Tung,\n",
      "Olga Chernomor, Heiko Schmidt, Dominik Schrempf, Michael Woodhams, Ly Trong Nhan.\n",
      "\n",
      "Host:    IliaPC (AVX2, FMA3, 15 GB RAM)\n",
      "Command: iqtree2 -m MFP -s phylogenomics/trimmed_MSAs/All/ --prefix phylogenomics/model-finder/All/All -T AUTO\n",
      "Seed:    255080 (Using SPRNG - Scalable Parallel Random Number Generator)\n",
      "Time:    Mon Dec 23 13:33:05 2024\n",
      "Kernel:  AVX+FMA - auto-detect threads (24 CPU cores detected)\n",
      "\n",
      "Reading 2 alignment files in directory phylogenomics/trimmed_MSAs/All/\n",
      "Reading alignment file phylogenomics/trimmed_MSAs/All/trimmed_family1.seq.aln ... Fasta format detected\n",
      "Reading fasta file: done in 0.0013164 secs using 25.37% CPU\n",
      "Alignment most likely contains protein sequences\n",
      "Constructing alignment: done in 0.0011689 secs using 99.84% CPU\n",
      "Alignment has 22 sequences with 431 columns, 411 distinct patterns\n",
      "351 parsimony-informative, 39 singleton sites, 41 constant sites\n",
      "               Gap/Ambiguity  Composition  p-value\n",
      "Analyzing sequences: done in 0.005482 secs using 1831% CPU\n",
      "   1  Densovirus_D1    1.39%    passed    100.00%\n",
      "   2  Densovirus_D2    1.39%    passed    100.00%\n",
      "   3  Densovirus_D3    1.39%    passed    100.00%\n",
      "   4  Densovirus_D4    1.39%    passed    100.00%\n",
      "   5  Densovirus_D5    1.39%    passed    100.00%\n",
      "   6  Densovirus_P1    1.39%    passed    100.00%\n",
      "   7  Densovirus_P2    1.39%    passed    100.00%\n",
      "   8  Densovirus_P3    1.39%    passed    100.00%\n",
      "   9  Densovirus_P4    1.39%    passed    100.00%\n",
      "  10  Densovirus_P5    1.39%    passed    100.00%\n",
      "  11  MW628494.1       1.39%    passed    100.00%\n",
      "  12  NC_000936.1      1.39%    passed     88.12%\n",
      "  13  NC_004289.1      0.46%    passed     70.88%\n",
      "  14  NC_004290.1      1.16%    passed     33.78%\n",
      "  15  NC_005040.1      9.98%    passed     23.60%\n",
      "  16  NC_012685.1      2.09%    passed     14.82%\n",
      "  17  NC_022748.1      4.64%    passed     87.87%\n",
      "  18  NC_031450.1      1.39%    passed    100.00%\n",
      "  19  NC_077065.1      1.39%    passed     74.86%\n",
      "  20  NC_077079.1      1.16%    passed     68.33%\n",
      "  21  NC_077080.1      1.16%    passed     98.98%\n",
      "  22  NC_077082.1      1.16%    passed     92.15%\n",
      "****  TOTAL            1.88%  0 sequences failed composition chi2 test (p-value<5%; df=19)\n",
      "Reading alignment file phylogenomics/trimmed_MSAs/All/trimmed_family2.seq.aln ... Fasta format detected\n",
      "Reading fasta file: done in 0.0010521 secs using 29.94% CPU\n",
      "Alignment most likely contains protein sequences\n",
      "Constructing alignment: done in 0.0007708 secs using 84.72% CPU\n",
      "Alignment has 22 sequences with 444 columns, 434 distinct patterns\n",
      "360 parsimony-informative, 56 singleton sites, 27 constant sites\n",
      "               Gap/Ambiguity  Composition  p-value\n",
      "Analyzing sequences: done in 0.0053417 secs using 4165% CPU\n",
      "   1  Densovirus_D1    0.68%    passed     96.36%\n",
      "   2  Densovirus_D2    0.68%    passed     96.36%\n",
      "   3  Densovirus_D3    0.68%    passed     96.36%\n",
      "   4  Densovirus_D4    0.68%    passed     96.36%\n",
      "   5  Densovirus_D5    0.68%    passed     96.36%\n",
      "   6  Densovirus_P1    0.68%    passed     96.36%\n",
      "   7  Densovirus_P2    0.68%    passed     96.36%\n",
      "   8  Densovirus_P3    0.68%    passed     96.36%\n",
      "   9  Densovirus_P4    0.68%    passed     96.36%\n",
      "  10  Densovirus_P5    0.68%    passed     96.36%\n",
      "  11  MW628494.1       0.68%    passed     97.96%\n",
      "  12  NC_000936.1     10.59%    failed      1.08%\n",
      "  13  NC_004289.1      2.48%    passed     61.38%\n",
      "  14  NC_004290.1      1.13%    failed      0.01%\n",
      "  15  NC_005040.1      6.76%    failed      4.71%\n",
      "  16  NC_012685.1      4.28%    failed      0.05%\n",
      "  17  NC_022748.1      5.63%    passed     19.70%\n",
      "  18  NC_031450.1      0.68%    passed     97.15%\n",
      "  19  NC_077065.1     11.26%    passed     24.23%\n",
      "  20  NC_077079.1      0.68%    passed     38.87%\n",
      "  21  NC_077080.1      1.13%    failed      1.02%\n",
      "  22  NC_077082.1      3.60%    passed     46.34%\n",
      "****  TOTAL            2.53%  5 sequences failed composition chi2 test (p-value<5%; df=19)\n",
      "NOTE: Densovirus_D3 is identical to Densovirus_D1 but kept for subsequent analysis\n",
      "Checking for duplicate sequences: done in 0.0056211 secs using 1764% CPU\n",
      "Identifying sites to remove: done in 0.0009331 secs using 88.95% CPU\n",
      "NOTE: 7 identical sequences (see below) will be ignored for subsequent analysis\n",
      "NOTE: Densovirus_D4 (identical to Densovirus_D1) is ignored but added at the end\n",
      "NOTE: Densovirus_D5 (identical to Densovirus_D1) is ignored but added at the end\n",
      "NOTE: Densovirus_P1 (identical to Densovirus_D1) is ignored but added at the end\n",
      "NOTE: Densovirus_P2 (identical to Densovirus_D1) is ignored but added at the end\n",
      "NOTE: Densovirus_P3 (identical to Densovirus_D1) is ignored but added at the end\n",
      "NOTE: Densovirus_P4 (identical to Densovirus_D1) is ignored but added at the end\n",
      "NOTE: Densovirus_P5 (identical to Densovirus_D1) is ignored but added at the end\n",
      "Alignment was printed to phylogenomics/model-finder/All/All.uniqueseq.phy\n",
      "\n",
      "For your convenience alignment with unique sequences printed to phylogenomics/model-finder/All/All.uniqueseq.phy\n",
      "\n",
      "\n",
      "Create initial parsimony tree by phylogenetic likelihood library (PLL)... 0.005 seconds\n",
      "Measuring multi-threading efficiency up to 24 CPU cores\n",
      "Increase to 10 rounds for branch lengths\n",
      "70 trees examined\n",
      "Threads: 1 / Time: 24.046 sec / Speedup: 1.000 / Efficiency: 100% / LogL: -21523\n",
      "Threads: 2 / Time: 13.034 sec / Speedup: 1.845 / Efficiency: 92% / LogL: -21523\n",
      "Threads: 3 / Time: 9.200 sec / Speedup: 2.614 / Efficiency: 87% / LogL: -21523\n",
      "Threads: 4 / Time: 7.073 sec / Speedup: 3.400 / Efficiency: 85% / LogL: -21523\n",
      "Threads: 5 / Time: 5.809 sec / Speedup: 4.139 / Efficiency: 83% / LogL: -21523\n",
      "Threads: 6 / Time: 4.977 sec / Speedup: 4.831 / Efficiency: 81% / LogL: -21523\n",
      "Threads: 7 / Time: 5.626 sec / Speedup: 4.274 / Efficiency: 61% / LogL: -21523\n",
      "Determining AUTO threadcount: done in 69.7702 secs using 292.2% CPU\n",
      "BEST NUMBER OF THREADS: 6\n",
      "\n",
      "Perform fast likelihood tree search using LG+I+G model...\n",
      "Estimate model parameters (epsilon = 5.000)\n",
      "Perform nearest neighbor interchange...\n",
      "Optimizing NNI: done in 0.102742 secs using 635.3% CPU\n",
      "Estimate model parameters (epsilon = 1.000)\n",
      "1. Initial log-likelihood: -19416.572\n",
      "Optimal log-likelihood: -19416.518\n",
      "Proportion of invariable sites: 0.056\n",
      "Gamma shape alpha: 2.186\n",
      "Parameters optimization took 1 rounds (0.026 sec)\n",
      "Time for fast ML tree search: 0.247 seconds\n",
      "\n",
      "NOTE: ModelFinder requires 19 MB RAM!\n",
      "ModelFinder will test up to 1232 protein models (sample size: 875) ...\n",
      " No. Model         -LnL         df  AIC          AICc         BIC\n",
      "  1  LG            19821.027    27  39696.053    39697.838    39824.957\n",
      "  2  LG+I          19616.843    28  39289.687    39291.606    39423.365\n",
      "  3  LG+G4         19444.434    28  38944.868    38946.787    39078.546\n",
      "  4  LG+I+G4       19416.520    29  38891.040    38893.099    39029.493\n",
      "  5  LG+R2         19467.274    29  38992.549    38994.608    39131.001\n",
      "  6  LG+R3         19426.761    31  38915.522    38917.876    39063.523\n",
      "  7  LG+R4         19422.199    33  38910.398    38913.066    39067.947\n",
      " 14  LG+I+R2       19422.757    30  38905.514    38907.718    39048.741\n",
      " 15  LG+I+R3       19416.163    32  38896.325    38898.834    39049.100\n",
      " 26  LG+F+I+G4     19349.888    48  38795.777    38801.472    39024.939\n",
      " 48  WAG+I+G4      19442.434    29  38942.868    38944.928    39081.321\n",
      " 70  WAG+F+I+G4    19387.848    48  38871.695    38877.390    39100.858\n",
      " 92  JTT+I+G4      19565.025    29  39188.050    39190.109    39326.503\n",
      "114  JTT+F+I+G4    19533.312    48  39162.624    39168.319    39391.787\n",
      "WARNING: Normalizing state frequencies so that sum of them equals to 1\n",
      "136  Q.pfam+I+G4   19405.874    29  38869.749    38871.808    39008.201\n",
      "WARNING: Normalizing state frequencies so that sum of them equals to 1\n",
      "158  Q.pfam+F+I+G4 19339.032    48  38774.065    38779.760    39003.228\n",
      "WARNING: Normalizing state frequencies so that sum of them equals to 1\n",
      "180  Q.bird+I+G4   19955.958    29  39969.915    39971.974    40108.368\n",
      "WARNING: Normalizing state frequencies so that sum of them equals to 1\n",
      "202  Q.bird+F+I+G4 19848.823    48  39793.646    39799.341    40022.809\n",
      "WARNING: Normalizing state frequencies so that sum of them equals to 1\n",
      "224  Q.mammal+I+G4 19832.027    29  39722.054    39724.113    39860.506\n",
      "WARNING: Normalizing state frequencies so that sum of them equals to 1\n",
      "246  Q.mammal+F+I+G4 19709.742    48  39515.485    39521.180    39744.648\n",
      "268  Q.insect+I+G4 19522.581    29  39103.163    39105.222    39241.615\n",
      "290  Q.insect+F+I+G4 19424.978    48  38945.956    38951.651    39175.118\n",
      "WARNING: Normalizing state frequencies so that sum of them equals to 1\n",
      "312  Q.plant+I+G4  19716.876    29  39491.752    39493.811    39630.204\n",
      "WARNING: Normalizing state frequencies so that sum of them equals to 1\n",
      "334  Q.plant+F+I+G4 19619.168    48  39334.335    39340.030    39563.498\n",
      "WARNING: Normalizing state frequencies so that sum of them equals to 1\n",
      "356  Q.yeast+I+G4  19516.885    29  39091.770    39093.830    39230.223\n",
      "WARNING: Normalizing state frequencies so that sum of them equals to 1\n",
      "378  Q.yeast+F+I+G4 19383.346    48  38862.692    38868.387    39091.855\n",
      "400  JTTDCMut+I+G4 19564.700    29  39187.400    39189.460    39325.853\n",
      "422  JTTDCMut+F+I+G4 19531.595    48  39159.191    39164.886    39388.354\n",
      "444  DCMut+I+G4    19728.969    29  39515.938    39517.997    39654.391\n",
      "466  DCMut+F+I+G4  19579.684    48  39255.368    39261.063    39484.530\n",
      "488  VT+I+G4       19416.356    29  38890.712    38892.772    39029.165\n",
      "510  VT+F+I+G4     19382.510    48  38861.020    38866.715    39090.182\n",
      "532  PMB+I+G4      19471.649    29  39001.297    39003.356    39139.750\n",
      "554  PMB+F+I+G4    19426.934    48  38949.867    38955.562    39179.030\n",
      "576  Blosum62+I+G4 19462.299    29  38982.599    38984.658    39121.051\n",
      "598  Blosum62+F+I+G4 19402.081    48  38900.162    38905.857    39129.324\n",
      "620  Dayhoff+I+G4  19729.239    29  39516.477    39518.536    39654.930\n",
      "642  Dayhoff+F+I+G4 19579.933    48  39255.867    39261.562    39485.029\n",
      "664  mtREV+I+G4    20500.250    29  41058.500    41060.559    41196.952\n",
      "686  mtREV+F+I+G4  19758.178    48  39612.356    39618.051    39841.519\n",
      "708  mtART+I+G4    20633.129    29  41324.259    41326.318    41462.711\n",
      "730  mtART+F+I+G4  19830.550    48  39757.100    39762.795    39986.263\n",
      "752  mtZOA+I+G4    20267.970    29  40593.941    40596.000    40732.393\n",
      "774  mtZOA+F+I+G4  19657.861    48  39411.722    39417.417    39640.885\n",
      "796  mtMet+I+G4    20478.905    29  41015.810    41017.869    41154.263\n",
      "818  mtMet+F+I+G4  19718.542    48  39533.083    39538.778    39762.246\n",
      "840  mtVer+I+G4    20641.567    29  41341.134    41343.193    41479.586\n",
      "862  mtVer+F+I+G4  19937.241    48  39970.481    39976.176    40199.644\n",
      "884  mtInv+I+G4    20587.904    29  41233.807    41235.867    41372.260\n",
      "906  mtInv+F+I+G4  19593.705    48  39283.410    39289.105    39512.573\n",
      "928  mtMAM+I+G4    20846.635    29  41751.271    41753.330    41889.723\n",
      "950  mtMAM+F+I+G4  20090.832    48  40277.665    40283.360    40506.827\n",
      "WARNING: Normalizing state frequencies so that sum of them equals to 1\n",
      "972  FLAVI+I+G4    20354.473    29  40766.947    40769.006    40905.399\n",
      "WARNING: Normalizing state frequencies so that sum of them equals to 1\n",
      "994  FLAVI+F+I+G4  20166.476    48  40428.951    40434.646    40658.114\n",
      "1016  HIVb+I+G4     19933.706    29  39925.413    39927.472    40063.865\n",
      "1038  HIVb+F+I+G4   19844.368    48  39784.737    39790.432    40013.899\n",
      "1060  HIVw+I+G4     20590.038    29  41238.076    41240.135    41376.528\n",
      "1082  HIVw+F+I+G4   20295.364    48  40686.729    40692.423    40915.891\n",
      "1104  FLU+I+G4      19797.253    29  39652.505    39654.564    39790.958\n",
      "1126  FLU+F+I+G4    19733.150    48  39562.300    39567.995    39791.463\n",
      "1148  rtREV+I+G4    19542.093    29  39142.187    39144.246    39280.639\n",
      "1170  rtREV+F+I+G4  19366.848    48  38829.697    38835.392    39058.860\n",
      "1192  cpREV+I+G4    19595.080    29  39248.160    39250.219    39386.612\n",
      "1214  cpREV+F+I+G4  19551.676    48  39199.352    39205.047    39428.514\n",
      "Akaike Information Criterion:           Q.pfam+F+I+G4\n",
      "Corrected Akaike Information Criterion: Q.pfam+F+I+G4\n",
      "Bayesian Information Criterion:         Q.pfam+F+I+G4\n",
      "Best-fit model: Q.pfam+F+I+G4 chosen according to BIC\n",
      "\n",
      "All model information printed to phylogenomics/model-finder/All/All.model.gz\n",
      "CPU time for ModelFinder: 267.640 seconds (0h:4m:27s)\n",
      "Wall-clock time for ModelFinder: 80.413 seconds (0h:1m:20s)\n",
      "WARNING: Normalizing state frequencies so that sum of them equals to 1\n",
      "\n",
      "NOTE: 7 MB RAM (0 GB) is required!\n",
      "Estimate model parameters (epsilon = 0.100)\n",
      "Thoroughly optimizing +I+G parameters from 10 start values...\n",
      "Init pinv, alpha: 0.000, 2.299 / Estimate: 0.000, 1.494 / LogL: -19367.003\n",
      "Init pinv, alpha: 0.009, 2.299 / Estimate: 0.055, 2.278 / LogL: -19339.042\n",
      "Init pinv, alpha: 0.018, 2.299 / Estimate: 0.056, 2.291 / LogL: -19339.033\n",
      "Init pinv, alpha: 0.026, 2.299 / Estimate: 0.056, 2.288 / LogL: -19339.035\n",
      "Init pinv, alpha: 0.035, 2.299 / Estimate: 0.055, 2.282 / LogL: -19339.039\n",
      "Init pinv, alpha: 0.044, 2.299 / Estimate: 0.056, 2.291 / LogL: -19339.034\n",
      "Init pinv, alpha: 0.053, 2.299 / Estimate: 0.055, 2.284 / LogL: -19339.042\n",
      "Init pinv, alpha: 0.061, 2.299 / Estimate: 0.057, 2.304 / LogL: -19339.034\n",
      "Init pinv, alpha: 0.070, 2.299 / Estimate: 0.056, 2.302 / LogL: -19339.033\n",
      "Init pinv, alpha: 0.079, 2.299 / Estimate: 0.057, 2.305 / LogL: -19339.034\n",
      "Optimal pinv,alpha: 0.056, 2.302 / LogL: -19339.033\n",
      "\n",
      "Parameters optimization took 1.290 sec\n",
      "Wrote distance file to... \n",
      "Computing ML distances based on estimated model parameters...\n",
      "Calculating distance matrix: done in 0.0067622 secs using 579.4% CPU\n",
      "Computing ML distances took 0.007655 sec (of wall-clock time) 0.039626 sec (of CPU time)\n",
      "Setting up auxiliary I and S matrices: done in 0.0009267 secs using 182.6% CPU\n",
      "Constructing RapidNJ tree: done in 0.0160042 secs using 205.2% CPU\n",
      "Computing RapidNJ tree took 0.017690 sec (of wall-clock time) 0.034811 sec (of CPU time)\n",
      "Log-likelihood of RapidNJ tree: -19352.805\n",
      "--------------------------------------------------------------------\n",
      "|             INITIALIZING CANDIDATE TREE SET                      |\n",
      "--------------------------------------------------------------------\n",
      "Generating 98 parsimony trees... 0.299 second\n",
      "Computing log-likelihood of 98 initial trees ... 0.852 seconds\n",
      "Current best score: -19339.033\n",
      "\n",
      "Do NNI search on 20 best initial trees\n",
      "Optimizing NNI: done in 0.0326607 secs using 641.2% CPU\n",
      "Estimate model parameters (epsilon = 0.100)\n",
      "BETTER TREE FOUND at iteration 1: -19339.033\n",
      "Optimizing NNI: done in 0.0607686 secs using 593.7% CPU\n",
      "Optimizing NNI: done in 0.0815608 secs using 590.4% CPU\n",
      "Optimizing NNI: done in 0.0928541 secs using 584.6% CPU\n",
      "Optimizing NNI: done in 0.10352 secs using 583% CPU\n",
      "Optimizing NNI: done in 0.117069 secs using 612.5% CPU\n",
      "Optimizing NNI: done in 0.138705 secs using 604.6% CPU\n",
      "Optimizing NNI: done in 0.112045 secs using 590.9% CPU\n",
      "Optimizing NNI: done in 0.104252 secs using 570% CPU\n",
      "Optimizing NNI: done in 0.0991118 secs using 594.4% CPU\n",
      "Iteration 10 / LogL: -19339.110 / Time: 0h:0m:3s\n",
      "Optimizing NNI: done in 0.123005 secs using 579.7% CPU\n",
      "Optimizing NNI: done in 0.110749 secs using 596.6% CPU\n",
      "Optimizing NNI: done in 0.119046 secs using 595.6% CPU\n",
      "Optimizing NNI: done in 0.0925525 secs using 586.2% CPU\n",
      "Optimizing NNI: done in 0.0907139 secs using 596.1% CPU\n",
      "Optimizing NNI: done in 0.0850277 secs using 629.2% CPU\n",
      "Optimizing NNI: done in 0.0893904 secs using 603.4% CPU\n",
      "Optimizing NNI: done in 0.0776186 secs using 615.3% CPU\n",
      "Optimizing NNI: done in 0.0867416 secs using 607.3% CPU\n",
      "Optimizing NNI: done in 0.0862241 secs using 610.3% CPU\n",
      "Iteration 20 / LogL: -19341.296 / Time: 0h:0m:4s\n",
      "Finish initializing candidate tree set (2)\n",
      "Current best tree score: -19339.033 / CPU time: 3.134\n",
      "Number of iterations: 20\n",
      "--------------------------------------------------------------------\n",
      "|               OPTIMIZING CANDIDATE TREE SET                      |\n",
      "--------------------------------------------------------------------\n",
      "Optimizing NNI: done in 0.142332 secs using 591.8% CPU\n",
      "Optimizing NNI: done in 0.110859 secs using 596.1% CPU\n",
      "Optimizing NNI: done in 0.143938 secs using 586.3% CPU\n",
      "Optimizing NNI: done in 0.11391 secs using 626.7% CPU\n",
      "Optimizing NNI: done in 0.0881641 secs using 610.4% CPU\n",
      "Optimizing NNI: done in 0.164622 secs using 586% CPU\n",
      "Optimizing NNI: done in 0.127222 secs using 563.8% CPU\n",
      "Optimizing NNI: done in 0.17429 secs using 587.7% CPU\n",
      "Optimizing NNI: done in 0.157383 secs using 576.5% CPU\n",
      "Optimizing NNI: done in 0.164658 secs using 585.8% CPU\n",
      "Iteration 30 / LogL: -19396.075 / Time: 0h:0m:5s (0h:0m:14s left)\n",
      "Optimizing NNI: done in 0.133399 secs using 624.7% CPU\n",
      "Optimizing NNI: done in 0.154003 secs using 587% CPU\n",
      "Optimizing NNI: done in 0.214307 secs using 585.3% CPU\n",
      "Optimizing NNI: done in 0.142251 secs using 627.2% CPU\n",
      "Optimizing NNI: done in 0.161829 secs using 594.3% CPU\n",
      "Optimizing NNI: done in 0.13641 secs using 576.5% CPU\n",
      "Optimizing NNI: done in 0.148817 secs using 597.3% CPU\n",
      "Optimizing NNI: done in 0.0722436 secs using 570.6% CPU\n",
      "Optimizing NNI: done in 0.187633 secs using 600.9% CPU\n",
      "Optimizing NNI: done in 0.284309 secs using 610% CPU\n",
      "Iteration 40 / LogL: -19621.601 / Time: 0h:0m:7s (0h:0m:11s left)\n",
      "Optimizing NNI: done in 0.0773318 secs using 617.3% CPU\n",
      "Optimizing NNI: done in 0.186798 secs using 608.6% CPU\n",
      "Optimizing NNI: done in 0.121093 secs using 595.5% CPU\n",
      "Optimizing NNI: done in 0.168012 secs using 605.9% CPU\n",
      "Optimizing NNI: done in 0.162393 secs using 592.6% CPU\n",
      "Optimizing NNI: done in 0.110699 secs using 587.8% CPU\n",
      "Optimizing NNI: done in 0.0736485 secs using 575.2% CPU\n",
      "Optimizing NNI: done in 0.10185 secs using 590.9% CPU\n",
      "Optimizing NNI: done in 0.222668 secs using 594% CPU\n",
      "Optimizing NNI: done in 0.122295 secs using 582.4% CPU\n",
      "Iteration 50 / LogL: -19339.283 / Time: 0h:0m:8s (0h:0m:9s left)\n",
      "Optimizing NNI: done in 0.143988 secs using 620.9% CPU\n",
      "Optimizing NNI: done in 0.0627557 secs using 562.1% CPU\n",
      "Optimizing NNI: done in 0.0387471 secs using 590.4% CPU\n",
      "Optimizing NNI: done in 0.139016 secs using 603.5% CPU\n",
      "Optimizing NNI: done in 0.159124 secs using 602.7% CPU\n",
      "Optimizing NNI: done in 0.157072 secs using 609.3% CPU\n",
      "Optimizing NNI: done in 0.238865 secs using 602.4% CPU\n",
      "Optimizing NNI: done in 0.0898493 secs using 600.8% CPU\n",
      "Optimizing NNI: done in 0.178178 secs using 605.1% CPU\n",
      "Optimizing NNI: done in 0.156694 secs using 610.5% CPU\n",
      "Iteration 60 / LogL: -19339.216 / Time: 0h:0m:10s (0h:0m:7s left)\n",
      "Optimizing NNI: done in 0.118011 secs using 600% CPU\n",
      "Optimizing NNI: done in 0.196662 secs using 583.1% CPU\n",
      "Optimizing NNI: done in 0.124846 secs using 580.6% CPU\n",
      "Optimizing NNI: done in 0.157467 secs using 608% CPU\n",
      "Optimizing NNI: done in 0.123091 secs using 628.1% CPU\n",
      "Optimizing NNI: done in 0.203593 secs using 591.2% CPU\n",
      "Optimizing NNI: done in 0.173231 secs using 584.9% CPU\n",
      "Optimizing NNI: done in 0.203052 secs using 617.1% CPU\n",
      "Optimizing NNI: done in 0.163353 secs using 589.7% CPU\n",
      "Optimizing NNI: done in 0.140174 secs using 592.3% CPU\n",
      "Iteration 70 / LogL: -19339.232 / Time: 0h:0m:12s (0h:0m:5s left)\n",
      "Optimizing NNI: done in 0.161213 secs using 596.2% CPU\n",
      "Optimizing NNI: done in 0.146956 secs using 610.3% CPU\n",
      "Optimizing NNI: done in 0.13307 secs using 626% CPU\n",
      "Optimizing NNI: done in 0.128473 secs using 598.2% CPU\n",
      "Optimizing NNI: done in 0.196067 secs using 610% CPU\n",
      "Optimizing NNI: done in 0.126863 secs using 612.4% CPU\n",
      "Optimizing NNI: done in 0.224373 secs using 585.8% CPU\n",
      "Optimizing NNI: done in 0.17154 secs using 595.5% CPU\n",
      "Optimizing NNI: done in 0.20535 secs using 611.3% CPU\n",
      "Optimizing NNI: done in 0.122593 secs using 589.9% CPU\n",
      "Iteration 80 / LogL: -19339.930 / Time: 0h:0m:13s (0h:0m:3s left)\n",
      "Optimizing NNI: done in 0.167699 secs using 577% CPU\n",
      "Optimizing NNI: done in 0.224204 secs using 590.6% CPU\n",
      "Optimizing NNI: done in 0.174683 secs using 615.2% CPU\n",
      "Optimizing NNI: done in 0.0699074 secs using 600.7% CPU\n",
      "Optimizing NNI: done in 0.130231 secs using 591.4% CPU\n",
      "Optimizing NNI: done in 0.195646 secs using 585.6% CPU\n",
      "Optimizing NNI: done in 0.107313 secs using 556.6% CPU\n",
      "Optimizing NNI: done in 0.0813891 secs using 591.5% CPU\n",
      "Optimizing NNI: done in 0.219166 secs using 601.9% CPU\n",
      "Optimizing NNI: done in 0.17148 secs using 595.7% CPU\n",
      "Iteration 90 / LogL: -19344.000 / Time: 0h:0m:15s (0h:0m:1s left)\n",
      "Optimizing NNI: done in 0.170887 secs using 597.4% CPU\n",
      "Optimizing NNI: done in 0.167276 secs using 608.1% CPU\n",
      "Optimizing NNI: done in 0.186537 secs using 609.3% CPU\n",
      "Optimizing NNI: done in 0.155603 secs using 614.3% CPU\n",
      "Optimizing NNI: done in 0.227781 secs using 604.7% CPU\n",
      "Optimizing NNI: done in 0.19559 secs using 611.3% CPU\n",
      "Optimizing NNI: done in 0.155861 secs using 606.8% CPU\n",
      "Optimizing NNI: done in 0.172725 secs using 592.1% CPU\n",
      "Optimizing NNI: done in 0.08086 secs using 594.7% CPU\n",
      "Optimizing NNI: done in 0.137952 secs using 571.2% CPU\n",
      "Iteration 100 / LogL: -19339.952 / Time: 0h:0m:16s (0h:0m:0s left)\n",
      "Optimizing NNI: done in 0.181442 secs using 596% CPU\n",
      "Optimizing NNI: done in 0.153474 secs using 621.3% CPU\n",
      "TREE SEARCH COMPLETED AFTER 102 ITERATIONS / Time: 0h:0m:17s\n",
      "\n",
      "--------------------------------------------------------------------\n",
      "|                    FINALIZING TREE SEARCH                        |\n",
      "--------------------------------------------------------------------\n",
      "Performs final model parameters optimization\n",
      "Estimate model parameters (epsilon = 0.010)\n",
      "1. Initial log-likelihood: -19339.033\n",
      "Optimal log-likelihood: -19339.032\n",
      "Proportion of invariable sites: 0.056\n",
      "Gamma shape alpha: 2.300\n",
      "Parameters optimization took 1 rounds (0.028 sec)\n",
      "BEST SCORE FOUND : -19339.032\n",
      "Total tree length: 9.165\n",
      "\n",
      "Total number of iterations: 102\n",
      "CPU time used for tree search: 93.346 sec (0h:1m:33s)\n",
      "Wall-clock time used for tree search: 15.860 sec (0h:0m:15s)\n",
      "Total CPU time used: 101.576 sec (0h:1m:41s)\n",
      "Total wall-clock time used: 17.296 sec (0h:0m:17s)\n",
      "\n",
      "Analysis results written to: \n",
      "  IQ-TREE report:                phylogenomics/model-finder/All/All.iqtree\n",
      "  Maximum-likelihood tree:       phylogenomics/model-finder/All/All.treefile\n",
      "  Likelihood distances:          phylogenomics/model-finder/All/All.mldist\n",
      "  Screen log file:               phylogenomics/model-finder/All/All.log\n",
      "\n",
      "Date and Time: Mon Dec 23 13:34:43 2024\n"
     ]
    }
   ],
   "source": [
    "! iqtree2 -m MFP -s phylogenomics/trimmed_MSAs/All/ --prefix phylogenomics/model-finder/All/All -T AUTO"
   ]
  },
  {
   "cell_type": "code",
   "execution_count": 91,
   "metadata": {},
   "outputs": [
    {
     "name": "stdout",
     "output_type": "stream",
     "text": [
      "Best-fit model according to BIC: Q.pfam+F+I+G4\n",
      "\n",
      "List of models sorted by BIC scores: \n",
      "\n",
      "Model                  LogL         AIC      w-AIC        AICc     w-AICc         BIC      w-BIC\n",
      "Q.pfam+F+I+G4    -19339.032   38774.065 +        1   38779.760 +        1   39003.228 +    0.923\n"
     ]
    }
   ],
   "source": [
    "! head -42 phylogenomics/model-finder/All/All.iqtree | tail -6"
   ]
  },
  {
   "cell_type": "markdown",
   "metadata": {},
   "source": [
    "### **Part 6.9. Reconstructing the phylogeny**"
   ]
  },
  {
   "cell_type": "markdown",
   "metadata": {},
   "source": [
    "First create directories to store `IQ-TREE 2` files"
   ]
  },
  {
   "cell_type": "code",
   "execution_count": 32,
   "metadata": {},
   "outputs": [],
   "source": [
    "! mkdir phylogenomics/iqtree/\n",
    "! mkdir phylogenomics/iqtree/NSPs/\n",
    "! mkdir phylogenomics/iqtree/SPs/\n",
    "! mkdir phylogenomics/iqtree/All/"
   ]
  },
  {
   "cell_type": "markdown",
   "metadata": {},
   "source": [
    "Then launch `IQ-TREE 2` to reconstruct the phylogeny"
   ]
  },
  {
   "cell_type": "code",
   "execution_count": 33,
   "metadata": {},
   "outputs": [
    {
     "name": "stdout",
     "output_type": "stream",
     "text": [
      "IQ-TREE multicore version 2.2.6 COVID-edition for Linux 64-bit built Dec  8 2023\n",
      "Developed by Bui Quang Minh, James Barbetti, Nguyen Lam Tung,\n",
      "Olga Chernomor, Heiko Schmidt, Dominik Schrempf, Michael Woodhams, Ly Trong Nhan.\n",
      "\n",
      "Host:    IliaPC (AVX2, FMA3, 15 GB RAM)\n",
      "Command: iqtree2 -s phylogenomics/trimmed_MSAs/NSPs/ -m Q.pfam+F+R4 --prefix phylogenomics/iqtree/NSPs/NSPs -bb 1000 -T AUTO\n",
      "Seed:    30187 (Using SPRNG - Scalable Parallel Random Number Generator)\n",
      "Time:    Mon Dec 23 12:31:34 2024\n",
      "Kernel:  AVX+FMA - auto-detect threads (24 CPU cores detected)\n",
      "\n",
      "Reading 1 alignment files in directory phylogenomics/trimmed_MSAs/NSPs/\n",
      "Reading alignment file phylogenomics/trimmed_MSAs/NSPs/trimmed_family1.seq.aln ... Fasta format detected\n",
      "Reading fasta file: done in 0.0016662 secs using 37.27% CPU\n",
      "Alignment most likely contains protein sequences\n",
      "Constructing alignment: done in 0.0012349 secs using 1386% CPU\n",
      "Alignment has 45 sequences with 425 columns, 420 distinct patterns\n",
      "391 parsimony-informative, 15 singleton sites, 19 constant sites\n",
      "               Gap/Ambiguity  Composition  p-value\n",
      "Analyzing sequences: done in 0.005042 secs using 1442% CPU\n",
      "   1  Densovirus_D1    4.47%    passed     99.59%\n",
      "   2  Densovirus_D2    4.47%    passed     99.44%\n",
      "   3  Densovirus_D3    4.47%    passed     99.59%\n",
      "   4  Densovirus_D4    4.47%    passed     99.59%\n",
      "   5  Densovirus_D5    4.47%    passed     99.59%\n",
      "   6  Densovirus_P1    4.47%    passed     99.59%\n",
      "   7  Densovirus_P2    4.47%    passed     99.59%\n",
      "   8  Densovirus_P3    4.47%    passed     99.59%\n",
      "   9  Densovirus_P4    4.47%    passed     99.59%\n",
      "  10  Densovirus_P5    4.47%    passed     99.59%\n",
      "  11  MW628494.1       4.47%    passed     99.41%\n",
      "  12  NC_000936.1      1.65%    passed     97.45%\n",
      "  13  NC_001899.1      7.29%    passed     80.37%\n",
      "  14  NC_003346.1      3.29%    passed     49.24%\n",
      "  15  NC_004286.1      7.29%    passed     94.55%\n",
      "  16  NC_004287.1      3.29%    passed     49.24%\n",
      "  17  NC_004288.1      3.29%    passed     39.52%\n",
      "  18  NC_004289.1      1.88%    passed     21.74%\n",
      "  19  NC_004290.1      1.65%    passed     36.72%\n",
      "  20  NC_005040.1     10.12%    passed     60.70%\n",
      "  21  NC_005041.2      4.00%    passed     78.81%\n",
      "  22  NC_005341.1      7.29%    passed     88.80%\n",
      "  23  NC_006555.1      4.47%    passed     96.93%\n",
      "  24  NC_012685.1      7.29%    passed     81.20%\n",
      "  25  NC_015718.1      4.24%    passed     87.87%\n",
      "  26  NC_018399.1      3.29%    passed     45.33%\n",
      "  27  NC_018450.1      3.29%    passed     50.76%\n",
      "  28  NC_019492.1      7.29%    passed     87.23%\n",
      "  29  NC_022564.1     11.76%    failed      2.61%\n",
      "  30  NC_022748.1      5.41%    passed     99.22%\n",
      "  31  NC_026943.1      1.88%    passed     99.53%\n",
      "  32  NC_030296.1      3.29%    passed     26.51%\n",
      "  33  NC_031450.1      4.47%    passed     99.27%\n",
      "  34  NC_040626.1      5.18%    passed     52.50%\n",
      "  35  NC_075118.1      1.65%    passed     36.72%\n",
      "  36  NC_077036.1      1.88%    passed     93.49%\n",
      "  37  NC_077038.1      2.59%    failed      3.91%\n",
      "  38  NC_077050.1      2.35%    passed      5.11%\n",
      "  39  NC_077065.1      1.18%    passed     94.66%\n",
      "  40  NC_077069.1      5.65%    passed     57.14%\n",
      "  41  NC_077079.1      1.65%    passed     81.55%\n",
      "  42  NC_077080.1      1.65%    passed     96.41%\n",
      "  43  NC_077081.1     11.29%    passed     26.62%\n",
      "  44  NC_077082.1      4.00%    passed     98.43%\n",
      "  45  NC_077083.1      3.06%    passed     98.26%\n",
      "****  TOTAL            4.42%  2 sequences failed composition chi2 test (p-value<5%; df=19)\n",
      "NOTE: Densovirus_D3 is identical to Densovirus_D1 but kept for subsequent analysis\n",
      "NOTE: NC_075118.1 is identical to NC_004290.1 but kept for subsequent analysis\n",
      "Checking for duplicate sequences: done in 0.0057351 secs using 1428% CPU\n",
      "Identifying sites to remove: done in 0.0004114 secs using 81.92% CPU\n",
      "NOTE: 7 identical sequences (see below) will be ignored for subsequent analysis\n",
      "NOTE: Densovirus_D4 (identical to Densovirus_D1) is ignored but added at the end\n",
      "NOTE: Densovirus_D5 (identical to Densovirus_D1) is ignored but added at the end\n",
      "NOTE: Densovirus_P1 (identical to Densovirus_D1) is ignored but added at the end\n",
      "NOTE: Densovirus_P2 (identical to Densovirus_D1) is ignored but added at the end\n",
      "NOTE: Densovirus_P3 (identical to Densovirus_D1) is ignored but added at the end\n",
      "NOTE: Densovirus_P4 (identical to Densovirus_D1) is ignored but added at the end\n",
      "NOTE: Densovirus_P5 (identical to Densovirus_D1) is ignored but added at the end\n",
      "Alignment was printed to phylogenomics/iqtree/NSPs/NSPs.uniqueseq.phy\n",
      "\n",
      "For your convenience alignment with unique sequences printed to phylogenomics/iqtree/NSPs/NSPs.uniqueseq.phy\n",
      "\n",
      "Create initial parsimony tree by phylogenetic likelihood library (PLL)... 0.017 seconds\n",
      "Generating 1000 samples for ultrafast bootstrap (seed: 30187)...\n",
      "WARNING: Default model LG may be under-fitting. Use option '-m TEST' to determine the best-fit model.\n",
      "\n",
      "NOTE: 4 MB RAM (0 GB) is required!\n",
      "Measuring multi-threading efficiency up to 24 CPU cores\n",
      "Increase to 10 rounds for branch lengths\n",
      "186 trees examined\n",
      "Threads: 1 / Time: 24.086 sec / Speedup: 1.000 / Efficiency: 100% / LogL: -31515\n",
      "Threads: 2 / Time: 14.646 sec / Speedup: 1.644 / Efficiency: 82% / LogL: -31515\n",
      "Threads: 3 / Time: 12.081 sec / Speedup: 1.994 / Efficiency: 66% / LogL: -31515\n",
      "Threads: 4 / Time: 9.533 sec / Speedup: 2.526 / Efficiency: 63% / LogL: -31515\n",
      "Threads: 5 / Time: 8.870 sec / Speedup: 2.716 / Efficiency: 54% / LogL: -31515\n",
      "Threads: 6 / Time: 8.841 sec / Speedup: 2.724 / Efficiency: 45% / LogL: -31515\n",
      "Determining AUTO threadcount: done in 78.0621 secs using 286.4% CPU\n",
      "BEST NUMBER OF THREADS: 5\n",
      "\n",
      "Estimate model parameters (epsilon = 0.100)\n",
      "1. Initial log-likelihood: -22244.500\n",
      "Optimal log-likelihood: -22044.698\n",
      "Parameters optimization took 1 rounds (0.021 sec)\n",
      "Wrote distance file to... \n",
      "Computing ML distances based on estimated model parameters...\n",
      "Calculating distance matrix: done in 0.0167543 secs using 496.9% CPU\n",
      "Computing ML distances took 0.017846 sec (of wall-clock time) 0.083868 sec (of CPU time)\n",
      "Setting up auxiliary I and S matrices: done in 0.0008405 secs using 238.7% CPU\n",
      "Constructing RapidNJ tree: done in 0.0262213 secs using 78.84% CPU\n",
      "Computing RapidNJ tree took 0.027870 sec (of wall-clock time) 0.022915 sec (of CPU time)\n",
      "Log-likelihood of RapidNJ tree: -22058.923\n",
      "--------------------------------------------------------------------\n",
      "|             INITIALIZING CANDIDATE TREE SET                      |\n",
      "--------------------------------------------------------------------\n",
      "Generating 98 parsimony trees... 1.138 second\n",
      "Computing log-likelihood of 98 initial trees ... 0.612 seconds\n",
      "Current best score: -22036.005\n",
      "\n",
      "Do NNI search on 20 best initial trees\n",
      "Optimizing NNI: done in 0.0796878 secs using 501.5% CPU\n",
      "Estimate model parameters (epsilon = 0.100)\n",
      "BETTER TREE FOUND at iteration 1: -22013.083\n",
      "Optimizing NNI: done in 0.0714324 secs using 492% CPU\n",
      "Optimizing NNI: done in 0.0765403 secs using 518% CPU\n",
      "Optimizing NNI: done in 0.0746704 secs using 501.8% CPU\n",
      "Optimizing NNI: done in 0.0805361 secs using 497.3% CPU\n",
      "Optimizing NNI: done in 0.094182 secs using 482.2% CPU\n",
      "Optimizing NNI: done in 0.0928377 secs using 477% CPU\n",
      "Optimizing NNI: done in 0.106956 secs using 511.4% CPU\n",
      "Optimizing NNI: done in 0.104418 secs using 473.5% CPU\n",
      "Optimizing NNI: done in 0.114116 secs using 485.6% CPU\n",
      "Estimate model parameters (epsilon = 0.100)\n",
      "BETTER TREE FOUND at iteration 10: -22012.933\n",
      "Iteration 10 / LogL: -22012.933 / Time: 0h:1m:20s\n",
      "Optimizing NNI: done in 0.111409 secs using 494.9% CPU\n",
      "Optimizing NNI: done in 0.0934672 secs using 528% CPU\n",
      "Optimizing NNI: done in 0.107789 secs using 508.2% CPU\n",
      "Optimizing NNI: done in 0.097248 secs using 511.3% CPU\n",
      "Optimizing NNI: done in 0.0920404 secs using 491.1% CPU\n",
      "Optimizing NNI: done in 0.0955579 secs using 518.6% CPU\n",
      "Optimizing NNI: done in 0.0827884 secs using 486.5% CPU\n",
      "Optimizing NNI: done in 0.0792945 secs using 503.6% CPU\n",
      "Optimizing NNI: done in 0.0890489 secs using 504.2% CPU\n",
      "Estimate model parameters (epsilon = 0.100)\n",
      "BETTER TREE FOUND at iteration 19: -22012.296\n",
      "Optimizing NNI: done in 0.0687782 secs using 434.4% CPU\n",
      "Iteration 20 / LogL: -22012.356 / Time: 0h:1m:21s\n",
      "Finish initializing candidate tree set (4)\n",
      "Current best tree score: -22012.296 / CPU time: 3.635\n",
      "Number of iterations: 20\n",
      "--------------------------------------------------------------------\n",
      "|               OPTIMIZING CANDIDATE TREE SET                      |\n",
      "--------------------------------------------------------------------\n",
      "Optimizing NNI: done in 0.0979064 secs using 457.7% CPU\n",
      "Optimizing NNI: done in 0.154865 secs using 479.3% CPU\n",
      "Optimizing NNI: done in 0.125485 secs using 502% CPU\n",
      "Optimizing NNI: done in 0.150463 secs using 485.2% CPU\n",
      "Optimizing NNI: done in 0.124864 secs using 479.9% CPU\n",
      "Optimizing NNI: done in 0.0872144 secs using 502.7% CPU\n",
      "Optimizing NNI: done in 0.0829577 secs using 460.9% CPU\n",
      "Optimizing NNI: done in 0.11109 secs using 482.1% CPU\n",
      "Optimizing NNI: done in 0.0928884 secs using 448.9% CPU\n",
      "Optimizing NNI: done in 0.0949994 secs using 467.4% CPU\n",
      "Iteration 30 / LogL: -22012.882 / Time: 0h:1m:23s (0h:4m:14s left)\n",
      "Optimizing NNI: done in 0.123991 secs using 482.9% CPU\n",
      "Optimizing NNI: done in 0.131792 secs using 475.6% CPU\n",
      "Optimizing NNI: done in 0.0898012 secs using 450.9% CPU\n",
      "Optimizing NNI: done in 0.143472 secs using 478% CPU\n",
      "Optimizing NNI: done in 0.108588 secs using 482.1% CPU\n",
      "Optimizing NNI: done in 0.122832 secs using 496.8% CPU\n",
      "Optimizing NNI: done in 0.11641 secs using 487.8% CPU\n",
      "Optimizing NNI: done in 0.113602 secs using 478.9% CPU\n",
      "Optimizing NNI: done in 0.111042 secs using 496.2% CPU\n",
      "Optimizing NNI: done in 0.162745 secs using 501.5% CPU\n",
      "Iteration 40 / LogL: -22012.296 / Time: 0h:1m:24s (0h:2m:50s left)\n",
      "Optimizing NNI: done in 0.118584 secs using 483.5% CPU\n",
      "Optimizing NNI: done in 0.105616 secs using 475.8% CPU\n",
      "Optimizing NNI: done in 0.121372 secs using 479.8% CPU\n",
      "Optimizing NNI: done in 0.14805 secs using 477% CPU\n",
      "Optimizing NNI: done in 0.134148 secs using 473.5% CPU\n",
      "Optimizing NNI: done in 0.111252 secs using 474.4% CPU\n",
      "Optimizing NNI: done in 0.115445 secs using 461.7% CPU\n",
      "Optimizing NNI: done in 0.127863 secs using 492.6% CPU\n",
      "Optimizing NNI: done in 0.131836 secs using 499.4% CPU\n",
      "Optimizing NNI: done in 0.143623 secs using 500.4% CPU\n",
      "Iteration 50 / LogL: -22012.309 / Time: 0h:1m:25s (0h:2m:0s left)\n",
      "Log-likelihood cutoff on original alignment: -22049.825\n",
      "Optimizing NNI: done in 0.124673 secs using 500.8% CPU\n",
      "Optimizing NNI: done in 0.11494 secs using 482.5% CPU\n",
      "Optimizing NNI: done in 0.144719 secs using 480% CPU\n",
      "Optimizing NNI: done in 0.115158 secs using 460.7% CPU\n",
      "Optimizing NNI: done in 0.123152 secs using 472.6% CPU\n",
      "Optimizing NNI: done in 0.105147 secs using 488.3% CPU\n",
      "Optimizing NNI: done in 0.114759 secs using 494% CPU\n",
      "Optimizing NNI: done in 0.139574 secs using 471.1% CPU\n",
      "Optimizing NNI: done in 0.114835 secs using 503% CPU\n",
      "Optimizing NNI: done in 0.155493 secs using 489.1% CPU\n",
      "Iteration 60 / LogL: -22012.961 / Time: 0h:1m:27s (0h:1m:27s left)\n",
      "Optimizing NNI: done in 0.168829 secs using 476.5% CPU\n",
      "Optimizing NNI: done in 0.112164 secs using 477.7% CPU\n",
      "Optimizing NNI: done in 0.112665 secs using 462.6% CPU\n",
      "Optimizing NNI: done in 0.0849269 secs using 464.6% CPU\n",
      "Optimizing NNI: done in 0.107591 secs using 494.9% CPU\n",
      "Optimizing NNI: done in 0.103594 secs using 495.3% CPU\n",
      "Optimizing NNI: done in 0.109555 secs using 456.3% CPU\n",
      "Optimizing NNI: done in 0.11343 secs using 476.2% CPU\n",
      "Optimizing NNI: done in 0.125004 secs using 466.7% CPU\n",
      "Optimizing NNI: done in 0.131859 secs using 482.1% CPU\n",
      "Iteration 70 / LogL: -22013.187 / Time: 0h:1m:28s (0h:1m:2s left)\n",
      "Optimizing NNI: done in 0.122767 secs using 475.1% CPU\n",
      "Optimizing NNI: done in 0.119819 secs using 487.3% CPU\n",
      "Optimizing NNI: done in 0.133082 secs using 498.3% CPU\n",
      "Optimizing NNI: done in 0.133091 secs using 493.2% CPU\n",
      "Optimizing NNI: done in 0.108581 secs using 464.5% CPU\n",
      "Optimizing NNI: done in 0.11026 secs using 495.6% CPU\n",
      "Optimizing NNI: done in 0.0966444 secs using 483% CPU\n",
      "Optimizing NNI: done in 0.0960934 secs using 473.2% CPU\n",
      "Optimizing NNI: done in 0.104157 secs using 473.5% CPU\n",
      "Optimizing NNI: done in 0.0801825 secs using 484% CPU\n",
      "Iteration 80 / LogL: -22013.384 / Time: 0h:1m:29s (0h:0m:44s left)\n",
      "Optimizing NNI: done in 0.110952 secs using 496.2% CPU\n",
      "Optimizing NNI: done in 0.0997763 secs using 473.9% CPU\n",
      "Optimizing NNI: done in 0.119058 secs using 485.3% CPU\n",
      "Optimizing NNI: done in 0.119239 secs using 447.9% CPU\n",
      "Optimizing NNI: done in 0.136074 secs using 491.2% CPU\n",
      "Optimizing NNI: done in 0.104763 secs using 494.5% CPU\n",
      "Optimizing NNI: done in 0.103898 secs using 494% CPU\n",
      "Optimizing NNI: done in 0.11108 secs using 468.3% CPU\n",
      "Optimizing NNI: done in 0.112662 secs using 473.2% CPU\n",
      "Optimizing NNI: done in 0.111978 secs using 479.6% CPU\n",
      "Iteration 90 / LogL: -22012.506 / Time: 0h:1m:30s (0h:0m:29s left)\n",
      "Optimizing NNI: done in 0.105196 secs using 462.4% CPU\n",
      "Optimizing NNI: done in 0.124128 secs using 467% CPU\n",
      "Optimizing NNI: done in 0.109855 secs using 477.2% CPU\n",
      "Optimizing NNI: done in 0.107347 secs using 472.1% CPU\n",
      "Optimizing NNI: done in 0.11773 secs using 495.8% CPU\n",
      "Optimizing NNI: done in 0.176775 secs using 490.4% CPU\n",
      "Optimizing NNI: done in 0.101581 secs using 491.1% CPU\n",
      "Optimizing NNI: done in 0.112183 secs using 498% CPU\n",
      "Optimizing NNI: done in 0.124235 secs using 489.5% CPU\n",
      "Optimizing NNI: done in 0.0960701 secs using 477% CPU\n",
      "Iteration 100 / LogL: -22012.322 / Time: 0h:1m:31s (0h:0m:17s left)\n",
      "Log-likelihood cutoff on original alignment: -22049.825\n",
      "NOTE: Bootstrap correlation coefficient of split occurrence frequencies: 0.997\n",
      "Optimizing NNI: done in 0.120757 secs using 504.2% CPU\n",
      "Optimizing NNI: done in 0.091036 secs using 459.9% CPU\n",
      "Optimizing NNI: done in 0.104568 secs using 450.9% CPU\n",
      "Optimizing NNI: done in 0.114182 secs using 469.5% CPU\n",
      "Optimizing NNI: done in 0.133822 secs using 495.3% CPU\n",
      "Optimizing NNI: done in 0.115056 secs using 489.2% CPU\n",
      "Optimizing NNI: done in 0.0999796 secs using 471.5% CPU\n",
      "Optimizing NNI: done in 0.107529 secs using 486.3% CPU\n",
      "Optimizing NNI: done in 0.113321 secs using 496.3% CPU\n",
      "Optimizing NNI: done in 0.125327 secs using 483% CPU\n",
      "Iteration 110 / LogL: -22064.611 / Time: 0h:1m:33s (0h:1m:16s left)\n",
      "Optimizing NNI: done in 0.11756 secs using 474.3% CPU\n",
      "Optimizing NNI: done in 0.131046 secs using 476.3% CPU\n",
      "Optimizing NNI: done in 0.119899 secs using 493.4% CPU\n",
      "Optimizing NNI: done in 0.168191 secs using 483.4% CPU\n",
      "Optimizing NNI: done in 0.114737 secs using 471.3% CPU\n",
      "Optimizing NNI: done in 0.118799 secs using 488.1% CPU\n",
      "Optimizing NNI: done in 0.107311 secs using 472.2% CPU\n",
      "Optimizing NNI: done in 0.0995041 secs using 486% CPU\n",
      "Optimizing NNI: done in 0.154709 secs using 487.5% CPU\n",
      "Optimizing NNI: done in 0.123538 secs using 484.2% CPU\n",
      "Iteration 120 / LogL: -22012.333 / Time: 0h:1m:34s (0h:1m:3s left)\n",
      "TREE SEARCH COMPLETED AFTER 120 ITERATIONS / Time: 0h:1m:34s\n",
      "\n",
      "--------------------------------------------------------------------\n",
      "|                    FINALIZING TREE SEARCH                        |\n",
      "--------------------------------------------------------------------\n",
      "Performs final model parameters optimization\n",
      "Estimate model parameters (epsilon = 0.010)\n",
      "1. Initial log-likelihood: -22012.296\n",
      "Optimal log-likelihood: -22012.296\n",
      "Parameters optimization took 1 rounds (0.008 sec)\n",
      "BEST SCORE FOUND : -22012.296\n",
      "Creating bootstrap support values...\n",
      "Split supports printed to NEXUS file phylogenomics/iqtree/NSPs/NSPs.splits.nex\n",
      "Total tree length: 17.908\n",
      "\n",
      "Total number of iterations: 120\n",
      "CPU time used for tree search: 74.036 sec (0h:1m:14s)\n",
      "Wall-clock time used for tree search: 16.321 sec (0h:0m:16s)\n",
      "Total CPU time used: 298.309 sec (0h:4m:58s)\n",
      "Total wall-clock time used: 94.766 sec (0h:1m:34s)\n",
      "\n",
      "Computing bootstrap consensus tree...\n",
      "Reading input file phylogenomics/iqtree/NSPs/NSPs.splits.nex...\n",
      "38 taxa and 167 splits.\n",
      "Consensus tree written to phylogenomics/iqtree/NSPs/NSPs.contree\n",
      "Reading input trees file phylogenomics/iqtree/NSPs/NSPs.contree\n",
      "Log-likelihood of consensus tree: -22012.944\n",
      "\n",
      "Analysis results written to: \n",
      "  IQ-TREE report:                phylogenomics/iqtree/NSPs/NSPs.iqtree\n",
      "  Maximum-likelihood tree:       phylogenomics/iqtree/NSPs/NSPs.treefile\n",
      "  Likelihood distances:          phylogenomics/iqtree/NSPs/NSPs.mldist\n",
      "\n",
      "Ultrafast bootstrap approximation results written to:\n",
      "  Split support values:          phylogenomics/iqtree/NSPs/NSPs.splits.nex\n",
      "  Consensus tree:                phylogenomics/iqtree/NSPs/NSPs.contree\n",
      "  Screen log file:               phylogenomics/iqtree/NSPs/NSPs.log\n",
      "\n",
      "Date and Time: Mon Dec 23 12:33:09 2024\n"
     ]
    }
   ],
   "source": [
    "! iqtree2 -s phylogenomics/trimmed_MSAs/NSPs/ -m Q.pfam+F+R4 --prefix phylogenomics/iqtree/NSPs/NSPs -bb 1000 -T AUTO"
   ]
  },
  {
   "cell_type": "code",
   "execution_count": 34,
   "metadata": {},
   "outputs": [
    {
     "name": "stdout",
     "output_type": "stream",
     "text": [
      "IQ-TREE multicore version 2.2.6 COVID-edition for Linux 64-bit built Dec  8 2023\n",
      "Developed by Bui Quang Minh, James Barbetti, Nguyen Lam Tung,\n",
      "Olga Chernomor, Heiko Schmidt, Dominik Schrempf, Michael Woodhams, Ly Trong Nhan.\n",
      "\n",
      "Host:    IliaPC (AVX2, FMA3, 15 GB RAM)\n",
      "Command: iqtree2 -s phylogenomics/trimmed_MSAs/SPs/ -m VT+I+R2 --prefix phylogenomics/iqtree/SPs/SPs -bb 1000 -T AUTO\n",
      "Seed:    424520 (Using SPRNG - Scalable Parallel Random Number Generator)\n",
      "Time:    Mon Dec 23 12:33:33 2024\n",
      "Kernel:  AVX+FMA - auto-detect threads (24 CPU cores detected)\n",
      "\n",
      "Reading 1 alignment files in directory phylogenomics/trimmed_MSAs/SPs/\n",
      "Reading alignment file phylogenomics/trimmed_MSAs/SPs/trimmed_family1.seq.aln ... Fasta format detected\n",
      "Reading fasta file: done in 0.0017702 secs using 48.53% CPU\n",
      "Alignment most likely contains protein sequences\n",
      "Constructing alignment: done in 0.0008779 secs using 238.5% CPU\n",
      "Alignment has 22 sequences with 444 columns, 434 distinct patterns\n",
      "360 parsimony-informative, 56 singleton sites, 27 constant sites\n",
      "               Gap/Ambiguity  Composition  p-value\n",
      "Analyzing sequences: done in 0.0052015 secs using 2894% CPU\n",
      "   1  Densovirus_D1    0.68%    passed     96.36%\n",
      "   2  Densovirus_D2    0.68%    passed     96.36%\n",
      "   3  Densovirus_D3    0.68%    passed     96.36%\n",
      "   4  Densovirus_D4    0.68%    passed     96.36%\n",
      "   5  Densovirus_D5    0.68%    passed     96.36%\n",
      "   6  Densovirus_P1    0.68%    passed     96.36%\n",
      "   7  Densovirus_P2    0.68%    passed     96.36%\n",
      "   8  Densovirus_P3    0.68%    passed     96.36%\n",
      "   9  Densovirus_P4    0.68%    passed     96.36%\n",
      "  10  Densovirus_P5    0.68%    passed     96.36%\n",
      "  11  MW628494.1       0.68%    passed     97.96%\n",
      "  12  NC_000936.1     10.59%    failed      1.08%\n",
      "  13  NC_004289.1      2.48%    passed     61.38%\n",
      "  14  NC_004290.1      1.13%    failed      0.01%\n",
      "  15  NC_005040.1      6.76%    failed      4.71%\n",
      "  16  NC_012685.1      4.28%    failed      0.05%\n",
      "  17  NC_022748.1      5.63%    passed     19.70%\n",
      "  18  NC_031450.1      0.68%    passed     97.15%\n",
      "  19  NC_077065.1     11.26%    passed     24.23%\n",
      "  20  NC_077079.1      0.68%    passed     38.87%\n",
      "  21  NC_077080.1      1.13%    failed      1.02%\n",
      "  22  NC_077082.1      3.60%    passed     46.34%\n",
      "****  TOTAL            2.53%  5 sequences failed composition chi2 test (p-value<5%; df=19)\n",
      "NOTE: Densovirus_D2 is identical to Densovirus_D1 but kept for subsequent analysis\n",
      "Checking for duplicate sequences: done in 0.0051651 secs using 1985% CPU\n",
      "Identifying sites to remove: done in 0.0002809 secs using 99.68% CPU\n",
      "NOTE: 8 identical sequences (see below) will be ignored for subsequent analysis\n",
      "NOTE: Densovirus_D3 (identical to Densovirus_D1) is ignored but added at the end\n",
      "NOTE: Densovirus_D4 (identical to Densovirus_D1) is ignored but added at the end\n",
      "NOTE: Densovirus_D5 (identical to Densovirus_D1) is ignored but added at the end\n",
      "NOTE: Densovirus_P1 (identical to Densovirus_D1) is ignored but added at the end\n",
      "NOTE: Densovirus_P2 (identical to Densovirus_D1) is ignored but added at the end\n",
      "NOTE: Densovirus_P3 (identical to Densovirus_D1) is ignored but added at the end\n",
      "NOTE: Densovirus_P4 (identical to Densovirus_D1) is ignored but added at the end\n",
      "NOTE: Densovirus_P5 (identical to Densovirus_D1) is ignored but added at the end\n",
      "Alignment was printed to phylogenomics/iqtree/SPs/SPs.uniqueseq.phy\n",
      "\n",
      "For your convenience alignment with unique sequences printed to phylogenomics/iqtree/SPs/SPs.uniqueseq.phy\n",
      "\n",
      "Create initial parsimony tree by phylogenetic likelihood library (PLL)... 0.002 seconds\n",
      "Generating 1000 samples for ultrafast bootstrap (seed: 424520)...\n",
      "WARNING: Default model LG may be under-fitting. Use option '-m TEST' to determine the best-fit model.\n",
      "\n",
      "NOTE: 2 MB RAM (0 GB) is required!\n",
      "Measuring multi-threading efficiency up to 24 CPU cores\n",
      "Increase to 10 rounds for branch lengths\n",
      "647 trees examined\n",
      "Threads: 1 / Time: 24.010 sec / Speedup: 1.000 / Efficiency: 100% / LogL: -11816\n",
      "Threads: 2 / Time: 13.317 sec / Speedup: 1.803 / Efficiency: 90% / LogL: -11816\n",
      "Threads: 3 / Time: 10.747 sec / Speedup: 2.234 / Efficiency: 74% / LogL: -11816\n",
      "Threads: 4 / Time: 8.833 sec / Speedup: 2.718 / Efficiency: 68% / LogL: -11816\n",
      "Threads: 5 / Time: 8.377 sec / Speedup: 2.866 / Efficiency: 57% / LogL: -11816\n",
      "Threads: 6 / Time: 7.671 sec / Speedup: 3.130 / Efficiency: 52% / LogL: -11816\n",
      "Threads: 7 / Time: 7.190 sec / Speedup: 3.340 / Efficiency: 48% / LogL: -11816\n",
      "Determining AUTO threadcount: done in 80.1501 secs using 317.9% CPU\n",
      "BEST NUMBER OF THREADS: 6\n",
      "\n",
      "Estimate model parameters (epsilon = 0.100)\n",
      "1. Initial log-likelihood: -10502.865\n",
      "Optimal log-likelihood: -10412.013\n",
      "Parameters optimization took 1 rounds (0.007 sec)\n",
      "Wrote distance file to... \n",
      "Computing ML distances based on estimated model parameters...\n",
      "Calculating distance matrix: done in 0.0014264 secs using 623.2% CPU\n",
      "Computing ML distances took 0.002260 sec (of wall-clock time) 0.009303 sec (of CPU time)\n",
      "Setting up auxiliary I and S matrices: done in 0.0010691 secs using 254% CPU\n",
      "Constructing RapidNJ tree: done in 0.0139263 secs using 91.51% CPU\n",
      "Computing RapidNJ tree took 0.015862 sec (of wall-clock time) 0.015719 sec (of CPU time)\n",
      "Log-likelihood of RapidNJ tree: -10410.334\n",
      "--------------------------------------------------------------------\n",
      "|             INITIALIZING CANDIDATE TREE SET                      |\n",
      "--------------------------------------------------------------------\n",
      "Generating 98 parsimony trees... 0.207 second\n",
      "Computing log-likelihood of 96 initial trees ... 0.227 seconds\n",
      "Current best score: -10409.169\n",
      "\n",
      "Do NNI search on 20 best initial trees\n",
      "Optimizing NNI: done in 0.0204177 secs using 589.6% CPU\n",
      "Estimate model parameters (epsilon = 0.100)\n",
      "BETTER TREE FOUND at iteration 1: -10389.617\n",
      "Optimizing NNI: done in 0.0262004 secs using 672.5% CPU\n",
      "Optimizing NNI: done in 0.0327832 secs using 557.6% CPU\n",
      "Optimizing NNI: done in 0.0207692 secs using 581.4% CPU\n",
      "Optimizing NNI: done in 0.027473 secs using 464% CPU\n",
      "Optimizing NNI: done in 0.0215012 secs using 565.1% CPU\n",
      "Optimizing NNI: done in 0.0214669 secs using 519.5% CPU\n",
      "Optimizing NNI: done in 0.0269239 secs using 657% CPU\n",
      "Optimizing NNI: done in 0.0248645 secs using 502.2% CPU\n",
      "Optimizing NNI: done in 0.0251689 secs using 656.3% CPU\n",
      "Iteration 10 / LogL: -10389.648 / Time: 0h:1m:20s\n",
      "Optimizing NNI: done in 0.0333669 secs using 549.5% CPU\n",
      "Optimizing NNI: done in 0.0332621 secs using 701.4% CPU\n",
      "Optimizing NNI: done in 0.0250338 secs using 499.3% CPU\n",
      "Optimizing NNI: done in 0.0235477 secs using 737% CPU\n",
      "Optimizing NNI: done in 0.040418 secs using 595% CPU\n",
      "Optimizing NNI: done in 0.0442834 secs using 528.8% CPU\n",
      "Optimizing NNI: done in 0.0440383 secs using 554.1% CPU\n",
      "Optimizing NNI: done in 0.0340985 secs using 686.5% CPU\n",
      "Optimizing NNI: done in 0.0500158 secs using 600.1% CPU\n",
      "Optimizing NNI: done in 0.0369221 secs using 505.7% CPU\n",
      "Iteration 20 / LogL: -10389.637 / Time: 0h:1m:21s\n",
      "Finish initializing candidate tree set (2)\n",
      "Current best tree score: -10389.617 / CPU time: 1.080\n",
      "Number of iterations: 20\n",
      "--------------------------------------------------------------------\n",
      "|               OPTIMIZING CANDIDATE TREE SET                      |\n",
      "--------------------------------------------------------------------\n",
      "Optimizing NNI: done in 0.030692 secs using 587.3% CPU\n",
      "Optimizing NNI: done in 0.0247286 secs using 588.2% CPU\n",
      "Optimizing NNI: done in 0.0396984 secs using 537% CPU\n",
      "Optimizing NNI: done in 0.0409178 secs using 588.8% CPU\n",
      "Optimizing NNI: done in 0.0275967 secs using 544% CPU\n",
      "Optimizing NNI: done in 0.0225844 secs using 590.3% CPU\n",
      "Optimizing NNI: done in 0.0195624 secs using 481.3% CPU\n",
      "Optimizing NNI: done in 0.0147753 secs using 461.1% CPU\n",
      "Optimizing NNI: done in 0.0250821 secs using 522.8% CPU\n",
      "Optimizing NNI: done in 0.0107535 secs using 168.3% CPU\n",
      "Iteration 30 / LogL: -10389.664 / Time: 0h:1m:21s (0h:3m:19s left)\n",
      "Optimizing NNI: done in 0.0172636 secs using 553.7% CPU\n",
      "Optimizing NNI: done in 0.0292747 secs using 507.3% CPU\n",
      "Optimizing NNI: done in 0.0304377 secs using 589.9% CPU\n",
      "Optimizing NNI: done in 0.0266515 secs using 562% CPU\n",
      "Optimizing NNI: done in 0.016985 secs using 492.9% CPU\n",
      "Optimizing NNI: done in 0.0340929 secs using 512.5% CPU\n",
      "Optimizing NNI: done in 0.0516553 secs using 576.6% CPU\n",
      "Optimizing NNI: done in 0.023005 secs using 591.5% CPU\n",
      "Optimizing NNI: done in 0.0315618 secs using 494.8% CPU\n",
      "Optimizing NNI: done in 0.064815 secs using 552.2% CPU\n",
      "Iteration 40 / LogL: -10389.664 / Time: 0h:1m:22s (0h:2m:8s left)\n",
      "Optimizing NNI: done in 0.0509962 secs using 563.6% CPU\n",
      "Optimizing NNI: done in 0.0300167 secs using 455.7% CPU\n",
      "Optimizing NNI: done in 0.0312966 secs using 525.2% CPU\n",
      "Optimizing NNI: done in 0.0252618 secs using 490.7% CPU\n",
      "Optimizing NNI: done in 0.0420521 secs using 568.6% CPU\n",
      "Optimizing NNI: done in 0.031893 secs using 456% CPU\n",
      "Optimizing NNI: done in 0.0321226 secs using 506.6% CPU\n",
      "Optimizing NNI: done in 0.0260815 secs using 468.5% CPU\n",
      "Optimizing NNI: done in 0.0547848 secs using 522.8% CPU\n",
      "Optimizing NNI: done in 0.0392339 secs using 594.4% CPU\n",
      "Iteration 50 / LogL: -10389.723 / Time: 0h:1m:22s (0h:1m:25s left)\n",
      "Log-likelihood cutoff on original alignment: -10425.198\n",
      "Optimizing NNI: done in 0.0381085 secs using 508.9% CPU\n",
      "Optimizing NNI: done in 0.050705 secs using 593.1% CPU\n",
      "Optimizing NNI: done in 0.0363504 secs using 549.9% CPU\n",
      "Optimizing NNI: done in 0.0336951 secs using 594.4% CPU\n",
      "Optimizing NNI: done in 0.0378113 secs using 511.5% CPU\n",
      "Optimizing NNI: done in 0.0524046 secs using 553.9% CPU\n",
      "Optimizing NNI: done in 0.0312668 secs using 578.2% CPU\n",
      "Optimizing NNI: done in 0.0318593 secs using 469.4% CPU\n",
      "Optimizing NNI: done in 0.0338686 secs using 482.9% CPU\n",
      "Optimizing NNI: done in 0.0553053 secs using 584.8% CPU\n",
      "Iteration 60 / LogL: -10389.867 / Time: 0h:1m:22s (0h:0m:57s left)\n",
      "Optimizing NNI: done in 0.0529618 secs using 572.1% CPU\n",
      "Optimizing NNI: done in 0.0324009 secs using 591.4% CPU\n",
      "Optimizing NNI: done in 0.0248627 secs using 575.4% CPU\n",
      "Optimizing NNI: done in 0.0130809 secs using 250.3% CPU\n",
      "Optimizing NNI: done in 0.0149045 secs using 292.9% CPU\n",
      "Optimizing NNI: done in 0.0336064 secs using 486.8% CPU\n",
      "Optimizing NNI: done in 0.0502922 secs using 555% CPU\n",
      "Optimizing NNI: done in 0.0348761 secs using 564.2% CPU\n",
      "Optimizing NNI: done in 0.0276789 secs using 508.1% CPU\n",
      "Optimizing NNI: done in 0.0287189 secs using 448.1% CPU\n",
      "Iteration 70 / LogL: -10389.640 / Time: 0h:1m:23s (0h:0m:37s left)\n",
      "Optimizing NNI: done in 0.0205042 secs using 493.4% CPU\n",
      "Optimizing NNI: done in 0.0180073 secs using 399.8% CPU\n",
      "Optimizing NNI: done in 0.0207276 secs using 533.1% CPU\n",
      "Optimizing NNI: done in 0.0246232 secs using 557% CPU\n",
      "Optimizing NNI: done in 0.023434 secs using 592.7% CPU\n",
      "Optimizing NNI: done in 0.0516542 secs using 530.9% CPU\n",
      "Optimizing NNI: done in 0.0329823 secs using 480% CPU\n",
      "Optimizing NNI: done in 0.0298615 secs using 584.9% CPU\n",
      "Optimizing NNI: done in 0.0404917 secs using 494.9% CPU\n",
      "Optimizing NNI: done in 0.0201043 secs using 559.6% CPU\n",
      "Iteration 80 / LogL: -10389.677 / Time: 0h:1m:23s (0h:0m:22s left)\n",
      "Optimizing NNI: done in 0.0146923 secs using 535.2% CPU\n",
      "Optimizing NNI: done in 0.0280986 secs using 500% CPU\n",
      "Optimizing NNI: done in 0.0157003 secs using 399.2% CPU\n",
      "Optimizing NNI: done in 0.0310665 secs using 555.9% CPU\n",
      "Optimizing NNI: done in 0.0610004 secs using 529.1% CPU\n",
      "Optimizing NNI: done in 0.0308294 secs using 528.8% CPU\n",
      "Optimizing NNI: done in 0.0302587 secs using 444% CPU\n",
      "Optimizing NNI: done in 0.0186636 secs using 520.5% CPU\n",
      "Optimizing NNI: done in 0.0338192 secs using 549% CPU\n",
      "Optimizing NNI: done in 0.0156912 secs using 528.3% CPU\n",
      "Iteration 90 / LogL: -10389.736 / Time: 0h:1m:23s (0h:0m:10s left)\n",
      "Optimizing NNI: done in 0.0294548 secs using 484.4% CPU\n",
      "Optimizing NNI: done in 0.0377515 secs using 475.6% CPU\n",
      "Optimizing NNI: done in 0.0326691 secs using 463.3% CPU\n",
      "Optimizing NNI: done in 0.0338129 secs using 517.1% CPU\n",
      "Optimizing NNI: done in 0.021074 secs using 562% CPU\n",
      "Optimizing NNI: done in 0.0590111 secs using 523.6% CPU\n",
      "Optimizing NNI: done in 0.0212452 secs using 478.9% CPU\n",
      "Optimizing NNI: done in 0.0218328 secs using 557.3% CPU\n",
      "Optimizing NNI: done in 0.0257609 secs using 552.1% CPU\n",
      "Optimizing NNI: done in 0.0211287 secs using 401.8% CPU\n",
      "Iteration 100 / LogL: -10389.930 / Time: 0h:1m:24s (0h:0m:0s left)\n",
      "Log-likelihood cutoff on original alignment: -10425.198\n",
      "NOTE: Bootstrap correlation coefficient of split occurrence frequencies: 1.000\n",
      "Optimizing NNI: done in 0.0330197 secs using 553.5% CPU\n",
      "Optimizing NNI: done in 0.0291108 secs using 479.9% CPU\n",
      "TREE SEARCH COMPLETED AFTER 102 ITERATIONS / Time: 0h:1m:24s\n",
      "\n",
      "--------------------------------------------------------------------\n",
      "|                    FINALIZING TREE SEARCH                        |\n",
      "--------------------------------------------------------------------\n",
      "Performs final model parameters optimization\n",
      "Estimate model parameters (epsilon = 0.010)\n",
      "1. Initial log-likelihood: -10389.617\n",
      "Optimal log-likelihood: -10389.617\n",
      "Parameters optimization took 1 rounds (0.003 sec)\n",
      "BEST SCORE FOUND : -10389.617\n",
      "Creating bootstrap support values...\n",
      "Split supports printed to NEXUS file phylogenomics/iqtree/SPs/SPs.splits.nex\n",
      "Total tree length: 8.012\n",
      "\n",
      "Total number of iterations: 102\n",
      "CPU time used for tree search: 22.217 sec (0h:0m:22s)\n",
      "Wall-clock time used for tree search: 4.165 sec (0h:0m:4s)\n",
      "Total CPU time used: 277.402 sec (0h:4m:37s)\n",
      "Total wall-clock time used: 84.504 sec (0h:1m:24s)\n",
      "\n",
      "Computing bootstrap consensus tree...\n",
      "Reading input file phylogenomics/iqtree/SPs/SPs.splits.nex...\n",
      "14 taxa and 77 splits.\n",
      "Consensus tree written to phylogenomics/iqtree/SPs/SPs.contree\n",
      "Reading input trees file phylogenomics/iqtree/SPs/SPs.contree\n",
      "Log-likelihood of consensus tree: -10389.659\n",
      "\n",
      "Analysis results written to: \n",
      "  IQ-TREE report:                phylogenomics/iqtree/SPs/SPs.iqtree\n",
      "  Maximum-likelihood tree:       phylogenomics/iqtree/SPs/SPs.treefile\n",
      "  Likelihood distances:          phylogenomics/iqtree/SPs/SPs.mldist\n",
      "\n",
      "Ultrafast bootstrap approximation results written to:\n",
      "  Split support values:          phylogenomics/iqtree/SPs/SPs.splits.nex\n",
      "  Consensus tree:                phylogenomics/iqtree/SPs/SPs.contree\n",
      "  Screen log file:               phylogenomics/iqtree/SPs/SPs.log\n",
      "\n",
      "Date and Time: Mon Dec 23 12:34:58 2024\n"
     ]
    }
   ],
   "source": [
    "! iqtree2 -s phylogenomics/trimmed_MSAs/SPs/ -m VT+I+R2 --prefix phylogenomics/iqtree/SPs/SPs -bb 1000 -T AUTO"
   ]
  },
  {
   "cell_type": "code",
   "execution_count": 92,
   "metadata": {},
   "outputs": [
    {
     "name": "stdout",
     "output_type": "stream",
     "text": [
      "IQ-TREE multicore version 2.2.6 COVID-edition for Linux 64-bit built Dec  8 2023\n",
      "Developed by Bui Quang Minh, James Barbetti, Nguyen Lam Tung,\n",
      "Olga Chernomor, Heiko Schmidt, Dominik Schrempf, Michael Woodhams, Ly Trong Nhan.\n",
      "\n",
      "Host:    IliaPC (AVX2, FMA3, 15 GB RAM)\n",
      "Command: iqtree2 -s phylogenomics/trimmed_MSAs/All/ -m Q.pfam+F+I+G4 --prefix phylogenomics/iqtree/All/All -bb 1000 -T AUTO\n",
      "Seed:    488601 (Using SPRNG - Scalable Parallel Random Number Generator)\n",
      "Time:    Mon Dec 23 13:35:16 2024\n",
      "Kernel:  AVX+FMA - auto-detect threads (24 CPU cores detected)\n",
      "\n",
      "Reading 2 alignment files in directory phylogenomics/trimmed_MSAs/All/\n",
      "Reading alignment file phylogenomics/trimmed_MSAs/All/trimmed_family1.seq.aln ... Fasta format detected\n",
      "Reading fasta file: done in 0.0010668 secs using 34.96% CPU\n",
      "Alignment most likely contains protein sequences\n",
      "Constructing alignment: done in 0.0008059 secs using 1244% CPU\n",
      "Alignment has 22 sequences with 431 columns, 411 distinct patterns\n",
      "351 parsimony-informative, 39 singleton sites, 41 constant sites\n",
      "               Gap/Ambiguity  Composition  p-value\n",
      "Analyzing sequences: done in 0.0007778 secs using 99.38% CPU\n",
      "   1  Densovirus_D1    1.39%    passed    100.00%\n",
      "   2  Densovirus_D2    1.39%    passed    100.00%\n",
      "   3  Densovirus_D3    1.39%    passed    100.00%\n",
      "   4  Densovirus_D4    1.39%    passed    100.00%\n",
      "   5  Densovirus_D5    1.39%    passed    100.00%\n",
      "   6  Densovirus_P1    1.39%    passed    100.00%\n",
      "   7  Densovirus_P2    1.39%    passed    100.00%\n",
      "   8  Densovirus_P3    1.39%    passed    100.00%\n",
      "   9  Densovirus_P4    1.39%    passed    100.00%\n",
      "  10  Densovirus_P5    1.39%    passed    100.00%\n",
      "  11  MW628494.1       1.39%    passed    100.00%\n",
      "  12  NC_000936.1      1.39%    passed     88.12%\n",
      "  13  NC_004289.1      0.46%    passed     70.88%\n",
      "  14  NC_004290.1      1.16%    passed     33.78%\n",
      "  15  NC_005040.1      9.98%    passed     23.60%\n",
      "  16  NC_012685.1      2.09%    passed     14.82%\n",
      "  17  NC_022748.1      4.64%    passed     87.87%\n",
      "  18  NC_031450.1      1.39%    passed    100.00%\n",
      "  19  NC_077065.1      1.39%    passed     74.86%\n",
      "  20  NC_077079.1      1.16%    passed     68.33%\n",
      "  21  NC_077080.1      1.16%    passed     98.98%\n",
      "  22  NC_077082.1      1.16%    passed     92.15%\n",
      "****  TOTAL            1.88%  0 sequences failed composition chi2 test (p-value<5%; df=19)\n",
      "Reading alignment file phylogenomics/trimmed_MSAs/All/trimmed_family2.seq.aln ... Fasta format detected\n",
      "Reading fasta file: done in 0.0011552 secs using 41.29% CPU\n",
      "Alignment most likely contains protein sequences\n",
      "Constructing alignment: done in 0.0010956 secs using 87.08% CPU\n",
      "Alignment has 22 sequences with 444 columns, 434 distinct patterns\n",
      "360 parsimony-informative, 56 singleton sites, 27 constant sites\n",
      "               Gap/Ambiguity  Composition  p-value\n",
      "Analyzing sequences: done in 0.0022634 secs using 312.3% CPU\n",
      "   1  Densovirus_D1    0.68%    passed     96.36%\n",
      "   2  Densovirus_D2    0.68%    passed     96.36%\n",
      "   3  Densovirus_D3    0.68%    passed     96.36%\n",
      "   4  Densovirus_D4    0.68%    passed     96.36%\n",
      "   5  Densovirus_D5    0.68%    passed     96.36%\n",
      "   6  Densovirus_P1    0.68%    passed     96.36%\n",
      "   7  Densovirus_P2    0.68%    passed     96.36%\n",
      "   8  Densovirus_P3    0.68%    passed     96.36%\n",
      "   9  Densovirus_P4    0.68%    passed     96.36%\n",
      "  10  Densovirus_P5    0.68%    passed     96.36%\n",
      "  11  MW628494.1       0.68%    passed     97.96%\n",
      "  12  NC_000936.1     10.59%    failed      1.08%\n",
      "  13  NC_004289.1      2.48%    passed     61.38%\n",
      "  14  NC_004290.1      1.13%    failed      0.01%\n",
      "  15  NC_005040.1      6.76%    failed      4.71%\n",
      "  16  NC_012685.1      4.28%    failed      0.05%\n",
      "  17  NC_022748.1      5.63%    passed     19.70%\n",
      "  18  NC_031450.1      0.68%    passed     97.15%\n",
      "  19  NC_077065.1     11.26%    passed     24.23%\n",
      "  20  NC_077079.1      0.68%    passed     38.87%\n",
      "  21  NC_077080.1      1.13%    failed      1.02%\n",
      "  22  NC_077082.1      3.60%    passed     46.34%\n",
      "****  TOTAL            2.53%  5 sequences failed composition chi2 test (p-value<5%; df=19)\n",
      "NOTE: Densovirus_D3 is identical to Densovirus_D1 but kept for subsequent analysis\n",
      "Checking for duplicate sequences: done in 0.0049558 secs using 1498% CPU\n",
      "Identifying sites to remove: done in 0.0006159 secs using 84.59% CPU\n",
      "NOTE: 7 identical sequences (see below) will be ignored for subsequent analysis\n",
      "NOTE: Densovirus_D4 (identical to Densovirus_D1) is ignored but added at the end\n",
      "NOTE: Densovirus_D5 (identical to Densovirus_D1) is ignored but added at the end\n",
      "NOTE: Densovirus_P1 (identical to Densovirus_D1) is ignored but added at the end\n",
      "NOTE: Densovirus_P2 (identical to Densovirus_D1) is ignored but added at the end\n",
      "NOTE: Densovirus_P3 (identical to Densovirus_D1) is ignored but added at the end\n",
      "NOTE: Densovirus_P4 (identical to Densovirus_D1) is ignored but added at the end\n",
      "NOTE: Densovirus_P5 (identical to Densovirus_D1) is ignored but added at the end\n",
      "Alignment was printed to phylogenomics/iqtree/All/All.uniqueseq.phy\n",
      "\n",
      "For your convenience alignment with unique sequences printed to phylogenomics/iqtree/All/All.uniqueseq.phy\n",
      "\n",
      "Create initial parsimony tree by phylogenetic likelihood library (PLL)... 0.004 seconds\n",
      "Generating 1000 samples for ultrafast bootstrap (seed: 488601)...\n",
      "WARNING: Default model LG may be under-fitting. Use option '-m TEST' to determine the best-fit model.\n",
      "\n",
      "NOTE: 5 MB RAM (0 GB) is required!\n",
      "Measuring multi-threading efficiency up to 24 CPU cores\n",
      "Increase to 10 rounds for branch lengths\n",
      "322 trees examined\n",
      "Threads: 1 / Time: 24.040 sec / Speedup: 1.000 / Efficiency: 100% / LogL: -22109\n",
      "Threads: 2 / Time: 13.204 sec / Speedup: 1.821 / Efficiency: 91% / LogL: -22109\n",
      "Threads: 3 / Time: 10.740 sec / Speedup: 2.238 / Efficiency: 75% / LogL: -22109\n",
      "Threads: 4 / Time: 8.483 sec / Speedup: 2.834 / Efficiency: 71% / LogL: -22109\n",
      "Threads: 5 / Time: 6.803 sec / Speedup: 3.534 / Efficiency: 71% / LogL: -22109\n",
      "Threads: 6 / Time: 7.063 sec / Speedup: 3.404 / Efficiency: 57% / LogL: -22109\n",
      "Threads: 7 / Time: 5.943 sec / Speedup: 4.045 / Efficiency: 58% / LogL: -22109\n",
      "Threads: 8 / Time: 5.905 sec / Speedup: 4.071 / Efficiency: 51% / LogL: -22109\n",
      "Threads: 9 / Time: 5.823 sec / Speedup: 4.129 / Efficiency: 46% / LogL: -22109\n",
      "Determining AUTO threadcount: done in 88.0091 secs using 378.3% CPU\n",
      "BEST NUMBER OF THREADS: 7\n",
      "\n",
      "Estimate model parameters (epsilon = 0.100)\n",
      "1. Initial log-likelihood: -20005.366\n",
      "Optimal log-likelihood: -19835.625\n",
      "Parameters optimization took 1 rounds (0.010 sec)\n",
      "Wrote distance file to... \n",
      "Computing ML distances based on estimated model parameters...\n",
      "Calculating distance matrix: done in 0.0014343 secs using 726.5% CPU\n",
      "Computing ML distances took 0.002314 sec (of wall-clock time) 0.010914 sec (of CPU time)\n",
      "Setting up auxiliary I and S matrices: done in 0.001257 secs using 223.8% CPU\n",
      "Constructing RapidNJ tree: done in 0.0223639 secs using 187.9% CPU\n",
      "Computing RapidNJ tree took 0.024385 sec (of wall-clock time) 0.045296 sec (of CPU time)\n",
      "Log-likelihood of RapidNJ tree: -19836.374\n",
      "--------------------------------------------------------------------\n",
      "|             INITIALIZING CANDIDATE TREE SET                      |\n",
      "--------------------------------------------------------------------\n",
      "Generating 98 parsimony trees... 0.314 second\n",
      "Computing log-likelihood of 98 initial trees ... 0.322 seconds\n",
      "Current best score: -19835.625\n",
      "\n",
      "Do NNI search on 20 best initial trees\n",
      "Optimizing NNI: done in 0.0353705 secs using 778.5% CPU\n",
      "Estimate model parameters (epsilon = 0.100)\n",
      "BETTER TREE FOUND at iteration 1: -19818.606\n",
      "Optimizing NNI: done in 0.0282214 secs using 737.8% CPU\n",
      "Optimizing NNI: done in 0.0556323 secs using 747.1% CPU\n",
      "Optimizing NNI: done in 0.0378745 secs using 733.7% CPU\n",
      "Optimizing NNI: done in 0.0413088 secs using 680.9% CPU\n",
      "Optimizing NNI: done in 0.0382426 secs using 727.6% CPU\n",
      "Optimizing NNI: done in 0.0433563 secs using 768.8% CPU\n",
      "Optimizing NNI: done in 0.0377423 secs using 576.9% CPU\n",
      "Optimizing NNI: done in 0.0361235 secs using 570.7% CPU\n",
      "Optimizing NNI: done in 0.0420335 secs using 671% CPU\n",
      "Iteration 10 / LogL: -19818.617 / Time: 0h:1m:29s\n",
      "Optimizing NNI: done in 0.0338364 secs using 631.9% CPU\n",
      "Optimizing NNI: done in 0.0418568 secs using 673.4% CPU\n",
      "Optimizing NNI: done in 0.0422384 secs using 810.2% CPU\n",
      "Optimizing NNI: done in 0.0407669 secs using 688.7% CPU\n",
      "Optimizing NNI: done in 0.0452896 secs using 629.9% CPU\n",
      "Optimizing NNI: done in 0.0450022 secs using 633.3% CPU\n",
      "Optimizing NNI: done in 0.0390452 secs using 689% CPU\n",
      "Optimizing NNI: done in 0.0497262 secs using 703.3% CPU\n",
      "Optimizing NNI: done in 0.0499034 secs using 701.2% CPU\n",
      "Optimizing NNI: done in 0.0470604 secs using 737.4% CPU\n",
      "Iteration 20 / LogL: -19818.611 / Time: 0h:1m:29s\n",
      "Finish initializing candidate tree set (1)\n",
      "Current best tree score: -19818.606 / CPU time: 1.507\n",
      "Number of iterations: 20\n",
      "--------------------------------------------------------------------\n",
      "|               OPTIMIZING CANDIDATE TREE SET                      |\n",
      "--------------------------------------------------------------------\n",
      "Optimizing NNI: done in 0.0655225 secs using 673.6% CPU\n",
      "Optimizing NNI: done in 0.0223591 secs using 678% CPU\n",
      "Optimizing NNI: done in 0.0309064 secs using 565.2% CPU\n",
      "Optimizing NNI: done in 0.0326334 secs using 604.6% CPU\n",
      "Optimizing NNI: done in 0.0537603 secs using 653.2% CPU\n",
      "Optimizing NNI: done in 0.0401287 secs using 673.3% CPU\n",
      "Optimizing NNI: done in 0.046539 secs using 672.4% CPU\n",
      "Optimizing NNI: done in 0.0467606 secs using 645.6% CPU\n",
      "Optimizing NNI: done in 0.0310847 secs using 647.9% CPU\n",
      "Optimizing NNI: done in 0.0457021 secs using 676.7% CPU\n",
      "Estimate model parameters (epsilon = 0.100)\n",
      "UPDATE BEST LOG-LIKELIHOOD: -19818.493\n",
      "Iteration 30 / LogL: -19818.493 / Time: 0h:1m:30s (0h:3m:40s left)\n",
      "Optimizing NNI: done in 0.0417611 secs using 583.7% CPU\n",
      "Optimizing NNI: done in 0.0290911 secs using 648.8% CPU\n",
      "Optimizing NNI: done in 0.030717 secs using 538.3% CPU\n",
      "Optimizing NNI: done in 0.0510731 secs using 628.1% CPU\n",
      "Optimizing NNI: done in 0.0432801 secs using 647.6% CPU\n",
      "Optimizing NNI: done in 0.0438336 secs using 660.9% CPU\n",
      "Optimizing NNI: done in 0.0515819 secs using 702.5% CPU\n",
      "Optimizing NNI: done in 0.0500031 secs using 640.4% CPU\n",
      "UPDATE BEST LOG-LIKELIHOOD: -19818.493\n",
      "Optimizing NNI: done in 0.0547009 secs using 604% CPU\n",
      "Optimizing NNI: done in 0.0651184 secs using 638.9% CPU\n",
      "Iteration 40 / LogL: -19818.615 / Time: 0h:1m:30s (0h:2m:21s left)\n",
      "Optimizing NNI: done in 0.0466125 secs using 584.8% CPU\n",
      "Optimizing NNI: done in 0.0200331 secs using 576.6% CPU\n",
      "Optimizing NNI: done in 0.0238356 secs using 621.1% CPU\n",
      "Optimizing NNI: done in 0.0350262 secs using 641.2% CPU\n",
      "Optimizing NNI: done in 0.0332966 secs using 666.1% CPU\n",
      "Optimizing NNI: done in 0.0526156 secs using 685.9% CPU\n",
      "Optimizing NNI: done in 0.0476089 secs using 669.5% CPU\n",
      "Optimizing NNI: done in 0.0298175 secs using 517.8% CPU\n",
      "Optimizing NNI: done in 0.0321708 secs using 611.1% CPU\n",
      "Optimizing NNI: done in 0.0356078 secs using 605.3% CPU\n",
      "Iteration 50 / LogL: -19818.609 / Time: 0h:1m:31s (0h:1m:34s left)\n",
      "Log-likelihood cutoff on original alignment: -19859.347\n",
      "Optimizing NNI: done in 0.0514275 secs using 633.3% CPU\n",
      "Optimizing NNI: done in 0.037493 secs using 543.1% CPU\n",
      "Optimizing NNI: done in 0.0703286 secs using 661.1% CPU\n",
      "Optimizing NNI: done in 0.0430369 secs using 629.8% CPU\n",
      "Optimizing NNI: done in 0.0303043 secs using 522% CPU\n",
      "Optimizing NNI: done in 0.0331476 secs using 555.4% CPU\n",
      "Optimizing NNI: done in 0.0217455 secs using 560.4% CPU\n",
      "Optimizing NNI: done in 0.0449509 secs using 607.1% CPU\n",
      "Optimizing NNI: done in 0.0365419 secs using 578.7% CPU\n",
      "Optimizing NNI: done in 0.0453396 secs using 592.7% CPU\n",
      "Iteration 60 / LogL: -19818.786 / Time: 0h:1m:31s (0h:1m:3s left)\n",
      "Optimizing NNI: done in 0.034027 secs using 560.9% CPU\n",
      "Optimizing NNI: done in 0.0534824 secs using 625.4% CPU\n",
      "Optimizing NNI: done in 0.0467124 secs using 587.5% CPU\n",
      "Optimizing NNI: done in 0.0282998 secs using 650.1% CPU\n",
      "Optimizing NNI: done in 0.0485025 secs using 594.7% CPU\n",
      "Optimizing NNI: done in 0.0475297 secs using 683.3% CPU\n",
      "Optimizing NNI: done in 0.0710971 secs using 620.7% CPU\n",
      "Optimizing NNI: done in 0.0560203 secs using 706% CPU\n",
      "Optimizing NNI: done in 0.0671181 secs using 676.1% CPU\n",
      "Optimizing NNI: done in 0.0532145 secs using 681.8% CPU\n",
      "Iteration 70 / LogL: -20198.617 / Time: 0h:1m:32s (0h:0m:41s left)\n",
      "Optimizing NNI: done in 0.0327147 secs using 698.8% CPU\n",
      "Optimizing NNI: done in 0.0338677 secs using 535.8% CPU\n",
      "Optimizing NNI: done in 0.0450229 secs using 705.9% CPU\n",
      "Optimizing NNI: done in 0.0237754 secs using 483.6% CPU\n",
      "Optimizing NNI: done in 0.0408248 secs using 614.9% CPU\n",
      "Optimizing NNI: done in 0.0400798 secs using 672.7% CPU\n",
      "Optimizing NNI: done in 0.0364832 secs using 614.2% CPU\n",
      "Optimizing NNI: done in 0.030761 secs using 671.3% CPU\n",
      "Optimizing NNI: done in 0.0464486 secs using 646.6% CPU\n",
      "Optimizing NNI: done in 0.0451558 secs using 629.1% CPU\n",
      "Iteration 80 / LogL: -19818.627 / Time: 0h:1m:32s (0h:0m:24s left)\n",
      "Optimizing NNI: done in 0.0384702 secs using 693.2% CPU\n",
      "Optimizing NNI: done in 0.0586422 secs using 653.9% CPU\n",
      "Optimizing NNI: done in 0.0572796 secs using 623.8% CPU\n",
      "Optimizing NNI: done in 0.0487784 secs using 681.6% CPU\n",
      "Optimizing NNI: done in 0.0290066 secs using 563.1% CPU\n",
      "Optimizing NNI: done in 0.0476703 secs using 702.6% CPU\n",
      "Optimizing NNI: done in 0.031825 secs using 562.3% CPU\n",
      "Optimizing NNI: done in 0.0427001 secs using 624.8% CPU\n",
      "Optimizing NNI: done in 0.0457054 secs using 615.5% CPU\n",
      "Optimizing NNI: done in 0.0389198 secs using 687.5% CPU\n",
      "Iteration 90 / LogL: -19845.169 / Time: 0h:1m:33s (0h:0m:11s left)\n",
      "Optimizing NNI: done in 0.078548 secs using 661.8% CPU\n",
      "Optimizing NNI: done in 0.0418669 secs using 667.4% CPU\n",
      "Optimizing NNI: done in 0.0509635 secs using 598.1% CPU\n",
      "Optimizing NNI: done in 0.0309386 secs using 576.4% CPU\n",
      "Optimizing NNI: done in 0.0512798 secs using 658.6% CPU\n",
      "Optimizing NNI: done in 0.0575717 secs using 621.1% CPU\n",
      "Optimizing NNI: done in 0.0550484 secs using 617% CPU\n",
      "Optimizing NNI: done in 0.0480074 secs using 687.6% CPU\n",
      "Optimizing NNI: done in 0.0421853 secs using 579% CPU\n",
      "Optimizing NNI: done in 0.0293391 secs using 634% CPU\n",
      "Iteration 100 / LogL: -19818.854 / Time: 0h:1m:33s (0h:0m:0s left)\n",
      "Log-likelihood cutoff on original alignment: -19859.347\n",
      "NOTE: Bootstrap correlation coefficient of split occurrence frequencies: 0.992\n",
      "Optimizing NNI: done in 0.0533982 secs using 684.4% CPU\n",
      "Optimizing NNI: done in 0.0340804 secs using 691.8% CPU\n",
      "TREE SEARCH COMPLETED AFTER 102 ITERATIONS / Time: 0h:1m:33s\n",
      "\n",
      "--------------------------------------------------------------------\n",
      "|                    FINALIZING TREE SEARCH                        |\n",
      "--------------------------------------------------------------------\n",
      "Performs final model parameters optimization\n",
      "Estimate model parameters (epsilon = 0.010)\n",
      "1. Initial log-likelihood: -19818.493\n",
      "Optimal log-likelihood: -19818.493\n",
      "Parameters optimization took 1 rounds (0.004 sec)\n",
      "BEST SCORE FOUND : -19818.493\n",
      "Creating bootstrap support values...\n",
      "Split supports printed to NEXUS file phylogenomics/iqtree/All/All.splits.nex\n",
      "Total tree length: 7.399\n",
      "\n",
      "Total number of iterations: 102\n",
      "CPU time used for tree search: 35.079 sec (0h:0m:35s)\n",
      "Wall-clock time used for tree search: 5.588 sec (0h:0m:5s)\n",
      "Total CPU time used: 368.633 sec (0h:6m:8s)\n",
      "Total wall-clock time used: 93.828 sec (0h:1m:33s)\n",
      "\n",
      "Computing bootstrap consensus tree...\n",
      "Reading input file phylogenomics/iqtree/All/All.splits.nex...\n",
      "15 taxa and 63 splits.\n",
      "Consensus tree written to phylogenomics/iqtree/All/All.contree\n",
      "Reading input trees file phylogenomics/iqtree/All/All.contree\n",
      "Log-likelihood of consensus tree: -19818.609\n",
      "\n",
      "Analysis results written to: \n",
      "  IQ-TREE report:                phylogenomics/iqtree/All/All.iqtree\n",
      "  Maximum-likelihood tree:       phylogenomics/iqtree/All/All.treefile\n",
      "  Likelihood distances:          phylogenomics/iqtree/All/All.mldist\n",
      "\n",
      "Ultrafast bootstrap approximation results written to:\n",
      "  Split support values:          phylogenomics/iqtree/All/All.splits.nex\n",
      "  Consensus tree:                phylogenomics/iqtree/All/All.contree\n",
      "  Screen log file:               phylogenomics/iqtree/All/All.log\n",
      "\n",
      "Date and Time: Mon Dec 23 13:36:50 2024\n"
     ]
    }
   ],
   "source": [
    "! iqtree2 -s phylogenomics/trimmed_MSAs/All/ -m Q.pfam+F+I+G4 --prefix phylogenomics/iqtree/All/All -bb 1000 -T AUTO"
   ]
  },
  {
   "cell_type": "markdown",
   "metadata": {},
   "source": [
    "### **Part 6.9. Fetching metadata for further visualizing in `ggtree`**"
   ]
  },
  {
   "cell_type": "markdown",
   "metadata": {},
   "source": [
    "To make the perfect visualization of phylogenetic tree we must annotate the tree. For that we need metadata!"
   ]
  },
  {
   "cell_type": "markdown",
   "metadata": {},
   "source": [
    "Install `phyloki`"
   ]
  },
  {
   "cell_type": "code",
   "execution_count": null,
   "metadata": {},
   "outputs": [],
   "source": [
    "! wget https://raw.githubusercontent.com/iliapopov17/phyloki/main/phyloki.py"
   ]
  },
  {
   "cell_type": "markdown",
   "metadata": {},
   "source": [
    "Import `phyloki`"
   ]
  },
  {
   "cell_type": "code",
   "execution_count": 36,
   "metadata": {},
   "outputs": [],
   "source": [
    "from phyloki import *"
   ]
  },
  {
   "cell_type": "markdown",
   "metadata": {},
   "source": [
    "Create a directory to store metadata"
   ]
  },
  {
   "cell_type": "code",
   "execution_count": 37,
   "metadata": {},
   "outputs": [],
   "source": [
    "! mkdir phylogenomics/metadata/"
   ]
  },
  {
   "cell_type": "markdown",
   "metadata": {},
   "source": [
    "Fetch the 1st ver. of metadata"
   ]
  },
  {
   "cell_type": "code",
   "execution_count": 38,
   "metadata": {},
   "outputs": [
    {
     "name": "stdout",
     "output_type": "stream",
     "text": [
      "The request has been fulfilled.\n",
      "File saved to phylogenomics/metadata/raw_metadata.tsv\n"
     ]
    }
   ],
   "source": [
    "fetch_metadata('iljapopov17@gmail.com', 'phylogenomics/data/accession_numbers.txt', 'phylogenomics/metadata/raw_metadata.tsv')"
   ]
  },
  {
   "cell_type": "markdown",
   "metadata": {},
   "source": [
    "Using function below we will clean `Year` column to leave only year, without the full date"
   ]
  },
  {
   "cell_type": "code",
   "execution_count": 39,
   "metadata": {},
   "outputs": [],
   "source": [
    "def clean_year(input_file, output_file):\n",
    "    \"\"\"\n",
    "    Clean the 'Year' column in a metadata .tsv file to extract only the last 4 digits.\n",
    "\n",
    "    Args:\n",
    "        input_file (str): Path to the input .tsv file.\n",
    "        output_file (str): Path to save the cleaned .tsv file.\n",
    "    \"\"\"\n",
    "    # Load the .tsv file into a DataFrame\n",
    "    df = pd.read_csv(input_file, sep=\"\\t\")\n",
    "\n",
    "    # Extract the last 4 digits of the 'Year' column\n",
    "    df['Year'] = df['Year'].apply(lambda x: str(x)[-4:] if pd.notnull(x) else 'ND')\n",
    "\n",
    "    # Save the updated DataFrame to a new .tsv file\n",
    "    df.to_csv(output_file, sep=\"\\t\", index=False)\n",
    "\n",
    "    print(f\"The 'Year' column has been cleaned.\\nFile saved to {output_file}\")"
   ]
  },
  {
   "cell_type": "markdown",
   "metadata": {},
   "source": [
    "Run `clean_year()` function"
   ]
  },
  {
   "cell_type": "code",
   "execution_count": 40,
   "metadata": {},
   "outputs": [
    {
     "name": "stdout",
     "output_type": "stream",
     "text": [
      "The 'Year' column has been cleaned.\n",
      "File saved to phylogenomics/metadata/medium_metadata.tsv\n"
     ]
    }
   ],
   "source": [
    "clean_year('phylogenomics/metadata/raw_metadata.tsv', 'phylogenomics/metadata/medium_metadata.tsv')"
   ]
  },
  {
   "cell_type": "markdown",
   "metadata": {},
   "source": [
    "Some of the viruses has `ND` in `Host` column"
   ]
  },
  {
   "cell_type": "code",
   "execution_count": 41,
   "metadata": {},
   "outputs": [
    {
     "data": {
      "text/html": [
       "<div>\n",
       "<style scoped>\n",
       "    .dataframe tbody tr th:only-of-type {\n",
       "        vertical-align: middle;\n",
       "    }\n",
       "\n",
       "    .dataframe tbody tr th {\n",
       "        vertical-align: top;\n",
       "    }\n",
       "\n",
       "    .dataframe thead th {\n",
       "        text-align: right;\n",
       "    }\n",
       "</style>\n",
       "<table border=\"1\" class=\"dataframe\">\n",
       "  <thead>\n",
       "    <tr style=\"text-align: right;\">\n",
       "      <th></th>\n",
       "      <th>Name</th>\n",
       "      <th>Full.Name</th>\n",
       "      <th>Country</th>\n",
       "      <th>Year</th>\n",
       "      <th>Host</th>\n",
       "    </tr>\n",
       "  </thead>\n",
       "  <tbody>\n",
       "    <tr>\n",
       "      <th>13</th>\n",
       "      <td>NC_005040.1</td>\n",
       "      <td>NC_005040.1 Myzus persicae densovirus 1</td>\n",
       "      <td>ND</td>\n",
       "      <td>ND</td>\n",
       "      <td>ND</td>\n",
       "    </tr>\n",
       "    <tr>\n",
       "      <th>15</th>\n",
       "      <td>NC_038376.1</td>\n",
       "      <td>NC_038376.1 Bombyx mori densovirus Zhenjiang</td>\n",
       "      <td>China: Zhenjiang</td>\n",
       "      <td>ND</td>\n",
       "      <td>ND</td>\n",
       "    </tr>\n",
       "    <tr>\n",
       "      <th>16</th>\n",
       "      <td>NC_003346.1</td>\n",
       "      <td>NC_003346.1 Bombyx mori densovirus 1</td>\n",
       "      <td>ND</td>\n",
       "      <td>ND</td>\n",
       "      <td>ND</td>\n",
       "    </tr>\n",
       "    <tr>\n",
       "      <th>22</th>\n",
       "      <td>NC_020927.1</td>\n",
       "      <td>NC_020927.1 Bombyx mori densovirus 3</td>\n",
       "      <td>China</td>\n",
       "      <td>ND</td>\n",
       "      <td>ND</td>\n",
       "    </tr>\n",
       "    <tr>\n",
       "      <th>24</th>\n",
       "      <td>NC_018450.1</td>\n",
       "      <td>NC_018450.1 Papilio polyxenes densovirus</td>\n",
       "      <td>Canada</td>\n",
       "      <td>2011</td>\n",
       "      <td>ND</td>\n",
       "    </tr>\n",
       "    <tr>\n",
       "      <th>25</th>\n",
       "      <td>NC_018399.1</td>\n",
       "      <td>NC_018399.1 Sibine fusca densovirus</td>\n",
       "      <td>Colombia</td>\n",
       "      <td>1977</td>\n",
       "      <td>ND</td>\n",
       "    </tr>\n",
       "    <tr>\n",
       "      <th>27</th>\n",
       "      <td>NC_005041.2</td>\n",
       "      <td>NC_005041.2 Blattella germanica densovirus 1</td>\n",
       "      <td>ND</td>\n",
       "      <td>ND</td>\n",
       "      <td>ND</td>\n",
       "    </tr>\n",
       "    <tr>\n",
       "      <th>28</th>\n",
       "      <td>NC_015115.1</td>\n",
       "      <td>NC_015115.1 Mosquito densovirus BR/07</td>\n",
       "      <td>Brazil</td>\n",
       "      <td>ND</td>\n",
       "      <td>ND</td>\n",
       "    </tr>\n",
       "    <tr>\n",
       "      <th>33</th>\n",
       "      <td>NC_011317.1</td>\n",
       "      <td>NC_011317.1 Anopheles gambiae densovirus</td>\n",
       "      <td>ND</td>\n",
       "      <td>ND</td>\n",
       "      <td>ND</td>\n",
       "    </tr>\n",
       "    <tr>\n",
       "      <th>34</th>\n",
       "      <td>NC_006555.1</td>\n",
       "      <td>NC_006555.1 Dendrolimus punctatus densovirus</td>\n",
       "      <td>China</td>\n",
       "      <td>ND</td>\n",
       "      <td>ND</td>\n",
       "    </tr>\n",
       "    <tr>\n",
       "      <th>35</th>\n",
       "      <td>NC_005341.1</td>\n",
       "      <td>NC_005341.1 Mythimna loreyi densovirus</td>\n",
       "      <td>ND</td>\n",
       "      <td>ND</td>\n",
       "      <td>ND</td>\n",
       "    </tr>\n",
       "    <tr>\n",
       "      <th>36</th>\n",
       "      <td>NC_004290.1</td>\n",
       "      <td>NC_004290.1 Acheta domestica densovirus</td>\n",
       "      <td>ND</td>\n",
       "      <td>ND</td>\n",
       "      <td>ND</td>\n",
       "    </tr>\n",
       "    <tr>\n",
       "      <th>37</th>\n",
       "      <td>NC_004288.1</td>\n",
       "      <td>NC_004288.1 Casphalia extranea densovirus</td>\n",
       "      <td>ND</td>\n",
       "      <td>ND</td>\n",
       "      <td>ND</td>\n",
       "    </tr>\n",
       "    <tr>\n",
       "      <th>39</th>\n",
       "      <td>NC_004287.1</td>\n",
       "      <td>NC_004287.1 Bombyx mori densovirus 5</td>\n",
       "      <td>ND</td>\n",
       "      <td>ND</td>\n",
       "      <td>ND</td>\n",
       "    </tr>\n",
       "    <tr>\n",
       "      <th>40</th>\n",
       "      <td>NC_004286.1</td>\n",
       "      <td>NC_004286.1 Galleria mellonella densovirus</td>\n",
       "      <td>ND</td>\n",
       "      <td>ND</td>\n",
       "      <td>ND</td>\n",
       "    </tr>\n",
       "    <tr>\n",
       "      <th>41</th>\n",
       "      <td>NC_004284.1</td>\n",
       "      <td>NC_004284.1 Junonia coenia densovirus</td>\n",
       "      <td>ND</td>\n",
       "      <td>ND</td>\n",
       "      <td>ND</td>\n",
       "    </tr>\n",
       "    <tr>\n",
       "      <th>42</th>\n",
       "      <td>NC_000936.1</td>\n",
       "      <td>NC_000936.1 Periplaneta fuliginosa densovirus</td>\n",
       "      <td>ND</td>\n",
       "      <td>ND</td>\n",
       "      <td>ND</td>\n",
       "    </tr>\n",
       "  </tbody>\n",
       "</table>\n",
       "</div>"
      ],
      "text/plain": [
       "           Name                                      Full.Name  \\\n",
       "13  NC_005040.1        NC_005040.1 Myzus persicae densovirus 1   \n",
       "15  NC_038376.1   NC_038376.1 Bombyx mori densovirus Zhenjiang   \n",
       "16  NC_003346.1           NC_003346.1 Bombyx mori densovirus 1   \n",
       "22  NC_020927.1           NC_020927.1 Bombyx mori densovirus 3   \n",
       "24  NC_018450.1       NC_018450.1 Papilio polyxenes densovirus   \n",
       "25  NC_018399.1            NC_018399.1 Sibine fusca densovirus   \n",
       "27  NC_005041.2   NC_005041.2 Blattella germanica densovirus 1   \n",
       "28  NC_015115.1          NC_015115.1 Mosquito densovirus BR/07   \n",
       "33  NC_011317.1       NC_011317.1 Anopheles gambiae densovirus   \n",
       "34  NC_006555.1   NC_006555.1 Dendrolimus punctatus densovirus   \n",
       "35  NC_005341.1         NC_005341.1 Mythimna loreyi densovirus   \n",
       "36  NC_004290.1        NC_004290.1 Acheta domestica densovirus   \n",
       "37  NC_004288.1      NC_004288.1 Casphalia extranea densovirus   \n",
       "39  NC_004287.1           NC_004287.1 Bombyx mori densovirus 5   \n",
       "40  NC_004286.1     NC_004286.1 Galleria mellonella densovirus   \n",
       "41  NC_004284.1          NC_004284.1 Junonia coenia densovirus   \n",
       "42  NC_000936.1  NC_000936.1 Periplaneta fuliginosa densovirus   \n",
       "\n",
       "             Country  Year Host  \n",
       "13                ND    ND   ND  \n",
       "15  China: Zhenjiang    ND   ND  \n",
       "16                ND    ND   ND  \n",
       "22             China    ND   ND  \n",
       "24            Canada  2011   ND  \n",
       "25          Colombia  1977   ND  \n",
       "27                ND    ND   ND  \n",
       "28            Brazil    ND   ND  \n",
       "33                ND    ND   ND  \n",
       "34             China    ND   ND  \n",
       "35                ND    ND   ND  \n",
       "36                ND    ND   ND  \n",
       "37                ND    ND   ND  \n",
       "39                ND    ND   ND  \n",
       "40                ND    ND   ND  \n",
       "41                ND    ND   ND  \n",
       "42                ND    ND   ND  "
      ]
     },
     "execution_count": 41,
     "metadata": {},
     "output_type": "execute_result"
    }
   ],
   "source": [
    "df = pd.read_csv('phylogenomics/metadata/medium_metadata.tsv', sep='\\t')\n",
    "nd_in_host = df[df['Host'] == 'ND']\n",
    "\n",
    "nd_in_host"
   ]
  },
  {
   "cell_type": "markdown",
   "metadata": {},
   "source": [
    "Well.. 17 viruses from `RefSeq` has `ND` in `Host`... They are really poorly annotated. But we can predict their hosts based on their names. The host of `Periplaneta fuliginosa densovirus` must be `Periplaneta fuliginosa`. So let's do it"
   ]
  },
  {
   "cell_type": "markdown",
   "metadata": {},
   "source": [
    "Import `re`"
   ]
  },
  {
   "cell_type": "code",
   "execution_count": 42,
   "metadata": {},
   "outputs": [],
   "source": [
    "import re"
   ]
  },
  {
   "cell_type": "markdown",
   "metadata": {},
   "source": [
    "`extract_host()` function will assign host info based on virus name"
   ]
  },
  {
   "cell_type": "code",
   "execution_count": 43,
   "metadata": {},
   "outputs": [],
   "source": [
    "# Define a function to extract the desired host name from the Full.Name column\n",
    "def extract_host(full_name):\n",
    "    # Split the full name to remove the accession number and \"densovirus\" + everything after it\n",
    "    # This regex looks for the word 'densovirus' and removes it and any following characters.\n",
    "    return re.split(r'\\s+denso.*', full_name.split(' ', 1)[1])[0]"
   ]
  },
  {
   "cell_type": "markdown",
   "metadata": {},
   "source": [
    "Run `extract_host()`"
   ]
  },
  {
   "cell_type": "code",
   "execution_count": 44,
   "metadata": {},
   "outputs": [],
   "source": [
    "# Update the 'Host' column where it's 'ND' with the extracted host from 'Full.Name'\n",
    "df['Host'] = df.apply(lambda row: extract_host(row['Full.Name']) if row['Host'] == 'ND' else row['Host'], axis=1)\n",
    "\n",
    "# Save the file without the index column\n",
    "df.to_csv('phylogenomics/metadata/medium_well_metadata.tsv', sep='\\t', index=False)"
   ]
  },
  {
   "cell_type": "markdown",
   "metadata": {},
   "source": [
    "Write down the information about densoviruses from this study"
   ]
  },
  {
   "cell_type": "code",
   "execution_count": 45,
   "metadata": {},
   "outputs": [],
   "source": [
    "# Step 1: Read the existing TSV file into a DataFrame\n",
    "df_existing = pd.read_csv('phylogenomics/metadata/medium_well_metadata.tsv', sep='\\t')\n",
    "\n",
    "# Step 2: Create a DataFrame for the new rows\n",
    "new_rows = {\n",
    "    'Name': ['Densovirus_D1', 'Densovirus_D2', 'Densovirus_D3', 'Densovirus_D4', 'Densovirus_D5',\n",
    "             'Densovirus_P1', 'Densovirus_P2', 'Densovirus_P3', 'Densovirus_P4', 'Densovirus_P5'],\n",
    "    'Full.Name': ['Densovirinae sp. isolate RBHC_VM_1', 'Densovirinae sp. isolate RBHC_VM_2', 'Densovirinae sp. isolate RBHC_VM_3', \n",
    "                  'Densovirinae sp. isolate RBHC_VM_4', 'Densovirinae sp. isolate RBHC_VM_5', 'Densovirinae sp. isolate RBHC_NN_1', \n",
    "                  'Densovirinae sp. isolate RBHC_NN_2', 'Densovirinae sp. isolate RBHC_NN_3', 'Densovirinae sp. isolate RBHC_NN_4', \n",
    "                  'Densovirinae sp. isolate RBHC_NN_5'],\n",
    "    'Country': ['Russia'] * 10,\n",
    "    'Year': [2024] * 10,\n",
    "    'Host': ['Bat'] * 10\n",
    "}\n",
    "\n",
    "df_new = pd.DataFrame(new_rows)\n",
    "\n",
    "# Step 3: Concatenate the new DataFrame with the existing DataFrame\n",
    "df_combined = pd.concat([df_existing, df_new], ignore_index=True)\n",
    "\n",
    "# Step 4: Save the updated DataFrame to a new TSV file (optional)\n",
    "df_combined.to_csv('phylogenomics/metadata/well_done_metadata.tsv', sep='\\t', index=False)"
   ]
  },
  {
   "cell_type": "markdown",
   "metadata": {},
   "source": [
    "### **Part 6.10. Phylogenetic trees visualization**"
   ]
  },
  {
   "cell_type": "markdown",
   "metadata": {},
   "source": [
    "Please open `RStudio` and go through  `ggtree_journal.R` script<br>\n",
    "There are a lot of manual adjustments to the plots to make it executable"
   ]
  },
  {
   "cell_type": "markdown",
   "metadata": {},
   "source": [
    "### **Part 6.11. Prepare SP2 gene MSA for visualization**"
   ]
  },
  {
   "cell_type": "code",
   "execution_count": 46,
   "metadata": {},
   "outputs": [
    {
     "name": "stdout",
     "output_type": "stream",
     "text": [
      "Sequences renamed and saved to: phylogenomics/trimmed_MSAs/IG/trimmed_family1_renamed.seq.aln\n"
     ]
    }
   ],
   "source": [
    "rename_map = {\n",
    "    \"Densovirus_D1\": \"Densovirinae sp. isolate RBHC_VM_1\",\n",
    "    \"Densovirus_D2\": \"Densovirinae sp. isolate RBHC_VM_2\",\n",
    "    \"Densovirus_D3\": \"Densovirinae sp. isolate RBHC_VM_3\",\n",
    "    \"Densovirus_D4\": \"Densovirinae sp. isolate RBHC_VM_4\",\n",
    "    \"Densovirus_D5\": \"Densovirinae sp. isolate RBHC_VM_5\",\n",
    "    \"Densovirus_P1\": \"Densovirinae sp. isolate RBHC_NN_1\",\n",
    "    \"Densovirus_P2\": \"Densovirinae sp. isolate RBHC_NN_2\",\n",
    "    \"Densovirus_P3\": \"Densovirinae sp. isolate RBHC_NN_3\",\n",
    "    \"Densovirus_P4\": \"Densovirinae sp. isolate RBHC_NN_4\",\n",
    "    \"Densovirus_P5\": \"Densovirinae sp. isolate RBHC_NN_5\",\n",
    "    \"NC_031450.1\": \"NC_031450.1 Parus major densovirus\",\n",
    "    \"MW628494.1\": \"MW628494.1 Tenebrio molitor densovirus T2002773\"\n",
    "}\n",
    "\n",
    "input_file = \"phylogenomics/trimmed_MSAs/IG/trimmed_family1.seq.aln\"\n",
    "output_file = \"phylogenomics/trimmed_MSAs/IG/trimmed_family1_renamed.seq.aln\"\n",
    "\n",
    "with open(output_file, \"w\") as output_handle:\n",
    "    for record in SeqIO.parse(input_file, \"fasta\"):\n",
    "        if record.id in rename_map:\n",
    "            record.id = rename_map[record.id]\n",
    "            record.description = \"\"\n",
    "        SeqIO.write(record, output_handle, \"fasta\")\n",
    "\n",
    "print(\"Sequences renamed and saved to:\", output_file)"
   ]
  },
  {
   "cell_type": "markdown",
   "metadata": {},
   "source": [
    "### **Part 6.12. SP2 MSA visualization**"
   ]
  },
  {
   "cell_type": "markdown",
   "metadata": {},
   "source": [
    "Please open `RStudio` and go through  `ggmsa_journal.R` script<br>\n",
    "There are a lot of manual adjustments to the plots to make it executable"
   ]
  }
 ],
 "metadata": {
  "kernelspec": {
   "display_name": "denso",
   "language": "python",
   "name": "python3"
  },
  "language_info": {
   "codemirror_mode": {
    "name": "ipython",
    "version": 3
   },
   "file_extension": ".py",
   "mimetype": "text/x-python",
   "name": "python",
   "nbconvert_exporter": "python",
   "pygments_lexer": "ipython3",
   "version": "3.12.3"
  }
 },
 "nbformat": 4,
 "nbformat_minor": 2
}
