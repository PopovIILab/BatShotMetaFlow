{
 "cells": [
  {
   "cell_type": "markdown",
   "metadata": {},
   "source": [
    "# **CHAPTER 4. Densoviruses**"
   ]
  },
  {
   "cell_type": "markdown",
   "metadata": {},
   "source": [
    "**Install conda env and activate it**"
   ]
  },
  {
   "cell_type": "markdown",
   "metadata": {},
   "source": [
    "```\n",
    "conda env create -f denso.yaml\n",
    "```\n",
    "\n",
    "```\n",
    "conda activate denso\n",
    "```"
   ]
  },
  {
   "cell_type": "markdown",
   "metadata": {},
   "source": [
    "## **Part 1. Prepare to extract densoviruses from MAGs**"
   ]
  },
  {
   "cell_type": "markdown",
   "metadata": {},
   "source": [
    "Create a directory where complete genomes of densoviruses from `RefSeq` database will be stored"
   ]
  },
  {
   "cell_type": "code",
   "execution_count": 1,
   "metadata": {},
   "outputs": [],
   "source": [
    "! mkdir genbank_seqs"
   ]
  },
  {
   "cell_type": "markdown",
   "metadata": {},
   "source": [
    "Download densoviruses complete genomes from `RefSeq` database to `genbank_seqs/refseq_densoviruses.fa` file"
   ]
  },
  {
   "cell_type": "code",
   "execution_count": 4,
   "metadata": {},
   "outputs": [],
   "source": [
    "! esearch -email iljapopov17@gmail.com -db nucleotide -query 'Densovirus AND \"complete genome\" AND srcdb_refseq[PROP]' | efetch -format fasta -mode text > genbank_seqs/densoviruses_genomes.fa"
   ]
  },
  {
   "cell_type": "markdown",
   "metadata": {},
   "source": [
    "Create a directory where `BLAST` custom database of densoviruses complete genomes will be stored"
   ]
  },
  {
   "cell_type": "code",
   "execution_count": 8,
   "metadata": {},
   "outputs": [],
   "source": [
    "! mkdir densovirus_blast_db"
   ]
  },
  {
   "cell_type": "markdown",
   "metadata": {},
   "source": [
    "Create `BLAST` database"
   ]
  },
  {
   "cell_type": "code",
   "execution_count": 9,
   "metadata": {},
   "outputs": [
    {
     "name": "stdout",
     "output_type": "stream",
     "text": [
      "\n",
      "\n",
      "Building a new DB, current time: 08/06/2024 18:02:19\n",
      "New DB name:   /home/user/BatMetagenome2x150/Clean_journals/Densoviruses/densovirus_custom_db/densovirus_db\n",
      "New DB title:  refseq_seqs/refseq_densoviruses.fa\n",
      "Sequence type: Nucleotide\n",
      "Keep MBits: T\n",
      "Maximum file size: 3000000000B\n",
      "Adding sequences from FASTA; added 56 sequences in 0.022052 seconds.\n",
      "\n",
      "\n"
     ]
    }
   ],
   "source": [
    "! makeblastdb -in refseq_seqs/refseq_densoviruses.fa -dbtype nucl -out densovirus_blast_db/densovirus_db"
   ]
  },
  {
   "cell_type": "markdown",
   "metadata": {},
   "source": [
    "## **Part 2. Extract densoviruses from MAGs**"
   ]
  },
  {
   "cell_type": "markdown",
   "metadata": {},
   "source": [
    ">Disclaimer: it is important to install `VirSorter2` with all the requirements and dependecies. <br>\n",
    "> Although `VirSorter2` will be installed with `denso.yaml` conda envinronment it is also important to install the database needed. Please follow the official [installation guide](https://github.com/jiarong/VirSorter2#download-database-and-dependencies)<br>\n",
    "> In the `denso.yaml` `VirSorter2` is already installed with `conda` so proceed to:\n",
    "> ```\n",
    "># just in case there is a failed attemp before; \n",
    ">#   remove the whole diretory specified by -d\n",
    ">rm -rf virsorter_db\n",
    "># run setup\n",
    ">virsorter setup -d virsorter_db -j 4\n",
    "> ```"
   ]
  },
  {
   "cell_type": "markdown",
   "metadata": {},
   "source": [
    "`VirExtr_pipeline` is a Snakemake pipeline that runs filtered MAGs from the previous chapter against custom `BLAST` database with reference genomes of densoviruses. Then it extracts longest alignment sequences to a `.fasta` files. Finally, it runs `VirSorter2` to assess viral genomes."
   ]
  },
  {
   "cell_type": "code",
   "execution_count": null,
   "metadata": {},
   "outputs": [],
   "source": [
    "! snakemake -s VirExtr_pipeline --cores all --use-conda"
   ]
  },
  {
   "cell_type": "markdown",
   "metadata": {},
   "source": [
    "As the result of this pipeline:\n",
    "- `BLAST` results are stored in `BLAST_vs_densovirus` folder<br>\n",
    "- Extracted densoviruses are stored in `viral_genomes` folder<br>\n",
    "- `VirSorter2` results are sorted in `VirSorted2_results` folder"
   ]
  },
  {
   "cell_type": "markdown",
   "metadata": {},
   "source": [
    "Extracted densoviruses genomes are named like this:<br>\n",
    "`>NODE_632_length_4705_cov_657475.178280`<br>\n",
    "It is no use! `Prokka` will not take it as an input as the seqs names are too long<br>\n",
    "\n",
    "That is why we will rename sequences:<br>\n",
    "- Densoviruses from `D` samples will be renamed to `Densovirinae_sp._isolate_RBHC_VM_#`<br>\n",
    "- Densoviruses from `P` samples will be renamed to `Densovirinae_sp._isolate_RBHC_NN_#`<br>\n",
    "\n",
    "`VM` stands for _Vespertilio murinus_<br>\n",
    "`NN` stands for _Nyctalus noctula_"
   ]
  },
  {
   "cell_type": "code",
   "execution_count": 7,
   "metadata": {},
   "outputs": [],
   "source": [
    "# Usage\n",
    "# {path_to_script} {path_to_input_folder}\n",
    "%run scripts/rename_seqs.py viral_genomes/"
   ]
  },
  {
   "cell_type": "markdown",
   "metadata": {},
   "source": [
    "Let's check how the script worked"
   ]
  },
  {
   "cell_type": "code",
   "execution_count": 1,
   "metadata": {},
   "outputs": [
    {
     "name": "stdout",
     "output_type": "stream",
     "text": [
      ">Densovirinae_sp._isolate_RBHC_VM_1\n"
     ]
    }
   ],
   "source": [
    "! head -1 viral_genomes/Densovirus_D1.fasta"
   ]
  },
  {
   "cell_type": "markdown",
   "metadata": {},
   "source": [
    "That's it!"
   ]
  },
  {
   "cell_type": "markdown",
   "metadata": {},
   "source": [
    "## **Part 3. Prepare for genome annotation of densoviruses**"
   ]
  },
  {
   "cell_type": "markdown",
   "metadata": {},
   "source": [
    "Download densoviruses proteins from `Protein` database to `genbank_seqs/densoviruses_proteins.fa` file"
   ]
  },
  {
   "cell_type": "code",
   "execution_count": 5,
   "metadata": {},
   "outputs": [],
   "source": [
    "! esearch -email iljapopov17@gmail.com -db protein -query 'Densovirus' | efetch -format fasta -mode text > genbank_seqs/densoviruses_proteins.fa"
   ]
  },
  {
   "cell_type": "markdown",
   "metadata": {},
   "source": [
    "## **Part 4. Genome annotation of densoviruses**"
   ]
  },
  {
   "cell_type": "markdown",
   "metadata": {},
   "source": [
    "### **Part 4.1. Genome annotation**"
   ]
  },
  {
   "cell_type": "markdown",
   "metadata": {},
   "source": [
    "`GA_pipeline` is a Snakemake pipeline that annotates isolated from MAGs densoviral genomes with `prokka` and densoviruses proteins from NCBI `Proteins` database downloaded in the cell above."
   ]
  },
  {
   "cell_type": "code",
   "execution_count": null,
   "metadata": {},
   "outputs": [],
   "source": [
    "! snakemake -s GA_pipeline --cores all"
   ]
  },
  {
   "cell_type": "markdown",
   "metadata": {},
   "source": [
    "As the result of this pipeline:\n",
    "- `prokka` results are stored in `prokka_results` folder"
   ]
  },
  {
   "cell_type": "markdown",
   "metadata": {},
   "source": [
    "### **Part 4.2. Fix `prokka` `.gbk` outputs**"
   ]
  },
  {
   "cell_type": "markdown",
   "metadata": {},
   "source": [
    "Let's look at the `.gbk` files, especially at the 1st row of the file"
   ]
  },
  {
   "cell_type": "code",
   "execution_count": 8,
   "metadata": {},
   "outputs": [
    {
     "name": "stdout",
     "output_type": "stream",
     "text": [
      "LOCUS       Densovirinae_sp._isolate_RBHC_VM_14705 bp   DNA linear\n"
     ]
    }
   ],
   "source": [
    "! head -1 prokka_results/annotated_densovirus_D1/Densovirus_D1_annot.gbk"
   ]
  },
  {
   "cell_type": "markdown",
   "metadata": {},
   "source": [
    "Well... `prokka` makes a headache problem...<br>\n",
    "There is no space between sample number and seq length! `Proksee` will not take this `.gbk` as an input!<br>\n",
    "Let's fix it!"
   ]
  },
  {
   "cell_type": "markdown",
   "metadata": {},
   "source": [
    "`scripts/add_space_gbk.py` will fix \"space problem\". Just run this script. It will make changes exactly in the same file."
   ]
  },
  {
   "cell_type": "code",
   "execution_count": 6,
   "metadata": {},
   "outputs": [
    {
     "name": "stdout",
     "output_type": "stream",
     "text": [
      "Processing file: prokka_results/annotated_densovirus_D1/Densovirus_D1_annot.gbk\n",
      "Processing file: prokka_results/annotated_densovirus_D2/Densovirus_D2_annot.gbk\n",
      "Processing file: prokka_results/annotated_densovirus_D3/Densovirus_D3_annot.gbk\n",
      "Processing file: prokka_results/annotated_densovirus_D4/Densovirus_D4_annot.gbk\n",
      "Processing file: prokka_results/annotated_densovirus_D5/Densovirus_D5_annot.gbk\n",
      "Processing file: prokka_results/annotated_densovirus_P1/Densovirus_P1_annot.gbk\n",
      "Processing file: prokka_results/annotated_densovirus_P2/Densovirus_P2_annot.gbk\n",
      "Processing file: prokka_results/annotated_densovirus_P3/Densovirus_P3_annot.gbk\n",
      "Processing file: prokka_results/annotated_densovirus_P4/Densovirus_P4_annot.gbk\n",
      "Processing file: prokka_results/annotated_densovirus_P5/Densovirus_P5_annot.gbk\n"
     ]
    }
   ],
   "source": [
    "# Usage\n",
    "# {path_to_script}\n",
    "%run scripts/add_space_gbk.py"
   ]
  },
  {
   "cell_type": "code",
   "execution_count": 9,
   "metadata": {},
   "outputs": [
    {
     "name": "stdout",
     "output_type": "stream",
     "text": [
      "LOCUS       Densovirinae_sp._isolate_RBHC_VM_1 4705 bp   DNA linear\n"
     ]
    }
   ],
   "source": [
    "! head -1 prokka_results/annotated_densovirus_D1/Densovirus_D1_annot.gbk"
   ]
  },
  {
   "cell_type": "markdown",
   "metadata": {},
   "source": [
    "Hooray!"
   ]
  },
  {
   "cell_type": "markdown",
   "metadata": {},
   "source": [
    "### **Part 4.3. Visualize**"
   ]
  },
  {
   "cell_type": "markdown",
   "metadata": {},
   "source": [
    "Please visit [`Proksee`](https://proksee.ca/) website and upload `.gbk` files from `prokka_results/annotated_densovirus_{sample}` folders."
   ]
  },
  {
   "cell_type": "markdown",
   "metadata": {},
   "source": [
    "## **Part 5. Comparison of densoviruses**"
   ]
  },
  {
   "cell_type": "markdown",
   "metadata": {},
   "source": [
    "### **Part 5.1. Install `fastANI`**"
   ]
  },
  {
   "cell_type": "markdown",
   "metadata": {},
   "source": [
    "Download it from `GitHub`"
   ]
  },
  {
   "cell_type": "code",
   "execution_count": null,
   "metadata": {},
   "outputs": [],
   "source": [
    "! wget https://github.com/ParBLiSS/FastANI/releases/download/v1.34/fastANI-linux64-v1.34.zip"
   ]
  },
  {
   "cell_type": "markdown",
   "metadata": {},
   "source": [
    "Make directory to store `ANI` files and results"
   ]
  },
  {
   "cell_type": "code",
   "execution_count": null,
   "metadata": {},
   "outputs": [],
   "source": [
    "! mkdir ANI"
   ]
  },
  {
   "cell_type": "markdown",
   "metadata": {},
   "source": [
    "Unzip donwloaded from `GitHub` archive and delete it"
   ]
  },
  {
   "cell_type": "code",
   "execution_count": null,
   "metadata": {},
   "outputs": [],
   "source": [
    "! unzip fastANI-linux64-v1.34.zip -d ANI && rm -rf fastANI-linux64-v1.34.zip"
   ]
  },
  {
   "cell_type": "markdown",
   "metadata": {},
   "source": [
    "### **Part 5.2. Run `fastANI`**"
   ]
  },
  {
   "cell_type": "code",
   "execution_count": null,
   "metadata": {},
   "outputs": [],
   "source": [
    "! ANI/fastANI --ql ANI/querylist.txt --rl ANI/reflist.txt -o ANI/fastani.out --matrix"
   ]
  },
  {
   "cell_type": "markdown",
   "metadata": {},
   "source": [
    "### **Part 5.3. Visualize**"
   ]
  },
  {
   "cell_type": "markdown",
   "metadata": {},
   "source": [
    "Rename `viral_genomes/Densovirus_{sample}.fasta` to `Densovirinae_sp._isolate_RBHC_{sample}`"
   ]
  },
  {
   "cell_type": "code",
   "execution_count": 80,
   "metadata": {},
   "outputs": [],
   "source": [
    "# Load the contents of the file\n",
    "file_path = 'ANI/fastani.out'\n",
    "\n",
    "with open(file_path, 'r') as file:\n",
    "    file_content = file.read()\n",
    "\n",
    "# Define the mapping for renaming the files\n",
    "rename_map = {\n",
    "    \"viral_genomes/Densovirus_D1.fasta\": \"Densovirinae_sp._isolate_RBHC_VM_1\",\n",
    "    \"viral_genomes/Densovirus_D2.fasta\": \"Densovirinae_sp._isolate_RBHC_VM_2\",\n",
    "    \"viral_genomes/Densovirus_D3.fasta\": \"Densovirinae_sp._isolate_RBHC_VM_3\",\n",
    "    \"viral_genomes/Densovirus_D4.fasta\": \"Densovirinae_sp._isolate_RBHC_VM_4\",\n",
    "    \"viral_genomes/Densovirus_D5.fasta\": \"Densovirinae_sp._isolate_RBHC_VM_5\",\n",
    "    \"viral_genomes/Densovirus_P1.fasta\": \"Densovirinae_sp._isolate_RBHC_NN_1\",\n",
    "    \"viral_genomes/Densovirus_P2.fasta\": \"Densovirinae_sp._isolate_RBHC_NN_2\",\n",
    "    \"viral_genomes/Densovirus_P3.fasta\": \"Densovirinae_sp._isolate_RBHC_NN_3\",\n",
    "    \"viral_genomes/Densovirus_P4.fasta\": \"Densovirinae_sp._isolate_RBHC_NN_4\",\n",
    "    \"viral_genomes/Densovirus_P5.fasta\": \"Densovirinae_sp._isolate_RBHC_NN_5\",\n",
    "}\n",
    "\n",
    "# Replace the names in the file content\n",
    "for old_name, new_name in rename_map.items():\n",
    "    file_content = file_content.replace(old_name, new_name)\n",
    "\n",
    "# Save the updated content back to the file\n",
    "with open(file_path, 'w') as file:\n",
    "    file.write(file_content)"
   ]
  },
  {
   "cell_type": "markdown",
   "metadata": {},
   "source": [
    "Import needed `python` modules"
   ]
  },
  {
   "cell_type": "code",
   "execution_count": 138,
   "metadata": {},
   "outputs": [],
   "source": [
    "import pandas as pd\n",
    "import seaborn as sns\n",
    "import matplotlib.pyplot as plt"
   ]
  },
  {
   "cell_type": "markdown",
   "metadata": {},
   "source": [
    "Make directory to store output image"
   ]
  },
  {
   "cell_type": "code",
   "execution_count": 86,
   "metadata": {},
   "outputs": [],
   "source": [
    "! mkdir images"
   ]
  },
  {
   "cell_type": "markdown",
   "metadata": {},
   "source": [
    "Create heatmap!<br>\n",
    "As viruses are extremelly alike the minimal value is set to 98.6"
   ]
  },
  {
   "cell_type": "code",
   "execution_count": null,
   "metadata": {},
   "outputs": [
    {
     "data": {
      "image/png": "[encoded data removed]",
      "text/plain": [
       "<Figure size 1000x800 with 2 Axes>"
      ]
     },
     "metadata": {},
     "output_type": "display_data"
    }
   ],
   "source": [
    "with open('ANI/fastani.out', 'r') as file:\n",
    "    content = file.readlines()\n",
    "\n",
    "# Extracting the necessary data from the file\n",
    "data = []\n",
    "for line in content:\n",
    "    parts = line.strip().split('\\t')\n",
    "    genome1 = parts[0].split('/')[-1]\n",
    "    genome2 = parts[1].split('/')[-1]\n",
    "    ani_value = float(parts[2])\n",
    "    data.append([genome1, genome2, ani_value])\n",
    "\n",
    "# Creating a DataFrame\n",
    "df = pd.DataFrame(data, columns=['Genome1', 'Genome2', 'ANI'])\n",
    "\n",
    "# Creating a pivot table for the heatmap\n",
    "pivot_table = df.pivot(index='Genome1', columns='Genome2', values='ANI')\n",
    "\n",
    "# Plotting the heatmap\n",
    "plt.figure(figsize=(10, 8))\n",
    "heatmap = sns.heatmap(pivot_table, annot=False, cmap='YlGnBu', cbar_kws={'label': 'ANI Percentage'}, vmin=98.6, vmax=100)\n",
    "#plt.xticks(rotation=45, ha='right')\n",
    "plt.xticks(rotation=90)\n",
    "plt.yticks(rotation=0)\n",
    "plt.xlabel(None)\n",
    "plt.ylabel(None)\n",
    "plt.savefig('images/fastANI_heatmap_x90.png', dpi=600, bbox_inches='tight')"
   ]
  },
  {
   "cell_type": "markdown",
   "metadata": {},
   "source": [
    "## **Part 6. Phylogenomics**"
   ]
  },
  {
   "cell_type": "markdown",
   "metadata": {},
   "source": [
    "### **Part 6.1. Preparation**"
   ]
  },
  {
   "cell_type": "markdown",
   "metadata": {},
   "source": [
    "Make directory for all the `phylogenomics` data"
   ]
  },
  {
   "cell_type": "code",
   "execution_count": 30,
   "metadata": {},
   "outputs": [],
   "source": [
    "! mkdir phylogenomics\n",
    "! mkdir phylogenomics/data/\n",
    "! mkdir phylogenomics/data/proteomes/"
   ]
  },
  {
   "cell_type": "markdown",
   "metadata": {},
   "source": [
    "Copy densoviruses amino acid sequences produces by `prokka` to `phylogenomics/data/proteomes/` directory"
   ]
  },
  {
   "cell_type": "code",
   "execution_count": 31,
   "metadata": {},
   "outputs": [],
   "source": [
    "! cp prokka_results/*/*_annot.faa phylogenomics/data/proteomes/"
   ]
  },
  {
   "cell_type": "markdown",
   "metadata": {},
   "source": [
    "Fetch the list of accession numbers of all the densoviruses from the `RefSeq` database<br>\n",
    "\n",
    "**NB!** Date of accession is Aug 2024"
   ]
  },
  {
   "cell_type": "code",
   "execution_count": 32,
   "metadata": {},
   "outputs": [],
   "source": [
    "! esearch -db nucleotide -query '(\"Ambidensovirus\"[Organism] OR \"densovirus\"[All Fields]) AND \"complete genome\"[All Fields] AND (viruses[filter] AND refseq[filter] AND (\"3000\"[SLEN] : \"6500\"[SLEN]))' | efetch -format acc > phylogenomics/data/accession_numbers.txt"
   ]
  },
  {
   "cell_type": "code",
   "execution_count": 33,
   "metadata": {},
   "outputs": [],
   "source": [
    "! echo \"MW628494.1\" >> phylogenomics/data/accession_numbers.txt"
   ]
  },
  {
   "cell_type": "markdown",
   "metadata": {},
   "source": [
    "Import `Entrez` from `Biopython` and `os`"
   ]
  },
  {
   "cell_type": "code",
   "execution_count": 34,
   "metadata": {},
   "outputs": [],
   "source": [
    "from Bio import Entrez\n",
    "import os"
   ]
  },
  {
   "cell_type": "markdown",
   "metadata": {},
   "source": [
    "Set the email (NCBI requires it for identification)"
   ]
  },
  {
   "cell_type": "code",
   "execution_count": 35,
   "metadata": {},
   "outputs": [],
   "source": [
    "Entrez.email = \"iljapopov17@gmail.com\""
   ]
  },
  {
   "cell_type": "markdown",
   "metadata": {},
   "source": [
    "Function that will download amino acid sequences from the entries from the list of accession numbers"
   ]
  },
  {
   "cell_type": "code",
   "execution_count": 36,
   "metadata": {},
   "outputs": [],
   "source": [
    "# Function to download proteomes from NCBI\n",
    "def download_proteome(accession, output_dir):\n",
    "    # EFetch to download the fasta_cds_aa file\n",
    "    handle = Entrez.efetch(db=\"nuccore\", id=accession, rettype=\"fasta_cds_aa\", retmode=\"text\")\n",
    "    data = handle.read()\n",
    "    handle.close()\n",
    "    \n",
    "    # Save the fasta data\n",
    "    output_file = os.path.join(output_dir, f\"{accession}_proteome.fasta\")\n",
    "    with open(output_file, \"w\") as f:\n",
    "        f.write(data)\n",
    "    print(f\"Downloaded: {accession}\")\n",
    "\n",
    "# Function to process the list of accession numbers\n",
    "def process_accession_list(file_path, output_dir):\n",
    "    # Ensure the output directory exists\n",
    "    os.makedirs(output_dir, exist_ok=True)\n",
    "    \n",
    "    # Read the accession numbers from the file\n",
    "    with open(file_path, \"r\") as file:\n",
    "        accessions = [line.strip() for line in file.readlines()]\n",
    "    \n",
    "    # Download each proteome\n",
    "    for accession in accessions:\n",
    "        download_proteome(accession, output_dir)"
   ]
  },
  {
   "cell_type": "markdown",
   "metadata": {},
   "source": [
    "Run the function to download amino acid sequences of densoviruses from `RefSeq` database"
   ]
  },
  {
   "cell_type": "code",
   "execution_count": 37,
   "metadata": {},
   "outputs": [
    {
     "name": "stdout",
     "output_type": "stream",
     "text": [
      "Downloaded: NC_077083.1\n",
      "Downloaded: NC_077082.1\n",
      "Downloaded: NC_077081.1\n",
      "Downloaded: NC_077080.1\n",
      "Downloaded: NC_077079.1\n",
      "Downloaded: NC_077069.1\n",
      "Downloaded: NC_077065.1\n",
      "Downloaded: NC_077051.1\n",
      "Downloaded: NC_077050.1\n",
      "Downloaded: NC_077038.1\n",
      "Downloaded: NC_077036.1\n",
      "Downloaded: NC_077018.1\n",
      "Downloaded: NC_075118.1\n",
      "Downloaded: NC_005040.1\n",
      "Downloaded: NC_040626.1\n",
      "Downloaded: NC_038376.1\n",
      "Downloaded: NC_003346.1\n",
      "Downloaded: NC_031450.1\n",
      "Downloaded: NC_030296.1\n",
      "Downloaded: NC_026943.1\n",
      "Downloaded: NC_022748.1\n",
      "Downloaded: NC_022564.1\n",
      "Downloaded: NC_020927.1\n",
      "Downloaded: NC_019492.1\n",
      "Downloaded: NC_018450.1\n",
      "Downloaded: NC_018399.1\n",
      "Downloaded: NC_015718.1\n",
      "Downloaded: NC_005041.2\n",
      "Downloaded: NC_015115.1\n",
      "Downloaded: NC_014357.1\n",
      "Downloaded: NC_011545.2\n",
      "Downloaded: NC_012685.1\n",
      "Downloaded: NC_012636.1\n",
      "Downloaded: NC_011317.1\n",
      "Downloaded: NC_006555.1\n",
      "Downloaded: NC_005341.1\n",
      "Downloaded: NC_004290.1\n",
      "Downloaded: NC_004288.1\n",
      "Downloaded: NC_004289.1\n",
      "Downloaded: NC_004287.1\n",
      "Downloaded: NC_004286.1\n",
      "Downloaded: NC_004284.1\n",
      "Downloaded: NC_000936.1\n",
      "Downloaded: NC_001899.1\n",
      "Downloaded: MW628494.1\n"
     ]
    }
   ],
   "source": [
    "# Input: File with accession numbers and output directory\n",
    "accession_file = \"phylogenomics/data/accession_numbers.txt\"\n",
    "output_directory = \"phylogenomics/data/proteomes/\"\n",
    "\n",
    "# Run the process\n",
    "process_accession_list(accession_file, output_directory)"
   ]
  },
  {
   "cell_type": "markdown",
   "metadata": {},
   "source": [
    "### **Part 6.2. \"Sequence brushing\"**"
   ]
  },
  {
   "cell_type": "markdown",
   "metadata": {},
   "source": [
    "Let's look at the sequences' names"
   ]
  },
  {
   "cell_type": "code",
   "execution_count": 38,
   "metadata": {},
   "outputs": [
    {
     "name": "stdout",
     "output_type": "stream",
     "text": [
      ">KCBIPIHA_00001 structural protein [Blattella germanica densovirus-like virus]\n"
     ]
    }
   ],
   "source": [
    "! head -1 phylogenomics/data/proteomes/Densovirus_D1_annot.faa"
   ]
  },
  {
   "cell_type": "code",
   "execution_count": 39,
   "metadata": {},
   "outputs": [
    {
     "name": "stdout",
     "output_type": "stream",
     "text": [
      ">lcl|NC_000936.1_prot_NP_051016.1_1 [locus_tag=PfdVgp1] [db_xref=GeneID:1457168] [protein=structural protein] [protein_id=NP_051016.1] [location=202..930] [gbkey=CDS]\n"
     ]
    }
   ],
   "source": [
    "! head -1 phylogenomics/data/proteomes/NC_000936.1_proteome.fasta"
   ]
  },
  {
   "cell_type": "markdown",
   "metadata": {},
   "source": [
    "It looks informative, but awful. We will use `Proteinortho` later. And this tool will not take these sequences as the input because of their seqs' names. We must rename them. It will be not a simple process. That's why it will be in several steps."
   ]
  },
  {
   "cell_type": "markdown",
   "metadata": {},
   "source": [
    "Make directory to store renamed sequences<br>\n",
    "And make enough directories to allow step-by-step process"
   ]
  },
  {
   "cell_type": "code",
   "execution_count": 40,
   "metadata": {},
   "outputs": [],
   "source": [
    "! mkdir phylogenomics/data/proteomes_renamed/\n",
    "! mkdir phylogenomics/data/proteomes_renamed/round_1/\n",
    "! mkdir phylogenomics/data/proteomes_renamed/round_2/\n",
    "! mkdir phylogenomics/data/proteomes_renamed/round_3/"
   ]
  },
  {
   "cell_type": "markdown",
   "metadata": {},
   "source": [
    "#### **Part 6.2.1. Round 1**"
   ]
  },
  {
   "cell_type": "markdown",
   "metadata": {},
   "source": [
    "For the 1st round we will:\n",
    "\n",
    "- Make this `>KCBIPIHA_00001 structural protein [Blattella germanica densovirus-like virus]` look like this `>structural protein`<br>\n",
    "- Make this `>lcl|NC_000936.1_prot_NP_051016.1_1 [locus_tag=PfdVgp1] [db_xref=GeneID:1457168] [protein=structural protein] [protein_id=NP_051016.1] [location=202..930] [gbkey=CDS]` look like this `>structural protein`\n",
    "\n",
    "So we will delete everything except the gene names"
   ]
  },
  {
   "cell_type": "code",
   "execution_count": 41,
   "metadata": {},
   "outputs": [],
   "source": [
    "%%bash\n",
    "\n",
    "for file in phylogenomics/data/proteomes/*_annot.faa\n",
    "do sed -E 's/^>([^ ]+) ([^[]+)\\[.*\\]/>\\2/' $file > phylogenomics/data/proteomes_renamed/round_1/$(basename \"$file\" _annot.faa)_renamed.fa\n",
    "done"
   ]
  },
  {
   "cell_type": "code",
   "execution_count": 42,
   "metadata": {},
   "outputs": [],
   "source": [
    "%%bash\n",
    "\n",
    "for file in phylogenomics/data/proteomes/*.fasta\n",
    "do sed -E 's/^>.*\\[protein=([^]]+)\\].*/>\\1/' $file > phylogenomics/data/proteomes_renamed/round_1/$(basename \"$file\" _proteome.fasta)_renamed.fa\n",
    "done"
   ]
  },
  {
   "cell_type": "markdown",
   "metadata": {},
   "source": [
    "Let's check if `sed` did good"
   ]
  },
  {
   "cell_type": "code",
   "execution_count": 43,
   "metadata": {},
   "outputs": [
    {
     "name": "stdout",
     "output_type": "stream",
     "text": [
      ">structural protein \n"
     ]
    }
   ],
   "source": [
    "! head -1 phylogenomics/data/proteomes_renamed/round_1/Densovirus_D1_renamed.fa"
   ]
  },
  {
   "cell_type": "code",
   "execution_count": 44,
   "metadata": {},
   "outputs": [
    {
     "name": "stdout",
     "output_type": "stream",
     "text": [
      ">structural protein\n"
     ]
    }
   ],
   "source": [
    "! head -1 phylogenomics/data/proteomes_renamed/round_1/NC_000936.1_renamed.fa"
   ]
  },
  {
   "cell_type": "markdown",
   "metadata": {},
   "source": [
    "Perfect. Let's move on the 2nd round"
   ]
  },
  {
   "cell_type": "markdown",
   "metadata": {},
   "source": [
    "#### **Part 6.2.2. Round 2**"
   ]
  },
  {
   "cell_type": "markdown",
   "metadata": {},
   "source": [
    "First we need to install `BBMap`"
   ]
  },
  {
   "cell_type": "markdown",
   "metadata": {},
   "source": [
    "Download `.tar.gz` archive"
   ]
  },
  {
   "cell_type": "code",
   "execution_count": null,
   "metadata": {},
   "outputs": [],
   "source": [
    "! wget https://sourceforge.net/projects/bbmap/files/latest/download -O BBMap.tar.gz"
   ]
  },
  {
   "cell_type": "markdown",
   "metadata": {},
   "source": [
    "Unpack it"
   ]
  },
  {
   "cell_type": "code",
   "execution_count": null,
   "metadata": {},
   "outputs": [],
   "source": [
    "! tar -xvzf BBMap.tar.gz"
   ]
  },
  {
   "cell_type": "markdown",
   "metadata": {},
   "source": [
    "Delete the initial archive"
   ]
  },
  {
   "cell_type": "code",
   "execution_count": null,
   "metadata": {},
   "outputs": [],
   "source": [
    "! rm -rf BBMap.tar.gz"
   ]
  },
  {
   "cell_type": "markdown",
   "metadata": {},
   "source": [
    "For the 2nd round we will:\n",
    "\n",
    "- Make this `>structural protein` look like this: `>NC_000936.1_structural protein`<br>\n",
    "\n",
    "So, we will make each sequence unique by binding the information of which exactly virus this gene is"
   ]
  },
  {
   "cell_type": "code",
   "execution_count": 46,
   "metadata": {},
   "outputs": [
    {
     "name": "stderr",
     "output_type": "stream",
     "text": [
      "java -ea -Xmx1g -cp /mnt/c/Users/iljap/OneDrive/Work/RSF_projects/Igor/BatShotMetaFlow/04_Densoviruses_t/bbmap/current/ jgi.RenameReads in=phylogenomics/data/proteomes_renamed/round_1/Densovirus_D1_renamed.fa prefix=Densovirus_D1 addprefix=true out=phylogenomics/data/proteomes_renamed/round_2/Densovirus_D1.fa ignorejunk=true\n",
      "Executing jgi.RenameReads [in=phylogenomics/data/proteomes_renamed/round_1/Densovirus_D1_renamed.fa, prefix=Densovirus_D1, addprefix=true, out=phylogenomics/data/proteomes_renamed/round_2/Densovirus_D1.fa, ignorejunk=true]\n",
      "\n",
      "Time: 0.458 seconds.\n",
      "java -ea -Xmx1g -cp /mnt/c/Users/iljap/OneDrive/Work/RSF_projects/Igor/BatShotMetaFlow/04_Densoviruses_t/bbmap/current/ jgi.RenameReads in=phylogenomics/data/proteomes_renamed/round_1/Densovirus_D2_renamed.fa prefix=Densovirus_D2 addprefix=true out=phylogenomics/data/proteomes_renamed/round_2/Densovirus_D2.fa ignorejunk=true\n",
      "Executing jgi.RenameReads [in=phylogenomics/data/proteomes_renamed/round_1/Densovirus_D2_renamed.fa, prefix=Densovirus_D2, addprefix=true, out=phylogenomics/data/proteomes_renamed/round_2/Densovirus_D2.fa, ignorejunk=true]\n",
      "\n",
      "Time: 0.491 seconds.\n",
      "java -ea -Xmx1g -cp /mnt/c/Users/iljap/OneDrive/Work/RSF_projects/Igor/BatShotMetaFlow/04_Densoviruses_t/bbmap/current/ jgi.RenameReads in=phylogenomics/data/proteomes_renamed/round_1/Densovirus_D3_renamed.fa prefix=Densovirus_D3 addprefix=true out=phylogenomics/data/proteomes_renamed/round_2/Densovirus_D3.fa ignorejunk=true\n",
      "Executing jgi.RenameReads [in=phylogenomics/data/proteomes_renamed/round_1/Densovirus_D3_renamed.fa, prefix=Densovirus_D3, addprefix=true, out=phylogenomics/data/proteomes_renamed/round_2/Densovirus_D3.fa, ignorejunk=true]\n",
      "\n",
      "Time: 0.511 seconds.\n",
      "java -ea -Xmx1g -cp /mnt/c/Users/iljap/OneDrive/Work/RSF_projects/Igor/BatShotMetaFlow/04_Densoviruses_t/bbmap/current/ jgi.RenameReads in=phylogenomics/data/proteomes_renamed/round_1/Densovirus_D4_renamed.fa prefix=Densovirus_D4 addprefix=true out=phylogenomics/data/proteomes_renamed/round_2/Densovirus_D4.fa ignorejunk=true\n",
      "Executing jgi.RenameReads [in=phylogenomics/data/proteomes_renamed/round_1/Densovirus_D4_renamed.fa, prefix=Densovirus_D4, addprefix=true, out=phylogenomics/data/proteomes_renamed/round_2/Densovirus_D4.fa, ignorejunk=true]\n",
      "\n",
      "Time: 0.509 seconds.\n",
      "java -ea -Xmx1g -cp /mnt/c/Users/iljap/OneDrive/Work/RSF_projects/Igor/BatShotMetaFlow/04_Densoviruses_t/bbmap/current/ jgi.RenameReads in=phylogenomics/data/proteomes_renamed/round_1/Densovirus_D5_renamed.fa prefix=Densovirus_D5 addprefix=true out=phylogenomics/data/proteomes_renamed/round_2/Densovirus_D5.fa ignorejunk=true\n",
      "Executing jgi.RenameReads [in=phylogenomics/data/proteomes_renamed/round_1/Densovirus_D5_renamed.fa, prefix=Densovirus_D5, addprefix=true, out=phylogenomics/data/proteomes_renamed/round_2/Densovirus_D5.fa, ignorejunk=true]\n",
      "\n",
      "Time: 0.445 seconds.\n",
      "java -ea -Xmx1g -cp /mnt/c/Users/iljap/OneDrive/Work/RSF_projects/Igor/BatShotMetaFlow/04_Densoviruses_t/bbmap/current/ jgi.RenameReads in=phylogenomics/data/proteomes_renamed/round_1/Densovirus_P1_renamed.fa prefix=Densovirus_P1 addprefix=true out=phylogenomics/data/proteomes_renamed/round_2/Densovirus_P1.fa ignorejunk=true\n",
      "Executing jgi.RenameReads [in=phylogenomics/data/proteomes_renamed/round_1/Densovirus_P1_renamed.fa, prefix=Densovirus_P1, addprefix=true, out=phylogenomics/data/proteomes_renamed/round_2/Densovirus_P1.fa, ignorejunk=true]\n",
      "\n",
      "Time: 0.479 seconds.\n",
      "java -ea -Xmx1g -cp /mnt/c/Users/iljap/OneDrive/Work/RSF_projects/Igor/BatShotMetaFlow/04_Densoviruses_t/bbmap/current/ jgi.RenameReads in=phylogenomics/data/proteomes_renamed/round_1/Densovirus_P2_renamed.fa prefix=Densovirus_P2 addprefix=true out=phylogenomics/data/proteomes_renamed/round_2/Densovirus_P2.fa ignorejunk=true\n",
      "Executing jgi.RenameReads [in=phylogenomics/data/proteomes_renamed/round_1/Densovirus_P2_renamed.fa, prefix=Densovirus_P2, addprefix=true, out=phylogenomics/data/proteomes_renamed/round_2/Densovirus_P2.fa, ignorejunk=true]\n",
      "\n",
      "Time: 0.481 seconds.\n",
      "java -ea -Xmx1g -cp /mnt/c/Users/iljap/OneDrive/Work/RSF_projects/Igor/BatShotMetaFlow/04_Densoviruses_t/bbmap/current/ jgi.RenameReads in=phylogenomics/data/proteomes_renamed/round_1/Densovirus_P3_renamed.fa prefix=Densovirus_P3 addprefix=true out=phylogenomics/data/proteomes_renamed/round_2/Densovirus_P3.fa ignorejunk=true\n",
      "Executing jgi.RenameReads [in=phylogenomics/data/proteomes_renamed/round_1/Densovirus_P3_renamed.fa, prefix=Densovirus_P3, addprefix=true, out=phylogenomics/data/proteomes_renamed/round_2/Densovirus_P3.fa, ignorejunk=true]\n",
      "\n",
      "Time: 0.467 seconds.\n",
      "java -ea -Xmx1g -cp /mnt/c/Users/iljap/OneDrive/Work/RSF_projects/Igor/BatShotMetaFlow/04_Densoviruses_t/bbmap/current/ jgi.RenameReads in=phylogenomics/data/proteomes_renamed/round_1/Densovirus_P4_renamed.fa prefix=Densovirus_P4 addprefix=true out=phylogenomics/data/proteomes_renamed/round_2/Densovirus_P4.fa ignorejunk=true\n",
      "Executing jgi.RenameReads [in=phylogenomics/data/proteomes_renamed/round_1/Densovirus_P4_renamed.fa, prefix=Densovirus_P4, addprefix=true, out=phylogenomics/data/proteomes_renamed/round_2/Densovirus_P4.fa, ignorejunk=true]\n",
      "\n",
      "Time: 0.472 seconds.\n",
      "java -ea -Xmx1g -cp /mnt/c/Users/iljap/OneDrive/Work/RSF_projects/Igor/BatShotMetaFlow/04_Densoviruses_t/bbmap/current/ jgi.RenameReads in=phylogenomics/data/proteomes_renamed/round_1/Densovirus_P5_renamed.fa prefix=Densovirus_P5 addprefix=true out=phylogenomics/data/proteomes_renamed/round_2/Densovirus_P5.fa ignorejunk=true\n",
      "Executing jgi.RenameReads [in=phylogenomics/data/proteomes_renamed/round_1/Densovirus_P5_renamed.fa, prefix=Densovirus_P5, addprefix=true, out=phylogenomics/data/proteomes_renamed/round_2/Densovirus_P5.fa, ignorejunk=true]\n",
      "\n",
      "Time: 0.462 seconds.\n",
      "java -ea -Xmx1g -cp /mnt/c/Users/iljap/OneDrive/Work/RSF_projects/Igor/BatShotMetaFlow/04_Densoviruses_t/bbmap/current/ jgi.RenameReads in=phylogenomics/data/proteomes_renamed/round_1/MW628494.1_renamed.fa prefix=MW628494.1 addprefix=true out=phylogenomics/data/proteomes_renamed/round_2/MW628494.1.fa ignorejunk=true\n",
      "Executing jgi.RenameReads [in=phylogenomics/data/proteomes_renamed/round_1/MW628494.1_renamed.fa, prefix=MW628494.1, addprefix=true, out=phylogenomics/data/proteomes_renamed/round_2/MW628494.1.fa, ignorejunk=true]\n",
      "\n",
      "Time: 0.477 seconds.\n",
      "java -ea -Xmx1g -cp /mnt/c/Users/iljap/OneDrive/Work/RSF_projects/Igor/BatShotMetaFlow/04_Densoviruses_t/bbmap/current/ jgi.RenameReads in=phylogenomics/data/proteomes_renamed/round_1/NC_000936.1_renamed.fa prefix=NC_000936.1 addprefix=true out=phylogenomics/data/proteomes_renamed/round_2/NC_000936.1.fa ignorejunk=true\n",
      "Executing jgi.RenameReads [in=phylogenomics/data/proteomes_renamed/round_1/NC_000936.1_renamed.fa, prefix=NC_000936.1, addprefix=true, out=phylogenomics/data/proteomes_renamed/round_2/NC_000936.1.fa, ignorejunk=true]\n",
      "\n",
      "Time: 0.505 seconds.\n",
      "java -ea -Xmx1g -cp /mnt/c/Users/iljap/OneDrive/Work/RSF_projects/Igor/BatShotMetaFlow/04_Densoviruses_t/bbmap/current/ jgi.RenameReads in=phylogenomics/data/proteomes_renamed/round_1/NC_001899.1_renamed.fa prefix=NC_001899.1 addprefix=true out=phylogenomics/data/proteomes_renamed/round_2/NC_001899.1.fa ignorejunk=true\n",
      "Executing jgi.RenameReads [in=phylogenomics/data/proteomes_renamed/round_1/NC_001899.1_renamed.fa, prefix=NC_001899.1, addprefix=true, out=phylogenomics/data/proteomes_renamed/round_2/NC_001899.1.fa, ignorejunk=true]\n",
      "\n",
      "Time: 0.492 seconds.\n",
      "java -ea -Xmx1g -cp /mnt/c/Users/iljap/OneDrive/Work/RSF_projects/Igor/BatShotMetaFlow/04_Densoviruses_t/bbmap/current/ jgi.RenameReads in=phylogenomics/data/proteomes_renamed/round_1/NC_003346.1_renamed.fa prefix=NC_003346.1 addprefix=true out=phylogenomics/data/proteomes_renamed/round_2/NC_003346.1.fa ignorejunk=true\n",
      "Executing jgi.RenameReads [in=phylogenomics/data/proteomes_renamed/round_1/NC_003346.1_renamed.fa, prefix=NC_003346.1, addprefix=true, out=phylogenomics/data/proteomes_renamed/round_2/NC_003346.1.fa, ignorejunk=true]\n",
      "\n",
      "Time: 0.470 seconds.\n",
      "java -ea -Xmx1g -cp /mnt/c/Users/iljap/OneDrive/Work/RSF_projects/Igor/BatShotMetaFlow/04_Densoviruses_t/bbmap/current/ jgi.RenameReads in=phylogenomics/data/proteomes_renamed/round_1/NC_004284.1_renamed.fa prefix=NC_004284.1 addprefix=true out=phylogenomics/data/proteomes_renamed/round_2/NC_004284.1.fa ignorejunk=true\n",
      "Executing jgi.RenameReads [in=phylogenomics/data/proteomes_renamed/round_1/NC_004284.1_renamed.fa, prefix=NC_004284.1, addprefix=true, out=phylogenomics/data/proteomes_renamed/round_2/NC_004284.1.fa, ignorejunk=true]\n",
      "\n",
      "Time: 0.472 seconds.\n",
      "java -ea -Xmx1g -cp /mnt/c/Users/iljap/OneDrive/Work/RSF_projects/Igor/BatShotMetaFlow/04_Densoviruses_t/bbmap/current/ jgi.RenameReads in=phylogenomics/data/proteomes_renamed/round_1/NC_004286.1_renamed.fa prefix=NC_004286.1 addprefix=true out=phylogenomics/data/proteomes_renamed/round_2/NC_004286.1.fa ignorejunk=true\n",
      "Executing jgi.RenameReads [in=phylogenomics/data/proteomes_renamed/round_1/NC_004286.1_renamed.fa, prefix=NC_004286.1, addprefix=true, out=phylogenomics/data/proteomes_renamed/round_2/NC_004286.1.fa, ignorejunk=true]\n",
      "\n",
      "Time: 0.462 seconds.\n",
      "java -ea -Xmx1g -cp /mnt/c/Users/iljap/OneDrive/Work/RSF_projects/Igor/BatShotMetaFlow/04_Densoviruses_t/bbmap/current/ jgi.RenameReads in=phylogenomics/data/proteomes_renamed/round_1/NC_004287.1_renamed.fa prefix=NC_004287.1 addprefix=true out=phylogenomics/data/proteomes_renamed/round_2/NC_004287.1.fa ignorejunk=true\n",
      "Executing jgi.RenameReads [in=phylogenomics/data/proteomes_renamed/round_1/NC_004287.1_renamed.fa, prefix=NC_004287.1, addprefix=true, out=phylogenomics/data/proteomes_renamed/round_2/NC_004287.1.fa, ignorejunk=true]\n",
      "\n",
      "Time: 0.390 seconds.\n",
      "java -ea -Xmx1g -cp /mnt/c/Users/iljap/OneDrive/Work/RSF_projects/Igor/BatShotMetaFlow/04_Densoviruses_t/bbmap/current/ jgi.RenameReads in=phylogenomics/data/proteomes_renamed/round_1/NC_004288.1_renamed.fa prefix=NC_004288.1 addprefix=true out=phylogenomics/data/proteomes_renamed/round_2/NC_004288.1.fa ignorejunk=true\n",
      "Executing jgi.RenameReads [in=phylogenomics/data/proteomes_renamed/round_1/NC_004288.1_renamed.fa, prefix=NC_004288.1, addprefix=true, out=phylogenomics/data/proteomes_renamed/round_2/NC_004288.1.fa, ignorejunk=true]\n",
      "\n",
      "Time: 0.428 seconds.\n",
      "java -ea -Xmx1g -cp /mnt/c/Users/iljap/OneDrive/Work/RSF_projects/Igor/BatShotMetaFlow/04_Densoviruses_t/bbmap/current/ jgi.RenameReads in=phylogenomics/data/proteomes_renamed/round_1/NC_004289.1_renamed.fa prefix=NC_004289.1 addprefix=true out=phylogenomics/data/proteomes_renamed/round_2/NC_004289.1.fa ignorejunk=true\n",
      "Executing jgi.RenameReads [in=phylogenomics/data/proteomes_renamed/round_1/NC_004289.1_renamed.fa, prefix=NC_004289.1, addprefix=true, out=phylogenomics/data/proteomes_renamed/round_2/NC_004289.1.fa, ignorejunk=true]\n",
      "\n",
      "Time: 0.466 seconds.\n",
      "java -ea -Xmx1g -cp /mnt/c/Users/iljap/OneDrive/Work/RSF_projects/Igor/BatShotMetaFlow/04_Densoviruses_t/bbmap/current/ jgi.RenameReads in=phylogenomics/data/proteomes_renamed/round_1/NC_004290.1_renamed.fa prefix=NC_004290.1 addprefix=true out=phylogenomics/data/proteomes_renamed/round_2/NC_004290.1.fa ignorejunk=true\n",
      "Executing jgi.RenameReads [in=phylogenomics/data/proteomes_renamed/round_1/NC_004290.1_renamed.fa, prefix=NC_004290.1, addprefix=true, out=phylogenomics/data/proteomes_renamed/round_2/NC_004290.1.fa, ignorejunk=true]\n",
      "\n",
      "Time: 0.489 seconds.\n",
      "java -ea -Xmx1g -cp /mnt/c/Users/iljap/OneDrive/Work/RSF_projects/Igor/BatShotMetaFlow/04_Densoviruses_t/bbmap/current/ jgi.RenameReads in=phylogenomics/data/proteomes_renamed/round_1/NC_005040.1_renamed.fa prefix=NC_005040.1 addprefix=true out=phylogenomics/data/proteomes_renamed/round_2/NC_005040.1.fa ignorejunk=true\n",
      "Executing jgi.RenameReads [in=phylogenomics/data/proteomes_renamed/round_1/NC_005040.1_renamed.fa, prefix=NC_005040.1, addprefix=true, out=phylogenomics/data/proteomes_renamed/round_2/NC_005040.1.fa, ignorejunk=true]\n",
      "\n",
      "Time: 0.478 seconds.\n",
      "java -ea -Xmx1g -cp /mnt/c/Users/iljap/OneDrive/Work/RSF_projects/Igor/BatShotMetaFlow/04_Densoviruses_t/bbmap/current/ jgi.RenameReads in=phylogenomics/data/proteomes_renamed/round_1/NC_005041.2_renamed.fa prefix=NC_005041.2 addprefix=true out=phylogenomics/data/proteomes_renamed/round_2/NC_005041.2.fa ignorejunk=true\n",
      "Executing jgi.RenameReads [in=phylogenomics/data/proteomes_renamed/round_1/NC_005041.2_renamed.fa, prefix=NC_005041.2, addprefix=true, out=phylogenomics/data/proteomes_renamed/round_2/NC_005041.2.fa, ignorejunk=true]\n",
      "\n",
      "Time: 0.457 seconds.\n",
      "java -ea -Xmx1g -cp /mnt/c/Users/iljap/OneDrive/Work/RSF_projects/Igor/BatShotMetaFlow/04_Densoviruses_t/bbmap/current/ jgi.RenameReads in=phylogenomics/data/proteomes_renamed/round_1/NC_005341.1_renamed.fa prefix=NC_005341.1 addprefix=true out=phylogenomics/data/proteomes_renamed/round_2/NC_005341.1.fa ignorejunk=true\n",
      "Executing jgi.RenameReads [in=phylogenomics/data/proteomes_renamed/round_1/NC_005341.1_renamed.fa, prefix=NC_005341.1, addprefix=true, out=phylogenomics/data/proteomes_renamed/round_2/NC_005341.1.fa, ignorejunk=true]\n",
      "\n",
      "Time: 0.459 seconds.\n",
      "java -ea -Xmx1g -cp /mnt/c/Users/iljap/OneDrive/Work/RSF_projects/Igor/BatShotMetaFlow/04_Densoviruses_t/bbmap/current/ jgi.RenameReads in=phylogenomics/data/proteomes_renamed/round_1/NC_006555.1_renamed.fa prefix=NC_006555.1 addprefix=true out=phylogenomics/data/proteomes_renamed/round_2/NC_006555.1.fa ignorejunk=true\n",
      "Executing jgi.RenameReads [in=phylogenomics/data/proteomes_renamed/round_1/NC_006555.1_renamed.fa, prefix=NC_006555.1, addprefix=true, out=phylogenomics/data/proteomes_renamed/round_2/NC_006555.1.fa, ignorejunk=true]\n",
      "\n",
      "Time: 0.494 seconds.\n",
      "java -ea -Xmx1g -cp /mnt/c/Users/iljap/OneDrive/Work/RSF_projects/Igor/BatShotMetaFlow/04_Densoviruses_t/bbmap/current/ jgi.RenameReads in=phylogenomics/data/proteomes_renamed/round_1/NC_011317.1_renamed.fa prefix=NC_011317.1 addprefix=true out=phylogenomics/data/proteomes_renamed/round_2/NC_011317.1.fa ignorejunk=true\n",
      "Executing jgi.RenameReads [in=phylogenomics/data/proteomes_renamed/round_1/NC_011317.1_renamed.fa, prefix=NC_011317.1, addprefix=true, out=phylogenomics/data/proteomes_renamed/round_2/NC_011317.1.fa, ignorejunk=true]\n",
      "\n",
      "Time: 0.407 seconds.\n",
      "java -ea -Xmx1g -cp /mnt/c/Users/iljap/OneDrive/Work/RSF_projects/Igor/BatShotMetaFlow/04_Densoviruses_t/bbmap/current/ jgi.RenameReads in=phylogenomics/data/proteomes_renamed/round_1/NC_011545.2_renamed.fa prefix=NC_011545.2 addprefix=true out=phylogenomics/data/proteomes_renamed/round_2/NC_011545.2.fa ignorejunk=true\n",
      "Executing jgi.RenameReads [in=phylogenomics/data/proteomes_renamed/round_1/NC_011545.2_renamed.fa, prefix=NC_011545.2, addprefix=true, out=phylogenomics/data/proteomes_renamed/round_2/NC_011545.2.fa, ignorejunk=true]\n",
      "\n",
      "Time: 0.479 seconds.\n",
      "java -ea -Xmx1g -cp /mnt/c/Users/iljap/OneDrive/Work/RSF_projects/Igor/BatShotMetaFlow/04_Densoviruses_t/bbmap/current/ jgi.RenameReads in=phylogenomics/data/proteomes_renamed/round_1/NC_012636.1_renamed.fa prefix=NC_012636.1 addprefix=true out=phylogenomics/data/proteomes_renamed/round_2/NC_012636.1.fa ignorejunk=true\n",
      "Executing jgi.RenameReads [in=phylogenomics/data/proteomes_renamed/round_1/NC_012636.1_renamed.fa, prefix=NC_012636.1, addprefix=true, out=phylogenomics/data/proteomes_renamed/round_2/NC_012636.1.fa, ignorejunk=true]\n",
      "\n",
      "Time: 0.464 seconds.\n",
      "java -ea -Xmx1g -cp /mnt/c/Users/iljap/OneDrive/Work/RSF_projects/Igor/BatShotMetaFlow/04_Densoviruses_t/bbmap/current/ jgi.RenameReads in=phylogenomics/data/proteomes_renamed/round_1/NC_012685.1_renamed.fa prefix=NC_012685.1 addprefix=true out=phylogenomics/data/proteomes_renamed/round_2/NC_012685.1.fa ignorejunk=true\n",
      "Executing jgi.RenameReads [in=phylogenomics/data/proteomes_renamed/round_1/NC_012685.1_renamed.fa, prefix=NC_012685.1, addprefix=true, out=phylogenomics/data/proteomes_renamed/round_2/NC_012685.1.fa, ignorejunk=true]\n",
      "\n",
      "Time: 0.489 seconds.\n",
      "java -ea -Xmx1g -cp /mnt/c/Users/iljap/OneDrive/Work/RSF_projects/Igor/BatShotMetaFlow/04_Densoviruses_t/bbmap/current/ jgi.RenameReads in=phylogenomics/data/proteomes_renamed/round_1/NC_014357.1_renamed.fa prefix=NC_014357.1 addprefix=true out=phylogenomics/data/proteomes_renamed/round_2/NC_014357.1.fa ignorejunk=true\n",
      "Executing jgi.RenameReads [in=phylogenomics/data/proteomes_renamed/round_1/NC_014357.1_renamed.fa, prefix=NC_014357.1, addprefix=true, out=phylogenomics/data/proteomes_renamed/round_2/NC_014357.1.fa, ignorejunk=true]\n",
      "\n",
      "Time: 0.420 seconds.\n",
      "java -ea -Xmx1g -cp /mnt/c/Users/iljap/OneDrive/Work/RSF_projects/Igor/BatShotMetaFlow/04_Densoviruses_t/bbmap/current/ jgi.RenameReads in=phylogenomics/data/proteomes_renamed/round_1/NC_015115.1_renamed.fa prefix=NC_015115.1 addprefix=true out=phylogenomics/data/proteomes_renamed/round_2/NC_015115.1.fa ignorejunk=true\n",
      "Executing jgi.RenameReads [in=phylogenomics/data/proteomes_renamed/round_1/NC_015115.1_renamed.fa, prefix=NC_015115.1, addprefix=true, out=phylogenomics/data/proteomes_renamed/round_2/NC_015115.1.fa, ignorejunk=true]\n",
      "\n",
      "Time: 0.501 seconds.\n",
      "java -ea -Xmx1g -cp /mnt/c/Users/iljap/OneDrive/Work/RSF_projects/Igor/BatShotMetaFlow/04_Densoviruses_t/bbmap/current/ jgi.RenameReads in=phylogenomics/data/proteomes_renamed/round_1/NC_015718.1_renamed.fa prefix=NC_015718.1 addprefix=true out=phylogenomics/data/proteomes_renamed/round_2/NC_015718.1.fa ignorejunk=true\n",
      "Executing jgi.RenameReads [in=phylogenomics/data/proteomes_renamed/round_1/NC_015718.1_renamed.fa, prefix=NC_015718.1, addprefix=true, out=phylogenomics/data/proteomes_renamed/round_2/NC_015718.1.fa, ignorejunk=true]\n",
      "\n",
      "Time: 0.462 seconds.\n",
      "java -ea -Xmx1g -cp /mnt/c/Users/iljap/OneDrive/Work/RSF_projects/Igor/BatShotMetaFlow/04_Densoviruses_t/bbmap/current/ jgi.RenameReads in=phylogenomics/data/proteomes_renamed/round_1/NC_018399.1_renamed.fa prefix=NC_018399.1 addprefix=true out=phylogenomics/data/proteomes_renamed/round_2/NC_018399.1.fa ignorejunk=true\n",
      "Executing jgi.RenameReads [in=phylogenomics/data/proteomes_renamed/round_1/NC_018399.1_renamed.fa, prefix=NC_018399.1, addprefix=true, out=phylogenomics/data/proteomes_renamed/round_2/NC_018399.1.fa, ignorejunk=true]\n",
      "\n",
      "Time: 0.407 seconds.\n",
      "java -ea -Xmx1g -cp /mnt/c/Users/iljap/OneDrive/Work/RSF_projects/Igor/BatShotMetaFlow/04_Densoviruses_t/bbmap/current/ jgi.RenameReads in=phylogenomics/data/proteomes_renamed/round_1/NC_018450.1_renamed.fa prefix=NC_018450.1 addprefix=true out=phylogenomics/data/proteomes_renamed/round_2/NC_018450.1.fa ignorejunk=true\n",
      "Executing jgi.RenameReads [in=phylogenomics/data/proteomes_renamed/round_1/NC_018450.1_renamed.fa, prefix=NC_018450.1, addprefix=true, out=phylogenomics/data/proteomes_renamed/round_2/NC_018450.1.fa, ignorejunk=true]\n",
      "\n",
      "Time: 0.462 seconds.\n",
      "java -ea -Xmx1g -cp /mnt/c/Users/iljap/OneDrive/Work/RSF_projects/Igor/BatShotMetaFlow/04_Densoviruses_t/bbmap/current/ jgi.RenameReads in=phylogenomics/data/proteomes_renamed/round_1/NC_019492.1_renamed.fa prefix=NC_019492.1 addprefix=true out=phylogenomics/data/proteomes_renamed/round_2/NC_019492.1.fa ignorejunk=true\n",
      "Executing jgi.RenameReads [in=phylogenomics/data/proteomes_renamed/round_1/NC_019492.1_renamed.fa, prefix=NC_019492.1, addprefix=true, out=phylogenomics/data/proteomes_renamed/round_2/NC_019492.1.fa, ignorejunk=true]\n",
      "\n",
      "Time: 0.425 seconds.\n",
      "java -ea -Xmx1g -cp /mnt/c/Users/iljap/OneDrive/Work/RSF_projects/Igor/BatShotMetaFlow/04_Densoviruses_t/bbmap/current/ jgi.RenameReads in=phylogenomics/data/proteomes_renamed/round_1/NC_020927.1_renamed.fa prefix=NC_020927.1 addprefix=true out=phylogenomics/data/proteomes_renamed/round_2/NC_020927.1.fa ignorejunk=true\n",
      "Executing jgi.RenameReads [in=phylogenomics/data/proteomes_renamed/round_1/NC_020927.1_renamed.fa, prefix=NC_020927.1, addprefix=true, out=phylogenomics/data/proteomes_renamed/round_2/NC_020927.1.fa, ignorejunk=true]\n",
      "\n",
      "Time: 0.452 seconds.\n",
      "java -ea -Xmx1g -cp /mnt/c/Users/iljap/OneDrive/Work/RSF_projects/Igor/BatShotMetaFlow/04_Densoviruses_t/bbmap/current/ jgi.RenameReads in=phylogenomics/data/proteomes_renamed/round_1/NC_022564.1_renamed.fa prefix=NC_022564.1 addprefix=true out=phylogenomics/data/proteomes_renamed/round_2/NC_022564.1.fa ignorejunk=true\n",
      "Executing jgi.RenameReads [in=phylogenomics/data/proteomes_renamed/round_1/NC_022564.1_renamed.fa, prefix=NC_022564.1, addprefix=true, out=phylogenomics/data/proteomes_renamed/round_2/NC_022564.1.fa, ignorejunk=true]\n",
      "\n",
      "Time: 0.448 seconds.\n",
      "java -ea -Xmx1g -cp /mnt/c/Users/iljap/OneDrive/Work/RSF_projects/Igor/BatShotMetaFlow/04_Densoviruses_t/bbmap/current/ jgi.RenameReads in=phylogenomics/data/proteomes_renamed/round_1/NC_022748.1_renamed.fa prefix=NC_022748.1 addprefix=true out=phylogenomics/data/proteomes_renamed/round_2/NC_022748.1.fa ignorejunk=true\n",
      "Executing jgi.RenameReads [in=phylogenomics/data/proteomes_renamed/round_1/NC_022748.1_renamed.fa, prefix=NC_022748.1, addprefix=true, out=phylogenomics/data/proteomes_renamed/round_2/NC_022748.1.fa, ignorejunk=true]\n",
      "\n",
      "Time: 0.479 seconds.\n",
      "java -ea -Xmx1g -cp /mnt/c/Users/iljap/OneDrive/Work/RSF_projects/Igor/BatShotMetaFlow/04_Densoviruses_t/bbmap/current/ jgi.RenameReads in=phylogenomics/data/proteomes_renamed/round_1/NC_026943.1_renamed.fa prefix=NC_026943.1 addprefix=true out=phylogenomics/data/proteomes_renamed/round_2/NC_026943.1.fa ignorejunk=true\n",
      "Executing jgi.RenameReads [in=phylogenomics/data/proteomes_renamed/round_1/NC_026943.1_renamed.fa, prefix=NC_026943.1, addprefix=true, out=phylogenomics/data/proteomes_renamed/round_2/NC_026943.1.fa, ignorejunk=true]\n",
      "\n",
      "Time: 0.461 seconds.\n",
      "java -ea -Xmx1g -cp /mnt/c/Users/iljap/OneDrive/Work/RSF_projects/Igor/BatShotMetaFlow/04_Densoviruses_t/bbmap/current/ jgi.RenameReads in=phylogenomics/data/proteomes_renamed/round_1/NC_030296.1_renamed.fa prefix=NC_030296.1 addprefix=true out=phylogenomics/data/proteomes_renamed/round_2/NC_030296.1.fa ignorejunk=true\n",
      "Executing jgi.RenameReads [in=phylogenomics/data/proteomes_renamed/round_1/NC_030296.1_renamed.fa, prefix=NC_030296.1, addprefix=true, out=phylogenomics/data/proteomes_renamed/round_2/NC_030296.1.fa, ignorejunk=true]\n",
      "\n",
      "Time: 0.448 seconds.\n",
      "java -ea -Xmx1g -cp /mnt/c/Users/iljap/OneDrive/Work/RSF_projects/Igor/BatShotMetaFlow/04_Densoviruses_t/bbmap/current/ jgi.RenameReads in=phylogenomics/data/proteomes_renamed/round_1/NC_031450.1_renamed.fa prefix=NC_031450.1 addprefix=true out=phylogenomics/data/proteomes_renamed/round_2/NC_031450.1.fa ignorejunk=true\n",
      "Executing jgi.RenameReads [in=phylogenomics/data/proteomes_renamed/round_1/NC_031450.1_renamed.fa, prefix=NC_031450.1, addprefix=true, out=phylogenomics/data/proteomes_renamed/round_2/NC_031450.1.fa, ignorejunk=true]\n",
      "\n",
      "Time: 0.464 seconds.\n",
      "java -ea -Xmx1g -cp /mnt/c/Users/iljap/OneDrive/Work/RSF_projects/Igor/BatShotMetaFlow/04_Densoviruses_t/bbmap/current/ jgi.RenameReads in=phylogenomics/data/proteomes_renamed/round_1/NC_038376.1_renamed.fa prefix=NC_038376.1 addprefix=true out=phylogenomics/data/proteomes_renamed/round_2/NC_038376.1.fa ignorejunk=true\n",
      "Executing jgi.RenameReads [in=phylogenomics/data/proteomes_renamed/round_1/NC_038376.1_renamed.fa, prefix=NC_038376.1, addprefix=true, out=phylogenomics/data/proteomes_renamed/round_2/NC_038376.1.fa, ignorejunk=true]\n",
      "\n",
      "Time: 0.490 seconds.\n",
      "java -ea -Xmx1g -cp /mnt/c/Users/iljap/OneDrive/Work/RSF_projects/Igor/BatShotMetaFlow/04_Densoviruses_t/bbmap/current/ jgi.RenameReads in=phylogenomics/data/proteomes_renamed/round_1/NC_040626.1_renamed.fa prefix=NC_040626.1 addprefix=true out=phylogenomics/data/proteomes_renamed/round_2/NC_040626.1.fa ignorejunk=true\n",
      "Executing jgi.RenameReads [in=phylogenomics/data/proteomes_renamed/round_1/NC_040626.1_renamed.fa, prefix=NC_040626.1, addprefix=true, out=phylogenomics/data/proteomes_renamed/round_2/NC_040626.1.fa, ignorejunk=true]\n",
      "\n",
      "Time: 0.517 seconds.\n",
      "java -ea -Xmx1g -cp /mnt/c/Users/iljap/OneDrive/Work/RSF_projects/Igor/BatShotMetaFlow/04_Densoviruses_t/bbmap/current/ jgi.RenameReads in=phylogenomics/data/proteomes_renamed/round_1/NC_075118.1_renamed.fa prefix=NC_075118.1 addprefix=true out=phylogenomics/data/proteomes_renamed/round_2/NC_075118.1.fa ignorejunk=true\n",
      "Executing jgi.RenameReads [in=phylogenomics/data/proteomes_renamed/round_1/NC_075118.1_renamed.fa, prefix=NC_075118.1, addprefix=true, out=phylogenomics/data/proteomes_renamed/round_2/NC_075118.1.fa, ignorejunk=true]\n",
      "\n",
      "Time: 0.466 seconds.\n",
      "java -ea -Xmx1g -cp /mnt/c/Users/iljap/OneDrive/Work/RSF_projects/Igor/BatShotMetaFlow/04_Densoviruses_t/bbmap/current/ jgi.RenameReads in=phylogenomics/data/proteomes_renamed/round_1/NC_077018.1_renamed.fa prefix=NC_077018.1 addprefix=true out=phylogenomics/data/proteomes_renamed/round_2/NC_077018.1.fa ignorejunk=true\n",
      "Executing jgi.RenameReads [in=phylogenomics/data/proteomes_renamed/round_1/NC_077018.1_renamed.fa, prefix=NC_077018.1, addprefix=true, out=phylogenomics/data/proteomes_renamed/round_2/NC_077018.1.fa, ignorejunk=true]\n",
      "\n",
      "Time: 0.489 seconds.\n",
      "java -ea -Xmx1g -cp /mnt/c/Users/iljap/OneDrive/Work/RSF_projects/Igor/BatShotMetaFlow/04_Densoviruses_t/bbmap/current/ jgi.RenameReads in=phylogenomics/data/proteomes_renamed/round_1/NC_077036.1_renamed.fa prefix=NC_077036.1 addprefix=true out=phylogenomics/data/proteomes_renamed/round_2/NC_077036.1.fa ignorejunk=true\n",
      "Executing jgi.RenameReads [in=phylogenomics/data/proteomes_renamed/round_1/NC_077036.1_renamed.fa, prefix=NC_077036.1, addprefix=true, out=phylogenomics/data/proteomes_renamed/round_2/NC_077036.1.fa, ignorejunk=true]\n",
      "\n",
      "Time: 0.487 seconds.\n",
      "java -ea -Xmx1g -cp /mnt/c/Users/iljap/OneDrive/Work/RSF_projects/Igor/BatShotMetaFlow/04_Densoviruses_t/bbmap/current/ jgi.RenameReads in=phylogenomics/data/proteomes_renamed/round_1/NC_077038.1_renamed.fa prefix=NC_077038.1 addprefix=true out=phylogenomics/data/proteomes_renamed/round_2/NC_077038.1.fa ignorejunk=true\n",
      "Executing jgi.RenameReads [in=phylogenomics/data/proteomes_renamed/round_1/NC_077038.1_renamed.fa, prefix=NC_077038.1, addprefix=true, out=phylogenomics/data/proteomes_renamed/round_2/NC_077038.1.fa, ignorejunk=true]\n",
      "\n",
      "Time: 0.490 seconds.\n",
      "java -ea -Xmx1g -cp /mnt/c/Users/iljap/OneDrive/Work/RSF_projects/Igor/BatShotMetaFlow/04_Densoviruses_t/bbmap/current/ jgi.RenameReads in=phylogenomics/data/proteomes_renamed/round_1/NC_077050.1_renamed.fa prefix=NC_077050.1 addprefix=true out=phylogenomics/data/proteomes_renamed/round_2/NC_077050.1.fa ignorejunk=true\n",
      "Executing jgi.RenameReads [in=phylogenomics/data/proteomes_renamed/round_1/NC_077050.1_renamed.fa, prefix=NC_077050.1, addprefix=true, out=phylogenomics/data/proteomes_renamed/round_2/NC_077050.1.fa, ignorejunk=true]\n",
      "\n",
      "Time: 0.477 seconds.\n",
      "java -ea -Xmx1g -cp /mnt/c/Users/iljap/OneDrive/Work/RSF_projects/Igor/BatShotMetaFlow/04_Densoviruses_t/bbmap/current/ jgi.RenameReads in=phylogenomics/data/proteomes_renamed/round_1/NC_077051.1_renamed.fa prefix=NC_077051.1 addprefix=true out=phylogenomics/data/proteomes_renamed/round_2/NC_077051.1.fa ignorejunk=true\n",
      "Executing jgi.RenameReads [in=phylogenomics/data/proteomes_renamed/round_1/NC_077051.1_renamed.fa, prefix=NC_077051.1, addprefix=true, out=phylogenomics/data/proteomes_renamed/round_2/NC_077051.1.fa, ignorejunk=true]\n",
      "\n",
      "Time: 0.476 seconds.\n",
      "java -ea -Xmx1g -cp /mnt/c/Users/iljap/OneDrive/Work/RSF_projects/Igor/BatShotMetaFlow/04_Densoviruses_t/bbmap/current/ jgi.RenameReads in=phylogenomics/data/proteomes_renamed/round_1/NC_077065.1_renamed.fa prefix=NC_077065.1 addprefix=true out=phylogenomics/data/proteomes_renamed/round_2/NC_077065.1.fa ignorejunk=true\n",
      "Executing jgi.RenameReads [in=phylogenomics/data/proteomes_renamed/round_1/NC_077065.1_renamed.fa, prefix=NC_077065.1, addprefix=true, out=phylogenomics/data/proteomes_renamed/round_2/NC_077065.1.fa, ignorejunk=true]\n",
      "\n",
      "Time: 0.532 seconds.\n",
      "java -ea -Xmx1g -cp /mnt/c/Users/iljap/OneDrive/Work/RSF_projects/Igor/BatShotMetaFlow/04_Densoviruses_t/bbmap/current/ jgi.RenameReads in=phylogenomics/data/proteomes_renamed/round_1/NC_077069.1_renamed.fa prefix=NC_077069.1 addprefix=true out=phylogenomics/data/proteomes_renamed/round_2/NC_077069.1.fa ignorejunk=true\n",
      "Executing jgi.RenameReads [in=phylogenomics/data/proteomes_renamed/round_1/NC_077069.1_renamed.fa, prefix=NC_077069.1, addprefix=true, out=phylogenomics/data/proteomes_renamed/round_2/NC_077069.1.fa, ignorejunk=true]\n",
      "\n",
      "Time: 0.514 seconds.\n",
      "java -ea -Xmx1g -cp /mnt/c/Users/iljap/OneDrive/Work/RSF_projects/Igor/BatShotMetaFlow/04_Densoviruses_t/bbmap/current/ jgi.RenameReads in=phylogenomics/data/proteomes_renamed/round_1/NC_077079.1_renamed.fa prefix=NC_077079.1 addprefix=true out=phylogenomics/data/proteomes_renamed/round_2/NC_077079.1.fa ignorejunk=true\n",
      "Executing jgi.RenameReads [in=phylogenomics/data/proteomes_renamed/round_1/NC_077079.1_renamed.fa, prefix=NC_077079.1, addprefix=true, out=phylogenomics/data/proteomes_renamed/round_2/NC_077079.1.fa, ignorejunk=true]\n",
      "\n",
      "Time: 0.543 seconds.\n",
      "java -ea -Xmx1g -cp /mnt/c/Users/iljap/OneDrive/Work/RSF_projects/Igor/BatShotMetaFlow/04_Densoviruses_t/bbmap/current/ jgi.RenameReads in=phylogenomics/data/proteomes_renamed/round_1/NC_077080.1_renamed.fa prefix=NC_077080.1 addprefix=true out=phylogenomics/data/proteomes_renamed/round_2/NC_077080.1.fa ignorejunk=true\n",
      "Executing jgi.RenameReads [in=phylogenomics/data/proteomes_renamed/round_1/NC_077080.1_renamed.fa, prefix=NC_077080.1, addprefix=true, out=phylogenomics/data/proteomes_renamed/round_2/NC_077080.1.fa, ignorejunk=true]\n",
      "\n",
      "Time: 0.519 seconds.\n",
      "java -ea -Xmx1g -cp /mnt/c/Users/iljap/OneDrive/Work/RSF_projects/Igor/BatShotMetaFlow/04_Densoviruses_t/bbmap/current/ jgi.RenameReads in=phylogenomics/data/proteomes_renamed/round_1/NC_077081.1_renamed.fa prefix=NC_077081.1 addprefix=true out=phylogenomics/data/proteomes_renamed/round_2/NC_077081.1.fa ignorejunk=true\n",
      "Executing jgi.RenameReads [in=phylogenomics/data/proteomes_renamed/round_1/NC_077081.1_renamed.fa, prefix=NC_077081.1, addprefix=true, out=phylogenomics/data/proteomes_renamed/round_2/NC_077081.1.fa, ignorejunk=true]\n",
      "\n",
      "Time: 0.507 seconds.\n",
      "java -ea -Xmx1g -cp /mnt/c/Users/iljap/OneDrive/Work/RSF_projects/Igor/BatShotMetaFlow/04_Densoviruses_t/bbmap/current/ jgi.RenameReads in=phylogenomics/data/proteomes_renamed/round_1/NC_077082.1_renamed.fa prefix=NC_077082.1 addprefix=true out=phylogenomics/data/proteomes_renamed/round_2/NC_077082.1.fa ignorejunk=true\n",
      "Executing jgi.RenameReads [in=phylogenomics/data/proteomes_renamed/round_1/NC_077082.1_renamed.fa, prefix=NC_077082.1, addprefix=true, out=phylogenomics/data/proteomes_renamed/round_2/NC_077082.1.fa, ignorejunk=true]\n",
      "\n",
      "Time: 0.517 seconds.\n",
      "java -ea -Xmx1g -cp /mnt/c/Users/iljap/OneDrive/Work/RSF_projects/Igor/BatShotMetaFlow/04_Densoviruses_t/bbmap/current/ jgi.RenameReads in=phylogenomics/data/proteomes_renamed/round_1/NC_077083.1_renamed.fa prefix=NC_077083.1 addprefix=true out=phylogenomics/data/proteomes_renamed/round_2/NC_077083.1.fa ignorejunk=true\n",
      "Executing jgi.RenameReads [in=phylogenomics/data/proteomes_renamed/round_1/NC_077083.1_renamed.fa, prefix=NC_077083.1, addprefix=true, out=phylogenomics/data/proteomes_renamed/round_2/NC_077083.1.fa, ignorejunk=true]\n",
      "\n",
      "Time: 0.543 seconds.\n"
     ]
    }
   ],
   "source": [
    "%%bash\n",
    "\n",
    "for file in phylogenomics/data/proteomes_renamed/round_1/*_renamed.fa\n",
    "do export species_name=$(basename $file _renamed.fa)\n",
    "bbmap/rename.sh in=$file prefix=\"$species_name\" addprefix=true out=phylogenomics/data/proteomes_renamed/round_2/$species_name.fa ignorejunk=true ;\n",
    "done"
   ]
  },
  {
   "cell_type": "markdown",
   "metadata": {},
   "source": [
    "Let's check if `BBMap` did good"
   ]
  },
  {
   "cell_type": "code",
   "execution_count": 47,
   "metadata": {},
   "outputs": [
    {
     "name": "stdout",
     "output_type": "stream",
     "text": [
      ">NC_000936.1_structural protein\n"
     ]
    }
   ],
   "source": [
    "! head -1 phylogenomics/data/proteomes_renamed/round_2/NC_000936.1.fa"
   ]
  },
  {
   "cell_type": "markdown",
   "metadata": {},
   "source": [
    "Perfect"
   ]
  },
  {
   "cell_type": "markdown",
   "metadata": {},
   "source": [
    "#### **Part 6.2.3. Round 3**"
   ]
  },
  {
   "cell_type": "markdown",
   "metadata": {},
   "source": [
    "For the 3rd round we will:\n",
    "\n",
    "- Make this `>Densovirus_P3_structural protein` look like this: `>Densovirus_P3_structural_protein_`<br>\n",
    "\n",
    "So, we will replace each space with underline"
   ]
  },
  {
   "cell_type": "code",
   "execution_count": 48,
   "metadata": {},
   "outputs": [],
   "source": [
    "%%bash\n",
    "\n",
    "for file in phylogenomics/data/proteomes_renamed/round_2/*.fa\n",
    "do sed -E '/^>/ s/ /_/g' $file > phylogenomics/data/proteomes_renamed/round_3/$(basename \"$file\")\n",
    "done"
   ]
  },
  {
   "cell_type": "markdown",
   "metadata": {},
   "source": [
    "Let's check if `sed` did good"
   ]
  },
  {
   "cell_type": "code",
   "execution_count": 49,
   "metadata": {},
   "outputs": [
    {
     "name": "stdout",
     "output_type": "stream",
     "text": [
      ">Densovirus_P3_structural_protein_\n"
     ]
    }
   ],
   "source": [
    "! head -1 phylogenomics/data/proteomes_renamed/round_3/Densovirus_P3.fa"
   ]
  },
  {
   "cell_type": "markdown",
   "metadata": {},
   "source": [
    "Perfect"
   ]
  },
  {
   "cell_type": "markdown",
   "metadata": {},
   "source": [
    "#### **Part 6.2.4. Round 4**"
   ]
  },
  {
   "cell_type": "markdown",
   "metadata": {},
   "source": [
    "Import `SeqIO` from `Biopython`"
   ]
  },
  {
   "cell_type": "code",
   "execution_count": 50,
   "metadata": {},
   "outputs": [],
   "source": [
    "from Bio import SeqIO"
   ]
  },
  {
   "cell_type": "markdown",
   "metadata": {},
   "source": [
    "For the 4th round we will:\n",
    "\n",
    "- Make this `>Densovirus_P3_structural protein` look like this: `>Densovirus_P3_structural_protein__1`<br>\n",
    "\n",
    "So, we will enumerate genes. Some viruses has several structural or nonstructural proteins without enumeration. It will be bad further, so we must enumerate them."
   ]
  },
  {
   "cell_type": "code",
   "execution_count": 51,
   "metadata": {},
   "outputs": [],
   "source": [
    "def rename_sequences(input_dir, output_dir):\n",
    "    # Create the output directory if it doesn't exist\n",
    "    os.makedirs(output_dir, exist_ok=True)\n",
    "    \n",
    "    # Loop through each FASTA file in the directory\n",
    "    for filename in os.listdir(input_dir):\n",
    "        if filename.endswith(\".fasta\") or filename.endswith(\".fa\"):\n",
    "            filepath = os.path.join(input_dir, filename)\n",
    "            output_filepath = os.path.join(output_dir, filename)\n",
    "\n",
    "            # Dictionary to keep track of sequence names and their counts\n",
    "            name_count = {}\n",
    "            \n",
    "            # List to store the updated sequences\n",
    "            updated_sequences = []\n",
    "            \n",
    "            # Read the FASTA file\n",
    "            for record in SeqIO.parse(filepath, \"fasta\"):\n",
    "                name = record.id\n",
    "                \n",
    "                # If the name is already seen, append a count suffix\n",
    "                if name in name_count:\n",
    "                    name_count[name] += 1\n",
    "                    new_name = f\"{name}_{name_count[name]}\"\n",
    "                else:\n",
    "                    name_count[name] = 1\n",
    "                    new_name = f\"{name}_1\"\n",
    "                \n",
    "                # Update the record ID\n",
    "                record.id = new_name\n",
    "                record.description = \"\"  # Optionally clear the description\n",
    "                \n",
    "                # Store the updated record\n",
    "                updated_sequences.append(record)\n",
    "\n",
    "            # Write the updated sequences to a new FASTA file\n",
    "            with open(output_filepath, \"w\") as output_handle:\n",
    "                SeqIO.write(updated_sequences, output_handle, \"fasta\")"
   ]
  },
  {
   "cell_type": "markdown",
   "metadata": {},
   "source": [
    "Run the function above"
   ]
  },
  {
   "cell_type": "code",
   "execution_count": 52,
   "metadata": {},
   "outputs": [],
   "source": [
    "input_dir = \"phylogenomics/data/proteomes_renamed/round_3\"\n",
    "output_dir = \"phylogenomics/data/proteomes_renamed/round_4\"\n",
    "rename_sequences(input_dir, output_dir)"
   ]
  },
  {
   "cell_type": "markdown",
   "metadata": {},
   "source": [
    "Let's check if function `rename_sequences()` did good"
   ]
  },
  {
   "cell_type": "code",
   "execution_count": 53,
   "metadata": {},
   "outputs": [
    {
     "name": "stdout",
     "output_type": "stream",
     "text": [
      ">Densovirus_P3_structural_protein__1\n"
     ]
    }
   ],
   "source": [
    "! head -1 phylogenomics/data/proteomes_renamed/round_4/Densovirus_P3.fa"
   ]
  },
  {
   "cell_type": "markdown",
   "metadata": {},
   "source": [
    "Perfect"
   ]
  },
  {
   "cell_type": "markdown",
   "metadata": {},
   "source": [
    "**Disclaimer**<br>\n",
    "Unfortunatelly, we have to delete the `NC_004284.1 Junonia coenia densovirus, complete genome` from the analysis, because `Proteinortho` complains that this exactly sequence has some inapropriate letters in it."
   ]
  },
  {
   "cell_type": "code",
   "execution_count": 54,
   "metadata": {},
   "outputs": [],
   "source": [
    "! rm -rf phylogenomics/data/proteomes_renamed/round_4/NC_004284.1.fa"
   ]
  },
  {
   "cell_type": "markdown",
   "metadata": {},
   "source": [
    "### **Part 6.3. Launching `Proteinortho` to find the orhologs**"
   ]
  },
  {
   "cell_type": "markdown",
   "metadata": {},
   "source": [
    "Launch `Proteinortho`"
   ]
  },
  {
   "cell_type": "code",
   "execution_count": 55,
   "metadata": {},
   "outputs": [
    {
     "name": "stdout",
     "output_type": "stream",
     "text": [
      "*****************************************************************\n",
      "\u001b[1;32mProteinortho\u001b[0m with PoFF version 6.3.2 - An orthology detection tool\n",
      "*****************************************************************\n",
      "Using 24 CPU threads (4 threads per processes each with 6 threads), Detected 'diamond' version 2.0.9\n",
      "Checking input files.\n",
      "Checking phylogenomics/data/proteomes_renamed/round_4/Densovirus_D1.fa... ok\n",
      "Checking phylogenomics/data/proteomes_renamed/round_4/Densovirus_D2.fa... ok\n",
      "Checking phylogenomics/data/proteomes_renamed/round_4/Densovirus_D3.fa... ok\n",
      "Checking phylogenomics/data/proteomes_renamed/round_4/Densovirus_D4.fa... ok\n",
      "Checking phylogenomics/data/proteomes_renamed/round_4/Densovirus_D5.fa... ok\n",
      "Checking phylogenomics/data/proteomes_renamed/round_4/Densovirus_P1.fa... ok\n",
      "Checking phylogenomics/data/proteomes_renamed/round_4/Densovirus_P2.fa... ok\n",
      "Checking phylogenomics/data/proteomes_renamed/round_4/Densovirus_P3.fa... ok\n",
      "Checking phylogenomics/data/proteomes_renamed/round_4/Densovirus_P4.fa... ok\n",
      "Checking phylogenomics/data/proteomes_renamed/round_4/Densovirus_P5.fa... ok\n",
      "Checking phylogenomics/data/proteomes_renamed/round_4/MW628494.1.fa... ok\n",
      "Checking phylogenomics/data/proteomes_renamed/round_4/NC_000936.1.fa... ok\n",
      "Checking phylogenomics/data/proteomes_renamed/round_4/NC_001899.1.fa... ok\n",
      "Checking phylogenomics/data/proteomes_renamed/round_4/NC_003346.1.fa... ok\n",
      "Checking phylogenomics/data/proteomes_renamed/round_4/NC_004286.1.fa... ok\n",
      "Checking phylogenomics/data/proteomes_renamed/round_4/NC_004287.1.fa... ok\n",
      "Checking phylogenomics/data/proteomes_renamed/round_4/NC_004288.1.fa... ok\n",
      "Checking phylogenomics/data/proteomes_renamed/round_4/NC_004289.1.fa... ok\n",
      "Checking phylogenomics/data/proteomes_renamed/round_4/NC_004290.1.fa... ok\n",
      "Checking phylogenomics/data/proteomes_renamed/round_4/NC_005040.1.fa... ok\n",
      "Checking phylogenomics/data/proteomes_renamed/round_4/NC_005041.2.fa... ok\n",
      "Checking phylogenomics/data/proteomes_renamed/round_4/NC_005341.1.fa... ok\n",
      "Checking phylogenomics/data/proteomes_renamed/round_4/NC_006555.1.fa... ok\n",
      "Checking phylogenomics/data/proteomes_renamed/round_4/NC_011317.1.fa... ok\n",
      "Checking phylogenomics/data/proteomes_renamed/round_4/NC_011545.2.fa... ok\n",
      "Checking phylogenomics/data/proteomes_renamed/round_4/NC_012636.1.fa... ok\n",
      "Checking phylogenomics/data/proteomes_renamed/round_4/NC_012685.1.fa... ok\n",
      "Checking phylogenomics/data/proteomes_renamed/round_4/NC_014357.1.fa... ok\n",
      "Checking phylogenomics/data/proteomes_renamed/round_4/NC_015115.1.fa... ok\n",
      "Checking phylogenomics/data/proteomes_renamed/round_4/NC_015718.1.fa... ok\n",
      "Checking phylogenomics/data/proteomes_renamed/round_4/NC_018399.1.fa... ok\n",
      "Checking phylogenomics/data/proteomes_renamed/round_4/NC_018450.1.fa... ok\n",
      "Checking phylogenomics/data/proteomes_renamed/round_4/NC_019492.1.fa... ok\n",
      "Checking phylogenomics/data/proteomes_renamed/round_4/NC_020927.1.fa... ok\n",
      "Checking phylogenomics/data/proteomes_renamed/round_4/NC_022564.1.fa... ok\n",
      "Checking phylogenomics/data/proteomes_renamed/round_4/NC_022748.1.fa... ok\n",
      "Checking phylogenomics/data/proteomes_renamed/round_4/NC_026943.1.fa... ok\n",
      "Checking phylogenomics/data/proteomes_renamed/round_4/NC_030296.1.fa... ok\n",
      "Checking phylogenomics/data/proteomes_renamed/round_4/NC_031450.1.fa... ok\n",
      "Checking phylogenomics/data/proteomes_renamed/round_4/NC_038376.1.fa... ok\n",
      "Checking phylogenomics/data/proteomes_renamed/round_4/NC_040626.1.fa... ok\n",
      "Checking phylogenomics/data/proteomes_renamed/round_4/NC_075118.1.fa... ok\n",
      "Checking phylogenomics/data/proteomes_renamed/round_4/NC_077018.1.fa... ok\n",
      "Checking phylogenomics/data/proteomes_renamed/round_4/NC_077036.1.fa... ok\n",
      "Checking phylogenomics/data/proteomes_renamed/round_4/NC_077038.1.fa... ok\n",
      "Checking phylogenomics/data/proteomes_renamed/round_4/NC_077050.1.fa... ok\n",
      "Checking phylogenomics/data/proteomes_renamed/round_4/NC_077051.1.fa... ok\n",
      "Checking phylogenomics/data/proteomes_renamed/round_4/NC_077065.1.fa... ok\n",
      "Checking phylogenomics/data/proteomes_renamed/round_4/NC_077069.1.fa... ok\n",
      "Checking phylogenomics/data/proteomes_renamed/round_4/NC_077079.1.fa... ok\n",
      "Checking phylogenomics/data/proteomes_renamed/round_4/NC_077080.1.fa... ok\n",
      "Checking phylogenomics/data/proteomes_renamed/round_4/NC_077081.1.fa... ok\n",
      "Checking phylogenomics/data/proteomes_renamed/round_4/NC_077082.1.fa... ok\n",
      "Checking phylogenomics/data/proteomes_renamed/round_4/NC_077083.1.fa... ok\n",
      "\n",
      "\u001b[1;32m**Step 1**\u001b[0m\n",
      "Generating indices.\n",
      "Building database for 'phylogenomics/data/proteomes_renamed/round_4/NC_005040.1.fa'\t(5 sequences)\n",
      "Generating indices.\n",
      "Building database for 'phylogenomics/data/proteomes_renamed/round_4/NC_004289.1.fa'\t(4 sequences)\n",
      "Generating indices.\n",
      "Building database for 'phylogenomics/data/proteomes_renamed/round_4/NC_030296.1.fa'\t(4 sequences)\n",
      "Generating indices.\n",
      "Building database for 'phylogenomics/data/proteomes_renamed/round_4/Densovirus_D2.fa'\t(4 sequences)\n",
      "Generating indices.\n",
      "Building database for 'phylogenomics/data/proteomes_renamed/round_4/NC_075118.1.fa'\t(5 sequences)\n",
      "Generating indices.\n",
      "Building database for 'phylogenomics/data/proteomes_renamed/round_4/NC_011545.2.fa'\t(3 sequences)\n",
      "Generating indices.\n",
      "Building database for 'phylogenomics/data/proteomes_renamed/round_4/NC_012636.1.fa'\t(3 sequences)\n",
      "Generating indices.\n",
      "Building database for 'phylogenomics/data/proteomes_renamed/round_4/Densovirus_P5.fa'\t(5 sequences)\n",
      "Generating indices.\n",
      "Building database for 'phylogenomics/data/proteomes_renamed/round_4/NC_018399.1.fa'\t(3 sequences)\n",
      "Generating indices.\n",
      "Building database for 'phylogenomics/data/proteomes_renamed/round_4/NC_077079.1.fa'\t(2 sequences)\n",
      "Generating indices.\n",
      "Building database for 'phylogenomics/data/proteomes_renamed/round_4/Densovirus_D4.fa'\t(4 sequences)\n",
      "Generating indices.\n",
      "Building database for 'phylogenomics/data/proteomes_renamed/round_4/NC_015718.1.fa'\t(3 sequences)\n",
      "Generating indices.\n",
      "Building database for 'phylogenomics/data/proteomes_renamed/round_4/Densovirus_P1.fa'\t(4 sequences)\n",
      "Generating indices.\n",
      "Building database for 'phylogenomics/data/proteomes_renamed/round_4/NC_004288.1.fa'\t(3 sequences)\n",
      "Generating indices.\n",
      "Building database for 'phylogenomics/data/proteomes_renamed/round_4/NC_077083.1.fa'\t(2 sequences)\n",
      "Generating indices.\n",
      "Building database for 'phylogenomics/data/proteomes_renamed/round_4/NC_077081.1.fa'\t(2 sequences)\n",
      "Generating indices.\n",
      "Building database for 'phylogenomics/data/proteomes_renamed/round_4/Densovirus_D5.fa'\t(4 sequences)\n",
      "Generating indices.\n",
      "Building database for 'phylogenomics/data/proteomes_renamed/round_4/NC_004287.1.fa'\t(4 sequences)\n",
      "Generating indices.\n",
      "Building database for 'phylogenomics/data/proteomes_renamed/round_4/NC_019492.1.fa'\t(7 sequences)\n",
      "Generating indices.\n",
      "Building database for 'phylogenomics/data/proteomes_renamed/round_4/NC_003346.1.fa'\t(3 sequences)\n",
      "Generating indices.\n",
      "Building database for 'phylogenomics/data/proteomes_renamed/round_4/Densovirus_P2.fa'\t(4 sequences)\n",
      "Generating indices.\n",
      "Building database for 'phylogenomics/data/proteomes_renamed/round_4/MW628494.1.fa'\t(5 sequences)\n",
      "Generating indices.\n",
      "Building database for 'phylogenomics/data/proteomes_renamed/round_4/NC_014357.1.fa'\t(3 sequences)\n",
      "Generating indices.\n",
      "Building database for 'phylogenomics/data/proteomes_renamed/round_4/NC_031450.1.fa'\t(5 sequences)\n",
      "Generating indices.\n",
      "Building database for 'phylogenomics/data/proteomes_renamed/round_4/NC_022564.1.fa'\t(4 sequences)\n",
      "Generating indices.\n",
      "Building database for 'phylogenomics/data/proteomes_renamed/round_4/NC_077050.1.fa'\t(1 sequences)\n",
      "Generating indices.\n",
      "Building database for 'phylogenomics/data/proteomes_renamed/round_4/NC_077036.1.fa'\t(4 sequences)\n",
      "Generating indices.\n",
      "Building database for 'phylogenomics/data/proteomes_renamed/round_4/Densovirus_D3.fa'\t(4 sequences)\n",
      "Generating indices.\n",
      "Building database for 'phylogenomics/data/proteomes_renamed/round_4/NC_006555.1.fa'\t(3 sequences)\n",
      "Generating indices.\n",
      "Building database for 'phylogenomics/data/proteomes_renamed/round_4/NC_038376.1.fa'\t(2 sequences)\n",
      "Generating indices.\n",
      "Building database for 'phylogenomics/data/proteomes_renamed/round_4/NC_000936.1.fa'\t(8 sequences)\n",
      "Generating indices.\n",
      "Building database for 'phylogenomics/data/proteomes_renamed/round_4/Densovirus_P3.fa'\t(4 sequences)\n",
      "Generating indices.\n",
      "Building database for 'phylogenomics/data/proteomes_renamed/round_4/NC_001899.1.fa'\t(7 sequences)\n",
      "Generating indices.\n",
      "Building database for 'phylogenomics/data/proteomes_renamed/round_4/NC_077069.1.fa'\t(5 sequences)\n",
      "Generating indices.\n",
      "Building database for 'phylogenomics/data/proteomes_renamed/round_4/NC_022748.1.fa'\t(5 sequences)\n",
      "Generating indices.\n",
      "Building database for 'phylogenomics/data/proteomes_renamed/round_4/NC_005341.1.fa'\t(7 sequences)\n",
      "Generating indices.\n",
      "Building database for 'phylogenomics/data/proteomes_renamed/round_4/NC_077080.1.fa'\t(2 sequences)\n",
      "Generating indices.\n",
      "Building database for 'phylogenomics/data/proteomes_renamed/round_4/NC_020927.1.fa'\t(3 sequences)\n",
      "Generating indices.\n",
      "Building database for 'phylogenomics/data/proteomes_renamed/round_4/NC_077082.1.fa'\t(2 sequences)\n",
      "Generating indices.\n",
      "Building database for 'phylogenomics/data/proteomes_renamed/round_4/NC_077051.1.fa'\t(1 sequences)\n",
      "Generating indices.\n",
      "Building database for 'phylogenomics/data/proteomes_renamed/round_4/NC_077018.1.fa'\t(8 sequences)\n",
      "Generating indices.\n",
      "Building database for 'phylogenomics/data/proteomes_renamed/round_4/NC_015115.1.fa'\t(3 sequences)\n",
      "Generating indices.\n",
      "Building database for 'phylogenomics/data/proteomes_renamed/round_4/NC_004290.1.fa'\t(5 sequences)\n",
      "Generating indices.\n",
      "Building database for 'phylogenomics/data/proteomes_renamed/round_4/NC_077038.1.fa'\t(4 sequences)\n",
      "Generating indices.\n",
      "Building database for 'phylogenomics/data/proteomes_renamed/round_4/NC_005041.2.fa'\t(6 sequences)\n",
      "Generating indices.\n",
      "Building database for 'phylogenomics/data/proteomes_renamed/round_4/NC_040626.1.fa'\t(3 sequences)\n",
      "Generating indices.\n",
      "Building database for 'phylogenomics/data/proteomes_renamed/round_4/NC_018450.1.fa'\t(3 sequences)\n",
      "Generating indices.\n",
      "Building database for 'phylogenomics/data/proteomes_renamed/round_4/NC_011317.1.fa'\t(3 sequences)\n",
      "Generating indices.\n",
      "Building database for 'phylogenomics/data/proteomes_renamed/round_4/NC_077065.1.fa'\t(5 sequences)\n",
      "Generating indices.\n",
      "Building database for 'phylogenomics/data/proteomes_renamed/round_4/Densovirus_D1.fa'\t(4 sequences)\n",
      "Generating indices.\n",
      "Building database for 'phylogenomics/data/proteomes_renamed/round_4/NC_012685.1.fa'\t(4 sequences)\n",
      "Generating indices.\n",
      "Building database for 'phylogenomics/data/proteomes_renamed/round_4/Densovirus_P4.fa'\t(4 sequences)\n",
      "Generating indices.\n",
      "Building database for 'phylogenomics/data/proteomes_renamed/round_4/NC_026943.1.fa'\t(4 sequences)\n",
      "Generating indices.\n",
      "Building database for 'phylogenomics/data/proteomes_renamed/round_4/NC_004286.1.fa'\t(7 sequences)\n",
      "\n",
      "\u001b[1;32m**Step 2**\u001b[0m using diamond \n",
      "Running blast analysis: 100% (1431/1431)                                       \n",
      "[OUTPUT] -> written to myproject.blast-graph\n",
      "\n",
      "\u001b[1;32m**Step 3**\u001b[0m\n",
      "Clustering by similarity (Proteinortho mode) using 6 cpu core(s). Please wait...\n",
      "Reading myproject.blast-graph\n",
      "54 species\n",
      "188 paired proteins\n",
      "1644 bidirectional edges\n",
      "Clustering: working on (3@lapack* + 0@power) connected components           \n",
      "[OUTPUT] -> Orthologous groups are written to myproject.proteinortho.tsv\n",
      "[OUTPUT] -> Orthologous pairs are written to myproject.proteinortho-graph\n",
      "# myproject.proteinortho.tsv statistics:\n",
      "# number of groups that contains at least p% species:\n",
      "# p\tspecies\tgroups\tgenes in groups\n",
      "0%\t0\t24 (100%)\t187 (100%)\t\n",
      "10%\t5\t10 (41.66%)\t154 (82.35%)\t\n",
      "20%\t10\t4 (16.66%)\t112 (59.89%)\t\n",
      "30%\t16\t2 (8.33%)\t88 (47.05%)\t\n",
      "40%\t21\t2 (8.33%)\t88 (47.05%)\t\n",
      "50%\t27\t2 (8.33%)\t88 (47.05%)\t\n",
      "60%\t32\t1 (4.16%)\t45 (24.06%)\t\n",
      "70%\t37\t1 (4.16%)\t45 (24.06%)\t\n",
      "80%\t43\t1 (4.16%)\t45 (24.06%)\t\n",
      "90%\t48\t0 (0%)\t0 (0%)\t\n",
      "100%\t54\t0 (0%)\t0 (0%)\t\n",
      "# NOTE: p=100% correspond to the core proteome and p=0% to all groups\n",
      "# number of groups for each input species:\n",
      "Densovirus_P5.fa\t5\t20.83%\n",
      "MW628494.1.fa\t5\t20.83%\n",
      "NC_000936.1.fa\t5\t20.83%\n",
      "NC_004290.1.fa\t5\t20.83%\n",
      "NC_031450.1.fa\t5\t20.83%\n",
      "...\n",
      "NC_077050.1.fa\t1\t4.16%\n",
      "NC_077051.1.fa\t1\t4.16%\n",
      "NC_077069.1.fa\t1\t4.16%\n",
      "NC_077081.1.fa\t1\t4.16%\n",
      "NC_077018.1.fa\t0\t0%\n",
      "\n",
      "[OUTPUT] -> Summary is written to myproject.proteinortho-graph.summary\n",
      "[OUTPUT] -> You can extract a html version of the output using:\n",
      "proteinortho2html.pl myproject.proteinortho.tsv [PLACE FASTA FILES HERE] >myproject.proteinortho.html\n",
      "\n",
      "[OUTPUT] -> You can extract an OrthoXML (v0.3) version of the orthology group output using:\n",
      "proteinortho2xml.pl myproject.proteinortho.tsv >myproject.proteinortho.tsv.xml\n",
      "\n",
      "\u001b[1;32mAll finished.\u001b[0m\n"
     ]
    }
   ],
   "source": [
    "! proteinortho phylogenomics/data/proteomes_renamed/round_4/*.fa -cpus=24"
   ]
  },
  {
   "cell_type": "markdown",
   "metadata": {},
   "source": [
    "Unfortunatelly, `Proteinortho` does not let you to redirect output to any directory you want...<br>\n",
    "That's why we move the files ourselves!<br>\n",
    "For that first we create a directory - `phylogenomics/proteinortho_output/`"
   ]
  },
  {
   "cell_type": "code",
   "execution_count": 56,
   "metadata": {},
   "outputs": [],
   "source": [
    "! mkdir phylogenomics/proteinortho_output/"
   ]
  },
  {
   "cell_type": "markdown",
   "metadata": {},
   "source": [
    "Then we just move any `myproject*` file to `phylogenomics/proteinortho_output/` directory"
   ]
  },
  {
   "cell_type": "code",
   "execution_count": 57,
   "metadata": {},
   "outputs": [],
   "source": [
    "! mv myproject* phylogenomics/proteinortho_output/"
   ]
  },
  {
   "cell_type": "markdown",
   "metadata": {},
   "source": [
    "At this point it is important to take time for manual exploration of the `phylogenomics/proteinortho_output/myproject.proteinortho.tsv` file. To find any single copy orthologs or to find any other interesting genes."
   ]
  },
  {
   "cell_type": "markdown",
   "metadata": {},
   "source": [
    "### **Part 6.4. Extracting orthologs from `Proteinortho` output**"
   ]
  },
  {
   "cell_type": "markdown",
   "metadata": {},
   "source": [
    "Import `pandas`"
   ]
  },
  {
   "cell_type": "code",
   "execution_count": 58,
   "metadata": {},
   "outputs": [],
   "source": [
    "import pandas as pd"
   ]
  },
  {
   "cell_type": "markdown",
   "metadata": {},
   "source": [
    "Read the `phylogenomics/proteinortho_output/myproject.proteinortho.tsv` file into a DataFrame"
   ]
  },
  {
   "cell_type": "code",
   "execution_count": 59,
   "metadata": {},
   "outputs": [],
   "source": [
    "df_all = pd.read_csv('phylogenomics/proteinortho_output/myproject.proteinortho.tsv', sep='\\t')"
   ]
  },
  {
   "cell_type": "markdown",
   "metadata": {},
   "source": [
    "Drop all the rows except 0, 1 and 3"
   ]
  },
  {
   "cell_type": "code",
   "execution_count": 60,
   "metadata": {},
   "outputs": [
    {
     "data": {
      "text/html": [
       "<div>\n",
       "<style scoped>\n",
       "    .dataframe tbody tr th:only-of-type {\n",
       "        vertical-align: middle;\n",
       "    }\n",
       "\n",
       "    .dataframe tbody tr th {\n",
       "        vertical-align: top;\n",
       "    }\n",
       "\n",
       "    .dataframe thead th {\n",
       "        text-align: right;\n",
       "    }\n",
       "</style>\n",
       "<table border=\"1\" class=\"dataframe\">\n",
       "  <thead>\n",
       "    <tr style=\"text-align: right;\">\n",
       "      <th></th>\n",
       "      <th># Species</th>\n",
       "      <th>Genes</th>\n",
       "      <th>Alg.-Conn.</th>\n",
       "      <th>Densovirus_D1.fa</th>\n",
       "      <th>Densovirus_D2.fa</th>\n",
       "      <th>Densovirus_D3.fa</th>\n",
       "      <th>Densovirus_D4.fa</th>\n",
       "      <th>Densovirus_D5.fa</th>\n",
       "      <th>Densovirus_P1.fa</th>\n",
       "      <th>Densovirus_P2.fa</th>\n",
       "      <th>...</th>\n",
       "      <th>NC_077038.1.fa</th>\n",
       "      <th>NC_077050.1.fa</th>\n",
       "      <th>NC_077051.1.fa</th>\n",
       "      <th>NC_077065.1.fa</th>\n",
       "      <th>NC_077069.1.fa</th>\n",
       "      <th>NC_077079.1.fa</th>\n",
       "      <th>NC_077080.1.fa</th>\n",
       "      <th>NC_077081.1.fa</th>\n",
       "      <th>NC_077082.1.fa</th>\n",
       "      <th>NC_077083.1.fa</th>\n",
       "    </tr>\n",
       "  </thead>\n",
       "  <tbody>\n",
       "    <tr>\n",
       "      <th>0</th>\n",
       "      <td>45</td>\n",
       "      <td>45</td>\n",
       "      <td>0.0222</td>\n",
       "      <td>Densovirus_D1_non-structural_protein__1</td>\n",
       "      <td>Densovirus_D2_non-structural_protein__1</td>\n",
       "      <td>Densovirus_D3_non-structural_protein__1</td>\n",
       "      <td>Densovirus_D4_non-structural_protein__1</td>\n",
       "      <td>Densovirus_D5_non-structural_protein__1</td>\n",
       "      <td>Densovirus_P1_non-structural_protein__1</td>\n",
       "      <td>Densovirus_P2_non-structural_protein__1</td>\n",
       "      <td>...</td>\n",
       "      <td>NC_077038.1_nonstructural_protein_2</td>\n",
       "      <td>NC_077050.1_putative_nonstructural_protein_1</td>\n",
       "      <td>*</td>\n",
       "      <td>NC_077065.1_hypothetical_protein_3</td>\n",
       "      <td>NC_077069.1_nonstructural_protein_1_1</td>\n",
       "      <td>NC_077079.1_nonstructural_protein_1</td>\n",
       "      <td>NC_077080.1_nonstructural_protein_1</td>\n",
       "      <td>NC_077081.1_nonstructural_protein_1</td>\n",
       "      <td>NC_077082.1_nonstructural_protein_1</td>\n",
       "      <td>NC_077083.1_nonstructural_protein_1</td>\n",
       "    </tr>\n",
       "    <tr>\n",
       "      <th>1</th>\n",
       "      <td>28</td>\n",
       "      <td>43</td>\n",
       "      <td>0.1920</td>\n",
       "      <td>Densovirus_D1_ORF1__1</td>\n",
       "      <td>Densovirus_D2_ORF1__1</td>\n",
       "      <td>Densovirus_D3_ORF1__1</td>\n",
       "      <td>Densovirus_D4_ORF1__1</td>\n",
       "      <td>Densovirus_D5_ORF1__1</td>\n",
       "      <td>Densovirus_P1_ORF1__1</td>\n",
       "      <td>Densovirus_P2_ORF1__1</td>\n",
       "      <td>...</td>\n",
       "      <td>*</td>\n",
       "      <td>*</td>\n",
       "      <td>*</td>\n",
       "      <td>NC_077065.1_hypothetical_protein_2</td>\n",
       "      <td>*</td>\n",
       "      <td>NC_077079.1_VP1_1</td>\n",
       "      <td>NC_077080.1_VP1_1</td>\n",
       "      <td>*</td>\n",
       "      <td>NC_077082.1_VP1_1</td>\n",
       "      <td>*</td>\n",
       "    </tr>\n",
       "    <tr>\n",
       "      <th>2</th>\n",
       "      <td>12</td>\n",
       "      <td>12</td>\n",
       "      <td>1.0000</td>\n",
       "      <td>Densovirus_D1_structural_protein__1</td>\n",
       "      <td>Densovirus_D2_structural_protein__1</td>\n",
       "      <td>Densovirus_D3_structural_protein__1</td>\n",
       "      <td>Densovirus_D4_structural_protein__1</td>\n",
       "      <td>Densovirus_D5_structural_protein__1</td>\n",
       "      <td>Densovirus_P1_structural_protein__1</td>\n",
       "      <td>Densovirus_P2_structural_protein__1</td>\n",
       "      <td>...</td>\n",
       "      <td>*</td>\n",
       "      <td>*</td>\n",
       "      <td>*</td>\n",
       "      <td>*</td>\n",
       "      <td>*</td>\n",
       "      <td>*</td>\n",
       "      <td>*</td>\n",
       "      <td>*</td>\n",
       "      <td>*</td>\n",
       "      <td>*</td>\n",
       "    </tr>\n",
       "  </tbody>\n",
       "</table>\n",
       "<p>3 rows × 57 columns</p>\n",
       "</div>"
      ],
      "text/plain": [
       "   # Species  Genes  Alg.-Conn.                         Densovirus_D1.fa  \\\n",
       "0         45     45      0.0222  Densovirus_D1_non-structural_protein__1   \n",
       "1         28     43      0.1920                    Densovirus_D1_ORF1__1   \n",
       "2         12     12      1.0000      Densovirus_D1_structural_protein__1   \n",
       "\n",
       "                          Densovirus_D2.fa  \\\n",
       "0  Densovirus_D2_non-structural_protein__1   \n",
       "1                    Densovirus_D2_ORF1__1   \n",
       "2      Densovirus_D2_structural_protein__1   \n",
       "\n",
       "                          Densovirus_D3.fa  \\\n",
       "0  Densovirus_D3_non-structural_protein__1   \n",
       "1                    Densovirus_D3_ORF1__1   \n",
       "2      Densovirus_D3_structural_protein__1   \n",
       "\n",
       "                          Densovirus_D4.fa  \\\n",
       "0  Densovirus_D4_non-structural_protein__1   \n",
       "1                    Densovirus_D4_ORF1__1   \n",
       "2      Densovirus_D4_structural_protein__1   \n",
       "\n",
       "                          Densovirus_D5.fa  \\\n",
       "0  Densovirus_D5_non-structural_protein__1   \n",
       "1                    Densovirus_D5_ORF1__1   \n",
       "2      Densovirus_D5_structural_protein__1   \n",
       "\n",
       "                          Densovirus_P1.fa  \\\n",
       "0  Densovirus_P1_non-structural_protein__1   \n",
       "1                    Densovirus_P1_ORF1__1   \n",
       "2      Densovirus_P1_structural_protein__1   \n",
       "\n",
       "                          Densovirus_P2.fa  ...  \\\n",
       "0  Densovirus_P2_non-structural_protein__1  ...   \n",
       "1                    Densovirus_P2_ORF1__1  ...   \n",
       "2      Densovirus_P2_structural_protein__1  ...   \n",
       "\n",
       "                        NC_077038.1.fa  \\\n",
       "0  NC_077038.1_nonstructural_protein_2   \n",
       "1                                    *   \n",
       "2                                    *   \n",
       "\n",
       "                                 NC_077050.1.fa NC_077051.1.fa  \\\n",
       "0  NC_077050.1_putative_nonstructural_protein_1              *   \n",
       "1                                             *              *   \n",
       "2                                             *              *   \n",
       "\n",
       "                       NC_077065.1.fa                         NC_077069.1.fa  \\\n",
       "0  NC_077065.1_hypothetical_protein_3  NC_077069.1_nonstructural_protein_1_1   \n",
       "1  NC_077065.1_hypothetical_protein_2                                      *   \n",
       "2                                   *                                      *   \n",
       "\n",
       "                        NC_077079.1.fa                       NC_077080.1.fa  \\\n",
       "0  NC_077079.1_nonstructural_protein_1  NC_077080.1_nonstructural_protein_1   \n",
       "1                    NC_077079.1_VP1_1                    NC_077080.1_VP1_1   \n",
       "2                                    *                                    *   \n",
       "\n",
       "                        NC_077081.1.fa                       NC_077082.1.fa  \\\n",
       "0  NC_077081.1_nonstructural_protein_1  NC_077082.1_nonstructural_protein_1   \n",
       "1                                    *                    NC_077082.1_VP1_1   \n",
       "2                                    *                                    *   \n",
       "\n",
       "                        NC_077083.1.fa  \n",
       "0  NC_077083.1_nonstructural_protein_1  \n",
       "1                                    *  \n",
       "2                                    *  \n",
       "\n",
       "[3 rows x 57 columns]"
      ]
     },
     "execution_count": 60,
     "metadata": {},
     "output_type": "execute_result"
    }
   ],
   "source": [
    "for i in range(3, 23 + 1):\n",
    "    df_all = df_all.drop(index=[i])\n",
    "\n",
    "df_all"
   ]
  },
  {
   "cell_type": "markdown",
   "metadata": {},
   "source": [
    "These are the orthologs we will work with:\n",
    "\n",
    "- `Non-structural protein` is presented in 44 viruses (10 from this study and 34 from `RefSeq`)\n",
    "- `ORF1` or `structural protein` is presented in 27 viruses (10 from this study and 17 from `RefSeq`), but in 5 viruses it is not single-copy. We will delete them from our dataset. Which makes this gene to be presented only in 22 viruses (10 from this study and 12 from `RefSeq`)\n",
    "- Another `structural protein` is presented in 11 viruses (10 from this study and 1 from `RefSeq`). It is interesting because its `Alg.-Conn.` parameter = `1.0000`. We must investigate it."
   ]
  },
  {
   "cell_type": "markdown",
   "metadata": {},
   "source": [
    "Delete all non-SCOs"
   ]
  },
  {
   "cell_type": "code",
   "execution_count": 61,
   "metadata": {},
   "outputs": [],
   "source": [
    "df_all.loc[1] = df_all.loc[1].apply(lambda x: x.replace(',', '*') if isinstance(x, str) else x)"
   ]
  },
  {
   "cell_type": "markdown",
   "metadata": {},
   "source": [
    "#### **Part 6.4.1. Non-structural protein**"
   ]
  },
  {
   "cell_type": "code",
   "execution_count": 62,
   "metadata": {},
   "outputs": [],
   "source": [
    "df_nsp = df_all.drop(index=[1,2])"
   ]
  },
  {
   "cell_type": "code",
   "execution_count": 63,
   "metadata": {},
   "outputs": [
    {
     "data": {
      "text/html": [
       "<div>\n",
       "<style scoped>\n",
       "    .dataframe tbody tr th:only-of-type {\n",
       "        vertical-align: middle;\n",
       "    }\n",
       "\n",
       "    .dataframe tbody tr th {\n",
       "        vertical-align: top;\n",
       "    }\n",
       "\n",
       "    .dataframe thead th {\n",
       "        text-align: right;\n",
       "    }\n",
       "</style>\n",
       "<table border=\"1\" class=\"dataframe\">\n",
       "  <thead>\n",
       "    <tr style=\"text-align: right;\">\n",
       "      <th></th>\n",
       "      <th># Species</th>\n",
       "      <th>Genes</th>\n",
       "      <th>Alg.-Conn.</th>\n",
       "      <th>Densovirus_D1.fa</th>\n",
       "      <th>Densovirus_D2.fa</th>\n",
       "      <th>Densovirus_D3.fa</th>\n",
       "      <th>Densovirus_D4.fa</th>\n",
       "      <th>Densovirus_D5.fa</th>\n",
       "      <th>Densovirus_P1.fa</th>\n",
       "      <th>Densovirus_P2.fa</th>\n",
       "      <th>...</th>\n",
       "      <th>NC_077038.1.fa</th>\n",
       "      <th>NC_077050.1.fa</th>\n",
       "      <th>NC_077051.1.fa</th>\n",
       "      <th>NC_077065.1.fa</th>\n",
       "      <th>NC_077069.1.fa</th>\n",
       "      <th>NC_077079.1.fa</th>\n",
       "      <th>NC_077080.1.fa</th>\n",
       "      <th>NC_077081.1.fa</th>\n",
       "      <th>NC_077082.1.fa</th>\n",
       "      <th>NC_077083.1.fa</th>\n",
       "    </tr>\n",
       "  </thead>\n",
       "  <tbody>\n",
       "    <tr>\n",
       "      <th>0</th>\n",
       "      <td>45</td>\n",
       "      <td>45</td>\n",
       "      <td>0.0222</td>\n",
       "      <td>Densovirus_D1_non-structural_protein__1</td>\n",
       "      <td>Densovirus_D2_non-structural_protein__1</td>\n",
       "      <td>Densovirus_D3_non-structural_protein__1</td>\n",
       "      <td>Densovirus_D4_non-structural_protein__1</td>\n",
       "      <td>Densovirus_D5_non-structural_protein__1</td>\n",
       "      <td>Densovirus_P1_non-structural_protein__1</td>\n",
       "      <td>Densovirus_P2_non-structural_protein__1</td>\n",
       "      <td>...</td>\n",
       "      <td>NC_077038.1_nonstructural_protein_2</td>\n",
       "      <td>NC_077050.1_putative_nonstructural_protein_1</td>\n",
       "      <td>*</td>\n",
       "      <td>NC_077065.1_hypothetical_protein_3</td>\n",
       "      <td>NC_077069.1_nonstructural_protein_1_1</td>\n",
       "      <td>NC_077079.1_nonstructural_protein_1</td>\n",
       "      <td>NC_077080.1_nonstructural_protein_1</td>\n",
       "      <td>NC_077081.1_nonstructural_protein_1</td>\n",
       "      <td>NC_077082.1_nonstructural_protein_1</td>\n",
       "      <td>NC_077083.1_nonstructural_protein_1</td>\n",
       "    </tr>\n",
       "  </tbody>\n",
       "</table>\n",
       "<p>1 rows × 57 columns</p>\n",
       "</div>"
      ],
      "text/plain": [
       "   # Species  Genes  Alg.-Conn.                         Densovirus_D1.fa  \\\n",
       "0         45     45      0.0222  Densovirus_D1_non-structural_protein__1   \n",
       "\n",
       "                          Densovirus_D2.fa  \\\n",
       "0  Densovirus_D2_non-structural_protein__1   \n",
       "\n",
       "                          Densovirus_D3.fa  \\\n",
       "0  Densovirus_D3_non-structural_protein__1   \n",
       "\n",
       "                          Densovirus_D4.fa  \\\n",
       "0  Densovirus_D4_non-structural_protein__1   \n",
       "\n",
       "                          Densovirus_D5.fa  \\\n",
       "0  Densovirus_D5_non-structural_protein__1   \n",
       "\n",
       "                          Densovirus_P1.fa  \\\n",
       "0  Densovirus_P1_non-structural_protein__1   \n",
       "\n",
       "                          Densovirus_P2.fa  ...  \\\n",
       "0  Densovirus_P2_non-structural_protein__1  ...   \n",
       "\n",
       "                        NC_077038.1.fa  \\\n",
       "0  NC_077038.1_nonstructural_protein_2   \n",
       "\n",
       "                                 NC_077050.1.fa NC_077051.1.fa  \\\n",
       "0  NC_077050.1_putative_nonstructural_protein_1              *   \n",
       "\n",
       "                       NC_077065.1.fa                         NC_077069.1.fa  \\\n",
       "0  NC_077065.1_hypothetical_protein_3  NC_077069.1_nonstructural_protein_1_1   \n",
       "\n",
       "                        NC_077079.1.fa                       NC_077080.1.fa  \\\n",
       "0  NC_077079.1_nonstructural_protein_1  NC_077080.1_nonstructural_protein_1   \n",
       "\n",
       "                        NC_077081.1.fa                       NC_077082.1.fa  \\\n",
       "0  NC_077081.1_nonstructural_protein_1  NC_077082.1_nonstructural_protein_1   \n",
       "\n",
       "                        NC_077083.1.fa  \n",
       "0  NC_077083.1_nonstructural_protein_1  \n",
       "\n",
       "[1 rows x 57 columns]"
      ]
     },
     "execution_count": 63,
     "metadata": {},
     "output_type": "execute_result"
    }
   ],
   "source": [
    "df_nsp"
   ]
  },
  {
   "cell_type": "markdown",
   "metadata": {},
   "source": [
    "Delete every entry with `*`"
   ]
  },
  {
   "cell_type": "code",
   "execution_count": 64,
   "metadata": {},
   "outputs": [],
   "source": [
    "df_nsp_cols_to_drop = df_nsp.columns[df_nsp.apply(lambda col: col.astype(str).str.contains(r'\\*', regex=True).any())]"
   ]
  },
  {
   "cell_type": "markdown",
   "metadata": {},
   "source": [
    "Examine which entries will be dropped"
   ]
  },
  {
   "cell_type": "code",
   "execution_count": 65,
   "metadata": {},
   "outputs": [
    {
     "data": {
      "text/plain": [
       "Index(['NC_011317.1.fa', 'NC_011545.2.fa', 'NC_012636.1.fa', 'NC_014357.1.fa',\n",
       "       'NC_015115.1.fa', 'NC_020927.1.fa', 'NC_038376.1.fa', 'NC_077018.1.fa',\n",
       "       'NC_077051.1.fa'],\n",
       "      dtype='object')"
      ]
     },
     "execution_count": 65,
     "metadata": {},
     "output_type": "execute_result"
    }
   ],
   "source": [
    "df_nsp_cols_to_drop"
   ]
  },
  {
   "cell_type": "markdown",
   "metadata": {},
   "source": [
    "Save a separate `.tsv` file"
   ]
  },
  {
   "cell_type": "code",
   "execution_count": 66,
   "metadata": {},
   "outputs": [],
   "source": [
    "df_nsp_cleaned = df_nsp.drop(columns=df_nsp_cols_to_drop)\n",
    "df_nsp_cleaned.to_csv('phylogenomics/proteinortho_output/NSPs.tsv', sep='\\t', index=False)"
   ]
  },
  {
   "cell_type": "markdown",
   "metadata": {},
   "source": [
    "#### **Part 6.4.2. Structural protein 1**"
   ]
  },
  {
   "cell_type": "code",
   "execution_count": 67,
   "metadata": {},
   "outputs": [],
   "source": [
    "df_sp = df_all.drop(index=[0, 2])"
   ]
  },
  {
   "cell_type": "code",
   "execution_count": 68,
   "metadata": {},
   "outputs": [
    {
     "data": {
      "text/html": [
       "<div>\n",
       "<style scoped>\n",
       "    .dataframe tbody tr th:only-of-type {\n",
       "        vertical-align: middle;\n",
       "    }\n",
       "\n",
       "    .dataframe tbody tr th {\n",
       "        vertical-align: top;\n",
       "    }\n",
       "\n",
       "    .dataframe thead th {\n",
       "        text-align: right;\n",
       "    }\n",
       "</style>\n",
       "<table border=\"1\" class=\"dataframe\">\n",
       "  <thead>\n",
       "    <tr style=\"text-align: right;\">\n",
       "      <th></th>\n",
       "      <th># Species</th>\n",
       "      <th>Genes</th>\n",
       "      <th>Alg.-Conn.</th>\n",
       "      <th>Densovirus_D1.fa</th>\n",
       "      <th>Densovirus_D2.fa</th>\n",
       "      <th>Densovirus_D3.fa</th>\n",
       "      <th>Densovirus_D4.fa</th>\n",
       "      <th>Densovirus_D5.fa</th>\n",
       "      <th>Densovirus_P1.fa</th>\n",
       "      <th>Densovirus_P2.fa</th>\n",
       "      <th>...</th>\n",
       "      <th>NC_077038.1.fa</th>\n",
       "      <th>NC_077050.1.fa</th>\n",
       "      <th>NC_077051.1.fa</th>\n",
       "      <th>NC_077065.1.fa</th>\n",
       "      <th>NC_077069.1.fa</th>\n",
       "      <th>NC_077079.1.fa</th>\n",
       "      <th>NC_077080.1.fa</th>\n",
       "      <th>NC_077081.1.fa</th>\n",
       "      <th>NC_077082.1.fa</th>\n",
       "      <th>NC_077083.1.fa</th>\n",
       "    </tr>\n",
       "  </thead>\n",
       "  <tbody>\n",
       "    <tr>\n",
       "      <th>1</th>\n",
       "      <td>28</td>\n",
       "      <td>43</td>\n",
       "      <td>0.192</td>\n",
       "      <td>Densovirus_D1_ORF1__1</td>\n",
       "      <td>Densovirus_D2_ORF1__1</td>\n",
       "      <td>Densovirus_D3_ORF1__1</td>\n",
       "      <td>Densovirus_D4_ORF1__1</td>\n",
       "      <td>Densovirus_D5_ORF1__1</td>\n",
       "      <td>Densovirus_P1_ORF1__1</td>\n",
       "      <td>Densovirus_P2_ORF1__1</td>\n",
       "      <td>...</td>\n",
       "      <td>*</td>\n",
       "      <td>*</td>\n",
       "      <td>*</td>\n",
       "      <td>NC_077065.1_hypothetical_protein_2</td>\n",
       "      <td>*</td>\n",
       "      <td>NC_077079.1_VP1_1</td>\n",
       "      <td>NC_077080.1_VP1_1</td>\n",
       "      <td>*</td>\n",
       "      <td>NC_077082.1_VP1_1</td>\n",
       "      <td>*</td>\n",
       "    </tr>\n",
       "  </tbody>\n",
       "</table>\n",
       "<p>1 rows × 57 columns</p>\n",
       "</div>"
      ],
      "text/plain": [
       "   # Species  Genes  Alg.-Conn.       Densovirus_D1.fa       Densovirus_D2.fa  \\\n",
       "1         28     43       0.192  Densovirus_D1_ORF1__1  Densovirus_D2_ORF1__1   \n",
       "\n",
       "        Densovirus_D3.fa       Densovirus_D4.fa       Densovirus_D5.fa  \\\n",
       "1  Densovirus_D3_ORF1__1  Densovirus_D4_ORF1__1  Densovirus_D5_ORF1__1   \n",
       "\n",
       "        Densovirus_P1.fa       Densovirus_P2.fa  ... NC_077038.1.fa  \\\n",
       "1  Densovirus_P1_ORF1__1  Densovirus_P2_ORF1__1  ...              *   \n",
       "\n",
       "  NC_077050.1.fa NC_077051.1.fa                      NC_077065.1.fa  \\\n",
       "1              *              *  NC_077065.1_hypothetical_protein_2   \n",
       "\n",
       "  NC_077069.1.fa     NC_077079.1.fa     NC_077080.1.fa NC_077081.1.fa  \\\n",
       "1              *  NC_077079.1_VP1_1  NC_077080.1_VP1_1              *   \n",
       "\n",
       "      NC_077082.1.fa NC_077083.1.fa  \n",
       "1  NC_077082.1_VP1_1              *  \n",
       "\n",
       "[1 rows x 57 columns]"
      ]
     },
     "execution_count": 68,
     "metadata": {},
     "output_type": "execute_result"
    }
   ],
   "source": [
    "df_sp"
   ]
  },
  {
   "cell_type": "markdown",
   "metadata": {},
   "source": [
    "Delete every entry with `*`"
   ]
  },
  {
   "cell_type": "code",
   "execution_count": 69,
   "metadata": {},
   "outputs": [],
   "source": [
    "df_sp_cols_to_drop = df_sp.columns[df_sp.apply(lambda col: col.astype(str).str.contains(r'\\*', regex=True).any())]"
   ]
  },
  {
   "cell_type": "markdown",
   "metadata": {},
   "source": [
    "Examine which entries will be dropped"
   ]
  },
  {
   "cell_type": "code",
   "execution_count": 70,
   "metadata": {},
   "outputs": [
    {
     "data": {
      "text/plain": [
       "Index(['NC_001899.1.fa', 'NC_003346.1.fa', 'NC_004286.1.fa', 'NC_004287.1.fa',\n",
       "       'NC_004288.1.fa', 'NC_005041.2.fa', 'NC_005341.1.fa', 'NC_006555.1.fa',\n",
       "       'NC_011317.1.fa', 'NC_011545.2.fa', 'NC_012636.1.fa', 'NC_014357.1.fa',\n",
       "       'NC_015115.1.fa', 'NC_015718.1.fa', 'NC_018399.1.fa', 'NC_018450.1.fa',\n",
       "       'NC_019492.1.fa', 'NC_020927.1.fa', 'NC_022564.1.fa', 'NC_026943.1.fa',\n",
       "       'NC_030296.1.fa', 'NC_038376.1.fa', 'NC_040626.1.fa', 'NC_075118.1.fa',\n",
       "       'NC_077018.1.fa', 'NC_077036.1.fa', 'NC_077038.1.fa', 'NC_077050.1.fa',\n",
       "       'NC_077051.1.fa', 'NC_077069.1.fa', 'NC_077081.1.fa', 'NC_077083.1.fa'],\n",
       "      dtype='object')"
      ]
     },
     "execution_count": 70,
     "metadata": {},
     "output_type": "execute_result"
    }
   ],
   "source": [
    "df_sp_cols_to_drop"
   ]
  },
  {
   "cell_type": "markdown",
   "metadata": {},
   "source": [
    "Save a separate `.tsv` file"
   ]
  },
  {
   "cell_type": "code",
   "execution_count": 71,
   "metadata": {},
   "outputs": [],
   "source": [
    "df_sp_cleaned = df_sp.drop(columns=df_sp_cols_to_drop)\n",
    "df_sp_cleaned.to_csv('phylogenomics/proteinortho_output/SPs.tsv', sep='\\t', index=False)"
   ]
  },
  {
   "cell_type": "markdown",
   "metadata": {},
   "source": [
    "#### **Part 6.4.3. Non-structural protein + structural protein 1**"
   ]
  },
  {
   "cell_type": "markdown",
   "metadata": {},
   "source": [
    "We also need a `.tsv` file with NSP and SP"
   ]
  },
  {
   "cell_type": "markdown",
   "metadata": {},
   "source": [
    "Delete every entry with `*`"
   ]
  },
  {
   "cell_type": "code",
   "execution_count": 72,
   "metadata": {},
   "outputs": [],
   "source": [
    "df_nsp_sp = df_all.drop(index=[2])"
   ]
  },
  {
   "cell_type": "code",
   "execution_count": 73,
   "metadata": {},
   "outputs": [
    {
     "data": {
      "text/html": [
       "<div>\n",
       "<style scoped>\n",
       "    .dataframe tbody tr th:only-of-type {\n",
       "        vertical-align: middle;\n",
       "    }\n",
       "\n",
       "    .dataframe tbody tr th {\n",
       "        vertical-align: top;\n",
       "    }\n",
       "\n",
       "    .dataframe thead th {\n",
       "        text-align: right;\n",
       "    }\n",
       "</style>\n",
       "<table border=\"1\" class=\"dataframe\">\n",
       "  <thead>\n",
       "    <tr style=\"text-align: right;\">\n",
       "      <th></th>\n",
       "      <th># Species</th>\n",
       "      <th>Genes</th>\n",
       "      <th>Alg.-Conn.</th>\n",
       "      <th>Densovirus_D1.fa</th>\n",
       "      <th>Densovirus_D2.fa</th>\n",
       "      <th>Densovirus_D3.fa</th>\n",
       "      <th>Densovirus_D4.fa</th>\n",
       "      <th>Densovirus_D5.fa</th>\n",
       "      <th>Densovirus_P1.fa</th>\n",
       "      <th>Densovirus_P2.fa</th>\n",
       "      <th>...</th>\n",
       "      <th>NC_077038.1.fa</th>\n",
       "      <th>NC_077050.1.fa</th>\n",
       "      <th>NC_077051.1.fa</th>\n",
       "      <th>NC_077065.1.fa</th>\n",
       "      <th>NC_077069.1.fa</th>\n",
       "      <th>NC_077079.1.fa</th>\n",
       "      <th>NC_077080.1.fa</th>\n",
       "      <th>NC_077081.1.fa</th>\n",
       "      <th>NC_077082.1.fa</th>\n",
       "      <th>NC_077083.1.fa</th>\n",
       "    </tr>\n",
       "  </thead>\n",
       "  <tbody>\n",
       "    <tr>\n",
       "      <th>0</th>\n",
       "      <td>45</td>\n",
       "      <td>45</td>\n",
       "      <td>0.0222</td>\n",
       "      <td>Densovirus_D1_non-structural_protein__1</td>\n",
       "      <td>Densovirus_D2_non-structural_protein__1</td>\n",
       "      <td>Densovirus_D3_non-structural_protein__1</td>\n",
       "      <td>Densovirus_D4_non-structural_protein__1</td>\n",
       "      <td>Densovirus_D5_non-structural_protein__1</td>\n",
       "      <td>Densovirus_P1_non-structural_protein__1</td>\n",
       "      <td>Densovirus_P2_non-structural_protein__1</td>\n",
       "      <td>...</td>\n",
       "      <td>NC_077038.1_nonstructural_protein_2</td>\n",
       "      <td>NC_077050.1_putative_nonstructural_protein_1</td>\n",
       "      <td>*</td>\n",
       "      <td>NC_077065.1_hypothetical_protein_3</td>\n",
       "      <td>NC_077069.1_nonstructural_protein_1_1</td>\n",
       "      <td>NC_077079.1_nonstructural_protein_1</td>\n",
       "      <td>NC_077080.1_nonstructural_protein_1</td>\n",
       "      <td>NC_077081.1_nonstructural_protein_1</td>\n",
       "      <td>NC_077082.1_nonstructural_protein_1</td>\n",
       "      <td>NC_077083.1_nonstructural_protein_1</td>\n",
       "    </tr>\n",
       "    <tr>\n",
       "      <th>1</th>\n",
       "      <td>28</td>\n",
       "      <td>43</td>\n",
       "      <td>0.1920</td>\n",
       "      <td>Densovirus_D1_ORF1__1</td>\n",
       "      <td>Densovirus_D2_ORF1__1</td>\n",
       "      <td>Densovirus_D3_ORF1__1</td>\n",
       "      <td>Densovirus_D4_ORF1__1</td>\n",
       "      <td>Densovirus_D5_ORF1__1</td>\n",
       "      <td>Densovirus_P1_ORF1__1</td>\n",
       "      <td>Densovirus_P2_ORF1__1</td>\n",
       "      <td>...</td>\n",
       "      <td>*</td>\n",
       "      <td>*</td>\n",
       "      <td>*</td>\n",
       "      <td>NC_077065.1_hypothetical_protein_2</td>\n",
       "      <td>*</td>\n",
       "      <td>NC_077079.1_VP1_1</td>\n",
       "      <td>NC_077080.1_VP1_1</td>\n",
       "      <td>*</td>\n",
       "      <td>NC_077082.1_VP1_1</td>\n",
       "      <td>*</td>\n",
       "    </tr>\n",
       "  </tbody>\n",
       "</table>\n",
       "<p>2 rows × 57 columns</p>\n",
       "</div>"
      ],
      "text/plain": [
       "   # Species  Genes  Alg.-Conn.                         Densovirus_D1.fa  \\\n",
       "0         45     45      0.0222  Densovirus_D1_non-structural_protein__1   \n",
       "1         28     43      0.1920                    Densovirus_D1_ORF1__1   \n",
       "\n",
       "                          Densovirus_D2.fa  \\\n",
       "0  Densovirus_D2_non-structural_protein__1   \n",
       "1                    Densovirus_D2_ORF1__1   \n",
       "\n",
       "                          Densovirus_D3.fa  \\\n",
       "0  Densovirus_D3_non-structural_protein__1   \n",
       "1                    Densovirus_D3_ORF1__1   \n",
       "\n",
       "                          Densovirus_D4.fa  \\\n",
       "0  Densovirus_D4_non-structural_protein__1   \n",
       "1                    Densovirus_D4_ORF1__1   \n",
       "\n",
       "                          Densovirus_D5.fa  \\\n",
       "0  Densovirus_D5_non-structural_protein__1   \n",
       "1                    Densovirus_D5_ORF1__1   \n",
       "\n",
       "                          Densovirus_P1.fa  \\\n",
       "0  Densovirus_P1_non-structural_protein__1   \n",
       "1                    Densovirus_P1_ORF1__1   \n",
       "\n",
       "                          Densovirus_P2.fa  ...  \\\n",
       "0  Densovirus_P2_non-structural_protein__1  ...   \n",
       "1                    Densovirus_P2_ORF1__1  ...   \n",
       "\n",
       "                        NC_077038.1.fa  \\\n",
       "0  NC_077038.1_nonstructural_protein_2   \n",
       "1                                    *   \n",
       "\n",
       "                                 NC_077050.1.fa NC_077051.1.fa  \\\n",
       "0  NC_077050.1_putative_nonstructural_protein_1              *   \n",
       "1                                             *              *   \n",
       "\n",
       "                       NC_077065.1.fa                         NC_077069.1.fa  \\\n",
       "0  NC_077065.1_hypothetical_protein_3  NC_077069.1_nonstructural_protein_1_1   \n",
       "1  NC_077065.1_hypothetical_protein_2                                      *   \n",
       "\n",
       "                        NC_077079.1.fa                       NC_077080.1.fa  \\\n",
       "0  NC_077079.1_nonstructural_protein_1  NC_077080.1_nonstructural_protein_1   \n",
       "1                    NC_077079.1_VP1_1                    NC_077080.1_VP1_1   \n",
       "\n",
       "                        NC_077081.1.fa                       NC_077082.1.fa  \\\n",
       "0  NC_077081.1_nonstructural_protein_1  NC_077082.1_nonstructural_protein_1   \n",
       "1                                    *                    NC_077082.1_VP1_1   \n",
       "\n",
       "                        NC_077083.1.fa  \n",
       "0  NC_077083.1_nonstructural_protein_1  \n",
       "1                                    *  \n",
       "\n",
       "[2 rows x 57 columns]"
      ]
     },
     "execution_count": 73,
     "metadata": {},
     "output_type": "execute_result"
    }
   ],
   "source": [
    "df_nsp_sp"
   ]
  },
  {
   "cell_type": "code",
   "execution_count": 74,
   "metadata": {},
   "outputs": [],
   "source": [
    "df_nsp_sp_cols_to_drop = df_nsp_sp.columns[df_nsp_sp.apply(lambda col: col.astype(str).str.contains(r'\\*', regex=True).any())]"
   ]
  },
  {
   "cell_type": "markdown",
   "metadata": {},
   "source": [
    "Examine which entries will be dropped"
   ]
  },
  {
   "cell_type": "code",
   "execution_count": 75,
   "metadata": {},
   "outputs": [
    {
     "data": {
      "text/plain": [
       "Index(['NC_001899.1.fa', 'NC_003346.1.fa', 'NC_004286.1.fa', 'NC_004287.1.fa',\n",
       "       'NC_004288.1.fa', 'NC_005041.2.fa', 'NC_005341.1.fa', 'NC_006555.1.fa',\n",
       "       'NC_011317.1.fa', 'NC_011545.2.fa', 'NC_012636.1.fa', 'NC_014357.1.fa',\n",
       "       'NC_015115.1.fa', 'NC_015718.1.fa', 'NC_018399.1.fa', 'NC_018450.1.fa',\n",
       "       'NC_019492.1.fa', 'NC_020927.1.fa', 'NC_022564.1.fa', 'NC_026943.1.fa',\n",
       "       'NC_030296.1.fa', 'NC_038376.1.fa', 'NC_040626.1.fa', 'NC_075118.1.fa',\n",
       "       'NC_077018.1.fa', 'NC_077036.1.fa', 'NC_077038.1.fa', 'NC_077050.1.fa',\n",
       "       'NC_077051.1.fa', 'NC_077069.1.fa', 'NC_077081.1.fa', 'NC_077083.1.fa'],\n",
       "      dtype='object')"
      ]
     },
     "execution_count": 75,
     "metadata": {},
     "output_type": "execute_result"
    }
   ],
   "source": [
    "df_nsp_sp_cols_to_drop"
   ]
  },
  {
   "cell_type": "markdown",
   "metadata": {},
   "source": [
    "Save a separate `.tsv` file"
   ]
  },
  {
   "cell_type": "code",
   "execution_count": 76,
   "metadata": {},
   "outputs": [],
   "source": [
    "df_nsp_sp = df_nsp_sp.drop(columns=df_nsp_sp_cols_to_drop)\n",
    "df_nsp_sp.to_csv('phylogenomics/proteinortho_output/All.tsv', sep='\\t', index=False)"
   ]
  },
  {
   "cell_type": "markdown",
   "metadata": {},
   "source": [
    "#### **Part 6.4.4. Structural protein 2**"
   ]
  },
  {
   "cell_type": "code",
   "execution_count": 77,
   "metadata": {},
   "outputs": [],
   "source": [
    "df_interesting = df_all.drop(index=[0, 1])"
   ]
  },
  {
   "cell_type": "code",
   "execution_count": 78,
   "metadata": {},
   "outputs": [
    {
     "data": {
      "text/html": [
       "<div>\n",
       "<style scoped>\n",
       "    .dataframe tbody tr th:only-of-type {\n",
       "        vertical-align: middle;\n",
       "    }\n",
       "\n",
       "    .dataframe tbody tr th {\n",
       "        vertical-align: top;\n",
       "    }\n",
       "\n",
       "    .dataframe thead th {\n",
       "        text-align: right;\n",
       "    }\n",
       "</style>\n",
       "<table border=\"1\" class=\"dataframe\">\n",
       "  <thead>\n",
       "    <tr style=\"text-align: right;\">\n",
       "      <th></th>\n",
       "      <th># Species</th>\n",
       "      <th>Genes</th>\n",
       "      <th>Alg.-Conn.</th>\n",
       "      <th>Densovirus_D1.fa</th>\n",
       "      <th>Densovirus_D2.fa</th>\n",
       "      <th>Densovirus_D3.fa</th>\n",
       "      <th>Densovirus_D4.fa</th>\n",
       "      <th>Densovirus_D5.fa</th>\n",
       "      <th>Densovirus_P1.fa</th>\n",
       "      <th>Densovirus_P2.fa</th>\n",
       "      <th>...</th>\n",
       "      <th>NC_077038.1.fa</th>\n",
       "      <th>NC_077050.1.fa</th>\n",
       "      <th>NC_077051.1.fa</th>\n",
       "      <th>NC_077065.1.fa</th>\n",
       "      <th>NC_077069.1.fa</th>\n",
       "      <th>NC_077079.1.fa</th>\n",
       "      <th>NC_077080.1.fa</th>\n",
       "      <th>NC_077081.1.fa</th>\n",
       "      <th>NC_077082.1.fa</th>\n",
       "      <th>NC_077083.1.fa</th>\n",
       "    </tr>\n",
       "  </thead>\n",
       "  <tbody>\n",
       "    <tr>\n",
       "      <th>2</th>\n",
       "      <td>12</td>\n",
       "      <td>12</td>\n",
       "      <td>1.0</td>\n",
       "      <td>Densovirus_D1_structural_protein__1</td>\n",
       "      <td>Densovirus_D2_structural_protein__1</td>\n",
       "      <td>Densovirus_D3_structural_protein__1</td>\n",
       "      <td>Densovirus_D4_structural_protein__1</td>\n",
       "      <td>Densovirus_D5_structural_protein__1</td>\n",
       "      <td>Densovirus_P1_structural_protein__1</td>\n",
       "      <td>Densovirus_P2_structural_protein__1</td>\n",
       "      <td>...</td>\n",
       "      <td>*</td>\n",
       "      <td>*</td>\n",
       "      <td>*</td>\n",
       "      <td>*</td>\n",
       "      <td>*</td>\n",
       "      <td>*</td>\n",
       "      <td>*</td>\n",
       "      <td>*</td>\n",
       "      <td>*</td>\n",
       "      <td>*</td>\n",
       "    </tr>\n",
       "  </tbody>\n",
       "</table>\n",
       "<p>1 rows × 57 columns</p>\n",
       "</div>"
      ],
      "text/plain": [
       "   # Species  Genes  Alg.-Conn.                     Densovirus_D1.fa  \\\n",
       "2         12     12         1.0  Densovirus_D1_structural_protein__1   \n",
       "\n",
       "                      Densovirus_D2.fa                     Densovirus_D3.fa  \\\n",
       "2  Densovirus_D2_structural_protein__1  Densovirus_D3_structural_protein__1   \n",
       "\n",
       "                      Densovirus_D4.fa                     Densovirus_D5.fa  \\\n",
       "2  Densovirus_D4_structural_protein__1  Densovirus_D5_structural_protein__1   \n",
       "\n",
       "                      Densovirus_P1.fa                     Densovirus_P2.fa  \\\n",
       "2  Densovirus_P1_structural_protein__1  Densovirus_P2_structural_protein__1   \n",
       "\n",
       "   ... NC_077038.1.fa NC_077050.1.fa NC_077051.1.fa NC_077065.1.fa  \\\n",
       "2  ...              *              *              *              *   \n",
       "\n",
       "  NC_077069.1.fa NC_077079.1.fa NC_077080.1.fa NC_077081.1.fa NC_077082.1.fa  \\\n",
       "2              *              *              *              *              *   \n",
       "\n",
       "  NC_077083.1.fa  \n",
       "2              *  \n",
       "\n",
       "[1 rows x 57 columns]"
      ]
     },
     "execution_count": 78,
     "metadata": {},
     "output_type": "execute_result"
    }
   ],
   "source": [
    "df_interesting"
   ]
  },
  {
   "cell_type": "markdown",
   "metadata": {},
   "source": [
    "Delete every entry with `*`"
   ]
  },
  {
   "cell_type": "code",
   "execution_count": 79,
   "metadata": {},
   "outputs": [],
   "source": [
    "df_interesting_cols_to_drop = df_interesting.columns[df_interesting.apply(lambda col: col.astype(str).str.contains(r'\\*', regex=True).any())]"
   ]
  },
  {
   "cell_type": "markdown",
   "metadata": {},
   "source": [
    "Examine which entries will be dropped"
   ]
  },
  {
   "cell_type": "code",
   "execution_count": 80,
   "metadata": {},
   "outputs": [
    {
     "data": {
      "text/plain": [
       "Index(['NC_000936.1.fa', 'NC_001899.1.fa', 'NC_003346.1.fa', 'NC_004286.1.fa',\n",
       "       'NC_004287.1.fa', 'NC_004288.1.fa', 'NC_004289.1.fa', 'NC_004290.1.fa',\n",
       "       'NC_005040.1.fa', 'NC_005041.2.fa', 'NC_005341.1.fa', 'NC_006555.1.fa',\n",
       "       'NC_011317.1.fa', 'NC_011545.2.fa', 'NC_012636.1.fa', 'NC_012685.1.fa',\n",
       "       'NC_014357.1.fa', 'NC_015115.1.fa', 'NC_015718.1.fa', 'NC_018399.1.fa',\n",
       "       'NC_018450.1.fa', 'NC_019492.1.fa', 'NC_020927.1.fa', 'NC_022564.1.fa',\n",
       "       'NC_022748.1.fa', 'NC_026943.1.fa', 'NC_030296.1.fa', 'NC_038376.1.fa',\n",
       "       'NC_040626.1.fa', 'NC_075118.1.fa', 'NC_077018.1.fa', 'NC_077036.1.fa',\n",
       "       'NC_077038.1.fa', 'NC_077050.1.fa', 'NC_077051.1.fa', 'NC_077065.1.fa',\n",
       "       'NC_077069.1.fa', 'NC_077079.1.fa', 'NC_077080.1.fa', 'NC_077081.1.fa',\n",
       "       'NC_077082.1.fa', 'NC_077083.1.fa'],\n",
       "      dtype='object')"
      ]
     },
     "execution_count": 80,
     "metadata": {},
     "output_type": "execute_result"
    }
   ],
   "source": [
    "df_interesting_cols_to_drop"
   ]
  },
  {
   "cell_type": "markdown",
   "metadata": {},
   "source": [
    "Save a separate `.tsv` file"
   ]
  },
  {
   "cell_type": "code",
   "execution_count": 81,
   "metadata": {},
   "outputs": [],
   "source": [
    "df_interesting_cleaned = df_interesting.drop(columns=df_interesting_cols_to_drop)\n",
    "df_interesting_cleaned.to_csv('phylogenomics/proteinortho_output/interesting_gene.tsv', sep='\\t', index=False)"
   ]
  },
  {
   "cell_type": "markdown",
   "metadata": {},
   "source": [
    "### **Part 6.5. Extract orthologs sequences**"
   ]
  },
  {
   "cell_type": "markdown",
   "metadata": {},
   "source": [
    "For this `write_family_names.R` script will be used"
   ]
  },
  {
   "cell_type": "code",
   "execution_count": 82,
   "metadata": {},
   "outputs": [
    {
     "name": "stdout",
     "output_type": "stream",
     "text": [
      "#!/usr/bin/env Rscript\n",
      "args <- commandArgs(trailingOnly=TRUE)\n",
      "\n",
      "# Read the proteinortho table\n",
      "onetoone <- read.delim(args[1])\n",
      "\n",
      "  # Create directory to store SCOs\n",
      "  dir.create(args[2]) #e.g. data/SCOs\n",
      "\n",
      "  # Write name lists to later extract\n",
      "   for (i in 4:ncol(onetoone)) {\n",
      "   writeLines(onetoone[,i], paste0(args[2], names(onetoone[i]), \".names.txt\"))\n",
      "   }\n",
      "   dir.create(args[3])  \n",
      "   # And gene lists grouped by families\n",
      "   for (i in 1:nrow(onetoone)) {\n",
      "   oo <- as.matrix(onetoone)\n",
      "   writeLines(oo[i, 4:ncol(onetoone)], paste0(args[3], \"family\", as.character(i), \".names.txt\"))\n",
      "   }"
     ]
    }
   ],
   "source": [
    "! cat scripts/write_family_names.R"
   ]
  },
  {
   "cell_type": "markdown",
   "metadata": {},
   "source": [
    "This script will take `.tsv` files from the previous step as the input and will write gene names to a separate files"
   ]
  },
  {
   "cell_type": "markdown",
   "metadata": {},
   "source": [
    "#### **Part 6.5.1. Run `write_family_names.R`**"
   ]
  },
  {
   "cell_type": "markdown",
   "metadata": {},
   "source": [
    "##### **Part 6.5.1.1. Non-structural protein**"
   ]
  },
  {
   "cell_type": "code",
   "execution_count": null,
   "metadata": {},
   "outputs": [],
   "source": [
    "! Rscript scripts/write_family_names.R phylogenomics/proteinortho_output/NSPs.tsv phylogenomics/NSPs/ phylogenomics/NSPs_names/"
   ]
  },
  {
   "cell_type": "markdown",
   "metadata": {},
   "source": [
    "##### **Part 6.5.1.2. Structural protein 1**"
   ]
  },
  {
   "cell_type": "code",
   "execution_count": null,
   "metadata": {},
   "outputs": [],
   "source": [
    "! Rscript scripts/write_family_names.R phylogenomics/proteinortho_output/SPs.tsv phylogenomics/SPs/ phylogenomics/SPs_names/"
   ]
  },
  {
   "cell_type": "markdown",
   "metadata": {},
   "source": [
    "##### **Part 6.5.1.3. Non-structural protein + sctructural protein 1**"
   ]
  },
  {
   "cell_type": "code",
   "execution_count": null,
   "metadata": {},
   "outputs": [],
   "source": [
    "! Rscript scripts/write_family_names.R phylogenomics/proteinortho_output/All.tsv phylogenomics/All/ phylogenomics/All_names/"
   ]
  },
  {
   "cell_type": "markdown",
   "metadata": {},
   "source": [
    "##### **Part 6.5.1.4. Sctructural protein 2**"
   ]
  },
  {
   "cell_type": "code",
   "execution_count": null,
   "metadata": {},
   "outputs": [],
   "source": [
    "! Rscript scripts/write_family_names.R phylogenomics/proteinortho_output/interesting_gene.tsv phylogenomics/interesting_gene/ phylogenomics/interesting_gene_names/"
   ]
  },
  {
   "cell_type": "markdown",
   "metadata": {},
   "source": [
    "#### **Part 6.5.2. Extract sequences**"
   ]
  },
  {
   "cell_type": "markdown",
   "metadata": {},
   "source": [
    "For the 1st step we must create the `phylogenomics/data/all_pep.fa` file which will contain all the amino acid sequences from all the viruses"
   ]
  },
  {
   "cell_type": "code",
   "execution_count": 83,
   "metadata": {},
   "outputs": [],
   "source": [
    "! cat phylogenomics/data/proteomes_renamed/round_4/*.fa > phylogenomics/data/all_pep.fa"
   ]
  },
  {
   "cell_type": "markdown",
   "metadata": {},
   "source": [
    "##### **Part 6.5.2.1. Non-structural protein**"
   ]
  },
  {
   "cell_type": "markdown",
   "metadata": {},
   "source": [
    "First we create a directory to store the sequences"
   ]
  },
  {
   "cell_type": "code",
   "execution_count": 84,
   "metadata": {},
   "outputs": [],
   "source": [
    "! mkdir phylogenomics/data/NSPs_seqs/"
   ]
  },
  {
   "cell_type": "markdown",
   "metadata": {},
   "source": [
    "Then we use `BBMap` to extract the sequences"
   ]
  },
  {
   "cell_type": "code",
   "execution_count": 85,
   "metadata": {},
   "outputs": [
    {
     "name": "stderr",
     "output_type": "stream",
     "text": [
      "java -ea -Xmx6517m -cp /mnt/c/Users/iljap/OneDrive/Work/RSF_projects/Igor/BatShotMetaFlow/04_Densoviruses_t/bbmap/current/ driver.FilterReadsByName in=phylogenomics/data/all_pep.fa out=phylogenomics/data/NSPs_seqs/family1.seq.fa include=t names=phylogenomics/NSPs_names/family1.names.txt overwrite=true ignorejunk=true\n",
      "Executing driver.FilterReadsByName [in=phylogenomics/data/all_pep.fa, out=phylogenomics/data/NSPs_seqs/family1.seq.fa, include=t, names=phylogenomics/NSPs_names/family1.names.txt, overwrite=true, ignorejunk=true]\n",
      "\n",
      "Input is being processed as unpaired\n",
      "Time:                         \t0.572 seconds.\n",
      "Reads Processed:         216 \t0.38k reads/sec\n",
      "Bases Processed:       97483 \t0.17m bases/sec\n",
      "Reads Out:          45\n",
      "Bases Out:          26758\n"
     ]
    }
   ],
   "source": [
    "%%bash\n",
    "\n",
    "for list in phylogenomics/NSPs_names/family*txt\n",
    "do bbmap/filterbyname.sh in=phylogenomics/data/all_pep.fa out=phylogenomics/data/NSPs_seqs/$(basename \"$list\" .names.txt).seq.fa include=t names=$list overwrite=true ignorejunk=true\n",
    "done"
   ]
  },
  {
   "cell_type": "markdown",
   "metadata": {},
   "source": [
    "##### **Part 6.5.2.2. Structural protein 1**"
   ]
  },
  {
   "cell_type": "markdown",
   "metadata": {},
   "source": [
    "First we create a directory to store the sequences"
   ]
  },
  {
   "cell_type": "code",
   "execution_count": 86,
   "metadata": {},
   "outputs": [],
   "source": [
    "! mkdir phylogenomics/data/SPs_seqs/"
   ]
  },
  {
   "cell_type": "markdown",
   "metadata": {},
   "source": [
    "Then we use `BBMap` to extract the sequences"
   ]
  },
  {
   "cell_type": "code",
   "execution_count": 87,
   "metadata": {},
   "outputs": [
    {
     "name": "stderr",
     "output_type": "stream",
     "text": [
      "java -ea -Xmx6517m -cp /mnt/c/Users/iljap/OneDrive/Work/RSF_projects/Igor/BatShotMetaFlow/04_Densoviruses_t/bbmap/current/ driver.FilterReadsByName in=phylogenomics/data/all_pep.fa out=phylogenomics/data/SPs_seqs/family1.seq.fa include=t names=phylogenomics/SPs_names/family1.names.txt overwrite=true ignorejunk=true\n",
      "Executing driver.FilterReadsByName [in=phylogenomics/data/all_pep.fa, out=phylogenomics/data/SPs_seqs/family1.seq.fa, include=t, names=phylogenomics/SPs_names/family1.names.txt, overwrite=true, ignorejunk=true]\n",
      "\n",
      "Input is being processed as unpaired\n",
      "Time:                         \t0.531 seconds.\n",
      "Reads Processed:         216 \t0.41k reads/sec\n",
      "Bases Processed:       97483 \t0.18m bases/sec\n",
      "Reads Out:          22\n",
      "Bases Out:          13187\n"
     ]
    }
   ],
   "source": [
    "%%bash\n",
    "\n",
    "for list in phylogenomics/SPs_names/family*txt\n",
    "do bbmap/filterbyname.sh in=phylogenomics/data/all_pep.fa out=phylogenomics/data/SPs_seqs/$(basename \"$list\" .names.txt).seq.fa include=t names=$list overwrite=true ignorejunk=true\n",
    "done"
   ]
  },
  {
   "cell_type": "markdown",
   "metadata": {},
   "source": [
    "##### **Part 6.5.2.3. Non-structural protein + structural protein 1**"
   ]
  },
  {
   "cell_type": "markdown",
   "metadata": {},
   "source": [
    "First we create a directory to store the sequences"
   ]
  },
  {
   "cell_type": "code",
   "execution_count": 88,
   "metadata": {},
   "outputs": [],
   "source": [
    "! mkdir phylogenomics/data/All_seqs/"
   ]
  },
  {
   "cell_type": "markdown",
   "metadata": {},
   "source": [
    "Then we use `BBMap` to extract the sequences"
   ]
  },
  {
   "cell_type": "code",
   "execution_count": 89,
   "metadata": {},
   "outputs": [
    {
     "name": "stderr",
     "output_type": "stream",
     "text": [
      "java -ea -Xmx6517m -cp /mnt/c/Users/iljap/OneDrive/Work/RSF_projects/Igor/BatShotMetaFlow/04_Densoviruses_t/bbmap/current/ driver.FilterReadsByName in=phylogenomics/data/all_pep.fa out=phylogenomics/data/All_seqs/family1.seq.fa include=t names=phylogenomics/All_names/family1.names.txt overwrite=true ignorejunk=true\n",
      "Executing driver.FilterReadsByName [in=phylogenomics/data/all_pep.fa, out=phylogenomics/data/All_seqs/family1.seq.fa, include=t, names=phylogenomics/All_names/family1.names.txt, overwrite=true, ignorejunk=true]\n",
      "\n",
      "Input is being processed as unpaired\n",
      "Time:                         \t0.553 seconds.\n",
      "Reads Processed:         216 \t0.39k reads/sec\n",
      "Bases Processed:       97483 \t0.18m bases/sec\n",
      "Reads Out:          22\n",
      "Bases Out:          12090\n",
      "java -ea -Xmx6517m -cp /mnt/c/Users/iljap/OneDrive/Work/RSF_projects/Igor/BatShotMetaFlow/04_Densoviruses_t/bbmap/current/ driver.FilterReadsByName in=phylogenomics/data/all_pep.fa out=phylogenomics/data/All_seqs/family2.seq.fa include=t names=phylogenomics/All_names/family2.names.txt overwrite=true ignorejunk=true\n",
      "Executing driver.FilterReadsByName [in=phylogenomics/data/all_pep.fa, out=phylogenomics/data/All_seqs/family2.seq.fa, include=t, names=phylogenomics/All_names/family2.names.txt, overwrite=true, ignorejunk=true]\n",
      "\n",
      "Input is being processed as unpaired\n",
      "Time:                         \t0.549 seconds.\n",
      "Reads Processed:         216 \t0.39k reads/sec\n",
      "Bases Processed:       97483 \t0.18m bases/sec\n",
      "Reads Out:          22\n",
      "Bases Out:          13187\n"
     ]
    }
   ],
   "source": [
    "%%bash\n",
    "\n",
    "for list in phylogenomics/All_names/family*txt\n",
    "do bbmap/filterbyname.sh in=phylogenomics/data/all_pep.fa out=phylogenomics/data/All_seqs/$(basename \"$list\" .names.txt).seq.fa include=t names=$list overwrite=true ignorejunk=true\n",
    "done"
   ]
  },
  {
   "cell_type": "markdown",
   "metadata": {},
   "source": [
    "##### **Part 6.5.2.4. Sctructural protein 2**"
   ]
  },
  {
   "cell_type": "markdown",
   "metadata": {},
   "source": [
    "First we create a directory to store the sequences"
   ]
  },
  {
   "cell_type": "code",
   "execution_count": 90,
   "metadata": {},
   "outputs": [],
   "source": [
    "! mkdir phylogenomics/data/ig_seqs/"
   ]
  },
  {
   "cell_type": "markdown",
   "metadata": {},
   "source": [
    "Then we use `BBMap` to extract the sequences"
   ]
  },
  {
   "cell_type": "code",
   "execution_count": 91,
   "metadata": {},
   "outputs": [
    {
     "name": "stderr",
     "output_type": "stream",
     "text": [
      "java -ea -Xmx6517m -cp /mnt/c/Users/iljap/OneDrive/Work/RSF_projects/Igor/BatShotMetaFlow/04_Densoviruses_t/bbmap/current/ driver.FilterReadsByName in=phylogenomics/data/all_pep.fa out=phylogenomics/data/ig_seqs/family1.seq.fa include=t names=phylogenomics/interesting_gene_names/family1.names.txt overwrite=true ignorejunk=true\n",
      "Executing driver.FilterReadsByName [in=phylogenomics/data/all_pep.fa, out=phylogenomics/data/ig_seqs/family1.seq.fa, include=t, names=phylogenomics/interesting_gene_names/family1.names.txt, overwrite=true, ignorejunk=true]\n",
      "\n",
      "Input is being processed as unpaired\n",
      "Time:                         \t0.560 seconds.\n",
      "Reads Processed:         216 \t0.39k reads/sec\n",
      "Bases Processed:       97483 \t0.17m bases/sec\n",
      "Reads Out:          12\n",
      "Bases Out:          3546\n"
     ]
    }
   ],
   "source": [
    "%%bash\n",
    "\n",
    "for list in phylogenomics/interesting_gene_names/family*txt\n",
    "do bbmap/filterbyname.sh in=phylogenomics/data/all_pep.fa out=phylogenomics/data/ig_seqs/$(basename \"$list\" .names.txt).seq.fa include=t names=$list overwrite=true ignorejunk=true\n",
    "done"
   ]
  },
  {
   "cell_type": "markdown",
   "metadata": {},
   "source": [
    "#### **Part 6.5.3. Renaming sequences. Again.**"
   ]
  },
  {
   "cell_type": "markdown",
   "metadata": {},
   "source": [
    "##### **Part 6.5.2.1. Non-structural protein**"
   ]
  },
  {
   "cell_type": "markdown",
   "metadata": {},
   "source": [
    "What's wrong with seq names now? Let's take a look"
   ]
  },
  {
   "cell_type": "code",
   "execution_count": 92,
   "metadata": {},
   "outputs": [
    {
     "name": "stdout",
     "output_type": "stream",
     "text": [
      ">Densovirus_D1_non-structural_protein__1\n"
     ]
    }
   ],
   "source": [
    "! head -1 phylogenomics/data/NSPs_seqs/family1.seq.fa"
   ]
  },
  {
   "cell_type": "markdown",
   "metadata": {},
   "source": [
    "Well... We must leave just the viruses names"
   ]
  },
  {
   "cell_type": "markdown",
   "metadata": {},
   "source": [
    "- Make this `>Densovirus_D1_non-structural_protein__1` look like this: `>Densovirus_D1`<br>"
   ]
  },
  {
   "cell_type": "markdown",
   "metadata": {},
   "source": [
    "First we create a directory to store the renamed seqs"
   ]
  },
  {
   "cell_type": "code",
   "execution_count": 93,
   "metadata": {},
   "outputs": [],
   "source": [
    "! mkdir phylogenomics/data/NSPs_seqs_renamed/"
   ]
  },
  {
   "cell_type": "code",
   "execution_count": 94,
   "metadata": {},
   "outputs": [],
   "source": [
    "%%bash\n",
    "\n",
    "for file in phylogenomics/data/NSPs_seqs/*.fa\n",
    "do\n",
    "  # Process each file line by line\n",
    "  while read -r line; do\n",
    "    if [[ $line == \\>MW628494.1* ]]; then\n",
    "      # For lines starting with \">MW628494.1\", delete the first \"_\" and everything after it\n",
    "      echo \"$line\" | sed 's/_.*//' >> phylogenomics/data/NSPs_seqs_renamed/$(basename \"$file\")\n",
    "    elif [[ $line == \\>* ]]; then\n",
    "      # For all other headers, delete the second \"_\" and everything after it\n",
    "      echo \"$line\" | sed 's/\\(_[^_]*\\)\\(_.*\\)/\\1/' >> phylogenomics/data/NSPs_seqs_renamed/$(basename \"$file\")\n",
    "    else\n",
    "      # For non-header lines (sequence data), copy them as-is\n",
    "      echo \"$line\" >> phylogenomics/data/NSPs_seqs_renamed/$(basename \"$file\")\n",
    "    fi\n",
    "  done < \"$file\"\n",
    "done\n"
   ]
  },
  {
   "cell_type": "markdown",
   "metadata": {},
   "source": [
    "Let's check if `sed` did good"
   ]
  },
  {
   "cell_type": "code",
   "execution_count": 95,
   "metadata": {},
   "outputs": [
    {
     "name": "stdout",
     "output_type": "stream",
     "text": [
      ">Densovirus_D1\n"
     ]
    }
   ],
   "source": [
    "! head -1 phylogenomics/data/NSPs_seqs_renamed/family1.seq.fa"
   ]
  },
  {
   "cell_type": "markdown",
   "metadata": {},
   "source": [
    "Perfect"
   ]
  },
  {
   "cell_type": "markdown",
   "metadata": {},
   "source": [
    "##### **Part 6.5.3.2. Structural protein 1**"
   ]
  },
  {
   "cell_type": "markdown",
   "metadata": {},
   "source": [
    "First we create a directory to store the renamed seqs"
   ]
  },
  {
   "cell_type": "code",
   "execution_count": 96,
   "metadata": {},
   "outputs": [],
   "source": [
    "! mkdir phylogenomics/data/SPs_seqs_renamed/"
   ]
  },
  {
   "cell_type": "code",
   "execution_count": 97,
   "metadata": {},
   "outputs": [],
   "source": [
    "%%bash\n",
    "\n",
    "for file in phylogenomics/data/SPs_seqs/*.fa\n",
    "do\n",
    "  # Process each file line by line\n",
    "  while read -r line; do\n",
    "    if [[ $line == \\>MW628494.1* ]]; then\n",
    "      # For lines starting with \">MW628494.1\", delete the first \"_\" and everything after it\n",
    "      echo \"$line\" | sed 's/_.*//' >> phylogenomics/data/SPs_seqs_renamed/$(basename \"$file\")\n",
    "    elif [[ $line == \\>* ]]; then\n",
    "      # For all other headers, delete the second \"_\" and everything after it\n",
    "      echo \"$line\" | sed 's/\\(_[^_]*\\)\\(_.*\\)/\\1/' >> phylogenomics/data/SPs_seqs_renamed/$(basename \"$file\")\n",
    "    else\n",
    "      # For non-header lines (sequence data), copy them as-is\n",
    "      echo \"$line\" >> phylogenomics/data/SPs_seqs_renamed/$(basename \"$file\")\n",
    "    fi\n",
    "  done < \"$file\"\n",
    "done\n"
   ]
  },
  {
   "cell_type": "markdown",
   "metadata": {},
   "source": [
    "Let's check if `sed` did good"
   ]
  },
  {
   "cell_type": "code",
   "execution_count": 98,
   "metadata": {},
   "outputs": [
    {
     "name": "stdout",
     "output_type": "stream",
     "text": [
      ">Densovirus_D1\n"
     ]
    }
   ],
   "source": [
    "! head -1 phylogenomics/data/SPs_seqs_renamed/family1.seq.fa"
   ]
  },
  {
   "cell_type": "markdown",
   "metadata": {},
   "source": [
    "Perfect"
   ]
  },
  {
   "cell_type": "markdown",
   "metadata": {},
   "source": [
    "##### **Part 6.5.3.3. Non-structural protein + structural protein 1**"
   ]
  },
  {
   "cell_type": "markdown",
   "metadata": {},
   "source": [
    "First we create a directory to store the renamed seqs"
   ]
  },
  {
   "cell_type": "code",
   "execution_count": 99,
   "metadata": {},
   "outputs": [],
   "source": [
    "! mkdir phylogenomics/data/All_seqs_renamed/"
   ]
  },
  {
   "cell_type": "code",
   "execution_count": 100,
   "metadata": {},
   "outputs": [],
   "source": [
    "%%bash\n",
    "\n",
    "for file in phylogenomics/data/All_seqs/*.fa\n",
    "do\n",
    "  # Process each file line by line\n",
    "  while read -r line; do\n",
    "    if [[ $line == \\>MW628494.1* ]]; then\n",
    "      # For lines starting with \">MW628494.1\", delete the first \"_\" and everything after it\n",
    "      echo \"$line\" | sed 's/_.*//' >> phylogenomics/data/All_seqs_renamed/$(basename \"$file\")\n",
    "    elif [[ $line == \\>* ]]; then\n",
    "      # For all other headers, delete the second \"_\" and everything after it\n",
    "      echo \"$line\" | sed 's/\\(_[^_]*\\)\\(_.*\\)/\\1/' >> phylogenomics/data/All_seqs_renamed/$(basename \"$file\")\n",
    "    else\n",
    "      # For non-header lines (sequence data), copy them as-is\n",
    "      echo \"$line\" >> phylogenomics/data/All_seqs_renamed/$(basename \"$file\")\n",
    "    fi\n",
    "  done < \"$file\"\n",
    "done\n"
   ]
  },
  {
   "cell_type": "markdown",
   "metadata": {},
   "source": [
    "Let's check if `sed` did good"
   ]
  },
  {
   "cell_type": "code",
   "execution_count": 101,
   "metadata": {},
   "outputs": [
    {
     "name": "stdout",
     "output_type": "stream",
     "text": [
      ">Densovirus_D1\n"
     ]
    }
   ],
   "source": [
    "! head -1 phylogenomics/data/All_seqs_renamed/family1.seq.fa"
   ]
  },
  {
   "cell_type": "markdown",
   "metadata": {},
   "source": [
    "Perfect"
   ]
  },
  {
   "cell_type": "markdown",
   "metadata": {},
   "source": [
    "##### **Part 6.5.3.4. Sctructural protein 2**"
   ]
  },
  {
   "cell_type": "markdown",
   "metadata": {},
   "source": [
    "First we create a directory to store the renamed seqs"
   ]
  },
  {
   "cell_type": "code",
   "execution_count": 102,
   "metadata": {},
   "outputs": [],
   "source": [
    "! mkdir phylogenomics/data/ig_seqs_renamed/"
   ]
  },
  {
   "cell_type": "code",
   "execution_count": 103,
   "metadata": {},
   "outputs": [],
   "source": [
    "%%bash\n",
    "\n",
    "for file in phylogenomics/data/ig_seqs/*.fa\n",
    "do\n",
    "  # Process each file line by line\n",
    "  while read -r line; do\n",
    "    if [[ $line == \\>MW628494.1* ]]; then\n",
    "      # For lines starting with \">MW628494.1\", delete the first \"_\" and everything after it\n",
    "      echo \"$line\" | sed 's/_.*//' >> phylogenomics/data/ig_seqs_renamed/$(basename \"$file\")\n",
    "    elif [[ $line == \\>* ]]; then\n",
    "      # For all other headers, delete the second \"_\" and everything after it\n",
    "      echo \"$line\" | sed 's/\\(_[^_]*\\)\\(_.*\\)/\\1/' >> phylogenomics/data/ig_seqs_renamed/$(basename \"$file\")\n",
    "    else\n",
    "      # For non-header lines (sequence data), copy them as-is\n",
    "      echo \"$line\" >> phylogenomics/data/ig_seqs_renamed/$(basename \"$file\")\n",
    "    fi\n",
    "  done < \"$file\"\n",
    "done\n"
   ]
  },
  {
   "cell_type": "markdown",
   "metadata": {},
   "source": [
    "Let's check if `sed` did good"
   ]
  },
  {
   "cell_type": "code",
   "execution_count": 104,
   "metadata": {},
   "outputs": [
    {
     "name": "stdout",
     "output_type": "stream",
     "text": [
      ">Densovirus_D1\n"
     ]
    }
   ],
   "source": [
    "! head -1 phylogenomics/data/ig_seqs_renamed/family1.seq.fa"
   ]
  },
  {
   "cell_type": "markdown",
   "metadata": {},
   "source": [
    "Perfect"
   ]
  },
  {
   "cell_type": "markdown",
   "metadata": {},
   "source": [
    "### **Part 6.6. Multiple Sequences Alignment**"
   ]
  },
  {
   "cell_type": "markdown",
   "metadata": {},
   "source": [
    "First create directories to store the alignments"
   ]
  },
  {
   "cell_type": "code",
   "execution_count": 105,
   "metadata": {},
   "outputs": [],
   "source": [
    "! mkdir phylogenomics/MSAs/\n",
    "! mkdir phylogenomics/MSAs/NSPs/\n",
    "! mkdir phylogenomics/MSAs/SPs/\n",
    "! mkdir phylogenomics/MSAs/All/\n",
    "! mkdir phylogenomics/MSAs/IG/"
   ]
  },
  {
   "cell_type": "markdown",
   "metadata": {},
   "source": [
    "Then launch `MAFFT` to align the sequences"
   ]
  },
  {
   "cell_type": "code",
   "execution_count": 106,
   "metadata": {},
   "outputs": [
    {
     "name": "stdout",
     "output_type": "stream",
     "text": [
      "outputhat23=16\n",
      "treein = 0\n",
      "compacttree = 0\n",
      "stacksize: 8192 kb\n",
      "rescale = 1\n",
      "All-to-all alignment.\n",
      "tbfast-pair (aa) Version 7.526\n",
      "alg=L, model=BLOSUM62, 2.00, -0.10, +0.10, noshift, amax=0.0\n",
      "0 thread(s)\n",
      "\n",
      "outputhat23=16\n",
      "Loading 'hat3.seed' ... \n",
      "done.\n",
      "Writing hat3 for iterative refinement\n",
      "rescale = 1\n",
      "Gap Penalty = -1.53, +0.00, +0.00\n",
      "tbutree = 1, compacttree = 0\n",
      "Constructing a UPGMA tree ... \n",
      "   40 / 45\n",
      "done.\n",
      "\n",
      "Progressive alignment ... \n",
      "STEP    33 /44 \n",
      "Reallocating..done. *alloclen = 2595\n",
      "STEP    44 /44 \n",
      "done.\n",
      "tbfast (aa) Version 7.526\n",
      "alg=A, model=BLOSUM62, 1.53, -0.00, -0.00, noshift, amax=0.0\n",
      "1 thread(s)\n",
      "\n",
      "minimumweight = 0.000010\n",
      "autosubalignment = 0.000000\n",
      "nthread = 0\n",
      "randomseed = 0\n",
      "blosum 62 / kimura 200\n",
      "poffset = 0\n",
      "niter = 16\n",
      "sueff_global = 0.100000\n",
      "nadd = 16\n",
      "Loading 'hat3' ... done.\n",
      "rescale = 1\n",
      "\n",
      "   40 / 45\n",
      "Segment   1/  1    1-1187\n",
      "STEP 003-028-0  identical.    identical.    identical.    identical.    identical.    identical.    identical.    accepted. rejected. identical.    accepted. rejected. identical.    accepted. rejected. accepted. rejected. accepted. rejected. rejected. accepted. rejected. rejected. rejected. rejected. rejected. rejected. rejected. rejected. accepted. identical.    identical.    rejected. rejected. rejected. rejected. rejected. rejected. accepted. rejected. rejected. rejected. accepted. rejected. accepted. rejected. accepted. accepted. identical.    accepted. rejected. rejected. rejected. identical.    identical.    identical.    identical.    identical.    identical.    identical.    identical.    identical.    identical.    identical.    identical.    identical.    rejected. rejected. rejected. rejected. identical.    rejected.\n",
      "Converged.\n",
      "\n",
      "done\n",
      "dvtditr (aa) Version 7.526\n",
      "alg=A, model=BLOSUM62, 1.53, -0.00, -0.00, noshift, amax=0.0\n",
      "0 thread(s)\n",
      "\n",
      "\n",
      "Strategy:\n",
      " L-INS-i (Probably most accurate, very slow)\n",
      " Iterative refinement method (<16) with LOCAL pairwise alignment information\n",
      "\n",
      "If unsure which option to use, try 'mafft --auto input > output'.\n",
      "For more information, see 'mafft --help', 'mafft --man' and the mafft page.\n",
      "\n",
      "The default gap scoring scheme has been changed in version 7.110 (2013 Oct).\n",
      "It tends to insert more gaps into gap-rich regions than previous versions.\n",
      "To disable this change, add the --leavegappyregion option.\n",
      "\n"
     ]
    }
   ],
   "source": [
    "! for file in phylogenomics/data/NSPs_seqs_renamed/*.fa; do mafft --auto \"$file\" > phylogenomics/MSAs/NSPs/$(basename \"$file\" .fa).aln; done"
   ]
  },
  {
   "cell_type": "code",
   "execution_count": 107,
   "metadata": {},
   "outputs": [
    {
     "name": "stdout",
     "output_type": "stream",
     "text": [
      "outputhat23=16\n",
      "treein = 0\n",
      "compacttree = 0\n",
      "stacksize: 8192 kb\n",
      "rescale = 1\n",
      "All-to-all alignment.\n",
      "tbfast-pair (aa) Version 7.526\n",
      "alg=L, model=BLOSUM62, 2.00, -0.10, +0.10, noshift, amax=0.0\n",
      "0 thread(s)\n",
      "\n",
      "outputhat23=16\n",
      "Loading 'hat3.seed' ... \n",
      "done.\n",
      "Writing hat3 for iterative refinement\n",
      "rescale = 1\n",
      "Gap Penalty = -1.53, +0.00, +0.00\n",
      "tbutree = 1, compacttree = 0\n",
      "Constructing a UPGMA tree ... \n",
      "   20 / 22\n",
      "done.\n",
      "\n",
      "Progressive alignment ... \n",
      "STEP    19 /21 \n",
      "Reallocating..done. *alloclen = 2481\n",
      "STEP    21 /21 \n",
      "done.\n",
      "tbfast (aa) Version 7.526\n",
      "alg=A, model=BLOSUM62, 1.53, -0.00, -0.00, noshift, amax=0.0\n",
      "1 thread(s)\n",
      "\n",
      "minimumweight = 0.000010\n",
      "autosubalignment = 0.000000\n",
      "nthread = 0\n",
      "randomseed = 0\n",
      "blosum 62 / kimura 200\n",
      "poffset = 0\n",
      "niter = 16\n",
      "sueff_global = 0.100000\n",
      "nadd = 16\n",
      "Loading 'hat3' ... done.\n",
      "rescale = 1\n",
      "\n",
      "   20 / 22\n",
      "Segment   1/  1    1- 913\n",
      "STEP 003-011-1  identical.    identical.    identical.    accepted. accepted. rejected. accepted. rejected. identical.    rejected. accepted. identical.    accepted. identical.    identical.    identical.    identical.   \n",
      "Converged.\n",
      "\n",
      "done\n",
      "dvtditr (aa) Version 7.526\n",
      "alg=A, model=BLOSUM62, 1.53, -0.00, -0.00, noshift, amax=0.0\n",
      "0 thread(s)\n",
      "\n",
      "\n",
      "Strategy:\n",
      " L-INS-i (Probably most accurate, very slow)\n",
      " Iterative refinement method (<16) with LOCAL pairwise alignment information\n",
      "\n",
      "If unsure which option to use, try 'mafft --auto input > output'.\n",
      "For more information, see 'mafft --help', 'mafft --man' and the mafft page.\n",
      "\n",
      "The default gap scoring scheme has been changed in version 7.110 (2013 Oct).\n",
      "It tends to insert more gaps into gap-rich regions than previous versions.\n",
      "To disable this change, add the --leavegappyregion option.\n",
      "\n"
     ]
    }
   ],
   "source": [
    "! for file in phylogenomics/data/SPs_seqs_renamed/*.fa; do mafft --auto \"$file\" > phylogenomics/MSAs/SPs/$(basename \"$file\" .fa).aln; done"
   ]
  },
  {
   "cell_type": "code",
   "execution_count": 108,
   "metadata": {},
   "outputs": [
    {
     "name": "stdout",
     "output_type": "stream",
     "text": [
      "outputhat23=16\n",
      "treein = 0\n",
      "compacttree = 0\n",
      "stacksize: 8192 kb\n",
      "rescale = 1\n",
      "All-to-all alignment.\n",
      "tbfast-pair (aa) Version 7.526\n",
      "alg=L, model=BLOSUM62, 2.00, -0.10, +0.10, noshift, amax=0.0\n",
      "0 thread(s)\n",
      "\n",
      "outputhat23=16\n",
      "Loading 'hat3.seed' ... \n",
      "done.\n",
      "Writing hat3 for iterative refinement\n",
      "rescale = 1\n",
      "Gap Penalty = -1.53, +0.00, +0.00\n",
      "tbutree = 1, compacttree = 0\n",
      "Constructing a UPGMA tree ... \n",
      "   20 / 22\n",
      "done.\n",
      "\n",
      "Progressive alignment ... \n",
      "STEP    21 /21 \n",
      "done.\n",
      "tbfast (aa) Version 7.526\n",
      "alg=A, model=BLOSUM62, 1.53, -0.00, -0.00, noshift, amax=0.0\n",
      "1 thread(s)\n",
      "\n",
      "minimumweight = 0.000010\n",
      "autosubalignment = 0.000000\n",
      "nthread = 0\n",
      "randomseed = 0\n",
      "blosum 62 / kimura 200\n",
      "poffset = 0\n",
      "niter = 16\n",
      "sueff_global = 0.100000\n",
      "nadd = 16\n",
      "Loading 'hat3' ... done.\n",
      "rescale = 1\n",
      "\n",
      "   20 / 22\n",
      "Segment   1/  1    1- 785\n",
      "STEP 003-011-1  identical.    identical.    identical.    identical.    accepted. accepted. accepted. rejected. rejected. identical.    identical.    identical.   \n",
      "Converged.\n",
      "\n",
      "done\n",
      "dvtditr (aa) Version 7.526\n",
      "alg=A, model=BLOSUM62, 1.53, -0.00, -0.00, noshift, amax=0.0\n",
      "0 thread(s)\n",
      "\n",
      "\n",
      "Strategy:\n",
      " L-INS-i (Probably most accurate, very slow)\n",
      " Iterative refinement method (<16) with LOCAL pairwise alignment information\n",
      "\n",
      "If unsure which option to use, try 'mafft --auto input > output'.\n",
      "For more information, see 'mafft --help', 'mafft --man' and the mafft page.\n",
      "\n",
      "The default gap scoring scheme has been changed in version 7.110 (2013 Oct).\n",
      "It tends to insert more gaps into gap-rich regions than previous versions.\n",
      "To disable this change, add the --leavegappyregion option.\n",
      "\n",
      "outputhat23=16\n",
      "treein = 0\n",
      "compacttree = 0\n",
      "stacksize: 8192 kb\n",
      "rescale = 1\n",
      "All-to-all alignment.\n",
      "tbfast-pair (aa) Version 7.526\n",
      "alg=L, model=BLOSUM62, 2.00, -0.10, +0.10, noshift, amax=0.0\n",
      "0 thread(s)\n",
      "\n",
      "outputhat23=16\n",
      "Loading 'hat3.seed' ... \n",
      "done.\n",
      "Writing hat3 for iterative refinement\n",
      "rescale = 1\n",
      "Gap Penalty = -1.53, +0.00, +0.00\n",
      "tbutree = 1, compacttree = 0\n",
      "Constructing a UPGMA tree ... \n",
      "   20 / 22\n",
      "done.\n",
      "\n",
      "Progressive alignment ... \n",
      "STEP    19 /21 \n",
      "Reallocating..done. *alloclen = 2481\n",
      "STEP    21 /21 \n",
      "done.\n",
      "tbfast (aa) Version 7.526\n",
      "alg=A, model=BLOSUM62, 1.53, -0.00, -0.00, noshift, amax=0.0\n",
      "1 thread(s)\n",
      "\n",
      "minimumweight = 0.000010\n",
      "autosubalignment = 0.000000\n",
      "nthread = 0\n",
      "randomseed = 0\n",
      "blosum 62 / kimura 200\n",
      "poffset = 0\n",
      "niter = 16\n",
      "sueff_global = 0.100000\n",
      "nadd = 16\n",
      "Loading 'hat3' ... done.\n",
      "rescale = 1\n",
      "\n",
      "   20 / 22\n",
      "Segment   1/  1    1- 913\n",
      "STEP 003-011-1  identical.    identical.    identical.    accepted. accepted. rejected. rejected. accepted. accepted. accepted. accepted. accepted. rejected. identical.    identical.    identical.   \n",
      "Converged.\n",
      "\n",
      "done\n",
      "dvtditr (aa) Version 7.526\n",
      "alg=A, model=BLOSUM62, 1.53, -0.00, -0.00, noshift, amax=0.0\n",
      "0 thread(s)\n",
      "\n",
      "\n",
      "Strategy:\n",
      " L-INS-i (Probably most accurate, very slow)\n",
      " Iterative refinement method (<16) with LOCAL pairwise alignment information\n",
      "\n",
      "If unsure which option to use, try 'mafft --auto input > output'.\n",
      "For more information, see 'mafft --help', 'mafft --man' and the mafft page.\n",
      "\n",
      "The default gap scoring scheme has been changed in version 7.110 (2013 Oct).\n",
      "It tends to insert more gaps into gap-rich regions than previous versions.\n",
      "To disable this change, add the --leavegappyregion option.\n",
      "\n"
     ]
    }
   ],
   "source": [
    "! for file in phylogenomics/data/All_seqs_renamed/*.fa; do mafft --auto \"$file\" > phylogenomics/MSAs/All/$(basename \"$file\" .fa).aln; done"
   ]
  },
  {
   "cell_type": "code",
   "execution_count": 109,
   "metadata": {},
   "outputs": [
    {
     "name": "stdout",
     "output_type": "stream",
     "text": [
      "outputhat23=16\n",
      "treein = 0\n",
      "compacttree = 0\n",
      "stacksize: 8192 kb\n",
      "rescale = 1\n",
      "All-to-all alignment.\n",
      "tbfast-pair (aa) Version 7.526\n",
      "alg=L, model=BLOSUM62, 2.00, -0.10, +0.10, noshift, amax=0.0\n",
      "0 thread(s)\n",
      "\n",
      "outputhat23=16\n",
      "Loading 'hat3.seed' ... \n",
      "done.\n",
      "Writing hat3 for iterative refinement\n",
      "rescale = 1\n",
      "Gap Penalty = -1.53, +0.00, +0.00\n",
      "tbutree = 1, compacttree = 0\n",
      "Constructing a UPGMA tree ... \n",
      "   10 / 12\n",
      "done.\n",
      "\n",
      "Progressive alignment ... \n",
      "STEP    11 /11 \n",
      "done.\n",
      "tbfast (aa) Version 7.526\n",
      "alg=A, model=BLOSUM62, 1.53, -0.00, -0.00, noshift, amax=0.0\n",
      "1 thread(s)\n",
      "\n",
      "minimumweight = 0.000010\n",
      "autosubalignment = 0.000000\n",
      "nthread = 0\n",
      "randomseed = 0\n",
      "blosum 62 / kimura 200\n",
      "poffset = 0\n",
      "niter = 16\n",
      "sueff_global = 0.100000\n",
      "nadd = 16\n",
      "Loading 'hat3' ... done.\n",
      "rescale = 1\n",
      "\n",
      "   10 / 12\n",
      "Segment   1/  1    1- 304\n",
      "STEP 002-010-1  identical.   \n",
      "Converged.\n",
      "\n",
      "done\n",
      "dvtditr (aa) Version 7.526\n",
      "alg=A, model=BLOSUM62, 1.53, -0.00, -0.00, noshift, amax=0.0\n",
      "0 thread(s)\n",
      "\n",
      "\n",
      "Strategy:\n",
      " L-INS-i (Probably most accurate, very slow)\n",
      " Iterative refinement method (<16) with LOCAL pairwise alignment information\n",
      "\n",
      "If unsure which option to use, try 'mafft --auto input > output'.\n",
      "For more information, see 'mafft --help', 'mafft --man' and the mafft page.\n",
      "\n",
      "The default gap scoring scheme has been changed in version 7.110 (2013 Oct).\n",
      "It tends to insert more gaps into gap-rich regions than previous versions.\n",
      "To disable this change, add the --leavegappyregion option.\n",
      "\n"
     ]
    }
   ],
   "source": [
    "! for file in phylogenomics/data/ig_seqs_renamed/*.fa; do mafft --auto \"$file\" > phylogenomics/MSAs/IG/$(basename \"$file\" .fa).aln; done"
   ]
  },
  {
   "cell_type": "markdown",
   "metadata": {},
   "source": [
    "### **Part 6.7. Trimming the alignments**"
   ]
  },
  {
   "cell_type": "markdown",
   "metadata": {},
   "source": [
    "First create directories to store the trimmed alignments"
   ]
  },
  {
   "cell_type": "code",
   "execution_count": 110,
   "metadata": {},
   "outputs": [],
   "source": [
    "! mkdir phylogenomics/trimmed_MSAs/\n",
    "! mkdir phylogenomics/trimmed_MSAs/NSPs/\n",
    "! mkdir phylogenomics/trimmed_MSAs/SPs/\n",
    "! mkdir phylogenomics/trimmed_MSAs/All/\n",
    "! mkdir phylogenomics/trimmed_MSAs/IG/"
   ]
  },
  {
   "cell_type": "markdown",
   "metadata": {},
   "source": [
    "Then launch `trimAl` to trim the alignments"
   ]
  },
  {
   "cell_type": "code",
   "execution_count": 111,
   "metadata": {},
   "outputs": [],
   "source": [
    "! for file in phylogenomics/MSAs/NSPs/*aln; do trimal -in $file -out phylogenomics/trimmed_MSAs/NSPs/trimmed_$(basename \"$file\") -automated1; done"
   ]
  },
  {
   "cell_type": "code",
   "execution_count": 112,
   "metadata": {},
   "outputs": [],
   "source": [
    "! for file in phylogenomics/MSAs/SPs/*aln; do trimal -in $file -out phylogenomics/trimmed_MSAs/SPs/trimmed_$(basename \"$file\") -automated1; done"
   ]
  },
  {
   "cell_type": "code",
   "execution_count": 113,
   "metadata": {},
   "outputs": [],
   "source": [
    "! for file in phylogenomics/MSAs/All/*aln; do trimal -in $file -out phylogenomics/trimmed_MSAs/All/trimmed_$(basename \"$file\") -automated1; done"
   ]
  },
  {
   "cell_type": "code",
   "execution_count": 114,
   "metadata": {},
   "outputs": [],
   "source": [
    "! for file in phylogenomics/MSAs/IG/*aln; do trimal -in $file -out phylogenomics/trimmed_MSAs/IG/trimmed_$(basename \"$file\") -automated1; done"
   ]
  },
  {
   "cell_type": "markdown",
   "metadata": {},
   "source": [
    "### **Part 6.8. Launching `ModelFinder` to get the best substitution model**"
   ]
  },
  {
   "cell_type": "markdown",
   "metadata": {},
   "source": [
    "First create directories to store `ModelFinder` log files"
   ]
  },
  {
   "cell_type": "code",
   "execution_count": 115,
   "metadata": {},
   "outputs": [],
   "source": [
    "! mkdir phylogenomics/model-finder/\n",
    "! mkdir phylogenomics/model-finder/NSPs/\n",
    "! mkdir phylogenomics/model-finder/SPs/\n",
    "! mkdir phylogenomics/model-finder/All/"
   ]
  },
  {
   "cell_type": "markdown",
   "metadata": {},
   "source": [
    "Then launch `ModelFinder` to find the most appropriate substitution model"
   ]
  },
  {
   "cell_type": "code",
   "execution_count": 116,
   "metadata": {},
   "outputs": [
    {
     "name": "stdout",
     "output_type": "stream",
     "text": [
      "IQ-TREE multicore version 2.3.6 for Linux x86 64-bit built Aug  4 2024\n",
      "Developed by Bui Quang Minh, Nguyen Lam Tung, Olga Chernomor, Heiko Schmidt,\n",
      "Dominik Schrempf, Michael Woodhams, Ly Trong Nhan, Thomas Wong\n",
      "\n",
      "Host:    IliaPC (AVX2, FMA3, 15 GB RAM)\n",
      "Command: iqtree2 -m MFP -s phylogenomics/trimmed_MSAs/NSPs/ --prefix phylogenomics/model-finder/NSPs/NSPs -T AUTO\n",
      "Seed:    358720 (Using SPRNG - Scalable Parallel Random Number Generator)\n",
      "Time:    Mon Dec 23 15:33:01 2024\n",
      "Kernel:  AVX+FMA - auto-detect threads (24 CPU cores detected)\n",
      "\n",
      "Reading 1 alignment files in directory phylogenomics/trimmed_MSAs/NSPs/\n",
      "Reading alignment file phylogenomics/trimmed_MSAs/NSPs/trimmed_family1.seq.aln ... Fasta format detected\n",
      "Reading fasta file: done in 0.0015821 secs using 45.89% CPU\n",
      "Alignment most likely contains protein sequences\n",
      "Alignment has 45 sequences with 397 columns, 392 distinct patterns\n",
      "363 parsimony-informative, 15 singleton sites, 19 constant sites\n",
      "               Gap/Ambiguity  Composition  p-value\n",
      "Analyzing sequences: done in 0.0035005 secs using 470.8% CPU\n",
      "   1  Densovirus_D1    4.53%    passed     99.74%\n",
      "   2  Densovirus_D2    4.53%    passed     99.64%\n",
      "   3  Densovirus_D3    4.53%    passed     99.74%\n",
      "   4  Densovirus_D4    4.53%    passed     99.74%\n",
      "   5  Densovirus_D5    4.53%    passed     99.74%\n",
      "   6  Densovirus_P1    4.53%    passed     99.74%\n",
      "   7  Densovirus_P2    4.53%    passed     99.74%\n",
      "   8  Densovirus_P3    4.53%    passed     99.74%\n",
      "   9  Densovirus_P4    4.53%    passed     99.74%\n",
      "  10  Densovirus_P5    4.53%    passed     99.74%\n",
      "  11  MW628494.1       4.53%    passed     99.65%\n",
      "  12  NC_000936.1      1.51%    passed     96.78%\n",
      "  13  NC_001899.1      5.79%    passed     84.49%\n",
      "  14  NC_003346.1      1.76%    passed     46.67%\n",
      "  15  NC_004286.1      5.79%    passed     94.99%\n",
      "  16  NC_004287.1      1.76%    passed     46.67%\n",
      "  17  NC_004288.1      1.76%    passed     38.75%\n",
      "  18  NC_004289.1      1.76%    passed     32.22%\n",
      "  19  NC_004290.1      1.51%    passed     45.13%\n",
      "  20  NC_005040.1      9.07%    passed     68.74%\n",
      "  21  NC_005041.2      4.03%    passed     74.28%\n",
      "  22  NC_005341.1      5.79%    passed     87.48%\n",
      "  23  NC_006555.1      3.02%    passed     98.21%\n",
      "  24  NC_012685.1      5.79%    passed     80.83%\n",
      "  25  NC_015718.1      3.78%    passed     72.02%\n",
      "  26  NC_018399.1      1.76%    passed     49.68%\n",
      "  27  NC_018450.1      1.76%    passed     55.69%\n",
      "  28  NC_019492.1      5.79%    passed     88.57%\n",
      "  29  NC_022564.1     11.08%    failed      2.65%\n",
      "  30  NC_022748.1      5.54%    passed     99.82%\n",
      "  31  NC_026943.1      1.76%    passed     99.94%\n",
      "  32  NC_030296.1      3.27%    passed     22.96%\n",
      "  33  NC_031450.1      4.53%    passed     99.57%\n",
      "  34  NC_040626.1      4.28%    passed     52.76%\n",
      "  35  NC_075118.1      1.51%    passed     45.13%\n",
      "  36  NC_077036.1      1.76%    passed     93.70%\n",
      "  37  NC_077038.1      2.52%    passed      9.24%\n",
      "  38  NC_077050.1      2.27%    passed     11.92%\n",
      "  39  NC_077065.1      1.01%    passed     97.82%\n",
      "  40  NC_077069.1      6.05%    passed     76.80%\n",
      "  41  NC_077079.1      1.51%    passed     83.28%\n",
      "  42  NC_077080.1      1.51%    passed     97.36%\n",
      "  43  NC_077081.1     10.33%    passed     18.47%\n",
      "  44  NC_077082.1      4.03%    passed     98.62%\n",
      "  45  NC_077083.1      1.51%    passed     97.55%\n",
      "****  TOTAL            3.93%  1 sequences failed composition chi2 test (p-value<5%; df=19)\n",
      "NOTE: Densovirus_D3 is identical to Densovirus_D1 but kept for subsequent analysis\n",
      "NOTE: NC_075118.1 is identical to NC_004290.1 but kept for subsequent analysis\n",
      "NOTE: 7 identical sequences (see below) will be ignored for subsequent analysis\n",
      "NOTE: Densovirus_D4 (identical to Densovirus_D1) is ignored but added at the end\n",
      "NOTE: Densovirus_D5 (identical to Densovirus_D1) is ignored but added at the end\n",
      "NOTE: Densovirus_P1 (identical to Densovirus_D1) is ignored but added at the end\n",
      "NOTE: Densovirus_P2 (identical to Densovirus_D1) is ignored but added at the end\n",
      "NOTE: Densovirus_P3 (identical to Densovirus_D1) is ignored but added at the end\n",
      "NOTE: Densovirus_P4 (identical to Densovirus_D1) is ignored but added at the end\n",
      "NOTE: Densovirus_P5 (identical to Densovirus_D1) is ignored but added at the end\n",
      "Alignment was printed to phylogenomics/model-finder/NSPs/NSPs.uniqueseq.phy\n",
      "\n",
      "For your convenience alignment with unique sequences printed to phylogenomics/model-finder/NSPs/NSPs.uniqueseq.phy\n",
      "\n",
      "\n",
      "Create initial parsimony tree by phylogenetic likelihood library (PLL)... 0.011 seconds\n",
      "Measuring multi-threading efficiency up to 24 CPU cores\n",
      "Increase to 10 rounds for branch lengths\n",
      "48 trees examined\n",
      "Threads: 1 / Time: 24.356 sec / Speedup: 1.000 / Efficiency: 100% / LogL: -27415\n",
      "Threads: 2 / Time: 13.478 sec / Speedup: 1.807 / Efficiency: 90% / LogL: -27415\n",
      "Threads: 3 / Time: 9.884 sec / Speedup: 2.464 / Efficiency: 82% / LogL: -27415\n",
      "Threads: 4 / Time: 7.621 sec / Speedup: 3.196 / Efficiency: 80% / LogL: -27415\n",
      "Threads: 5 / Time: 6.807 sec / Speedup: 3.578 / Efficiency: 72% / LogL: -27415\n",
      "Threads: 6 / Time: 6.351 sec / Speedup: 3.835 / Efficiency: 64% / LogL: -27415\n",
      "Threads: 7 / Time: 6.180 sec / Speedup: 3.941 / Efficiency: 56% / LogL: -27415\n",
      "Threads: 8 / Time: 5.837 sec / Speedup: 4.173 / Efficiency: 52% / LogL: -27415\n",
      "Threads: 9 / Time: 5.631 sec / Speedup: 4.325 / Efficiency: 48% / LogL: -27415\n",
      "BEST NUMBER OF THREADS: 8\n",
      "\n",
      "Perform fast likelihood tree search using LG+I+G model...\n",
      "Estimate model parameters (epsilon = 5.000)\n",
      "Perform nearest neighbor interchange...\n",
      "Estimate model parameters (epsilon = 1.000)\n",
      "1. Initial log-likelihood: -19767.671\n",
      "Optimal log-likelihood: -19767.584\n",
      "Proportion of invariable sites: 0.041\n",
      "Gamma shape alpha: 1.791\n",
      "Parameters optimization took 1 rounds (0.044 sec)\n",
      "Time for fast ML tree search: 0.371 seconds\n",
      "\n",
      "NOTE: ModelFinder requires 24 MB RAM!\n",
      "ModelFinder will test up to 1232 protein models (sample size: 397 epsilon: 0.100) ...\n",
      " No. Model         -LnL         df  AIC          AICc         BIC\n",
      "  1  LG            20401.652    73  40949.304    40982.753    41240.131\n",
      "  2  LG+I          20209.017    74  40566.034    40600.506    40860.845\n",
      "  3  LG+G4         19796.159    74  39740.318    39774.790    40035.129\n",
      "  4  LG+I+G4       19767.584    75  39685.167    39720.681    39983.962\n",
      "  5  LG+R2         19874.673    75  39899.347    39934.861    40198.142\n",
      "  6  LG+R3         19799.290    77  39752.579    39790.235    40059.342\n",
      "  7  LG+R4         19760.908    79  39679.817    39719.690    39994.548\n",
      "  8  LG+R5         19755.016    81  39672.032    39714.203    39994.731\n",
      " 14  LG+I+R2       19813.174    76  39778.348    39814.923    40081.127\n",
      " 15  LG+I+R3       19768.802    78  39693.604    39732.359    40004.351\n",
      " 16  LG+I+R4       19755.812    80  39671.623    39712.636    39990.338\n",
      " 17  LG+I+R5       19755.505    82  39675.010    39718.360    40001.693\n",
      " 26  LG+F+I+G4     19706.304    94  39600.608    39659.747    39975.098\n",
      " 38  LG+F+I+R4     19692.334    99  39582.668    39649.335    39977.078\n",
      " 48  WAG+I+G4      19928.544    75  40007.088    40042.602    40305.883\n",
      " 60  WAG+I+R4      19903.165    80  39966.331    40007.343    40285.045\n",
      " 70  WAG+F+I+G4    19822.728    94  39833.457    39892.596    40207.947\n",
      " 82  WAG+F+I+R4    19799.867    99  39797.734    39864.401    40192.144\n",
      " 92  JTT+I+G4      20021.845    75  40193.691    40229.205    40492.486\n",
      "104  JTT+I+R4      19999.720    80  40159.440    40200.453    40478.155\n",
      "114  JTT+F+I+G4    19920.383    94  40028.765    40087.904    40403.255\n",
      "126  JTT+F+I+R4    19898.842    99  39995.684    40062.350    40390.093\n",
      "WARNING: Normalizing state frequencies so that sum of them equals to 1\n",
      "136  Q.pfam+I+G4   19781.134    75  39712.268    39747.782    40011.063\n",
      "WARNING: Normalizing state frequencies so that sum of them equals to 1\n",
      "148  Q.pfam+I+R4   19767.102    80  39694.203    39735.216    40012.918\n",
      "WARNING: Normalizing state frequencies so that sum of them equals to 1\n",
      "158  Q.pfam+F+I+G4 19698.351    94  39584.702    39643.841    39959.192\n",
      "WARNING: Normalizing state frequencies so that sum of them equals to 1\n",
      "170  Q.pfam+F+I+R4 19683.563    99  39565.125    39631.792    39959.535\n",
      "WARNING: Normalizing state frequencies so that sum of them equals to 1\n",
      "180  Q.bird+I+G4   20402.685    75  40955.369    40990.883    41254.164\n",
      "WARNING: Normalizing state frequencies so that sum of them equals to 1\n",
      "192  Q.bird+I+R4   20388.421    80  40936.842    40977.855    41255.557\n",
      "WARNING: Normalizing state frequencies so that sum of them equals to 1\n",
      "202  Q.bird+F+I+G4 20259.794    94  40707.587    40766.726    41082.077\n",
      "WARNING: Normalizing state frequencies so that sum of them equals to 1\n",
      "214  Q.bird+F+I+R4 20243.980    99  40685.960    40752.627    41080.370\n",
      "WARNING: Normalizing state frequencies so that sum of them equals to 1\n",
      "224  Q.mammal+I+G4 20268.926    75  40687.851    40723.365    40986.646\n",
      "WARNING: Normalizing state frequencies so that sum of them equals to 1\n",
      "236  Q.mammal+I+R4 20253.495    80  40666.990    40708.003    40985.705\n",
      "WARNING: Normalizing state frequencies so that sum of them equals to 1\n",
      "246  Q.mammal+F+I+G4 20111.756    94  40411.513    40470.652    40786.003\n",
      "WARNING: Normalizing state frequencies so that sum of them equals to 1\n",
      "258  Q.mammal+F+I+R4 20095.636    99  40389.272    40455.938    40783.681\n",
      "268  Q.insect+I+G4 19843.162    75  39836.324    39871.838    40135.119\n",
      "280  Q.insect+I+R4 19829.604    80  39819.207    39860.220    40137.922\n",
      "290  Q.insect+F+I+G4 19779.553    94  39747.105    39806.244    40121.595\n",
      "302  Q.insect+F+I+R4 19762.906    99  39723.811    39790.478    40118.221\n",
      "WARNING: Normalizing state frequencies so that sum of them equals to 1\n",
      "312  Q.plant+I+G4  20064.144    75  40278.288    40313.802    40577.084\n",
      "WARNING: Normalizing state frequencies so that sum of them equals to 1\n",
      "324  Q.plant+I+R4  20048.178    80  40256.355    40297.368    40575.070\n",
      "WARNING: Normalizing state frequencies so that sum of them equals to 1\n",
      "334  Q.plant+F+I+G4 19986.634    94  40161.268    40220.407    40535.758\n",
      "WARNING: Normalizing state frequencies so that sum of them equals to 1\n",
      "346  Q.plant+F+I+R4 19967.113    99  40132.226    40198.893    40526.636\n",
      "WARNING: Normalizing state frequencies so that sum of them equals to 1\n",
      "356  Q.yeast+I+G4  19843.402    75  39836.804    39872.318    40135.599\n",
      "WARNING: Normalizing state frequencies so that sum of them equals to 1\n",
      "368  Q.yeast+I+R4  19828.569    80  39817.139    39858.151    40135.853\n",
      "WARNING: Normalizing state frequencies so that sum of them equals to 1\n",
      "378  Q.yeast+F+I+G4 19725.306    94  39638.611    39697.750    40013.101\n",
      "WARNING: Normalizing state frequencies so that sum of them equals to 1\n",
      "390  Q.yeast+F+I+R4 19708.365    99  39614.730    39681.396    40009.139\n",
      "400  JTTDCMut+I+G4 20023.155    75  40196.310    40231.824    40495.105\n",
      "412  JTTDCMut+I+R4 19998.402    80  40156.803    40197.816    40475.518\n",
      "422  JTTDCMut+F+I+G4 19922.303    94  40032.605    40091.744    40407.095\n",
      "434  JTTDCMut+F+I+R4 19898.062    99  39994.125    40060.792    40388.535\n",
      "444  DCMut+I+G4    20276.176    75  40702.351    40737.865    41001.147\n",
      "456  DCMut+I+R4    20253.930    80  40667.860    40708.873    40986.575\n",
      "466  DCMut+F+I+G4  20044.243    94  40276.486    40335.625    40650.976\n",
      "478  DCMut+F+I+R4  20021.816    99  40241.632    40308.299    40636.042\n",
      "488  VT+I+G4       19886.624    75  39923.247    39958.761    40222.042\n",
      "500  VT+I+R4       19860.492    80  39880.985    39921.997    40199.699\n",
      "510  VT+F+I+G4     19811.399    94  39810.799    39869.938    40185.289\n",
      "522  VT+F+I+R4     19785.503    99  39769.005    39835.672    40163.415\n",
      "532  PMB+I+G4      19941.086    75  40032.172    40067.686    40330.967\n",
      "544  PMB+I+R4      19920.292    80  40000.584    40041.597    40319.299\n",
      "554  PMB+F+I+G4    19907.131    94  40002.262    40061.401    40376.752\n",
      "566  PMB+F+I+R4    19885.385    99  39968.771    40035.438    40363.181\n",
      "576  Blosum62+I+G4 19920.343    75  39990.686    40026.200    40289.481\n",
      "588  Blosum62+I+R4 19901.322    80  39962.643    40003.656    40281.358\n",
      "598  Blosum62+F+I+G4 19878.561    94  39945.121    40004.260    40319.611\n",
      "610  Blosum62+F+I+R4 19857.152    99  39912.305    39978.971    40306.714\n",
      "620  Dayhoff+I+G4  20276.107    75  40702.214    40737.728    41001.009\n",
      "632  Dayhoff+I+R4  20254.236    80  40668.473    40709.485    40987.188\n",
      "642  Dayhoff+F+I+G4 20044.279    94  40276.558    40335.697    40651.048\n",
      "654  Dayhoff+F+I+R4 20022.459    99  40242.919    40309.585    40637.328\n",
      "664  mtREV+I+G4    20945.947    75  42041.895    42077.409    42340.690\n",
      "676  mtREV+I+R4    20938.196    80  42036.393    42077.406    42355.108\n",
      "686  mtREV+F+I+G4  20237.201    94  40662.401    40721.540    41036.891\n",
      "698  mtREV+F+I+R4  20229.292    99  40656.583    40723.250    41050.993\n",
      "708  mtART+I+G4    21013.804    75  42177.608    42213.122    42476.403\n",
      "720  mtART+I+R4    21005.621    80  42171.242    42212.254    42489.957\n",
      "730  mtART+F+I+G4  20292.293    94  40772.585    40831.724    41147.075\n",
      "742  mtART+F+I+R4  20285.604    99  40769.208    40835.875    41163.618\n",
      "752  mtZOA+I+G4    20599.980    75  41349.959    41385.473    41648.755\n",
      "764  mtZOA+I+R4    20594.054    80  41348.108    41389.121    41666.823\n",
      "774  mtZOA+F+I+G4  20065.824    94  40319.648    40378.787    40694.138\n",
      "786  mtZOA+F+I+R4  20056.513    99  40311.026    40377.692    40705.435\n",
      "796  mtMet+I+G4    20792.703    75  41735.405    41770.919    42034.200\n",
      "808  mtMet+I+R4    20783.392    80  41726.785    41767.797    42045.500\n",
      "818  mtMet+F+I+G4  20135.944    94  40459.889    40519.028    40834.379\n",
      "830  mtMet+F+I+R4  20126.045    99  40450.090    40516.757    40844.500\n",
      "840  mtVer+I+G4    21093.307    75  42336.614    42372.128    42635.410\n",
      "852  mtVer+I+R4    21083.781    80  42327.561    42368.574    42646.276\n",
      "862  mtVer+F+I+G4  20445.587    94  41079.174    41138.313    41453.664\n",
      "874  mtVer+F+I+R4  20431.114    99  41060.227    41126.894    41454.637\n",
      "884  mtInv+I+G4    20845.174    75  41840.347    41875.861    42139.142\n",
      "896  mtInv+I+R4    20837.746    80  41835.492    41876.504    42154.207\n",
      "906  mtInv+F+I+G4  19998.764    94  40185.529    40244.668    40560.019\n",
      "918  mtInv+F+I+R4  19983.023    99  40164.045    40230.712    40558.455\n",
      "928  mtMAM+I+G4    21289.343    75  42728.685    42764.199    43027.480\n",
      "940  mtMAM+I+R4    21276.816    80  42713.632    42754.644    43032.347\n",
      "950  mtMAM+F+I+G4  20622.438    94  41432.876    41492.015    41807.366\n",
      "962  mtMAM+F+I+R4  20615.859    99  41429.718    41496.385    41824.128\n",
      "WARNING: Normalizing state frequencies so that sum of them equals to 1\n",
      "972  FLAVI+I+G4    20807.900    75  41765.801    41801.315    42064.596\n",
      "WARNING: Normalizing state frequencies so that sum of them equals to 1\n",
      "984  FLAVI+I+R4    20790.867    80  41741.734    41782.746    42060.449\n",
      "WARNING: Normalizing state frequencies so that sum of them equals to 1\n",
      "994  FLAVI+F+I+G4  20633.599    94  41455.198    41514.337    41829.688\n",
      "WARNING: Normalizing state frequencies so that sum of them equals to 1\n",
      "1006  FLAVI+F+I+R4  20606.524    99  41411.048    41477.715    41805.458\n",
      "1016  HIVb+I+G4     20308.815    75  40767.629    40803.143    41066.424\n",
      "1028  HIVb+I+R4     20285.939    80  40731.878    40772.890    41050.593\n",
      "1038  HIVb+F+I+G4   20266.414    94  40720.828    40779.967    41095.318\n",
      "1050  HIVb+F+I+R4   20244.455    99  40686.910    40753.577    41081.320\n",
      "1060  HIVw+I+G4     21129.845    75  42409.690    42445.204    42708.485\n",
      "1072  HIVw+I+R4     21108.017    80  42376.034    42417.047    42694.749\n",
      "1082  HIVw+F+I+G4   20790.773    94  41769.546    41828.685    42144.036\n",
      "1094  HIVw+F+I+R4   20761.923    99  41721.846    41788.513    42116.256\n",
      "1104  FLU+I+G4      20302.654    75  40755.308    40790.822    41054.103\n",
      "1116  FLU+I+R4      20279.951    80  40719.902    40760.915    41038.617\n",
      "1126  FLU+F+I+G4    20221.297    94  40630.595    40689.734    41005.085\n",
      "1138  FLU+F+I+R4    20197.672    99  40593.343    40660.010    40987.753\n",
      "1148  rtREV+I+G4    19936.548    75  40023.095    40058.609    40321.891\n",
      "1160  rtREV+I+R4    19918.333    80  39996.666    40037.679    40315.381\n",
      "1170  rtREV+F+I+G4  19743.780    94  39675.561    39734.700    40050.051\n",
      "1182  rtREV+F+I+R4  19725.754    99  39649.508    39716.175    40043.918\n",
      "1192  cpREV+I+G4    19989.986    75  40129.971    40165.485    40428.767\n",
      "1204  cpREV+I+R4    19964.307    80  40088.615    40129.628    40407.330\n",
      "1214  cpREV+F+I+G4  19997.042    94  40182.085    40241.224    40556.575\n",
      "1226  cpREV+F+I+R4  19971.020    99  40140.041    40206.707    40534.450\n",
      "Akaike Information Criterion:           Q.pfam+F+I+R4\n",
      "Corrected Akaike Information Criterion: Q.pfam+F+I+R4\n",
      "Bayesian Information Criterion:         Q.pfam+F+I+G4\n",
      "Best-fit model: Q.pfam+F+I+G4 chosen according to BIC\n",
      "\n",
      "All model information printed to phylogenomics/model-finder/NSPs/NSPs.model.gz\n",
      "CPU time for ModelFinder: 761.684 seconds (0h:12m:41s)\n",
      "Wall-clock time for ModelFinder: 141.084 seconds (0h:2m:21s)\n",
      "WARNING: Normalizing state frequencies so that sum of them equals to 1\n",
      "\n",
      "NOTE: 9 MB RAM (0 GB) is required!\n",
      "Estimate model parameters (epsilon = 0.100)\n",
      "Thoroughly optimizing +I+G parameters from 10 start values...\n",
      "Init pinv, alpha: 0.000, 1.703 / Estimate: 0.041, 1.833 / LogL: -19698.354\n",
      "Init pinv, alpha: 0.005, 1.703 / Estimate: 0.041, 1.833 / LogL: -19698.353\n",
      "Init pinv, alpha: 0.011, 1.703 / Estimate: 0.041, 1.833 / LogL: -19698.351\n",
      "Init pinv, alpha: 0.016, 1.703 / Estimate: 0.041, 1.832 / LogL: -19698.351\n",
      "Init pinv, alpha: 0.021, 1.703 / Estimate: 0.041, 1.827 / LogL: -19698.353\n",
      "Init pinv, alpha: 0.027, 1.703 / Estimate: 0.041, 1.827 / LogL: -19698.354\n",
      "Init pinv, alpha: 0.032, 1.703 / Estimate: 0.041, 1.826 / LogL: -19698.356\n",
      "Init pinv, alpha: 0.037, 1.703 / Estimate: 0.041, 1.826 / LogL: -19698.359\n",
      "Init pinv, alpha: 0.043, 1.703 / Estimate: 0.041, 1.825 / LogL: -19698.362\n",
      "Init pinv, alpha: 0.048, 1.703 / Estimate: 0.041, 1.831 / LogL: -19698.352\n",
      "Optimal pinv,alpha: 0.041, 1.832 / LogL: -19698.351\n",
      "\n",
      "Parameters optimization took 1.648 sec\n",
      "Wrote distance file to... \n",
      "Computing ML distances based on estimated model parameters...\n",
      "Calculating distance matrix: done in 0.043329 secs using 793.9% CPU\n",
      "Computing ML distances took 0.044393 sec (of wall-clock time) 0.344573 sec (of CPU time)\n",
      "Setting up auxiliary I and S matrices: done in 0.0015027 secs using 237.1% CPU\n",
      "Computing RapidNJ tree took 0.075298 sec (of wall-clock time) 0.094884 sec (of CPU time)\n",
      "Log-likelihood of RapidNJ tree: -19710.539\n",
      "--------------------------------------------------------------------\n",
      "|             INITIALIZING CANDIDATE TREE SET                      |\n",
      "--------------------------------------------------------------------\n",
      "Generating 98 parsimony trees... 0.921 second\n",
      "Computing log-likelihood of 98 initial trees ... 1.404 seconds\n",
      "Current best score: -19698.351\n",
      "\n",
      "Do NNI search on 20 best initial trees\n",
      "Estimate model parameters (epsilon = 0.100)\n",
      "BETTER TREE FOUND at iteration 1: -19698.351\n",
      "Estimate model parameters (epsilon = 0.100)\n",
      "BETTER TREE FOUND at iteration 2: -19694.183\n",
      "Iteration 10 / LogL: -19694.568 / Time: 0h:2m:27s\n",
      "Iteration 20 / LogL: -19694.563 / Time: 0h:2m:28s\n",
      "Finish initializing candidate tree set (7)\n",
      "Current best tree score: -19694.183 / CPU time: 5.969\n",
      "Number of iterations: 20\n",
      "--------------------------------------------------------------------\n",
      "|               OPTIMIZING CANDIDATE TREE SET                      |\n",
      "--------------------------------------------------------------------\n",
      "Estimate model parameters (epsilon = 0.100)\n",
      "UPDATE BEST LOG-LIKELIHOOD: -19694.067\n",
      "UPDATE BEST LOG-LIKELIHOOD: -19694.060\n",
      "Iteration 30 / LogL: -19694.733 / Time: 0h:2m:32s (0h:0m:27s left)\n",
      "Iteration 40 / LogL: -19694.267 / Time: 0h:2m:35s (0h:0m:22s left)\n",
      "Iteration 50 / LogL: -19694.593 / Time: 0h:2m:38s (0h:0m:18s left)\n",
      "Iteration 60 / LogL: -19694.312 / Time: 0h:2m:41s (0h:0m:14s left)\n",
      "Iteration 70 / LogL: -19694.182 / Time: 0h:2m:44s (0h:0m:10s left)\n",
      "UPDATE BEST LOG-LIKELIHOOD: -19694.060\n",
      "Iteration 80 / LogL: -19694.295 / Time: 0h:2m:47s (0h:0m:7s left)\n",
      "Iteration 90 / LogL: -19694.277 / Time: 0h:2m:50s (0h:0m:4s left)\n",
      "Iteration 100 / LogL: -19694.503 / Time: 0h:2m:54s (0h:0m:0s left)\n",
      "TREE SEARCH COMPLETED AFTER 103 ITERATIONS / Time: 0h:2m:55s\n",
      "\n",
      "--------------------------------------------------------------------\n",
      "|                    FINALIZING TREE SEARCH                        |\n",
      "--------------------------------------------------------------------\n",
      "Performs final model parameters optimization\n",
      "Estimate model parameters (epsilon = 0.010)\n",
      "1. Initial log-likelihood: -19694.060\n",
      "Optimal log-likelihood: -19694.059\n",
      "Proportion of invariable sites: 0.041\n",
      "Gamma shape alpha: 1.856\n",
      "Parameters optimization took 1 rounds (0.043 sec)\n",
      "BEST SCORE FOUND : -19694.059\n",
      "Total tree length: 22.053\n",
      "\n",
      "Total number of iterations: 103\n",
      "CPU time used for tree search: 248.978 sec (0h:4m:8s)\n",
      "Wall-clock time used for tree search: 32.032 sec (0h:0m:32s)\n",
      "Total CPU time used: 1025.161 sec (0h:17m:5s)\n",
      "Total wall-clock time used: 175.068 sec (0h:2m:55s)\n",
      "\n",
      "Analysis results written to: \n",
      "  IQ-TREE report:                phylogenomics/model-finder/NSPs/NSPs.iqtree\n",
      "  Maximum-likelihood tree:       phylogenomics/model-finder/NSPs/NSPs.treefile\n",
      "  Likelihood distances:          phylogenomics/model-finder/NSPs/NSPs.mldist\n",
      "  Screen log file:               phylogenomics/model-finder/NSPs/NSPs.log\n",
      "\n",
      "Date and Time: Mon Dec 23 15:35:56 2024\n"
     ]
    }
   ],
   "source": [
    "! iqtree2 -m MFP -s phylogenomics/trimmed_MSAs/NSPs/ --prefix phylogenomics/model-finder/NSPs/NSPs -T AUTO"
   ]
  },
  {
   "cell_type": "code",
   "execution_count": 117,
   "metadata": {},
   "outputs": [
    {
     "name": "stdout",
     "output_type": "stream",
     "text": [
      "Best-fit model according to BIC: Q.pfam+F+I+G4\n",
      "\n",
      "List of models sorted by BIC scores: \n",
      "\n",
      "Model                  LogL         AIC      w-AIC        AICc     w-AICc         BIC      w-BIC\n",
      "Q.pfam+F+I+G4    -19698.351   39584.702 - 5.61e-05   39643.841 -  0.00241   39959.192 +    0.543\n"
     ]
    }
   ],
   "source": [
    "! head -42 phylogenomics/model-finder/NSPs/NSPs.iqtree | tail -6"
   ]
  },
  {
   "cell_type": "code",
   "execution_count": 118,
   "metadata": {},
   "outputs": [
    {
     "name": "stdout",
     "output_type": "stream",
     "text": [
      "IQ-TREE multicore version 2.3.6 for Linux x86 64-bit built Aug  4 2024\n",
      "Developed by Bui Quang Minh, Nguyen Lam Tung, Olga Chernomor, Heiko Schmidt,\n",
      "Dominik Schrempf, Michael Woodhams, Ly Trong Nhan, Thomas Wong\n",
      "\n",
      "Host:    IliaPC (AVX2, FMA3, 15 GB RAM)\n",
      "Command: iqtree2 -m MFP -s phylogenomics/trimmed_MSAs/SPs/ --prefix phylogenomics/model-finder/SPs/SPs -T AUTO\n",
      "Seed:    801985 (Using SPRNG - Scalable Parallel Random Number Generator)\n",
      "Time:    Mon Dec 23 15:38:51 2024\n",
      "Kernel:  AVX+FMA - auto-detect threads (24 CPU cores detected)\n",
      "\n",
      "Reading 1 alignment files in directory phylogenomics/trimmed_MSAs/SPs/\n",
      "Reading alignment file phylogenomics/trimmed_MSAs/SPs/trimmed_family1.seq.aln ... Fasta format detected\n",
      "Reading fasta file: done in 0.0013004 secs using 35.14% CPU\n",
      "Alignment most likely contains protein sequences\n",
      "Alignment has 22 sequences with 418 columns, 408 distinct patterns\n",
      "337 parsimony-informative, 53 singleton sites, 28 constant sites\n",
      "               Gap/Ambiguity  Composition  p-value\n",
      "Analyzing sequences: done in 0.0047989 secs using 3876% CPU\n",
      "   1  Densovirus_D1    0.72%    passed     96.27%\n",
      "   2  Densovirus_D2    0.72%    passed     96.27%\n",
      "   3  Densovirus_D3    0.72%    passed     96.27%\n",
      "   4  Densovirus_D4    0.72%    passed     96.27%\n",
      "   5  Densovirus_D5    0.72%    passed     96.27%\n",
      "   6  Densovirus_P1    0.72%    passed     96.27%\n",
      "   7  Densovirus_P2    0.72%    passed     96.27%\n",
      "   8  Densovirus_P3    0.72%    passed     96.27%\n",
      "   9  Densovirus_P4    0.72%    passed     96.27%\n",
      "  10  Densovirus_P5    0.72%    passed     96.27%\n",
      "  11  MW628494.1       0.72%    passed     98.49%\n",
      "  12  NC_000936.1     11.24%    failed      3.07%\n",
      "  13  NC_004289.1      2.15%    passed     70.67%\n",
      "  14  NC_004290.1      0.72%    failed      0.00%\n",
      "  15  NC_005040.1      6.70%    passed      8.66%\n",
      "  16  NC_012685.1      4.31%    failed      0.03%\n",
      "  17  NC_022748.1      5.02%    passed     27.44%\n",
      "  18  NC_031450.1      0.72%    passed     96.80%\n",
      "  19  NC_077065.1     11.96%    passed      9.02%\n",
      "  20  NC_077079.1      0.72%    passed     24.53%\n",
      "  21  NC_077080.1      1.20%    failed      0.80%\n",
      "  22  NC_077082.1      3.83%    passed     48.85%\n",
      "****  TOTAL            2.57%  4 sequences failed composition chi2 test (p-value<5%; df=19)\n",
      "NOTE: Densovirus_D2 is identical to Densovirus_D1 but kept for subsequent analysis\n",
      "NOTE: 8 identical sequences (see below) will be ignored for subsequent analysis\n",
      "NOTE: Densovirus_D3 (identical to Densovirus_D1) is ignored but added at the end\n",
      "NOTE: Densovirus_D4 (identical to Densovirus_D1) is ignored but added at the end\n",
      "NOTE: Densovirus_D5 (identical to Densovirus_D1) is ignored but added at the end\n",
      "NOTE: Densovirus_P1 (identical to Densovirus_D1) is ignored but added at the end\n",
      "NOTE: Densovirus_P2 (identical to Densovirus_D1) is ignored but added at the end\n",
      "NOTE: Densovirus_P3 (identical to Densovirus_D1) is ignored but added at the end\n",
      "NOTE: Densovirus_P4 (identical to Densovirus_D1) is ignored but added at the end\n",
      "NOTE: Densovirus_P5 (identical to Densovirus_D1) is ignored but added at the end\n",
      "Alignment was printed to phylogenomics/model-finder/SPs/SPs.uniqueseq.phy\n",
      "\n",
      "For your convenience alignment with unique sequences printed to phylogenomics/model-finder/SPs/SPs.uniqueseq.phy\n",
      "\n",
      "\n",
      "Create initial parsimony tree by phylogenetic likelihood library (PLL)... 0.003 seconds\n",
      "Measuring multi-threading efficiency up to 24 CPU cores\n",
      "Increase to 10 rounds for branch lengths\n",
      "145 trees examined\n",
      "Threads: 1 / Time: 24.147 sec / Speedup: 1.000 / Efficiency: 100% / LogL: -10386\n",
      "Threads: 2 / Time: 12.953 sec / Speedup: 1.864 / Efficiency: 93% / LogL: -10386\n",
      "Threads: 3 / Time: 9.297 sec / Speedup: 2.597 / Efficiency: 87% / LogL: -10386\n",
      "Threads: 4 / Time: 7.229 sec / Speedup: 3.340 / Efficiency: 84% / LogL: -10386\n",
      "Threads: 5 / Time: 7.438 sec / Speedup: 3.246 / Efficiency: 65% / LogL: -10386\n",
      "Threads: 6 / Time: 5.685 sec / Speedup: 4.248 / Efficiency: 71% / LogL: -10386\n",
      "Threads: 7 / Time: 5.323 sec / Speedup: 4.537 / Efficiency: 65% / LogL: -10386\n",
      "Threads: 8 / Time: 5.307 sec / Speedup: 4.550 / Efficiency: 57% / LogL: -10386\n",
      "Threads: 9 / Time: 5.137 sec / Speedup: 4.701 / Efficiency: 52% / LogL: -10386\n",
      "Threads: 10 / Time: 5.047 sec / Speedup: 4.785 / Efficiency: 48% / LogL: -10386\n",
      "BEST NUMBER OF THREADS: 7\n",
      "\n",
      "Perform fast likelihood tree search using LG+I+G model...\n",
      "Estimate model parameters (epsilon = 5.000)\n",
      "Perform nearest neighbor interchange...\n",
      "Estimate model parameters (epsilon = 1.000)\n",
      "1. Initial log-likelihood: -9489.109\n",
      "Optimal log-likelihood: -9489.054\n",
      "Proportion of invariable sites: 0.046\n",
      "Gamma shape alpha: 1.884\n",
      "Parameters optimization took 1 rounds (0.016 sec)\n",
      "Time for fast ML tree search: 0.176 seconds\n",
      "\n",
      "NOTE: ModelFinder requires 9 MB RAM!\n",
      "ModelFinder will test up to 1232 protein models (sample size: 418 epsilon: 0.100) ...\n",
      " No. Model         -LnL         df  AIC          AICc         BIC\n",
      "  1  LG            9703.837     25  19457.675    19460.991    19558.562\n",
      "  2  LG+I          9610.198     26  19272.395    19275.986    19377.318\n",
      "  3  LG+G4         9499.676     26  19051.351    19054.942    19156.274\n",
      "  4  LG+I+G4       9489.050     27  19032.099    19035.976    19141.057\n",
      "  5  LG+R2         9508.196     27  19070.391    19074.268    19179.349\n",
      "  6  LG+R3         9495.704     29  19049.408    19053.892    19166.437\n",
      "  7  LG+R4         9493.671     31  19049.342    19054.482    19174.442\n",
      " 14  LG+I+R2       9492.726     28  19041.452    19045.627    19154.445\n",
      " 15  LG+I+R3       9488.505     30  19037.009    19041.816    19158.074\n",
      " 26  LG+F+I+G4     9436.376     46  18964.752    18976.407    19150.385\n",
      " 48  WAG+I+G4      9494.498     27  19042.996    19046.873    19151.954\n",
      " 70  WAG+F+I+G4    9465.786     46  19023.571    19035.226    19209.203\n",
      " 92  JTT+I+G4      9570.095     27  19194.191    19198.068    19303.149\n",
      "114  JTT+F+I+G4    9554.426     46  19200.852    19212.507    19386.485\n",
      "WARNING: Normalizing state frequencies so that sum of them equals to 1\n",
      "136  Q.pfam+I+G4   9483.911     27  19021.823    19025.700    19130.781\n",
      "WARNING: Normalizing state frequencies so that sum of them equals to 1\n",
      "158  Q.pfam+F+I+G4 9435.735     46  18963.470    18975.125    19149.103\n",
      "WARNING: Normalizing state frequencies so that sum of them equals to 1\n",
      "180  Q.bird+I+G4   9768.133     27  19590.266    19594.143    19699.224\n",
      "WARNING: Normalizing state frequencies so that sum of them equals to 1\n",
      "202  Q.bird+F+I+G4 9712.431     46  19516.863    19528.518    19702.495\n",
      "WARNING: Normalizing state frequencies so that sum of them equals to 1\n",
      "224  Q.mammal+I+G4 9701.946     27  19457.892    19461.769    19566.850\n",
      "WARNING: Normalizing state frequencies so that sum of them equals to 1\n",
      "246  Q.mammal+F+I+G4 9642.599     46  19377.199    19388.854    19562.831\n",
      "268  Q.insect+I+G4 9540.867     27  19135.733    19139.610    19244.691\n",
      "290  Q.insect+F+I+G4 9483.495     46  19058.990    19070.645    19244.622\n",
      "WARNING: Normalizing state frequencies so that sum of them equals to 1\n",
      "312  Q.plant+I+G4  9656.344     27  19366.687    19370.564    19475.645\n",
      "WARNING: Normalizing state frequencies so that sum of them equals to 1\n",
      "334  Q.plant+F+I+G4 9586.280     46  19264.559    19276.214    19450.191\n",
      "WARNING: Normalizing state frequencies so that sum of them equals to 1\n",
      "356  Q.yeast+I+G4  9530.651     27  19115.302    19119.179    19224.260\n",
      "WARNING: Normalizing state frequencies so that sum of them equals to 1\n",
      "378  Q.yeast+F+I+G4 9456.770     46  19005.540    19017.195    19191.172\n",
      "400  JTTDCMut+I+G4 9567.649     27  19189.298    19193.175    19298.256\n",
      "422  JTTDCMut+F+I+G4 9551.227     46  19194.453    19206.108    19380.085\n",
      "444  DCMut+I+G4    9615.214     27  19284.429    19288.306    19393.387\n",
      "466  DCMut+F+I+G4  9556.024     46  19204.049    19215.704    19389.681\n",
      "488  VT+I+G4       9482.732     27  19019.465    19023.342    19128.423\n",
      "510  VT+F+I+G4     9460.063     46  19012.127    19023.782    19197.759\n",
      "532  PMB+I+G4      9515.863     27  19085.726    19089.603    19194.684\n",
      "554  PMB+F+I+G4    9471.979     46  19035.958    19047.613    19221.590\n",
      "576  Blosum62+I+G4 9513.838     27  19081.676    19085.553    19190.634\n",
      "598  Blosum62+F+I+G4 9456.725     46  19005.450    19017.105    19191.082\n",
      "620  Dayhoff+I+G4  9615.285     27  19284.570    19288.447    19393.528\n",
      "642  Dayhoff+F+I+G4 9556.040     46  19204.080    19215.735    19389.713\n",
      "664  mtREV+I+G4    9973.370     27  20000.740    20004.617    20109.698\n",
      "686  mtREV+F+I+G4  9627.395     46  19346.790    19358.445    19532.423\n",
      "708  mtART+I+G4    10017.405    27  20088.811    20092.688    20197.769\n",
      "730  mtART+F+I+G4  9622.671     46  19337.341    19348.996    19522.973\n",
      "752  mtZOA+I+G4    9864.478     27  19782.956    19786.833    19891.914\n",
      "774  mtZOA+F+I+G4  9555.354     46  19202.708    19214.363    19388.340\n",
      "796  mtMet+I+G4    9992.055     27  20038.110    20041.987    20147.068\n",
      "818  mtMet+F+I+G4  9611.022     46  19314.044    19325.699    19499.676\n",
      "840  mtVer+I+G4    10035.829    27  20125.657    20129.534    20234.615\n",
      "862  mtVer+F+I+G4  9714.597     46  19521.194    19532.849    19706.826\n",
      "884  mtInv+I+G4    10066.438    27  20186.875    20190.752    20295.833\n",
      "906  mtInv+F+I+G4  9552.197     46  19196.393    19208.048    19382.025\n",
      "928  mtMAM+I+G4    10135.787    27  20325.573    20329.450    20434.531\n",
      "950  mtMAM+F+I+G4  9777.981     46  19647.962    19659.617    19833.594\n",
      "WARNING: Normalizing state frequencies so that sum of them equals to 1\n",
      "972  FLAVI+I+G4    9969.634     27  19993.269    19997.146    20102.227\n",
      "WARNING: Normalizing state frequencies so that sum of them equals to 1\n",
      "994  FLAVI+F+I+G4  9863.369     46  19818.739    19830.394    20004.371\n",
      "1016  HIVb+I+G4     9779.025     27  19612.049    19615.926    19721.007\n",
      "1038  HIVb+F+I+G4   9703.296     46  19498.591    19510.246    19684.224\n",
      "1060  HIVw+I+G4     10084.463    27  20222.927    20226.804    20331.885\n",
      "1082  HIVw+F+I+G4   9939.044     46  19970.088    19981.743    20155.720\n",
      "1104  FLU+I+G4      9676.194     27  19406.389    19410.266    19515.347\n",
      "1126  FLU+F+I+G4    9647.052     46  19386.104    19397.759    19571.736\n",
      "1148  rtREV+I+G4    9523.877     27  19101.753    19105.630    19210.711\n",
      "1170  rtREV+F+I+G4  9437.126     46  18966.252    18977.907    19151.884\n",
      "1192  cpREV+I+G4    9579.486     27  19212.972    19216.849    19321.930\n",
      "1214  cpREV+F+I+G4  9521.561     46  19135.122    19146.777    19320.754\n",
      "Akaike Information Criterion:           Q.pfam+F+I+G4\n",
      "Corrected Akaike Information Criterion: Q.pfam+F+I+G4\n",
      "Bayesian Information Criterion:         VT+I+G4\n",
      "Best-fit model: VT+I+G4 chosen according to BIC\n",
      "\n",
      "All model information printed to phylogenomics/model-finder/SPs/SPs.model.gz\n",
      "CPU time for ModelFinder: 382.128 seconds (0h:6m:22s)\n",
      "Wall-clock time for ModelFinder: 91.682 seconds (0h:1m:31s)\n",
      "\n",
      "NOTE: 3 MB RAM (0 GB) is required!\n",
      "Estimate model parameters (epsilon = 0.100)\n",
      "Thoroughly optimizing +I+G parameters from 10 start values...\n",
      "Init pinv, alpha: 0.000, 1.851 / Estimate: 0.000, 1.757 / LogL: -9494.954\n",
      "Init pinv, alpha: 0.007, 1.851 / Estimate: 0.049, 2.633 / LogL: -9482.735\n",
      "Init pinv, alpha: 0.015, 1.851 / Estimate: 0.049, 2.631 / LogL: -9482.736\n",
      "Init pinv, alpha: 0.022, 1.851 / Estimate: 0.050, 2.644 / LogL: -9482.733\n",
      "Init pinv, alpha: 0.030, 1.851 / Estimate: 0.050, 2.633 / LogL: -9482.735\n",
      "Init pinv, alpha: 0.037, 1.851 / Estimate: 0.050, 2.643 / LogL: -9482.733\n",
      "Init pinv, alpha: 0.045, 1.851 / Estimate: 0.050, 2.650 / LogL: -9482.732\n",
      "Init pinv, alpha: 0.052, 1.851 / Estimate: 0.050, 2.655 / LogL: -9482.732\n",
      "Init pinv, alpha: 0.060, 1.851 / Estimate: 0.051, 2.660 / LogL: -9482.732\n",
      "Init pinv, alpha: 0.067, 1.851 / Estimate: 0.051, 2.660 / LogL: -9482.732\n",
      "Optimal pinv,alpha: 0.050, 2.655 / LogL: -9482.732\n",
      "\n",
      "Parameters optimization took 0.655 sec\n",
      "Wrote distance file to... \n",
      "Computing ML distances based on estimated model parameters...\n",
      "Calculating distance matrix: done in 0.0044343 secs using 651.2% CPU\n",
      "Computing ML distances took 0.005284 sec (of wall-clock time) 0.029255 sec (of CPU time)\n",
      "Setting up auxiliary I and S matrices: done in 0.0014708 secs using 247.8% CPU\n",
      "Computing RapidNJ tree took 0.020820 sec (of wall-clock time) 0.033958 sec (of CPU time)\n",
      "Log-likelihood of RapidNJ tree: -9498.123\n",
      "--------------------------------------------------------------------\n",
      "|             INITIALIZING CANDIDATE TREE SET                      |\n",
      "--------------------------------------------------------------------\n",
      "Generating 98 parsimony trees... 0.217 second\n",
      "Computing log-likelihood of 97 initial trees ... 0.487 seconds\n",
      "Current best score: -9482.732\n",
      "\n",
      "Do NNI search on 20 best initial trees\n",
      "Estimate model parameters (epsilon = 0.100)\n",
      "BETTER TREE FOUND at iteration 1: -9482.732\n",
      "Iteration 10 / LogL: -9482.745 / Time: 0h:1m:33s\n",
      "Iteration 20 / LogL: -9482.743 / Time: 0h:1m:34s\n",
      "Finish initializing candidate tree set (3)\n",
      "Current best tree score: -9482.732 / CPU time: 2.081\n",
      "Number of iterations: 20\n",
      "--------------------------------------------------------------------\n",
      "|               OPTIMIZING CANDIDATE TREE SET                      |\n",
      "--------------------------------------------------------------------\n",
      "Iteration 30 / LogL: -9483.364 / Time: 0h:1m:35s (0h:0m:8s left)\n",
      "Iteration 40 / LogL: -9482.893 / Time: 0h:1m:35s (0h:0m:6s left)\n",
      "Iteration 50 / LogL: -9482.742 / Time: 0h:1m:36s (0h:0m:4s left)\n",
      "Iteration 60 / LogL: -9483.097 / Time: 0h:1m:36s (0h:0m:3s left)\n",
      "Iteration 70 / LogL: -9513.613 / Time: 0h:1m:37s (0h:0m:2s left)\n",
      "Iteration 80 / LogL: -9483.521 / Time: 0h:1m:38s (0h:0m:1s left)\n",
      "Iteration 90 / LogL: -9516.175 / Time: 0h:1m:38s (0h:0m:0s left)\n",
      "Iteration 100 / LogL: -9483.897 / Time: 0h:1m:39s (0h:0m:0s left)\n",
      "TREE SEARCH COMPLETED AFTER 102 ITERATIONS / Time: 0h:1m:39s\n",
      "\n",
      "--------------------------------------------------------------------\n",
      "|                    FINALIZING TREE SEARCH                        |\n",
      "--------------------------------------------------------------------\n",
      "Performs final model parameters optimization\n",
      "Estimate model parameters (epsilon = 0.010)\n",
      "1. Initial log-likelihood: -9482.732\n",
      "Optimal log-likelihood: -9482.732\n",
      "Proportion of invariable sites: 0.050\n",
      "Gamma shape alpha: 2.656\n",
      "Parameters optimization took 1 rounds (0.012 sec)\n",
      "BEST SCORE FOUND : -9482.732\n",
      "Total tree length: 8.479\n",
      "\n",
      "Total number of iterations: 102\n",
      "CPU time used for tree search: 48.286 sec (0h:0m:48s)\n",
      "Wall-clock time used for tree search: 7.118 sec (0h:0m:7s)\n",
      "Total CPU time used: 435.296 sec (0h:7m:15s)\n",
      "Total wall-clock time used: 99.569 sec (0h:1m:39s)\n",
      "\n",
      "Analysis results written to: \n",
      "  IQ-TREE report:                phylogenomics/model-finder/SPs/SPs.iqtree\n",
      "  Maximum-likelihood tree:       phylogenomics/model-finder/SPs/SPs.treefile\n",
      "  Likelihood distances:          phylogenomics/model-finder/SPs/SPs.mldist\n",
      "  Screen log file:               phylogenomics/model-finder/SPs/SPs.log\n",
      "\n",
      "Date and Time: Mon Dec 23 15:40:31 2024\n"
     ]
    }
   ],
   "source": [
    "! iqtree2 -m MFP -s phylogenomics/trimmed_MSAs/SPs/ --prefix phylogenomics/model-finder/SPs/SPs -T AUTO"
   ]
  },
  {
   "cell_type": "code",
   "execution_count": 119,
   "metadata": {},
   "outputs": [
    {
     "name": "stdout",
     "output_type": "stream",
     "text": [
      "Best-fit model according to BIC: VT+I+G4\n",
      "\n",
      "List of models sorted by BIC scores: \n",
      "\n",
      "Model                  LogL         AIC      w-AIC        AICc     w-AICc         BIC      w-BIC\n",
      "VT+I+G4           -9482.732   19019.465 - 3.91e-13   19023.342 - 1.91e-11   19128.423 +    0.764\n"
     ]
    }
   ],
   "source": [
    "! head -42 phylogenomics/model-finder/SPs/SPs.iqtree | tail -6"
   ]
  },
  {
   "cell_type": "code",
   "execution_count": 120,
   "metadata": {},
   "outputs": [
    {
     "name": "stdout",
     "output_type": "stream",
     "text": [
      "IQ-TREE multicore version 2.3.6 for Linux x86 64-bit built Aug  4 2024\n",
      "Developed by Bui Quang Minh, Nguyen Lam Tung, Olga Chernomor, Heiko Schmidt,\n",
      "Dominik Schrempf, Michael Woodhams, Ly Trong Nhan, Thomas Wong\n",
      "\n",
      "Host:    IliaPC (AVX2, FMA3, 15 GB RAM)\n",
      "Command: iqtree2 -m MFP -s phylogenomics/trimmed_MSAs/All/ --prefix phylogenomics/model-finder/All/All -T AUTO\n",
      "Seed:    865672 (Using SPRNG - Scalable Parallel Random Number Generator)\n",
      "Time:    Mon Dec 23 15:41:56 2024\n",
      "Kernel:  AVX+FMA - auto-detect threads (24 CPU cores detected)\n",
      "\n",
      "Reading 2 alignment files in directory phylogenomics/trimmed_MSAs/All/\n",
      "Reading alignment file phylogenomics/trimmed_MSAs/All/trimmed_family1.seq.aln ... Fasta format detected\n",
      "Reading fasta file: done in 0.001674 secs using 42.05% CPU\n",
      "Alignment most likely contains protein sequences\n",
      "Alignment has 22 sequences with 413 columns, 393 distinct patterns\n",
      "335 parsimony-informative, 38 singleton sites, 40 constant sites\n",
      "               Gap/Ambiguity  Composition  p-value\n",
      "Analyzing sequences: done in 0.0033163 secs using 1573% CPU\n",
      "   1  Densovirus_D1    1.21%    passed    100.00%\n",
      "   2  Densovirus_D2    1.21%    passed    100.00%\n",
      "   3  Densovirus_D3    1.21%    passed    100.00%\n",
      "   4  Densovirus_D4    1.21%    passed    100.00%\n",
      "   5  Densovirus_D5    1.21%    passed    100.00%\n",
      "   6  Densovirus_P1    1.21%    passed    100.00%\n",
      "   7  Densovirus_P2    1.21%    passed    100.00%\n",
      "   8  Densovirus_P3    1.21%    passed    100.00%\n",
      "   9  Densovirus_P4    1.21%    passed    100.00%\n",
      "  10  Densovirus_P5    1.21%    passed    100.00%\n",
      "  11  MW628494.1       1.21%    passed    100.00%\n",
      "  12  NC_000936.1      1.21%    passed     86.75%\n",
      "  13  NC_004289.1      0.24%    passed     61.98%\n",
      "  14  NC_004290.1      0.73%    passed     34.10%\n",
      "  15  NC_005040.1      9.69%    passed      6.57%\n",
      "  16  NC_012685.1      1.69%    passed      8.72%\n",
      "  17  NC_022748.1      4.36%    passed     86.84%\n",
      "  18  NC_031450.1      1.21%    passed    100.00%\n",
      "  19  NC_077065.1      1.21%    passed     66.92%\n",
      "  20  NC_077079.1      0.73%    passed     58.59%\n",
      "  21  NC_077080.1      0.73%    passed     99.08%\n",
      "  22  NC_077082.1      0.97%    passed     92.96%\n",
      "****  TOTAL            1.64%  0 sequences failed composition chi2 test (p-value<5%; df=19)\n",
      "Reading alignment file phylogenomics/trimmed_MSAs/All/trimmed_family2.seq.aln ... Fasta format detected\n",
      "Reading fasta file: done in 0.0010219 secs using 34.93% CPU\n",
      "Alignment most likely contains protein sequences\n",
      "Alignment has 22 sequences with 418 columns, 408 distinct patterns\n",
      "337 parsimony-informative, 53 singleton sites, 28 constant sites\n",
      "               Gap/Ambiguity  Composition  p-value\n",
      "Analyzing sequences: done in 0.0045454 secs using 874.5% CPU\n",
      "   1  Densovirus_D1    0.72%    passed     96.27%\n",
      "   2  Densovirus_D2    0.72%    passed     96.27%\n",
      "   3  Densovirus_D3    0.72%    passed     96.27%\n",
      "   4  Densovirus_D4    0.72%    passed     96.27%\n",
      "   5  Densovirus_D5    0.72%    passed     96.27%\n",
      "   6  Densovirus_P1    0.72%    passed     96.27%\n",
      "   7  Densovirus_P2    0.72%    passed     96.27%\n",
      "   8  Densovirus_P3    0.72%    passed     96.27%\n",
      "   9  Densovirus_P4    0.72%    passed     96.27%\n",
      "  10  Densovirus_P5    0.72%    passed     96.27%\n",
      "  11  MW628494.1       0.72%    passed     98.49%\n",
      "  12  NC_000936.1     11.24%    failed      3.07%\n",
      "  13  NC_004289.1      2.15%    passed     70.67%\n",
      "  14  NC_004290.1      0.72%    failed      0.00%\n",
      "  15  NC_005040.1      6.70%    passed      8.66%\n",
      "  16  NC_012685.1      4.31%    failed      0.03%\n",
      "  17  NC_022748.1      5.02%    passed     27.44%\n",
      "  18  NC_031450.1      0.72%    passed     96.80%\n",
      "  19  NC_077065.1     11.96%    passed      9.02%\n",
      "  20  NC_077079.1      0.72%    passed     24.53%\n",
      "  21  NC_077080.1      1.20%    failed      0.80%\n",
      "  22  NC_077082.1      3.83%    passed     48.85%\n",
      "****  TOTAL            2.57%  4 sequences failed composition chi2 test (p-value<5%; df=19)\n",
      "NOTE: Densovirus_D3 is identical to Densovirus_D1 but kept for subsequent analysis\n",
      "NOTE: 7 identical sequences (see below) will be ignored for subsequent analysis\n",
      "NOTE: Densovirus_D4 (identical to Densovirus_D1) is ignored but added at the end\n",
      "NOTE: Densovirus_D5 (identical to Densovirus_D1) is ignored but added at the end\n",
      "NOTE: Densovirus_P1 (identical to Densovirus_D1) is ignored but added at the end\n",
      "NOTE: Densovirus_P2 (identical to Densovirus_D1) is ignored but added at the end\n",
      "NOTE: Densovirus_P3 (identical to Densovirus_D1) is ignored but added at the end\n",
      "NOTE: Densovirus_P4 (identical to Densovirus_D1) is ignored but added at the end\n",
      "NOTE: Densovirus_P5 (identical to Densovirus_D1) is ignored but added at the end\n",
      "Alignment was printed to phylogenomics/model-finder/All/All.uniqueseq.phy\n",
      "\n",
      "For your convenience alignment with unique sequences printed to phylogenomics/model-finder/All/All.uniqueseq.phy\n",
      "\n",
      "\n",
      "Create initial parsimony tree by phylogenetic likelihood library (PLL)... 0.005 seconds\n",
      "Measuring multi-threading efficiency up to 24 CPU cores\n",
      "Increase to 10 rounds for branch lengths\n",
      "70 trees examined\n",
      "Threads: 1 / Time: 24.065 sec / Speedup: 1.000 / Efficiency: 100% / LogL: -20889\n",
      "Threads: 2 / Time: 12.582 sec / Speedup: 1.913 / Efficiency: 96% / LogL: -20889\n",
      "Threads: 3 / Time: 8.602 sec / Speedup: 2.798 / Efficiency: 93% / LogL: -20889\n",
      "Threads: 4 / Time: 6.678 sec / Speedup: 3.603 / Efficiency: 90% / LogL: -20889\n",
      "Threads: 5 / Time: 5.518 sec / Speedup: 4.361 / Efficiency: 87% / LogL: -20889\n",
      "Threads: 6 / Time: 5.968 sec / Speedup: 4.032 / Efficiency: 67% / LogL: -20889\n",
      "Threads: 7 / Time: 4.602 sec / Speedup: 5.230 / Efficiency: 75% / LogL: -20889\n",
      "Threads: 8 / Time: 4.599 sec / Speedup: 5.233 / Efficiency: 65% / LogL: -20889\n",
      "Threads: 9 / Time: 4.478 sec / Speedup: 5.374 / Efficiency: 60% / LogL: -20889\n",
      "Threads: 10 / Time: 4.396 sec / Speedup: 5.474 / Efficiency: 55% / LogL: -20889\n",
      "Threads: 11 / Time: 4.118 sec / Speedup: 5.844 / Efficiency: 53% / LogL: -20889\n",
      "Threads: 12 / Time: 4.038 sec / Speedup: 5.959 / Efficiency: 50% / LogL: -20889\n",
      "BEST NUMBER OF THREADS: 11\n",
      "\n",
      "Perform fast likelihood tree search using LG+I+G model...\n",
      "Estimate model parameters (epsilon = 5.000)\n",
      "Perform nearest neighbor interchange...\n",
      "Estimate model parameters (epsilon = 1.000)\n",
      "1. Initial log-likelihood: -18324.034\n",
      "Optimal log-likelihood: -18324.010\n",
      "Proportion of invariable sites: 0.059\n",
      "Gamma shape alpha: 2.184\n",
      "Parameters optimization took 1 rounds (0.020 sec)\n",
      "Time for fast ML tree search: 0.196 seconds\n",
      "\n",
      "NOTE: ModelFinder requires 18 MB RAM!\n",
      "ModelFinder will test up to 1232 protein models (sample size: 831 epsilon: 0.100) ...\n",
      " No. Model         -LnL         df  AIC          AICc         BIC\n",
      "  1  LG            18715.297    27  37484.594    37486.477    37612.105\n",
      "  2  LG+I          18513.074    28  37082.148    37084.173    37214.381\n",
      "  3  LG+G4         18351.626    28  36759.252    36761.277    36891.486\n",
      "  4  LG+I+G4       18324.013    29  36706.025    36708.198    36842.981\n",
      "  5  LG+R2         18376.121    29  36810.242    36812.414    36947.198\n",
      "  6  LG+R3         18343.163    31  36748.326    36750.809    36894.728\n",
      "  7  LG+R4         18333.128    33  36732.257    36735.072    36888.103\n",
      "  8  LG+R5         18329.345    35  36728.690    36731.859    36893.982\n",
      " 14  LG+I+R2       18330.490    30  36720.980    36723.305    36862.659\n",
      " 15  LG+I+R3       18324.316    32  36712.632    36715.279    36863.756\n",
      " 26  LG+F+I+G4     18261.962    48  36619.923    36625.938    36846.609\n",
      " 48  WAG+I+G4      18355.526    29  36769.053    36771.225    36906.009\n",
      " 70  WAG+F+I+G4    18303.033    48  36702.067    36708.082    36928.753\n",
      " 92  JTT+I+G4      18468.165    29  36994.330    36996.502    37131.286\n",
      "114  JTT+F+I+G4    18437.295    48  36970.589    36976.604    37197.275\n",
      "WARNING: Normalizing state frequencies so that sum of them equals to 1\n",
      "136  Q.pfam+I+G4   18316.088    29  36690.176    36692.349    36827.133\n",
      "WARNING: Normalizing state frequencies so that sum of them equals to 1\n",
      "158  Q.pfam+F+I+G4 18253.516    48  36603.031    36609.047    36829.717\n",
      "WARNING: Normalizing state frequencies so that sum of them equals to 1\n",
      "180  Q.bird+I+G4   18839.935    29  37737.871    37740.043    37874.827\n",
      "WARNING: Normalizing state frequencies so that sum of them equals to 1\n",
      "202  Q.bird+F+I+G4 18736.436    48  37568.872    37574.888    37795.558\n",
      "WARNING: Normalizing state frequencies so that sum of them equals to 1\n",
      "224  Q.mammal+I+G4 18723.190    29  37504.379    37506.552    37641.336\n",
      "WARNING: Normalizing state frequencies so that sum of them equals to 1\n",
      "246  Q.mammal+F+I+G4 18604.567    48  37305.134    37311.149    37531.820\n",
      "268  Q.insect+I+G4 18423.731    29  36905.461    36907.633    37042.417\n",
      "290  Q.insect+F+I+G4 18332.875    48  36761.750    36767.766    36988.437\n",
      "WARNING: Normalizing state frequencies so that sum of them equals to 1\n",
      "312  Q.plant+I+G4  18610.725    29  37279.451    37281.623    37416.407\n",
      "WARNING: Normalizing state frequencies so that sum of them equals to 1\n",
      "334  Q.plant+F+I+G4 18519.823    48  37135.646    37141.661    37362.332\n",
      "WARNING: Normalizing state frequencies so that sum of them equals to 1\n",
      "356  Q.yeast+I+G4  18419.370    29  36896.741    36898.913    37033.697\n",
      "WARNING: Normalizing state frequencies so that sum of them equals to 1\n",
      "378  Q.yeast+F+I+G4 18294.326    48  36684.652    36690.667    36911.338\n",
      "400  JTTDCMut+I+G4 18467.833    29  36993.665    36995.838    37130.622\n",
      "422  JTTDCMut+F+I+G4 18435.919    48  36967.838    36973.853    37194.524\n",
      "444  DCMut+I+G4    18629.166    29  37316.332    37318.504    37453.288\n",
      "466  DCMut+F+I+G4  18487.819    48  37071.637    37077.653    37298.324\n",
      "488  VT+I+G4       18328.540    29  36715.079    36717.252    36852.036\n",
      "510  VT+F+I+G4     18296.012    48  36688.024    36694.039    36914.710\n",
      "532  PMB+I+G4      18375.426    29  36808.851    36811.024    36945.808\n",
      "554  PMB+F+I+G4    18337.276    48  36770.551    36776.567    36997.238\n",
      "576  Blosum62+I+G4 18364.625    29  36787.250    36789.422    36924.206\n",
      "598  Blosum62+F+I+G4 18311.441    48  36718.881    36724.897    36945.567\n",
      "620  Dayhoff+I+G4  18629.419    29  37316.837    37319.009    37453.793\n",
      "642  Dayhoff+F+I+G4 18488.051    48  37072.101    37078.117    37298.788\n",
      "664  mtREV+I+G4    19348.807    29  38755.614    38757.786    38892.570\n",
      "686  mtREV+F+I+G4  18646.870    48  37389.739    37395.755    37616.426\n",
      "708  mtART+I+G4    19462.185    29  38982.369    38984.541    39119.325\n",
      "730  mtART+F+I+G4  18712.511    48  37521.023    37527.038    37747.709\n",
      "752  mtZOA+I+G4    19115.432    29  38288.865    38291.037    38425.821\n",
      "774  mtZOA+F+I+G4  18547.758    48  37191.517    37197.532    37418.203\n",
      "796  mtMet+I+G4    19318.731    29  38695.462    38697.634    38832.418\n",
      "818  mtMet+F+I+G4  18606.619    48  37309.237    37315.253    37535.924\n",
      "840  mtVer+I+G4    19481.856    29  39021.712    39023.884    39158.668\n",
      "862  mtVer+F+I+G4  18814.491    48  37724.981    37730.997    37951.668\n",
      "884  mtInv+I+G4    19418.917    29  38895.835    38898.007    39032.791\n",
      "906  mtInv+F+I+G4  18489.784    48  37075.568    37081.583    37302.254\n",
      "928  mtMAM+I+G4    19675.734    29  39409.468    39411.640    39546.424\n",
      "950  mtMAM+F+I+G4  18960.290    48  38016.580    38022.595    38243.266\n",
      "WARNING: Normalizing state frequencies so that sum of them equals to 1\n",
      "972  FLAVI+I+G4    19207.339    29  38472.679    38474.851    38609.635\n",
      "WARNING: Normalizing state frequencies so that sum of them equals to 1\n",
      "994  FLAVI+F+I+G4  19033.863    48  38163.727    38169.742    38390.413\n",
      "1016  HIVb+I+G4     18812.648    29  37683.297    37685.469    37820.253\n",
      "1038  HIVb+F+I+G4   18732.050    48  37560.100    37566.115    37786.786\n",
      "1060  HIVw+I+G4     19428.660    29  38915.319    38917.491    39052.275\n",
      "1082  HIVw+F+I+G4   19161.646    48  38419.293    38425.308    38645.979\n",
      "1104  FLU+I+G4      18684.558    29  37427.116    37429.288    37564.072\n",
      "1126  FLU+F+I+G4    18627.002    48  37350.004    37356.020    37576.690\n",
      "1148  rtREV+I+G4    18448.679    29  36955.359    36957.531    37092.315\n",
      "1170  rtREV+F+I+G4  18281.655    48  36659.309    36665.324    36885.995\n",
      "1192  cpREV+I+G4    18491.892    29  37041.785    37043.957    37178.741\n",
      "1214  cpREV+F+I+G4  18457.910    48  37011.819    37017.835    37238.506\n",
      "Akaike Information Criterion:           Q.pfam+F+I+G4\n",
      "Corrected Akaike Information Criterion: Q.pfam+F+I+G4\n",
      "Bayesian Information Criterion:         Q.pfam+I+G4\n",
      "Best-fit model: Q.pfam+I+G4 chosen according to BIC\n",
      "\n",
      "All model information printed to phylogenomics/model-finder/All/All.model.gz\n",
      "CPU time for ModelFinder: 505.757 seconds (0h:8m:25s)\n",
      "Wall-clock time for ModelFinder: 98.280 seconds (0h:1m:38s)\n",
      "WARNING: Normalizing state frequencies so that sum of them equals to 1\n",
      "\n",
      "NOTE: 7 MB RAM (0 GB) is required!\n",
      "Estimate model parameters (epsilon = 0.100)\n",
      "Thoroughly optimizing +I+G parameters from 10 start values...\n",
      "Init pinv, alpha: 0.000, 2.342 / Estimate: 0.000, 1.476 / LogL: -18343.132\n",
      "Init pinv, alpha: 0.009, 2.342 / Estimate: 0.059, 2.288 / LogL: -18316.089\n",
      "Init pinv, alpha: 0.018, 2.342 / Estimate: 0.059, 2.288 / LogL: -18316.089\n",
      "Init pinv, alpha: 0.027, 2.342 / Estimate: 0.058, 2.284 / LogL: -18316.090\n",
      "Init pinv, alpha: 0.036, 2.342 / Estimate: 0.058, 2.278 / LogL: -18316.095\n",
      "Init pinv, alpha: 0.045, 2.342 / Estimate: 0.058, 2.288 / LogL: -18316.089\n",
      "Init pinv, alpha: 0.055, 2.342 / Estimate: 0.059, 2.289 / LogL: -18316.089\n",
      "Init pinv, alpha: 0.064, 2.342 / Estimate: 0.059, 2.302 / LogL: -18316.089\n",
      "Init pinv, alpha: 0.073, 2.342 / Estimate: 0.059, 2.300 / LogL: -18316.088\n",
      "Init pinv, alpha: 0.082, 2.342 / Estimate: 0.059, 2.303 / LogL: -18316.089\n",
      "Optimal pinv,alpha: 0.059, 2.300 / LogL: -18316.088\n",
      "\n",
      "Parameters optimization took 0.910 sec\n",
      "Wrote distance file to... \n",
      "Computing ML distances based on estimated model parameters...\n",
      "Calculating distance matrix: done in 0.0070274 secs using 928.8% CPU\n",
      "Computing ML distances took 0.008305 sec (of wall-clock time) 0.065897 sec (of CPU time)\n",
      "Setting up auxiliary I and S matrices: done in 0.0022403 secs using 393.5% CPU\n",
      "Computing RapidNJ tree took 0.040834 sec (of wall-clock time) 0.110992 sec (of CPU time)\n",
      "Log-likelihood of RapidNJ tree: -18328.659\n",
      "--------------------------------------------------------------------\n",
      "|             INITIALIZING CANDIDATE TREE SET                      |\n",
      "--------------------------------------------------------------------\n",
      "Generating 98 parsimony trees... 0.280 second\n",
      "Computing log-likelihood of 98 initial trees ... 0.687 seconds\n",
      "Current best score: -18316.088\n",
      "\n",
      "Do NNI search on 20 best initial trees\n",
      "Estimate model parameters (epsilon = 0.100)\n",
      "BETTER TREE FOUND at iteration 1: -18316.088\n",
      "Iteration 10 / LogL: -18316.176 / Time: 0h:1m:41s\n",
      "Estimate model parameters (epsilon = 0.100)\n",
      "BETTER TREE FOUND at iteration 13: -18314.278\n",
      "Iteration 20 / LogL: -18316.390 / Time: 0h:1m:41s\n",
      "Finish initializing candidate tree set (3)\n",
      "Current best tree score: -18314.278 / CPU time: 2.509\n",
      "Number of iterations: 20\n",
      "--------------------------------------------------------------------\n",
      "|               OPTIMIZING CANDIDATE TREE SET                      |\n",
      "--------------------------------------------------------------------\n",
      "Iteration 30 / LogL: -18316.359 / Time: 0h:1m:42s (0h:0m:13s left)\n",
      "Iteration 40 / LogL: -18316.411 / Time: 0h:1m:44s (0h:0m:10s left)\n",
      "Iteration 50 / LogL: -18314.282 / Time: 0h:1m:45s (0h:0m:9s left)\n",
      "Iteration 60 / LogL: -18314.742 / Time: 0h:1m:46s (0h:0m:7s left)\n",
      "Iteration 70 / LogL: -18316.113 / Time: 0h:1m:47s (0h:0m:5s left)\n",
      "Iteration 80 / LogL: -18314.301 / Time: 0h:1m:48s (0h:0m:4s left)\n",
      "Iteration 90 / LogL: -18314.396 / Time: 0h:1m:49s (0h:0m:2s left)\n",
      "Iteration 100 / LogL: -18314.316 / Time: 0h:1m:51s (0h:0m:1s left)\n",
      "Iteration 110 / LogL: -18314.296 / Time: 0h:1m:52s (0h:0m:0s left)\n",
      "TREE SEARCH COMPLETED AFTER 114 ITERATIONS / Time: 0h:1m:52s\n",
      "\n",
      "--------------------------------------------------------------------\n",
      "|                    FINALIZING TREE SEARCH                        |\n",
      "--------------------------------------------------------------------\n",
      "Performs final model parameters optimization\n",
      "Estimate model parameters (epsilon = 0.010)\n",
      "1. Initial log-likelihood: -18314.278\n",
      "Optimal log-likelihood: -18314.278\n",
      "Proportion of invariable sites: 0.059\n",
      "Gamma shape alpha: 2.302\n",
      "Parameters optimization took 1 rounds (0.019 sec)\n",
      "BEST SCORE FOUND : -18314.278\n",
      "Total tree length: 9.066\n",
      "\n",
      "Total number of iterations: 114\n",
      "CPU time used for tree search: 144.829 sec (0h:2m:24s)\n",
      "Wall-clock time used for tree search: 13.453 sec (0h:0m:13s)\n",
      "Total CPU time used: 661.431 sec (0h:11m:1s)\n",
      "Total wall-clock time used: 112.797 sec (0h:1m:52s)\n",
      "\n",
      "Analysis results written to: \n",
      "  IQ-TREE report:                phylogenomics/model-finder/All/All.iqtree\n",
      "  Maximum-likelihood tree:       phylogenomics/model-finder/All/All.treefile\n",
      "  Likelihood distances:          phylogenomics/model-finder/All/All.mldist\n",
      "  Screen log file:               phylogenomics/model-finder/All/All.log\n",
      "\n",
      "Date and Time: Mon Dec 23 15:43:49 2024\n"
     ]
    }
   ],
   "source": [
    "! iqtree2 -m MFP -s phylogenomics/trimmed_MSAs/All/ --prefix phylogenomics/model-finder/All/All -T AUTO"
   ]
  },
  {
   "cell_type": "code",
   "execution_count": 121,
   "metadata": {},
   "outputs": [
    {
     "name": "stdout",
     "output_type": "stream",
     "text": [
      "Best-fit model according to BIC: Q.pfam+I+G4\n",
      "\n",
      "List of models sorted by BIC scores: \n",
      "\n",
      "Model                  LogL         AIC      w-AIC        AICc     w-AICc         BIC      w-BIC\n",
      "Q.pfam+I+G4      -18316.088   36690.176 - 1.19e-19   36692.349 - 8.15e-19   36827.133 +    0.784\n"
     ]
    }
   ],
   "source": [
    "! head -42 phylogenomics/model-finder/All/All.iqtree | tail -6"
   ]
  },
  {
   "cell_type": "markdown",
   "metadata": {},
   "source": [
    "### **Part 6.9. Reconstructing the phylogeny**"
   ]
  },
  {
   "cell_type": "markdown",
   "metadata": {},
   "source": [
    "First create directories to store `IQ-TREE 2` files"
   ]
  },
  {
   "cell_type": "code",
   "execution_count": 122,
   "metadata": {},
   "outputs": [],
   "source": [
    "! mkdir phylogenomics/iqtree/\n",
    "! mkdir phylogenomics/iqtree/NSPs/\n",
    "! mkdir phylogenomics/iqtree/SPs/\n",
    "! mkdir phylogenomics/iqtree/All/"
   ]
  },
  {
   "cell_type": "markdown",
   "metadata": {},
   "source": [
    "Then launch `IQ-TREE 2` to reconstruct the phylogeny"
   ]
  },
  {
   "cell_type": "code",
   "execution_count": 126,
   "metadata": {},
   "outputs": [
    {
     "name": "stdout",
     "output_type": "stream",
     "text": [
      "IQ-TREE multicore version 2.3.6 for Linux x86 64-bit built Aug  4 2024\n",
      "Developed by Bui Quang Minh, Nguyen Lam Tung, Olga Chernomor, Heiko Schmidt,\n",
      "Dominik Schrempf, Michael Woodhams, Ly Trong Nhan, Thomas Wong\n",
      "\n",
      "Host:    IliaPC (AVX2, FMA3, 15 GB RAM)\n",
      "Command: iqtree2 -s phylogenomics/trimmed_MSAs/NSPs/ -m Q.pfam+F+I+G4 --prefix phylogenomics/iqtree/NSPs/NSPs -bb 1000 -T AUTO\n",
      "Seed:    937153 (Using SPRNG - Scalable Parallel Random Number Generator)\n",
      "Time:    Mon Dec 23 15:50:06 2024\n",
      "Kernel:  AVX+FMA - auto-detect threads (24 CPU cores detected)\n",
      "\n",
      "Reading 1 alignment files in directory phylogenomics/trimmed_MSAs/NSPs/\n",
      "Reading alignment file phylogenomics/trimmed_MSAs/NSPs/trimmed_family1.seq.aln ... Fasta format detected\n",
      "Reading fasta file: done in 0.0012025 secs using 33.01% CPU\n",
      "Alignment most likely contains protein sequences\n",
      "Alignment has 45 sequences with 397 columns, 392 distinct patterns\n",
      "363 parsimony-informative, 15 singleton sites, 19 constant sites\n",
      "               Gap/Ambiguity  Composition  p-value\n",
      "Analyzing sequences: done in 0.0044258 secs using 650.4% CPU\n",
      "   1  Densovirus_D1    4.53%    passed     99.74%\n",
      "   2  Densovirus_D2    4.53%    passed     99.64%\n",
      "   3  Densovirus_D3    4.53%    passed     99.74%\n",
      "   4  Densovirus_D4    4.53%    passed     99.74%\n",
      "   5  Densovirus_D5    4.53%    passed     99.74%\n",
      "   6  Densovirus_P1    4.53%    passed     99.74%\n",
      "   7  Densovirus_P2    4.53%    passed     99.74%\n",
      "   8  Densovirus_P3    4.53%    passed     99.74%\n",
      "   9  Densovirus_P4    4.53%    passed     99.74%\n",
      "  10  Densovirus_P5    4.53%    passed     99.74%\n",
      "  11  MW628494.1       4.53%    passed     99.65%\n",
      "  12  NC_000936.1      1.51%    passed     96.78%\n",
      "  13  NC_001899.1      5.79%    passed     84.49%\n",
      "  14  NC_003346.1      1.76%    passed     46.67%\n",
      "  15  NC_004286.1      5.79%    passed     94.99%\n",
      "  16  NC_004287.1      1.76%    passed     46.67%\n",
      "  17  NC_004288.1      1.76%    passed     38.75%\n",
      "  18  NC_004289.1      1.76%    passed     32.22%\n",
      "  19  NC_004290.1      1.51%    passed     45.13%\n",
      "  20  NC_005040.1      9.07%    passed     68.74%\n",
      "  21  NC_005041.2      4.03%    passed     74.28%\n",
      "  22  NC_005341.1      5.79%    passed     87.48%\n",
      "  23  NC_006555.1      3.02%    passed     98.21%\n",
      "  24  NC_012685.1      5.79%    passed     80.83%\n",
      "  25  NC_015718.1      3.78%    passed     72.02%\n",
      "  26  NC_018399.1      1.76%    passed     49.68%\n",
      "  27  NC_018450.1      1.76%    passed     55.69%\n",
      "  28  NC_019492.1      5.79%    passed     88.57%\n",
      "  29  NC_022564.1     11.08%    failed      2.65%\n",
      "  30  NC_022748.1      5.54%    passed     99.82%\n",
      "  31  NC_026943.1      1.76%    passed     99.94%\n",
      "  32  NC_030296.1      3.27%    passed     22.96%\n",
      "  33  NC_031450.1      4.53%    passed     99.57%\n",
      "  34  NC_040626.1      4.28%    passed     52.76%\n",
      "  35  NC_075118.1      1.51%    passed     45.13%\n",
      "  36  NC_077036.1      1.76%    passed     93.70%\n",
      "  37  NC_077038.1      2.52%    passed      9.24%\n",
      "  38  NC_077050.1      2.27%    passed     11.92%\n",
      "  39  NC_077065.1      1.01%    passed     97.82%\n",
      "  40  NC_077069.1      6.05%    passed     76.80%\n",
      "  41  NC_077079.1      1.51%    passed     83.28%\n",
      "  42  NC_077080.1      1.51%    passed     97.36%\n",
      "  43  NC_077081.1     10.33%    passed     18.47%\n",
      "  44  NC_077082.1      4.03%    passed     98.62%\n",
      "  45  NC_077083.1      1.51%    passed     97.55%\n",
      "****  TOTAL            3.93%  1 sequences failed composition chi2 test (p-value<5%; df=19)\n",
      "NOTE: Densovirus_D3 is identical to Densovirus_D1 but kept for subsequent analysis\n",
      "NOTE: NC_075118.1 is identical to NC_004290.1 but kept for subsequent analysis\n",
      "NOTE: 7 identical sequences (see below) will be ignored for subsequent analysis\n",
      "NOTE: Densovirus_D4 (identical to Densovirus_D1) is ignored but added at the end\n",
      "NOTE: Densovirus_D5 (identical to Densovirus_D1) is ignored but added at the end\n",
      "NOTE: Densovirus_P1 (identical to Densovirus_D1) is ignored but added at the end\n",
      "NOTE: Densovirus_P2 (identical to Densovirus_D1) is ignored but added at the end\n",
      "NOTE: Densovirus_P3 (identical to Densovirus_D1) is ignored but added at the end\n",
      "NOTE: Densovirus_P4 (identical to Densovirus_D1) is ignored but added at the end\n",
      "NOTE: Densovirus_P5 (identical to Densovirus_D1) is ignored but added at the end\n",
      "Alignment was printed to phylogenomics/iqtree/NSPs/NSPs.uniqueseq.phy\n",
      "\n",
      "For your convenience alignment with unique sequences printed to phylogenomics/iqtree/NSPs/NSPs.uniqueseq.phy\n",
      "\n",
      "Create initial parsimony tree by phylogenetic likelihood library (PLL)... 0.010 seconds\n",
      "Generating 1000 samples for ultrafast bootstrap (seed: 937153)...\n",
      "WARNING: Default model LG may be under-fitting. Use option '-m TEST' to determine the best-fit model.\n",
      "\n",
      "NOTE: 4 MB RAM (0 GB) is required!\n",
      "Measuring multi-threading efficiency up to 24 CPU cores\n",
      "Increase to 10 rounds for branch lengths\n",
      "197 trees examined\n",
      "Threads: 1 / Time: 24.007 sec / Speedup: 1.000 / Efficiency: 100% / LogL: -30137\n",
      "Threads: 2 / Time: 14.433 sec / Speedup: 1.663 / Efficiency: 83% / LogL: -30137\n",
      "Threads: 3 / Time: 10.615 sec / Speedup: 2.262 / Efficiency: 75% / LogL: -30137\n",
      "Threads: 4 / Time: 9.568 sec / Speedup: 2.509 / Efficiency: 63% / LogL: -30137\n",
      "Threads: 5 / Time: 8.078 sec / Speedup: 2.972 / Efficiency: 59% / LogL: -30137\n",
      "Threads: 6 / Time: 7.712 sec / Speedup: 3.113 / Efficiency: 52% / LogL: -30137\n",
      "Threads: 7 / Time: 7.921 sec / Speedup: 3.031 / Efficiency: 43% / LogL: -30137\n",
      "BEST NUMBER OF THREADS: 5\n",
      "\n",
      "Estimate model parameters (epsilon = 0.100)\n",
      "1. Initial log-likelihood: -20606.092\n",
      "Optimal log-likelihood: -20427.123\n",
      "Parameters optimization took 1 rounds (0.019 sec)\n",
      "Wrote distance file to... \n",
      "Computing ML distances based on estimated model parameters...\n",
      "Calculating distance matrix: done in 0.0132957 secs using 502.8% CPU\n",
      "Computing ML distances took 0.014283 sec (of wall-clock time) 0.067307 sec (of CPU time)\n",
      "Setting up auxiliary I and S matrices: done in 0.0006803 secs\n",
      "Computing RapidNJ tree took 0.027798 sec (of wall-clock time) 0.009296 sec (of CPU time)\n",
      "Log-likelihood of RapidNJ tree: -20433.343\n",
      "--------------------------------------------------------------------\n",
      "|             INITIALIZING CANDIDATE TREE SET                      |\n",
      "--------------------------------------------------------------------\n",
      "Generating 98 parsimony trees... 0.893 second\n",
      "Computing log-likelihood of 98 initial trees ... 0.811 seconds\n",
      "Current best score: -20412.904\n",
      "\n",
      "Do NNI search on 20 best initial trees\n",
      "Estimate model parameters (epsilon = 0.100)\n",
      "BETTER TREE FOUND at iteration 1: -20391.180\n",
      "Estimate model parameters (epsilon = 0.100)\n",
      "BETTER TREE FOUND at iteration 4: -20390.691\n",
      "Iteration 10 / LogL: -20390.980 / Time: 0h:1m:25s\n",
      "Iteration 20 / LogL: -20390.781 / Time: 0h:1m:25s\n",
      "Finish initializing candidate tree set (4)\n",
      "Current best tree score: -20390.691 / CPU time: 3.194\n",
      "Number of iterations: 20\n",
      "--------------------------------------------------------------------\n",
      "|               OPTIMIZING CANDIDATE TREE SET                      |\n",
      "--------------------------------------------------------------------\n",
      "Iteration 30 / LogL: -20390.832 / Time: 0h:1m:26s (0h:3m:41s left)\n",
      "Iteration 40 / LogL: -20393.114 / Time: 0h:1m:27s (0h:2m:24s left)\n",
      "Iteration 50 / LogL: -20393.313 / Time: 0h:1m:29s (0h:1m:38s left)\n",
      "Log-likelihood cutoff on original alignment: -20426.664\n",
      "Iteration 60 / LogL: -20393.422 / Time: 0h:1m:30s (0h:1m:7s left)\n",
      "Iteration 70 / LogL: -20391.265 / Time: 0h:1m:31s (0h:0m:45s left)\n",
      "Iteration 80 / LogL: -20391.933 / Time: 0h:1m:32s (0h:0m:28s left)\n",
      "Iteration 90 / LogL: -20390.834 / Time: 0h:1m:33s (0h:0m:14s left)\n",
      "Iteration 100 / LogL: -20393.878 / Time: 0h:1m:34s (0h:0m:3s left)\n",
      "Log-likelihood cutoff on original alignment: -20426.664\n",
      "NOTE: Bootstrap correlation coefficient of split occurrence frequencies: 0.996\n",
      "TREE SEARCH COMPLETED AFTER 105 ITERATIONS / Time: 0h:1m:35s\n",
      "\n",
      "--------------------------------------------------------------------\n",
      "|                    FINALIZING TREE SEARCH                        |\n",
      "--------------------------------------------------------------------\n",
      "Performs final model parameters optimization\n",
      "Estimate model parameters (epsilon = 0.010)\n",
      "1. Initial log-likelihood: -20390.691\n",
      "Optimal log-likelihood: -20390.691\n",
      "Parameters optimization took 1 rounds (0.008 sec)\n",
      "BEST SCORE FOUND : -20390.691\n",
      "Creating bootstrap support values...\n",
      "Split supports printed to NEXUS file phylogenomics/iqtree/NSPs/NSPs.splits.nex\n",
      "Total tree length: 17.383\n",
      "\n",
      "Total number of iterations: 105\n",
      "CPU time used for tree search: 57.819 sec (0h:0m:57s)\n",
      "Wall-clock time used for tree search: 12.770 sec (0h:0m:12s)\n",
      "Total CPU time used: 321.676 sec (0h:5m:21s)\n",
      "Total wall-clock time used: 95.492 sec (0h:1m:35s)\n",
      "\n",
      "Computing bootstrap consensus tree...\n",
      "Reading input file phylogenomics/iqtree/NSPs/NSPs.splits.nex...\n",
      "38 taxa and 175 splits.\n",
      "Consensus tree written to phylogenomics/iqtree/NSPs/NSPs.contree\n",
      "Reading input trees file phylogenomics/iqtree/NSPs/NSPs.contree\n",
      "Log-likelihood of consensus tree: -20390.784\n",
      "\n",
      "Analysis results written to: \n",
      "  IQ-TREE report:                phylogenomics/iqtree/NSPs/NSPs.iqtree\n",
      "  Maximum-likelihood tree:       phylogenomics/iqtree/NSPs/NSPs.treefile\n",
      "  Likelihood distances:          phylogenomics/iqtree/NSPs/NSPs.mldist\n",
      "\n",
      "Ultrafast bootstrap approximation results written to:\n",
      "  Split support values:          phylogenomics/iqtree/NSPs/NSPs.splits.nex\n",
      "  Consensus tree:                phylogenomics/iqtree/NSPs/NSPs.contree\n",
      "  Screen log file:               phylogenomics/iqtree/NSPs/NSPs.log\n",
      "\n",
      "Date and Time: Mon Dec 23 15:51:42 2024\n"
     ]
    }
   ],
   "source": [
    "! iqtree2 -s phylogenomics/trimmed_MSAs/NSPs/ -m Q.pfam+F+I+G4 --prefix phylogenomics/iqtree/NSPs/NSPs -bb 1000 -T AUTO"
   ]
  },
  {
   "cell_type": "code",
   "execution_count": 124,
   "metadata": {},
   "outputs": [
    {
     "name": "stdout",
     "output_type": "stream",
     "text": [
      "IQ-TREE multicore version 2.3.6 for Linux x86 64-bit built Aug  4 2024\n",
      "Developed by Bui Quang Minh, Nguyen Lam Tung, Olga Chernomor, Heiko Schmidt,\n",
      "Dominik Schrempf, Michael Woodhams, Ly Trong Nhan, Thomas Wong\n",
      "\n",
      "Host:    IliaPC (AVX2, FMA3, 15 GB RAM)\n",
      "Command: iqtree2 -s phylogenomics/trimmed_MSAs/SPs/ -m VT+I+G4 --prefix phylogenomics/iqtree/SPs/SPs -bb 1000 -T AUTO\n",
      "Seed:    47330 (Using SPRNG - Scalable Parallel Random Number Generator)\n",
      "Time:    Mon Dec 23 15:46:12 2024\n",
      "Kernel:  AVX+FMA - auto-detect threads (24 CPU cores detected)\n",
      "\n",
      "Reading 1 alignment files in directory phylogenomics/trimmed_MSAs/SPs/\n",
      "Reading alignment file phylogenomics/trimmed_MSAs/SPs/trimmed_family1.seq.aln ... Fasta format detected\n",
      "Reading fasta file: done in 0.0014217 secs using 27.5% CPU\n",
      "Alignment most likely contains protein sequences\n",
      "Alignment has 22 sequences with 418 columns, 408 distinct patterns\n",
      "337 parsimony-informative, 53 singleton sites, 28 constant sites\n",
      "               Gap/Ambiguity  Composition  p-value\n",
      "Analyzing sequences: done in 0.0025523 secs using 1109% CPU\n",
      "   1  Densovirus_D1    0.72%    passed     96.27%\n",
      "   2  Densovirus_D2    0.72%    passed     96.27%\n",
      "   3  Densovirus_D3    0.72%    passed     96.27%\n",
      "   4  Densovirus_D4    0.72%    passed     96.27%\n",
      "   5  Densovirus_D5    0.72%    passed     96.27%\n",
      "   6  Densovirus_P1    0.72%    passed     96.27%\n",
      "   7  Densovirus_P2    0.72%    passed     96.27%\n",
      "   8  Densovirus_P3    0.72%    passed     96.27%\n",
      "   9  Densovirus_P4    0.72%    passed     96.27%\n",
      "  10  Densovirus_P5    0.72%    passed     96.27%\n",
      "  11  MW628494.1       0.72%    passed     98.49%\n",
      "  12  NC_000936.1     11.24%    failed      3.07%\n",
      "  13  NC_004289.1      2.15%    passed     70.67%\n",
      "  14  NC_004290.1      0.72%    failed      0.00%\n",
      "  15  NC_005040.1      6.70%    passed      8.66%\n",
      "  16  NC_012685.1      4.31%    failed      0.03%\n",
      "  17  NC_022748.1      5.02%    passed     27.44%\n",
      "  18  NC_031450.1      0.72%    passed     96.80%\n",
      "  19  NC_077065.1     11.96%    passed      9.02%\n",
      "  20  NC_077079.1      0.72%    passed     24.53%\n",
      "  21  NC_077080.1      1.20%    failed      0.80%\n",
      "  22  NC_077082.1      3.83%    passed     48.85%\n",
      "****  TOTAL            2.57%  4 sequences failed composition chi2 test (p-value<5%; df=19)\n",
      "NOTE: Densovirus_D2 is identical to Densovirus_D1 but kept for subsequent analysis\n",
      "NOTE: 8 identical sequences (see below) will be ignored for subsequent analysis\n",
      "NOTE: Densovirus_D3 (identical to Densovirus_D1) is ignored but added at the end\n",
      "NOTE: Densovirus_D4 (identical to Densovirus_D1) is ignored but added at the end\n",
      "NOTE: Densovirus_D5 (identical to Densovirus_D1) is ignored but added at the end\n",
      "NOTE: Densovirus_P1 (identical to Densovirus_D1) is ignored but added at the end\n",
      "NOTE: Densovirus_P2 (identical to Densovirus_D1) is ignored but added at the end\n",
      "NOTE: Densovirus_P3 (identical to Densovirus_D1) is ignored but added at the end\n",
      "NOTE: Densovirus_P4 (identical to Densovirus_D1) is ignored but added at the end\n",
      "NOTE: Densovirus_P5 (identical to Densovirus_D1) is ignored but added at the end\n",
      "Alignment was printed to phylogenomics/iqtree/SPs/SPs.uniqueseq.phy\n",
      "\n",
      "For your convenience alignment with unique sequences printed to phylogenomics/iqtree/SPs/SPs.uniqueseq.phy\n",
      "\n",
      "Create initial parsimony tree by phylogenetic likelihood library (PLL)... 0.002 seconds\n",
      "Generating 1000 samples for ultrafast bootstrap (seed: 47330)...\n",
      "WARNING: Default model LG may be under-fitting. Use option '-m TEST' to determine the best-fit model.\n",
      "\n",
      "NOTE: 2 MB RAM (0 GB) is required!\n",
      "Measuring multi-threading efficiency up to 24 CPU cores\n",
      "Increase to 10 rounds for branch lengths\n",
      "749 trees examined\n",
      "Threads: 1 / Time: 24.021 sec / Speedup: 1.000 / Efficiency: 100% / LogL: -10822\n",
      "Threads: 2 / Time: 13.898 sec / Speedup: 1.728 / Efficiency: 86% / LogL: -10822\n",
      "Threads: 3 / Time: 10.451 sec / Speedup: 2.298 / Efficiency: 77% / LogL: -10822\n",
      "Threads: 4 / Time: 8.850 sec / Speedup: 2.714 / Efficiency: 68% / LogL: -10822\n",
      "Threads: 5 / Time: 8.337 sec / Speedup: 2.881 / Efficiency: 58% / LogL: -10822\n",
      "Threads: 6 / Time: 8.044 sec / Speedup: 2.986 / Efficiency: 50% / LogL: -10822\n",
      "BEST NUMBER OF THREADS: 5\n",
      "\n",
      "Estimate model parameters (epsilon = 0.100)\n",
      "1. Initial log-likelihood: -9812.571\n",
      "Optimal log-likelihood: -9732.189\n",
      "Parameters optimization took 1 rounds (0.007 sec)\n",
      "Wrote distance file to... \n",
      "Computing ML distances based on estimated model parameters...\n",
      "Calculating distance matrix: done in 0.0018707 secs using 541.1% CPU\n",
      "Computing ML distances took 0.002952 sec (of wall-clock time) 0.010704 sec (of CPU time)\n",
      "Setting up auxiliary I and S matrices: done in 0.00066 secs using 190% CPU\n",
      "Computing RapidNJ tree took 0.009151 sec (of wall-clock time) 0.005457 sec (of CPU time)\n",
      "Log-likelihood of RapidNJ tree: -9722.728\n",
      "--------------------------------------------------------------------\n",
      "|             INITIALIZING CANDIDATE TREE SET                      |\n",
      "--------------------------------------------------------------------\n",
      "Generating 98 parsimony trees... 0.218 second\n",
      "Computing log-likelihood of 98 initial trees ... 0.197 seconds\n",
      "Current best score: -9722.728\n",
      "\n",
      "Do NNI search on 20 best initial trees\n",
      "Estimate model parameters (epsilon = 0.100)\n",
      "BETTER TREE FOUND at iteration 1: -9700.946\n",
      "Iteration 10 / LogL: -9700.959 / Time: 0h:1m:14s\n",
      "Iteration 20 / LogL: -9700.967 / Time: 0h:1m:14s\n",
      "Finish initializing candidate tree set (1)\n",
      "Current best tree score: -9700.946 / CPU time: 1.070\n",
      "Number of iterations: 20\n",
      "--------------------------------------------------------------------\n",
      "|               OPTIMIZING CANDIDATE TREE SET                      |\n",
      "--------------------------------------------------------------------\n",
      "Iteration 30 / LogL: -9701.002 / Time: 0h:1m:15s (0h:3m:3s left)\n",
      "Iteration 40 / LogL: -9701.063 / Time: 0h:1m:15s (0h:1m:57s left)\n",
      "Iteration 50 / LogL: -9749.867 / Time: 0h:1m:15s (0h:1m:18s left)\n",
      "Log-likelihood cutoff on original alignment: -9743.837\n",
      "Iteration 60 / LogL: -9700.978 / Time: 0h:1m:16s (0h:0m:52s left)\n",
      "Iteration 70 / LogL: -9749.848 / Time: 0h:1m:16s (0h:0m:34s left)\n",
      "Iteration 80 / LogL: -9701.011 / Time: 0h:1m:16s (0h:0m:20s left)\n",
      "Iteration 90 / LogL: -9749.885 / Time: 0h:1m:17s (0h:0m:9s left)\n",
      "Iteration 100 / LogL: -9749.839 / Time: 0h:1m:17s (0h:0m:0s left)\n",
      "Log-likelihood cutoff on original alignment: -9743.837\n",
      "NOTE: Bootstrap correlation coefficient of split occurrence frequencies: 1.000\n",
      "TREE SEARCH COMPLETED AFTER 102 ITERATIONS / Time: 0h:1m:17s\n",
      "\n",
      "--------------------------------------------------------------------\n",
      "|                    FINALIZING TREE SEARCH                        |\n",
      "--------------------------------------------------------------------\n",
      "Performs final model parameters optimization\n",
      "Estimate model parameters (epsilon = 0.010)\n",
      "1. Initial log-likelihood: -9700.946\n",
      "Optimal log-likelihood: -9700.946\n",
      "Parameters optimization took 1 rounds (0.004 sec)\n",
      "BEST SCORE FOUND : -9700.946\n",
      "Creating bootstrap support values...\n",
      "Split supports printed to NEXUS file phylogenomics/iqtree/SPs/SPs.splits.nex\n",
      "Total tree length: 7.844\n",
      "\n",
      "Total number of iterations: 102\n",
      "CPU time used for tree search: 16.639 sec (0h:0m:16s)\n",
      "Wall-clock time used for tree search: 3.746 sec (0h:0m:3s)\n",
      "Total CPU time used: 223.860 sec (0h:3m:43s)\n",
      "Total wall-clock time used: 77.553 sec (0h:1m:17s)\n",
      "\n",
      "Computing bootstrap consensus tree...\n",
      "Reading input file phylogenomics/iqtree/SPs/SPs.splits.nex...\n",
      "14 taxa and 76 splits.\n",
      "Consensus tree written to phylogenomics/iqtree/SPs/SPs.contree\n",
      "Reading input trees file phylogenomics/iqtree/SPs/SPs.contree\n",
      "Log-likelihood of consensus tree: -9700.946\n",
      "\n",
      "Analysis results written to: \n",
      "  IQ-TREE report:                phylogenomics/iqtree/SPs/SPs.iqtree\n",
      "  Maximum-likelihood tree:       phylogenomics/iqtree/SPs/SPs.treefile\n",
      "  Likelihood distances:          phylogenomics/iqtree/SPs/SPs.mldist\n",
      "\n",
      "Ultrafast bootstrap approximation results written to:\n",
      "  Split support values:          phylogenomics/iqtree/SPs/SPs.splits.nex\n",
      "  Consensus tree:                phylogenomics/iqtree/SPs/SPs.contree\n",
      "  Screen log file:               phylogenomics/iqtree/SPs/SPs.log\n",
      "\n",
      "Date and Time: Mon Dec 23 15:47:29 2024\n"
     ]
    }
   ],
   "source": [
    "! iqtree2 -s phylogenomics/trimmed_MSAs/SPs/ -m VT+I+G4 --prefix phylogenomics/iqtree/SPs/SPs -bb 1000 -T AUTO"
   ]
  },
  {
   "cell_type": "code",
   "execution_count": 125,
   "metadata": {},
   "outputs": [
    {
     "name": "stdout",
     "output_type": "stream",
     "text": [
      "IQ-TREE multicore version 2.3.6 for Linux x86 64-bit built Aug  4 2024\n",
      "Developed by Bui Quang Minh, Nguyen Lam Tung, Olga Chernomor, Heiko Schmidt,\n",
      "Dominik Schrempf, Michael Woodhams, Ly Trong Nhan, Thomas Wong\n",
      "\n",
      "Host:    IliaPC (AVX2, FMA3, 15 GB RAM)\n",
      "Command: iqtree2 -s phylogenomics/trimmed_MSAs/All/ -m Q.pfam+I+G4 --prefix phylogenomics/iqtree/All/All -bb 1000 -T AUTO\n",
      "Seed:    645074 (Using SPRNG - Scalable Parallel Random Number Generator)\n",
      "Time:    Mon Dec 23 15:47:44 2024\n",
      "Kernel:  AVX+FMA - auto-detect threads (24 CPU cores detected)\n",
      "\n",
      "Reading 2 alignment files in directory phylogenomics/trimmed_MSAs/All/\n",
      "Reading alignment file phylogenomics/trimmed_MSAs/All/trimmed_family1.seq.aln ... Fasta format detected\n",
      "Reading fasta file: done in 0.0012143 secs using 29.81% CPU\n",
      "Alignment most likely contains protein sequences\n",
      "Alignment has 22 sequences with 413 columns, 393 distinct patterns\n",
      "335 parsimony-informative, 38 singleton sites, 40 constant sites\n",
      "               Gap/Ambiguity  Composition  p-value\n",
      "Analyzing sequences: done in 0.0027979 secs using 720.8% CPU\n",
      "   1  Densovirus_D1    1.21%    passed    100.00%\n",
      "   2  Densovirus_D2    1.21%    passed    100.00%\n",
      "   3  Densovirus_D3    1.21%    passed    100.00%\n",
      "   4  Densovirus_D4    1.21%    passed    100.00%\n",
      "   5  Densovirus_D5    1.21%    passed    100.00%\n",
      "   6  Densovirus_P1    1.21%    passed    100.00%\n",
      "   7  Densovirus_P2    1.21%    passed    100.00%\n",
      "   8  Densovirus_P3    1.21%    passed    100.00%\n",
      "   9  Densovirus_P4    1.21%    passed    100.00%\n",
      "  10  Densovirus_P5    1.21%    passed    100.00%\n",
      "  11  MW628494.1       1.21%    passed    100.00%\n",
      "  12  NC_000936.1      1.21%    passed     86.75%\n",
      "  13  NC_004289.1      0.24%    passed     61.98%\n",
      "  14  NC_004290.1      0.73%    passed     34.10%\n",
      "  15  NC_005040.1      9.69%    passed      6.57%\n",
      "  16  NC_012685.1      1.69%    passed      8.72%\n",
      "  17  NC_022748.1      4.36%    passed     86.84%\n",
      "  18  NC_031450.1      1.21%    passed    100.00%\n",
      "  19  NC_077065.1      1.21%    passed     66.92%\n",
      "  20  NC_077079.1      0.73%    passed     58.59%\n",
      "  21  NC_077080.1      0.73%    passed     99.08%\n",
      "  22  NC_077082.1      0.97%    passed     92.96%\n",
      "****  TOTAL            1.64%  0 sequences failed composition chi2 test (p-value<5%; df=19)\n",
      "Reading alignment file phylogenomics/trimmed_MSAs/All/trimmed_family2.seq.aln ... Fasta format detected\n",
      "Reading fasta file: done in 0.0010221 secs using 42.95% CPU\n",
      "Alignment most likely contains protein sequences\n",
      "Alignment has 22 sequences with 418 columns, 408 distinct patterns\n",
      "337 parsimony-informative, 53 singleton sites, 28 constant sites\n",
      "               Gap/Ambiguity  Composition  p-value\n",
      "Analyzing sequences: done in 0.0036681 secs using 555.5% CPU\n",
      "   1  Densovirus_D1    0.72%    passed     96.27%\n",
      "   2  Densovirus_D2    0.72%    passed     96.27%\n",
      "   3  Densovirus_D3    0.72%    passed     96.27%\n",
      "   4  Densovirus_D4    0.72%    passed     96.27%\n",
      "   5  Densovirus_D5    0.72%    passed     96.27%\n",
      "   6  Densovirus_P1    0.72%    passed     96.27%\n",
      "   7  Densovirus_P2    0.72%    passed     96.27%\n",
      "   8  Densovirus_P3    0.72%    passed     96.27%\n",
      "   9  Densovirus_P4    0.72%    passed     96.27%\n",
      "  10  Densovirus_P5    0.72%    passed     96.27%\n",
      "  11  MW628494.1       0.72%    passed     98.49%\n",
      "  12  NC_000936.1     11.24%    failed      3.07%\n",
      "  13  NC_004289.1      2.15%    passed     70.67%\n",
      "  14  NC_004290.1      0.72%    failed      0.00%\n",
      "  15  NC_005040.1      6.70%    passed      8.66%\n",
      "  16  NC_012685.1      4.31%    failed      0.03%\n",
      "  17  NC_022748.1      5.02%    passed     27.44%\n",
      "  18  NC_031450.1      0.72%    passed     96.80%\n",
      "  19  NC_077065.1     11.96%    passed      9.02%\n",
      "  20  NC_077079.1      0.72%    passed     24.53%\n",
      "  21  NC_077080.1      1.20%    failed      0.80%\n",
      "  22  NC_077082.1      3.83%    passed     48.85%\n",
      "****  TOTAL            2.57%  4 sequences failed composition chi2 test (p-value<5%; df=19)\n",
      "NOTE: Densovirus_D3 is identical to Densovirus_D1 but kept for subsequent analysis\n",
      "NOTE: 7 identical sequences (see below) will be ignored for subsequent analysis\n",
      "NOTE: Densovirus_D4 (identical to Densovirus_D1) is ignored but added at the end\n",
      "NOTE: Densovirus_D5 (identical to Densovirus_D1) is ignored but added at the end\n",
      "NOTE: Densovirus_P1 (identical to Densovirus_D1) is ignored but added at the end\n",
      "NOTE: Densovirus_P2 (identical to Densovirus_D1) is ignored but added at the end\n",
      "NOTE: Densovirus_P3 (identical to Densovirus_D1) is ignored but added at the end\n",
      "NOTE: Densovirus_P4 (identical to Densovirus_D1) is ignored but added at the end\n",
      "NOTE: Densovirus_P5 (identical to Densovirus_D1) is ignored but added at the end\n",
      "Alignment was printed to phylogenomics/iqtree/All/All.uniqueseq.phy\n",
      "\n",
      "For your convenience alignment with unique sequences printed to phylogenomics/iqtree/All/All.uniqueseq.phy\n",
      "\n",
      "Create initial parsimony tree by phylogenetic likelihood library (PLL)... 0.003 seconds\n",
      "Generating 1000 samples for ultrafast bootstrap (seed: 645074)...\n",
      "WARNING: Default model LG may be under-fitting. Use option '-m TEST' to determine the best-fit model.\n",
      "\n",
      "NOTE: 4 MB RAM (0 GB) is required!\n",
      "Measuring multi-threading efficiency up to 24 CPU cores\n",
      "Increase to 10 rounds for branch lengths\n",
      "338 trees examined\n",
      "Threads: 1 / Time: 24.011 sec / Speedup: 1.000 / Efficiency: 100% / LogL: -21815\n",
      "Threads: 2 / Time: 14.472 sec / Speedup: 1.659 / Efficiency: 83% / LogL: -21815\n",
      "Threads: 3 / Time: 10.820 sec / Speedup: 2.219 / Efficiency: 74% / LogL: -21815\n",
      "Threads: 4 / Time: 9.752 sec / Speedup: 2.462 / Efficiency: 62% / LogL: -21815\n",
      "Threads: 5 / Time: 7.095 sec / Speedup: 3.384 / Efficiency: 68% / LogL: -21815\n",
      "Threads: 6 / Time: 6.857 sec / Speedup: 3.502 / Efficiency: 58% / LogL: -21815\n",
      "Threads: 7 / Time: 6.317 sec / Speedup: 3.801 / Efficiency: 54% / LogL: -21815\n",
      "Threads: 8 / Time: 6.159 sec / Speedup: 3.898 / Efficiency: 49% / LogL: -21815\n",
      "BEST NUMBER OF THREADS: 7\n",
      "\n",
      "Estimate model parameters (epsilon = 0.100)\n",
      "1. Initial log-likelihood: -18884.286\n",
      "Optimal log-likelihood: -18729.144\n",
      "Parameters optimization took 1 rounds (0.011 sec)\n",
      "Wrote distance file to... \n",
      "Computing ML distances based on estimated model parameters...\n",
      "Calculating distance matrix: done in 0.0013574 secs using 707% CPU\n",
      "Computing ML distances took 0.002237 sec (of wall-clock time) 0.010061 sec (of CPU time)\n",
      "Setting up auxiliary I and S matrices: done in 0.001131 secs using 280% CPU\n",
      "Computing RapidNJ tree took 0.021912 sec (of wall-clock time) 0.012908 sec (of CPU time)\n",
      "Log-likelihood of RapidNJ tree: -18730.072\n",
      "--------------------------------------------------------------------\n",
      "|             INITIALIZING CANDIDATE TREE SET                      |\n",
      "--------------------------------------------------------------------\n",
      "Generating 98 parsimony trees... 0.279 second\n",
      "Computing log-likelihood of 97 initial trees ... 0.311 seconds\n",
      "Current best score: -18729.144\n",
      "\n",
      "Do NNI search on 20 best initial trees\n",
      "Estimate model parameters (epsilon = 0.100)\n",
      "BETTER TREE FOUND at iteration 1: -18715.295\n",
      "Iteration 10 / LogL: -18715.326 / Time: 0h:1m:26s\n",
      "Iteration 20 / LogL: -18715.316 / Time: 0h:1m:26s\n",
      "Finish initializing candidate tree set (1)\n",
      "Current best tree score: -18715.295 / CPU time: 1.307\n",
      "Number of iterations: 20\n",
      "--------------------------------------------------------------------\n",
      "|               OPTIMIZING CANDIDATE TREE SET                      |\n",
      "--------------------------------------------------------------------\n",
      "Estimate model parameters (epsilon = 0.100)\n",
      "BETTER TREE FOUND at iteration 22: -18713.437\n",
      "UPDATE BEST LOG-LIKELIHOOD: -18713.437\n",
      "Iteration 30 / LogL: -18713.481 / Time: 0h:1m:27s (0h:4m:37s left)\n",
      "Iteration 40 / LogL: -18715.340 / Time: 0h:1m:27s (0h:3m:4s left)\n",
      "UPDATE BEST LOG-LIKELIHOOD: -18713.437\n",
      "Iteration 50 / LogL: -18714.124 / Time: 0h:1m:28s (0h:2m:9s left)\n",
      "Log-likelihood cutoff on original alignment: -18751.650\n",
      "Iteration 60 / LogL: -18715.322 / Time: 0h:1m:28s (0h:1m:33s left)\n",
      "Iteration 70 / LogL: -18713.443 / Time: 0h:1m:29s (0h:1m:7s left)\n",
      "Iteration 80 / LogL: -18713.546 / Time: 0h:1m:29s (0h:0m:47s left)\n",
      "Iteration 90 / LogL: -18715.261 / Time: 0h:1m:30s (0h:0m:32s left)\n",
      "Iteration 100 / LogL: -18713.441 / Time: 0h:1m:30s (0h:0m:20s left)\n",
      "Log-likelihood cutoff on original alignment: -18751.650\n",
      "NOTE: Bootstrap correlation coefficient of split occurrence frequencies: 0.997\n",
      "Iteration 110 / LogL: -18713.481 / Time: 0h:1m:30s (0h:1m:15s left)\n",
      "UPDATE BEST LOG-LIKELIHOOD: -18713.437\n",
      "Iteration 120 / LogL: -18726.061 / Time: 0h:1m:31s (0h:1m:1s left)\n",
      "TREE SEARCH COMPLETED AFTER 123 ITERATIONS / Time: 0h:1m:31s\n",
      "\n",
      "--------------------------------------------------------------------\n",
      "|                    FINALIZING TREE SEARCH                        |\n",
      "--------------------------------------------------------------------\n",
      "Performs final model parameters optimization\n",
      "Estimate model parameters (epsilon = 0.010)\n",
      "1. Initial log-likelihood: -18713.437\n",
      "Optimal log-likelihood: -18713.437\n",
      "Parameters optimization took 1 rounds (0.004 sec)\n",
      "BEST SCORE FOUND : -18713.437\n",
      "Creating bootstrap support values...\n",
      "Split supports printed to NEXUS file phylogenomics/iqtree/All/All.splits.nex\n",
      "Total tree length: 7.286\n",
      "\n",
      "Total number of iterations: 123\n",
      "CPU time used for tree search: 37.338 sec (0h:0m:37s)\n",
      "Wall-clock time used for tree search: 5.879 sec (0h:0m:5s)\n",
      "Total CPU time used: 331.113 sec (0h:5m:31s)\n",
      "Total wall-clock time used: 91.597 sec (0h:1m:31s)\n",
      "\n",
      "Computing bootstrap consensus tree...\n",
      "Reading input file phylogenomics/iqtree/All/All.splits.nex...\n",
      "15 taxa and 66 splits.\n",
      "Consensus tree written to phylogenomics/iqtree/All/All.contree\n",
      "Reading input trees file phylogenomics/iqtree/All/All.contree\n",
      "Log-likelihood of consensus tree: -18713.440\n",
      "\n",
      "Analysis results written to: \n",
      "  IQ-TREE report:                phylogenomics/iqtree/All/All.iqtree\n",
      "  Maximum-likelihood tree:       phylogenomics/iqtree/All/All.treefile\n",
      "  Likelihood distances:          phylogenomics/iqtree/All/All.mldist\n",
      "\n",
      "Ultrafast bootstrap approximation results written to:\n",
      "  Split support values:          phylogenomics/iqtree/All/All.splits.nex\n",
      "  Consensus tree:                phylogenomics/iqtree/All/All.contree\n",
      "  Screen log file:               phylogenomics/iqtree/All/All.log\n",
      "\n",
      "Date and Time: Mon Dec 23 15:49:16 2024\n"
     ]
    }
   ],
   "source": [
    "! iqtree2 -s phylogenomics/trimmed_MSAs/All/ -m Q.pfam+I+G4 --prefix phylogenomics/iqtree/All/All -bb 1000 -T AUTO"
   ]
  },
  {
   "cell_type": "markdown",
   "metadata": {},
   "source": [
    "### **Part 6.9. Fetching metadata for further visualizing in `ggtree`**"
   ]
  },
  {
   "cell_type": "markdown",
   "metadata": {},
   "source": [
    "To make the perfect visualization of phylogenetic tree we must annotate the tree. For that we need metadata!"
   ]
  },
  {
   "cell_type": "markdown",
   "metadata": {},
   "source": [
    "Install `phyloki`"
   ]
  },
  {
   "cell_type": "code",
   "execution_count": null,
   "metadata": {},
   "outputs": [],
   "source": [
    "! wget https://raw.githubusercontent.com/iliapopov17/phyloki/main/phyloki.py"
   ]
  },
  {
   "cell_type": "markdown",
   "metadata": {},
   "source": [
    "Import `phyloki`"
   ]
  },
  {
   "cell_type": "code",
   "execution_count": 127,
   "metadata": {},
   "outputs": [],
   "source": [
    "from phyloki import *"
   ]
  },
  {
   "cell_type": "markdown",
   "metadata": {},
   "source": [
    "Create a directory to store metadata"
   ]
  },
  {
   "cell_type": "code",
   "execution_count": 128,
   "metadata": {},
   "outputs": [],
   "source": [
    "! mkdir phylogenomics/metadata/"
   ]
  },
  {
   "cell_type": "markdown",
   "metadata": {},
   "source": [
    "Fetch the 1st ver. of metadata"
   ]
  },
  {
   "cell_type": "code",
   "execution_count": 129,
   "metadata": {},
   "outputs": [
    {
     "name": "stdout",
     "output_type": "stream",
     "text": [
      "The request has been fulfilled.\n",
      "File saved to phylogenomics/metadata/raw_metadata.tsv\n"
     ]
    }
   ],
   "source": [
    "fetch_metadata('iljapopov17@gmail.com', 'phylogenomics/data/accession_numbers.txt', 'phylogenomics/metadata/raw_metadata.tsv')"
   ]
  },
  {
   "cell_type": "markdown",
   "metadata": {},
   "source": [
    "Using function below we will clean `Year` column to leave only year, without the full date"
   ]
  },
  {
   "cell_type": "code",
   "execution_count": 130,
   "metadata": {},
   "outputs": [],
   "source": [
    "def clean_year(input_file, output_file):\n",
    "    \"\"\"\n",
    "    Clean the 'Year' column in a metadata .tsv file to extract only the last 4 digits.\n",
    "\n",
    "    Args:\n",
    "        input_file (str): Path to the input .tsv file.\n",
    "        output_file (str): Path to save the cleaned .tsv file.\n",
    "    \"\"\"\n",
    "    # Load the .tsv file into a DataFrame\n",
    "    df = pd.read_csv(input_file, sep=\"\\t\")\n",
    "\n",
    "    # Extract the last 4 digits of the 'Year' column\n",
    "    df['Year'] = df['Year'].apply(lambda x: str(x)[-4:] if pd.notnull(x) else 'ND')\n",
    "\n",
    "    # Save the updated DataFrame to a new .tsv file\n",
    "    df.to_csv(output_file, sep=\"\\t\", index=False)\n",
    "\n",
    "    print(f\"The 'Year' column has been cleaned.\\nFile saved to {output_file}\")"
   ]
  },
  {
   "cell_type": "markdown",
   "metadata": {},
   "source": [
    "Run `clean_year()` function"
   ]
  },
  {
   "cell_type": "code",
   "execution_count": 131,
   "metadata": {},
   "outputs": [
    {
     "name": "stdout",
     "output_type": "stream",
     "text": [
      "The 'Year' column has been cleaned.\n",
      "File saved to phylogenomics/metadata/medium_metadata.tsv\n"
     ]
    }
   ],
   "source": [
    "clean_year('phylogenomics/metadata/raw_metadata.tsv', 'phylogenomics/metadata/medium_metadata.tsv')"
   ]
  },
  {
   "cell_type": "markdown",
   "metadata": {},
   "source": [
    "Some of the viruses has `ND` in `Host` column"
   ]
  },
  {
   "cell_type": "code",
   "execution_count": 132,
   "metadata": {},
   "outputs": [
    {
     "data": {
      "text/html": [
       "<div>\n",
       "<style scoped>\n",
       "    .dataframe tbody tr th:only-of-type {\n",
       "        vertical-align: middle;\n",
       "    }\n",
       "\n",
       "    .dataframe tbody tr th {\n",
       "        vertical-align: top;\n",
       "    }\n",
       "\n",
       "    .dataframe thead th {\n",
       "        text-align: right;\n",
       "    }\n",
       "</style>\n",
       "<table border=\"1\" class=\"dataframe\">\n",
       "  <thead>\n",
       "    <tr style=\"text-align: right;\">\n",
       "      <th></th>\n",
       "      <th>Name</th>\n",
       "      <th>Full.Name</th>\n",
       "      <th>Country</th>\n",
       "      <th>Year</th>\n",
       "      <th>Host</th>\n",
       "    </tr>\n",
       "  </thead>\n",
       "  <tbody>\n",
       "    <tr>\n",
       "      <th>13</th>\n",
       "      <td>NC_005040.1</td>\n",
       "      <td>NC_005040.1 Myzus persicae densovirus 1</td>\n",
       "      <td>ND</td>\n",
       "      <td>ND</td>\n",
       "      <td>ND</td>\n",
       "    </tr>\n",
       "    <tr>\n",
       "      <th>15</th>\n",
       "      <td>NC_038376.1</td>\n",
       "      <td>NC_038376.1 Bombyx mori densovirus Zhenjiang</td>\n",
       "      <td>China: Zhenjiang</td>\n",
       "      <td>ND</td>\n",
       "      <td>ND</td>\n",
       "    </tr>\n",
       "    <tr>\n",
       "      <th>16</th>\n",
       "      <td>NC_003346.1</td>\n",
       "      <td>NC_003346.1 Bombyx mori densovirus 1</td>\n",
       "      <td>ND</td>\n",
       "      <td>ND</td>\n",
       "      <td>ND</td>\n",
       "    </tr>\n",
       "    <tr>\n",
       "      <th>22</th>\n",
       "      <td>NC_020927.1</td>\n",
       "      <td>NC_020927.1 Bombyx mori densovirus 3</td>\n",
       "      <td>China</td>\n",
       "      <td>ND</td>\n",
       "      <td>ND</td>\n",
       "    </tr>\n",
       "    <tr>\n",
       "      <th>24</th>\n",
       "      <td>NC_018450.1</td>\n",
       "      <td>NC_018450.1 Papilio polyxenes densovirus</td>\n",
       "      <td>Canada</td>\n",
       "      <td>2011</td>\n",
       "      <td>ND</td>\n",
       "    </tr>\n",
       "    <tr>\n",
       "      <th>25</th>\n",
       "      <td>NC_018399.1</td>\n",
       "      <td>NC_018399.1 Sibine fusca densovirus</td>\n",
       "      <td>Colombia</td>\n",
       "      <td>1977</td>\n",
       "      <td>ND</td>\n",
       "    </tr>\n",
       "    <tr>\n",
       "      <th>27</th>\n",
       "      <td>NC_005041.2</td>\n",
       "      <td>NC_005041.2 Blattella germanica densovirus 1</td>\n",
       "      <td>ND</td>\n",
       "      <td>ND</td>\n",
       "      <td>ND</td>\n",
       "    </tr>\n",
       "    <tr>\n",
       "      <th>28</th>\n",
       "      <td>NC_015115.1</td>\n",
       "      <td>NC_015115.1 Mosquito densovirus BR/07</td>\n",
       "      <td>Brazil</td>\n",
       "      <td>ND</td>\n",
       "      <td>ND</td>\n",
       "    </tr>\n",
       "    <tr>\n",
       "      <th>33</th>\n",
       "      <td>NC_011317.1</td>\n",
       "      <td>NC_011317.1 Anopheles gambiae densovirus</td>\n",
       "      <td>ND</td>\n",
       "      <td>ND</td>\n",
       "      <td>ND</td>\n",
       "    </tr>\n",
       "    <tr>\n",
       "      <th>34</th>\n",
       "      <td>NC_006555.1</td>\n",
       "      <td>NC_006555.1 Dendrolimus punctatus densovirus</td>\n",
       "      <td>China</td>\n",
       "      <td>ND</td>\n",
       "      <td>ND</td>\n",
       "    </tr>\n",
       "    <tr>\n",
       "      <th>35</th>\n",
       "      <td>NC_005341.1</td>\n",
       "      <td>NC_005341.1 Mythimna loreyi densovirus</td>\n",
       "      <td>ND</td>\n",
       "      <td>ND</td>\n",
       "      <td>ND</td>\n",
       "    </tr>\n",
       "    <tr>\n",
       "      <th>36</th>\n",
       "      <td>NC_004290.1</td>\n",
       "      <td>NC_004290.1 Acheta domestica densovirus</td>\n",
       "      <td>ND</td>\n",
       "      <td>ND</td>\n",
       "      <td>ND</td>\n",
       "    </tr>\n",
       "    <tr>\n",
       "      <th>37</th>\n",
       "      <td>NC_004288.1</td>\n",
       "      <td>NC_004288.1 Casphalia extranea densovirus</td>\n",
       "      <td>ND</td>\n",
       "      <td>ND</td>\n",
       "      <td>ND</td>\n",
       "    </tr>\n",
       "    <tr>\n",
       "      <th>39</th>\n",
       "      <td>NC_004287.1</td>\n",
       "      <td>NC_004287.1 Bombyx mori densovirus 5</td>\n",
       "      <td>ND</td>\n",
       "      <td>ND</td>\n",
       "      <td>ND</td>\n",
       "    </tr>\n",
       "    <tr>\n",
       "      <th>40</th>\n",
       "      <td>NC_004286.1</td>\n",
       "      <td>NC_004286.1 Galleria mellonella densovirus</td>\n",
       "      <td>ND</td>\n",
       "      <td>ND</td>\n",
       "      <td>ND</td>\n",
       "    </tr>\n",
       "    <tr>\n",
       "      <th>41</th>\n",
       "      <td>NC_004284.1</td>\n",
       "      <td>NC_004284.1 Junonia coenia densovirus</td>\n",
       "      <td>ND</td>\n",
       "      <td>ND</td>\n",
       "      <td>ND</td>\n",
       "    </tr>\n",
       "    <tr>\n",
       "      <th>42</th>\n",
       "      <td>NC_000936.1</td>\n",
       "      <td>NC_000936.1 Periplaneta fuliginosa densovirus</td>\n",
       "      <td>ND</td>\n",
       "      <td>ND</td>\n",
       "      <td>ND</td>\n",
       "    </tr>\n",
       "  </tbody>\n",
       "</table>\n",
       "</div>"
      ],
      "text/plain": [
       "           Name                                      Full.Name  \\\n",
       "13  NC_005040.1        NC_005040.1 Myzus persicae densovirus 1   \n",
       "15  NC_038376.1   NC_038376.1 Bombyx mori densovirus Zhenjiang   \n",
       "16  NC_003346.1           NC_003346.1 Bombyx mori densovirus 1   \n",
       "22  NC_020927.1           NC_020927.1 Bombyx mori densovirus 3   \n",
       "24  NC_018450.1       NC_018450.1 Papilio polyxenes densovirus   \n",
       "25  NC_018399.1            NC_018399.1 Sibine fusca densovirus   \n",
       "27  NC_005041.2   NC_005041.2 Blattella germanica densovirus 1   \n",
       "28  NC_015115.1          NC_015115.1 Mosquito densovirus BR/07   \n",
       "33  NC_011317.1       NC_011317.1 Anopheles gambiae densovirus   \n",
       "34  NC_006555.1   NC_006555.1 Dendrolimus punctatus densovirus   \n",
       "35  NC_005341.1         NC_005341.1 Mythimna loreyi densovirus   \n",
       "36  NC_004290.1        NC_004290.1 Acheta domestica densovirus   \n",
       "37  NC_004288.1      NC_004288.1 Casphalia extranea densovirus   \n",
       "39  NC_004287.1           NC_004287.1 Bombyx mori densovirus 5   \n",
       "40  NC_004286.1     NC_004286.1 Galleria mellonella densovirus   \n",
       "41  NC_004284.1          NC_004284.1 Junonia coenia densovirus   \n",
       "42  NC_000936.1  NC_000936.1 Periplaneta fuliginosa densovirus   \n",
       "\n",
       "             Country  Year Host  \n",
       "13                ND    ND   ND  \n",
       "15  China: Zhenjiang    ND   ND  \n",
       "16                ND    ND   ND  \n",
       "22             China    ND   ND  \n",
       "24            Canada  2011   ND  \n",
       "25          Colombia  1977   ND  \n",
       "27                ND    ND   ND  \n",
       "28            Brazil    ND   ND  \n",
       "33                ND    ND   ND  \n",
       "34             China    ND   ND  \n",
       "35                ND    ND   ND  \n",
       "36                ND    ND   ND  \n",
       "37                ND    ND   ND  \n",
       "39                ND    ND   ND  \n",
       "40                ND    ND   ND  \n",
       "41                ND    ND   ND  \n",
       "42                ND    ND   ND  "
      ]
     },
     "execution_count": 132,
     "metadata": {},
     "output_type": "execute_result"
    }
   ],
   "source": [
    "df = pd.read_csv('phylogenomics/metadata/medium_metadata.tsv', sep='\\t')\n",
    "nd_in_host = df[df['Host'] == 'ND']\n",
    "\n",
    "nd_in_host"
   ]
  },
  {
   "cell_type": "markdown",
   "metadata": {},
   "source": [
    "Well.. 17 viruses from `RefSeq` has `ND` in `Host`... They are really poorly annotated. But we can predict their hosts based on their names. The host of `Periplaneta fuliginosa densovirus` must be `Periplaneta fuliginosa`. So let's do it"
   ]
  },
  {
   "cell_type": "markdown",
   "metadata": {},
   "source": [
    "Import `re`"
   ]
  },
  {
   "cell_type": "code",
   "execution_count": 133,
   "metadata": {},
   "outputs": [],
   "source": [
    "import re"
   ]
  },
  {
   "cell_type": "markdown",
   "metadata": {},
   "source": [
    "`extract_host()` function will assign host info based on virus name"
   ]
  },
  {
   "cell_type": "code",
   "execution_count": 134,
   "metadata": {},
   "outputs": [],
   "source": [
    "# Define a function to extract the desired host name from the Full.Name column\n",
    "def extract_host(full_name):\n",
    "    # Split the full name to remove the accession number and \"densovirus\" + everything after it\n",
    "    # This regex looks for the word 'densovirus' and removes it and any following characters.\n",
    "    return re.split(r'\\s+denso.*', full_name.split(' ', 1)[1])[0]"
   ]
  },
  {
   "cell_type": "markdown",
   "metadata": {},
   "source": [
    "Run `extract_host()`"
   ]
  },
  {
   "cell_type": "code",
   "execution_count": 135,
   "metadata": {},
   "outputs": [],
   "source": [
    "# Update the 'Host' column where it's 'ND' with the extracted host from 'Full.Name'\n",
    "df['Host'] = df.apply(lambda row: extract_host(row['Full.Name']) if row['Host'] == 'ND' else row['Host'], axis=1)\n",
    "\n",
    "# Save the file without the index column\n",
    "df.to_csv('phylogenomics/metadata/medium_well_metadata.tsv', sep='\\t', index=False)"
   ]
  },
  {
   "cell_type": "markdown",
   "metadata": {},
   "source": [
    "Write down the information about densoviruses from this study"
   ]
  },
  {
   "cell_type": "code",
   "execution_count": 136,
   "metadata": {},
   "outputs": [],
   "source": [
    "# Step 1: Read the existing TSV file into a DataFrame\n",
    "df_existing = pd.read_csv('phylogenomics/metadata/medium_well_metadata.tsv', sep='\\t')\n",
    "\n",
    "# Step 2: Create a DataFrame for the new rows\n",
    "new_rows = {\n",
    "    'Name': ['Densovirus_D1', 'Densovirus_D2', 'Densovirus_D3', 'Densovirus_D4', 'Densovirus_D5',\n",
    "             'Densovirus_P1', 'Densovirus_P2', 'Densovirus_P3', 'Densovirus_P4', 'Densovirus_P5'],\n",
    "    'Full.Name': ['Densovirinae sp. isolate RBHC_VM_1', 'Densovirinae sp. isolate RBHC_VM_2', 'Densovirinae sp. isolate RBHC_VM_3', \n",
    "                  'Densovirinae sp. isolate RBHC_VM_4', 'Densovirinae sp. isolate RBHC_VM_5', 'Densovirinae sp. isolate RBHC_NN_1', \n",
    "                  'Densovirinae sp. isolate RBHC_NN_2', 'Densovirinae sp. isolate RBHC_NN_3', 'Densovirinae sp. isolate RBHC_NN_4', \n",
    "                  'Densovirinae sp. isolate RBHC_NN_5'],\n",
    "    'Country': ['Russia'] * 10,\n",
    "    'Year': [2024] * 10,\n",
    "    'Host': ['Bat'] * 10\n",
    "}\n",
    "\n",
    "df_new = pd.DataFrame(new_rows)\n",
    "\n",
    "# Step 3: Concatenate the new DataFrame with the existing DataFrame\n",
    "df_combined = pd.concat([df_existing, df_new], ignore_index=True)\n",
    "\n",
    "# Step 4: Save the updated DataFrame to a new TSV file (optional)\n",
    "df_combined.to_csv('phylogenomics/metadata/well_done_metadata.tsv', sep='\\t', index=False)"
   ]
  },
  {
   "cell_type": "markdown",
   "metadata": {},
   "source": [
    "### **Part 6.10. Phylogenetic trees visualization**"
   ]
  },
  {
   "cell_type": "markdown",
   "metadata": {},
   "source": [
    "Please open `RStudio` and go through  `ggtree_journal.R` script<br>\n",
    "There are a lot of manual adjustments to the plots to make it executable"
   ]
  },
  {
   "cell_type": "markdown",
   "metadata": {},
   "source": [
    "### **Part 6.11. Prepare SP2 gene MSA for visualization**"
   ]
  },
  {
   "cell_type": "code",
   "execution_count": 137,
   "metadata": {},
   "outputs": [
    {
     "name": "stdout",
     "output_type": "stream",
     "text": [
      "Sequences renamed and saved to: phylogenomics/trimmed_MSAs/IG/trimmed_family1_renamed.seq.aln\n"
     ]
    }
   ],
   "source": [
    "rename_map = {\n",
    "    \"Densovirus_D1\": \"Densovirinae sp. isolate RBHC_VM_1\",\n",
    "    \"Densovirus_D2\": \"Densovirinae sp. isolate RBHC_VM_2\",\n",
    "    \"Densovirus_D3\": \"Densovirinae sp. isolate RBHC_VM_3\",\n",
    "    \"Densovirus_D4\": \"Densovirinae sp. isolate RBHC_VM_4\",\n",
    "    \"Densovirus_D5\": \"Densovirinae sp. isolate RBHC_VM_5\",\n",
    "    \"Densovirus_P1\": \"Densovirinae sp. isolate RBHC_NN_1\",\n",
    "    \"Densovirus_P2\": \"Densovirinae sp. isolate RBHC_NN_2\",\n",
    "    \"Densovirus_P3\": \"Densovirinae sp. isolate RBHC_NN_3\",\n",
    "    \"Densovirus_P4\": \"Densovirinae sp. isolate RBHC_NN_4\",\n",
    "    \"Densovirus_P5\": \"Densovirinae sp. isolate RBHC_NN_5\",\n",
    "    \"NC_031450.1\": \"NC_031450.1 Parus major densovirus\",\n",
    "    \"MW628494.1\": \"MW628494.1 Tenebrio molitor densovirus T2002773\"\n",
    "}\n",
    "\n",
    "input_file = \"phylogenomics/trimmed_MSAs/IG/trimmed_family1.seq.aln\"\n",
    "output_file = \"phylogenomics/trimmed_MSAs/IG/trimmed_family1_renamed.seq.aln\"\n",
    "\n",
    "with open(output_file, \"w\") as output_handle:\n",
    "    for record in SeqIO.parse(input_file, \"fasta\"):\n",
    "        if record.id in rename_map:\n",
    "            record.id = rename_map[record.id]\n",
    "            record.description = \"\"\n",
    "        SeqIO.write(record, output_handle, \"fasta\")\n",
    "\n",
    "print(\"Sequences renamed and saved to:\", output_file)"
   ]
  },
  {
   "cell_type": "markdown",
   "metadata": {},
   "source": [
    "### **Part 6.12. SP2 MSA visualization**"
   ]
  },
  {
   "cell_type": "markdown",
   "metadata": {},
   "source": [
    "Please open `RStudio` and go through  `ggmsa_journal.R` script<br>\n",
    "There are a lot of manual adjustments to the plots to make it executable"
   ]
  }
 ],
 "metadata": {
  "kernelspec": {
   "display_name": "denso",
   "language": "python",
   "name": "python3"
  },
  "language_info": {
   "codemirror_mode": {
    "name": "ipython",
    "version": 3
   },
   "file_extension": ".py",
   "mimetype": "text/x-python",
   "name": "python",
   "nbconvert_exporter": "python",
   "pygments_lexer": "ipython3",
   "version": "3.12.3"
  }
 },
 "nbformat": 4,
 "nbformat_minor": 2
}
